{
 "cells": [
  {
   "cell_type": "markdown",
   "metadata": {},
   "source": [
    "### Сборный проект"
   ]
  },
  {
   "cell_type": "markdown",
   "metadata": {},
   "source": [
    "#### Шаг 1. Откроем файл с данными и изучим общую информацию"
   ]
  },
  {
   "cell_type": "code",
   "execution_count": 1,
   "metadata": {},
   "outputs": [],
   "source": [
    "import pandas as pd\n",
    "import seaborn as sns\n",
    "import matplotlib.pyplot as plt \n",
    "from scipy import stats as st"
   ]
  },
  {
   "cell_type": "code",
   "execution_count": 2,
   "metadata": {
    "scrolled": false
   },
   "outputs": [
    {
     "name": "stdout",
     "output_type": "stream",
     "text": [
      "<class 'pandas.core.frame.DataFrame'>\n",
      "RangeIndex: 16715 entries, 0 to 16714\n",
      "Data columns (total 11 columns):\n",
      " #   Column           Non-Null Count  Dtype  \n",
      "---  ------           --------------  -----  \n",
      " 0   Name             16713 non-null  object \n",
      " 1   Platform         16715 non-null  object \n",
      " 2   Year_of_Release  16446 non-null  float64\n",
      " 3   Genre            16713 non-null  object \n",
      " 4   NA_sales         16715 non-null  float64\n",
      " 5   EU_sales         16715 non-null  float64\n",
      " 6   JP_sales         16715 non-null  float64\n",
      " 7   Other_sales      16715 non-null  float64\n",
      " 8   Critic_Score     8137 non-null   float64\n",
      " 9   User_Score       10014 non-null  object \n",
      " 10  Rating           9949 non-null   object \n",
      "dtypes: float64(6), object(5)\n",
      "memory usage: 1.4+ MB\n"
     ]
    },
    {
     "data": {
      "text/html": [
       "<div>\n",
       "<style scoped>\n",
       "    .dataframe tbody tr th:only-of-type {\n",
       "        vertical-align: middle;\n",
       "    }\n",
       "\n",
       "    .dataframe tbody tr th {\n",
       "        vertical-align: top;\n",
       "    }\n",
       "\n",
       "    .dataframe thead th {\n",
       "        text-align: right;\n",
       "    }\n",
       "</style>\n",
       "<table border=\"1\" class=\"dataframe\">\n",
       "  <thead>\n",
       "    <tr style=\"text-align: right;\">\n",
       "      <th></th>\n",
       "      <th>Name</th>\n",
       "      <th>Platform</th>\n",
       "      <th>Year_of_Release</th>\n",
       "      <th>Genre</th>\n",
       "      <th>NA_sales</th>\n",
       "      <th>EU_sales</th>\n",
       "      <th>JP_sales</th>\n",
       "      <th>Other_sales</th>\n",
       "      <th>Critic_Score</th>\n",
       "      <th>User_Score</th>\n",
       "      <th>Rating</th>\n",
       "    </tr>\n",
       "  </thead>\n",
       "  <tbody>\n",
       "    <tr>\n",
       "      <th>0</th>\n",
       "      <td>Wii Sports</td>\n",
       "      <td>Wii</td>\n",
       "      <td>2006.0</td>\n",
       "      <td>Sports</td>\n",
       "      <td>41.36</td>\n",
       "      <td>28.96</td>\n",
       "      <td>3.77</td>\n",
       "      <td>8.45</td>\n",
       "      <td>76.0</td>\n",
       "      <td>8</td>\n",
       "      <td>E</td>\n",
       "    </tr>\n",
       "    <tr>\n",
       "      <th>1</th>\n",
       "      <td>Super Mario Bros.</td>\n",
       "      <td>NES</td>\n",
       "      <td>1985.0</td>\n",
       "      <td>Platform</td>\n",
       "      <td>29.08</td>\n",
       "      <td>3.58</td>\n",
       "      <td>6.81</td>\n",
       "      <td>0.77</td>\n",
       "      <td>NaN</td>\n",
       "      <td>NaN</td>\n",
       "      <td>NaN</td>\n",
       "    </tr>\n",
       "    <tr>\n",
       "      <th>2</th>\n",
       "      <td>Mario Kart Wii</td>\n",
       "      <td>Wii</td>\n",
       "      <td>2008.0</td>\n",
       "      <td>Racing</td>\n",
       "      <td>15.68</td>\n",
       "      <td>12.76</td>\n",
       "      <td>3.79</td>\n",
       "      <td>3.29</td>\n",
       "      <td>82.0</td>\n",
       "      <td>8.3</td>\n",
       "      <td>E</td>\n",
       "    </tr>\n",
       "    <tr>\n",
       "      <th>3</th>\n",
       "      <td>Wii Sports Resort</td>\n",
       "      <td>Wii</td>\n",
       "      <td>2009.0</td>\n",
       "      <td>Sports</td>\n",
       "      <td>15.61</td>\n",
       "      <td>10.93</td>\n",
       "      <td>3.28</td>\n",
       "      <td>2.95</td>\n",
       "      <td>80.0</td>\n",
       "      <td>8</td>\n",
       "      <td>E</td>\n",
       "    </tr>\n",
       "    <tr>\n",
       "      <th>4</th>\n",
       "      <td>Pokemon Red/Pokemon Blue</td>\n",
       "      <td>GB</td>\n",
       "      <td>1996.0</td>\n",
       "      <td>Role-Playing</td>\n",
       "      <td>11.27</td>\n",
       "      <td>8.89</td>\n",
       "      <td>10.22</td>\n",
       "      <td>1.00</td>\n",
       "      <td>NaN</td>\n",
       "      <td>NaN</td>\n",
       "      <td>NaN</td>\n",
       "    </tr>\n",
       "  </tbody>\n",
       "</table>\n",
       "</div>"
      ],
      "text/plain": [
       "                       Name Platform  Year_of_Release         Genre  NA_sales  \\\n",
       "0                Wii Sports      Wii           2006.0        Sports     41.36   \n",
       "1         Super Mario Bros.      NES           1985.0      Platform     29.08   \n",
       "2            Mario Kart Wii      Wii           2008.0        Racing     15.68   \n",
       "3         Wii Sports Resort      Wii           2009.0        Sports     15.61   \n",
       "4  Pokemon Red/Pokemon Blue       GB           1996.0  Role-Playing     11.27   \n",
       "\n",
       "   EU_sales  JP_sales  Other_sales  Critic_Score User_Score Rating  \n",
       "0     28.96      3.77         8.45          76.0          8      E  \n",
       "1      3.58      6.81         0.77           NaN        NaN    NaN  \n",
       "2     12.76      3.79         3.29          82.0        8.3      E  \n",
       "3     10.93      3.28         2.95          80.0          8      E  \n",
       "4      8.89     10.22         1.00           NaN        NaN    NaN  "
      ]
     },
     "execution_count": 2,
     "metadata": {},
     "output_type": "execute_result"
    }
   ],
   "source": [
    "data = pd.read_csv('/datasets/games.csv')\n",
    "data.info()\n",
    "data.head()"
   ]
  },
  {
   "cell_type": "markdown",
   "metadata": {},
   "source": [
    "Мы выгрузили таблицу и присвоили переменной data, импортировали все необходимые библиотеки, которые будут нужны для дальнейшей работы. Далее мы с помощью метода info () проверили какие типы данные в каждом столбце и выяснили, что необходимо изменить тип данных в двух столбцах: Year_of_Release, User_Score. Названия всех столбцов необходимо привести к нижнему регистру."
   ]
  },
  {
   "cell_type": "markdown",
   "metadata": {},
   "source": [
    "#### Шаг 2. Предобработка данных"
   ]
  },
  {
   "cell_type": "markdown",
   "metadata": {},
   "source": [
    "##### Приведем названия столбцов к нижнему регистру."
   ]
  },
  {
   "cell_type": "code",
   "execution_count": 3,
   "metadata": {
    "scrolled": false
   },
   "outputs": [
    {
     "data": {
      "text/html": [
       "<div>\n",
       "<style scoped>\n",
       "    .dataframe tbody tr th:only-of-type {\n",
       "        vertical-align: middle;\n",
       "    }\n",
       "\n",
       "    .dataframe tbody tr th {\n",
       "        vertical-align: top;\n",
       "    }\n",
       "\n",
       "    .dataframe thead th {\n",
       "        text-align: right;\n",
       "    }\n",
       "</style>\n",
       "<table border=\"1\" class=\"dataframe\">\n",
       "  <thead>\n",
       "    <tr style=\"text-align: right;\">\n",
       "      <th></th>\n",
       "      <th>name</th>\n",
       "      <th>platform</th>\n",
       "      <th>year_of_release</th>\n",
       "      <th>genre</th>\n",
       "      <th>na_sales</th>\n",
       "      <th>eu_sales</th>\n",
       "      <th>jp_sales</th>\n",
       "      <th>other_sales</th>\n",
       "      <th>critic_score</th>\n",
       "      <th>user_score</th>\n",
       "      <th>rating</th>\n",
       "    </tr>\n",
       "  </thead>\n",
       "  <tbody>\n",
       "    <tr>\n",
       "      <th>0</th>\n",
       "      <td>Wii Sports</td>\n",
       "      <td>Wii</td>\n",
       "      <td>2006.0</td>\n",
       "      <td>Sports</td>\n",
       "      <td>41.36</td>\n",
       "      <td>28.96</td>\n",
       "      <td>3.77</td>\n",
       "      <td>8.45</td>\n",
       "      <td>76.0</td>\n",
       "      <td>8</td>\n",
       "      <td>E</td>\n",
       "    </tr>\n",
       "  </tbody>\n",
       "</table>\n",
       "</div>"
      ],
      "text/plain": [
       "         name platform  year_of_release   genre  na_sales  eu_sales  jp_sales  \\\n",
       "0  Wii Sports      Wii           2006.0  Sports     41.36     28.96      3.77   \n",
       "\n",
       "   other_sales  critic_score user_score rating  \n",
       "0         8.45          76.0          8      E  "
      ]
     },
     "execution_count": 3,
     "metadata": {},
     "output_type": "execute_result"
    }
   ],
   "source": [
    "data.columns = [x.lower() for x in data.columns]\n",
    "data.head(1)"
   ]
  },
  {
   "cell_type": "markdown",
   "metadata": {},
   "source": [
    "##### Проверим на наличияе дубликатов"
   ]
  },
  {
   "cell_type": "code",
   "execution_count": 4,
   "metadata": {},
   "outputs": [
    {
     "data": {
      "text/plain": [
       "0"
      ]
     },
     "execution_count": 4,
     "metadata": {},
     "output_type": "execute_result"
    }
   ],
   "source": [
    "data.duplicated().sum()"
   ]
  },
  {
   "cell_type": "markdown",
   "metadata": {},
   "source": [
    "##### Обработаем пропуски в столбцах"
   ]
  },
  {
   "cell_type": "code",
   "execution_count": 5,
   "metadata": {
    "scrolled": true
   },
   "outputs": [
    {
     "data": {
      "text/plain": [
       "name                  2\n",
       "platform              0\n",
       "year_of_release     269\n",
       "genre                 2\n",
       "na_sales              0\n",
       "eu_sales              0\n",
       "jp_sales              0\n",
       "other_sales           0\n",
       "critic_score       8578\n",
       "user_score         6701\n",
       "rating             6766\n",
       "dtype: int64"
      ]
     },
     "execution_count": 5,
     "metadata": {},
     "output_type": "execute_result"
    }
   ],
   "source": [
    "data.isna().sum()"
   ]
  },
  {
   "cell_type": "markdown",
   "metadata": {},
   "source": [
    "Пропуски в столбце 'name' отбросим, т.к. их всего два и достоверно восстановить значения мы не можем."
   ]
  },
  {
   "cell_type": "code",
   "execution_count": 6,
   "metadata": {},
   "outputs": [],
   "source": [
    "data = data.dropna(subset = ['name'])"
   ]
  },
  {
   "cell_type": "markdown",
   "metadata": {},
   "source": [
    "Пропуски в столбце 'year_of_release' можем заполнить медианным годом выхода этой же игры на других платформах (если он есть). Если медианное значение получается не целым, при дальшейшем преобразовании типа данных столбца округлим до меньшего целого. Оставшиеся пропуски в этом столбце отбросим, т.к. данные без года выпуска игры нам не пригодятся."
   ]
  },
  {
   "cell_type": "code",
   "execution_count": 7,
   "metadata": {},
   "outputs": [],
   "source": [
    "for i in data['name'].unique():\n",
    "    data.loc[(data['name'] == i) & (data['year_of_release'].isna()), 'year_of_release'] = data.loc[(data['name'] == i) & (data['year_of_release'].notna()), 'year_of_release'].median()\n",
    "data['year_of_release'].dropna(inplace=True)"
   ]
  },
  {
   "cell_type": "markdown",
   "metadata": {},
   "source": [
    "Столбец rating содержит данные с возрастным рейтингом от организации ESRB, которая действует только в Северной Америке (NA), пропуски в этом столбце могут означать либо, что игру не планировалось выпускать на NA рынок, либо что оценка просто не была произведена, т.к. это необязательная процедура.  \n",
    "Оставим пропуски."
   ]
  },
  {
   "cell_type": "markdown",
   "metadata": {},
   "source": [
    "Пропуски в столбце с оценками критиков (critic_score) мы не можем достоверно восполнить, оставим строки с пропусками."
   ]
  },
  {
   "cell_type": "markdown",
   "metadata": {},
   "source": [
    "Изучим уникальные значения в столбце с оценками пользователей (user_score)"
   ]
  },
  {
   "cell_type": "code",
   "execution_count": 8,
   "metadata": {},
   "outputs": [
    {
     "data": {
      "text/plain": [
       "array(['8', nan, '8.3', '8.5', '6.6', '8.4', '8.6', '7.7', '6.3', '7.4',\n",
       "       '8.2', '9', '7.9', '8.1', '8.7', '7.1', '3.4', '5.3', '4.8', '3.2',\n",
       "       '8.9', '6.4', '7.8', '7.5', '2.6', '7.2', '9.2', '7', '7.3', '4.3',\n",
       "       '7.6', '5.7', '5', '9.1', '6.5', 'tbd', '8.8', '6.9', '9.4', '6.8',\n",
       "       '6.1', '6.7', '5.4', '4', '4.9', '4.5', '9.3', '6.2', '4.2', '6',\n",
       "       '3.7', '4.1', '5.8', '5.6', '5.5', '4.4', '4.6', '5.9', '3.9',\n",
       "       '3.1', '2.9', '5.2', '3.3', '4.7', '5.1', '3.5', '2.5', '1.9', '3',\n",
       "       '2.7', '2.2', '2', '9.5', '2.1', '3.6', '2.8', '1.8', '3.8', '0',\n",
       "       '1.6', '9.6', '2.4', '1.7', '1.1', '0.3', '1.5', '0.7', '1.2',\n",
       "       '2.3', '0.5', '1.3', '0.2', '0.6', '1.4', '0.9', '1', '9.7'],\n",
       "      dtype=object)"
      ]
     },
     "execution_count": 8,
     "metadata": {},
     "output_type": "execute_result"
    }
   ],
   "source": [
    "data['user_score'].unique()"
   ]
  },
  {
   "cell_type": "markdown",
   "metadata": {},
   "source": [
    "значение tbd (расшифровывается как \"to be defined\") означает, что по какой-то причине оценка не была произведена. Заменим это значение и Nan на 11.11 (заведомо неправильное значение при рейтинге до 10.0), при дальшейшем анализе, испульзуя данный столбец, эти значения мы отбросим (пока нам пригодится остальная информация из этих строк, поэтому удалять не будем)."
   ]
  },
  {
   "cell_type": "code",
   "execution_count": 9,
   "metadata": {},
   "outputs": [],
   "source": [
    "data.loc[data['user_score'] == 'tbd', 'user_score'] = '11.1'\n",
    "data['user_score'].fillna('11.11', inplace=True)"
   ]
  },
  {
   "cell_type": "markdown",
   "metadata": {},
   "source": [
    "##### Преобразуем данные в нужные типы. "
   ]
  },
  {
   "cell_type": "code",
   "execution_count": 10,
   "metadata": {},
   "outputs": [
    {
     "name": "stdout",
     "output_type": "stream",
     "text": [
      "<class 'pandas.core.frame.DataFrame'>\n",
      "Int64Index: 16713 entries, 0 to 16714\n",
      "Data columns (total 11 columns):\n",
      " #   Column           Non-Null Count  Dtype  \n",
      "---  ------           --------------  -----  \n",
      " 0   name             16713 non-null  object \n",
      " 1   platform         16713 non-null  object \n",
      " 2   year_of_release  16567 non-null  float64\n",
      " 3   genre            16713 non-null  object \n",
      " 4   na_sales         16713 non-null  float64\n",
      " 5   eu_sales         16713 non-null  float64\n",
      " 6   jp_sales         16713 non-null  float64\n",
      " 7   other_sales      16713 non-null  float64\n",
      " 8   critic_score     8137 non-null   float64\n",
      " 9   user_score       16713 non-null  object \n",
      " 10  rating           9949 non-null   object \n",
      "dtypes: float64(6), object(5)\n",
      "memory usage: 1.5+ MB\n"
     ]
    }
   ],
   "source": [
    "data.info()"
   ]
  },
  {
   "cell_type": "markdown",
   "metadata": {},
   "source": [
    "Столбцы \"year_of_release\" сожержат целочисленные значения, подойдет тип данных int64."
   ]
  },
  {
   "cell_type": "code",
   "execution_count": 11,
   "metadata": {},
   "outputs": [],
   "source": [
    "data['year_of_release'] = data['year_of_release'].round(0).astype('Int64')"
   ]
  },
  {
   "cell_type": "markdown",
   "metadata": {},
   "source": [
    "Столбец 'critic_score' содержит целочисленные значения, но для дальнейшего рассчета корреляции нам понадобится тип float. Поэтому оставим этот тип данных в столбце."
   ]
  },
  {
   "cell_type": "markdown",
   "metadata": {},
   "source": [
    "столбец \"user_score\" содержит числа с плавающей точкой, поменяем тип данных на float64."
   ]
  },
  {
   "cell_type": "code",
   "execution_count": 12,
   "metadata": {},
   "outputs": [],
   "source": [
    "data['user_score'] = pd.to_numeric(data['user_score'], errors='raise')"
   ]
  },
  {
   "cell_type": "markdown",
   "metadata": {},
   "source": [
    "Тип данных в остальных столбцах нас устраивает."
   ]
  },
  {
   "cell_type": "code",
   "execution_count": 13,
   "metadata": {},
   "outputs": [
    {
     "name": "stdout",
     "output_type": "stream",
     "text": [
      "<class 'pandas.core.frame.DataFrame'>\n",
      "Int64Index: 16713 entries, 0 to 16714\n",
      "Data columns (total 11 columns):\n",
      " #   Column           Non-Null Count  Dtype  \n",
      "---  ------           --------------  -----  \n",
      " 0   name             16713 non-null  object \n",
      " 1   platform         16713 non-null  object \n",
      " 2   year_of_release  16567 non-null  Int64  \n",
      " 3   genre            16713 non-null  object \n",
      " 4   na_sales         16713 non-null  float64\n",
      " 5   eu_sales         16713 non-null  float64\n",
      " 6   jp_sales         16713 non-null  float64\n",
      " 7   other_sales      16713 non-null  float64\n",
      " 8   critic_score     8137 non-null   float64\n",
      " 9   user_score       16713 non-null  float64\n",
      " 10  rating           9949 non-null   object \n",
      "dtypes: Int64(1), float64(6), object(4)\n",
      "memory usage: 1.5+ MB\n"
     ]
    }
   ],
   "source": [
    "data.info()"
   ]
  },
  {
   "cell_type": "markdown",
   "metadata": {},
   "source": [
    " #### Шаг 3. Исследовательский анализ данных"
   ]
  },
  {
   "cell_type": "markdown",
   "metadata": {},
   "source": [
    "##### Посмотрим сколько игр выпускалось в разные годы."
   ]
  },
  {
   "cell_type": "code",
   "execution_count": 14,
   "metadata": {},
   "outputs": [
    {
     "data": {
      "image/png": "[encoded data removed]",
      "text/plain": [
       "<Figure size 792x360 with 1 Axes>"
      ]
     },
     "metadata": {
      "needs_background": "light"
     },
     "output_type": "display_data"
    }
   ],
   "source": []
  },
  {
   "cell_type": "markdown",
   "metadata": {},
   "source": [
    "Развитие игровой индустрии сильно связано с появлением Pentium 1 в 1994 году, примерно с этого момента количество игровых платформ, а также и самих игр стремительно росло (с пиком в 2007 г.). Однако после 2007 г. наблюдается спад в количестве выпускаемых игр, который можно связать с тем, что в следствие развития индустрии и сильной конкуренции, упор стал делаться на создание больших и проработанных игр, в которые пользователи могут играть по несколько лет. Выражаясь другими словами, качество стало важнее количества.  \n",
    "Данные до 1994 года являются неактуальными и немногочисленными, что позволяет нам смело отбросить временной промежуток до 1994 г."
   ]
  },
  {
   "cell_type": "code",
   "execution_count": 15,
   "metadata": {},
   "outputs": [],
   "source": [
    "data = data.query('year_of_release >=1994')"
   ]
  },
  {
   "cell_type": "markdown",
   "metadata": {},
   "source": [
    "Добавим столбец 'sum_sales'  с суммарными продажами по всем регионам для каждой игры."
   ]
  },
  {
   "cell_type": "code",
   "execution_count": 16,
   "metadata": {},
   "outputs": [],
   "source": [
    "data['sum_sales'] = data['na_sales'] +data['eu_sales'] + data['jp_sales'] + data['other_sales']"
   ]
  },
  {
   "cell_type": "markdown",
   "metadata": {},
   "source": [
    "#####  Посмотрим как менялись продажи по платформам. Выберем платформы с наибольшими суммарными продажами и постройм распределение по годам. "
   ]
  },
  {
   "cell_type": "code",
   "execution_count": 17,
   "metadata": {},
   "outputs": [
    {
     "data": {
      "text/html": [
       "<div>\n",
       "<style scoped>\n",
       "    .dataframe tbody tr th:only-of-type {\n",
       "        vertical-align: middle;\n",
       "    }\n",
       "\n",
       "    .dataframe tbody tr th {\n",
       "        vertical-align: top;\n",
       "    }\n",
       "\n",
       "    .dataframe thead th {\n",
       "        text-align: right;\n",
       "    }\n",
       "</style>\n",
       "<table border=\"1\" class=\"dataframe\">\n",
       "  <thead>\n",
       "    <tr style=\"text-align: right;\">\n",
       "      <th></th>\n",
       "      <th>sales</th>\n",
       "    </tr>\n",
       "    <tr>\n",
       "      <th>platform</th>\n",
       "      <th></th>\n",
       "    </tr>\n",
       "  </thead>\n",
       "  <tbody>\n",
       "    <tr>\n",
       "      <th>PS2</th>\n",
       "      <td>1247.16</td>\n",
       "    </tr>\n",
       "    <tr>\n",
       "      <th>X360</th>\n",
       "      <td>966.61</td>\n",
       "    </tr>\n",
       "    <tr>\n",
       "      <th>PS3</th>\n",
       "      <td>935.19</td>\n",
       "    </tr>\n",
       "    <tr>\n",
       "      <th>Wii</th>\n",
       "      <td>903.31</td>\n",
       "    </tr>\n",
       "    <tr>\n",
       "      <th>DS</th>\n",
       "      <td>804.26</td>\n",
       "    </tr>\n",
       "    <tr>\n",
       "      <th>PS</th>\n",
       "      <td>727.58</td>\n",
       "    </tr>\n",
       "    <tr>\n",
       "      <th>PS4</th>\n",
       "      <td>314.14</td>\n",
       "    </tr>\n",
       "    <tr>\n",
       "      <th>GBA</th>\n",
       "      <td>313.73</td>\n",
       "    </tr>\n",
       "    <tr>\n",
       "      <th>PSP</th>\n",
       "      <td>293.57</td>\n",
       "    </tr>\n",
       "    <tr>\n",
       "      <th>3DS</th>\n",
       "      <td>258.53</td>\n",
       "    </tr>\n",
       "  </tbody>\n",
       "</table>\n",
       "</div>"
      ],
      "text/plain": [
       "            sales\n",
       "platform         \n",
       "PS2       1247.16\n",
       "X360       966.61\n",
       "PS3        935.19\n",
       "Wii        903.31\n",
       "DS         804.26\n",
       "PS         727.58\n",
       "PS4        314.14\n",
       "GBA        313.73\n",
       "PSP        293.57\n",
       "3DS        258.53"
      ]
     },
     "execution_count": 17,
     "metadata": {},
     "output_type": "execute_result"
    }
   ],
   "source": [
    "platforms = data.pivot_table(index='platform', values='sum_sales', aggfunc='sum')\n",
    "platforms.columns = ['sales']\n",
    "platforms.sort_values(by = 'sales', ascending=False, inplace=True)\n",
    "platforms.head(10)"
   ]
  },
  {
   "cell_type": "markdown",
   "metadata": {},
   "source": [
    "Возьмем первые 6 платформ с самыми большими суммарными продажами (PS2, X360, PS3, Wii, DS, PS) и построим распределение продаж по годам для каждой платформы."
   ]
  },
  {
   "cell_type": "code",
   "execution_count": 18,
   "metadata": {},
   "outputs": [
    {
     "data": {
      "text/plain": [
       "Text(0.5, 1.0, 'Распределение суммарных продаж топ-6 платформ по годам')"
      ]
     },
     "execution_count": 18,
     "metadata": {},
     "output_type": "execute_result"
    },
    {
     "data": {
      "image/png": "[encoded data removed]",
      "text/plain": [
       "<Figure size 1080x504 with 1 Axes>"
      ]
     },
     "metadata": {
      "needs_background": "light"
     },
     "output_type": "display_data"
    }
   ],
   "source": [
    "top_list = [\"PS\", \"PS2\", \"PS3\", \"X360\", \"Wii\", \"DS\"]\n",
    "\n",
    "ax = data.query('platform in @top_list').pivot_table(index='year_of_release', columns = 'platform', values='sum_sales', aggfunc='sum').plot(grid=True, figsize=(15, 7))\n",
    "ax.set_xlabel('Год')\n",
    "ax.set_ylabel('Суммарные продажи')\n",
    "ax.set_title('Распределение суммарных продаж топ-6 платформ по годам')"
   ]
  },
  {
   "cell_type": "markdown",
   "metadata": {},
   "source": [
    "PS - Просуществовала в период от 1994 г. до 2003 г. (9 лет, с пиком популярности в 1998 г.). PS2 появилась в 2000 г. и довольно быстро вытеснила PS, просуществовала до 2010 года (10 лет), постепенно уступая в популярности вышедшей в 2006 г. PS3, которая в свою очередь была популярна до 2013 года (7 лет), что можно связать с выходом PS4. Судя по этим данным, срок актуальности одного поколения игровой консоли PlayStation состовляет от 7 до 10 лет.   \n",
    "X360 - Появилась в 2005 г. с пиком популярности в 2010 г., после 2014 года (вплоть до настоящего мемента)  объем выпускаемых игр существенно снизился.  \n",
    "Wii - Была популярна с 2006 г., после 2012 года (вплоть до настоящего момента) объем выпускаемых игр существенно снизился.  \n",
    "DS - Появилась в 2004 г. и просуществовала до 2013 г. \n",
    "\n",
    "В целом можно заключить, что \"срок жизни\" консоли не превышает 10 лет, и судя по всему частота выхода новых консолей будет в дальнейшем только наростать. "
   ]
  },
  {
   "cell_type": "markdown",
   "metadata": {},
   "source": [
    "##### Определим актуальный период для дальнейшего составления прогноза"
   ]
  },
  {
   "cell_type": "markdown",
   "metadata": {},
   "source": [
    "Учитывая динамически меняющийся характер игровой индустрии, актуальным периодом можно обозначить промежуток с 2014 года до 2016 года (с начала спада рынка до настоящего времени)\n",
    "\n",
    "Данные до 2014 года отбросим."
   ]
  },
  {
   "cell_type": "code",
   "execution_count": 19,
   "metadata": {},
   "outputs": [],
   "source": [
    "data = data.query('year_of_release >=2014')"
   ]
  },
  {
   "cell_type": "markdown",
   "metadata": {},
   "source": [
    "##### Определим какие платформы лидируют по продажам. Выберем несколько потенциально прибыльных платформ."
   ]
  },
  {
   "cell_type": "markdown",
   "metadata": {},
   "source": [
    "Рассмотрим 2016 год."
   ]
  },
  {
   "cell_type": "code",
   "execution_count": 20,
   "metadata": {},
   "outputs": [
    {
     "data": {
      "text/html": [
       "<div>\n",
       "<style scoped>\n",
       "    .dataframe tbody tr th:only-of-type {\n",
       "        vertical-align: middle;\n",
       "    }\n",
       "\n",
       "    .dataframe tbody tr th {\n",
       "        vertical-align: top;\n",
       "    }\n",
       "\n",
       "    .dataframe thead th {\n",
       "        text-align: right;\n",
       "    }\n",
       "</style>\n",
       "<table border=\"1\" class=\"dataframe\">\n",
       "  <thead>\n",
       "    <tr style=\"text-align: right;\">\n",
       "      <th></th>\n",
       "      <th>platform</th>\n",
       "      <th>sales</th>\n",
       "    </tr>\n",
       "  </thead>\n",
       "  <tbody>\n",
       "    <tr>\n",
       "      <th>3</th>\n",
       "      <td>PS4</td>\n",
       "      <td>69.25</td>\n",
       "    </tr>\n",
       "    <tr>\n",
       "      <th>8</th>\n",
       "      <td>XOne</td>\n",
       "      <td>26.15</td>\n",
       "    </tr>\n",
       "    <tr>\n",
       "      <th>0</th>\n",
       "      <td>3DS</td>\n",
       "      <td>15.14</td>\n",
       "    </tr>\n",
       "    <tr>\n",
       "      <th>1</th>\n",
       "      <td>PC</td>\n",
       "      <td>5.25</td>\n",
       "    </tr>\n",
       "    <tr>\n",
       "      <th>6</th>\n",
       "      <td>WiiU</td>\n",
       "      <td>4.60</td>\n",
       "    </tr>\n",
       "    <tr>\n",
       "      <th>4</th>\n",
       "      <td>PSV</td>\n",
       "      <td>4.25</td>\n",
       "    </tr>\n",
       "    <tr>\n",
       "      <th>2</th>\n",
       "      <td>PS3</td>\n",
       "      <td>3.60</td>\n",
       "    </tr>\n",
       "    <tr>\n",
       "      <th>7</th>\n",
       "      <td>X360</td>\n",
       "      <td>1.52</td>\n",
       "    </tr>\n",
       "    <tr>\n",
       "      <th>5</th>\n",
       "      <td>Wii</td>\n",
       "      <td>0.18</td>\n",
       "    </tr>\n",
       "  </tbody>\n",
       "</table>\n",
       "</div>"
      ],
      "text/plain": [
       "  platform  sales\n",
       "3      PS4  69.25\n",
       "8     XOne  26.15\n",
       "0      3DS  15.14\n",
       "1       PC   5.25\n",
       "6     WiiU   4.60\n",
       "4      PSV   4.25\n",
       "2      PS3   3.60\n",
       "7     X360   1.52\n",
       "5      Wii   0.18"
      ]
     },
     "execution_count": 20,
     "metadata": {},
     "output_type": "execute_result"
    }
   ],
   "source": [
    "data_2016 = (data.query('year_of_release == 2016')\n",
    "               .pivot_table(index='platform', values = 'sum_sales', aggfunc = 'sum')\n",
    "               .reset_index()\n",
    "          )\n",
    "data_2016.columns = ['platform','sales']\n",
    "data_2016.sort_values(by = 'sales', ascending=False, inplace=True)\n",
    "data_2016"
   ]
  },
  {
   "cell_type": "markdown",
   "metadata": {},
   "source": [
    "Самая продающая (с большим отрывом) платформа на данный момент это PS4. Затем следуют XOne (2-е место) и 3DS (3-е местро)."
   ]
  },
  {
   "cell_type": "markdown",
   "metadata": {},
   "source": [
    "А теперь для сравнения посмотрим данные за 2015 и 2014 годы."
   ]
  },
  {
   "cell_type": "code",
   "execution_count": 21,
   "metadata": {},
   "outputs": [
    {
     "data": {
      "text/html": [
       "<div>\n",
       "<style scoped>\n",
       "    .dataframe tbody tr th:only-of-type {\n",
       "        vertical-align: middle;\n",
       "    }\n",
       "\n",
       "    .dataframe tbody tr th {\n",
       "        vertical-align: top;\n",
       "    }\n",
       "\n",
       "    .dataframe thead th {\n",
       "        text-align: right;\n",
       "    }\n",
       "</style>\n",
       "<table border=\"1\" class=\"dataframe\">\n",
       "  <thead>\n",
       "    <tr style=\"text-align: right;\">\n",
       "      <th></th>\n",
       "      <th>platform</th>\n",
       "      <th>sales</th>\n",
       "    </tr>\n",
       "  </thead>\n",
       "  <tbody>\n",
       "    <tr>\n",
       "      <th>3</th>\n",
       "      <td>PS4</td>\n",
       "      <td>118.90</td>\n",
       "    </tr>\n",
       "    <tr>\n",
       "      <th>9</th>\n",
       "      <td>XOne</td>\n",
       "      <td>60.14</td>\n",
       "    </tr>\n",
       "    <tr>\n",
       "      <th>0</th>\n",
       "      <td>3DS</td>\n",
       "      <td>27.78</td>\n",
       "    </tr>\n",
       "    <tr>\n",
       "      <th>2</th>\n",
       "      <td>PS3</td>\n",
       "      <td>16.82</td>\n",
       "    </tr>\n",
       "    <tr>\n",
       "      <th>7</th>\n",
       "      <td>WiiU</td>\n",
       "      <td>16.35</td>\n",
       "    </tr>\n",
       "    <tr>\n",
       "      <th>8</th>\n",
       "      <td>X360</td>\n",
       "      <td>11.96</td>\n",
       "    </tr>\n",
       "    <tr>\n",
       "      <th>1</th>\n",
       "      <td>PC</td>\n",
       "      <td>8.52</td>\n",
       "    </tr>\n",
       "    <tr>\n",
       "      <th>5</th>\n",
       "      <td>PSV</td>\n",
       "      <td>6.25</td>\n",
       "    </tr>\n",
       "    <tr>\n",
       "      <th>6</th>\n",
       "      <td>Wii</td>\n",
       "      <td>1.14</td>\n",
       "    </tr>\n",
       "    <tr>\n",
       "      <th>4</th>\n",
       "      <td>PSP</td>\n",
       "      <td>0.12</td>\n",
       "    </tr>\n",
       "  </tbody>\n",
       "</table>\n",
       "</div>"
      ],
      "text/plain": [
       "  platform   sales\n",
       "3      PS4  118.90\n",
       "9     XOne   60.14\n",
       "0      3DS   27.78\n",
       "2      PS3   16.82\n",
       "7     WiiU   16.35\n",
       "8     X360   11.96\n",
       "1       PC    8.52\n",
       "5      PSV    6.25\n",
       "6      Wii    1.14\n",
       "4      PSP    0.12"
      ]
     },
     "execution_count": 21,
     "metadata": {},
     "output_type": "execute_result"
    }
   ],
   "source": [
    "data_2015 = (data.query('year_of_release == 2015')\n",
    "               .pivot_table(index='platform', values = 'sum_sales', aggfunc = 'sum')\n",
    "               .reset_index()\n",
    "          )\n",
    "data_2015.columns = ['platform','sales']\n",
    "data_2015.sort_values(by = 'sales', ascending=False, inplace=True)\n",
    "data_2015"
   ]
  },
  {
   "cell_type": "markdown",
   "metadata": {},
   "source": [
    "и за 2014 год"
   ]
  },
  {
   "cell_type": "code",
   "execution_count": 22,
   "metadata": {},
   "outputs": [
    {
     "data": {
      "text/html": [
       "<div>\n",
       "<style scoped>\n",
       "    .dataframe tbody tr th:only-of-type {\n",
       "        vertical-align: middle;\n",
       "    }\n",
       "\n",
       "    .dataframe tbody tr th {\n",
       "        vertical-align: top;\n",
       "    }\n",
       "\n",
       "    .dataframe thead th {\n",
       "        text-align: right;\n",
       "    }\n",
       "</style>\n",
       "<table border=\"1\" class=\"dataframe\">\n",
       "  <thead>\n",
       "    <tr style=\"text-align: right;\">\n",
       "      <th></th>\n",
       "      <th>platform</th>\n",
       "      <th>sales</th>\n",
       "    </tr>\n",
       "  </thead>\n",
       "  <tbody>\n",
       "    <tr>\n",
       "      <th>3</th>\n",
       "      <td>PS4</td>\n",
       "      <td>100.00</td>\n",
       "    </tr>\n",
       "    <tr>\n",
       "      <th>9</th>\n",
       "      <td>XOne</td>\n",
       "      <td>54.07</td>\n",
       "    </tr>\n",
       "    <tr>\n",
       "      <th>2</th>\n",
       "      <td>PS3</td>\n",
       "      <td>47.76</td>\n",
       "    </tr>\n",
       "    <tr>\n",
       "      <th>0</th>\n",
       "      <td>3DS</td>\n",
       "      <td>43.76</td>\n",
       "    </tr>\n",
       "    <tr>\n",
       "      <th>8</th>\n",
       "      <td>X360</td>\n",
       "      <td>34.74</td>\n",
       "    </tr>\n",
       "    <tr>\n",
       "      <th>7</th>\n",
       "      <td>WiiU</td>\n",
       "      <td>22.03</td>\n",
       "    </tr>\n",
       "    <tr>\n",
       "      <th>1</th>\n",
       "      <td>PC</td>\n",
       "      <td>13.63</td>\n",
       "    </tr>\n",
       "    <tr>\n",
       "      <th>5</th>\n",
       "      <td>PSV</td>\n",
       "      <td>11.90</td>\n",
       "    </tr>\n",
       "    <tr>\n",
       "      <th>6</th>\n",
       "      <td>Wii</td>\n",
       "      <td>3.75</td>\n",
       "    </tr>\n",
       "    <tr>\n",
       "      <th>4</th>\n",
       "      <td>PSP</td>\n",
       "      <td>0.24</td>\n",
       "    </tr>\n",
       "  </tbody>\n",
       "</table>\n",
       "</div>"
      ],
      "text/plain": [
       "  platform   sales\n",
       "3      PS4  100.00\n",
       "9     XOne   54.07\n",
       "2      PS3   47.76\n",
       "0      3DS   43.76\n",
       "8     X360   34.74\n",
       "7     WiiU   22.03\n",
       "1       PC   13.63\n",
       "5      PSV   11.90\n",
       "6      Wii    3.75\n",
       "4      PSP    0.24"
      ]
     },
     "execution_count": 22,
     "metadata": {},
     "output_type": "execute_result"
    }
   ],
   "source": [
    "data_2014 = (data.query('year_of_release == 2014')\n",
    "               .pivot_table(index='platform', values = 'sum_sales', aggfunc = 'sum')\n",
    "               .reset_index()\n",
    "          )\n",
    "data_2014.columns = ['platform', 'sales']\n",
    "data_2014.sort_values(by = 'sales', ascending=False, inplace=True)\n",
    "data_2014"
   ]
  },
  {
   "cell_type": "markdown",
   "metadata": {},
   "source": [
    "Продажи в 2016 году на всех предоставленных платформах ниже, по сравнению с 2015 годом, что может говорить о кризисе рынка игровой индустрии в целом или о неполноте данных за 2016 год."
   ]
  },
  {
   "cell_type": "markdown",
   "metadata": {},
   "source": [
    "Учитывая, что данные за 2016 год неполные. Для лучшего выявления растущих по продажам платформ, сравним вместе данные за 2014 г. и за 2015 г."
   ]
  },
  {
   "cell_type": "code",
   "execution_count": 23,
   "metadata": {},
   "outputs": [
    {
     "data": {
      "image/png": "[encoded data removed]",
      "text/plain": [
       "<Figure size 864x288 with 1 Axes>"
      ]
     },
     "metadata": {
      "needs_background": "light"
     },
     "output_type": "display_data"
    }
   ],
   "source": [
    "data_years=data_2015.merge(data_2014, on='platform', how='left', suffixes=('2015', '2014'))\n",
    "ax = data_years.plot.bar(x='platform', figsize=(12,4));\n",
    "ax.set_title('Сравнение суммарных продаж по платформам за 2014 и 2015 годы');\n",
    "ax.set_ylabel('Суммарные продажи');\n",
    "ax.set_xlabel('Платформы');"
   ]
  },
  {
   "cell_type": "markdown",
   "metadata": {},
   "source": [
    "По данному графику видно, что лишь у двух платформ (PS4 и X0ne) продажи за 2015г. превысили продажи за 2014г. Можно определить их как самые потенциально выгодные."
   ]
  },
  {
   "cell_type": "markdown",
   "metadata": {},
   "source": [
    "##### Построим график «ящик с усами» по глобальным продажам игр в разбивке по платформам. "
   ]
  },
  {
   "cell_type": "markdown",
   "metadata": {},
   "source": [
    "Построим \"ящик с усами\""
   ]
  },
  {
   "cell_type": "code",
   "execution_count": 24,
   "metadata": {},
   "outputs": [
    {
     "data": {
      "image/png": "[encoded data removed]",
      "text/plain": [
       "<Figure size 720x720 with 1 Axes>"
      ]
     },
     "metadata": {
      "needs_background": "light"
     },
     "output_type": "display_data"
    }
   ],
   "source": [
    "ax = data.boxplot(column='sum_sales', by='platform', figsize=(10,10), showfliers=False)\n",
    "ax.set_title('Ящик с усами');\n",
    "ax.set_ylabel('Суммарные продажи');\n",
    "ax.set_xlabel('Платформы');\n",
    "plt.show()"
   ]
  },
  {
   "cell_type": "markdown",
   "metadata": {},
   "source": [
    "Медианные продажи довольно сильно отличаются от платформе к платформе. Лидирует XOne, затем идут WiiU, PS4, Wii и X360."
   ]
  },
  {
   "cell_type": "markdown",
   "metadata": {},
   "source": [
    "##### Посмотрим, как влияют на продажи внутри одной популярной платформы отзывы пользователей и критиков. Построем диаграмму рассеяния и посчитаем корреляцию между отзывами и продажами. "
   ]
  },
  {
   "cell_type": "markdown",
   "metadata": {},
   "source": [
    "Для анализа возьмем самую популярную платформу на данный момент - PS4. Построим диаграмму рассеяния, и посчитаем коэффициент корреляции между оценками пользователей и суммарными продажами игр."
   ]
  },
  {
   "cell_type": "code",
   "execution_count": 25,
   "metadata": {},
   "outputs": [
    {
     "name": "stdout",
     "output_type": "stream",
     "text": [
      "-0.07215944542890686\n"
     ]
    },
    {
     "data": {
      "image/png": "[encoded data removed]",
      "text/plain": [
       "<Figure size 720x360 with 1 Axes>"
      ]
     },
     "metadata": {
      "needs_background": "light"
     },
     "output_type": "display_data"
    }
   ],
   "source": [
    "print(data[(data['platform']=='PS4')&(data['user_score'] != 11.11)]['user_score'].corr(data[(data['platform']=='PS4')&(data['user_score'] != 11.11)]['sum_sales']))\n",
    "ax = data[(data['platform']=='PS4')&(data['user_score'] != 11.11)].plot(x='user_score', y='sum_sales', kind='scatter', alpha=0.3, figsize=(10,5), grid=True);\n",
    "ax.set_title('Диаграмма рассеяния PS4');\n",
    "ax.set_ylabel('Суммарные продажи');\n",
    "ax.set_xlabel('Оценки пользователей');\n"
   ]
  },
  {
   "cell_type": "markdown",
   "metadata": {},
   "source": [
    "Коэффициент корреляции между оценкой пользователей и суммарными продажами = -0.07, что говорит о незначительной отрицательной корреляции."
   ]
  },
  {
   "cell_type": "markdown",
   "metadata": {},
   "source": [
    "Теперь Построим диаграмму рассеяния, и посчитаем коэффициент корреляции между оценками критиков и суммарными продажами игр."
   ]
  },
  {
   "cell_type": "code",
   "execution_count": 26,
   "metadata": {},
   "outputs": [
    {
     "name": "stdout",
     "output_type": "stream",
     "text": [
      "0.40266141068104083\n"
     ]
    },
    {
     "data": {
      "image/png": "[encoded data removed]",
      "text/plain": [
       "<Figure size 720x360 with 1 Axes>"
      ]
     },
     "metadata": {
      "needs_background": "light"
     },
     "output_type": "display_data"
    }
   ],
   "source": [
    "print(data[data['platform']=='PS4']['critic_score'].corr(data[data['platform']=='PS4']['sum_sales']))\n",
    "ax = data[(data['platform']=='PS4')&(data['critic_score'].notna())].plot(x='critic_score', y='sum_sales', kind='scatter', alpha=0.3, figsize=(10,5), grid=True);\n",
    "ax.set_title('Диаграмма рассеяния PS4');\n",
    "ax.set_ylabel('Суммарные продажи');\n",
    "ax.set_xlabel('Оценки критиков');"
   ]
  },
  {
   "cell_type": "markdown",
   "metadata": {},
   "source": [
    "Коэффициент корреляции между оценкой критиков и суммарными продажами = 0.40, что говорит о нерезкой положительной корреляции."
   ]
  },
  {
   "cell_type": "markdown",
   "metadata": {},
   "source": [
    "Соотнесем выводы с продажами игр на самых продаваемых платформах (предварительно определим, что это за платформы и добавим их в список top_list)."
   ]
  },
  {
   "cell_type": "code",
   "execution_count": 27,
   "metadata": {},
   "outputs": [
    {
     "data": {
      "text/html": [
       "<div>\n",
       "<style scoped>\n",
       "    .dataframe tbody tr th:only-of-type {\n",
       "        vertical-align: middle;\n",
       "    }\n",
       "\n",
       "    .dataframe tbody tr th {\n",
       "        vertical-align: top;\n",
       "    }\n",
       "\n",
       "    .dataframe thead th {\n",
       "        text-align: right;\n",
       "    }\n",
       "</style>\n",
       "<table border=\"1\" class=\"dataframe\">\n",
       "  <thead>\n",
       "    <tr style=\"text-align: right;\">\n",
       "      <th></th>\n",
       "      <th>sum_sales</th>\n",
       "    </tr>\n",
       "    <tr>\n",
       "      <th>platform</th>\n",
       "      <th></th>\n",
       "    </tr>\n",
       "  </thead>\n",
       "  <tbody>\n",
       "    <tr>\n",
       "      <th>PS4</th>\n",
       "      <td>288.15</td>\n",
       "    </tr>\n",
       "    <tr>\n",
       "      <th>XOne</th>\n",
       "      <td>140.36</td>\n",
       "    </tr>\n",
       "    <tr>\n",
       "      <th>3DS</th>\n",
       "      <td>86.68</td>\n",
       "    </tr>\n",
       "    <tr>\n",
       "      <th>PS3</th>\n",
       "      <td>68.18</td>\n",
       "    </tr>\n",
       "    <tr>\n",
       "      <th>X360</th>\n",
       "      <td>48.22</td>\n",
       "    </tr>\n",
       "    <tr>\n",
       "      <th>WiiU</th>\n",
       "      <td>42.98</td>\n",
       "    </tr>\n",
       "    <tr>\n",
       "      <th>PC</th>\n",
       "      <td>27.40</td>\n",
       "    </tr>\n",
       "    <tr>\n",
       "      <th>PSV</th>\n",
       "      <td>22.40</td>\n",
       "    </tr>\n",
       "    <tr>\n",
       "      <th>Wii</th>\n",
       "      <td>5.07</td>\n",
       "    </tr>\n",
       "    <tr>\n",
       "      <th>PSP</th>\n",
       "      <td>0.36</td>\n",
       "    </tr>\n",
       "  </tbody>\n",
       "</table>\n",
       "</div>"
      ],
      "text/plain": [
       "          sum_sales\n",
       "platform           \n",
       "PS4          288.15\n",
       "XOne         140.36\n",
       "3DS           86.68\n",
       "PS3           68.18\n",
       "X360          48.22\n",
       "WiiU          42.98\n",
       "PC            27.40\n",
       "PSV           22.40\n",
       "Wii            5.07\n",
       "PSP            0.36"
      ]
     },
     "execution_count": 27,
     "metadata": {},
     "output_type": "execute_result"
    }
   ],
   "source": [
    "data.pivot_table(index='platform', values='sum_sales', aggfunc='sum').sort_values(by='sum_sales', ascending=False).head(10)"
   ]
  },
  {
   "cell_type": "markdown",
   "metadata": {},
   "source": [
    "Возьмем топ-6 платформ : PS4, XOne, 3DS, PS3, X360, WiiU."
   ]
  },
  {
   "cell_type": "code",
   "execution_count": 28,
   "metadata": {},
   "outputs": [],
   "source": [
    "top_list = ['PS4', 'XOne', '3DS', 'PS3', 'X360', 'WiiU']"
   ]
  },
  {
   "cell_type": "code",
   "execution_count": 29,
   "metadata": {},
   "outputs": [
    {
     "name": "stdout",
     "output_type": "stream",
     "text": [
      "Корелляция между оценкой пользователей и суммарными продажами  у платформы PS4 составляет -0.07215944542890686\n",
      "Корелляция между оценкой критиков и суммарными продажами у платформы PS4 составляет 0.40266141068104083\n",
      "\n",
      "Корелляция между оценкой пользователей и суммарными продажами  у платформы XOne составляет -0.15320871039787662\n",
      "Корелляция между оценкой критиков и суммарными продажами у платформы XOne составляет 0.42867694370333226\n",
      "\n",
      "Корелляция между оценкой пользователей и суммарными продажами  у платформы 3DS составляет -0.11662726200995262\n",
      "Корелляция между оценкой критиков и суммарными продажами у платформы 3DS составляет 0.314117492869051\n",
      "\n",
      "Корелляция между оценкой пользователей и суммарными продажами  у платформы PS3 составляет -0.2990555404540884\n",
      "Корелляция между оценкой критиков и суммарными продажами у платформы PS3 составляет 0.44657460493190704\n",
      "\n",
      "Корелляция между оценкой пользователей и суммарными продажами  у платформы X360 составляет -0.20498217581922656\n",
      "Корелляция между оценкой критиков и суммарными продажами у платформы X360 составляет 0.5257228356581523\n",
      "\n",
      "Корелляция между оценкой пользователей и суммарными продажами  у платформы WiiU составляет 0.19872064598437575\n",
      "Корелляция между оценкой критиков и суммарными продажами у платформы WiiU составляет 0.370201412480884\n",
      "\n"
     ]
    }
   ],
   "source": [
    "for i in top_list:\n",
    "    a = data[(data['platform']==i)&(data['user_score'] != 11.11)]['user_score'].corr(data[(data['platform']==i)&(data['user_score'] != 11.11)]['sum_sales'])\n",
    "    b = data[data['platform'] == i]['critic_score'].corr(data[data['platform'] == i]['sum_sales'])\n",
    "    print(f'Корелляция между оценкой пользователей и суммарными продажами  у платформы {i} составляет {a}')\n",
    "    print(f'Корелляция между оценкой критиков и суммарными продажами у платформы {i} составляет {b}')\n",
    "    print('')"
   ]
  },
  {
   "cell_type": "markdown",
   "metadata": {},
   "source": [
    "На всех популярных платформах наблюдается слабая корреляция - от отрицательной (-0.3 у PS3), до положительной (0.2 у WiiU) - между отзывами пользователей и суммарными продажами.  \n",
    "Также на всех платформах определяется нерезкая положительная корреляция (от 0.31 у 3DS, до 0.53 у X360) между оценками критиков и суммарными продажами. \n",
    "\n",
    "Видимо при выборе платформы покупатели больше ориентируются на отзывы критиков."
   ]
  },
  {
   "cell_type": "markdown",
   "metadata": {},
   "source": [
    "##### Посмотрим на общее распределение игр и продаж по жанрам. "
   ]
  },
  {
   "cell_type": "code",
   "execution_count": 30,
   "metadata": {},
   "outputs": [
    {
     "data": {
      "text/plain": [
       "genre\n",
       "Action          620\n",
       "Role-Playing    221\n",
       "Adventure       185\n",
       "Sports          161\n",
       "Shooter         128\n",
       "Misc            113\n",
       "Racing           69\n",
       "Fighting         60\n",
       "Simulation       44\n",
       "Platform         38\n",
       "Strategy         37\n",
       "Puzzle           14\n",
       "Name: games, dtype: int64"
      ]
     },
     "execution_count": 30,
     "metadata": {},
     "output_type": "execute_result"
    },
    {
     "data": {
      "image/png": "[encoded data removed]",
      "text/plain": [
       "<Figure size 648x648 with 1 Axes>"
      ]
     },
     "metadata": {},
     "output_type": "display_data"
    }
   ],
   "source": [
    "genre_data = data.pivot_table(index='genre', values=['name', 'sum_sales'], aggfunc={'name':'count', 'sum_sales':'median'})\n",
    "genre_data.columns = ['games', 'median_sale']\n",
    "genre_data = genre_data.sort_values(by='games', ascending=False)\n",
    "\n",
    "ax = genre_data.plot(y='games', kind='pie', figsize=(9,9), autopct='%1.1f%%', legend = False, title = 'Распределеение игр по жанрам')\n",
    "ax.set_ylabel('');\n",
    "\n",
    "genre_data['games']"
   ]
  },
  {
   "cell_type": "markdown",
   "metadata": {},
   "source": [
    "Как мы видим, больше всего игр в жанре Action (28.5%), затем идут Misc (11.0%), Sports (10.9%), Role-Playing(10.7%) и Adventure (10.6%), каждый из остальных жанров составляет не более 10% от общего числа, с наименее распространенным жанром - Puzzle (2.2%)."
   ]
  },
  {
   "cell_type": "code",
   "execution_count": 31,
   "metadata": {},
   "outputs": [
    {
     "data": {
      "image/png": "[encoded data removed]",
      "text/plain": [
       "<Figure size 720x648 with 1 Axes>"
      ]
     },
     "metadata": {
      "needs_background": "light"
     },
     "output_type": "display_data"
    }
   ],
   "source": [
    "genre_data = genre_data.sort_values(by='median_sale', ascending=True)\n",
    "\n",
    "xs = genre_data.index\n",
    "ys = genre_data['median_sale']\n",
    "\n",
    "plt.figure(figsize=(10,9));\n",
    "plt.barh(xs,ys)\n",
    "\n",
    "for x,y in zip(xs,ys):\n",
    "    label = \"{:.2f}\".format(y)\n",
    "    plt.annotate(label, \n",
    "                 (y,x), \n",
    "                 textcoords=\"offset points\", \n",
    "                 xytext=(15,-5), \n",
    "                 ha='center')\n",
    "plt.title('Медианные продажи по жанрам (в млн. проданных копий)')\n",
    "plt.ylabel('Жанры');\n",
    "plt.xlabel('');"
   ]
  },
  {
   "cell_type": "markdown",
   "metadata": {},
   "source": [
    "Как мы видим больше всего продается копий игр в жанре Shooter (0.38) с большим отрывом от занимающего второе место жанра Platform (0.21). Меньше всего копий игр продается в жанре Adventure (0.03)."
   ]
  },
  {
   "cell_type": "markdown",
   "metadata": {},
   "source": [
    "#### Шаг 4. Составим портрет пользователя каждого региона (NA, EU, JP):"
   ]
  },
  {
   "cell_type": "markdown",
   "metadata": {},
   "source": [
    "##### Самые популярные платформы (топ-5):"
   ]
  },
  {
   "cell_type": "markdown",
   "metadata": {},
   "source": [
    "Создадим датафрейм (regions) с данными о продажах во всех регионах."
   ]
  },
  {
   "cell_type": "code",
   "execution_count": 32,
   "metadata": {},
   "outputs": [],
   "source": [
    "regions = data.pivot_table(index='platform', values=['na_sales', 'eu_sales', 'jp_sales', 'other_sales', 'sum_sales'], aggfunc='sum')\n",
    "\n",
    "regions.rename(columns={'na_sales':'NA', 'eu_sales':'EU', 'jp_sales':'JP', 'other_sales':'other', 'sum_sales':'sum'}, inplace=True)"
   ]
  },
  {
   "cell_type": "code",
   "execution_count": 33,
   "metadata": {},
   "outputs": [
    {
     "data": {
      "text/html": [
       "<div>\n",
       "<style scoped>\n",
       "    .dataframe tbody tr th:only-of-type {\n",
       "        vertical-align: middle;\n",
       "    }\n",
       "\n",
       "    .dataframe tbody tr th {\n",
       "        vertical-align: top;\n",
       "    }\n",
       "\n",
       "    .dataframe thead th {\n",
       "        text-align: right;\n",
       "    }\n",
       "</style>\n",
       "<table border=\"1\" class=\"dataframe\">\n",
       "  <thead>\n",
       "    <tr style=\"text-align: right;\">\n",
       "      <th></th>\n",
       "      <th>EU</th>\n",
       "      <th>JP</th>\n",
       "      <th>NA</th>\n",
       "      <th>other</th>\n",
       "      <th>sum</th>\n",
       "    </tr>\n",
       "    <tr>\n",
       "      <th>platform</th>\n",
       "      <th></th>\n",
       "      <th></th>\n",
       "      <th></th>\n",
       "      <th></th>\n",
       "      <th></th>\n",
       "    </tr>\n",
       "  </thead>\n",
       "  <tbody>\n",
       "    <tr>\n",
       "      <th>3DS</th>\n",
       "      <td>16.12</td>\n",
       "      <td>44.24</td>\n",
       "      <td>22.64</td>\n",
       "      <td>3.68</td>\n",
       "      <td>86.68</td>\n",
       "    </tr>\n",
       "    <tr>\n",
       "      <th>PC</th>\n",
       "      <td>18.22</td>\n",
       "      <td>0.00</td>\n",
       "      <td>7.29</td>\n",
       "      <td>1.89</td>\n",
       "      <td>27.40</td>\n",
       "    </tr>\n",
       "    <tr>\n",
       "      <th>PS3</th>\n",
       "      <td>25.54</td>\n",
       "      <td>11.22</td>\n",
       "      <td>22.05</td>\n",
       "      <td>9.37</td>\n",
       "      <td>68.18</td>\n",
       "    </tr>\n",
       "    <tr>\n",
       "      <th>PS4</th>\n",
       "      <td>130.04</td>\n",
       "      <td>15.02</td>\n",
       "      <td>98.61</td>\n",
       "      <td>44.48</td>\n",
       "      <td>288.15</td>\n",
       "    </tr>\n",
       "    <tr>\n",
       "      <th>PSP</th>\n",
       "      <td>0.00</td>\n",
       "      <td>0.36</td>\n",
       "      <td>0.00</td>\n",
       "      <td>0.00</td>\n",
       "      <td>0.36</td>\n",
       "    </tr>\n",
       "  </tbody>\n",
       "</table>\n",
       "</div>"
      ],
      "text/plain": [
       "              EU     JP     NA  other     sum\n",
       "platform                                     \n",
       "3DS        16.12  44.24  22.64   3.68   86.68\n",
       "PC         18.22   0.00   7.29   1.89   27.40\n",
       "PS3        25.54  11.22  22.05   9.37   68.18\n",
       "PS4       130.04  15.02  98.61  44.48  288.15\n",
       "PSP         0.00   0.36   0.00   0.00    0.36"
      ]
     },
     "execution_count": 33,
     "metadata": {},
     "output_type": "execute_result"
    }
   ],
   "source": [
    "regions.head()"
   ]
  },
  {
   "cell_type": "markdown",
   "metadata": {},
   "source": [
    "###### На мировом рынке"
   ]
  },
  {
   "cell_type": "code",
   "execution_count": 34,
   "metadata": {},
   "outputs": [
    {
     "data": {
      "text/plain": [
       "platform\n",
       "PS4     288.15\n",
       "XOne    140.36\n",
       "3DS      86.68\n",
       "PS3      68.18\n",
       "X360     48.22\n",
       "Name: sum, dtype: float64"
      ]
     },
     "execution_count": 34,
     "metadata": {},
     "output_type": "execute_result"
    },
    {
     "data": {
      "image/png": "[encoded data removed]",
      "text/plain": [
       "<Figure size 360x360 with 1 Axes>"
      ]
     },
     "metadata": {},
     "output_type": "display_data"
    }
   ],
   "source": [
    "regions['sum'].sort_values(ascending=False).head().plot(y='sum', kind='pie', figsize=(5,5), autopct='%1.1f%%', legend = False, title = 'Мировой рынок топ-5 платформ')\n",
    "ax.set_ylabel('')\n",
    "regions['sum'].sort_values(ascending=False).head()"
   ]
  },
  {
   "cell_type": "markdown",
   "metadata": {},
   "source": [
    "Самые популярные платформы на мировом рынке PS4, XOne, 3DS, PS3 и X360."
   ]
  },
  {
   "cell_type": "markdown",
   "metadata": {},
   "source": [
    "###### в Северной Америке (NA)"
   ]
  },
  {
   "cell_type": "code",
   "execution_count": 35,
   "metadata": {},
   "outputs": [
    {
     "data": {
      "text/plain": [
       "platform\n",
       "PS4     98.61\n",
       "XOne    81.27\n",
       "X360    28.30\n",
       "3DS     22.64\n",
       "PS3     22.05\n",
       "Name: NA, dtype: float64"
      ]
     },
     "execution_count": 35,
     "metadata": {},
     "output_type": "execute_result"
    },
    {
     "data": {
      "image/png": "[encoded data removed]",
      "text/plain": [
       "<Figure size 360x360 with 1 Axes>"
      ]
     },
     "metadata": {},
     "output_type": "display_data"
    }
   ],
   "source": [
    "ax = regions['NA'].sort_values(ascending=False).head().plot(y='NA', kind='pie', figsize=(5,5), autopct='%1.1f%%', legend = False, title = 'NA топ-5 платформ')\n",
    "ax.set_ylabel('')\n",
    "regions['NA'].sort_values(ascending=False).head()"
   ]
  },
  {
   "cell_type": "markdown",
   "metadata": {},
   "source": [
    "Самыми распространенными платформами в Северной Америке являются PS4, XOne, X360, 3DS и PS3."
   ]
  },
  {
   "cell_type": "markdown",
   "metadata": {},
   "source": [
    "###### в Европе (EU)"
   ]
  },
  {
   "cell_type": "code",
   "execution_count": 36,
   "metadata": {},
   "outputs": [
    {
     "data": {
      "text/plain": [
       "platform\n",
       "PS4     130.04\n",
       "XOne     46.25\n",
       "PS3      25.54\n",
       "PC       18.22\n",
       "3DS      16.12\n",
       "Name: EU, dtype: float64"
      ]
     },
     "execution_count": 36,
     "metadata": {},
     "output_type": "execute_result"
    },
    {
     "data": {
      "image/png": "[encoded data removed]",
      "text/plain": [
       "<Figure size 360x360 with 1 Axes>"
      ]
     },
     "metadata": {},
     "output_type": "display_data"
    }
   ],
   "source": [
    "ax = regions['EU'].sort_values(ascending=False).head().plot(y='EU', kind='pie', figsize=(5,5), autopct='%1.1f%%', legend = False, title = 'EU топ-5 платформ')\n",
    "ax.set_ylabel('')\n",
    "regions['EU'].sort_values(ascending=False).head()"
   ]
  },
  {
   "cell_type": "markdown",
   "metadata": {},
   "source": [
    "Самыми распространенными платформами в Европе являются PS4, XOne, PS3, PC и 3DS"
   ]
  },
  {
   "cell_type": "markdown",
   "metadata": {},
   "source": [
    "######  в Японии (JP)"
   ]
  },
  {
   "cell_type": "code",
   "execution_count": 37,
   "metadata": {},
   "outputs": [
    {
     "data": {
      "text/plain": [
       "platform\n",
       "3DS     44.24\n",
       "PS4     15.02\n",
       "PSV     14.54\n",
       "PS3     11.22\n",
       "WiiU     7.31\n",
       "Name: JP, dtype: float64"
      ]
     },
     "execution_count": 37,
     "metadata": {},
     "output_type": "execute_result"
    },
    {
     "data": {
      "image/png": "[encoded data removed]",
      "text/plain": [
       "<Figure size 360x360 with 1 Axes>"
      ]
     },
     "metadata": {},
     "output_type": "display_data"
    }
   ],
   "source": [
    "ax = regions['JP'].sort_values(ascending=False).head().plot(y='JP', kind='pie', figsize=(5,5), autopct='%1.1f%%', legend = False, title = 'JP топ-5 платформ')\n",
    "ax.set_ylabel('')\n",
    "regions['JP'].sort_values(ascending=False).head()"
   ]
  },
  {
   "cell_type": "markdown",
   "metadata": {},
   "source": [
    "Самыми распространенными платформами в Японии являются 3DS, PS4, PSV, PS3 и WiiU."
   ]
  },
  {
   "cell_type": "markdown",
   "metadata": {},
   "source": [
    "##### Самые популярные жанры (топ-5)."
   ]
  },
  {
   "cell_type": "markdown",
   "metadata": {},
   "source": [
    "Создадим датафрейм (genres) с данными о жанрах во всех регионах."
   ]
  },
  {
   "cell_type": "code",
   "execution_count": 38,
   "metadata": {},
   "outputs": [],
   "source": [
    "genres = data.pivot_table(index='genre', values=['na_sales', 'eu_sales', 'jp_sales', 'other_sales', 'sum_sales'], aggfunc='sum')\n",
    "\n",
    "genres.rename(columns={'na_sales':'NA', 'eu_sales':'EU', 'jp_sales':'JP', 'other_sales':'other', 'sum_sales':'sum'}, inplace=True)"
   ]
  },
  {
   "cell_type": "markdown",
   "metadata": {},
   "source": [
    "###### На мировом рынке"
   ]
  },
  {
   "cell_type": "code",
   "execution_count": 39,
   "metadata": {
    "scrolled": false
   },
   "outputs": [
    {
     "data": {
      "text/plain": [
       "genre\n",
       "Action          199.71\n",
       "Shooter         170.94\n",
       "Sports          109.48\n",
       "Role-Playing    101.44\n",
       "Misc             37.55\n",
       "Name: sum, dtype: float64"
      ]
     },
     "execution_count": 39,
     "metadata": {},
     "output_type": "execute_result"
    },
    {
     "data": {
      "image/png": "[encoded data removed]",
      "text/plain": [
       "<Figure size 360x360 with 1 Axes>"
      ]
     },
     "metadata": {},
     "output_type": "display_data"
    }
   ],
   "source": [
    "ax = genres['sum'].sort_values(ascending=False).head().plot(y='sum', kind='pie', figsize=(5,5), autopct='%1.1f%%', legend = False, title = 'Мировой рынок топ-5 жанров')\n",
    "ax.set_ylabel('')\n",
    "genres['sum'].sort_values(ascending=False).head()"
   ]
  },
  {
   "cell_type": "markdown",
   "metadata": {},
   "source": [
    "Самые популярные жанры на мировом рынке это Action, Shooter, Sports, Role-Playing и Misc."
   ]
  },
  {
   "cell_type": "markdown",
   "metadata": {},
   "source": [
    "###### в Северной Америке (NA)"
   ]
  },
  {
   "cell_type": "code",
   "execution_count": 40,
   "metadata": {
    "scrolled": false
   },
   "outputs": [
    {
     "data": {
      "text/plain": [
       "genre\n",
       "Shooter         79.02\n",
       "Action          72.59\n",
       "Sports          46.13\n",
       "Role-Playing    33.47\n",
       "Misc            15.05\n",
       "Name: NA, dtype: float64"
      ]
     },
     "execution_count": 40,
     "metadata": {},
     "output_type": "execute_result"
    },
    {
     "data": {
      "image/png": "[encoded data removed]",
      "text/plain": [
       "<Figure size 360x360 with 1 Axes>"
      ]
     },
     "metadata": {},
     "output_type": "display_data"
    }
   ],
   "source": [
    "ax = genres['NA'].sort_values(ascending=False).head().plot(y='NA', kind='pie', figsize=(5,5), autopct='%1.1f%%', legend = False, title = 'NA топ-5 жанров')\n",
    "ax.set_ylabel('')\n",
    "genres['NA'].sort_values(ascending=False).head()"
   ]
  },
  {
   "cell_type": "markdown",
   "metadata": {},
   "source": [
    "Самые популярные жанры в Северной Америке это Shooter, Action, Sports, Role-Playing и Misc"
   ]
  },
  {
   "cell_type": "markdown",
   "metadata": {},
   "source": [
    "###### в Европе (EU)"
   ]
  },
  {
   "cell_type": "code",
   "execution_count": 41,
   "metadata": {},
   "outputs": [
    {
     "data": {
      "text/plain": [
       "genre\n",
       "Action          74.93\n",
       "Shooter         65.52\n",
       "Sports          45.73\n",
       "Role-Playing    28.17\n",
       "Racing          14.13\n",
       "Name: EU, dtype: float64"
      ]
     },
     "execution_count": 41,
     "metadata": {},
     "output_type": "execute_result"
    },
    {
     "data": {
      "image/png": "[encoded data removed]",
      "text/plain": [
       "<Figure size 360x360 with 1 Axes>"
      ]
     },
     "metadata": {},
     "output_type": "display_data"
    }
   ],
   "source": [
    "ax = genres['EU'].sort_values(ascending=False).head().plot(y='EU', kind='pie', figsize=(5,5), autopct='%1.1f%%', legend = False, title = 'EU топ-5 жанров')\n",
    "ax.set_ylabel('')\n",
    "genres['EU'].sort_values(ascending=False).head()"
   ]
  },
  {
   "cell_type": "markdown",
   "metadata": {},
   "source": [
    "Самые популярные жанры в Европе это Action, Shooter, Sports, Role-Playing и Racing \n",
    "."
   ]
  },
  {
   "cell_type": "markdown",
   "metadata": {},
   "source": [
    "###### в Японии (JP)"
   ]
  },
  {
   "cell_type": "code",
   "execution_count": 42,
   "metadata": {},
   "outputs": [
    {
     "data": {
      "text/plain": [
       "genre\n",
       "Role-Playing    31.16\n",
       "Action          29.58\n",
       "Fighting         6.37\n",
       "Misc             5.61\n",
       "Shooter          4.87\n",
       "Name: JP, dtype: float64"
      ]
     },
     "execution_count": 42,
     "metadata": {},
     "output_type": "execute_result"
    },
    {
     "data": {
      "image/png": "[encoded data removed]",
      "text/plain": [
       "<Figure size 360x360 with 1 Axes>"
      ]
     },
     "metadata": {},
     "output_type": "display_data"
    }
   ],
   "source": [
    "ax = genres['JP'].sort_values(ascending=False).head().plot(y='JP', kind='pie', figsize=(5,5), autopct='%1.1f%%', legend = False, title = 'JP топ-5 жанров')\n",
    "ax.set_ylabel('')\n",
    "genres['JP'].sort_values(ascending=False).head()"
   ]
  },
  {
   "cell_type": "markdown",
   "metadata": {},
   "source": [
    "Самые популярные жанры в Японии это Role-Playing, Action, Fighting, Misc и Shooter."
   ]
  },
  {
   "cell_type": "markdown",
   "metadata": {},
   "source": [
    "##### Влияет ли рейтинг ESRB на продажи в отдельном регионе?"
   ]
  },
  {
   "cell_type": "code",
   "execution_count": 43,
   "metadata": {},
   "outputs": [
    {
     "data": {
      "image/png": "[encoded data removed]",
      "text/plain": [
       "<Figure size 1080x360 with 1 Axes>"
      ]
     },
     "metadata": {
      "needs_background": "light"
     },
     "output_type": "display_data"
    }
   ],
   "source": [
    "ESRB_data = data.pivot_table(index='rating', values=['na_sales', 'eu_sales', 'jp_sales', 'other_sales'], aggfunc='sum')\n",
    "\n",
    "ESRB_data.rename(columns={'na_sales':'NA', 'eu_sales':'EU', 'jp_sales':'JP', 'other_sales':'other'}, inplace=True)\n",
    "\n",
    "ax = ESRB_data.plot(kind='bar', figsize=(15,5))\n",
    "ax.set_xlabel('Категории рейтинга ESRB')\n",
    "ax.set_ylabel('Суммарные продажи')\n",
    "ax.set_title('Распределение суммарных продаж по категориям рейтинга ESRB');"
   ]
  },
  {
   "cell_type": "markdown",
   "metadata": {},
   "source": [
    "В Северной Америке, Европе и в регионах \"другие\" (other) картина схожа, и категории распределены так:  \n",
    "1) «M» («Mature» — «Для взрослых»)   \n",
    "2) «E» («Everyone» — «Для всех»)  \n",
    "3) «T» («Teen» — «Подросткам») \n",
    "4) «E10+» («Everyone 10 and older» - \"От 10 лет и старше\")\n",
    "\n",
    "В Японии места распределились так:  \n",
    "1) «T» («Teen» — «Подросткам»)   \n",
    "2) «E» («Everyone» — «Для всех»)  \n",
    "3) «M» («Mature» — «Для взрослых»)   \n",
    "4) «E10+» («Everyone 10 and older» - \"От 10 лет и старше\")\n"
   ]
  },
  {
   "cell_type": "markdown",
   "metadata": {},
   "source": [
    "##### Портрет пользователя по регионам"
   ]
  },
  {
   "cell_type": "markdown",
   "metadata": {},
   "source": [
    "Американский игрок любит играть на PS4 или на XOne, любит игры жанров Shooter, Action и Sports.  \n",
    "Японский игрок любит играть на DS3, любит игры жанра RPG или Action.  \n",
    "Европейский игрок любит играть на платформах PS4 или на XOne, любит игры жанра Shooter, Action или Sports."
   ]
  },
  {
   "cell_type": "markdown",
   "metadata": {},
   "source": [
    "#### Шаг 5. Проверка гипотез"
   ]
  },
  {
   "cell_type": "markdown",
   "metadata": {},
   "source": [
    "##### Средние пользовательские рейтинги платформ Xbox One и PC одинаковые;"
   ]
  },
  {
   "cell_type": "markdown",
   "metadata": {},
   "source": [
    "Нулевая гипотеза: Средние пользовательские рейтинги платформ Xbox One и PC одинаковые  \n",
    "Альтернативная гипотеза: Средние пользовательские рейтинги платформ Xbox One и PC отличаются  "
   ]
  },
  {
   "cell_type": "code",
   "execution_count": 44,
   "metadata": {},
   "outputs": [
    {
     "name": "stdout",
     "output_type": "stream",
     "text": [
      "p-значение: 0.07644825589913079\n",
      "Не получилось отвергнуть нулевую гипотезу\n"
     ]
    }
   ],
   "source": [
    "alpha = 0.05\n",
    "\n",
    "a = data[(data['platform'] == 'XOne')&(data['user_score'] != 11.11)]['user_score']\n",
    "b = data[(data['platform'] == 'PC')&(data['user_score'] != 11.11)]['user_score']\n",
    "\n",
    "results = st.ttest_ind(a, b)\n",
    "\n",
    "print('p-значение:', results.pvalue)\n",
    "\n",
    "if (results.pvalue < alpha):\n",
    "    print('Отвергаем нулевую гипотезу')\n",
    "else:\n",
    "    print('Не получилось отвергнуть нулевую гипотезу')"
   ]
  },
  {
   "cell_type": "markdown",
   "metadata": {},
   "source": [
    "Со значением p-value около 0.07 мы не можеи отвергнуть нулевую гипотезу, значит средние рейтинги платформ Xbox One и PC одинаковы."
   ]
  },
  {
   "cell_type": "markdown",
   "metadata": {},
   "source": [
    "##### Средние пользовательские рейтинги жанров Action и Sports разные."
   ]
  },
  {
   "cell_type": "markdown",
   "metadata": {},
   "source": [
    "Нулевая гипотеза: Средние пользовательские рейтинги жанров Action и Sports одинаковые.  \n",
    "Альтернаятивная гипотеза: Средние пользовательские рейтинги жанров Action и Sports разные."
   ]
  },
  {
   "cell_type": "code",
   "execution_count": 45,
   "metadata": {},
   "outputs": [
    {
     "name": "stdout",
     "output_type": "stream",
     "text": [
      "p-значение: 3.0059617531865017e-14\n",
      "Отвергаем нулевую гипотезу\n"
     ]
    }
   ],
   "source": [
    "alpha = 0.05\n",
    "\n",
    "a = data[(data['genre'] == 'Action')&(data['user_score'] != 11.11)]['user_score']\n",
    "b = data[(data['genre'] == 'Sports')&(data['user_score'] != 11.11)]['user_score']\n",
    "\n",
    "results = st.ttest_ind(a, b)\n",
    "\n",
    "print('p-значение:', results.pvalue)\n",
    "\n",
    "if (results.pvalue < alpha):\n",
    "    print('Отвергаем нулевую гипотезу')\n",
    "else:\n",
    "    print('Не получилось отвергнуть нулевую гипотезу')"
   ]
  },
  {
   "cell_type": "markdown",
   "metadata": {},
   "source": [
    "Полученное значение p-value (3/ 10**14) явно меньше заявленной статистической значимости, смело отвергаем нулевую гипотезу, значит, средние пользовательские рейтинги жанров Action и Sports различаются."
   ]
  }
 ],
 "metadata": {
  "ExecuteTimeLog": [
   {
    "duration": 392,
    "start_time": "2024-07-01T14:26:45.219Z"
   },
   {
    "duration": 114,
    "start_time": "2024-07-01T14:37:47.341Z"
   },
   {
    "duration": 130,
    "start_time": "2024-07-01T14:38:01.912Z"
   },
   {
    "duration": 69,
    "start_time": "2024-07-01T14:39:02.470Z"
   },
   {
    "duration": 77,
    "start_time": "2024-07-01T14:39:16.618Z"
   },
   {
    "duration": 83,
    "start_time": "2024-07-01T14:40:01.866Z"
   },
   {
    "duration": 76,
    "start_time": "2024-07-01T14:40:12.986Z"
   },
   {
    "duration": 78,
    "start_time": "2024-07-01T14:40:21.522Z"
   },
   {
    "duration": 78,
    "start_time": "2024-07-01T14:40:26.018Z"
   },
   {
    "duration": 14,
    "start_time": "2024-07-01T14:43:40.656Z"
   },
   {
    "duration": 68,
    "start_time": "2024-07-01T14:49:17.816Z"
   },
   {
    "duration": 4,
    "start_time": "2024-07-01T14:49:55.744Z"
   },
   {
    "duration": 8,
    "start_time": "2024-07-01T14:51:29.045Z"
   },
   {
    "duration": 3,
    "start_time": "2024-07-01T14:51:35.996Z"
   },
   {
    "duration": 14,
    "start_time": "2024-07-01T14:51:42.277Z"
   },
   {
    "duration": 14,
    "start_time": "2024-07-01T14:51:56.131Z"
   },
   {
    "duration": 7,
    "start_time": "2024-07-01T14:53:19.072Z"
   },
   {
    "duration": 4,
    "start_time": "2024-07-01T14:54:43.283Z"
   },
   {
    "duration": 3,
    "start_time": "2024-07-01T14:55:05.740Z"
   },
   {
    "duration": 14,
    "start_time": "2024-07-01T14:55:13.601Z"
   },
   {
    "duration": 7,
    "start_time": "2024-07-01T14:56:27.365Z"
   },
   {
    "duration": 7,
    "start_time": "2024-07-01T14:56:33.588Z"
   },
   {
    "duration": 9,
    "start_time": "2024-07-01T14:58:55.437Z"
   },
   {
    "duration": 4,
    "start_time": "2024-07-01T14:59:00.519Z"
   },
   {
    "duration": 4,
    "start_time": "2024-07-01T14:59:17.819Z"
   },
   {
    "duration": 15,
    "start_time": "2024-07-01T14:59:22.969Z"
   },
   {
    "duration": 4,
    "start_time": "2024-07-01T14:59:53.611Z"
   },
   {
    "duration": 3,
    "start_time": "2024-07-01T14:59:56.364Z"
   },
   {
    "duration": 13,
    "start_time": "2024-07-01T15:02:07.344Z"
   },
   {
    "duration": 11,
    "start_time": "2024-07-01T15:03:45.516Z"
   },
   {
    "duration": 7,
    "start_time": "2024-07-01T15:03:59.269Z"
   },
   {
    "duration": 7,
    "start_time": "2024-07-01T15:04:19.200Z"
   },
   {
    "duration": 10,
    "start_time": "2024-07-01T15:04:49.734Z"
   },
   {
    "duration": 23,
    "start_time": "2024-07-01T15:06:51.564Z"
   },
   {
    "duration": 30,
    "start_time": "2024-07-01T15:07:16.183Z"
   },
   {
    "duration": 26,
    "start_time": "2024-07-01T15:08:17.825Z"
   },
   {
    "duration": 15,
    "start_time": "2024-07-01T15:26:10.041Z"
   },
   {
    "duration": 10,
    "start_time": "2024-07-01T15:28:37.580Z"
   },
   {
    "duration": 1131,
    "start_time": "2024-07-01T15:43:04.735Z"
   },
   {
    "duration": 50044,
    "start_time": "2024-07-01T15:43:24.199Z"
   },
   {
    "duration": 437,
    "start_time": "2024-07-01T15:50:18.461Z"
   },
   {
    "duration": 88,
    "start_time": "2024-07-01T15:50:18.900Z"
   },
   {
    "duration": 12,
    "start_time": "2024-07-01T15:50:18.990Z"
   },
   {
    "duration": 21,
    "start_time": "2024-07-01T15:50:19.004Z"
   },
   {
    "duration": 36920,
    "start_time": "2024-07-01T15:50:19.027Z"
   },
   {
    "duration": 9,
    "start_time": "2024-07-01T15:50:55.949Z"
   },
   {
    "duration": 79,
    "start_time": "2024-07-01T15:52:24.804Z"
   },
   {
    "duration": 37524,
    "start_time": "2024-07-01T15:52:55.732Z"
   },
   {
    "duration": 15,
    "start_time": "2024-07-01T15:53:51.034Z"
   },
   {
    "duration": 39176,
    "start_time": "2024-07-01T15:55:15.471Z"
   },
   {
    "duration": 427,
    "start_time": "2024-07-01T16:02:37.580Z"
   },
   {
    "duration": 89,
    "start_time": "2024-07-01T16:02:38.009Z"
   },
   {
    "duration": 20,
    "start_time": "2024-07-01T16:02:38.100Z"
   },
   {
    "duration": 44,
    "start_time": "2024-07-01T16:02:38.122Z"
   },
   {
    "duration": 37413,
    "start_time": "2024-07-01T16:02:38.169Z"
   },
   {
    "duration": 10,
    "start_time": "2024-07-01T16:03:15.583Z"
   },
   {
    "duration": 40058,
    "start_time": "2024-07-01T16:03:29.638Z"
   },
   {
    "duration": 429,
    "start_time": "2024-07-01T16:05:38.243Z"
   },
   {
    "duration": 87,
    "start_time": "2024-07-01T16:05:38.674Z"
   },
   {
    "duration": 14,
    "start_time": "2024-07-01T16:05:38.762Z"
   },
   {
    "duration": 22,
    "start_time": "2024-07-01T16:05:38.777Z"
   },
   {
    "duration": 10,
    "start_time": "2024-07-01T16:06:18.928Z"
   },
   {
    "duration": 69,
    "start_time": "2024-07-01T16:06:18.940Z"
   },
   {
    "duration": 39913,
    "start_time": "2024-07-01T16:06:22.528Z"
   },
   {
    "duration": 10,
    "start_time": "2024-07-01T16:07:23.840Z"
   },
   {
    "duration": 20,
    "start_time": "2024-07-01T16:08:20.586Z"
   },
   {
    "duration": 11,
    "start_time": "2024-07-01T16:09:06.191Z"
   },
   {
    "duration": 14,
    "start_time": "2024-07-01T16:09:18.904Z"
   },
   {
    "duration": 16,
    "start_time": "2024-07-01T16:09:47.482Z"
   },
   {
    "duration": 15,
    "start_time": "2024-07-01T16:10:04.690Z"
   },
   {
    "duration": 26,
    "start_time": "2024-07-01T16:10:12.312Z"
   },
   {
    "duration": 15,
    "start_time": "2024-07-01T16:10:43.874Z"
   },
   {
    "duration": 14,
    "start_time": "2024-07-01T16:10:47.011Z"
   },
   {
    "duration": 15,
    "start_time": "2024-07-01T16:11:10.104Z"
   },
   {
    "duration": 68,
    "start_time": "2024-07-01T16:11:34.910Z"
   },
   {
    "duration": 12,
    "start_time": "2024-07-01T16:11:40.507Z"
   },
   {
    "duration": 9,
    "start_time": "2024-07-01T16:11:59.338Z"
   },
   {
    "duration": 419,
    "start_time": "2024-07-01T16:12:27.096Z"
   },
   {
    "duration": 87,
    "start_time": "2024-07-01T16:12:27.517Z"
   },
   {
    "duration": 12,
    "start_time": "2024-07-01T16:12:27.606Z"
   },
   {
    "duration": 18,
    "start_time": "2024-07-01T16:12:27.620Z"
   },
   {
    "duration": 9,
    "start_time": "2024-07-01T16:12:27.640Z"
   },
   {
    "duration": 40579,
    "start_time": "2024-07-01T16:12:27.651Z"
   },
   {
    "duration": 2,
    "start_time": "2024-07-01T16:13:08.231Z"
   },
   {
    "duration": 9,
    "start_time": "2024-07-01T16:13:08.235Z"
   },
   {
    "duration": 10,
    "start_time": "2024-07-01T16:13:19.508Z"
   },
   {
    "duration": 5,
    "start_time": "2024-07-01T16:13:37.645Z"
   },
   {
    "duration": 432,
    "start_time": "2024-07-01T19:41:17.153Z"
   },
   {
    "duration": 139,
    "start_time": "2024-07-01T19:41:17.587Z"
   },
   {
    "duration": 14,
    "start_time": "2024-07-01T19:41:17.727Z"
   },
   {
    "duration": 18,
    "start_time": "2024-07-01T19:41:17.743Z"
   },
   {
    "duration": 12,
    "start_time": "2024-07-01T19:41:17.763Z"
   },
   {
    "duration": 94,
    "start_time": "2024-07-01T19:41:17.777Z"
   },
   {
    "duration": 0,
    "start_time": "2024-07-01T19:41:17.873Z"
   },
   {
    "duration": 0,
    "start_time": "2024-07-01T19:41:17.874Z"
   },
   {
    "duration": 61,
    "start_time": "2024-07-01T19:41:51.121Z"
   },
   {
    "duration": 38671,
    "start_time": "2024-07-01T19:57:22.084Z"
   },
   {
    "duration": 1406,
    "start_time": "2024-07-01T19:58:52.437Z"
   },
   {
    "duration": 91,
    "start_time": "2024-07-01T19:59:28.133Z"
   },
   {
    "duration": 15,
    "start_time": "2024-07-01T19:59:32.586Z"
   },
   {
    "duration": 21,
    "start_time": "2024-07-01T19:59:39.729Z"
   },
   {
    "duration": 53,
    "start_time": "2024-07-02T12:45:19.010Z"
   },
   {
    "duration": 513,
    "start_time": "2024-07-02T12:45:23.566Z"
   },
   {
    "duration": 235,
    "start_time": "2024-07-02T12:45:24.082Z"
   },
   {
    "duration": 16,
    "start_time": "2024-07-02T12:45:24.319Z"
   },
   {
    "duration": 29,
    "start_time": "2024-07-02T12:45:24.337Z"
   },
   {
    "duration": 33,
    "start_time": "2024-07-02T12:45:24.369Z"
   },
   {
    "duration": 44425,
    "start_time": "2024-07-02T12:45:24.404Z"
   },
   {
    "duration": 6,
    "start_time": "2024-07-02T12:46:08.831Z"
   },
   {
    "duration": 24,
    "start_time": "2024-07-02T12:46:08.839Z"
   },
   {
    "duration": 16,
    "start_time": "2024-07-02T12:48:16.268Z"
   },
   {
    "duration": 15,
    "start_time": "2024-07-02T12:48:34.954Z"
   },
   {
    "duration": 15,
    "start_time": "2024-07-02T12:49:03.492Z"
   },
   {
    "duration": 16,
    "start_time": "2024-07-02T12:49:24.964Z"
   },
   {
    "duration": 15,
    "start_time": "2024-07-02T12:50:06.174Z"
   },
   {
    "duration": 21,
    "start_time": "2024-07-02T12:51:35.297Z"
   },
   {
    "duration": 26,
    "start_time": "2024-07-02T12:51:45.686Z"
   },
   {
    "duration": 75,
    "start_time": "2024-07-02T12:54:22.372Z"
   },
   {
    "duration": 861,
    "start_time": "2024-07-02T12:55:06.304Z"
   },
   {
    "duration": 20,
    "start_time": "2024-07-02T12:58:15.269Z"
   },
   {
    "duration": 16,
    "start_time": "2024-07-02T12:59:01.616Z"
   },
   {
    "duration": 512,
    "start_time": "2024-07-02T12:59:24.805Z"
   },
   {
    "duration": 108,
    "start_time": "2024-07-02T12:59:25.319Z"
   },
   {
    "duration": 16,
    "start_time": "2024-07-02T12:59:25.429Z"
   },
   {
    "duration": 35,
    "start_time": "2024-07-02T12:59:25.447Z"
   },
   {
    "duration": 12,
    "start_time": "2024-07-02T12:59:25.485Z"
   },
   {
    "duration": 5,
    "start_time": "2024-07-02T12:59:25.499Z"
   },
   {
    "duration": 21,
    "start_time": "2024-07-02T12:59:25.506Z"
   },
   {
    "duration": 22,
    "start_time": "2024-07-02T12:59:25.529Z"
   },
   {
    "duration": 9,
    "start_time": "2024-07-02T12:59:25.553Z"
   },
   {
    "duration": 6,
    "start_time": "2024-07-02T13:00:03.927Z"
   },
   {
    "duration": 16,
    "start_time": "2024-07-02T13:00:10.992Z"
   },
   {
    "duration": 4,
    "start_time": "2024-07-02T13:01:35.841Z"
   },
   {
    "duration": 9,
    "start_time": "2024-07-02T13:02:54.835Z"
   },
   {
    "duration": 8,
    "start_time": "2024-07-02T13:04:28.639Z"
   },
   {
    "duration": 64,
    "start_time": "2024-07-02T13:04:36.235Z"
   },
   {
    "duration": 5,
    "start_time": "2024-07-02T13:04:39.841Z"
   },
   {
    "duration": 23,
    "start_time": "2024-07-02T13:04:46.829Z"
   },
   {
    "duration": 12,
    "start_time": "2024-07-02T13:04:55.912Z"
   },
   {
    "duration": 12,
    "start_time": "2024-07-02T13:05:12.887Z"
   },
   {
    "duration": 13,
    "start_time": "2024-07-02T13:06:04.791Z"
   },
   {
    "duration": 13,
    "start_time": "2024-07-02T13:06:08.759Z"
   },
   {
    "duration": 19,
    "start_time": "2024-07-02T13:07:49.600Z"
   },
   {
    "duration": 6,
    "start_time": "2024-07-02T13:09:11.518Z"
   },
   {
    "duration": 7,
    "start_time": "2024-07-02T13:09:29.575Z"
   },
   {
    "duration": 16,
    "start_time": "2024-07-02T13:09:59.503Z"
   },
   {
    "duration": 25,
    "start_time": "2024-07-02T13:10:25.997Z"
   },
   {
    "duration": 619,
    "start_time": "2024-07-02T13:40:05.672Z"
   },
   {
    "duration": 8,
    "start_time": "2024-07-02T13:40:20.778Z"
   },
   {
    "duration": 11,
    "start_time": "2024-07-02T15:20:07.569Z"
   },
   {
    "duration": 210,
    "start_time": "2024-07-02T15:20:46.202Z"
   },
   {
    "duration": 7,
    "start_time": "2024-07-02T15:21:36.225Z"
   },
   {
    "duration": 198,
    "start_time": "2024-07-02T15:21:41.049Z"
   },
   {
    "duration": 307,
    "start_time": "2024-07-02T15:29:46.620Z"
   },
   {
    "duration": 218,
    "start_time": "2024-07-02T15:29:52.142Z"
   },
   {
    "duration": 209,
    "start_time": "2024-07-02T15:29:56.644Z"
   },
   {
    "duration": 211,
    "start_time": "2024-07-02T15:30:34.972Z"
   },
   {
    "duration": 216,
    "start_time": "2024-07-02T15:34:43.002Z"
   },
   {
    "duration": 241,
    "start_time": "2024-07-02T15:35:57.516Z"
   },
   {
    "duration": 211,
    "start_time": "2024-07-02T15:36:03.634Z"
   },
   {
    "duration": 229,
    "start_time": "2024-07-02T15:36:23.424Z"
   },
   {
    "duration": 236,
    "start_time": "2024-07-02T15:36:37.836Z"
   },
   {
    "duration": 204,
    "start_time": "2024-07-02T15:38:09.036Z"
   },
   {
    "duration": 389,
    "start_time": "2024-07-02T16:53:10.948Z"
   },
   {
    "duration": 87,
    "start_time": "2024-07-02T16:53:11.339Z"
   },
   {
    "duration": 14,
    "start_time": "2024-07-02T16:53:11.428Z"
   },
   {
    "duration": 70,
    "start_time": "2024-07-02T16:53:11.444Z"
   },
   {
    "duration": 6,
    "start_time": "2024-07-02T16:53:11.515Z"
   },
   {
    "duration": 12,
    "start_time": "2024-07-02T16:53:11.522Z"
   },
   {
    "duration": 16,
    "start_time": "2024-07-02T16:53:11.536Z"
   },
   {
    "duration": 2,
    "start_time": "2024-07-02T16:53:11.554Z"
   },
   {
    "duration": 42,
    "start_time": "2024-07-02T16:53:11.557Z"
   },
   {
    "duration": 490,
    "start_time": "2024-07-02T16:53:11.601Z"
   },
   {
    "duration": 6,
    "start_time": "2024-07-02T16:53:12.093Z"
   },
   {
    "duration": 205,
    "start_time": "2024-07-02T16:53:32.104Z"
   },
   {
    "duration": 16,
    "start_time": "2024-07-02T16:53:44.280Z"
   },
   {
    "duration": 18,
    "start_time": "2024-07-02T16:53:52.231Z"
   },
   {
    "duration": 15,
    "start_time": "2024-07-02T16:53:54.937Z"
   },
   {
    "duration": 17,
    "start_time": "2024-07-02T16:53:56.597Z"
   },
   {
    "duration": 218,
    "start_time": "2024-07-02T16:54:00.280Z"
   },
   {
    "duration": 74,
    "start_time": "2024-07-02T16:57:45.228Z"
   },
   {
    "duration": 15,
    "start_time": "2024-07-02T16:57:49.758Z"
   },
   {
    "duration": 18,
    "start_time": "2024-07-02T16:58:54.123Z"
   },
   {
    "duration": 10,
    "start_time": "2024-07-02T16:59:53.392Z"
   },
   {
    "duration": 15,
    "start_time": "2024-07-02T17:00:01.744Z"
   },
   {
    "duration": 15,
    "start_time": "2024-07-02T17:00:17.873Z"
   },
   {
    "duration": 15,
    "start_time": "2024-07-02T17:00:24.486Z"
   },
   {
    "duration": 16,
    "start_time": "2024-07-02T17:12:22.907Z"
   },
   {
    "duration": 19,
    "start_time": "2024-07-02T17:33:54.313Z"
   },
   {
    "duration": 4,
    "start_time": "2024-07-02T17:34:06.226Z"
   },
   {
    "duration": 5,
    "start_time": "2024-07-02T17:34:08.675Z"
   },
   {
    "duration": 19,
    "start_time": "2024-07-02T17:35:44.295Z"
   },
   {
    "duration": 54,
    "start_time": "2024-07-02T17:41:11.042Z"
   },
   {
    "duration": 190,
    "start_time": "2024-07-02T17:41:25.215Z"
   },
   {
    "duration": 25,
    "start_time": "2024-07-02T17:43:09.519Z"
   },
   {
    "duration": 21,
    "start_time": "2024-07-02T17:43:14.347Z"
   },
   {
    "duration": 54,
    "start_time": "2024-07-02T17:45:59.284Z"
   },
   {
    "duration": 36,
    "start_time": "2024-07-02T17:46:08.323Z"
   },
   {
    "duration": 24,
    "start_time": "2024-07-02T17:46:37.916Z"
   },
   {
    "duration": 25,
    "start_time": "2024-07-02T17:46:45.795Z"
   },
   {
    "duration": 25,
    "start_time": "2024-07-02T17:46:54.768Z"
   },
   {
    "duration": 23,
    "start_time": "2024-07-02T17:47:12.738Z"
   },
   {
    "duration": 26,
    "start_time": "2024-07-02T17:47:33.946Z"
   },
   {
    "duration": 23,
    "start_time": "2024-07-02T17:50:09.952Z"
   },
   {
    "duration": 23,
    "start_time": "2024-07-02T17:50:18.292Z"
   },
   {
    "duration": 22,
    "start_time": "2024-07-02T17:50:25.531Z"
   },
   {
    "duration": 23,
    "start_time": "2024-07-02T17:50:31.324Z"
   },
   {
    "duration": 25,
    "start_time": "2024-07-02T17:50:37.226Z"
   },
   {
    "duration": 24,
    "start_time": "2024-07-02T17:50:44.586Z"
   },
   {
    "duration": 18,
    "start_time": "2024-07-02T17:51:09.840Z"
   },
   {
    "duration": 712,
    "start_time": "2024-07-02T17:52:46.214Z"
   },
   {
    "duration": 8,
    "start_time": "2024-07-02T17:53:25.290Z"
   },
   {
    "duration": 9,
    "start_time": "2024-07-02T17:53:35.160Z"
   },
   {
    "duration": 8,
    "start_time": "2024-07-02T17:53:45.262Z"
   },
   {
    "duration": 7,
    "start_time": "2024-07-02T17:53:49.509Z"
   },
   {
    "duration": 8,
    "start_time": "2024-07-02T17:54:44.145Z"
   },
   {
    "duration": 9,
    "start_time": "2024-07-02T17:54:49.186Z"
   },
   {
    "duration": 4,
    "start_time": "2024-07-02T17:57:17.130Z"
   },
   {
    "duration": 724,
    "start_time": "2024-07-02T17:57:41.835Z"
   },
   {
    "duration": 725,
    "start_time": "2024-07-02T17:59:21.958Z"
   },
   {
    "duration": 770,
    "start_time": "2024-07-02T18:00:25.922Z"
   },
   {
    "duration": 725,
    "start_time": "2024-07-02T18:00:36.849Z"
   },
   {
    "duration": 8,
    "start_time": "2024-07-02T18:01:11.768Z"
   },
   {
    "duration": 798,
    "start_time": "2024-07-02T18:01:15.003Z"
   },
   {
    "duration": 18,
    "start_time": "2024-07-02T18:02:13.290Z"
   },
   {
    "duration": 62,
    "start_time": "2024-07-02T18:02:59.674Z"
   },
   {
    "duration": 30,
    "start_time": "2024-07-02T18:03:08.400Z"
   },
   {
    "duration": 45,
    "start_time": "2024-07-02T18:03:16.859Z"
   },
   {
    "duration": 16,
    "start_time": "2024-07-02T18:04:43.337Z"
   },
   {
    "duration": 18,
    "start_time": "2024-07-02T18:05:05.134Z"
   },
   {
    "duration": 15,
    "start_time": "2024-07-02T18:09:29.887Z"
   },
   {
    "duration": 16,
    "start_time": "2024-07-02T18:10:00.598Z"
   },
   {
    "duration": 421,
    "start_time": "2024-07-02T18:10:07.122Z"
   },
   {
    "duration": 90,
    "start_time": "2024-07-02T18:10:07.545Z"
   },
   {
    "duration": 15,
    "start_time": "2024-07-02T18:10:07.637Z"
   },
   {
    "duration": 110,
    "start_time": "2024-07-02T18:10:07.654Z"
   },
   {
    "duration": 48,
    "start_time": "2024-07-02T18:10:07.766Z"
   },
   {
    "duration": 49,
    "start_time": "2024-07-02T18:10:07.816Z"
   },
   {
    "duration": 41,
    "start_time": "2024-07-02T18:10:07.867Z"
   },
   {
    "duration": 50,
    "start_time": "2024-07-02T18:10:07.910Z"
   },
   {
    "duration": 49,
    "start_time": "2024-07-02T18:10:07.962Z"
   },
   {
    "duration": 495,
    "start_time": "2024-07-02T18:10:08.015Z"
   },
   {
    "duration": 5,
    "start_time": "2024-07-02T18:10:08.512Z"
   },
   {
    "duration": 60,
    "start_time": "2024-07-02T18:10:08.519Z"
   },
   {
    "duration": 51,
    "start_time": "2024-07-02T18:10:08.581Z"
   },
   {
    "duration": 88,
    "start_time": "2024-07-02T18:10:08.634Z"
   },
   {
    "duration": 0,
    "start_time": "2024-07-02T18:10:08.723Z"
   },
   {
    "duration": 5,
    "start_time": "2024-07-02T18:12:17.438Z"
   },
   {
    "duration": 11,
    "start_time": "2024-07-02T18:12:55.297Z"
   },
   {
    "duration": 16,
    "start_time": "2024-07-02T18:21:29.116Z"
   },
   {
    "duration": 764,
    "start_time": "2024-07-02T18:21:56.232Z"
   },
   {
    "duration": 7,
    "start_time": "2024-07-02T18:23:02.274Z"
   },
   {
    "duration": 217,
    "start_time": "2024-07-02T18:26:43.256Z"
   },
   {
    "duration": 16,
    "start_time": "2024-07-02T18:27:10.754Z"
   },
   {
    "duration": 748,
    "start_time": "2024-07-02T18:28:07.043Z"
   },
   {
    "duration": 25,
    "start_time": "2024-07-02T18:28:24.901Z"
   },
   {
    "duration": 22,
    "start_time": "2024-07-02T18:28:42.174Z"
   },
   {
    "duration": 754,
    "start_time": "2024-07-02T18:29:16.432Z"
   },
   {
    "duration": 772,
    "start_time": "2024-07-02T18:29:26.298Z"
   },
   {
    "duration": 770,
    "start_time": "2024-07-02T18:29:49.459Z"
   },
   {
    "duration": 215,
    "start_time": "2024-07-02T18:30:30.292Z"
   },
   {
    "duration": 223,
    "start_time": "2024-07-02T18:31:16.898Z"
   },
   {
    "duration": 213,
    "start_time": "2024-07-02T18:32:18.036Z"
   },
   {
    "duration": 286,
    "start_time": "2024-07-02T18:33:12.575Z"
   },
   {
    "duration": 5,
    "start_time": "2024-07-02T18:34:06.256Z"
   },
   {
    "duration": 4,
    "start_time": "2024-07-02T18:34:22.194Z"
   },
   {
    "duration": 132,
    "start_time": "2024-07-02T18:34:41.243Z"
   },
   {
    "duration": 139,
    "start_time": "2024-07-02T18:34:53.202Z"
   },
   {
    "duration": 56,
    "start_time": "2024-07-02T18:35:48.647Z"
   },
   {
    "duration": 16,
    "start_time": "2024-07-02T18:35:55.924Z"
   },
   {
    "duration": 54,
    "start_time": "2024-07-02T18:42:57.698Z"
   },
   {
    "duration": 52,
    "start_time": "2024-07-02T18:43:16.162Z"
   },
   {
    "duration": 28,
    "start_time": "2024-07-02T18:43:24.938Z"
   },
   {
    "duration": 22,
    "start_time": "2024-07-02T18:43:42.592Z"
   },
   {
    "duration": 56,
    "start_time": "2024-07-02T18:44:24.488Z"
   },
   {
    "duration": 54,
    "start_time": "2024-07-02T18:44:38.193Z"
   },
   {
    "duration": 65,
    "start_time": "2024-07-02T18:45:08.208Z"
   },
   {
    "duration": 59,
    "start_time": "2024-07-02T18:45:41.743Z"
   },
   {
    "duration": 20,
    "start_time": "2024-07-02T18:46:49.156Z"
   },
   {
    "duration": 21,
    "start_time": "2024-07-02T18:46:59.997Z"
   },
   {
    "duration": 46,
    "start_time": "2024-07-02T18:47:12.419Z"
   },
   {
    "duration": 27,
    "start_time": "2024-07-02T18:48:48.310Z"
   },
   {
    "duration": 391,
    "start_time": "2024-07-02T18:49:11.348Z"
   },
   {
    "duration": 92,
    "start_time": "2024-07-02T18:49:11.742Z"
   },
   {
    "duration": 15,
    "start_time": "2024-07-02T18:49:11.836Z"
   },
   {
    "duration": 17,
    "start_time": "2024-07-02T18:49:11.853Z"
   },
   {
    "duration": 23,
    "start_time": "2024-07-02T18:49:11.872Z"
   },
   {
    "duration": 15,
    "start_time": "2024-07-02T18:49:11.897Z"
   },
   {
    "duration": 25,
    "start_time": "2024-07-02T18:49:11.914Z"
   },
   {
    "duration": 4,
    "start_time": "2024-07-02T18:49:11.941Z"
   },
   {
    "duration": 51,
    "start_time": "2024-07-02T18:49:11.947Z"
   },
   {
    "duration": 480,
    "start_time": "2024-07-02T18:49:12.001Z"
   },
   {
    "duration": 9,
    "start_time": "2024-07-02T18:49:12.483Z"
   },
   {
    "duration": 32,
    "start_time": "2024-07-02T18:49:12.494Z"
   },
   {
    "duration": 93,
    "start_time": "2024-07-02T18:49:12.527Z"
   },
   {
    "duration": 56,
    "start_time": "2024-07-02T18:58:25.556Z"
   },
   {
    "duration": 895,
    "start_time": "2024-07-02T18:58:51.363Z"
   },
   {
    "duration": 942,
    "start_time": "2024-07-02T18:59:05.349Z"
   },
   {
    "duration": 64,
    "start_time": "2024-07-02T18:59:58.437Z"
   },
   {
    "duration": 884,
    "start_time": "2024-07-02T19:00:04.725Z"
   },
   {
    "duration": 898,
    "start_time": "2024-07-02T19:00:07.699Z"
   },
   {
    "duration": 160,
    "start_time": "2024-07-02T19:00:37.971Z"
   },
   {
    "duration": 1073,
    "start_time": "2024-07-02T19:01:17.132Z"
   },
   {
    "duration": 910,
    "start_time": "2024-07-02T19:16:15.592Z"
   },
   {
    "duration": 959,
    "start_time": "2024-07-02T19:16:50.203Z"
   },
   {
    "duration": 8,
    "start_time": "2024-07-02T19:38:21.937Z"
   },
   {
    "duration": 435,
    "start_time": "2024-07-02T19:38:27.269Z"
   },
   {
    "duration": 85,
    "start_time": "2024-07-02T19:38:27.707Z"
   },
   {
    "duration": 14,
    "start_time": "2024-07-02T19:38:27.793Z"
   },
   {
    "duration": 75,
    "start_time": "2024-07-02T19:38:27.809Z"
   },
   {
    "duration": 82,
    "start_time": "2024-07-02T19:38:27.885Z"
   },
   {
    "duration": 14,
    "start_time": "2024-07-02T19:38:27.968Z"
   },
   {
    "duration": 18,
    "start_time": "2024-07-02T19:38:27.984Z"
   },
   {
    "duration": 3,
    "start_time": "2024-07-02T19:38:28.003Z"
   },
   {
    "duration": 36,
    "start_time": "2024-07-02T19:38:28.007Z"
   },
   {
    "duration": 523,
    "start_time": "2024-07-02T19:38:28.046Z"
   },
   {
    "duration": 10,
    "start_time": "2024-07-02T19:38:28.571Z"
   },
   {
    "duration": 21,
    "start_time": "2024-07-02T19:38:28.591Z"
   },
   {
    "duration": 24,
    "start_time": "2024-07-02T19:38:28.614Z"
   },
   {
    "duration": 891,
    "start_time": "2024-07-02T19:38:28.639Z"
   },
   {
    "duration": 1043,
    "start_time": "2024-07-02T19:40:17.454Z"
   },
   {
    "duration": 9,
    "start_time": "2024-07-02T20:04:06.539Z"
   },
   {
    "duration": 105,
    "start_time": "2024-07-02T21:09:26.743Z"
   },
   {
    "duration": 29,
    "start_time": "2024-07-02T21:13:24.896Z"
   },
   {
    "duration": 21,
    "start_time": "2024-07-02T21:13:37.915Z"
   },
   {
    "duration": 21,
    "start_time": "2024-07-02T21:20:46.412Z"
   },
   {
    "duration": 16,
    "start_time": "2024-07-02T21:21:11.320Z"
   },
   {
    "duration": 16,
    "start_time": "2024-07-02T21:21:15.132Z"
   },
   {
    "duration": 15,
    "start_time": "2024-07-02T21:21:51.719Z"
   },
   {
    "duration": 19,
    "start_time": "2024-07-02T21:24:21.206Z"
   },
   {
    "duration": 16,
    "start_time": "2024-07-02T21:24:38.406Z"
   },
   {
    "duration": 21,
    "start_time": "2024-07-02T21:26:01.710Z"
   },
   {
    "duration": 17,
    "start_time": "2024-07-02T21:26:23.450Z"
   },
   {
    "duration": 18,
    "start_time": "2024-07-02T21:26:31.864Z"
   },
   {
    "duration": 15,
    "start_time": "2024-07-02T21:32:51.529Z"
   },
   {
    "duration": 187,
    "start_time": "2024-07-02T21:33:25.984Z"
   },
   {
    "duration": 134,
    "start_time": "2024-07-02T21:33:40.386Z"
   },
   {
    "duration": 172,
    "start_time": "2024-07-02T21:33:45.306Z"
   },
   {
    "duration": 171,
    "start_time": "2024-07-02T21:33:51.920Z"
   },
   {
    "duration": 204,
    "start_time": "2024-07-02T21:34:47.877Z"
   },
   {
    "duration": 22,
    "start_time": "2024-07-02T22:39:46.843Z"
   },
   {
    "duration": 15,
    "start_time": "2024-07-02T22:40:03.162Z"
   },
   {
    "duration": 360,
    "start_time": "2024-07-02T22:40:52.436Z"
   },
   {
    "duration": 402,
    "start_time": "2024-07-02T22:41:52.043Z"
   },
   {
    "duration": 361,
    "start_time": "2024-07-02T22:42:57.864Z"
   },
   {
    "duration": 453,
    "start_time": "2024-07-02T22:43:12.612Z"
   },
   {
    "duration": 447,
    "start_time": "2024-07-02T22:43:38.501Z"
   },
   {
    "duration": 408,
    "start_time": "2024-07-02T22:45:59.496Z"
   },
   {
    "duration": 64,
    "start_time": "2024-07-02T22:47:26.328Z"
   },
   {
    "duration": 97,
    "start_time": "2024-07-02T22:47:53.256Z"
   },
   {
    "duration": 107,
    "start_time": "2024-07-02T22:48:04.001Z"
   },
   {
    "duration": 242,
    "start_time": "2024-07-02T22:48:10.456Z"
   },
   {
    "duration": 195,
    "start_time": "2024-07-02T22:48:56.578Z"
   },
   {
    "duration": 195,
    "start_time": "2024-07-02T22:49:38.050Z"
   },
   {
    "duration": 195,
    "start_time": "2024-07-02T22:49:54.118Z"
   },
   {
    "duration": 201,
    "start_time": "2024-07-02T22:50:30.661Z"
   },
   {
    "duration": 204,
    "start_time": "2024-07-02T22:50:58.095Z"
   },
   {
    "duration": 21,
    "start_time": "2024-07-02T22:52:19.746Z"
   },
   {
    "duration": 18,
    "start_time": "2024-07-02T22:52:30.513Z"
   },
   {
    "duration": 17,
    "start_time": "2024-07-02T22:52:36.780Z"
   },
   {
    "duration": 197,
    "start_time": "2024-07-02T22:52:54.155Z"
   },
   {
    "duration": 204,
    "start_time": "2024-07-02T22:58:00.721Z"
   },
   {
    "duration": 303,
    "start_time": "2024-07-02T22:58:45.430Z"
   },
   {
    "duration": 201,
    "start_time": "2024-07-02T23:01:42.197Z"
   },
   {
    "duration": 202,
    "start_time": "2024-07-02T23:01:48.056Z"
   },
   {
    "duration": 219,
    "start_time": "2024-07-02T23:01:53.528Z"
   },
   {
    "duration": 210,
    "start_time": "2024-07-02T23:02:42.882Z"
   },
   {
    "duration": 199,
    "start_time": "2024-07-02T23:03:34.686Z"
   },
   {
    "duration": 190,
    "start_time": "2024-07-02T23:03:37.160Z"
   },
   {
    "duration": 208,
    "start_time": "2024-07-02T23:04:33.436Z"
   },
   {
    "duration": 176,
    "start_time": "2024-07-02T23:04:51.700Z"
   },
   {
    "duration": 200,
    "start_time": "2024-07-02T23:05:04.196Z"
   },
   {
    "duration": 188,
    "start_time": "2024-07-02T23:05:06.778Z"
   },
   {
    "duration": 66,
    "start_time": "2024-07-02T23:09:44.756Z"
   },
   {
    "duration": 14,
    "start_time": "2024-07-02T23:24:04.040Z"
   },
   {
    "duration": 23,
    "start_time": "2024-07-02T23:32:36.096Z"
   },
   {
    "duration": 10,
    "start_time": "2024-07-02T23:33:46.370Z"
   },
   {
    "duration": 9,
    "start_time": "2024-07-02T23:35:32.978Z"
   },
   {
    "duration": 331,
    "start_time": "2024-07-02T23:35:40.379Z"
   },
   {
    "duration": 289,
    "start_time": "2024-07-02T23:36:46.553Z"
   },
   {
    "duration": 8,
    "start_time": "2024-07-02T23:38:41.947Z"
   },
   {
    "duration": 9,
    "start_time": "2024-07-02T23:39:22.522Z"
   },
   {
    "duration": 6,
    "start_time": "2024-07-02T23:39:27.175Z"
   },
   {
    "duration": 4,
    "start_time": "2024-07-02T23:39:31.145Z"
   },
   {
    "duration": 3,
    "start_time": "2024-07-02T23:39:33.355Z"
   },
   {
    "duration": 6,
    "start_time": "2024-07-02T23:39:34.446Z"
   },
   {
    "duration": 6,
    "start_time": "2024-07-02T23:41:23.314Z"
   },
   {
    "duration": 47,
    "start_time": "2024-07-03T07:34:06.310Z"
   },
   {
    "duration": 411,
    "start_time": "2024-07-03T07:34:11.773Z"
   },
   {
    "duration": 136,
    "start_time": "2024-07-03T07:34:12.186Z"
   },
   {
    "duration": 11,
    "start_time": "2024-07-03T07:34:12.324Z"
   },
   {
    "duration": 24,
    "start_time": "2024-07-03T07:34:12.337Z"
   },
   {
    "duration": 7,
    "start_time": "2024-07-03T07:34:12.363Z"
   },
   {
    "duration": 9,
    "start_time": "2024-07-03T07:34:12.372Z"
   },
   {
    "duration": 12,
    "start_time": "2024-07-03T07:34:12.382Z"
   },
   {
    "duration": 24,
    "start_time": "2024-07-03T07:34:12.396Z"
   },
   {
    "duration": 24,
    "start_time": "2024-07-03T07:34:12.422Z"
   },
   {
    "duration": 625,
    "start_time": "2024-07-03T07:34:12.448Z"
   },
   {
    "duration": 7,
    "start_time": "2024-07-03T07:34:13.075Z"
   },
   {
    "duration": 12,
    "start_time": "2024-07-03T07:34:13.083Z"
   },
   {
    "duration": 17,
    "start_time": "2024-07-03T07:34:13.096Z"
   },
   {
    "duration": 884,
    "start_time": "2024-07-03T07:34:13.114Z"
   },
   {
    "duration": 6,
    "start_time": "2024-07-03T07:34:14.000Z"
   },
   {
    "duration": 29,
    "start_time": "2024-07-03T07:34:14.008Z"
   },
   {
    "duration": 28,
    "start_time": "2024-07-03T07:34:14.039Z"
   },
   {
    "duration": 171,
    "start_time": "2024-07-03T07:34:14.069Z"
   },
   {
    "duration": 21,
    "start_time": "2024-07-03T07:34:14.241Z"
   },
   {
    "duration": 202,
    "start_time": "2024-07-03T07:34:14.264Z"
   },
   {
    "duration": 216,
    "start_time": "2024-07-03T07:34:14.468Z"
   },
   {
    "duration": 14,
    "start_time": "2024-07-03T07:34:14.686Z"
   },
   {
    "duration": 35,
    "start_time": "2024-07-03T07:34:14.702Z"
   },
   {
    "duration": 44,
    "start_time": "2024-07-03T07:34:14.740Z"
   },
   {
    "duration": 8,
    "start_time": "2024-07-03T07:34:14.786Z"
   },
   {
    "duration": 20,
    "start_time": "2024-07-03T07:34:14.795Z"
   },
   {
    "duration": 133,
    "start_time": "2024-07-03T07:35:38.526Z"
   },
   {
    "duration": 427,
    "start_time": "2024-07-03T07:36:09.541Z"
   },
   {
    "duration": 83,
    "start_time": "2024-07-03T07:36:09.970Z"
   },
   {
    "duration": 11,
    "start_time": "2024-07-03T07:36:10.054Z"
   },
   {
    "duration": 33,
    "start_time": "2024-07-03T07:36:10.067Z"
   },
   {
    "duration": 5,
    "start_time": "2024-07-03T07:36:10.102Z"
   },
   {
    "duration": 79,
    "start_time": "2024-07-03T07:36:10.108Z"
   },
   {
    "duration": 9,
    "start_time": "2024-07-03T07:36:10.188Z"
   },
   {
    "duration": 104,
    "start_time": "2024-07-03T07:36:10.198Z"
   },
   {
    "duration": 0,
    "start_time": "2024-07-03T07:36:10.304Z"
   },
   {
    "duration": 0,
    "start_time": "2024-07-03T07:36:10.306Z"
   },
   {
    "duration": 0,
    "start_time": "2024-07-03T07:36:10.307Z"
   },
   {
    "duration": 0,
    "start_time": "2024-07-03T07:36:10.308Z"
   },
   {
    "duration": 0,
    "start_time": "2024-07-03T07:36:10.309Z"
   },
   {
    "duration": 0,
    "start_time": "2024-07-03T07:36:10.310Z"
   },
   {
    "duration": 0,
    "start_time": "2024-07-03T07:36:10.311Z"
   },
   {
    "duration": 0,
    "start_time": "2024-07-03T07:36:10.312Z"
   },
   {
    "duration": 0,
    "start_time": "2024-07-03T07:36:10.312Z"
   },
   {
    "duration": 0,
    "start_time": "2024-07-03T07:36:10.313Z"
   },
   {
    "duration": 0,
    "start_time": "2024-07-03T07:36:10.314Z"
   },
   {
    "duration": 0,
    "start_time": "2024-07-03T07:36:10.315Z"
   },
   {
    "duration": 0,
    "start_time": "2024-07-03T07:36:10.316Z"
   },
   {
    "duration": 0,
    "start_time": "2024-07-03T07:36:10.317Z"
   },
   {
    "duration": 0,
    "start_time": "2024-07-03T07:36:10.318Z"
   },
   {
    "duration": 0,
    "start_time": "2024-07-03T07:36:10.319Z"
   },
   {
    "duration": 0,
    "start_time": "2024-07-03T07:36:10.320Z"
   },
   {
    "duration": 0,
    "start_time": "2024-07-03T07:36:10.321Z"
   },
   {
    "duration": 358,
    "start_time": "2024-07-03T07:38:32.614Z"
   },
   {
    "duration": 81,
    "start_time": "2024-07-03T07:38:32.974Z"
   },
   {
    "duration": 11,
    "start_time": "2024-07-03T07:38:33.057Z"
   },
   {
    "duration": 28,
    "start_time": "2024-07-03T07:38:33.070Z"
   },
   {
    "duration": 7,
    "start_time": "2024-07-03T07:38:33.100Z"
   },
   {
    "duration": 38011,
    "start_time": "2024-07-03T07:38:33.108Z"
   },
   {
    "duration": 13,
    "start_time": "2024-07-03T07:39:11.120Z"
   },
   {
    "duration": 80,
    "start_time": "2024-07-03T07:39:11.134Z"
   },
   {
    "duration": 0,
    "start_time": "2024-07-03T07:39:11.216Z"
   },
   {
    "duration": 0,
    "start_time": "2024-07-03T07:39:11.217Z"
   },
   {
    "duration": 0,
    "start_time": "2024-07-03T07:39:11.218Z"
   },
   {
    "duration": 0,
    "start_time": "2024-07-03T07:39:11.219Z"
   },
   {
    "duration": 0,
    "start_time": "2024-07-03T07:39:11.219Z"
   },
   {
    "duration": 0,
    "start_time": "2024-07-03T07:39:11.221Z"
   },
   {
    "duration": 0,
    "start_time": "2024-07-03T07:39:11.222Z"
   },
   {
    "duration": 0,
    "start_time": "2024-07-03T07:39:11.223Z"
   },
   {
    "duration": 0,
    "start_time": "2024-07-03T07:39:11.224Z"
   },
   {
    "duration": 0,
    "start_time": "2024-07-03T07:39:11.225Z"
   },
   {
    "duration": 0,
    "start_time": "2024-07-03T07:39:11.226Z"
   },
   {
    "duration": 0,
    "start_time": "2024-07-03T07:39:11.227Z"
   },
   {
    "duration": 0,
    "start_time": "2024-07-03T07:39:11.228Z"
   },
   {
    "duration": 0,
    "start_time": "2024-07-03T07:39:11.229Z"
   },
   {
    "duration": 0,
    "start_time": "2024-07-03T07:39:11.230Z"
   },
   {
    "duration": 0,
    "start_time": "2024-07-03T07:39:11.231Z"
   },
   {
    "duration": 0,
    "start_time": "2024-07-03T07:39:11.232Z"
   },
   {
    "duration": 0,
    "start_time": "2024-07-03T07:39:11.260Z"
   },
   {
    "duration": 6,
    "start_time": "2024-07-03T07:40:43.108Z"
   },
   {
    "duration": 6,
    "start_time": "2024-07-03T07:41:06.557Z"
   },
   {
    "duration": 18,
    "start_time": "2024-07-03T07:42:26.213Z"
   },
   {
    "duration": 402,
    "start_time": "2024-07-03T07:42:30.994Z"
   },
   {
    "duration": 84,
    "start_time": "2024-07-03T07:42:31.398Z"
   },
   {
    "duration": 13,
    "start_time": "2024-07-03T07:42:31.483Z"
   },
   {
    "duration": 24,
    "start_time": "2024-07-03T07:42:31.497Z"
   },
   {
    "duration": 12,
    "start_time": "2024-07-03T07:42:31.523Z"
   },
   {
    "duration": 8,
    "start_time": "2024-07-03T07:42:31.537Z"
   },
   {
    "duration": 37422,
    "start_time": "2024-07-03T07:42:31.546Z"
   },
   {
    "duration": 14,
    "start_time": "2024-07-03T07:43:08.970Z"
   },
   {
    "duration": 5,
    "start_time": "2024-07-03T07:43:08.985Z"
   },
   {
    "duration": 23,
    "start_time": "2024-07-03T07:43:08.992Z"
   },
   {
    "duration": 487,
    "start_time": "2024-07-03T07:43:09.017Z"
   },
   {
    "duration": 7,
    "start_time": "2024-07-03T07:43:09.506Z"
   },
   {
    "duration": 16,
    "start_time": "2024-07-03T07:43:09.514Z"
   },
   {
    "duration": 15,
    "start_time": "2024-07-03T07:43:09.532Z"
   },
   {
    "duration": 923,
    "start_time": "2024-07-03T07:43:09.549Z"
   },
   {
    "duration": 8,
    "start_time": "2024-07-03T07:43:10.474Z"
   },
   {
    "duration": 18,
    "start_time": "2024-07-03T07:43:10.484Z"
   },
   {
    "duration": 15,
    "start_time": "2024-07-03T07:43:10.503Z"
   },
   {
    "duration": 196,
    "start_time": "2024-07-03T07:43:10.519Z"
   },
   {
    "duration": 15,
    "start_time": "2024-07-03T07:43:10.716Z"
   },
   {
    "duration": 226,
    "start_time": "2024-07-03T07:43:10.732Z"
   },
   {
    "duration": 206,
    "start_time": "2024-07-03T07:43:10.960Z"
   },
   {
    "duration": 13,
    "start_time": "2024-07-03T07:43:11.168Z"
   },
   {
    "duration": 31,
    "start_time": "2024-07-03T07:43:11.183Z"
   },
   {
    "duration": 45,
    "start_time": "2024-07-03T07:43:11.215Z"
   },
   {
    "duration": 27,
    "start_time": "2024-07-03T07:43:11.262Z"
   },
   {
    "duration": 15,
    "start_time": "2024-07-03T07:43:11.290Z"
   },
   {
    "duration": 5,
    "start_time": "2024-07-03T07:50:46.195Z"
   },
   {
    "duration": 426,
    "start_time": "2024-07-03T07:51:23.966Z"
   },
   {
    "duration": 90,
    "start_time": "2024-07-03T07:51:24.394Z"
   },
   {
    "duration": 13,
    "start_time": "2024-07-03T07:51:24.486Z"
   },
   {
    "duration": 19,
    "start_time": "2024-07-03T07:51:24.502Z"
   },
   {
    "duration": 10,
    "start_time": "2024-07-03T07:51:24.523Z"
   },
   {
    "duration": 33,
    "start_time": "2024-07-03T07:51:24.535Z"
   },
   {
    "duration": 38792,
    "start_time": "2024-07-03T07:51:24.570Z"
   },
   {
    "duration": 5,
    "start_time": "2024-07-03T07:52:03.364Z"
   },
   {
    "duration": 36,
    "start_time": "2024-07-03T07:52:03.370Z"
   },
   {
    "duration": 5,
    "start_time": "2024-07-03T07:52:03.409Z"
   },
   {
    "duration": 26,
    "start_time": "2024-07-03T07:52:03.416Z"
   },
   {
    "duration": 464,
    "start_time": "2024-07-03T07:52:03.444Z"
   },
   {
    "duration": 7,
    "start_time": "2024-07-03T07:52:03.909Z"
   },
   {
    "duration": 15,
    "start_time": "2024-07-03T07:52:03.918Z"
   },
   {
    "duration": 28,
    "start_time": "2024-07-03T07:52:03.934Z"
   },
   {
    "duration": 1000,
    "start_time": "2024-07-03T07:52:03.964Z"
   },
   {
    "duration": 7,
    "start_time": "2024-07-03T07:52:04.965Z"
   },
   {
    "duration": 21,
    "start_time": "2024-07-03T07:52:04.973Z"
   },
   {
    "duration": 15,
    "start_time": "2024-07-03T07:52:04.996Z"
   },
   {
    "duration": 191,
    "start_time": "2024-07-03T07:52:05.013Z"
   },
   {
    "duration": 14,
    "start_time": "2024-07-03T07:52:05.206Z"
   },
   {
    "duration": 228,
    "start_time": "2024-07-03T07:52:05.222Z"
   },
   {
    "duration": 222,
    "start_time": "2024-07-03T07:52:05.452Z"
   },
   {
    "duration": 14,
    "start_time": "2024-07-03T07:52:05.676Z"
   },
   {
    "duration": 19,
    "start_time": "2024-07-03T07:52:05.692Z"
   },
   {
    "duration": 8,
    "start_time": "2024-07-03T07:52:05.712Z"
   },
   {
    "duration": 7,
    "start_time": "2024-07-03T07:52:05.722Z"
   },
   {
    "duration": 6,
    "start_time": "2024-07-03T07:52:05.761Z"
   },
   {
    "duration": 5,
    "start_time": "2024-07-03T07:57:21.037Z"
   },
   {
    "duration": 432,
    "start_time": "2024-07-03T07:58:11.143Z"
   },
   {
    "duration": 85,
    "start_time": "2024-07-03T07:58:11.577Z"
   },
   {
    "duration": 18,
    "start_time": "2024-07-03T07:58:11.664Z"
   },
   {
    "duration": 26,
    "start_time": "2024-07-03T07:58:11.683Z"
   },
   {
    "duration": 11,
    "start_time": "2024-07-03T07:58:11.712Z"
   },
   {
    "duration": 10,
    "start_time": "2024-07-03T07:58:11.724Z"
   },
   {
    "duration": 41412,
    "start_time": "2024-07-03T07:58:11.760Z"
   },
   {
    "duration": 5,
    "start_time": "2024-07-03T07:58:53.173Z"
   },
   {
    "duration": 12,
    "start_time": "2024-07-03T07:58:53.180Z"
   },
   {
    "duration": 14,
    "start_time": "2024-07-03T07:58:53.193Z"
   },
   {
    "duration": 7,
    "start_time": "2024-07-03T07:58:53.209Z"
   },
   {
    "duration": 51,
    "start_time": "2024-07-03T07:58:53.217Z"
   },
   {
    "duration": 486,
    "start_time": "2024-07-03T07:58:53.270Z"
   },
   {
    "duration": 7,
    "start_time": "2024-07-03T07:58:53.761Z"
   },
   {
    "duration": 5,
    "start_time": "2024-07-03T07:58:53.769Z"
   },
   {
    "duration": 15,
    "start_time": "2024-07-03T07:58:53.775Z"
   },
   {
    "duration": 948,
    "start_time": "2024-07-03T07:58:53.792Z"
   },
   {
    "duration": 7,
    "start_time": "2024-07-03T07:58:54.742Z"
   },
   {
    "duration": 30,
    "start_time": "2024-07-03T07:58:54.750Z"
   },
   {
    "duration": 16,
    "start_time": "2024-07-03T07:58:54.782Z"
   },
   {
    "duration": 193,
    "start_time": "2024-07-03T07:58:54.800Z"
   },
   {
    "duration": 15,
    "start_time": "2024-07-03T07:58:54.994Z"
   },
   {
    "duration": 249,
    "start_time": "2024-07-03T07:58:55.011Z"
   },
   {
    "duration": 201,
    "start_time": "2024-07-03T07:58:55.262Z"
   },
   {
    "duration": 14,
    "start_time": "2024-07-03T07:58:55.465Z"
   },
   {
    "duration": 15,
    "start_time": "2024-07-03T07:58:55.480Z"
   },
   {
    "duration": 13,
    "start_time": "2024-07-03T07:58:55.497Z"
   },
   {
    "duration": 17,
    "start_time": "2024-07-03T07:58:55.511Z"
   },
   {
    "duration": 17,
    "start_time": "2024-07-03T07:58:55.529Z"
   },
   {
    "duration": 5,
    "start_time": "2024-07-03T08:03:09.608Z"
   },
   {
    "duration": 6,
    "start_time": "2024-07-03T08:11:32.299Z"
   },
   {
    "duration": 6,
    "start_time": "2024-07-03T08:14:34.192Z"
   },
   {
    "duration": 8,
    "start_time": "2024-07-03T08:14:39.517Z"
   },
   {
    "duration": 14,
    "start_time": "2024-07-03T08:14:49.397Z"
   },
   {
    "duration": 431,
    "start_time": "2024-07-03T08:15:38.468Z"
   },
   {
    "duration": 82,
    "start_time": "2024-07-03T08:15:38.900Z"
   },
   {
    "duration": 13,
    "start_time": "2024-07-03T08:15:38.983Z"
   },
   {
    "duration": 20,
    "start_time": "2024-07-03T08:15:38.998Z"
   },
   {
    "duration": 10,
    "start_time": "2024-07-03T08:15:39.020Z"
   },
   {
    "duration": 10,
    "start_time": "2024-07-03T08:15:39.031Z"
   },
   {
    "duration": 37684,
    "start_time": "2024-07-03T08:15:39.060Z"
   },
   {
    "duration": 7,
    "start_time": "2024-07-03T08:16:16.746Z"
   },
   {
    "duration": 83,
    "start_time": "2024-07-03T08:16:16.760Z"
   },
   {
    "duration": 13,
    "start_time": "2024-07-03T08:16:16.844Z"
   },
   {
    "duration": 4,
    "start_time": "2024-07-03T08:16:16.859Z"
   },
   {
    "duration": 9,
    "start_time": "2024-07-03T08:16:16.865Z"
   },
   {
    "duration": 18,
    "start_time": "2024-07-03T08:16:16.875Z"
   },
   {
    "duration": 497,
    "start_time": "2024-07-03T08:16:16.896Z"
   },
   {
    "duration": 7,
    "start_time": "2024-07-03T08:16:17.395Z"
   },
   {
    "duration": 12,
    "start_time": "2024-07-03T08:16:17.403Z"
   },
   {
    "duration": 15,
    "start_time": "2024-07-03T08:16:17.417Z"
   },
   {
    "duration": 1036,
    "start_time": "2024-07-03T08:16:17.433Z"
   },
   {
    "duration": 7,
    "start_time": "2024-07-03T08:16:18.471Z"
   },
   {
    "duration": 18,
    "start_time": "2024-07-03T08:16:18.479Z"
   },
   {
    "duration": 15,
    "start_time": "2024-07-03T08:16:18.498Z"
   },
   {
    "duration": 182,
    "start_time": "2024-07-03T08:16:18.515Z"
   },
   {
    "duration": 13,
    "start_time": "2024-07-03T08:16:18.698Z"
   },
   {
    "duration": 197,
    "start_time": "2024-07-03T08:16:18.713Z"
   },
   {
    "duration": 189,
    "start_time": "2024-07-03T08:16:18.911Z"
   },
   {
    "duration": 13,
    "start_time": "2024-07-03T08:16:19.101Z"
   },
   {
    "duration": 23,
    "start_time": "2024-07-03T08:16:19.115Z"
   },
   {
    "duration": 5,
    "start_time": "2024-07-03T08:16:19.139Z"
   },
   {
    "duration": 37,
    "start_time": "2024-07-03T08:16:19.146Z"
   },
   {
    "duration": 15,
    "start_time": "2024-07-03T08:16:19.184Z"
   },
   {
    "duration": 17,
    "start_time": "2024-07-03T08:35:57.477Z"
   },
   {
    "duration": 16,
    "start_time": "2024-07-03T08:36:52.808Z"
   },
   {
    "duration": 367,
    "start_time": "2024-07-03T08:41:48.692Z"
   },
   {
    "duration": 79,
    "start_time": "2024-07-03T08:41:49.061Z"
   },
   {
    "duration": 10,
    "start_time": "2024-07-03T08:41:49.142Z"
   },
   {
    "duration": 18,
    "start_time": "2024-07-03T08:41:49.154Z"
   },
   {
    "duration": 8,
    "start_time": "2024-07-03T08:41:49.174Z"
   },
   {
    "duration": 11,
    "start_time": "2024-07-03T08:41:49.183Z"
   },
   {
    "duration": 37016,
    "start_time": "2024-07-03T08:41:49.196Z"
   },
   {
    "duration": 6,
    "start_time": "2024-07-03T08:42:26.214Z"
   },
   {
    "duration": 16,
    "start_time": "2024-07-03T08:42:26.221Z"
   },
   {
    "duration": 26,
    "start_time": "2024-07-03T08:42:26.239Z"
   },
   {
    "duration": 6,
    "start_time": "2024-07-03T08:42:26.267Z"
   },
   {
    "duration": 8,
    "start_time": "2024-07-03T08:42:26.274Z"
   },
   {
    "duration": 52,
    "start_time": "2024-07-03T08:42:26.284Z"
   },
   {
    "duration": 475,
    "start_time": "2024-07-03T08:42:26.339Z"
   },
   {
    "duration": 7,
    "start_time": "2024-07-03T08:42:26.815Z"
   },
   {
    "duration": 5,
    "start_time": "2024-07-03T08:42:26.823Z"
   },
   {
    "duration": 14,
    "start_time": "2024-07-03T08:42:26.830Z"
   },
   {
    "duration": 893,
    "start_time": "2024-07-03T08:42:26.861Z"
   },
   {
    "duration": 10,
    "start_time": "2024-07-03T08:42:27.756Z"
   },
   {
    "duration": 15,
    "start_time": "2024-07-03T08:42:27.767Z"
   },
   {
    "duration": 14,
    "start_time": "2024-07-03T08:42:27.784Z"
   },
   {
    "duration": 15,
    "start_time": "2024-07-03T08:42:27.799Z"
   },
   {
    "duration": 217,
    "start_time": "2024-07-03T08:42:27.815Z"
   },
   {
    "duration": 14,
    "start_time": "2024-07-03T08:42:28.034Z"
   },
   {
    "duration": 194,
    "start_time": "2024-07-03T08:42:28.060Z"
   },
   {
    "duration": 179,
    "start_time": "2024-07-03T08:42:28.256Z"
   },
   {
    "duration": 12,
    "start_time": "2024-07-03T08:42:28.437Z"
   },
   {
    "duration": 11,
    "start_time": "2024-07-03T08:42:28.461Z"
   },
   {
    "duration": 6,
    "start_time": "2024-07-03T08:42:28.474Z"
   },
   {
    "duration": 8,
    "start_time": "2024-07-03T08:42:28.481Z"
   },
   {
    "duration": 8,
    "start_time": "2024-07-03T08:42:28.490Z"
   },
   {
    "duration": 132,
    "start_time": "2024-07-03T09:06:45.665Z"
   },
   {
    "duration": 430,
    "start_time": "2024-07-03T09:07:01.503Z"
   },
   {
    "duration": 88,
    "start_time": "2024-07-03T09:07:01.935Z"
   },
   {
    "duration": 12,
    "start_time": "2024-07-03T09:07:02.025Z"
   },
   {
    "duration": 43,
    "start_time": "2024-07-03T09:07:02.039Z"
   },
   {
    "duration": 24,
    "start_time": "2024-07-03T09:07:02.085Z"
   },
   {
    "duration": 19,
    "start_time": "2024-07-03T09:07:02.111Z"
   },
   {
    "duration": 37980,
    "start_time": "2024-07-03T09:07:02.132Z"
   },
   {
    "duration": 5,
    "start_time": "2024-07-03T09:07:40.114Z"
   },
   {
    "duration": 15,
    "start_time": "2024-07-03T09:07:40.120Z"
   },
   {
    "duration": 24,
    "start_time": "2024-07-03T09:07:40.137Z"
   },
   {
    "duration": 7,
    "start_time": "2024-07-03T09:07:40.162Z"
   },
   {
    "duration": 12,
    "start_time": "2024-07-03T09:07:40.171Z"
   },
   {
    "duration": 17,
    "start_time": "2024-07-03T09:07:40.185Z"
   },
   {
    "duration": 593,
    "start_time": "2024-07-03T09:07:40.205Z"
   },
   {
    "duration": 7,
    "start_time": "2024-07-03T09:07:40.799Z"
   },
   {
    "duration": 5,
    "start_time": "2024-07-03T09:07:40.807Z"
   },
   {
    "duration": 17,
    "start_time": "2024-07-03T09:07:40.813Z"
   },
   {
    "duration": 910,
    "start_time": "2024-07-03T09:07:40.832Z"
   },
   {
    "duration": 7,
    "start_time": "2024-07-03T09:07:41.743Z"
   },
   {
    "duration": 15,
    "start_time": "2024-07-03T09:07:41.760Z"
   },
   {
    "duration": 15,
    "start_time": "2024-07-03T09:07:41.777Z"
   },
   {
    "duration": 20,
    "start_time": "2024-07-03T09:07:41.794Z"
   },
   {
    "duration": 218,
    "start_time": "2024-07-03T09:07:41.816Z"
   },
   {
    "duration": 15,
    "start_time": "2024-07-03T09:07:42.035Z"
   },
   {
    "duration": 272,
    "start_time": "2024-07-03T09:07:42.061Z"
   },
   {
    "duration": 220,
    "start_time": "2024-07-03T09:07:42.335Z"
   },
   {
    "duration": 14,
    "start_time": "2024-07-03T09:07:42.557Z"
   },
   {
    "duration": 19,
    "start_time": "2024-07-03T09:07:42.572Z"
   },
   {
    "duration": 10,
    "start_time": "2024-07-03T09:07:42.592Z"
   },
   {
    "duration": 10,
    "start_time": "2024-07-03T09:07:42.604Z"
   },
   {
    "duration": 13,
    "start_time": "2024-07-03T09:07:42.616Z"
   },
   {
    "duration": 389,
    "start_time": "2024-07-03T20:09:44.387Z"
   },
   {
    "duration": 135,
    "start_time": "2024-07-03T20:09:44.778Z"
   },
   {
    "duration": 10,
    "start_time": "2024-07-03T20:09:44.914Z"
   },
   {
    "duration": 16,
    "start_time": "2024-07-03T20:09:44.925Z"
   },
   {
    "duration": 7,
    "start_time": "2024-07-03T20:09:44.943Z"
   },
   {
    "duration": 8,
    "start_time": "2024-07-03T20:09:44.951Z"
   },
   {
    "duration": 27419,
    "start_time": "2024-07-03T20:09:44.960Z"
   },
   {
    "duration": 5,
    "start_time": "2024-07-03T20:10:12.380Z"
   },
   {
    "duration": 17,
    "start_time": "2024-07-03T20:10:12.386Z"
   },
   {
    "duration": 12,
    "start_time": "2024-07-03T20:10:12.405Z"
   },
   {
    "duration": 5,
    "start_time": "2024-07-03T20:10:12.418Z"
   },
   {
    "duration": 8,
    "start_time": "2024-07-03T20:10:12.424Z"
   },
   {
    "duration": 36,
    "start_time": "2024-07-03T20:10:12.434Z"
   },
   {
    "duration": 697,
    "start_time": "2024-07-03T20:10:12.473Z"
   },
   {
    "duration": 8,
    "start_time": "2024-07-03T20:10:13.172Z"
   },
   {
    "duration": 18,
    "start_time": "2024-07-03T20:10:13.181Z"
   },
   {
    "duration": 20,
    "start_time": "2024-07-03T20:10:13.202Z"
   },
   {
    "duration": 786,
    "start_time": "2024-07-03T20:10:13.224Z"
   },
   {
    "duration": 6,
    "start_time": "2024-07-03T20:10:14.011Z"
   },
   {
    "duration": 13,
    "start_time": "2024-07-03T20:10:14.019Z"
   },
   {
    "duration": 13,
    "start_time": "2024-07-03T20:10:14.033Z"
   },
   {
    "duration": 13,
    "start_time": "2024-07-03T20:10:14.048Z"
   },
   {
    "duration": 93,
    "start_time": "2024-07-03T20:10:14.062Z"
   },
   {
    "duration": 0,
    "start_time": "2024-07-03T20:10:14.156Z"
   },
   {
    "duration": 0,
    "start_time": "2024-07-03T20:10:14.157Z"
   },
   {
    "duration": 0,
    "start_time": "2024-07-03T20:10:14.158Z"
   },
   {
    "duration": 0,
    "start_time": "2024-07-03T20:10:14.159Z"
   },
   {
    "duration": 0,
    "start_time": "2024-07-03T20:10:14.160Z"
   },
   {
    "duration": 0,
    "start_time": "2024-07-03T20:10:14.161Z"
   },
   {
    "duration": 0,
    "start_time": "2024-07-03T20:10:14.162Z"
   },
   {
    "duration": 0,
    "start_time": "2024-07-03T20:10:14.163Z"
   },
   {
    "duration": 0,
    "start_time": "2024-07-03T20:10:14.164Z"
   },
   {
    "duration": 13,
    "start_time": "2024-07-03T20:11:41.433Z"
   },
   {
    "duration": 8,
    "start_time": "2024-07-03T20:12:10.687Z"
   },
   {
    "duration": 8,
    "start_time": "2024-07-03T20:13:17.562Z"
   },
   {
    "duration": 20,
    "start_time": "2024-07-03T20:17:31.044Z"
   },
   {
    "duration": 7,
    "start_time": "2024-07-03T20:17:46.144Z"
   },
   {
    "duration": 10,
    "start_time": "2024-07-03T20:17:50.257Z"
   },
   {
    "duration": 19,
    "start_time": "2024-07-03T20:18:15.622Z"
   },
   {
    "duration": 11,
    "start_time": "2024-07-03T20:18:45.218Z"
   },
   {
    "duration": 127,
    "start_time": "2024-07-03T20:21:56.587Z"
   },
   {
    "duration": 124,
    "start_time": "2024-07-03T20:23:18.267Z"
   },
   {
    "duration": 131,
    "start_time": "2024-07-03T20:23:47.160Z"
   },
   {
    "duration": 122,
    "start_time": "2024-07-03T20:23:53.931Z"
   },
   {
    "duration": 246,
    "start_time": "2024-07-03T20:26:54.110Z"
   },
   {
    "duration": 170,
    "start_time": "2024-07-03T20:29:07.918Z"
   },
   {
    "duration": 152,
    "start_time": "2024-07-03T20:30:13.990Z"
   },
   {
    "duration": 170,
    "start_time": "2024-07-03T20:31:57.542Z"
   },
   {
    "duration": 165,
    "start_time": "2024-07-03T20:34:06.597Z"
   },
   {
    "duration": 266,
    "start_time": "2024-07-03T20:34:26.422Z"
   },
   {
    "duration": 279,
    "start_time": "2024-07-03T20:55:45.915Z"
   },
   {
    "duration": 15,
    "start_time": "2024-07-03T20:58:12.477Z"
   },
   {
    "duration": 15,
    "start_time": "2024-07-03T20:58:54.686Z"
   },
   {
    "duration": 411,
    "start_time": "2024-07-03T20:59:00.237Z"
   },
   {
    "duration": 81,
    "start_time": "2024-07-03T20:59:00.650Z"
   },
   {
    "duration": 31,
    "start_time": "2024-07-03T20:59:00.733Z"
   },
   {
    "duration": 198,
    "start_time": "2024-07-03T20:59:00.766Z"
   },
   {
    "duration": 31,
    "start_time": "2024-07-03T20:59:00.966Z"
   },
   {
    "duration": 52,
    "start_time": "2024-07-03T20:59:00.999Z"
   },
   {
    "duration": 27486,
    "start_time": "2024-07-03T20:59:01.052Z"
   },
   {
    "duration": 4,
    "start_time": "2024-07-03T20:59:28.539Z"
   },
   {
    "duration": 8,
    "start_time": "2024-07-03T20:59:28.545Z"
   },
   {
    "duration": 14,
    "start_time": "2024-07-03T20:59:28.555Z"
   },
   {
    "duration": 15,
    "start_time": "2024-07-03T20:59:28.570Z"
   },
   {
    "duration": 8,
    "start_time": "2024-07-03T20:59:28.587Z"
   },
   {
    "duration": 13,
    "start_time": "2024-07-03T20:59:28.596Z"
   },
   {
    "duration": 385,
    "start_time": "2024-07-03T20:59:28.610Z"
   },
   {
    "duration": 12,
    "start_time": "2024-07-03T20:59:28.996Z"
   },
   {
    "duration": 4,
    "start_time": "2024-07-03T20:59:29.009Z"
   },
   {
    "duration": 19,
    "start_time": "2024-07-03T20:59:29.014Z"
   },
   {
    "duration": 770,
    "start_time": "2024-07-03T20:59:29.035Z"
   },
   {
    "duration": 6,
    "start_time": "2024-07-03T20:59:29.806Z"
   },
   {
    "duration": 14,
    "start_time": "2024-07-03T20:59:29.813Z"
   },
   {
    "duration": 13,
    "start_time": "2024-07-03T20:59:29.828Z"
   },
   {
    "duration": 13,
    "start_time": "2024-07-03T20:59:29.843Z"
   },
   {
    "duration": 235,
    "start_time": "2024-07-03T20:59:29.857Z"
   },
   {
    "duration": 146,
    "start_time": "2024-07-03T20:59:30.094Z"
   },
   {
    "duration": 12,
    "start_time": "2024-07-03T20:59:30.242Z"
   },
   {
    "duration": 243,
    "start_time": "2024-07-03T20:59:30.255Z"
   },
   {
    "duration": 163,
    "start_time": "2024-07-03T20:59:30.500Z"
   },
   {
    "duration": 11,
    "start_time": "2024-07-03T20:59:30.665Z"
   },
   {
    "duration": 51,
    "start_time": "2024-07-03T20:59:30.677Z"
   },
   {
    "duration": 46,
    "start_time": "2024-07-03T20:59:30.730Z"
   },
   {
    "duration": 55,
    "start_time": "2024-07-03T20:59:30.778Z"
   },
   {
    "duration": 37,
    "start_time": "2024-07-03T20:59:30.834Z"
   },
   {
    "duration": 18,
    "start_time": "2024-07-03T21:00:30.238Z"
   },
   {
    "duration": 62,
    "start_time": "2024-07-03T21:02:30.767Z"
   },
   {
    "duration": 12,
    "start_time": "2024-07-03T21:02:41.305Z"
   },
   {
    "duration": 15,
    "start_time": "2024-07-03T21:05:13.306Z"
   },
   {
    "duration": 13,
    "start_time": "2024-07-03T21:05:23.725Z"
   },
   {
    "duration": 14,
    "start_time": "2024-07-03T21:05:57.348Z"
   },
   {
    "duration": 13,
    "start_time": "2024-07-03T21:06:21.860Z"
   },
   {
    "duration": 14,
    "start_time": "2024-07-03T21:07:22.560Z"
   },
   {
    "duration": 67,
    "start_time": "2024-07-03T21:07:37.580Z"
   },
   {
    "duration": 13,
    "start_time": "2024-07-03T21:07:44.892Z"
   },
   {
    "duration": 14,
    "start_time": "2024-07-03T21:08:39.642Z"
   },
   {
    "duration": 152,
    "start_time": "2024-07-03T21:09:16.145Z"
   },
   {
    "duration": 14,
    "start_time": "2024-07-03T21:09:21.698Z"
   },
   {
    "duration": 4,
    "start_time": "2024-07-03T21:10:43.298Z"
   },
   {
    "duration": 10,
    "start_time": "2024-07-03T21:10:51.529Z"
   },
   {
    "duration": 15,
    "start_time": "2024-07-03T21:11:33.151Z"
   },
   {
    "duration": 145,
    "start_time": "2024-07-03T21:11:38.281Z"
   },
   {
    "duration": 153,
    "start_time": "2024-07-03T21:12:03.077Z"
   },
   {
    "duration": 161,
    "start_time": "2024-07-03T21:12:27.192Z"
   },
   {
    "duration": 175,
    "start_time": "2024-07-03T21:12:38.789Z"
   },
   {
    "duration": 14,
    "start_time": "2024-07-03T21:21:24.183Z"
   },
   {
    "duration": 8,
    "start_time": "2024-07-03T21:22:14.580Z"
   },
   {
    "duration": 94,
    "start_time": "2024-07-03T21:22:27.539Z"
   },
   {
    "duration": 7,
    "start_time": "2024-07-03T21:24:37.763Z"
   },
   {
    "duration": 275,
    "start_time": "2024-07-03T21:26:02.823Z"
   },
   {
    "duration": 4,
    "start_time": "2024-07-03T21:26:37.671Z"
   },
   {
    "duration": 17,
    "start_time": "2024-07-03T21:26:50.288Z"
   },
   {
    "duration": 12,
    "start_time": "2024-07-03T21:27:04.715Z"
   },
   {
    "duration": 16,
    "start_time": "2024-07-03T21:27:13.629Z"
   },
   {
    "duration": 11,
    "start_time": "2024-07-03T21:27:22.550Z"
   },
   {
    "duration": 8,
    "start_time": "2024-07-03T21:29:48.179Z"
   },
   {
    "duration": 1083,
    "start_time": "2024-07-03T21:30:23.687Z"
   },
   {
    "duration": 73,
    "start_time": "2024-07-03T21:30:24.771Z"
   },
   {
    "duration": 10,
    "start_time": "2024-07-03T21:30:24.845Z"
   },
   {
    "duration": 35,
    "start_time": "2024-07-03T21:30:24.857Z"
   },
   {
    "duration": 9,
    "start_time": "2024-07-03T21:30:24.893Z"
   },
   {
    "duration": 14,
    "start_time": "2024-07-03T21:30:24.903Z"
   },
   {
    "duration": 28190,
    "start_time": "2024-07-03T21:30:24.919Z"
   },
   {
    "duration": 5,
    "start_time": "2024-07-03T21:30:53.110Z"
   },
   {
    "duration": 11,
    "start_time": "2024-07-03T21:30:53.116Z"
   },
   {
    "duration": 11,
    "start_time": "2024-07-03T21:30:53.129Z"
   },
   {
    "duration": 8,
    "start_time": "2024-07-03T21:30:53.142Z"
   },
   {
    "duration": 20,
    "start_time": "2024-07-03T21:30:53.152Z"
   },
   {
    "duration": 50,
    "start_time": "2024-07-03T21:30:53.173Z"
   },
   {
    "duration": 200,
    "start_time": "2024-07-03T21:30:53.224Z"
   },
   {
    "duration": 7,
    "start_time": "2024-07-03T21:30:53.425Z"
   },
   {
    "duration": 7,
    "start_time": "2024-07-03T21:30:53.434Z"
   },
   {
    "duration": 15,
    "start_time": "2024-07-03T21:30:53.442Z"
   },
   {
    "duration": 714,
    "start_time": "2024-07-03T21:30:53.458Z"
   },
   {
    "duration": 6,
    "start_time": "2024-07-03T21:30:54.174Z"
   },
   {
    "duration": 38,
    "start_time": "2024-07-03T21:30:54.181Z"
   },
   {
    "duration": 18,
    "start_time": "2024-07-03T21:30:54.220Z"
   },
   {
    "duration": 14,
    "start_time": "2024-07-03T21:30:54.240Z"
   },
   {
    "duration": 193,
    "start_time": "2024-07-03T21:30:54.256Z"
   },
   {
    "duration": 155,
    "start_time": "2024-07-03T21:30:54.450Z"
   },
   {
    "duration": 12,
    "start_time": "2024-07-03T21:30:54.606Z"
   },
   {
    "duration": 108,
    "start_time": "2024-07-03T21:30:54.619Z"
   },
   {
    "duration": 0,
    "start_time": "2024-07-03T21:30:54.728Z"
   },
   {
    "duration": 0,
    "start_time": "2024-07-03T21:30:54.729Z"
   },
   {
    "duration": 0,
    "start_time": "2024-07-03T21:30:54.730Z"
   },
   {
    "duration": 0,
    "start_time": "2024-07-03T21:30:54.730Z"
   },
   {
    "duration": 0,
    "start_time": "2024-07-03T21:30:54.731Z"
   },
   {
    "duration": 0,
    "start_time": "2024-07-03T21:30:54.732Z"
   },
   {
    "duration": 0,
    "start_time": "2024-07-03T21:30:54.733Z"
   },
   {
    "duration": 0,
    "start_time": "2024-07-03T21:30:54.734Z"
   },
   {
    "duration": 11,
    "start_time": "2024-07-03T21:31:42.640Z"
   },
   {
    "duration": 162,
    "start_time": "2024-07-03T21:31:43.938Z"
   },
   {
    "duration": 230,
    "start_time": "2024-07-03T21:32:33.756Z"
   },
   {
    "duration": 12,
    "start_time": "2024-07-03T21:32:48.126Z"
   },
   {
    "duration": 104,
    "start_time": "2024-07-03T21:32:54.906Z"
   },
   {
    "duration": 158,
    "start_time": "2024-07-03T21:33:54.675Z"
   },
   {
    "duration": 160,
    "start_time": "2024-07-03T21:34:03.568Z"
   },
   {
    "duration": 1062,
    "start_time": "2024-07-03T21:41:48.818Z"
   },
   {
    "duration": 75,
    "start_time": "2024-07-03T21:41:49.882Z"
   },
   {
    "duration": 10,
    "start_time": "2024-07-03T21:41:49.958Z"
   },
   {
    "duration": 23,
    "start_time": "2024-07-03T21:41:49.969Z"
   },
   {
    "duration": 20,
    "start_time": "2024-07-03T21:41:49.993Z"
   },
   {
    "duration": 28,
    "start_time": "2024-07-03T21:41:50.014Z"
   },
   {
    "duration": 27644,
    "start_time": "2024-07-03T21:41:50.043Z"
   },
   {
    "duration": 5,
    "start_time": "2024-07-03T21:42:17.688Z"
   },
   {
    "duration": 11,
    "start_time": "2024-07-03T21:42:17.694Z"
   },
   {
    "duration": 11,
    "start_time": "2024-07-03T21:42:17.708Z"
   },
   {
    "duration": 4,
    "start_time": "2024-07-03T21:42:17.720Z"
   },
   {
    "duration": 12,
    "start_time": "2024-07-03T21:42:17.725Z"
   },
   {
    "duration": 13,
    "start_time": "2024-07-03T21:42:17.738Z"
   },
   {
    "duration": 191,
    "start_time": "2024-07-03T21:42:17.752Z"
   },
   {
    "duration": 7,
    "start_time": "2024-07-03T21:42:17.944Z"
   },
   {
    "duration": 4,
    "start_time": "2024-07-03T21:42:17.952Z"
   },
   {
    "duration": 15,
    "start_time": "2024-07-03T21:42:17.957Z"
   },
   {
    "duration": 728,
    "start_time": "2024-07-03T21:42:17.973Z"
   },
   {
    "duration": 6,
    "start_time": "2024-07-03T21:42:18.703Z"
   },
   {
    "duration": 32,
    "start_time": "2024-07-03T21:42:18.710Z"
   },
   {
    "duration": 14,
    "start_time": "2024-07-03T21:42:18.744Z"
   },
   {
    "duration": 41,
    "start_time": "2024-07-03T21:42:18.760Z"
   },
   {
    "duration": 192,
    "start_time": "2024-07-03T21:42:18.802Z"
   },
   {
    "duration": 143,
    "start_time": "2024-07-03T21:42:18.995Z"
   },
   {
    "duration": 11,
    "start_time": "2024-07-03T21:42:19.139Z"
   },
   {
    "duration": 200,
    "start_time": "2024-07-03T21:42:19.152Z"
   },
   {
    "duration": 12,
    "start_time": "2024-07-03T21:42:19.354Z"
   },
   {
    "duration": 207,
    "start_time": "2024-07-03T21:42:19.369Z"
   },
   {
    "duration": 237,
    "start_time": "2024-07-03T21:42:19.577Z"
   },
   {
    "duration": 16,
    "start_time": "2024-07-03T21:42:19.816Z"
   },
   {
    "duration": 9,
    "start_time": "2024-07-03T21:42:19.834Z"
   },
   {
    "duration": 5,
    "start_time": "2024-07-03T21:42:19.844Z"
   },
   {
    "duration": 9,
    "start_time": "2024-07-03T21:42:19.851Z"
   },
   {
    "duration": 6,
    "start_time": "2024-07-03T21:42:19.862Z"
   },
   {
    "duration": 1071,
    "start_time": "2024-07-03T21:52:23.670Z"
   },
   {
    "duration": 265,
    "start_time": "2024-07-03T21:52:43.639Z"
   },
   {
    "duration": 191,
    "start_time": "2024-07-03T21:53:34.444Z"
   },
   {
    "duration": 215,
    "start_time": "2024-07-03T21:55:20.581Z"
   },
   {
    "duration": 229,
    "start_time": "2024-07-03T21:55:57.123Z"
   },
   {
    "duration": 209,
    "start_time": "2024-07-03T21:57:17.014Z"
   },
   {
    "duration": 9,
    "start_time": "2024-07-03T22:01:19.575Z"
   },
   {
    "duration": 164,
    "start_time": "2024-07-03T22:02:30.125Z"
   },
   {
    "duration": 159,
    "start_time": "2024-07-03T22:02:40.976Z"
   },
   {
    "duration": 178,
    "start_time": "2024-07-03T22:05:51.244Z"
   },
   {
    "duration": 221,
    "start_time": "2024-07-03T22:08:20.504Z"
   },
   {
    "duration": 10,
    "start_time": "2024-07-03T22:27:49.290Z"
   },
   {
    "duration": 12,
    "start_time": "2024-07-03T22:29:53.958Z"
   },
   {
    "duration": 3,
    "start_time": "2024-07-03T22:30:26.536Z"
   },
   {
    "duration": 11,
    "start_time": "2024-07-03T22:30:34.072Z"
   },
   {
    "duration": 13,
    "start_time": "2024-07-03T22:30:39.490Z"
   },
   {
    "duration": 8,
    "start_time": "2024-07-03T22:30:49.205Z"
   },
   {
    "duration": 10,
    "start_time": "2024-07-03T22:32:39.499Z"
   },
   {
    "duration": 1051,
    "start_time": "2024-07-03T22:32:51.411Z"
   },
   {
    "duration": 69,
    "start_time": "2024-07-03T22:32:52.464Z"
   },
   {
    "duration": 10,
    "start_time": "2024-07-03T22:32:52.534Z"
   },
   {
    "duration": 16,
    "start_time": "2024-07-03T22:32:52.545Z"
   },
   {
    "duration": 8,
    "start_time": "2024-07-03T22:32:52.562Z"
   },
   {
    "duration": 78,
    "start_time": "2024-07-03T22:32:52.571Z"
   },
   {
    "duration": 27758,
    "start_time": "2024-07-03T22:32:52.650Z"
   },
   {
    "duration": 6,
    "start_time": "2024-07-03T22:33:20.410Z"
   },
   {
    "duration": 30,
    "start_time": "2024-07-03T22:33:20.418Z"
   },
   {
    "duration": 37,
    "start_time": "2024-07-03T22:33:20.452Z"
   },
   {
    "duration": 6,
    "start_time": "2024-07-03T22:33:20.491Z"
   },
   {
    "duration": 7,
    "start_time": "2024-07-03T22:33:20.499Z"
   },
   {
    "duration": 13,
    "start_time": "2024-07-03T22:33:20.507Z"
   },
   {
    "duration": 231,
    "start_time": "2024-07-03T22:33:20.521Z"
   },
   {
    "duration": 7,
    "start_time": "2024-07-03T22:33:20.754Z"
   },
   {
    "duration": 6,
    "start_time": "2024-07-03T22:33:20.762Z"
   },
   {
    "duration": 15,
    "start_time": "2024-07-03T22:33:20.770Z"
   },
   {
    "duration": 764,
    "start_time": "2024-07-03T22:33:20.786Z"
   },
   {
    "duration": 6,
    "start_time": "2024-07-03T22:33:21.551Z"
   },
   {
    "duration": 25,
    "start_time": "2024-07-03T22:33:21.558Z"
   },
   {
    "duration": 25,
    "start_time": "2024-07-03T22:33:21.585Z"
   },
   {
    "duration": 17,
    "start_time": "2024-07-03T22:33:21.611Z"
   },
   {
    "duration": 167,
    "start_time": "2024-07-03T22:33:21.630Z"
   },
   {
    "duration": 144,
    "start_time": "2024-07-03T22:33:21.799Z"
   },
   {
    "duration": 10,
    "start_time": "2024-07-03T22:33:21.945Z"
   },
   {
    "duration": 171,
    "start_time": "2024-07-03T22:33:21.957Z"
   },
   {
    "duration": 12,
    "start_time": "2024-07-03T22:33:22.129Z"
   },
   {
    "duration": 199,
    "start_time": "2024-07-03T22:33:22.145Z"
   },
   {
    "duration": 256,
    "start_time": "2024-07-03T22:33:22.345Z"
   },
   {
    "duration": 14,
    "start_time": "2024-07-03T22:33:22.603Z"
   },
   {
    "duration": 55,
    "start_time": "2024-07-03T22:33:22.620Z"
   },
   {
    "duration": 220,
    "start_time": "2024-07-03T22:33:22.676Z"
   },
   {
    "duration": 202,
    "start_time": "2024-07-03T22:33:22.897Z"
   },
   {
    "duration": 212,
    "start_time": "2024-07-03T22:33:23.101Z"
   },
   {
    "duration": 9,
    "start_time": "2024-07-03T22:33:23.315Z"
   },
   {
    "duration": 166,
    "start_time": "2024-07-03T22:33:23.325Z"
   },
   {
    "duration": 172,
    "start_time": "2024-07-03T22:33:23.493Z"
   },
   {
    "duration": 173,
    "start_time": "2024-07-03T22:33:23.667Z"
   },
   {
    "duration": 10,
    "start_time": "2024-07-03T22:33:23.841Z"
   },
   {
    "duration": 12,
    "start_time": "2024-07-03T22:33:23.852Z"
   },
   {
    "duration": 66,
    "start_time": "2024-07-03T22:35:16.545Z"
   },
   {
    "duration": 1110,
    "start_time": "2024-07-03T22:35:32.519Z"
   },
   {
    "duration": 4,
    "start_time": "2024-07-03T22:35:38.652Z"
   },
   {
    "duration": 1062,
    "start_time": "2024-07-03T22:36:25.062Z"
   },
   {
    "duration": 1047,
    "start_time": "2024-07-03T22:36:59.341Z"
   },
   {
    "duration": 71,
    "start_time": "2024-07-03T22:37:00.390Z"
   },
   {
    "duration": 10,
    "start_time": "2024-07-03T22:37:00.463Z"
   },
   {
    "duration": 79,
    "start_time": "2024-07-03T22:37:00.474Z"
   },
   {
    "duration": 48,
    "start_time": "2024-07-03T22:37:00.555Z"
   },
   {
    "duration": 76,
    "start_time": "2024-07-03T22:37:00.604Z"
   },
   {
    "duration": 27447,
    "start_time": "2024-07-03T22:37:00.681Z"
   },
   {
    "duration": 4,
    "start_time": "2024-07-03T22:37:28.129Z"
   },
   {
    "duration": 21,
    "start_time": "2024-07-03T22:37:28.134Z"
   },
   {
    "duration": 17,
    "start_time": "2024-07-03T22:37:28.159Z"
   },
   {
    "duration": 5,
    "start_time": "2024-07-03T22:37:28.178Z"
   },
   {
    "duration": 11,
    "start_time": "2024-07-03T22:37:28.184Z"
   },
   {
    "duration": 12,
    "start_time": "2024-07-03T22:37:28.201Z"
   },
   {
    "duration": 188,
    "start_time": "2024-07-03T22:37:28.215Z"
   },
   {
    "duration": 6,
    "start_time": "2024-07-03T22:37:28.404Z"
   },
   {
    "duration": 15,
    "start_time": "2024-07-03T22:37:28.411Z"
   },
   {
    "duration": 17,
    "start_time": "2024-07-03T22:37:28.428Z"
   },
   {
    "duration": 689,
    "start_time": "2024-07-03T22:37:28.447Z"
   },
   {
    "duration": 6,
    "start_time": "2024-07-03T22:37:29.138Z"
   },
   {
    "duration": 38,
    "start_time": "2024-07-03T22:37:29.145Z"
   },
   {
    "duration": 18,
    "start_time": "2024-07-03T22:37:29.185Z"
   },
   {
    "duration": 14,
    "start_time": "2024-07-03T22:37:29.205Z"
   },
   {
    "duration": 163,
    "start_time": "2024-07-03T22:37:29.221Z"
   },
   {
    "duration": 158,
    "start_time": "2024-07-03T22:37:29.385Z"
   },
   {
    "duration": 12,
    "start_time": "2024-07-03T22:37:29.544Z"
   },
   {
    "duration": 191,
    "start_time": "2024-07-03T22:37:29.557Z"
   },
   {
    "duration": 12,
    "start_time": "2024-07-03T22:37:29.749Z"
   },
   {
    "duration": 179,
    "start_time": "2024-07-03T22:37:29.764Z"
   },
   {
    "duration": 258,
    "start_time": "2024-07-03T22:37:29.945Z"
   },
   {
    "duration": 10,
    "start_time": "2024-07-03T22:37:30.204Z"
   },
   {
    "duration": 29,
    "start_time": "2024-07-03T22:37:30.215Z"
   },
   {
    "duration": 275,
    "start_time": "2024-07-03T22:37:30.245Z"
   },
   {
    "duration": 211,
    "start_time": "2024-07-03T22:37:30.521Z"
   },
   {
    "duration": 204,
    "start_time": "2024-07-03T22:37:30.733Z"
   },
   {
    "duration": 16,
    "start_time": "2024-07-03T22:37:30.938Z"
   },
   {
    "duration": 226,
    "start_time": "2024-07-03T22:37:30.956Z"
   },
   {
    "duration": 188,
    "start_time": "2024-07-03T22:37:31.183Z"
   },
   {
    "duration": 165,
    "start_time": "2024-07-03T22:37:31.373Z"
   },
   {
    "duration": 11,
    "start_time": "2024-07-03T22:37:31.539Z"
   },
   {
    "duration": 25,
    "start_time": "2024-07-03T22:37:31.552Z"
   },
   {
    "duration": 65,
    "start_time": "2024-07-03T22:39:29.399Z"
   },
   {
    "duration": 9,
    "start_time": "2024-07-03T22:41:08.785Z"
   },
   {
    "duration": 58,
    "start_time": "2024-07-03T22:42:18.462Z"
   },
   {
    "duration": 10,
    "start_time": "2024-07-03T23:09:03.423Z"
   },
   {
    "duration": 248,
    "start_time": "2024-07-03T23:09:17.574Z"
   },
   {
    "duration": 74,
    "start_time": "2024-07-03T23:10:03.054Z"
   },
   {
    "duration": 64,
    "start_time": "2024-07-03T23:11:51.357Z"
   },
   {
    "duration": 201,
    "start_time": "2024-07-03T23:11:58.223Z"
   },
   {
    "duration": 176,
    "start_time": "2024-07-03T23:13:17.135Z"
   },
   {
    "duration": 11,
    "start_time": "2024-07-03T23:15:58.880Z"
   },
   {
    "duration": 1353,
    "start_time": "2024-07-04T13:34:07.485Z"
   },
   {
    "duration": 132,
    "start_time": "2024-07-04T13:34:08.840Z"
   },
   {
    "duration": 12,
    "start_time": "2024-07-04T13:34:08.973Z"
   },
   {
    "duration": 43,
    "start_time": "2024-07-04T13:34:08.987Z"
   },
   {
    "duration": 9,
    "start_time": "2024-07-04T13:34:09.032Z"
   },
   {
    "duration": 16,
    "start_time": "2024-07-04T13:34:09.043Z"
   },
   {
    "duration": 39139,
    "start_time": "2024-07-04T13:34:09.060Z"
   },
   {
    "duration": 5,
    "start_time": "2024-07-04T13:34:48.200Z"
   },
   {
    "duration": 8,
    "start_time": "2024-07-04T13:34:48.207Z"
   },
   {
    "duration": 13,
    "start_time": "2024-07-04T13:34:48.218Z"
   },
   {
    "duration": 23,
    "start_time": "2024-07-04T13:34:48.232Z"
   },
   {
    "duration": 8,
    "start_time": "2024-07-04T13:34:48.257Z"
   },
   {
    "duration": 22,
    "start_time": "2024-07-04T13:34:48.267Z"
   },
   {
    "duration": 246,
    "start_time": "2024-07-04T13:34:48.291Z"
   },
   {
    "duration": 16,
    "start_time": "2024-07-04T13:34:48.539Z"
   },
   {
    "duration": 10,
    "start_time": "2024-07-04T13:34:48.557Z"
   },
   {
    "duration": 18,
    "start_time": "2024-07-04T13:34:48.568Z"
   },
   {
    "duration": 885,
    "start_time": "2024-07-04T13:34:48.588Z"
   },
   {
    "duration": 7,
    "start_time": "2024-07-04T13:34:49.475Z"
   },
   {
    "duration": 18,
    "start_time": "2024-07-04T13:34:49.484Z"
   },
   {
    "duration": 16,
    "start_time": "2024-07-04T13:34:49.504Z"
   },
   {
    "duration": 43,
    "start_time": "2024-07-04T13:34:49.522Z"
   },
   {
    "duration": 220,
    "start_time": "2024-07-04T13:34:49.567Z"
   },
   {
    "duration": 179,
    "start_time": "2024-07-04T13:34:49.789Z"
   },
   {
    "duration": 15,
    "start_time": "2024-07-04T13:34:49.969Z"
   },
   {
    "duration": 218,
    "start_time": "2024-07-04T13:34:49.985Z"
   },
   {
    "duration": 72,
    "start_time": "2024-07-04T13:34:50.205Z"
   },
   {
    "duration": 0,
    "start_time": "2024-07-04T13:34:50.279Z"
   },
   {
    "duration": 0,
    "start_time": "2024-07-04T13:34:50.280Z"
   },
   {
    "duration": 0,
    "start_time": "2024-07-04T13:34:50.281Z"
   },
   {
    "duration": 0,
    "start_time": "2024-07-04T13:34:50.283Z"
   },
   {
    "duration": 0,
    "start_time": "2024-07-04T13:34:50.285Z"
   },
   {
    "duration": 0,
    "start_time": "2024-07-04T13:34:50.286Z"
   },
   {
    "duration": 0,
    "start_time": "2024-07-04T13:34:50.288Z"
   },
   {
    "duration": 0,
    "start_time": "2024-07-04T13:34:50.289Z"
   },
   {
    "duration": 0,
    "start_time": "2024-07-04T13:34:50.290Z"
   },
   {
    "duration": 0,
    "start_time": "2024-07-04T13:34:50.291Z"
   },
   {
    "duration": 0,
    "start_time": "2024-07-04T13:34:50.293Z"
   },
   {
    "duration": 0,
    "start_time": "2024-07-04T13:34:50.294Z"
   },
   {
    "duration": 0,
    "start_time": "2024-07-04T13:34:50.295Z"
   },
   {
    "duration": 0,
    "start_time": "2024-07-04T13:34:50.296Z"
   },
   {
    "duration": 16,
    "start_time": "2024-07-04T13:36:00.751Z"
   },
   {
    "duration": 58,
    "start_time": "2024-07-04T13:39:57.347Z"
   },
   {
    "duration": 75,
    "start_time": "2024-07-04T13:40:10.613Z"
   },
   {
    "duration": 142,
    "start_time": "2024-07-04T13:40:20.440Z"
   },
   {
    "duration": 219,
    "start_time": "2024-07-04T13:41:42.675Z"
   },
   {
    "duration": 11,
    "start_time": "2024-07-04T13:43:19.745Z"
   },
   {
    "duration": 146,
    "start_time": "2024-07-04T13:46:39.742Z"
   },
   {
    "duration": 13,
    "start_time": "2024-07-04T13:47:18.839Z"
   },
   {
    "duration": 480,
    "start_time": "2024-07-04T13:48:14.860Z"
   },
   {
    "duration": 7,
    "start_time": "2024-07-04T13:51:42.183Z"
   },
   {
    "duration": 382,
    "start_time": "2024-07-04T13:53:16.712Z"
   },
   {
    "duration": 8,
    "start_time": "2024-07-04T13:54:09.104Z"
   },
   {
    "duration": 201,
    "start_time": "2024-07-04T13:55:28.452Z"
   },
   {
    "duration": 157,
    "start_time": "2024-07-04T13:55:38.137Z"
   },
   {
    "duration": 400,
    "start_time": "2024-07-04T13:56:11.800Z"
   },
   {
    "duration": 393,
    "start_time": "2024-07-04T14:02:27.922Z"
   },
   {
    "duration": 13,
    "start_time": "2024-07-04T14:03:36.688Z"
   },
   {
    "duration": 169,
    "start_time": "2024-07-04T14:05:54.351Z"
   },
   {
    "duration": 395,
    "start_time": "2024-07-04T14:06:02.444Z"
   },
   {
    "duration": 1099,
    "start_time": "2024-07-04T14:14:11.117Z"
   },
   {
    "duration": 90,
    "start_time": "2024-07-04T14:14:12.217Z"
   },
   {
    "duration": 19,
    "start_time": "2024-07-04T14:14:12.309Z"
   },
   {
    "duration": 28,
    "start_time": "2024-07-04T14:14:12.330Z"
   },
   {
    "duration": 12,
    "start_time": "2024-07-04T14:14:12.359Z"
   },
   {
    "duration": 9,
    "start_time": "2024-07-04T14:14:12.373Z"
   },
   {
    "duration": 39253,
    "start_time": "2024-07-04T14:14:12.383Z"
   },
   {
    "duration": 5,
    "start_time": "2024-07-04T14:14:51.638Z"
   },
   {
    "duration": 12,
    "start_time": "2024-07-04T14:14:51.645Z"
   },
   {
    "duration": 19,
    "start_time": "2024-07-04T14:14:51.659Z"
   },
   {
    "duration": 8,
    "start_time": "2024-07-04T14:14:51.679Z"
   },
   {
    "duration": 28,
    "start_time": "2024-07-04T14:14:51.689Z"
   },
   {
    "duration": 18,
    "start_time": "2024-07-04T14:14:51.719Z"
   },
   {
    "duration": 225,
    "start_time": "2024-07-04T14:14:51.739Z"
   },
   {
    "duration": 8,
    "start_time": "2024-07-04T14:14:51.965Z"
   },
   {
    "duration": 10,
    "start_time": "2024-07-04T14:14:51.974Z"
   },
   {
    "duration": 19,
    "start_time": "2024-07-04T14:14:51.986Z"
   },
   {
    "duration": 893,
    "start_time": "2024-07-04T14:14:52.006Z"
   },
   {
    "duration": 7,
    "start_time": "2024-07-04T14:14:52.900Z"
   },
   {
    "duration": 24,
    "start_time": "2024-07-04T14:14:52.908Z"
   },
   {
    "duration": 28,
    "start_time": "2024-07-04T14:14:52.933Z"
   },
   {
    "duration": 15,
    "start_time": "2024-07-04T14:14:52.963Z"
   },
   {
    "duration": 202,
    "start_time": "2024-07-04T14:14:52.980Z"
   },
   {
    "duration": 181,
    "start_time": "2024-07-04T14:14:53.184Z"
   },
   {
    "duration": 15,
    "start_time": "2024-07-04T14:14:53.367Z"
   },
   {
    "duration": 242,
    "start_time": "2024-07-04T14:14:53.384Z"
   },
   {
    "duration": 16,
    "start_time": "2024-07-04T14:14:53.628Z"
   },
   {
    "duration": 161,
    "start_time": "2024-07-04T14:14:53.655Z"
   },
   {
    "duration": 13,
    "start_time": "2024-07-04T14:14:53.817Z"
   },
   {
    "duration": 575,
    "start_time": "2024-07-04T14:14:53.831Z"
   },
   {
    "duration": 0,
    "start_time": "2024-07-04T14:14:54.408Z"
   },
   {
    "duration": 0,
    "start_time": "2024-07-04T14:14:54.410Z"
   },
   {
    "duration": 0,
    "start_time": "2024-07-04T14:14:54.411Z"
   },
   {
    "duration": 0,
    "start_time": "2024-07-04T14:14:54.413Z"
   },
   {
    "duration": 0,
    "start_time": "2024-07-04T14:14:54.414Z"
   },
   {
    "duration": 0,
    "start_time": "2024-07-04T14:14:54.415Z"
   },
   {
    "duration": 0,
    "start_time": "2024-07-04T14:14:54.417Z"
   },
   {
    "duration": 0,
    "start_time": "2024-07-04T14:14:54.419Z"
   },
   {
    "duration": 0,
    "start_time": "2024-07-04T14:14:54.420Z"
   },
   {
    "duration": 0,
    "start_time": "2024-07-04T14:14:54.421Z"
   },
   {
    "duration": 0,
    "start_time": "2024-07-04T14:14:54.423Z"
   },
   {
    "duration": 0,
    "start_time": "2024-07-04T14:14:54.424Z"
   },
   {
    "duration": 0,
    "start_time": "2024-07-04T14:14:54.426Z"
   },
   {
    "duration": 0,
    "start_time": "2024-07-04T14:14:54.427Z"
   },
   {
    "duration": 8,
    "start_time": "2024-07-04T14:15:55.598Z"
   },
   {
    "duration": 4,
    "start_time": "2024-07-04T14:16:09.099Z"
   },
   {
    "duration": 163,
    "start_time": "2024-07-04T14:16:11.354Z"
   },
   {
    "duration": 9,
    "start_time": "2024-07-04T14:16:47.080Z"
   },
   {
    "duration": 1172,
    "start_time": "2024-07-04T14:18:02.056Z"
   },
   {
    "duration": 84,
    "start_time": "2024-07-04T14:18:03.230Z"
   },
   {
    "duration": 14,
    "start_time": "2024-07-04T14:18:03.316Z"
   },
   {
    "duration": 31,
    "start_time": "2024-07-04T14:18:03.331Z"
   },
   {
    "duration": 9,
    "start_time": "2024-07-04T14:18:03.363Z"
   },
   {
    "duration": 13,
    "start_time": "2024-07-04T14:18:03.374Z"
   },
   {
    "duration": 39396,
    "start_time": "2024-07-04T14:18:03.389Z"
   },
   {
    "duration": 5,
    "start_time": "2024-07-04T14:18:42.787Z"
   },
   {
    "duration": 10,
    "start_time": "2024-07-04T14:18:42.793Z"
   },
   {
    "duration": 20,
    "start_time": "2024-07-04T14:18:42.806Z"
   },
   {
    "duration": 5,
    "start_time": "2024-07-04T14:18:42.827Z"
   },
   {
    "duration": 24,
    "start_time": "2024-07-04T14:18:42.833Z"
   },
   {
    "duration": 25,
    "start_time": "2024-07-04T14:18:42.859Z"
   },
   {
    "duration": 241,
    "start_time": "2024-07-04T14:18:42.886Z"
   },
   {
    "duration": 7,
    "start_time": "2024-07-04T14:18:43.129Z"
   },
   {
    "duration": 16,
    "start_time": "2024-07-04T14:18:43.137Z"
   },
   {
    "duration": 16,
    "start_time": "2024-07-04T14:18:43.155Z"
   },
   {
    "duration": 922,
    "start_time": "2024-07-04T14:18:43.173Z"
   },
   {
    "duration": 7,
    "start_time": "2024-07-04T14:18:44.096Z"
   },
   {
    "duration": 22,
    "start_time": "2024-07-04T14:18:44.104Z"
   },
   {
    "duration": 27,
    "start_time": "2024-07-04T14:18:44.127Z"
   },
   {
    "duration": 18,
    "start_time": "2024-07-04T14:18:44.156Z"
   },
   {
    "duration": 218,
    "start_time": "2024-07-04T14:18:44.176Z"
   },
   {
    "duration": 183,
    "start_time": "2024-07-04T14:18:44.395Z"
   },
   {
    "duration": 14,
    "start_time": "2024-07-04T14:18:44.579Z"
   },
   {
    "duration": 220,
    "start_time": "2024-07-04T14:18:44.595Z"
   },
   {
    "duration": 14,
    "start_time": "2024-07-04T14:18:44.817Z"
   },
   {
    "duration": 163,
    "start_time": "2024-07-04T14:18:44.835Z"
   },
   {
    "duration": 14,
    "start_time": "2024-07-04T14:18:44.999Z"
   },
   {
    "duration": 57,
    "start_time": "2024-07-04T14:18:45.015Z"
   },
   {
    "duration": 272,
    "start_time": "2024-07-04T14:18:45.073Z"
   },
   {
    "duration": 209,
    "start_time": "2024-07-04T14:18:45.347Z"
   },
   {
    "duration": 203,
    "start_time": "2024-07-04T14:18:45.558Z"
   },
   {
    "duration": 13,
    "start_time": "2024-07-04T14:18:45.763Z"
   },
   {
    "duration": 37,
    "start_time": "2024-07-04T14:18:45.777Z"
   },
   {
    "duration": 267,
    "start_time": "2024-07-04T14:18:45.816Z"
   },
   {
    "duration": 253,
    "start_time": "2024-07-04T14:18:46.085Z"
   },
   {
    "duration": 276,
    "start_time": "2024-07-04T14:18:46.339Z"
   },
   {
    "duration": 11,
    "start_time": "2024-07-04T14:18:46.617Z"
   },
   {
    "duration": 212,
    "start_time": "2024-07-04T14:18:46.629Z"
   },
   {
    "duration": 205,
    "start_time": "2024-07-04T14:18:46.843Z"
   },
   {
    "duration": 211,
    "start_time": "2024-07-04T14:18:47.054Z"
   },
   {
    "duration": 13,
    "start_time": "2024-07-04T14:18:47.266Z"
   },
   {
    "duration": 10,
    "start_time": "2024-07-04T14:18:47.281Z"
   },
   {
    "duration": 11,
    "start_time": "2024-07-04T14:18:47.293Z"
   },
   {
    "duration": 56,
    "start_time": "2024-07-04T14:28:00.715Z"
   },
   {
    "duration": 73,
    "start_time": "2024-07-04T14:28:28.598Z"
   },
   {
    "duration": 52,
    "start_time": "2024-07-04T14:28:35.677Z"
   },
   {
    "duration": 52,
    "start_time": "2024-07-04T14:28:51.894Z"
   },
   {
    "duration": 110,
    "start_time": "2024-07-04T14:34:16.314Z"
   },
   {
    "duration": 12,
    "start_time": "2024-07-04T14:38:45.741Z"
   },
   {
    "duration": 10,
    "start_time": "2024-07-04T14:38:49.276Z"
   },
   {
    "duration": 10,
    "start_time": "2024-07-04T14:40:04.904Z"
   },
   {
    "duration": 10,
    "start_time": "2024-07-04T14:40:46.328Z"
   },
   {
    "duration": 55,
    "start_time": "2024-07-04T14:50:45.576Z"
   },
   {
    "duration": 55,
    "start_time": "2024-07-04T14:50:54.518Z"
   },
   {
    "duration": 9,
    "start_time": "2024-07-04T15:01:21.561Z"
   },
   {
    "duration": 8,
    "start_time": "2024-07-04T15:02:16.040Z"
   },
   {
    "duration": 2,
    "start_time": "2024-07-04T15:03:39.607Z"
   },
   {
    "duration": 230,
    "start_time": "2024-07-04T15:03:43.067Z"
   },
   {
    "duration": 15,
    "start_time": "2024-07-04T15:03:48.609Z"
   },
   {
    "duration": 70,
    "start_time": "2024-07-04T15:03:58.148Z"
   },
   {
    "duration": 237,
    "start_time": "2024-07-04T15:04:13.174Z"
   },
   {
    "duration": 68,
    "start_time": "2024-07-04T15:05:22.162Z"
   },
   {
    "duration": 74,
    "start_time": "2024-07-04T15:05:32.558Z"
   },
   {
    "duration": 18,
    "start_time": "2024-07-04T15:30:37.334Z"
   },
   {
    "duration": 12,
    "start_time": "2024-07-04T15:30:52.816Z"
   },
   {
    "duration": 17,
    "start_time": "2024-07-04T15:31:05.127Z"
   },
   {
    "duration": 11,
    "start_time": "2024-07-04T15:31:22.247Z"
   },
   {
    "duration": 16,
    "start_time": "2024-07-04T15:32:07.072Z"
   },
   {
    "duration": 195,
    "start_time": "2024-07-04T15:32:11.977Z"
   },
   {
    "duration": 217,
    "start_time": "2024-07-04T15:32:36.216Z"
   },
   {
    "duration": 219,
    "start_time": "2024-07-04T15:56:38.056Z"
   },
   {
    "duration": 1029,
    "start_time": "2024-07-04T16:13:11.015Z"
   },
   {
    "duration": 12,
    "start_time": "2024-07-04T16:13:16.823Z"
   },
   {
    "duration": 261,
    "start_time": "2024-07-04T16:13:18.128Z"
   },
   {
    "duration": 1226,
    "start_time": "2024-07-04T16:16:28.161Z"
   },
   {
    "duration": 10,
    "start_time": "2024-07-04T16:16:47.613Z"
   },
   {
    "duration": 11,
    "start_time": "2024-07-04T16:16:56.829Z"
   },
   {
    "duration": 201,
    "start_time": "2024-07-04T16:16:59.047Z"
   },
   {
    "duration": 1260,
    "start_time": "2024-07-04T18:22:51.690Z"
   },
   {
    "duration": 134,
    "start_time": "2024-07-04T18:22:52.952Z"
   },
   {
    "duration": 13,
    "start_time": "2024-07-04T18:22:53.087Z"
   },
   {
    "duration": 23,
    "start_time": "2024-07-04T18:22:53.102Z"
   },
   {
    "duration": 11,
    "start_time": "2024-07-04T18:22:53.127Z"
   },
   {
    "duration": 8,
    "start_time": "2024-07-04T18:22:53.145Z"
   },
   {
    "duration": 40796,
    "start_time": "2024-07-04T18:22:53.155Z"
   },
   {
    "duration": 5,
    "start_time": "2024-07-04T18:23:33.953Z"
   },
   {
    "duration": 13,
    "start_time": "2024-07-04T18:23:33.959Z"
   },
   {
    "duration": 17,
    "start_time": "2024-07-04T18:23:33.973Z"
   },
   {
    "duration": 9,
    "start_time": "2024-07-04T18:23:33.991Z"
   },
   {
    "duration": 9,
    "start_time": "2024-07-04T18:23:34.001Z"
   },
   {
    "duration": 18,
    "start_time": "2024-07-04T18:23:34.011Z"
   },
   {
    "duration": 269,
    "start_time": "2024-07-04T18:23:34.046Z"
   },
   {
    "duration": 8,
    "start_time": "2024-07-04T18:23:34.316Z"
   },
   {
    "duration": 5,
    "start_time": "2024-07-04T18:23:34.326Z"
   },
   {
    "duration": 17,
    "start_time": "2024-07-04T18:23:34.347Z"
   },
   {
    "duration": 923,
    "start_time": "2024-07-04T18:23:34.365Z"
   },
   {
    "duration": 7,
    "start_time": "2024-07-04T18:23:35.290Z"
   },
   {
    "duration": 28,
    "start_time": "2024-07-04T18:23:35.298Z"
   },
   {
    "duration": 25,
    "start_time": "2024-07-04T18:23:35.328Z"
   },
   {
    "duration": 33,
    "start_time": "2024-07-04T18:23:35.356Z"
   },
   {
    "duration": 201,
    "start_time": "2024-07-04T18:23:35.391Z"
   },
   {
    "duration": 187,
    "start_time": "2024-07-04T18:23:35.594Z"
   },
   {
    "duration": 3,
    "start_time": "2024-07-04T18:23:35.782Z"
   },
   {
    "duration": 288,
    "start_time": "2024-07-04T18:23:35.786Z"
   },
   {
    "duration": 15,
    "start_time": "2024-07-04T18:23:36.076Z"
   },
   {
    "duration": 286,
    "start_time": "2024-07-04T18:23:36.093Z"
   },
   {
    "duration": 189,
    "start_time": "2024-07-04T18:23:36.381Z"
   },
   {
    "duration": 82,
    "start_time": "2024-07-04T18:23:36.572Z"
   },
   {
    "duration": 228,
    "start_time": "2024-07-04T18:23:36.657Z"
   },
   {
    "duration": 206,
    "start_time": "2024-07-04T18:23:36.887Z"
   },
   {
    "duration": 14,
    "start_time": "2024-07-04T18:23:37.094Z"
   },
   {
    "duration": 17,
    "start_time": "2024-07-04T18:23:37.109Z"
   },
   {
    "duration": 322,
    "start_time": "2024-07-04T18:23:37.127Z"
   },
   {
    "duration": 269,
    "start_time": "2024-07-04T18:23:37.450Z"
   },
   {
    "duration": 293,
    "start_time": "2024-07-04T18:23:37.720Z"
   },
   {
    "duration": 291,
    "start_time": "2024-07-04T18:23:38.015Z"
   },
   {
    "duration": 11,
    "start_time": "2024-07-04T18:23:38.308Z"
   },
   {
    "duration": 229,
    "start_time": "2024-07-04T18:23:38.321Z"
   },
   {
    "duration": 225,
    "start_time": "2024-07-04T18:23:38.554Z"
   },
   {
    "duration": 203,
    "start_time": "2024-07-04T18:23:38.781Z"
   },
   {
    "duration": 296,
    "start_time": "2024-07-04T18:23:38.986Z"
   },
   {
    "duration": 231,
    "start_time": "2024-07-04T18:23:39.283Z"
   },
   {
    "duration": 12,
    "start_time": "2024-07-04T18:23:39.516Z"
   },
   {
    "duration": 25,
    "start_time": "2024-07-04T18:23:39.530Z"
   },
   {
    "duration": 224,
    "start_time": "2024-07-04T18:46:52.003Z"
   },
   {
    "duration": 1221,
    "start_time": "2024-07-04T19:00:37.660Z"
   },
   {
    "duration": 83,
    "start_time": "2024-07-04T19:00:38.882Z"
   },
   {
    "duration": 12,
    "start_time": "2024-07-04T19:00:38.967Z"
   },
   {
    "duration": 17,
    "start_time": "2024-07-04T19:00:38.981Z"
   },
   {
    "duration": 9,
    "start_time": "2024-07-04T19:00:39.000Z"
   },
   {
    "duration": 41,
    "start_time": "2024-07-04T19:00:39.011Z"
   },
   {
    "duration": 41211,
    "start_time": "2024-07-04T19:00:39.053Z"
   },
   {
    "duration": 6,
    "start_time": "2024-07-04T19:01:20.265Z"
   },
   {
    "duration": 13,
    "start_time": "2024-07-04T19:01:20.273Z"
   },
   {
    "duration": 18,
    "start_time": "2024-07-04T19:01:20.290Z"
   },
   {
    "duration": 18,
    "start_time": "2024-07-04T19:01:20.310Z"
   },
   {
    "duration": 33,
    "start_time": "2024-07-04T19:01:20.330Z"
   },
   {
    "duration": 37,
    "start_time": "2024-07-04T19:01:20.365Z"
   },
   {
    "duration": 271,
    "start_time": "2024-07-04T19:01:20.405Z"
   },
   {
    "duration": 9,
    "start_time": "2024-07-04T19:01:20.678Z"
   },
   {
    "duration": 26,
    "start_time": "2024-07-04T19:01:20.689Z"
   },
   {
    "duration": 41,
    "start_time": "2024-07-04T19:01:20.718Z"
   },
   {
    "duration": 897,
    "start_time": "2024-07-04T19:01:20.761Z"
   },
   {
    "duration": 7,
    "start_time": "2024-07-04T19:01:21.660Z"
   },
   {
    "duration": 44,
    "start_time": "2024-07-04T19:01:21.668Z"
   },
   {
    "duration": 20,
    "start_time": "2024-07-04T19:01:21.714Z"
   },
   {
    "duration": 29,
    "start_time": "2024-07-04T19:01:21.736Z"
   },
   {
    "duration": 213,
    "start_time": "2024-07-04T19:01:21.767Z"
   },
   {
    "duration": 206,
    "start_time": "2024-07-04T19:01:21.981Z"
   },
   {
    "duration": 3,
    "start_time": "2024-07-04T19:01:22.189Z"
   },
   {
    "duration": 253,
    "start_time": "2024-07-04T19:01:22.193Z"
   },
   {
    "duration": 20,
    "start_time": "2024-07-04T19:01:22.448Z"
   },
   {
    "duration": 289,
    "start_time": "2024-07-04T19:01:22.474Z"
   },
   {
    "duration": 182,
    "start_time": "2024-07-04T19:01:22.764Z"
   },
   {
    "duration": 72,
    "start_time": "2024-07-04T19:01:22.947Z"
   },
   {
    "duration": 226,
    "start_time": "2024-07-04T19:01:23.020Z"
   },
   {
    "duration": 218,
    "start_time": "2024-07-04T19:01:23.247Z"
   },
   {
    "duration": 13,
    "start_time": "2024-07-04T19:01:23.467Z"
   },
   {
    "duration": 35,
    "start_time": "2024-07-04T19:01:23.482Z"
   },
   {
    "duration": 275,
    "start_time": "2024-07-04T19:01:23.518Z"
   },
   {
    "duration": 300,
    "start_time": "2024-07-04T19:01:23.794Z"
   },
   {
    "duration": 290,
    "start_time": "2024-07-04T19:01:24.096Z"
   },
   {
    "duration": 291,
    "start_time": "2024-07-04T19:01:24.387Z"
   },
   {
    "duration": 12,
    "start_time": "2024-07-04T19:01:24.680Z"
   },
   {
    "duration": 214,
    "start_time": "2024-07-04T19:01:24.693Z"
   },
   {
    "duration": 206,
    "start_time": "2024-07-04T19:01:24.909Z"
   },
   {
    "duration": 229,
    "start_time": "2024-07-04T19:01:25.117Z"
   },
   {
    "duration": 299,
    "start_time": "2024-07-04T19:01:25.347Z"
   },
   {
    "duration": 257,
    "start_time": "2024-07-04T19:01:25.647Z"
   },
   {
    "duration": 15,
    "start_time": "2024-07-04T19:01:25.906Z"
   },
   {
    "duration": 28,
    "start_time": "2024-07-04T19:01:25.923Z"
   },
   {
    "duration": 74,
    "start_time": "2024-07-05T08:00:17.948Z"
   },
   {
    "duration": 48,
    "start_time": "2024-07-05T08:00:25.635Z"
   },
   {
    "duration": 59,
    "start_time": "2024-07-05T08:00:40.287Z"
   },
   {
    "duration": 1225,
    "start_time": "2024-07-05T08:00:48.588Z"
   },
   {
    "duration": 202,
    "start_time": "2024-07-05T08:00:49.815Z"
   },
   {
    "duration": 10,
    "start_time": "2024-07-05T08:00:50.019Z"
   },
   {
    "duration": 31,
    "start_time": "2024-07-05T08:00:50.031Z"
   },
   {
    "duration": 7,
    "start_time": "2024-07-05T08:00:50.063Z"
   },
   {
    "duration": 14,
    "start_time": "2024-07-05T08:00:50.072Z"
   },
   {
    "duration": 28921,
    "start_time": "2024-07-05T08:00:50.088Z"
   },
   {
    "duration": 5,
    "start_time": "2024-07-05T08:01:19.010Z"
   },
   {
    "duration": 13,
    "start_time": "2024-07-05T08:01:19.017Z"
   },
   {
    "duration": 15,
    "start_time": "2024-07-05T08:01:19.033Z"
   },
   {
    "duration": 5,
    "start_time": "2024-07-05T08:01:19.049Z"
   },
   {
    "duration": 23,
    "start_time": "2024-07-05T08:01:19.056Z"
   },
   {
    "duration": 10,
    "start_time": "2024-07-05T08:01:19.080Z"
   },
   {
    "duration": 201,
    "start_time": "2024-07-05T08:01:19.092Z"
   },
   {
    "duration": 6,
    "start_time": "2024-07-05T08:01:19.295Z"
   },
   {
    "duration": 4,
    "start_time": "2024-07-05T08:01:19.302Z"
   },
   {
    "duration": 14,
    "start_time": "2024-07-05T08:01:19.307Z"
   },
   {
    "duration": 770,
    "start_time": "2024-07-05T08:01:19.322Z"
   },
   {
    "duration": 5,
    "start_time": "2024-07-05T08:01:20.093Z"
   },
   {
    "duration": 34,
    "start_time": "2024-07-05T08:01:20.100Z"
   },
   {
    "duration": 22,
    "start_time": "2024-07-05T08:01:20.136Z"
   },
   {
    "duration": 13,
    "start_time": "2024-07-05T08:01:20.159Z"
   },
   {
    "duration": 160,
    "start_time": "2024-07-05T08:01:20.173Z"
   },
   {
    "duration": 148,
    "start_time": "2024-07-05T08:01:20.334Z"
   },
   {
    "duration": 2,
    "start_time": "2024-07-05T08:01:20.484Z"
   },
   {
    "duration": 223,
    "start_time": "2024-07-05T08:01:20.487Z"
   },
   {
    "duration": 12,
    "start_time": "2024-07-05T08:01:20.711Z"
   },
   {
    "duration": 184,
    "start_time": "2024-07-05T08:01:20.726Z"
   },
   {
    "duration": 156,
    "start_time": "2024-07-05T08:01:20.911Z"
   },
   {
    "duration": 62,
    "start_time": "2024-07-05T08:01:21.071Z"
   },
   {
    "duration": 222,
    "start_time": "2024-07-05T08:01:21.135Z"
   },
   {
    "duration": 170,
    "start_time": "2024-07-05T08:01:21.358Z"
   },
   {
    "duration": 9,
    "start_time": "2024-07-05T08:01:21.530Z"
   },
   {
    "duration": 21,
    "start_time": "2024-07-05T08:01:21.540Z"
   },
   {
    "duration": 224,
    "start_time": "2024-07-05T08:01:21.563Z"
   },
   {
    "duration": 203,
    "start_time": "2024-07-05T08:01:21.789Z"
   },
   {
    "duration": 212,
    "start_time": "2024-07-05T08:01:21.993Z"
   },
   {
    "duration": 217,
    "start_time": "2024-07-05T08:01:22.206Z"
   },
   {
    "duration": 10,
    "start_time": "2024-07-05T08:01:22.424Z"
   },
   {
    "duration": 173,
    "start_time": "2024-07-05T08:01:22.435Z"
   },
   {
    "duration": 181,
    "start_time": "2024-07-05T08:01:22.610Z"
   },
   {
    "duration": 180,
    "start_time": "2024-07-05T08:01:22.793Z"
   },
   {
    "duration": 220,
    "start_time": "2024-07-05T08:01:22.974Z"
   },
   {
    "duration": 179,
    "start_time": "2024-07-05T08:01:23.196Z"
   },
   {
    "duration": 8,
    "start_time": "2024-07-05T08:01:23.376Z"
   },
   {
    "duration": 37,
    "start_time": "2024-07-05T08:01:23.385Z"
   },
   {
    "duration": 60,
    "start_time": "2024-07-05T08:03:44.097Z"
   },
   {
    "duration": 2,
    "start_time": "2024-07-05T08:04:32.575Z"
   },
   {
    "duration": 61,
    "start_time": "2024-07-05T08:04:40.564Z"
   },
   {
    "duration": 217,
    "start_time": "2024-07-05T08:50:33.816Z"
   },
   {
    "duration": 1060,
    "start_time": "2024-07-05T08:54:53.172Z"
   },
   {
    "duration": 68,
    "start_time": "2024-07-05T08:54:54.234Z"
   },
   {
    "duration": 9,
    "start_time": "2024-07-05T08:54:54.304Z"
   },
   {
    "duration": 16,
    "start_time": "2024-07-05T08:54:54.315Z"
   },
   {
    "duration": 7,
    "start_time": "2024-07-05T08:54:54.332Z"
   },
   {
    "duration": 6,
    "start_time": "2024-07-05T08:54:54.340Z"
   },
   {
    "duration": 30089,
    "start_time": "2024-07-05T08:54:54.347Z"
   },
   {
    "duration": 5,
    "start_time": "2024-07-05T08:55:24.437Z"
   },
   {
    "duration": 18,
    "start_time": "2024-07-05T08:55:24.444Z"
   },
   {
    "duration": 17,
    "start_time": "2024-07-05T08:55:24.464Z"
   },
   {
    "duration": 6,
    "start_time": "2024-07-05T08:55:24.482Z"
   },
   {
    "duration": 13,
    "start_time": "2024-07-05T08:55:24.489Z"
   },
   {
    "duration": 15,
    "start_time": "2024-07-05T08:55:24.503Z"
   },
   {
    "duration": 62,
    "start_time": "2024-07-05T08:55:24.519Z"
   },
   {
    "duration": 0,
    "start_time": "2024-07-05T08:55:24.583Z"
   },
   {
    "duration": 0,
    "start_time": "2024-07-05T08:55:24.584Z"
   },
   {
    "duration": 0,
    "start_time": "2024-07-05T08:55:24.584Z"
   },
   {
    "duration": 0,
    "start_time": "2024-07-05T08:55:24.585Z"
   },
   {
    "duration": 0,
    "start_time": "2024-07-05T08:55:24.586Z"
   },
   {
    "duration": 0,
    "start_time": "2024-07-05T08:55:24.587Z"
   },
   {
    "duration": 0,
    "start_time": "2024-07-05T08:55:24.588Z"
   },
   {
    "duration": 0,
    "start_time": "2024-07-05T08:55:24.589Z"
   },
   {
    "duration": 0,
    "start_time": "2024-07-05T08:55:24.590Z"
   },
   {
    "duration": 0,
    "start_time": "2024-07-05T08:55:24.591Z"
   },
   {
    "duration": 0,
    "start_time": "2024-07-05T08:55:24.591Z"
   },
   {
    "duration": 0,
    "start_time": "2024-07-05T08:55:24.592Z"
   },
   {
    "duration": 0,
    "start_time": "2024-07-05T08:55:24.593Z"
   },
   {
    "duration": 0,
    "start_time": "2024-07-05T08:55:24.594Z"
   },
   {
    "duration": 0,
    "start_time": "2024-07-05T08:55:24.595Z"
   },
   {
    "duration": 0,
    "start_time": "2024-07-05T08:55:24.596Z"
   },
   {
    "duration": 0,
    "start_time": "2024-07-05T08:55:24.597Z"
   },
   {
    "duration": 0,
    "start_time": "2024-07-05T08:55:24.598Z"
   },
   {
    "duration": 0,
    "start_time": "2024-07-05T08:55:24.599Z"
   },
   {
    "duration": 0,
    "start_time": "2024-07-05T08:55:24.599Z"
   },
   {
    "duration": 0,
    "start_time": "2024-07-05T08:55:24.600Z"
   },
   {
    "duration": 0,
    "start_time": "2024-07-05T08:55:24.602Z"
   },
   {
    "duration": 0,
    "start_time": "2024-07-05T08:55:24.603Z"
   },
   {
    "duration": 0,
    "start_time": "2024-07-05T08:55:24.603Z"
   },
   {
    "duration": 0,
    "start_time": "2024-07-05T08:55:24.604Z"
   },
   {
    "duration": 0,
    "start_time": "2024-07-05T08:55:24.605Z"
   },
   {
    "duration": 0,
    "start_time": "2024-07-05T08:55:24.606Z"
   },
   {
    "duration": 0,
    "start_time": "2024-07-05T08:55:24.607Z"
   },
   {
    "duration": 0,
    "start_time": "2024-07-05T08:55:24.608Z"
   },
   {
    "duration": 0,
    "start_time": "2024-07-05T08:55:24.609Z"
   },
   {
    "duration": 0,
    "start_time": "2024-07-05T08:55:24.609Z"
   },
   {
    "duration": 0,
    "start_time": "2024-07-05T08:55:24.610Z"
   },
   {
    "duration": 0,
    "start_time": "2024-07-05T08:55:24.611Z"
   },
   {
    "duration": 286,
    "start_time": "2024-07-05T08:55:35.740Z"
   },
   {
    "duration": 102,
    "start_time": "2024-07-05T08:56:12.599Z"
   },
   {
    "duration": 267,
    "start_time": "2024-07-05T08:56:26.983Z"
   },
   {
    "duration": 280,
    "start_time": "2024-07-05T08:57:35.296Z"
   },
   {
    "duration": 1068,
    "start_time": "2024-07-05T09:01:38.866Z"
   },
   {
    "duration": 70,
    "start_time": "2024-07-05T09:01:39.935Z"
   },
   {
    "duration": 10,
    "start_time": "2024-07-05T09:01:40.006Z"
   },
   {
    "duration": 20,
    "start_time": "2024-07-05T09:01:40.018Z"
   },
   {
    "duration": 7,
    "start_time": "2024-07-05T09:01:40.040Z"
   },
   {
    "duration": 6,
    "start_time": "2024-07-05T09:01:40.048Z"
   },
   {
    "duration": 29075,
    "start_time": "2024-07-05T09:01:40.055Z"
   },
   {
    "duration": 4,
    "start_time": "2024-07-05T09:02:09.132Z"
   },
   {
    "duration": 17,
    "start_time": "2024-07-05T09:02:09.138Z"
   },
   {
    "duration": 17,
    "start_time": "2024-07-05T09:02:09.157Z"
   },
   {
    "duration": 4,
    "start_time": "2024-07-05T09:02:09.175Z"
   },
   {
    "duration": 11,
    "start_time": "2024-07-05T09:02:09.180Z"
   },
   {
    "duration": 23,
    "start_time": "2024-07-05T09:02:09.192Z"
   },
   {
    "duration": 273,
    "start_time": "2024-07-05T09:02:09.217Z"
   },
   {
    "duration": 5,
    "start_time": "2024-07-05T09:02:09.492Z"
   },
   {
    "duration": 33,
    "start_time": "2024-07-05T09:02:09.499Z"
   },
   {
    "duration": 103,
    "start_time": "2024-07-05T09:02:09.533Z"
   },
   {
    "duration": 774,
    "start_time": "2024-07-05T09:02:09.638Z"
   },
   {
    "duration": 5,
    "start_time": "2024-07-05T09:02:10.414Z"
   },
   {
    "duration": 104,
    "start_time": "2024-07-05T09:02:10.420Z"
   },
   {
    "duration": 0,
    "start_time": "2024-07-05T09:02:10.526Z"
   },
   {
    "duration": 0,
    "start_time": "2024-07-05T09:02:10.527Z"
   },
   {
    "duration": 0,
    "start_time": "2024-07-05T09:02:10.528Z"
   },
   {
    "duration": 0,
    "start_time": "2024-07-05T09:02:10.528Z"
   },
   {
    "duration": 0,
    "start_time": "2024-07-05T09:02:10.529Z"
   },
   {
    "duration": 0,
    "start_time": "2024-07-05T09:02:10.530Z"
   },
   {
    "duration": 0,
    "start_time": "2024-07-05T09:02:10.531Z"
   },
   {
    "duration": 0,
    "start_time": "2024-07-05T09:02:10.532Z"
   },
   {
    "duration": 0,
    "start_time": "2024-07-05T09:02:10.533Z"
   },
   {
    "duration": 0,
    "start_time": "2024-07-05T09:02:10.533Z"
   },
   {
    "duration": 0,
    "start_time": "2024-07-05T09:02:10.534Z"
   },
   {
    "duration": 0,
    "start_time": "2024-07-05T09:02:10.535Z"
   },
   {
    "duration": 0,
    "start_time": "2024-07-05T09:02:10.536Z"
   },
   {
    "duration": 0,
    "start_time": "2024-07-05T09:02:10.537Z"
   },
   {
    "duration": 0,
    "start_time": "2024-07-05T09:02:10.538Z"
   },
   {
    "duration": 0,
    "start_time": "2024-07-05T09:02:10.539Z"
   },
   {
    "duration": 0,
    "start_time": "2024-07-05T09:02:10.540Z"
   },
   {
    "duration": 0,
    "start_time": "2024-07-05T09:02:10.541Z"
   },
   {
    "duration": 0,
    "start_time": "2024-07-05T09:02:10.542Z"
   },
   {
    "duration": 0,
    "start_time": "2024-07-05T09:02:10.571Z"
   },
   {
    "duration": 0,
    "start_time": "2024-07-05T09:02:10.572Z"
   },
   {
    "duration": 0,
    "start_time": "2024-07-05T09:02:10.573Z"
   },
   {
    "duration": 0,
    "start_time": "2024-07-05T09:02:10.574Z"
   },
   {
    "duration": 0,
    "start_time": "2024-07-05T09:02:10.574Z"
   },
   {
    "duration": 0,
    "start_time": "2024-07-05T09:02:10.575Z"
   },
   {
    "duration": 0,
    "start_time": "2024-07-05T09:02:10.576Z"
   },
   {
    "duration": 0,
    "start_time": "2024-07-05T09:02:10.577Z"
   },
   {
    "duration": 15,
    "start_time": "2024-07-05T09:03:38.338Z"
   },
   {
    "duration": 15,
    "start_time": "2024-07-05T09:03:40.789Z"
   },
   {
    "duration": 15,
    "start_time": "2024-07-05T09:03:42.497Z"
   },
   {
    "duration": 153,
    "start_time": "2024-07-05T09:03:46.309Z"
   },
   {
    "duration": 134,
    "start_time": "2024-07-05T09:03:48.416Z"
   },
   {
    "duration": 5,
    "start_time": "2024-07-05T09:35:45.461Z"
   },
   {
    "duration": 16,
    "start_time": "2024-07-05T09:35:47.373Z"
   },
   {
    "duration": 2,
    "start_time": "2024-07-05T09:37:03.327Z"
   },
   {
    "duration": 203,
    "start_time": "2024-07-05T09:37:04.379Z"
   },
   {
    "duration": 8,
    "start_time": "2024-07-05T09:37:06.718Z"
   },
   {
    "duration": 232,
    "start_time": "2024-07-05T09:38:00.956Z"
   },
   {
    "duration": 213,
    "start_time": "2024-07-05T09:47:06.824Z"
   },
   {
    "duration": 117,
    "start_time": "2024-07-05T09:53:14.648Z"
   },
   {
    "duration": 218,
    "start_time": "2024-07-05T09:53:23.776Z"
   },
   {
    "duration": 228,
    "start_time": "2024-07-05T09:54:07.378Z"
   },
   {
    "duration": 234,
    "start_time": "2024-07-05T09:54:11.135Z"
   },
   {
    "duration": 293,
    "start_time": "2024-07-05T09:54:28.989Z"
   },
   {
    "duration": 122,
    "start_time": "2024-07-05T10:02:40.294Z"
   },
   {
    "duration": 131,
    "start_time": "2024-07-05T10:02:52.653Z"
   },
   {
    "duration": 39,
    "start_time": "2024-07-05T10:03:01.450Z"
   },
   {
    "duration": 1050,
    "start_time": "2024-07-05T10:03:19.679Z"
   },
   {
    "duration": 69,
    "start_time": "2024-07-05T10:03:20.730Z"
   },
   {
    "duration": 10,
    "start_time": "2024-07-05T10:03:20.800Z"
   },
   {
    "duration": 15,
    "start_time": "2024-07-05T10:03:20.811Z"
   },
   {
    "duration": 7,
    "start_time": "2024-07-05T10:03:20.827Z"
   },
   {
    "duration": 5,
    "start_time": "2024-07-05T10:03:20.836Z"
   },
   {
    "duration": 28981,
    "start_time": "2024-07-05T10:03:20.842Z"
   },
   {
    "duration": 3,
    "start_time": "2024-07-05T10:03:49.825Z"
   },
   {
    "duration": 5,
    "start_time": "2024-07-05T10:03:49.829Z"
   },
   {
    "duration": 10,
    "start_time": "2024-07-05T10:03:49.837Z"
   },
   {
    "duration": 3,
    "start_time": "2024-07-05T10:03:49.849Z"
   },
   {
    "duration": 6,
    "start_time": "2024-07-05T10:03:49.871Z"
   },
   {
    "duration": 11,
    "start_time": "2024-07-05T10:03:49.878Z"
   },
   {
    "duration": 290,
    "start_time": "2024-07-05T10:03:49.890Z"
   },
   {
    "duration": 6,
    "start_time": "2024-07-05T10:03:50.182Z"
   },
   {
    "duration": 4,
    "start_time": "2024-07-05T10:03:50.189Z"
   },
   {
    "duration": 15,
    "start_time": "2024-07-05T10:03:50.194Z"
   },
   {
    "duration": 730,
    "start_time": "2024-07-05T10:03:50.210Z"
   },
   {
    "duration": 5,
    "start_time": "2024-07-05T10:03:50.941Z"
   },
   {
    "duration": 25,
    "start_time": "2024-07-05T10:03:50.947Z"
   },
   {
    "duration": 13,
    "start_time": "2024-07-05T10:03:50.973Z"
   },
   {
    "duration": 13,
    "start_time": "2024-07-05T10:03:50.987Z"
   },
   {
    "duration": 176,
    "start_time": "2024-07-05T10:03:51.001Z"
   },
   {
    "duration": 140,
    "start_time": "2024-07-05T10:03:51.178Z"
   },
   {
    "duration": 229,
    "start_time": "2024-07-05T10:03:51.320Z"
   },
   {
    "duration": 174,
    "start_time": "2024-07-05T10:03:51.550Z"
   },
   {
    "duration": 139,
    "start_time": "2024-07-05T10:03:51.725Z"
   },
   {
    "duration": 33,
    "start_time": "2024-07-05T10:03:51.870Z"
   },
   {
    "duration": 188,
    "start_time": "2024-07-05T10:03:51.905Z"
   },
   {
    "duration": 190,
    "start_time": "2024-07-05T10:03:52.095Z"
   },
   {
    "duration": 10,
    "start_time": "2024-07-05T10:03:52.286Z"
   },
   {
    "duration": 9,
    "start_time": "2024-07-05T10:03:52.297Z"
   },
   {
    "duration": 167,
    "start_time": "2024-07-05T10:03:52.307Z"
   },
   {
    "duration": 163,
    "start_time": "2024-07-05T10:03:52.475Z"
   },
   {
    "duration": 161,
    "start_time": "2024-07-05T10:03:52.639Z"
   },
   {
    "duration": 166,
    "start_time": "2024-07-05T10:03:52.801Z"
   },
   {
    "duration": 9,
    "start_time": "2024-07-05T10:03:52.968Z"
   },
   {
    "duration": 179,
    "start_time": "2024-07-05T10:03:52.978Z"
   },
   {
    "duration": 173,
    "start_time": "2024-07-05T10:03:53.159Z"
   },
   {
    "duration": 169,
    "start_time": "2024-07-05T10:03:53.333Z"
   },
   {
    "duration": 242,
    "start_time": "2024-07-05T10:03:53.503Z"
   },
   {
    "duration": 183,
    "start_time": "2024-07-05T10:03:53.747Z"
   },
   {
    "duration": 7,
    "start_time": "2024-07-05T10:03:53.931Z"
   },
   {
    "duration": 20,
    "start_time": "2024-07-05T10:03:53.940Z"
   },
   {
    "duration": 62,
    "start_time": "2024-07-05T10:55:31.473Z"
   },
   {
    "duration": 59,
    "start_time": "2024-07-05T10:56:36.924Z"
   },
   {
    "duration": 11,
    "start_time": "2024-07-05T10:59:17.945Z"
   },
   {
    "duration": 11,
    "start_time": "2024-07-05T10:59:24.610Z"
   },
   {
    "duration": 13,
    "start_time": "2024-07-05T10:59:52.771Z"
   },
   {
    "duration": 11,
    "start_time": "2024-07-05T11:00:30.634Z"
   },
   {
    "duration": 2,
    "start_time": "2024-07-05T11:01:46.468Z"
   },
   {
    "duration": 30,
    "start_time": "2024-07-05T11:01:59.658Z"
   },
   {
    "duration": 166,
    "start_time": "2024-07-05T11:13:38.934Z"
   },
   {
    "duration": 978,
    "start_time": "2024-07-05T11:14:26.346Z"
   },
   {
    "duration": 162,
    "start_time": "2024-07-05T11:14:39.284Z"
   },
   {
    "duration": 162,
    "start_time": "2024-07-05T11:15:34.690Z"
   },
   {
    "duration": 160,
    "start_time": "2024-07-05T11:16:04.522Z"
   },
   {
    "duration": 163,
    "start_time": "2024-07-05T11:16:35.828Z"
   },
   {
    "duration": 8,
    "start_time": "2024-07-05T11:18:23.902Z"
   },
   {
    "duration": 182,
    "start_time": "2024-07-05T11:18:51.188Z"
   },
   {
    "duration": 187,
    "start_time": "2024-07-05T11:19:27.365Z"
   },
   {
    "duration": 199,
    "start_time": "2024-07-05T11:19:41.035Z"
   },
   {
    "duration": 233,
    "start_time": "2024-07-05T11:21:43.520Z"
   },
   {
    "duration": 188,
    "start_time": "2024-07-05T11:22:10.343Z"
   },
   {
    "duration": 187,
    "start_time": "2024-07-05T11:22:35.827Z"
   },
   {
    "duration": 150,
    "start_time": "2024-07-05T11:23:03.094Z"
   },
   {
    "duration": 188,
    "start_time": "2024-07-05T11:23:13.812Z"
   },
   {
    "duration": 208,
    "start_time": "2024-07-05T11:25:37.873Z"
   },
   {
    "duration": 185,
    "start_time": "2024-07-05T11:25:43.263Z"
   },
   {
    "duration": 215,
    "start_time": "2024-07-05T11:27:06.241Z"
   },
   {
    "duration": 198,
    "start_time": "2024-07-05T11:27:42.293Z"
   },
   {
    "duration": 200,
    "start_time": "2024-07-05T11:27:47.279Z"
   },
   {
    "duration": 209,
    "start_time": "2024-07-05T11:27:55.255Z"
   },
   {
    "duration": 265,
    "start_time": "2024-07-05T11:29:48.881Z"
   },
   {
    "duration": 155,
    "start_time": "2024-07-05T11:29:56.488Z"
   },
   {
    "duration": 228,
    "start_time": "2024-07-05T11:30:00.339Z"
   },
   {
    "duration": 205,
    "start_time": "2024-07-05T11:30:03.230Z"
   },
   {
    "duration": 234,
    "start_time": "2024-07-05T11:32:02.708Z"
   },
   {
    "duration": 10,
    "start_time": "2024-07-05T11:35:46.462Z"
   },
   {
    "duration": 115,
    "start_time": "2024-07-05T11:37:01.500Z"
   },
   {
    "duration": 122,
    "start_time": "2024-07-05T11:37:07.248Z"
   },
   {
    "duration": 112,
    "start_time": "2024-07-05T11:38:08.629Z"
   },
   {
    "duration": 130,
    "start_time": "2024-07-05T11:39:45.054Z"
   },
   {
    "duration": 135,
    "start_time": "2024-07-05T11:39:53.091Z"
   },
   {
    "duration": 119,
    "start_time": "2024-07-05T11:40:09.698Z"
   },
   {
    "duration": 188,
    "start_time": "2024-07-05T11:41:12.919Z"
   },
   {
    "duration": 124,
    "start_time": "2024-07-05T11:41:25.112Z"
   },
   {
    "duration": 123,
    "start_time": "2024-07-05T11:41:35.347Z"
   },
   {
    "duration": 120,
    "start_time": "2024-07-05T11:43:48.842Z"
   },
   {
    "duration": 124,
    "start_time": "2024-07-05T11:43:58.087Z"
   },
   {
    "duration": 117,
    "start_time": "2024-07-05T11:44:16.201Z"
   },
   {
    "duration": 118,
    "start_time": "2024-07-05T11:45:07.913Z"
   },
   {
    "duration": 112,
    "start_time": "2024-07-05T11:45:20.537Z"
   },
   {
    "duration": 124,
    "start_time": "2024-07-05T11:46:00.455Z"
   },
   {
    "duration": 82,
    "start_time": "2024-07-05T12:34:55.898Z"
   },
   {
    "duration": 84,
    "start_time": "2024-07-05T12:35:04.464Z"
   },
   {
    "duration": 82,
    "start_time": "2024-07-05T12:35:11.046Z"
   },
   {
    "duration": 88,
    "start_time": "2024-07-05T12:35:16.788Z"
   },
   {
    "duration": 137,
    "start_time": "2024-07-05T12:36:05.277Z"
   },
   {
    "duration": 82,
    "start_time": "2024-07-05T12:36:33.960Z"
   },
   {
    "duration": 81,
    "start_time": "2024-07-05T12:36:36.478Z"
   },
   {
    "duration": 111,
    "start_time": "2024-07-05T12:37:06.904Z"
   },
   {
    "duration": 82,
    "start_time": "2024-07-05T12:37:13.498Z"
   },
   {
    "duration": 84,
    "start_time": "2024-07-05T12:37:55.154Z"
   },
   {
    "duration": 85,
    "start_time": "2024-07-05T12:38:01.246Z"
   },
   {
    "duration": 93,
    "start_time": "2024-07-05T12:40:53.635Z"
   },
   {
    "duration": 87,
    "start_time": "2024-07-05T12:41:59.563Z"
   },
   {
    "duration": 96,
    "start_time": "2024-07-05T12:42:50.177Z"
   },
   {
    "duration": 169,
    "start_time": "2024-07-05T12:44:05.817Z"
   },
   {
    "duration": 1345,
    "start_time": "2024-07-05T15:50:30.639Z"
   },
   {
    "duration": 130,
    "start_time": "2024-07-05T15:50:31.986Z"
   },
   {
    "duration": 12,
    "start_time": "2024-07-05T15:50:32.118Z"
   },
   {
    "duration": 110,
    "start_time": "2024-07-05T15:50:32.132Z"
   },
   {
    "duration": 68,
    "start_time": "2024-07-05T15:50:32.243Z"
   },
   {
    "duration": 24,
    "start_time": "2024-07-05T15:50:32.313Z"
   },
   {
    "duration": 37657,
    "start_time": "2024-07-05T15:50:32.339Z"
   },
   {
    "duration": 5,
    "start_time": "2024-07-05T15:51:09.998Z"
   },
   {
    "duration": 21,
    "start_time": "2024-07-05T15:51:10.004Z"
   },
   {
    "duration": 29,
    "start_time": "2024-07-05T15:51:10.028Z"
   },
   {
    "duration": 5,
    "start_time": "2024-07-05T15:51:10.058Z"
   },
   {
    "duration": 8,
    "start_time": "2024-07-05T15:51:10.064Z"
   },
   {
    "duration": 22,
    "start_time": "2024-07-05T15:51:10.074Z"
   },
   {
    "duration": 355,
    "start_time": "2024-07-05T15:51:10.097Z"
   },
   {
    "duration": 8,
    "start_time": "2024-07-05T15:51:10.453Z"
   },
   {
    "duration": 6,
    "start_time": "2024-07-05T15:51:10.463Z"
   },
   {
    "duration": 20,
    "start_time": "2024-07-05T15:51:10.470Z"
   },
   {
    "duration": 856,
    "start_time": "2024-07-05T15:51:10.492Z"
   },
   {
    "duration": 7,
    "start_time": "2024-07-05T15:51:11.350Z"
   },
   {
    "duration": 18,
    "start_time": "2024-07-05T15:51:11.359Z"
   },
   {
    "duration": 17,
    "start_time": "2024-07-05T15:51:11.378Z"
   },
   {
    "duration": 48,
    "start_time": "2024-07-05T15:51:11.397Z"
   },
   {
    "duration": 188,
    "start_time": "2024-07-05T15:51:11.446Z"
   },
   {
    "duration": 155,
    "start_time": "2024-07-05T15:51:11.637Z"
   },
   {
    "duration": 275,
    "start_time": "2024-07-05T15:51:11.794Z"
   },
   {
    "duration": 228,
    "start_time": "2024-07-05T15:51:12.071Z"
   },
   {
    "duration": 169,
    "start_time": "2024-07-05T15:51:12.301Z"
   },
   {
    "duration": 13,
    "start_time": "2024-07-05T15:51:12.473Z"
   },
   {
    "duration": 2,
    "start_time": "2024-07-05T15:51:12.487Z"
   },
   {
    "duration": 52,
    "start_time": "2024-07-05T15:51:12.491Z"
   },
   {
    "duration": 201,
    "start_time": "2024-07-05T15:51:12.545Z"
   },
   {
    "duration": 243,
    "start_time": "2024-07-05T15:51:12.747Z"
   },
   {
    "duration": 10,
    "start_time": "2024-07-05T15:51:12.992Z"
   },
   {
    "duration": 136,
    "start_time": "2024-07-05T15:51:13.004Z"
   },
   {
    "duration": 107,
    "start_time": "2024-07-05T15:51:13.142Z"
   },
   {
    "duration": 105,
    "start_time": "2024-07-05T15:51:13.251Z"
   },
   {
    "duration": 117,
    "start_time": "2024-07-05T15:51:13.357Z"
   },
   {
    "duration": 10,
    "start_time": "2024-07-05T15:51:13.476Z"
   },
   {
    "duration": 137,
    "start_time": "2024-07-05T15:51:13.487Z"
   },
   {
    "duration": 126,
    "start_time": "2024-07-05T15:51:13.637Z"
   },
   {
    "duration": 119,
    "start_time": "2024-07-05T15:51:13.765Z"
   },
   {
    "duration": 110,
    "start_time": "2024-07-05T15:51:13.886Z"
   },
   {
    "duration": 279,
    "start_time": "2024-07-05T15:51:13.997Z"
   },
   {
    "duration": 9,
    "start_time": "2024-07-05T15:51:14.278Z"
   },
   {
    "duration": 11,
    "start_time": "2024-07-05T15:51:14.288Z"
   },
   {
    "duration": 9,
    "start_time": "2024-07-05T15:53:25.988Z"
   },
   {
    "duration": 1193,
    "start_time": "2024-07-06T07:40:03.291Z"
   },
   {
    "duration": 128,
    "start_time": "2024-07-06T07:40:04.486Z"
   },
   {
    "duration": 12,
    "start_time": "2024-07-06T07:40:04.615Z"
   },
   {
    "duration": 18,
    "start_time": "2024-07-06T07:40:04.628Z"
   },
   {
    "duration": 10,
    "start_time": "2024-07-06T07:40:04.647Z"
   },
   {
    "duration": 9,
    "start_time": "2024-07-06T07:40:04.664Z"
   },
   {
    "duration": 37867,
    "start_time": "2024-07-06T07:40:04.675Z"
   },
   {
    "duration": 6,
    "start_time": "2024-07-06T07:40:42.543Z"
   },
   {
    "duration": 17,
    "start_time": "2024-07-06T07:40:42.550Z"
   },
   {
    "duration": 12,
    "start_time": "2024-07-06T07:40:42.570Z"
   },
   {
    "duration": 4,
    "start_time": "2024-07-06T07:40:42.584Z"
   },
   {
    "duration": 10,
    "start_time": "2024-07-06T07:40:42.590Z"
   },
   {
    "duration": 22,
    "start_time": "2024-07-06T07:40:42.602Z"
   },
   {
    "duration": 335,
    "start_time": "2024-07-06T07:40:42.626Z"
   },
   {
    "duration": 7,
    "start_time": "2024-07-06T07:40:42.962Z"
   },
   {
    "duration": 4,
    "start_time": "2024-07-06T07:40:42.971Z"
   },
   {
    "duration": 15,
    "start_time": "2024-07-06T07:40:42.976Z"
   },
   {
    "duration": 863,
    "start_time": "2024-07-06T07:40:42.993Z"
   },
   {
    "duration": 13,
    "start_time": "2024-07-06T07:40:43.857Z"
   },
   {
    "duration": 18,
    "start_time": "2024-07-06T07:40:43.871Z"
   },
   {
    "duration": 20,
    "start_time": "2024-07-06T07:40:43.890Z"
   },
   {
    "duration": 17,
    "start_time": "2024-07-06T07:40:43.912Z"
   },
   {
    "duration": 220,
    "start_time": "2024-07-06T07:40:43.931Z"
   },
   {
    "duration": 176,
    "start_time": "2024-07-06T07:40:44.152Z"
   },
   {
    "duration": 257,
    "start_time": "2024-07-06T07:40:44.329Z"
   },
   {
    "duration": 218,
    "start_time": "2024-07-06T07:40:44.587Z"
   },
   {
    "duration": 166,
    "start_time": "2024-07-06T07:40:44.807Z"
   },
   {
    "duration": 13,
    "start_time": "2024-07-06T07:40:44.977Z"
   },
   {
    "duration": 3,
    "start_time": "2024-07-06T07:40:44.992Z"
   },
   {
    "duration": 38,
    "start_time": "2024-07-06T07:40:44.996Z"
   },
   {
    "duration": 230,
    "start_time": "2024-07-06T07:40:45.035Z"
   },
   {
    "duration": 249,
    "start_time": "2024-07-06T07:40:45.267Z"
   },
   {
    "duration": 11,
    "start_time": "2024-07-06T07:40:45.519Z"
   },
   {
    "duration": 129,
    "start_time": "2024-07-06T07:40:45.532Z"
   },
   {
    "duration": 109,
    "start_time": "2024-07-06T07:40:45.665Z"
   },
   {
    "duration": 124,
    "start_time": "2024-07-06T07:40:45.776Z"
   },
   {
    "duration": 121,
    "start_time": "2024-07-06T07:40:45.901Z"
   },
   {
    "duration": 11,
    "start_time": "2024-07-06T07:40:46.023Z"
   },
   {
    "duration": 109,
    "start_time": "2024-07-06T07:40:46.036Z"
   },
   {
    "duration": 107,
    "start_time": "2024-07-06T07:40:46.147Z"
   },
   {
    "duration": 105,
    "start_time": "2024-07-06T07:40:46.264Z"
   },
   {
    "duration": 117,
    "start_time": "2024-07-06T07:40:46.371Z"
   },
   {
    "duration": 287,
    "start_time": "2024-07-06T07:40:46.489Z"
   },
   {
    "duration": 8,
    "start_time": "2024-07-06T07:40:46.778Z"
   },
   {
    "duration": 8,
    "start_time": "2024-07-06T07:40:46.788Z"
   },
   {
    "duration": 1103,
    "start_time": "2024-07-06T08:00:36.211Z"
   },
   {
    "duration": 83,
    "start_time": "2024-07-06T08:00:37.315Z"
   },
   {
    "duration": 12,
    "start_time": "2024-07-06T08:00:37.400Z"
   },
   {
    "duration": 88,
    "start_time": "2024-07-06T08:00:37.414Z"
   },
   {
    "duration": 9,
    "start_time": "2024-07-06T08:00:37.503Z"
   },
   {
    "duration": 15,
    "start_time": "2024-07-06T08:00:37.513Z"
   },
   {
    "duration": 38533,
    "start_time": "2024-07-06T08:00:37.530Z"
   },
   {
    "duration": 5,
    "start_time": "2024-07-06T08:01:16.065Z"
   },
   {
    "duration": 14,
    "start_time": "2024-07-06T08:01:16.072Z"
   },
   {
    "duration": 18,
    "start_time": "2024-07-06T08:01:16.090Z"
   },
   {
    "duration": 17,
    "start_time": "2024-07-06T08:01:16.110Z"
   },
   {
    "duration": 15,
    "start_time": "2024-07-06T08:01:16.128Z"
   },
   {
    "duration": 29,
    "start_time": "2024-07-06T08:01:16.144Z"
   },
   {
    "duration": 368,
    "start_time": "2024-07-06T08:01:16.174Z"
   },
   {
    "duration": 7,
    "start_time": "2024-07-06T08:01:16.543Z"
   },
   {
    "duration": 15,
    "start_time": "2024-07-06T08:01:16.552Z"
   },
   {
    "duration": 19,
    "start_time": "2024-07-06T08:01:16.568Z"
   },
   {
    "duration": 862,
    "start_time": "2024-07-06T08:01:16.589Z"
   },
   {
    "duration": 6,
    "start_time": "2024-07-06T08:01:17.453Z"
   },
   {
    "duration": 62,
    "start_time": "2024-07-06T08:01:17.460Z"
   },
   {
    "duration": 17,
    "start_time": "2024-07-06T08:01:17.524Z"
   },
   {
    "duration": 16,
    "start_time": "2024-07-06T08:01:17.543Z"
   },
   {
    "duration": 196,
    "start_time": "2024-07-06T08:01:17.561Z"
   },
   {
    "duration": 184,
    "start_time": "2024-07-06T08:01:17.764Z"
   },
   {
    "duration": 289,
    "start_time": "2024-07-06T08:01:17.950Z"
   },
   {
    "duration": 226,
    "start_time": "2024-07-06T08:01:18.241Z"
   },
   {
    "duration": 172,
    "start_time": "2024-07-06T08:01:18.469Z"
   },
   {
    "duration": 23,
    "start_time": "2024-07-06T08:01:18.644Z"
   },
   {
    "duration": 35,
    "start_time": "2024-07-06T08:01:18.668Z"
   },
   {
    "duration": 47,
    "start_time": "2024-07-06T08:01:18.704Z"
   },
   {
    "duration": 212,
    "start_time": "2024-07-06T08:01:18.753Z"
   },
   {
    "duration": 250,
    "start_time": "2024-07-06T08:01:18.967Z"
   },
   {
    "duration": 10,
    "start_time": "2024-07-06T08:01:19.219Z"
   },
   {
    "duration": 123,
    "start_time": "2024-07-06T08:01:19.231Z"
   },
   {
    "duration": 114,
    "start_time": "2024-07-06T08:01:19.356Z"
   },
   {
    "duration": 111,
    "start_time": "2024-07-06T08:01:19.472Z"
   },
   {
    "duration": 119,
    "start_time": "2024-07-06T08:01:19.585Z"
   },
   {
    "duration": 11,
    "start_time": "2024-07-06T08:01:19.706Z"
   },
   {
    "duration": 126,
    "start_time": "2024-07-06T08:01:19.718Z"
   },
   {
    "duration": 127,
    "start_time": "2024-07-06T08:01:19.845Z"
   },
   {
    "duration": 119,
    "start_time": "2024-07-06T08:01:19.974Z"
   },
   {
    "duration": 116,
    "start_time": "2024-07-06T08:01:20.094Z"
   },
   {
    "duration": 292,
    "start_time": "2024-07-06T08:01:20.212Z"
   },
   {
    "duration": 9,
    "start_time": "2024-07-06T08:01:20.505Z"
   },
   {
    "duration": 10,
    "start_time": "2024-07-06T08:01:20.516Z"
   },
   {
    "duration": 1116,
    "start_time": "2024-07-06T08:01:37.909Z"
   },
   {
    "duration": 81,
    "start_time": "2024-07-06T08:01:39.027Z"
   },
   {
    "duration": 13,
    "start_time": "2024-07-06T08:01:39.110Z"
   },
   {
    "duration": 19,
    "start_time": "2024-07-06T08:01:39.124Z"
   },
   {
    "duration": 21,
    "start_time": "2024-07-06T08:01:39.145Z"
   },
   {
    "duration": 8,
    "start_time": "2024-07-06T08:01:39.167Z"
   },
   {
    "duration": 39200,
    "start_time": "2024-07-06T08:01:39.176Z"
   },
   {
    "duration": 6,
    "start_time": "2024-07-06T08:02:18.377Z"
   },
   {
    "duration": 10,
    "start_time": "2024-07-06T08:02:18.384Z"
   },
   {
    "duration": 22,
    "start_time": "2024-07-06T08:02:18.395Z"
   },
   {
    "duration": 5,
    "start_time": "2024-07-06T08:02:18.419Z"
   },
   {
    "duration": 32,
    "start_time": "2024-07-06T08:02:18.425Z"
   },
   {
    "duration": 31,
    "start_time": "2024-07-06T08:02:18.458Z"
   },
   {
    "duration": 351,
    "start_time": "2024-07-06T08:02:18.492Z"
   },
   {
    "duration": 9,
    "start_time": "2024-07-06T08:02:18.845Z"
   },
   {
    "duration": 11,
    "start_time": "2024-07-06T08:02:18.856Z"
   },
   {
    "duration": 21,
    "start_time": "2024-07-06T08:02:18.869Z"
   },
   {
    "duration": 869,
    "start_time": "2024-07-06T08:02:18.892Z"
   },
   {
    "duration": 6,
    "start_time": "2024-07-06T08:02:19.764Z"
   },
   {
    "duration": 18,
    "start_time": "2024-07-06T08:02:19.772Z"
   },
   {
    "duration": 18,
    "start_time": "2024-07-06T08:02:19.791Z"
   },
   {
    "duration": 19,
    "start_time": "2024-07-06T08:02:19.810Z"
   },
   {
    "duration": 240,
    "start_time": "2024-07-06T08:02:19.830Z"
   },
   {
    "duration": 174,
    "start_time": "2024-07-06T08:02:20.072Z"
   },
   {
    "duration": 318,
    "start_time": "2024-07-06T08:02:20.247Z"
   },
   {
    "duration": 244,
    "start_time": "2024-07-06T08:02:20.567Z"
   },
   {
    "duration": 172,
    "start_time": "2024-07-06T08:02:20.812Z"
   },
   {
    "duration": 13,
    "start_time": "2024-07-06T08:02:20.986Z"
   },
   {
    "duration": 5,
    "start_time": "2024-07-06T08:02:21.001Z"
   },
   {
    "duration": 42,
    "start_time": "2024-07-06T08:02:21.007Z"
   },
   {
    "duration": 200,
    "start_time": "2024-07-06T08:02:21.065Z"
   },
   {
    "duration": 235,
    "start_time": "2024-07-06T08:02:21.267Z"
   },
   {
    "duration": 10,
    "start_time": "2024-07-06T08:02:21.503Z"
   },
   {
    "duration": 156,
    "start_time": "2024-07-06T08:02:21.514Z"
   },
   {
    "duration": 131,
    "start_time": "2024-07-06T08:02:21.671Z"
   },
   {
    "duration": 115,
    "start_time": "2024-07-06T08:02:21.804Z"
   },
   {
    "duration": 111,
    "start_time": "2024-07-06T08:02:21.920Z"
   },
   {
    "duration": 12,
    "start_time": "2024-07-06T08:02:22.032Z"
   },
   {
    "duration": 131,
    "start_time": "2024-07-06T08:02:22.045Z"
   },
   {
    "duration": 121,
    "start_time": "2024-07-06T08:02:22.178Z"
   },
   {
    "duration": 138,
    "start_time": "2024-07-06T08:02:22.303Z"
   },
   {
    "duration": 111,
    "start_time": "2024-07-06T08:02:22.443Z"
   },
   {
    "duration": 293,
    "start_time": "2024-07-06T08:02:22.565Z"
   },
   {
    "duration": 10,
    "start_time": "2024-07-06T08:02:22.865Z"
   },
   {
    "duration": 9,
    "start_time": "2024-07-06T08:02:22.877Z"
   },
   {
    "duration": 50,
    "start_time": "2024-07-06T08:36:07.828Z"
   },
   {
    "duration": 1330,
    "start_time": "2024-07-06T08:36:15.083Z"
   },
   {
    "duration": 227,
    "start_time": "2024-07-06T08:36:16.415Z"
   },
   {
    "duration": 12,
    "start_time": "2024-07-06T08:36:16.643Z"
   },
   {
    "duration": 18,
    "start_time": "2024-07-06T08:36:16.657Z"
   },
   {
    "duration": 10,
    "start_time": "2024-07-06T08:36:16.676Z"
   },
   {
    "duration": 15,
    "start_time": "2024-07-06T08:36:16.687Z"
   },
   {
    "duration": 39015,
    "start_time": "2024-07-06T08:36:16.703Z"
   },
   {
    "duration": 5,
    "start_time": "2024-07-06T08:36:55.719Z"
   },
   {
    "duration": 38,
    "start_time": "2024-07-06T08:36:55.725Z"
   },
   {
    "duration": 13,
    "start_time": "2024-07-06T08:36:55.765Z"
   },
   {
    "duration": 4,
    "start_time": "2024-07-06T08:36:55.779Z"
   },
   {
    "duration": 9,
    "start_time": "2024-07-06T08:36:55.784Z"
   },
   {
    "duration": 14,
    "start_time": "2024-07-06T08:36:55.794Z"
   },
   {
    "duration": 348,
    "start_time": "2024-07-06T08:36:55.810Z"
   },
   {
    "duration": 8,
    "start_time": "2024-07-06T08:36:56.159Z"
   },
   {
    "duration": 6,
    "start_time": "2024-07-06T08:36:56.169Z"
   },
   {
    "duration": 28,
    "start_time": "2024-07-06T08:36:56.177Z"
   },
   {
    "duration": 137,
    "start_time": "2024-07-06T08:36:56.207Z"
   },
   {
    "duration": 12,
    "start_time": "2024-07-06T08:36:56.346Z"
   },
   {
    "duration": 15,
    "start_time": "2024-07-06T08:36:56.359Z"
   },
   {
    "duration": 17,
    "start_time": "2024-07-06T08:36:56.376Z"
   },
   {
    "duration": 15,
    "start_time": "2024-07-06T08:36:56.395Z"
   },
   {
    "duration": 220,
    "start_time": "2024-07-06T08:36:56.411Z"
   },
   {
    "duration": 155,
    "start_time": "2024-07-06T08:36:56.633Z"
   },
   {
    "duration": 281,
    "start_time": "2024-07-06T08:36:56.790Z"
   },
   {
    "duration": 158,
    "start_time": "2024-07-06T08:36:57.073Z"
   },
   {
    "duration": 170,
    "start_time": "2024-07-06T08:36:57.233Z"
   },
   {
    "duration": 15,
    "start_time": "2024-07-06T08:36:57.407Z"
   },
   {
    "duration": 4,
    "start_time": "2024-07-06T08:36:57.423Z"
   },
   {
    "duration": 59,
    "start_time": "2024-07-06T08:36:57.428Z"
   },
   {
    "duration": 284,
    "start_time": "2024-07-06T08:36:57.489Z"
   },
   {
    "duration": 253,
    "start_time": "2024-07-06T08:36:57.775Z"
   },
   {
    "duration": 10,
    "start_time": "2024-07-06T08:36:58.030Z"
   },
   {
    "duration": 124,
    "start_time": "2024-07-06T08:36:58.042Z"
   },
   {
    "duration": 122,
    "start_time": "2024-07-06T08:36:58.168Z"
   },
   {
    "duration": 111,
    "start_time": "2024-07-06T08:36:58.292Z"
   },
   {
    "duration": 114,
    "start_time": "2024-07-06T08:36:58.405Z"
   },
   {
    "duration": 10,
    "start_time": "2024-07-06T08:36:58.521Z"
   },
   {
    "duration": 141,
    "start_time": "2024-07-06T08:36:58.533Z"
   },
   {
    "duration": 112,
    "start_time": "2024-07-06T08:36:58.676Z"
   },
   {
    "duration": 116,
    "start_time": "2024-07-06T08:36:58.790Z"
   },
   {
    "duration": 117,
    "start_time": "2024-07-06T08:36:58.907Z"
   },
   {
    "duration": 214,
    "start_time": "2024-07-06T08:36:59.026Z"
   },
   {
    "duration": 13,
    "start_time": "2024-07-06T08:36:59.242Z"
   },
   {
    "duration": 8,
    "start_time": "2024-07-06T08:36:59.257Z"
   },
   {
    "duration": 58,
    "start_time": "2024-07-06T08:40:10.872Z"
   },
   {
    "duration": 125,
    "start_time": "2024-07-06T08:40:17.037Z"
   },
   {
    "duration": 231,
    "start_time": "2024-07-06T08:40:23.533Z"
   },
   {
    "duration": 1095,
    "start_time": "2024-07-06T08:40:36.407Z"
   },
   {
    "duration": 82,
    "start_time": "2024-07-06T08:40:37.504Z"
   },
   {
    "duration": 12,
    "start_time": "2024-07-06T08:40:37.588Z"
   },
   {
    "duration": 18,
    "start_time": "2024-07-06T08:40:37.603Z"
   },
   {
    "duration": 10,
    "start_time": "2024-07-06T08:40:37.622Z"
   },
   {
    "duration": 26,
    "start_time": "2024-07-06T08:40:37.634Z"
   },
   {
    "duration": 39314,
    "start_time": "2024-07-06T08:40:37.662Z"
   },
   {
    "duration": 4,
    "start_time": "2024-07-06T08:41:16.978Z"
   },
   {
    "duration": 41,
    "start_time": "2024-07-06T08:41:16.984Z"
   },
   {
    "duration": 37,
    "start_time": "2024-07-06T08:41:17.027Z"
   },
   {
    "duration": 4,
    "start_time": "2024-07-06T08:41:17.066Z"
   },
   {
    "duration": 36,
    "start_time": "2024-07-06T08:41:17.072Z"
   },
   {
    "duration": 52,
    "start_time": "2024-07-06T08:41:17.109Z"
   },
   {
    "duration": 353,
    "start_time": "2024-07-06T08:41:17.163Z"
   },
   {
    "duration": 7,
    "start_time": "2024-07-06T08:41:17.517Z"
   },
   {
    "duration": 5,
    "start_time": "2024-07-06T08:41:17.525Z"
   },
   {
    "duration": 29,
    "start_time": "2024-07-06T08:41:17.532Z"
   },
   {
    "duration": 262,
    "start_time": "2024-07-06T08:41:17.562Z"
   },
   {
    "duration": 117,
    "start_time": "2024-07-06T08:41:17.825Z"
   },
   {
    "duration": 5,
    "start_time": "2024-07-06T08:41:17.944Z"
   },
   {
    "duration": 17,
    "start_time": "2024-07-06T08:41:17.951Z"
   },
   {
    "duration": 88,
    "start_time": "2024-07-06T08:41:17.970Z"
   },
   {
    "duration": 15,
    "start_time": "2024-07-06T08:41:18.059Z"
   },
   {
    "duration": 191,
    "start_time": "2024-07-06T08:41:18.076Z"
   },
   {
    "duration": 161,
    "start_time": "2024-07-06T08:41:18.268Z"
   },
   {
    "duration": 271,
    "start_time": "2024-07-06T08:41:18.430Z"
   },
   {
    "duration": 152,
    "start_time": "2024-07-06T08:41:18.703Z"
   },
   {
    "duration": 227,
    "start_time": "2024-07-06T08:41:18.859Z"
   },
   {
    "duration": 14,
    "start_time": "2024-07-06T08:41:19.087Z"
   },
   {
    "duration": 7,
    "start_time": "2024-07-06T08:41:19.102Z"
   },
   {
    "duration": 58,
    "start_time": "2024-07-06T08:41:19.110Z"
   },
   {
    "duration": 216,
    "start_time": "2024-07-06T08:41:19.169Z"
   },
   {
    "duration": 287,
    "start_time": "2024-07-06T08:41:19.386Z"
   },
   {
    "duration": 13,
    "start_time": "2024-07-06T08:41:19.674Z"
   },
   {
    "duration": 161,
    "start_time": "2024-07-06T08:41:19.689Z"
   },
   {
    "duration": 105,
    "start_time": "2024-07-06T08:41:19.852Z"
   },
   {
    "duration": 104,
    "start_time": "2024-07-06T08:41:19.958Z"
   },
   {
    "duration": 135,
    "start_time": "2024-07-06T08:41:20.063Z"
   },
   {
    "duration": 10,
    "start_time": "2024-07-06T08:41:20.200Z"
   },
   {
    "duration": 114,
    "start_time": "2024-07-06T08:41:20.211Z"
   },
   {
    "duration": 111,
    "start_time": "2024-07-06T08:41:20.327Z"
   },
   {
    "duration": 107,
    "start_time": "2024-07-06T08:41:20.440Z"
   },
   {
    "duration": 114,
    "start_time": "2024-07-06T08:41:20.554Z"
   },
   {
    "duration": 218,
    "start_time": "2024-07-06T08:41:20.669Z"
   },
   {
    "duration": 9,
    "start_time": "2024-07-06T08:41:20.888Z"
   },
   {
    "duration": 9,
    "start_time": "2024-07-06T08:41:20.898Z"
   },
   {
    "duration": 359,
    "start_time": "2024-07-06T08:43:00.933Z"
   },
   {
    "duration": 6,
    "start_time": "2024-07-06T08:43:34.617Z"
   },
   {
    "duration": 18,
    "start_time": "2024-07-06T08:43:38.079Z"
   },
   {
    "duration": 16,
    "start_time": "2024-07-06T08:43:39.494Z"
   },
   {
    "duration": 16,
    "start_time": "2024-07-06T08:43:41.246Z"
   },
   {
    "duration": 201,
    "start_time": "2024-07-06T08:43:43.852Z"
   },
   {
    "duration": 195,
    "start_time": "2024-07-06T08:44:42.913Z"
   },
   {
    "duration": 199,
    "start_time": "2024-07-06T08:44:49.980Z"
   },
   {
    "duration": 190,
    "start_time": "2024-07-06T08:44:53.672Z"
   },
   {
    "duration": 1187,
    "start_time": "2024-07-06T08:45:14.220Z"
   },
   {
    "duration": 83,
    "start_time": "2024-07-06T08:45:15.408Z"
   },
   {
    "duration": 14,
    "start_time": "2024-07-06T08:45:15.492Z"
   },
   {
    "duration": 16,
    "start_time": "2024-07-06T08:45:15.508Z"
   },
   {
    "duration": 31,
    "start_time": "2024-07-06T08:45:15.525Z"
   },
   {
    "duration": 18,
    "start_time": "2024-07-06T08:45:15.557Z"
   },
   {
    "duration": 40223,
    "start_time": "2024-07-06T08:45:15.576Z"
   },
   {
    "duration": 5,
    "start_time": "2024-07-06T08:45:55.801Z"
   },
   {
    "duration": 8,
    "start_time": "2024-07-06T08:45:55.807Z"
   },
   {
    "duration": 13,
    "start_time": "2024-07-06T08:45:55.817Z"
   },
   {
    "duration": 23,
    "start_time": "2024-07-06T08:45:55.832Z"
   },
   {
    "duration": 8,
    "start_time": "2024-07-06T08:45:55.857Z"
   },
   {
    "duration": 13,
    "start_time": "2024-07-06T08:45:55.866Z"
   },
   {
    "duration": 358,
    "start_time": "2024-07-06T08:45:55.880Z"
   },
   {
    "duration": 8,
    "start_time": "2024-07-06T08:45:56.239Z"
   },
   {
    "duration": 6,
    "start_time": "2024-07-06T08:45:56.255Z"
   },
   {
    "duration": 17,
    "start_time": "2024-07-06T08:45:56.263Z"
   },
   {
    "duration": 282,
    "start_time": "2024-07-06T08:45:56.281Z"
   },
   {
    "duration": 6,
    "start_time": "2024-07-06T08:45:56.565Z"
   },
   {
    "duration": 16,
    "start_time": "2024-07-06T08:45:56.572Z"
   },
   {
    "duration": 16,
    "start_time": "2024-07-06T08:45:56.589Z"
   },
   {
    "duration": 15,
    "start_time": "2024-07-06T08:45:56.606Z"
   },
   {
    "duration": 234,
    "start_time": "2024-07-06T08:45:56.622Z"
   },
   {
    "duration": 202,
    "start_time": "2024-07-06T08:45:56.858Z"
   },
   {
    "duration": 109,
    "start_time": "2024-07-06T08:45:57.061Z"
   },
   {
    "duration": 0,
    "start_time": "2024-07-06T08:45:57.172Z"
   },
   {
    "duration": 0,
    "start_time": "2024-07-06T08:45:57.173Z"
   },
   {
    "duration": 0,
    "start_time": "2024-07-06T08:45:57.174Z"
   },
   {
    "duration": 0,
    "start_time": "2024-07-06T08:45:57.175Z"
   },
   {
    "duration": 0,
    "start_time": "2024-07-06T08:45:57.176Z"
   },
   {
    "duration": 0,
    "start_time": "2024-07-06T08:45:57.177Z"
   },
   {
    "duration": 0,
    "start_time": "2024-07-06T08:45:57.178Z"
   },
   {
    "duration": 0,
    "start_time": "2024-07-06T08:45:57.180Z"
   },
   {
    "duration": 0,
    "start_time": "2024-07-06T08:45:57.181Z"
   },
   {
    "duration": 0,
    "start_time": "2024-07-06T08:45:57.182Z"
   },
   {
    "duration": 0,
    "start_time": "2024-07-06T08:45:57.183Z"
   },
   {
    "duration": 0,
    "start_time": "2024-07-06T08:45:57.184Z"
   },
   {
    "duration": 0,
    "start_time": "2024-07-06T08:45:57.185Z"
   },
   {
    "duration": 0,
    "start_time": "2024-07-06T08:45:57.186Z"
   },
   {
    "duration": 0,
    "start_time": "2024-07-06T08:45:57.187Z"
   },
   {
    "duration": 0,
    "start_time": "2024-07-06T08:45:57.188Z"
   },
   {
    "duration": 0,
    "start_time": "2024-07-06T08:45:57.189Z"
   },
   {
    "duration": 0,
    "start_time": "2024-07-06T08:45:57.190Z"
   },
   {
    "duration": 0,
    "start_time": "2024-07-06T08:45:57.192Z"
   },
   {
    "duration": 0,
    "start_time": "2024-07-06T08:45:57.193Z"
   },
   {
    "duration": 0,
    "start_time": "2024-07-06T08:45:57.194Z"
   },
   {
    "duration": 191,
    "start_time": "2024-07-06T08:46:18.220Z"
   },
   {
    "duration": 232,
    "start_time": "2024-07-06T08:47:11.179Z"
   },
   {
    "duration": 161,
    "start_time": "2024-07-06T08:48:33.835Z"
   },
   {
    "duration": 217,
    "start_time": "2024-07-06T08:48:50.721Z"
   },
   {
    "duration": 14,
    "start_time": "2024-07-06T08:49:07.157Z"
   },
   {
    "duration": 3,
    "start_time": "2024-07-06T08:50:37.055Z"
   },
   {
    "duration": 32,
    "start_time": "2024-07-06T08:50:39.316Z"
   },
   {
    "duration": 3,
    "start_time": "2024-07-06T08:50:52.136Z"
   },
   {
    "duration": 31,
    "start_time": "2024-07-06T08:50:53.365Z"
   },
   {
    "duration": 215,
    "start_time": "2024-07-06T08:53:34.127Z"
   },
   {
    "duration": 215,
    "start_time": "2024-07-06T08:53:44.913Z"
   },
   {
    "duration": 10,
    "start_time": "2024-07-06T08:53:56.444Z"
   },
   {
    "duration": 124,
    "start_time": "2024-07-06T08:53:58.495Z"
   },
   {
    "duration": 101,
    "start_time": "2024-07-06T08:54:41.431Z"
   },
   {
    "duration": 98,
    "start_time": "2024-07-06T08:55:03.389Z"
   },
   {
    "duration": 101,
    "start_time": "2024-07-06T08:55:28.548Z"
   },
   {
    "duration": 10,
    "start_time": "2024-07-06T08:55:55.256Z"
   },
   {
    "duration": 105,
    "start_time": "2024-07-06T08:55:57.724Z"
   },
   {
    "duration": 99,
    "start_time": "2024-07-06T08:56:05.872Z"
   },
   {
    "duration": 104,
    "start_time": "2024-07-06T08:56:19.536Z"
   },
   {
    "duration": 111,
    "start_time": "2024-07-06T08:56:49.688Z"
   },
   {
    "duration": 168,
    "start_time": "2024-07-06T08:57:25.499Z"
   },
   {
    "duration": 9,
    "start_time": "2024-07-06T09:00:16.384Z"
   },
   {
    "duration": 7,
    "start_time": "2024-07-06T09:00:32.393Z"
   },
   {
    "duration": 208,
    "start_time": "2024-07-06T09:05:20.598Z"
   },
   {
    "duration": 1132,
    "start_time": "2024-07-06T09:06:07.272Z"
   },
   {
    "duration": 80,
    "start_time": "2024-07-06T09:06:08.406Z"
   },
   {
    "duration": 11,
    "start_time": "2024-07-06T09:06:08.488Z"
   },
   {
    "duration": 26,
    "start_time": "2024-07-06T09:06:08.501Z"
   },
   {
    "duration": 27,
    "start_time": "2024-07-06T09:06:08.529Z"
   },
   {
    "duration": 10,
    "start_time": "2024-07-06T09:06:08.558Z"
   },
   {
    "duration": 38315,
    "start_time": "2024-07-06T09:06:08.569Z"
   },
   {
    "duration": 4,
    "start_time": "2024-07-06T09:06:46.886Z"
   },
   {
    "duration": 12,
    "start_time": "2024-07-06T09:06:46.891Z"
   },
   {
    "duration": 13,
    "start_time": "2024-07-06T09:06:46.905Z"
   },
   {
    "duration": 4,
    "start_time": "2024-07-06T09:06:46.919Z"
   },
   {
    "duration": 31,
    "start_time": "2024-07-06T09:06:46.925Z"
   },
   {
    "duration": 12,
    "start_time": "2024-07-06T09:06:46.958Z"
   },
   {
    "duration": 380,
    "start_time": "2024-07-06T09:06:46.972Z"
   },
   {
    "duration": 7,
    "start_time": "2024-07-06T09:06:47.353Z"
   },
   {
    "duration": 4,
    "start_time": "2024-07-06T09:06:47.362Z"
   },
   {
    "duration": 15,
    "start_time": "2024-07-06T09:06:47.368Z"
   },
   {
    "duration": 265,
    "start_time": "2024-07-06T09:06:47.385Z"
   },
   {
    "duration": 6,
    "start_time": "2024-07-06T09:06:47.652Z"
   },
   {
    "duration": 17,
    "start_time": "2024-07-06T09:06:47.659Z"
   },
   {
    "duration": 16,
    "start_time": "2024-07-06T09:06:47.677Z"
   },
   {
    "duration": 16,
    "start_time": "2024-07-06T09:06:47.694Z"
   },
   {
    "duration": 203,
    "start_time": "2024-07-06T09:06:47.711Z"
   },
   {
    "duration": 252,
    "start_time": "2024-07-06T09:06:47.915Z"
   },
   {
    "duration": 153,
    "start_time": "2024-07-06T09:06:48.169Z"
   },
   {
    "duration": 177,
    "start_time": "2024-07-06T09:06:48.324Z"
   },
   {
    "duration": 14,
    "start_time": "2024-07-06T09:06:48.502Z"
   },
   {
    "duration": 9,
    "start_time": "2024-07-06T09:06:48.519Z"
   },
   {
    "duration": 55,
    "start_time": "2024-07-06T09:06:48.529Z"
   },
   {
    "duration": 235,
    "start_time": "2024-07-06T09:06:48.586Z"
   },
   {
    "duration": 319,
    "start_time": "2024-07-06T09:06:48.822Z"
   },
   {
    "duration": 14,
    "start_time": "2024-07-06T09:06:49.143Z"
   },
   {
    "duration": 109,
    "start_time": "2024-07-06T09:06:49.159Z"
   },
   {
    "duration": 111,
    "start_time": "2024-07-06T09:06:49.270Z"
   },
   {
    "duration": 100,
    "start_time": "2024-07-06T09:06:49.382Z"
   },
   {
    "duration": 107,
    "start_time": "2024-07-06T09:06:49.483Z"
   },
   {
    "duration": 9,
    "start_time": "2024-07-06T09:06:49.592Z"
   },
   {
    "duration": 112,
    "start_time": "2024-07-06T09:06:49.603Z"
   },
   {
    "duration": 109,
    "start_time": "2024-07-06T09:06:49.716Z"
   },
   {
    "duration": 107,
    "start_time": "2024-07-06T09:06:49.826Z"
   },
   {
    "duration": 123,
    "start_time": "2024-07-06T09:06:49.935Z"
   },
   {
    "duration": 223,
    "start_time": "2024-07-06T09:06:50.059Z"
   },
   {
    "duration": 9,
    "start_time": "2024-07-06T09:06:50.284Z"
   },
   {
    "duration": 8,
    "start_time": "2024-07-06T09:06:50.295Z"
   },
   {
    "duration": 208,
    "start_time": "2024-07-06T09:09:23.620Z"
   },
   {
    "duration": 150,
    "start_time": "2024-07-06T09:11:02.240Z"
   },
   {
    "duration": 245,
    "start_time": "2024-07-06T09:11:12.296Z"
   },
   {
    "duration": 163,
    "start_time": "2024-07-06T09:11:59.359Z"
   },
   {
    "duration": 100,
    "start_time": "2024-07-06T09:12:45.130Z"
   },
   {
    "duration": 98,
    "start_time": "2024-07-06T09:12:52.761Z"
   },
   {
    "duration": 110,
    "start_time": "2024-07-06T09:12:58.671Z"
   },
   {
    "duration": 93,
    "start_time": "2024-07-06T09:13:04.353Z"
   },
   {
    "duration": 108,
    "start_time": "2024-07-06T09:13:12.816Z"
   },
   {
    "duration": 109,
    "start_time": "2024-07-06T09:13:19.960Z"
   },
   {
    "duration": 109,
    "start_time": "2024-07-06T09:13:25.779Z"
   },
   {
    "duration": 116,
    "start_time": "2024-07-06T09:13:34.854Z"
   },
   {
    "duration": 213,
    "start_time": "2024-07-06T09:13:39.238Z"
   },
   {
    "duration": 222,
    "start_time": "2024-07-06T09:13:48.496Z"
   },
   {
    "duration": 268,
    "start_time": "2024-07-06T09:13:54.077Z"
   },
   {
    "duration": 1106,
    "start_time": "2024-07-07T06:52:14.682Z"
   },
   {
    "duration": 73,
    "start_time": "2024-07-07T06:52:15.790Z"
   },
   {
    "duration": 11,
    "start_time": "2024-07-07T06:52:15.864Z"
   },
   {
    "duration": 16,
    "start_time": "2024-07-07T06:52:15.877Z"
   },
   {
    "duration": 16,
    "start_time": "2024-07-07T06:52:15.894Z"
   },
   {
    "duration": 6,
    "start_time": "2024-07-07T06:52:15.911Z"
   },
   {
    "duration": 29050,
    "start_time": "2024-07-07T06:52:15.918Z"
   },
   {
    "duration": 6,
    "start_time": "2024-07-07T06:52:44.970Z"
   },
   {
    "duration": 8,
    "start_time": "2024-07-07T06:52:44.977Z"
   },
   {
    "duration": 27,
    "start_time": "2024-07-07T06:52:44.988Z"
   },
   {
    "duration": 4,
    "start_time": "2024-07-07T06:52:45.017Z"
   },
   {
    "duration": 39,
    "start_time": "2024-07-07T06:52:45.023Z"
   },
   {
    "duration": 26,
    "start_time": "2024-07-07T06:52:45.064Z"
   },
   {
    "duration": 308,
    "start_time": "2024-07-07T06:52:45.091Z"
   },
   {
    "duration": 10,
    "start_time": "2024-07-07T06:52:45.401Z"
   },
   {
    "duration": 5,
    "start_time": "2024-07-07T06:52:45.412Z"
   },
   {
    "duration": 18,
    "start_time": "2024-07-07T06:52:45.419Z"
   },
   {
    "duration": 280,
    "start_time": "2024-07-07T06:52:45.438Z"
   },
   {
    "duration": 5,
    "start_time": "2024-07-07T06:52:45.719Z"
   },
   {
    "duration": 15,
    "start_time": "2024-07-07T06:52:45.725Z"
   },
   {
    "duration": 14,
    "start_time": "2024-07-07T06:52:45.741Z"
   },
   {
    "duration": 13,
    "start_time": "2024-07-07T06:52:45.756Z"
   },
   {
    "duration": 201,
    "start_time": "2024-07-07T06:52:45.771Z"
   },
   {
    "duration": 220,
    "start_time": "2024-07-07T06:52:45.973Z"
   },
   {
    "duration": 135,
    "start_time": "2024-07-07T06:52:46.195Z"
   },
   {
    "duration": 152,
    "start_time": "2024-07-07T06:52:46.331Z"
   },
   {
    "duration": 11,
    "start_time": "2024-07-07T06:52:46.484Z"
   },
   {
    "duration": 29,
    "start_time": "2024-07-07T06:52:46.510Z"
   },
   {
    "duration": 26,
    "start_time": "2024-07-07T06:52:46.540Z"
   },
   {
    "duration": 171,
    "start_time": "2024-07-07T06:52:46.567Z"
   },
   {
    "duration": 250,
    "start_time": "2024-07-07T06:52:46.740Z"
   },
   {
    "duration": 9,
    "start_time": "2024-07-07T06:52:46.991Z"
   },
   {
    "duration": 92,
    "start_time": "2024-07-07T06:52:47.001Z"
   },
   {
    "duration": 101,
    "start_time": "2024-07-07T06:52:47.095Z"
   },
   {
    "duration": 94,
    "start_time": "2024-07-07T06:52:47.197Z"
   },
   {
    "duration": 117,
    "start_time": "2024-07-07T06:52:47.293Z"
   },
   {
    "duration": 9,
    "start_time": "2024-07-07T06:52:47.412Z"
   },
   {
    "duration": 106,
    "start_time": "2024-07-07T06:52:47.422Z"
   },
   {
    "duration": 111,
    "start_time": "2024-07-07T06:52:47.529Z"
   },
   {
    "duration": 94,
    "start_time": "2024-07-07T06:52:47.642Z"
   },
   {
    "duration": 94,
    "start_time": "2024-07-07T06:52:47.738Z"
   },
   {
    "duration": 181,
    "start_time": "2024-07-07T06:52:47.833Z"
   },
   {
    "duration": 7,
    "start_time": "2024-07-07T06:52:48.015Z"
   },
   {
    "duration": 8,
    "start_time": "2024-07-07T06:52:48.023Z"
   },
   {
    "duration": 15,
    "start_time": "2024-07-07T07:02:55.245Z"
   },
   {
    "duration": 8,
    "start_time": "2024-07-07T07:03:07.701Z"
   },
   {
    "duration": 15,
    "start_time": "2024-07-07T07:03:27.021Z"
   },
   {
    "duration": 10,
    "start_time": "2024-07-07T07:03:27.980Z"
   },
   {
    "duration": 8,
    "start_time": "2024-07-07T07:03:46.655Z"
   },
   {
    "duration": 15,
    "start_time": "2024-07-07T07:03:52.083Z"
   },
   {
    "duration": 1096,
    "start_time": "2024-07-07T07:50:42.821Z"
   },
   {
    "duration": 72,
    "start_time": "2024-07-07T07:50:43.920Z"
   },
   {
    "duration": 10,
    "start_time": "2024-07-07T07:50:43.994Z"
   },
   {
    "duration": 16,
    "start_time": "2024-07-07T07:50:44.005Z"
   },
   {
    "duration": 9,
    "start_time": "2024-07-07T07:50:44.023Z"
   },
   {
    "duration": 7,
    "start_time": "2024-07-07T07:50:44.033Z"
   },
   {
    "duration": 29816,
    "start_time": "2024-07-07T07:50:44.041Z"
   },
   {
    "duration": 5,
    "start_time": "2024-07-07T07:51:13.858Z"
   },
   {
    "duration": 7,
    "start_time": "2024-07-07T07:51:13.864Z"
   },
   {
    "duration": 11,
    "start_time": "2024-07-07T07:51:13.873Z"
   },
   {
    "duration": 4,
    "start_time": "2024-07-07T07:51:13.886Z"
   },
   {
    "duration": 8,
    "start_time": "2024-07-07T07:51:13.909Z"
   },
   {
    "duration": 19,
    "start_time": "2024-07-07T07:51:13.919Z"
   },
   {
    "duration": 305,
    "start_time": "2024-07-07T07:51:13.941Z"
   },
   {
    "duration": 7,
    "start_time": "2024-07-07T07:51:14.247Z"
   },
   {
    "duration": 4,
    "start_time": "2024-07-07T07:51:14.255Z"
   },
   {
    "duration": 23,
    "start_time": "2024-07-07T07:51:14.260Z"
   },
   {
    "duration": 261,
    "start_time": "2024-07-07T07:51:14.285Z"
   },
   {
    "duration": 5,
    "start_time": "2024-07-07T07:51:14.548Z"
   },
   {
    "duration": 15,
    "start_time": "2024-07-07T07:51:14.554Z"
   },
   {
    "duration": 17,
    "start_time": "2024-07-07T07:51:14.570Z"
   },
   {
    "duration": 16,
    "start_time": "2024-07-07T07:51:14.610Z"
   },
   {
    "duration": 205,
    "start_time": "2024-07-07T07:51:14.627Z"
   },
   {
    "duration": 233,
    "start_time": "2024-07-07T07:51:14.834Z"
   },
   {
    "duration": 143,
    "start_time": "2024-07-07T07:51:15.068Z"
   },
   {
    "duration": 154,
    "start_time": "2024-07-07T07:51:15.213Z"
   },
   {
    "duration": 12,
    "start_time": "2024-07-07T07:51:15.368Z"
   },
   {
    "duration": 8,
    "start_time": "2024-07-07T07:51:15.381Z"
   },
   {
    "duration": 40,
    "start_time": "2024-07-07T07:51:15.390Z"
   },
   {
    "duration": 199,
    "start_time": "2024-07-07T07:51:15.432Z"
   },
   {
    "duration": 266,
    "start_time": "2024-07-07T07:51:15.633Z"
   },
   {
    "duration": 13,
    "start_time": "2024-07-07T07:51:15.901Z"
   },
   {
    "duration": 102,
    "start_time": "2024-07-07T07:51:15.915Z"
   },
   {
    "duration": 97,
    "start_time": "2024-07-07T07:51:16.019Z"
   },
   {
    "duration": 97,
    "start_time": "2024-07-07T07:51:16.117Z"
   },
   {
    "duration": 106,
    "start_time": "2024-07-07T07:51:16.215Z"
   },
   {
    "duration": 13,
    "start_time": "2024-07-07T07:51:16.323Z"
   },
   {
    "duration": 109,
    "start_time": "2024-07-07T07:51:16.338Z"
   },
   {
    "duration": 104,
    "start_time": "2024-07-07T07:51:16.448Z"
   },
   {
    "duration": 96,
    "start_time": "2024-07-07T07:51:16.553Z"
   },
   {
    "duration": 97,
    "start_time": "2024-07-07T07:51:16.653Z"
   },
   {
    "duration": 189,
    "start_time": "2024-07-07T07:51:16.751Z"
   },
   {
    "duration": 7,
    "start_time": "2024-07-07T07:51:16.941Z"
   },
   {
    "duration": 20,
    "start_time": "2024-07-07T07:51:16.949Z"
   },
   {
    "duration": 52,
    "start_time": "2024-07-07T11:15:38.524Z"
   },
   {
    "duration": 1391,
    "start_time": "2024-07-07T11:15:50.140Z"
   },
   {
    "duration": 137,
    "start_time": "2024-07-07T11:15:51.533Z"
   },
   {
    "duration": 12,
    "start_time": "2024-07-07T11:15:51.672Z"
   },
   {
    "duration": 19,
    "start_time": "2024-07-07T11:15:51.686Z"
   },
   {
    "duration": 10,
    "start_time": "2024-07-07T11:15:51.706Z"
   },
   {
    "duration": 17,
    "start_time": "2024-07-07T11:15:51.718Z"
   },
   {
    "duration": 40569,
    "start_time": "2024-07-07T11:15:51.737Z"
   },
   {
    "duration": 5,
    "start_time": "2024-07-07T11:16:32.308Z"
   },
   {
    "duration": 21,
    "start_time": "2024-07-07T11:16:32.315Z"
   },
   {
    "duration": 22,
    "start_time": "2024-07-07T11:16:32.339Z"
   },
   {
    "duration": 8,
    "start_time": "2024-07-07T11:16:32.363Z"
   },
   {
    "duration": 11,
    "start_time": "2024-07-07T11:16:32.384Z"
   },
   {
    "duration": 39,
    "start_time": "2024-07-07T11:16:32.397Z"
   },
   {
    "duration": 392,
    "start_time": "2024-07-07T11:16:32.437Z"
   },
   {
    "duration": 8,
    "start_time": "2024-07-07T11:16:32.830Z"
   },
   {
    "duration": 42,
    "start_time": "2024-07-07T11:16:32.839Z"
   },
   {
    "duration": 48,
    "start_time": "2024-07-07T11:16:32.883Z"
   },
   {
    "duration": 345,
    "start_time": "2024-07-07T11:16:32.932Z"
   },
   {
    "duration": 5,
    "start_time": "2024-07-07T11:16:33.279Z"
   },
   {
    "duration": 27,
    "start_time": "2024-07-07T11:16:33.286Z"
   },
   {
    "duration": 21,
    "start_time": "2024-07-07T11:16:33.315Z"
   },
   {
    "duration": 19,
    "start_time": "2024-07-07T11:16:33.338Z"
   },
   {
    "duration": 218,
    "start_time": "2024-07-07T11:16:33.358Z"
   },
   {
    "duration": 278,
    "start_time": "2024-07-07T11:16:33.581Z"
   },
   {
    "duration": 184,
    "start_time": "2024-07-07T11:16:33.860Z"
   },
   {
    "duration": 203,
    "start_time": "2024-07-07T11:16:34.046Z"
   },
   {
    "duration": 14,
    "start_time": "2024-07-07T11:16:34.251Z"
   },
   {
    "duration": 8,
    "start_time": "2024-07-07T11:16:34.281Z"
   },
   {
    "duration": 35,
    "start_time": "2024-07-07T11:16:34.290Z"
   },
   {
    "duration": 229,
    "start_time": "2024-07-07T11:16:34.327Z"
   },
   {
    "duration": 333,
    "start_time": "2024-07-07T11:16:34.558Z"
   },
   {
    "duration": 17,
    "start_time": "2024-07-07T11:16:34.893Z"
   },
   {
    "duration": 114,
    "start_time": "2024-07-07T11:16:34.912Z"
   },
   {
    "duration": 0,
    "start_time": "2024-07-07T11:16:35.027Z"
   },
   {
    "duration": 0,
    "start_time": "2024-07-07T11:16:35.029Z"
   },
   {
    "duration": 0,
    "start_time": "2024-07-07T11:16:35.030Z"
   },
   {
    "duration": 0,
    "start_time": "2024-07-07T11:16:35.031Z"
   },
   {
    "duration": 0,
    "start_time": "2024-07-07T11:16:35.032Z"
   },
   {
    "duration": 0,
    "start_time": "2024-07-07T11:16:35.033Z"
   },
   {
    "duration": 0,
    "start_time": "2024-07-07T11:16:35.034Z"
   },
   {
    "duration": 0,
    "start_time": "2024-07-07T11:16:35.035Z"
   },
   {
    "duration": 0,
    "start_time": "2024-07-07T11:16:35.036Z"
   },
   {
    "duration": 0,
    "start_time": "2024-07-07T11:16:35.037Z"
   },
   {
    "duration": 0,
    "start_time": "2024-07-07T11:16:35.038Z"
   },
   {
    "duration": 0,
    "start_time": "2024-07-07T11:16:35.039Z"
   },
   {
    "duration": 79,
    "start_time": "2024-07-07T11:20:28.732Z"
   },
   {
    "duration": 12,
    "start_time": "2024-07-07T11:20:37.390Z"
   },
   {
    "duration": 11,
    "start_time": "2024-07-07T11:21:00.506Z"
   },
   {
    "duration": 14,
    "start_time": "2024-07-07T11:21:26.792Z"
   },
   {
    "duration": 12,
    "start_time": "2024-07-07T11:21:27.855Z"
   },
   {
    "duration": 116,
    "start_time": "2024-07-07T11:21:43.418Z"
   },
   {
    "duration": 133,
    "start_time": "2024-07-07T11:22:02.205Z"
   },
   {
    "duration": 109,
    "start_time": "2024-07-07T11:22:51.065Z"
   },
   {
    "duration": 114,
    "start_time": "2024-07-07T11:22:59.579Z"
   },
   {
    "duration": 11,
    "start_time": "2024-07-07T11:23:43.354Z"
   },
   {
    "duration": 11,
    "start_time": "2024-07-07T11:24:22.675Z"
   },
   {
    "duration": 127,
    "start_time": "2024-07-07T11:24:24.832Z"
   },
   {
    "duration": 109,
    "start_time": "2024-07-07T11:24:30.580Z"
   },
   {
    "duration": 142,
    "start_time": "2024-07-07T11:24:33.566Z"
   },
   {
    "duration": 121,
    "start_time": "2024-07-07T11:24:37.335Z"
   },
   {
    "duration": 234,
    "start_time": "2024-07-07T11:26:10.134Z"
   },
   {
    "duration": 219,
    "start_time": "2024-07-07T11:27:35.400Z"
   },
   {
    "duration": 9,
    "start_time": "2024-07-07T11:33:19.165Z"
   },
   {
    "duration": 10,
    "start_time": "2024-07-07T11:33:21.494Z"
   },
   {
    "duration": 1135,
    "start_time": "2024-07-08T05:00:11.902Z"
   },
   {
    "duration": 90,
    "start_time": "2024-07-08T05:00:13.039Z"
   },
   {
    "duration": 12,
    "start_time": "2024-07-08T05:00:13.131Z"
   },
   {
    "duration": 31,
    "start_time": "2024-07-08T05:00:13.145Z"
   },
   {
    "duration": 12,
    "start_time": "2024-07-08T05:00:13.178Z"
   },
   {
    "duration": 16,
    "start_time": "2024-07-08T05:00:13.191Z"
   },
   {
    "duration": 39283,
    "start_time": "2024-07-08T05:00:13.209Z"
   },
   {
    "duration": 5,
    "start_time": "2024-07-08T05:00:52.494Z"
   },
   {
    "duration": 40,
    "start_time": "2024-07-08T05:00:52.500Z"
   },
   {
    "duration": 23,
    "start_time": "2024-07-08T05:00:52.543Z"
   },
   {
    "duration": 4,
    "start_time": "2024-07-08T05:00:52.567Z"
   },
   {
    "duration": 14,
    "start_time": "2024-07-08T05:00:52.572Z"
   },
   {
    "duration": 17,
    "start_time": "2024-07-08T05:00:52.588Z"
   },
   {
    "duration": 361,
    "start_time": "2024-07-08T05:00:52.607Z"
   },
   {
    "duration": 6,
    "start_time": "2024-07-08T05:00:52.969Z"
   },
   {
    "duration": 21,
    "start_time": "2024-07-08T05:00:52.977Z"
   },
   {
    "duration": 26,
    "start_time": "2024-07-08T05:00:53.000Z"
   },
   {
    "duration": 281,
    "start_time": "2024-07-08T05:00:53.027Z"
   },
   {
    "duration": 6,
    "start_time": "2024-07-08T05:00:53.309Z"
   },
   {
    "duration": 23,
    "start_time": "2024-07-08T05:00:53.316Z"
   },
   {
    "duration": 18,
    "start_time": "2024-07-08T05:00:53.341Z"
   },
   {
    "duration": 29,
    "start_time": "2024-07-08T05:00:53.360Z"
   },
   {
    "duration": 214,
    "start_time": "2024-07-08T05:00:53.391Z"
   },
   {
    "duration": 299,
    "start_time": "2024-07-08T05:00:53.607Z"
   },
   {
    "duration": 155,
    "start_time": "2024-07-08T05:00:53.908Z"
   },
   {
    "duration": 185,
    "start_time": "2024-07-08T05:00:54.064Z"
   },
   {
    "duration": 17,
    "start_time": "2024-07-08T05:00:54.250Z"
   },
   {
    "duration": 12,
    "start_time": "2024-07-08T05:00:54.270Z"
   },
   {
    "duration": 37,
    "start_time": "2024-07-08T05:00:54.283Z"
   },
   {
    "duration": 223,
    "start_time": "2024-07-08T05:00:54.321Z"
   },
   {
    "duration": 316,
    "start_time": "2024-07-08T05:00:54.546Z"
   },
   {
    "duration": 10,
    "start_time": "2024-07-08T05:00:54.863Z"
   },
   {
    "duration": 12,
    "start_time": "2024-07-08T05:00:54.875Z"
   },
   {
    "duration": 123,
    "start_time": "2024-07-08T05:00:54.889Z"
   },
   {
    "duration": 106,
    "start_time": "2024-07-08T05:00:55.014Z"
   },
   {
    "duration": 110,
    "start_time": "2024-07-08T05:00:55.122Z"
   },
   {
    "duration": 131,
    "start_time": "2024-07-08T05:00:55.233Z"
   },
   {
    "duration": 13,
    "start_time": "2024-07-08T05:00:55.365Z"
   },
   {
    "duration": 130,
    "start_time": "2024-07-08T05:00:55.380Z"
   },
   {
    "duration": 110,
    "start_time": "2024-07-08T05:00:55.511Z"
   },
   {
    "duration": 110,
    "start_time": "2024-07-08T05:00:55.623Z"
   },
   {
    "duration": 106,
    "start_time": "2024-07-08T05:00:55.734Z"
   },
   {
    "duration": 217,
    "start_time": "2024-07-08T05:00:55.841Z"
   },
   {
    "duration": 8,
    "start_time": "2024-07-08T05:00:56.059Z"
   },
   {
    "duration": 11,
    "start_time": "2024-07-08T05:00:56.069Z"
   },
   {
    "duration": 1275,
    "start_time": "2024-07-08T05:03:27.355Z"
   },
   {
    "duration": 86,
    "start_time": "2024-07-08T05:03:28.632Z"
   },
   {
    "duration": 13,
    "start_time": "2024-07-08T05:03:28.720Z"
   },
   {
    "duration": 26,
    "start_time": "2024-07-08T05:03:28.735Z"
   },
   {
    "duration": 10,
    "start_time": "2024-07-08T05:03:28.763Z"
   },
   {
    "duration": 33,
    "start_time": "2024-07-08T05:03:28.774Z"
   },
   {
    "duration": 40581,
    "start_time": "2024-07-08T05:03:28.808Z"
   },
   {
    "duration": 5,
    "start_time": "2024-07-08T05:04:09.391Z"
   },
   {
    "duration": 30,
    "start_time": "2024-07-08T05:04:09.398Z"
   },
   {
    "duration": 15,
    "start_time": "2024-07-08T05:04:09.430Z"
   },
   {
    "duration": 5,
    "start_time": "2024-07-08T05:04:09.447Z"
   },
   {
    "duration": 15,
    "start_time": "2024-07-08T05:04:09.454Z"
   },
   {
    "duration": 19,
    "start_time": "2024-07-08T05:04:09.471Z"
   },
   {
    "duration": 339,
    "start_time": "2024-07-08T05:04:09.494Z"
   },
   {
    "duration": 8,
    "start_time": "2024-07-08T05:04:09.835Z"
   },
   {
    "duration": 4,
    "start_time": "2024-07-08T05:04:09.855Z"
   },
   {
    "duration": 15,
    "start_time": "2024-07-08T05:04:09.861Z"
   },
   {
    "duration": 289,
    "start_time": "2024-07-08T05:04:09.878Z"
   },
   {
    "duration": 7,
    "start_time": "2024-07-08T05:04:10.168Z"
   },
   {
    "duration": 41,
    "start_time": "2024-07-08T05:04:10.177Z"
   },
   {
    "duration": 25,
    "start_time": "2024-07-08T05:04:10.220Z"
   },
   {
    "duration": 18,
    "start_time": "2024-07-08T05:04:10.246Z"
   },
   {
    "duration": 226,
    "start_time": "2024-07-08T05:04:10.265Z"
   },
   {
    "duration": 294,
    "start_time": "2024-07-08T05:04:10.492Z"
   },
   {
    "duration": 175,
    "start_time": "2024-07-08T05:04:10.788Z"
   },
   {
    "duration": 185,
    "start_time": "2024-07-08T05:04:10.965Z"
   },
   {
    "duration": 14,
    "start_time": "2024-07-08T05:04:11.155Z"
   },
   {
    "duration": 13,
    "start_time": "2024-07-08T05:04:11.171Z"
   },
   {
    "duration": 39,
    "start_time": "2024-07-08T05:04:11.186Z"
   },
   {
    "duration": 205,
    "start_time": "2024-07-08T05:04:11.227Z"
   },
   {
    "duration": 305,
    "start_time": "2024-07-08T05:04:11.434Z"
   },
   {
    "duration": 18,
    "start_time": "2024-07-08T05:04:11.741Z"
   },
   {
    "duration": 20,
    "start_time": "2024-07-08T05:04:11.761Z"
   },
   {
    "duration": 115,
    "start_time": "2024-07-08T05:04:11.783Z"
   },
   {
    "duration": 160,
    "start_time": "2024-07-08T05:04:11.900Z"
   },
   {
    "duration": 115,
    "start_time": "2024-07-08T05:04:12.061Z"
   },
   {
    "duration": 106,
    "start_time": "2024-07-08T05:04:12.178Z"
   },
   {
    "duration": 10,
    "start_time": "2024-07-08T05:04:12.285Z"
   },
   {
    "duration": 152,
    "start_time": "2024-07-08T05:04:12.297Z"
   },
   {
    "duration": 153,
    "start_time": "2024-07-08T05:04:12.451Z"
   },
   {
    "duration": 181,
    "start_time": "2024-07-08T05:04:12.608Z"
   },
   {
    "duration": 147,
    "start_time": "2024-07-08T05:04:12.790Z"
   },
   {
    "duration": 216,
    "start_time": "2024-07-08T05:04:12.939Z"
   },
   {
    "duration": 8,
    "start_time": "2024-07-08T05:04:13.157Z"
   },
   {
    "duration": 12,
    "start_time": "2024-07-08T05:04:13.167Z"
   }
  ],
  "kernelspec": {
   "display_name": "Python 3 (ipykernel)",
   "language": "python",
   "name": "python3"
  },
  "language_info": {
   "codemirror_mode": {
    "name": "ipython",
    "version": 3
   },
   "file_extension": ".py",
   "mimetype": "text/x-python",
   "name": "python",
   "nbconvert_exporter": "python",
   "pygments_lexer": "ipython3",
   "version": "3.9.5"
  },
  "toc": {
   "base_numbering": 1,
   "nav_menu": {},
   "number_sections": true,
   "sideBar": true,
   "skip_h1_title": true,
   "title_cell": "Table of Contents",
   "title_sidebar": "Contents",
   "toc_cell": false,
   "toc_position": {
    "height": "calc(100% - 180px)",
    "left": "10px",
    "top": "150px",
    "width": "307.2px"
   },
   "toc_section_display": true,
   "toc_window_display": true
  }
 },
 "nbformat": 4,
 "nbformat_minor": 2
}
