{
 "cells": [
  {
   "cell_type": "markdown",
   "metadata": {},
   "source": [
    "## Подготовка"
   ]
  },
  {
   "cell_type": "code",
   "execution_count": 1,
   "metadata": {},
   "outputs": [],
   "source": [
    "import pandas as pd\n",
    "from matplotlib import pyplot as plt\n",
    "from statsmodels.tsa.seasonal import seasonal_decompose\n",
    "from sklearn.model_selection import train_test_split\n",
    "from sklearn.metrics import mean_squared_error\n",
    "from sklearn.model_selection import GridSearchCV, TimeSeriesSplit\n",
    "from catboost import CatBoostRegressor\n",
    "import lightgbm as lgb\n",
    "import warnings\n",
    "warnings.filterwarnings('ignore')"
   ]
  },
  {
   "cell_type": "markdown",
   "metadata": {},
   "source": [
    "Загрузим данные и посмотрим, расположены ли они в хронологическом порядке."
   ]
  },
  {
   "cell_type": "code",
   "execution_count": 2,
   "metadata": {},
   "outputs": [
    {
     "data": {
      "text/plain": [
       "True"
      ]
     },
     "execution_count": 2,
     "metadata": {},
     "output_type": "execute_result"
    }
   ],
   "source": [
    "data = pd.read_csv('/datasets/taxi.csv', index_col=[0], parse_dates=[0])\n",
    "data.index.is_monotonic"
   ]
  },
  {
   "cell_type": "markdown",
   "metadata": {},
   "source": [
    "Выведем общую информацию о датасете."
   ]
  },
  {
   "cell_type": "code",
   "execution_count": 3,
   "metadata": {},
   "outputs": [
    {
     "name": "stdout",
     "output_type": "stream",
     "text": [
      "<class 'pandas.core.frame.DataFrame'>\n",
      "DatetimeIndex: 26496 entries, 2018-03-01 00:00:00 to 2018-08-31 23:50:00\n",
      "Data columns (total 1 columns):\n",
      " #   Column      Non-Null Count  Dtype\n",
      "---  ------      --------------  -----\n",
      " 0   num_orders  26496 non-null  int64\n",
      "dtypes: int64(1)\n",
      "memory usage: 414.0 KB\n"
     ]
    }
   ],
   "source": [
    "data.info()"
   ]
  },
  {
   "cell_type": "markdown",
   "metadata": {},
   "source": [
    "Определим границы временного диапазона данных."
   ]
  },
  {
   "cell_type": "code",
   "execution_count": 4,
   "metadata": {},
   "outputs": [
    {
     "data": {
      "text/plain": [
       "Timestamp('2018-08-31 23:50:00')"
      ]
     },
     "execution_count": 4,
     "metadata": {},
     "output_type": "execute_result"
    }
   ],
   "source": [
    "data.index.max()"
   ]
  },
  {
   "cell_type": "code",
   "execution_count": 5,
   "metadata": {},
   "outputs": [
    {
     "data": {
      "text/plain": [
       "Timestamp('2018-03-01 00:00:00')"
      ]
     },
     "execution_count": 5,
     "metadata": {},
     "output_type": "execute_result"
    }
   ],
   "source": [
    "data.index.min()"
   ]
  },
  {
   "cell_type": "markdown",
   "metadata": {},
   "source": [
    "Данные предоставлены от 2018-03-01 до 2018-08-31."
   ]
  },
  {
   "cell_type": "markdown",
   "metadata": {},
   "source": [
    "Проверим данные на наличие пропусков."
   ]
  },
  {
   "cell_type": "code",
   "execution_count": 6,
   "metadata": {},
   "outputs": [
    {
     "data": {
      "text/plain": [
       "num_orders    0\n",
       "dtype: int64"
      ]
     },
     "execution_count": 6,
     "metadata": {},
     "output_type": "execute_result"
    }
   ],
   "source": [
    "data.isna().sum()"
   ]
  },
  {
   "cell_type": "markdown",
   "metadata": {},
   "source": [
    "Ресемплируем данные по одному часу."
   ]
  },
  {
   "cell_type": "code",
   "execution_count": 7,
   "metadata": {},
   "outputs": [
    {
     "data": {
      "text/html": [
       "<div>\n",
       "<style scoped>\n",
       "    .dataframe tbody tr th:only-of-type {\n",
       "        vertical-align: middle;\n",
       "    }\n",
       "\n",
       "    .dataframe tbody tr th {\n",
       "        vertical-align: top;\n",
       "    }\n",
       "\n",
       "    .dataframe thead th {\n",
       "        text-align: right;\n",
       "    }\n",
       "</style>\n",
       "<table border=\"1\" class=\"dataframe\">\n",
       "  <thead>\n",
       "    <tr style=\"text-align: right;\">\n",
       "      <th></th>\n",
       "      <th>num_orders</th>\n",
       "    </tr>\n",
       "    <tr>\n",
       "      <th>datetime</th>\n",
       "      <th></th>\n",
       "    </tr>\n",
       "  </thead>\n",
       "  <tbody>\n",
       "    <tr>\n",
       "      <th>2018-03-01 00:00:00</th>\n",
       "      <td>124</td>\n",
       "    </tr>\n",
       "    <tr>\n",
       "      <th>2018-03-01 01:00:00</th>\n",
       "      <td>85</td>\n",
       "    </tr>\n",
       "    <tr>\n",
       "      <th>2018-03-01 02:00:00</th>\n",
       "      <td>71</td>\n",
       "    </tr>\n",
       "    <tr>\n",
       "      <th>2018-03-01 03:00:00</th>\n",
       "      <td>66</td>\n",
       "    </tr>\n",
       "    <tr>\n",
       "      <th>2018-03-01 04:00:00</th>\n",
       "      <td>43</td>\n",
       "    </tr>\n",
       "  </tbody>\n",
       "</table>\n",
       "</div>"
      ],
      "text/plain": [
       "                     num_orders\n",
       "datetime                       \n",
       "2018-03-01 00:00:00         124\n",
       "2018-03-01 01:00:00          85\n",
       "2018-03-01 02:00:00          71\n",
       "2018-03-01 03:00:00          66\n",
       "2018-03-01 04:00:00          43"
      ]
     },
     "execution_count": 7,
     "metadata": {},
     "output_type": "execute_result"
    }
   ],
   "source": [
    "data = data.resample('1H').sum()\n",
    "data.head()"
   ]
  },
  {
   "cell_type": "markdown",
   "metadata": {},
   "source": [
    "## Анализ"
   ]
  },
  {
   "cell_type": "code",
   "execution_count": 8,
   "metadata": {},
   "outputs": [
    {
     "data": {
      "text/plain": [
       "count    4416.000000\n",
       "mean       84.422781\n",
       "std        45.023853\n",
       "min         0.000000\n",
       "25%        54.000000\n",
       "50%        78.000000\n",
       "75%       107.000000\n",
       "max       462.000000\n",
       "Name: num_orders, dtype: float64"
      ]
     },
     "execution_count": 8,
     "metadata": {},
     "output_type": "execute_result"
    }
   ],
   "source": [
    "data['num_orders'].describe()"
   ]
  },
  {
   "cell_type": "markdown",
   "metadata": {},
   "source": [
    "Среднее количество заказов в час ~ 84, медианное - 78."
   ]
  },
  {
   "cell_type": "markdown",
   "metadata": {},
   "source": [
    "Посмотрим на тренд, сезонность и остатки."
   ]
  },
  {
   "cell_type": "code",
   "execution_count": 9,
   "metadata": {},
   "outputs": [],
   "source": [
    "decomposed = seasonal_decompose(data)"
   ]
  },
  {
   "cell_type": "code",
   "execution_count": 10,
   "metadata": {},
   "outputs": [
    {
     "data": {
      "image/png": "[encoded data removed]",
      "text/plain": [
       "<Figure size 864x432 with 1 Axes>"
      ]
     },
     "metadata": {
      "needs_background": "light"
     },
     "output_type": "display_data"
    }
   ],
   "source": [
    "plt.figure(figsize=(12, 6))\n",
    "\n",
    "ax = decomposed.trend.plot()\n",
    "ax.set_title('Тренд');\n",
    "ax.set_xlabel('Дата');\n",
    "ax.set_ylabel('Количество заказов');"
   ]
  },
  {
   "cell_type": "markdown",
   "metadata": {},
   "source": [
    "Наблюдается общий тренд на увеличение количества заказов."
   ]
  },
  {
   "cell_type": "code",
   "execution_count": 11,
   "metadata": {},
   "outputs": [
    {
     "data": {
      "image/png": "[encoded data removed]",
      "text/plain": [
       "<Figure size 1080x288 with 1 Axes>"
      ]
     },
     "metadata": {
      "needs_background": "light"
     },
     "output_type": "display_data"
    }
   ],
   "source": [
    "plt.figure(figsize=(15, 4))\n",
    "\n",
    "ax = decomposed.seasonal.plot()\n",
    "ax.set_title('Тренд');\n",
    "ax.set_xlabel('Дата');"
   ]
  },
  {
   "cell_type": "markdown",
   "metadata": {},
   "source": [
    "Так не ясно, сезонность на таком диапазоне данных сложно интерпретировать, поэтому рассмотрим ее на более коротком промежутке времени, например в рамках 1 месяца."
   ]
  },
  {
   "cell_type": "code",
   "execution_count": 12,
   "metadata": {},
   "outputs": [
    {
     "data": {
      "image/png": "[encoded data removed]",
      "text/plain": [
       "<Figure size 1080x288 with 1 Axes>"
      ]
     },
     "metadata": {
      "needs_background": "light"
     },
     "output_type": "display_data"
    }
   ],
   "source": [
    "plt.figure(figsize=(15, 4))\n",
    "\n",
    "ax = decomposed.seasonal['2018-03-01':'2018-04-01'].plot()\n",
    "ax.set_title('Тренд за март 2018 г.');\n",
    "ax.set_xlabel('Дата');"
   ]
  },
  {
   "cell_type": "markdown",
   "metadata": {},
   "source": [
    "Оценим также тренд за сутки (для примера возьмем случайные 3 числа в за предоставленный период)."
   ]
  },
  {
   "cell_type": "code",
   "execution_count": 13,
   "metadata": {
    "scrolled": true
   },
   "outputs": [
    {
     "data": {
      "image/png": "[encoded data removed]",
      "text/plain": [
       "<Figure size 432x144 with 1 Axes>"
      ]
     },
     "metadata": {
      "needs_background": "light"
     },
     "output_type": "display_data"
    }
   ],
   "source": [
    "plt.figure(figsize=(6, 2))\n",
    "\n",
    "ax = decomposed.seasonal['2018-03-01'].plot()\n",
    "ax.set_title('Тренд за сутки 1-го марта 2018 г.');\n",
    "ax.set_xlabel('Время');"
   ]
  },
  {
   "cell_type": "code",
   "execution_count": 14,
   "metadata": {},
   "outputs": [
    {
     "data": {
      "image/png": "[encoded data removed]",
      "text/plain": [
       "<Figure size 432x144 with 1 Axes>"
      ]
     },
     "metadata": {
      "needs_background": "light"
     },
     "output_type": "display_data"
    }
   ],
   "source": [
    "plt.figure(figsize=(6, 2))\n",
    "\n",
    "ax = decomposed.seasonal['2018-04-04'].plot()\n",
    "ax.set_title('Тренд за сутки 4-го апреля 2018 г.');\n",
    "ax.set_xlabel('Время');"
   ]
  },
  {
   "cell_type": "code",
   "execution_count": 15,
   "metadata": {},
   "outputs": [
    {
     "data": {
      "image/png": "[encoded data removed]",
      "text/plain": [
       "<Figure size 432x144 with 1 Axes>"
      ]
     },
     "metadata": {
      "needs_background": "light"
     },
     "output_type": "display_data"
    }
   ],
   "source": [
    "plt.figure(figsize=(6, 2))\n",
    "\n",
    "ax = decomposed.seasonal['2018-06-11'].plot()\n",
    "ax.set_title('Тренд за сутки 11-го июня 2018 г.');\n",
    "ax.set_xlabel('Время');"
   ]
  },
  {
   "cell_type": "markdown",
   "metadata": {},
   "source": [
    "Можем отметить тренд снижения количества заказов от полуночи до 6 утра, затем постепенное неравномерное увеличение в течение дня с дневным пиком в районе 16-17 часов."
   ]
  },
  {
   "cell_type": "code",
   "execution_count": 16,
   "metadata": {},
   "outputs": [
    {
     "data": {
      "image/png": "[encoded data removed]",
      "text/plain": [
       "<Figure size 864x360 with 1 Axes>"
      ]
     },
     "metadata": {
      "needs_background": "light"
     },
     "output_type": "display_data"
    }
   ],
   "source": [
    "plt.figure(figsize=(12, 5))\n",
    "\n",
    "ax = decomposed.resid.plot()\n",
    "ax.set_title('Шумы');\n",
    "ax.set_xlabel('Дата');"
   ]
  },
  {
   "cell_type": "markdown",
   "metadata": {},
   "source": [
    "## Обучение"
   ]
  },
  {
   "cell_type": "markdown",
   "metadata": {},
   "source": [
    "### Подготовим признаки"
   ]
  },
  {
   "cell_type": "code",
   "execution_count": 17,
   "metadata": {},
   "outputs": [],
   "source": [
    "def make_features(data, max_lag, rolling_mean_size):\n",
    "    data['year'] = data.index.year\n",
    "    data['month'] = data.index.month\n",
    "    data['day'] = data.index.day\n",
    "    data['dayofweek'] = data.index.dayofweek\n",
    "    \n",
    "    for lag in range(1, max_lag + 1):\n",
    "        data['lag_{}'.format(lag)] = data['num_orders'].shift(lag)\n",
    "\n",
    "    data['rolling_mean'] = data['num_orders'].shift().rolling(rolling_mean_size).mean()\n",
    "    \n",
    "    return data"
   ]
  },
  {
   "cell_type": "code",
   "execution_count": 18,
   "metadata": {},
   "outputs": [
    {
     "data": {
      "text/html": [
       "<div>\n",
       "<style scoped>\n",
       "    .dataframe tbody tr th:only-of-type {\n",
       "        vertical-align: middle;\n",
       "    }\n",
       "\n",
       "    .dataframe tbody tr th {\n",
       "        vertical-align: top;\n",
       "    }\n",
       "\n",
       "    .dataframe thead th {\n",
       "        text-align: right;\n",
       "    }\n",
       "</style>\n",
       "<table border=\"1\" class=\"dataframe\">\n",
       "  <thead>\n",
       "    <tr style=\"text-align: right;\">\n",
       "      <th></th>\n",
       "      <th>num_orders</th>\n",
       "      <th>year</th>\n",
       "      <th>month</th>\n",
       "      <th>day</th>\n",
       "      <th>dayofweek</th>\n",
       "      <th>lag_1</th>\n",
       "      <th>lag_2</th>\n",
       "      <th>lag_3</th>\n",
       "      <th>lag_4</th>\n",
       "      <th>lag_5</th>\n",
       "      <th>...</th>\n",
       "      <th>lag_12</th>\n",
       "      <th>lag_13</th>\n",
       "      <th>lag_14</th>\n",
       "      <th>lag_15</th>\n",
       "      <th>lag_16</th>\n",
       "      <th>lag_17</th>\n",
       "      <th>lag_18</th>\n",
       "      <th>lag_19</th>\n",
       "      <th>lag_20</th>\n",
       "      <th>rolling_mean</th>\n",
       "    </tr>\n",
       "    <tr>\n",
       "      <th>datetime</th>\n",
       "      <th></th>\n",
       "      <th></th>\n",
       "      <th></th>\n",
       "      <th></th>\n",
       "      <th></th>\n",
       "      <th></th>\n",
       "      <th></th>\n",
       "      <th></th>\n",
       "      <th></th>\n",
       "      <th></th>\n",
       "      <th></th>\n",
       "      <th></th>\n",
       "      <th></th>\n",
       "      <th></th>\n",
       "      <th></th>\n",
       "      <th></th>\n",
       "      <th></th>\n",
       "      <th></th>\n",
       "      <th></th>\n",
       "      <th></th>\n",
       "      <th></th>\n",
       "    </tr>\n",
       "  </thead>\n",
       "  <tbody>\n",
       "    <tr>\n",
       "      <th>2018-03-01 00:00:00</th>\n",
       "      <td>124</td>\n",
       "      <td>2018</td>\n",
       "      <td>3</td>\n",
       "      <td>1</td>\n",
       "      <td>3</td>\n",
       "      <td>NaN</td>\n",
       "      <td>NaN</td>\n",
       "      <td>NaN</td>\n",
       "      <td>NaN</td>\n",
       "      <td>NaN</td>\n",
       "      <td>...</td>\n",
       "      <td>NaN</td>\n",
       "      <td>NaN</td>\n",
       "      <td>NaN</td>\n",
       "      <td>NaN</td>\n",
       "      <td>NaN</td>\n",
       "      <td>NaN</td>\n",
       "      <td>NaN</td>\n",
       "      <td>NaN</td>\n",
       "      <td>NaN</td>\n",
       "      <td>NaN</td>\n",
       "    </tr>\n",
       "    <tr>\n",
       "      <th>2018-03-01 01:00:00</th>\n",
       "      <td>85</td>\n",
       "      <td>2018</td>\n",
       "      <td>3</td>\n",
       "      <td>1</td>\n",
       "      <td>3</td>\n",
       "      <td>124.0</td>\n",
       "      <td>NaN</td>\n",
       "      <td>NaN</td>\n",
       "      <td>NaN</td>\n",
       "      <td>NaN</td>\n",
       "      <td>...</td>\n",
       "      <td>NaN</td>\n",
       "      <td>NaN</td>\n",
       "      <td>NaN</td>\n",
       "      <td>NaN</td>\n",
       "      <td>NaN</td>\n",
       "      <td>NaN</td>\n",
       "      <td>NaN</td>\n",
       "      <td>NaN</td>\n",
       "      <td>NaN</td>\n",
       "      <td>NaN</td>\n",
       "    </tr>\n",
       "    <tr>\n",
       "      <th>2018-03-01 02:00:00</th>\n",
       "      <td>71</td>\n",
       "      <td>2018</td>\n",
       "      <td>3</td>\n",
       "      <td>1</td>\n",
       "      <td>3</td>\n",
       "      <td>85.0</td>\n",
       "      <td>124.0</td>\n",
       "      <td>NaN</td>\n",
       "      <td>NaN</td>\n",
       "      <td>NaN</td>\n",
       "      <td>...</td>\n",
       "      <td>NaN</td>\n",
       "      <td>NaN</td>\n",
       "      <td>NaN</td>\n",
       "      <td>NaN</td>\n",
       "      <td>NaN</td>\n",
       "      <td>NaN</td>\n",
       "      <td>NaN</td>\n",
       "      <td>NaN</td>\n",
       "      <td>NaN</td>\n",
       "      <td>NaN</td>\n",
       "    </tr>\n",
       "    <tr>\n",
       "      <th>2018-03-01 03:00:00</th>\n",
       "      <td>66</td>\n",
       "      <td>2018</td>\n",
       "      <td>3</td>\n",
       "      <td>1</td>\n",
       "      <td>3</td>\n",
       "      <td>71.0</td>\n",
       "      <td>85.0</td>\n",
       "      <td>124.0</td>\n",
       "      <td>NaN</td>\n",
       "      <td>NaN</td>\n",
       "      <td>...</td>\n",
       "      <td>NaN</td>\n",
       "      <td>NaN</td>\n",
       "      <td>NaN</td>\n",
       "      <td>NaN</td>\n",
       "      <td>NaN</td>\n",
       "      <td>NaN</td>\n",
       "      <td>NaN</td>\n",
       "      <td>NaN</td>\n",
       "      <td>NaN</td>\n",
       "      <td>NaN</td>\n",
       "    </tr>\n",
       "    <tr>\n",
       "      <th>2018-03-01 04:00:00</th>\n",
       "      <td>43</td>\n",
       "      <td>2018</td>\n",
       "      <td>3</td>\n",
       "      <td>1</td>\n",
       "      <td>3</td>\n",
       "      <td>66.0</td>\n",
       "      <td>71.0</td>\n",
       "      <td>85.0</td>\n",
       "      <td>124.0</td>\n",
       "      <td>NaN</td>\n",
       "      <td>...</td>\n",
       "      <td>NaN</td>\n",
       "      <td>NaN</td>\n",
       "      <td>NaN</td>\n",
       "      <td>NaN</td>\n",
       "      <td>NaN</td>\n",
       "      <td>NaN</td>\n",
       "      <td>NaN</td>\n",
       "      <td>NaN</td>\n",
       "      <td>NaN</td>\n",
       "      <td>NaN</td>\n",
       "    </tr>\n",
       "  </tbody>\n",
       "</table>\n",
       "<p>5 rows × 26 columns</p>\n",
       "</div>"
      ],
      "text/plain": [
       "                     num_orders  year  month  day  dayofweek  lag_1  lag_2  \\\n",
       "datetime                                                                     \n",
       "2018-03-01 00:00:00         124  2018      3    1          3    NaN    NaN   \n",
       "2018-03-01 01:00:00          85  2018      3    1          3  124.0    NaN   \n",
       "2018-03-01 02:00:00          71  2018      3    1          3   85.0  124.0   \n",
       "2018-03-01 03:00:00          66  2018      3    1          3   71.0   85.0   \n",
       "2018-03-01 04:00:00          43  2018      3    1          3   66.0   71.0   \n",
       "\n",
       "                     lag_3  lag_4  lag_5  ...  lag_12  lag_13  lag_14  lag_15  \\\n",
       "datetime                                  ...                                   \n",
       "2018-03-01 00:00:00    NaN    NaN    NaN  ...     NaN     NaN     NaN     NaN   \n",
       "2018-03-01 01:00:00    NaN    NaN    NaN  ...     NaN     NaN     NaN     NaN   \n",
       "2018-03-01 02:00:00    NaN    NaN    NaN  ...     NaN     NaN     NaN     NaN   \n",
       "2018-03-01 03:00:00  124.0    NaN    NaN  ...     NaN     NaN     NaN     NaN   \n",
       "2018-03-01 04:00:00   85.0  124.0    NaN  ...     NaN     NaN     NaN     NaN   \n",
       "\n",
       "                     lag_16  lag_17  lag_18  lag_19  lag_20  rolling_mean  \n",
       "datetime                                                                   \n",
       "2018-03-01 00:00:00     NaN     NaN     NaN     NaN     NaN           NaN  \n",
       "2018-03-01 01:00:00     NaN     NaN     NaN     NaN     NaN           NaN  \n",
       "2018-03-01 02:00:00     NaN     NaN     NaN     NaN     NaN           NaN  \n",
       "2018-03-01 03:00:00     NaN     NaN     NaN     NaN     NaN           NaN  \n",
       "2018-03-01 04:00:00     NaN     NaN     NaN     NaN     NaN           NaN  \n",
       "\n",
       "[5 rows x 26 columns]"
      ]
     },
     "execution_count": 18,
     "metadata": {},
     "output_type": "execute_result"
    }
   ],
   "source": [
    "data = make_features(data, 20, 20)\n",
    "data.head()"
   ]
  },
  {
   "cell_type": "markdown",
   "metadata": {},
   "source": [
    "### Разделим выборку "
   ]
  },
  {
   "cell_type": "code",
   "execution_count": 19,
   "metadata": {},
   "outputs": [],
   "source": [
    "train, test = train_test_split(data, shuffle=False, test_size=0.1)\n",
    "train = train.dropna()\n",
    "\n",
    "X_train = train.drop(columns='num_orders')\n",
    "y_train = train['num_orders']\n",
    "X_test = test.drop(columns='num_orders')\n",
    "y_test = test['num_orders']"
   ]
  },
  {
   "cell_type": "markdown",
   "metadata": {},
   "source": [
    "### CatBoostRegressor"
   ]
  },
  {
   "cell_type": "markdown",
   "metadata": {},
   "source": [
    "prediction_time, train_rmse_LR = fit_model(CatBoostRegressor(random_state=12345, verbose=False), \n",
    "            {'depth': [4, 6, 8], 'learning_rate': [0.01, 0.1, 1]}, \n",
    "            features_train, target_train, features_test, target_test)\n",
    "\n",
    "\n",
    "{\n",
    "    'depth': [3, 4, 5, 6],\n",
    "    'learning_rate': [0.01, 0.1, 0.2],\n",
    "    'iterations': [100, 200],\n",
    "    'l2_leaf_reg': [1, 3, 5],\n",
    "    'bagging_temperature': [0, 1, 2]\n",
    "}"
   ]
  },
  {
   "cell_type": "code",
   "execution_count": 20,
   "metadata": {},
   "outputs": [
    {
     "name": "stdout",
     "output_type": "stream",
     "text": [
      "Гиперпараметры лучшей модели: {'depth': 6, 'learning_rate': 0.1}\n",
      "RMSE лучшей модели на кросс-валидации: 27.542311728779975\n"
     ]
    }
   ],
   "source": [
    "model = CatBoostRegressor(random_seed=12345, verbose=0)\n",
    "\n",
    "tscv = TimeSeriesSplit(n_splits=5)\n",
    "\n",
    "param_grid =  {'depth': [5, 6, 7, 9],\n",
    "               'learning_rate': [0.1, 0.15]}\n",
    "\n",
    "\n",
    "grid_catboost=GridSearchCV(estimator=model,\n",
    "                          param_grid=param_grid,\n",
    "                          scoring='neg_root_mean_squared_error',\n",
    "                          cv=tscv,\n",
    "                          verbose=0)\n",
    "\n",
    "grid_catboost.fit(X_train, y_train)\n",
    "\n",
    "print('Гиперпараметры лучшей модели:', grid_catboost.best_params_)\n",
    "print('RMSE лучшей модели на кросс-валидации:', -grid_catboost.best_score_)"
   ]
  },
  {
   "cell_type": "markdown",
   "metadata": {},
   "source": [
    "### LightGBM"
   ]
  },
  {
   "cell_type": "code",
   "execution_count": 21,
   "metadata": {},
   "outputs": [
    {
     "name": "stdout",
     "output_type": "stream",
     "text": [
      "Гиперпараметры лучшей модели: {'learning_rate': 0.1, 'max_depth': 7, 'n_estimators': 150, 'num_leaves': 80}\n",
      "RMSE лучшей модели на кросс-валидации: 27.794151561158365\n"
     ]
    }
   ],
   "source": [
    "model = lgb.LGBMRegressor(random_state=12345)\n",
    "\n",
    "param_grid = param_grid = {\n",
    "    'num_leaves': [80, 100, 150],\n",
    "    'max_depth': [5, 6, 7, 9], \n",
    "    'learning_rate': [0.1, 0.2],\n",
    "    'n_estimators': [150, 200, 300]\n",
    "}\n",
    "\n",
    "grid_lgb=GridSearchCV(estimator=model,\n",
    "                          param_grid=param_grid,\n",
    "                          scoring='neg_root_mean_squared_error',\n",
    "                          cv=tscv,\n",
    "                          verbose=0)\n",
    "\n",
    "grid_lgb.fit(X_train, y_train)\n",
    "print('Гиперпараметры лучшей модели:', grid_lgb.best_params_)\n",
    "print('RMSE лучшей модели на кросс-валидации:', -grid_lgb.best_score_)"
   ]
  },
  {
   "cell_type": "markdown",
   "metadata": {},
   "source": [
    "По итогам обучения моделей и подбора их гиперпараметров, модель с лучшим RMSE после кросс-валидации - LGBMRegressor с параметрами {'learning_rate': 0.1, 'max_depth': 3, 'n_estimators': 100, 'num_leaves': 100, 'reg_lambda': 0}"
   ]
  },
  {
   "cell_type": "markdown",
   "metadata": {},
   "source": [
    "## Тестирование"
   ]
  },
  {
   "cell_type": "code",
   "execution_count": 22,
   "metadata": {},
   "outputs": [
    {
     "name": "stdout",
     "output_type": "stream",
     "text": [
      "46.78881549960363\n"
     ]
    }
   ],
   "source": [
    "best_model = grid_lgb.best_estimator_\n",
    "predictions = best_model.predict(X_test)\n",
    "\n",
    "print(mean_squared_error(y_test, predictions)**0.5)"
   ]
  },
  {
   "cell_type": "markdown",
   "metadata": {},
   "source": [
    "Значение RMSE на тестовой выборке составляет 54.4. Такое качество превосходит установленный заказчиком порог - менее 48. "
   ]
  }
 ],
 "metadata": {
  "ExecuteTimeLog": [
   {
    "duration": 1762,
    "start_time": "2024-12-20T14:11:23.900Z"
   },
   {
    "duration": 102,
    "start_time": "2024-12-20T14:11:27.864Z"
   },
   {
    "duration": 164,
    "start_time": "2024-12-20T14:11:51.564Z"
   },
   {
    "duration": 56,
    "start_time": "2024-12-20T14:12:18.654Z"
   },
   {
    "duration": 52,
    "start_time": "2024-12-20T14:12:31.810Z"
   },
   {
    "duration": 19,
    "start_time": "2024-12-20T14:13:33.736Z"
   },
   {
    "duration": 10,
    "start_time": "2024-12-20T14:14:19.459Z"
   },
   {
    "duration": 11,
    "start_time": "2024-12-20T14:20:05.153Z"
   },
   {
    "duration": 6,
    "start_time": "2024-12-20T14:20:30.213Z"
   },
   {
    "duration": 4,
    "start_time": "2024-12-20T16:06:04.307Z"
   },
   {
    "duration": 21,
    "start_time": "2024-12-20T16:06:05.732Z"
   },
   {
    "duration": 15,
    "start_time": "2024-12-20T16:06:11.265Z"
   },
   {
    "duration": 15,
    "start_time": "2024-12-20T16:07:08.055Z"
   },
   {
    "duration": 1500,
    "start_time": "2024-12-20T16:07:14.555Z"
   },
   {
    "duration": 54,
    "start_time": "2024-12-20T16:07:16.058Z"
   },
   {
    "duration": 10,
    "start_time": "2024-12-20T16:07:16.114Z"
   },
   {
    "duration": 23,
    "start_time": "2024-12-20T16:07:16.126Z"
   },
   {
    "duration": 45,
    "start_time": "2024-12-20T16:07:16.151Z"
   },
   {
    "duration": 144,
    "start_time": "2024-12-20T16:07:16.198Z"
   },
   {
    "duration": 0,
    "start_time": "2024-12-20T16:07:16.344Z"
   },
   {
    "duration": 0,
    "start_time": "2024-12-20T16:07:16.346Z"
   },
   {
    "duration": 0,
    "start_time": "2024-12-20T16:07:16.347Z"
   },
   {
    "duration": 0,
    "start_time": "2024-12-20T16:07:16.348Z"
   },
   {
    "duration": 12,
    "start_time": "2024-12-20T16:08:02.912Z"
   },
   {
    "duration": 8,
    "start_time": "2024-12-20T16:08:06.720Z"
   },
   {
    "duration": 4,
    "start_time": "2024-12-20T16:08:13.754Z"
   },
   {
    "duration": 19,
    "start_time": "2024-12-20T16:08:16.481Z"
   },
   {
    "duration": 14,
    "start_time": "2024-12-20T16:09:07.531Z"
   },
   {
    "duration": 13,
    "start_time": "2024-12-20T16:10:28.711Z"
   },
   {
    "duration": 214,
    "start_time": "2024-12-20T16:11:35.943Z"
   },
   {
    "duration": 303,
    "start_time": "2024-12-20T16:11:53.544Z"
   },
   {
    "duration": 703,
    "start_time": "2024-12-20T16:13:49.754Z"
   },
   {
    "duration": 205,
    "start_time": "2024-12-20T16:15:20.026Z"
   },
   {
    "duration": 210,
    "start_time": "2024-12-20T16:15:28.590Z"
   },
   {
    "duration": 227,
    "start_time": "2024-12-20T16:16:07.108Z"
   },
   {
    "duration": 322,
    "start_time": "2024-12-20T16:16:16.884Z"
   },
   {
    "duration": 221,
    "start_time": "2024-12-20T16:16:23.520Z"
   },
   {
    "duration": 253,
    "start_time": "2024-12-20T16:16:51.617Z"
   },
   {
    "duration": 18,
    "start_time": "2024-12-20T16:18:41.489Z"
   },
   {
    "duration": 75,
    "start_time": "2024-12-20T16:25:25.938Z"
   },
   {
    "duration": 9,
    "start_time": "2024-12-20T16:26:09.824Z"
   },
   {
    "duration": 9,
    "start_time": "2024-12-20T16:26:20.973Z"
   },
   {
    "duration": 10,
    "start_time": "2024-12-20T16:26:38.528Z"
   },
   {
    "duration": 1497,
    "start_time": "2024-12-20T16:26:42.741Z"
   },
   {
    "duration": 53,
    "start_time": "2024-12-20T16:26:44.240Z"
   },
   {
    "duration": 12,
    "start_time": "2024-12-20T16:26:44.294Z"
   },
   {
    "duration": 14,
    "start_time": "2024-12-20T16:26:44.308Z"
   },
   {
    "duration": 19,
    "start_time": "2024-12-20T16:26:44.324Z"
   },
   {
    "duration": 16,
    "start_time": "2024-12-20T16:26:44.344Z"
   },
   {
    "duration": 14,
    "start_time": "2024-12-20T16:26:44.362Z"
   },
   {
    "duration": 44,
    "start_time": "2024-12-20T16:26:44.378Z"
   },
   {
    "duration": 251,
    "start_time": "2024-12-20T16:26:44.424Z"
   },
   {
    "duration": 372,
    "start_time": "2024-12-20T16:26:44.677Z"
   },
   {
    "duration": 5,
    "start_time": "2024-12-20T16:26:45.050Z"
   },
   {
    "duration": 179,
    "start_time": "2024-12-20T16:26:45.057Z"
   },
   {
    "duration": 0,
    "start_time": "2024-12-20T16:26:45.237Z"
   },
   {
    "duration": 0,
    "start_time": "2024-12-20T16:26:45.239Z"
   },
   {
    "duration": 246,
    "start_time": "2024-12-20T16:31:25.130Z"
   },
   {
    "duration": 236,
    "start_time": "2024-12-20T16:32:32.730Z"
   },
   {
    "duration": 11,
    "start_time": "2024-12-20T16:36:57.323Z"
   },
   {
    "duration": 17,
    "start_time": "2024-12-20T16:37:02.346Z"
   },
   {
    "duration": 14,
    "start_time": "2024-12-20T16:44:57.939Z"
   },
   {
    "duration": 1537,
    "start_time": "2024-12-20T16:45:02.487Z"
   },
   {
    "duration": 54,
    "start_time": "2024-12-20T16:45:04.026Z"
   },
   {
    "duration": 44,
    "start_time": "2024-12-20T16:45:04.082Z"
   },
   {
    "duration": 218,
    "start_time": "2024-12-20T16:45:04.128Z"
   },
   {
    "duration": 35,
    "start_time": "2024-12-20T16:45:04.348Z"
   },
   {
    "duration": 32,
    "start_time": "2024-12-20T16:45:04.385Z"
   },
   {
    "duration": 33,
    "start_time": "2024-12-20T16:45:04.418Z"
   },
   {
    "duration": 24,
    "start_time": "2024-12-20T16:45:04.452Z"
   },
   {
    "duration": 251,
    "start_time": "2024-12-20T16:45:04.478Z"
   },
   {
    "duration": 368,
    "start_time": "2024-12-20T16:45:04.731Z"
   },
   {
    "duration": 241,
    "start_time": "2024-12-20T16:45:05.101Z"
   },
   {
    "duration": 5,
    "start_time": "2024-12-20T16:45:05.344Z"
   },
   {
    "duration": 235,
    "start_time": "2024-12-20T16:45:05.351Z"
   },
   {
    "duration": 0,
    "start_time": "2024-12-20T16:45:05.589Z"
   },
   {
    "duration": 0,
    "start_time": "2024-12-20T16:45:05.590Z"
   },
   {
    "duration": 4,
    "start_time": "2024-12-20T16:46:27.798Z"
   },
   {
    "duration": 13,
    "start_time": "2024-12-20T16:46:28.714Z"
   },
   {
    "duration": 1547,
    "start_time": "2024-12-20T16:47:06.469Z"
   },
   {
    "duration": 54,
    "start_time": "2024-12-20T16:47:08.018Z"
   },
   {
    "duration": 10,
    "start_time": "2024-12-20T16:47:08.074Z"
   },
   {
    "duration": 99,
    "start_time": "2024-12-20T16:47:08.086Z"
   },
   {
    "duration": 21,
    "start_time": "2024-12-20T16:47:08.187Z"
   },
   {
    "duration": 14,
    "start_time": "2024-12-20T16:47:08.209Z"
   },
   {
    "duration": 92,
    "start_time": "2024-12-20T16:47:08.224Z"
   },
   {
    "duration": 44,
    "start_time": "2024-12-20T16:47:08.318Z"
   },
   {
    "duration": 496,
    "start_time": "2024-12-20T16:47:08.363Z"
   },
   {
    "duration": 647,
    "start_time": "2024-12-20T16:47:08.916Z"
   },
   {
    "duration": 273,
    "start_time": "2024-12-20T16:47:09.565Z"
   },
   {
    "duration": 4,
    "start_time": "2024-12-20T16:47:09.840Z"
   },
   {
    "duration": 71,
    "start_time": "2024-12-20T16:47:09.846Z"
   },
   {
    "duration": 9,
    "start_time": "2024-12-20T16:47:09.920Z"
   },
   {
    "duration": 127,
    "start_time": "2024-12-20T16:47:09.930Z"
   },
   {
    "duration": 11,
    "start_time": "2024-12-20T16:49:15.732Z"
   },
   {
    "duration": 30583,
    "start_time": "2024-12-20T16:49:40.049Z"
   },
   {
    "duration": 35000,
    "start_time": "2024-12-20T16:51:18.616Z"
   },
   {
    "duration": 20501,
    "start_time": "2024-12-20T16:59:35.524Z"
   },
   {
    "duration": 10,
    "start_time": "2024-12-20T17:04:41.969Z"
   },
   {
    "duration": 9,
    "start_time": "2024-12-20T17:04:51.330Z"
   },
   {
    "duration": 8,
    "start_time": "2024-12-20T17:27:17.271Z"
   },
   {
    "duration": 249,
    "start_time": "2024-12-20T17:32:03.339Z"
   },
   {
    "duration": 256,
    "start_time": "2024-12-20T17:34:01.631Z"
   },
   {
    "duration": 160,
    "start_time": "2024-12-20T17:34:09.308Z"
   },
   {
    "duration": 169,
    "start_time": "2024-12-20T17:34:50.351Z"
   },
   {
    "duration": 1457,
    "start_time": "2024-12-20T17:35:00.332Z"
   },
   {
    "duration": 160,
    "start_time": "2024-12-20T17:35:18.178Z"
   },
   {
    "duration": 226,
    "start_time": "2024-12-20T17:40:04.896Z"
   },
   {
    "duration": 219,
    "start_time": "2024-12-20T17:42:49.510Z"
   },
   {
    "duration": 162,
    "start_time": "2024-12-20T17:49:35.498Z"
   },
   {
    "duration": 146,
    "start_time": "2024-12-20T17:50:55.314Z"
   },
   {
    "duration": 247,
    "start_time": "2024-12-20T17:51:06.003Z"
   },
   {
    "duration": 155,
    "start_time": "2024-12-20T17:51:40.017Z"
   },
   {
    "duration": 120,
    "start_time": "2024-12-20T17:54:27.021Z"
   },
   {
    "duration": 123,
    "start_time": "2024-12-20T17:54:36.737Z"
   },
   {
    "duration": 120,
    "start_time": "2024-12-20T17:54:41.419Z"
   },
   {
    "duration": 1544,
    "start_time": "2024-12-20T18:00:26.965Z"
   },
   {
    "duration": 54,
    "start_time": "2024-12-20T18:00:28.511Z"
   },
   {
    "duration": 35,
    "start_time": "2024-12-20T18:00:28.567Z"
   },
   {
    "duration": 6,
    "start_time": "2024-12-20T18:00:28.604Z"
   },
   {
    "duration": 15,
    "start_time": "2024-12-20T18:00:28.612Z"
   },
   {
    "duration": 6,
    "start_time": "2024-12-20T18:00:28.629Z"
   },
   {
    "duration": 38,
    "start_time": "2024-12-20T18:00:28.637Z"
   },
   {
    "duration": 24,
    "start_time": "2024-12-20T18:00:28.677Z"
   },
   {
    "duration": 27,
    "start_time": "2024-12-20T18:00:28.703Z"
   },
   {
    "duration": 491,
    "start_time": "2024-12-20T18:00:28.732Z"
   },
   {
    "duration": 632,
    "start_time": "2024-12-20T18:00:29.225Z"
   },
   {
    "duration": 444,
    "start_time": "2024-12-20T18:00:29.859Z"
   },
   {
    "duration": 123,
    "start_time": "2024-12-20T18:00:30.305Z"
   },
   {
    "duration": 137,
    "start_time": "2024-12-20T18:00:30.431Z"
   },
   {
    "duration": 130,
    "start_time": "2024-12-20T18:00:30.570Z"
   },
   {
    "duration": 240,
    "start_time": "2024-12-20T18:00:30.702Z"
   },
   {
    "duration": 4,
    "start_time": "2024-12-20T18:00:30.943Z"
   },
   {
    "duration": 52,
    "start_time": "2024-12-20T18:00:30.948Z"
   },
   {
    "duration": 6,
    "start_time": "2024-12-20T18:00:31.001Z"
   },
   {
    "duration": 30952,
    "start_time": "2024-12-20T18:00:31.008Z"
   },
   {
    "duration": 22763,
    "start_time": "2024-12-20T18:01:01.962Z"
   },
   {
    "duration": 90,
    "start_time": "2024-12-20T18:01:24.727Z"
   },
   {
    "duration": 133,
    "start_time": "2024-12-20T18:02:10.055Z"
   },
   {
    "duration": 120,
    "start_time": "2024-12-20T18:02:12.428Z"
   },
   {
    "duration": 119,
    "start_time": "2024-12-20T18:02:36.355Z"
   },
   {
    "duration": 22452,
    "start_time": "2024-12-20T18:03:09.870Z"
   },
   {
    "duration": 5,
    "start_time": "2024-12-20T18:03:32.324Z"
   },
   {
    "duration": 1487,
    "start_time": "2024-12-20T18:10:32.058Z"
   },
   {
    "duration": 55,
    "start_time": "2024-12-20T18:10:33.548Z"
   },
   {
    "duration": 11,
    "start_time": "2024-12-20T18:10:33.605Z"
   },
   {
    "duration": 11,
    "start_time": "2024-12-20T18:10:33.618Z"
   },
   {
    "duration": 67,
    "start_time": "2024-12-20T18:10:33.631Z"
   },
   {
    "duration": 19,
    "start_time": "2024-12-20T18:10:33.699Z"
   },
   {
    "duration": 40,
    "start_time": "2024-12-20T18:10:33.719Z"
   },
   {
    "duration": 16,
    "start_time": "2024-12-20T18:10:33.761Z"
   },
   {
    "duration": 109,
    "start_time": "2024-12-20T18:10:33.779Z"
   },
   {
    "duration": 259,
    "start_time": "2024-12-20T18:10:33.892Z"
   },
   {
    "duration": 267,
    "start_time": "2024-12-20T18:10:34.153Z"
   },
   {
    "duration": 342,
    "start_time": "2024-12-20T18:10:34.421Z"
   },
   {
    "duration": 132,
    "start_time": "2024-12-20T18:10:34.765Z"
   },
   {
    "duration": 159,
    "start_time": "2024-12-20T18:10:34.898Z"
   },
   {
    "duration": 139,
    "start_time": "2024-12-20T18:10:35.059Z"
   },
   {
    "duration": 244,
    "start_time": "2024-12-20T18:10:35.200Z"
   },
   {
    "duration": 4,
    "start_time": "2024-12-20T18:10:35.446Z"
   },
   {
    "duration": 42,
    "start_time": "2024-12-20T18:10:35.451Z"
   },
   {
    "duration": 7,
    "start_time": "2024-12-20T18:10:35.494Z"
   },
   {
    "duration": 618599,
    "start_time": "2024-12-20T18:10:35.502Z"
   },
   {
    "duration": 22614,
    "start_time": "2024-12-20T18:20:54.102Z"
   },
   {
    "duration": 6,
    "start_time": "2024-12-20T18:21:16.717Z"
   },
   {
    "duration": 148,
    "start_time": "2024-12-20T18:36:14.937Z"
   },
   {
    "duration": 6,
    "start_time": "2024-12-20T18:39:13.399Z"
   },
   {
    "duration": 1485,
    "start_time": "2024-12-20T18:40:06.814Z"
   },
   {
    "duration": 54,
    "start_time": "2024-12-20T18:40:08.301Z"
   },
   {
    "duration": 10,
    "start_time": "2024-12-20T18:40:08.357Z"
   },
   {
    "duration": 85,
    "start_time": "2024-12-20T18:40:08.369Z"
   },
   {
    "duration": 23,
    "start_time": "2024-12-20T18:40:08.456Z"
   },
   {
    "duration": 7,
    "start_time": "2024-12-20T18:40:08.480Z"
   },
   {
    "duration": 14,
    "start_time": "2024-12-20T18:40:08.489Z"
   },
   {
    "duration": 23,
    "start_time": "2024-12-20T18:40:08.504Z"
   },
   {
    "duration": 8,
    "start_time": "2024-12-20T18:40:08.528Z"
   },
   {
    "duration": 260,
    "start_time": "2024-12-20T18:40:08.539Z"
   },
   {
    "duration": 249,
    "start_time": "2024-12-20T18:40:08.801Z"
   },
   {
    "duration": 336,
    "start_time": "2024-12-20T18:40:09.051Z"
   },
   {
    "duration": 121,
    "start_time": "2024-12-20T18:40:09.389Z"
   },
   {
    "duration": 124,
    "start_time": "2024-12-20T18:40:09.512Z"
   },
   {
    "duration": 137,
    "start_time": "2024-12-20T18:40:09.638Z"
   },
   {
    "duration": 245,
    "start_time": "2024-12-20T18:40:09.777Z"
   },
   {
    "duration": 5,
    "start_time": "2024-12-20T18:40:10.025Z"
   },
   {
    "duration": 128,
    "start_time": "2024-12-20T18:40:10.032Z"
   },
   {
    "duration": 7,
    "start_time": "2024-12-20T18:40:10.161Z"
   },
   {
    "duration": 110114,
    "start_time": "2024-12-20T18:40:10.169Z"
   },
   {
    "duration": 1528,
    "start_time": "2024-12-20T18:44:36.098Z"
   },
   {
    "duration": 56,
    "start_time": "2024-12-20T18:44:37.629Z"
   },
   {
    "duration": 13,
    "start_time": "2024-12-20T18:44:37.687Z"
   },
   {
    "duration": 4,
    "start_time": "2024-12-20T18:44:37.703Z"
   },
   {
    "duration": 10,
    "start_time": "2024-12-20T18:44:37.709Z"
   },
   {
    "duration": 11,
    "start_time": "2024-12-20T18:44:37.720Z"
   },
   {
    "duration": 17,
    "start_time": "2024-12-20T18:44:37.732Z"
   },
   {
    "duration": 12,
    "start_time": "2024-12-20T18:44:37.751Z"
   },
   {
    "duration": 11,
    "start_time": "2024-12-20T18:44:37.764Z"
   },
   {
    "duration": 280,
    "start_time": "2024-12-20T18:44:37.777Z"
   },
   {
    "duration": 257,
    "start_time": "2024-12-20T18:44:38.058Z"
   },
   {
    "duration": 331,
    "start_time": "2024-12-20T18:44:38.316Z"
   },
   {
    "duration": 132,
    "start_time": "2024-12-20T18:44:38.649Z"
   },
   {
    "duration": 129,
    "start_time": "2024-12-20T18:44:38.783Z"
   },
   {
    "duration": 129,
    "start_time": "2024-12-20T18:44:38.914Z"
   },
   {
    "duration": 234,
    "start_time": "2024-12-20T18:44:39.044Z"
   },
   {
    "duration": 5,
    "start_time": "2024-12-20T18:44:39.279Z"
   },
   {
    "duration": 38,
    "start_time": "2024-12-20T18:44:39.285Z"
   },
   {
    "duration": 6,
    "start_time": "2024-12-20T18:44:39.325Z"
   },
   {
    "duration": 92917,
    "start_time": "2024-12-20T18:44:39.333Z"
   },
   {
    "duration": 1519,
    "start_time": "2024-12-20T19:04:54.814Z"
   },
   {
    "duration": 54,
    "start_time": "2024-12-20T19:04:56.335Z"
   },
   {
    "duration": 10,
    "start_time": "2024-12-20T19:04:56.391Z"
   },
   {
    "duration": 20,
    "start_time": "2024-12-20T19:04:56.404Z"
   },
   {
    "duration": 5,
    "start_time": "2024-12-20T19:04:56.426Z"
   },
   {
    "duration": 70,
    "start_time": "2024-12-20T19:04:56.432Z"
   },
   {
    "duration": 20,
    "start_time": "2024-12-20T19:04:56.503Z"
   },
   {
    "duration": 9,
    "start_time": "2024-12-20T19:04:56.525Z"
   },
   {
    "duration": 12,
    "start_time": "2024-12-20T19:04:56.536Z"
   },
   {
    "duration": 289,
    "start_time": "2024-12-20T19:04:56.551Z"
   },
   {
    "duration": 256,
    "start_time": "2024-12-20T19:04:56.843Z"
   },
   {
    "duration": 346,
    "start_time": "2024-12-20T19:04:57.101Z"
   },
   {
    "duration": 119,
    "start_time": "2024-12-20T19:04:57.450Z"
   },
   {
    "duration": 143,
    "start_time": "2024-12-20T19:04:57.572Z"
   },
   {
    "duration": 144,
    "start_time": "2024-12-20T19:04:57.717Z"
   },
   {
    "duration": 238,
    "start_time": "2024-12-20T19:04:57.863Z"
   },
   {
    "duration": 12,
    "start_time": "2024-12-20T19:04:58.103Z"
   },
   {
    "duration": 111,
    "start_time": "2024-12-20T19:04:58.117Z"
   },
   {
    "duration": 6,
    "start_time": "2024-12-20T19:04:58.230Z"
   },
   {
    "duration": 186748,
    "start_time": "2024-12-20T19:04:58.237Z"
   },
   {
    "duration": 1475,
    "start_time": "2024-12-20T19:37:54.948Z"
   },
   {
    "duration": 55,
    "start_time": "2024-12-20T19:37:56.424Z"
   },
   {
    "duration": 11,
    "start_time": "2024-12-20T19:37:56.481Z"
   },
   {
    "duration": 4,
    "start_time": "2024-12-20T19:37:56.494Z"
   },
   {
    "duration": 4,
    "start_time": "2024-12-20T19:37:56.499Z"
   },
   {
    "duration": 13,
    "start_time": "2024-12-20T19:37:56.505Z"
   },
   {
    "duration": 25,
    "start_time": "2024-12-20T19:37:56.519Z"
   },
   {
    "duration": 56,
    "start_time": "2024-12-20T19:37:56.547Z"
   },
   {
    "duration": 8,
    "start_time": "2024-12-20T19:37:56.605Z"
   },
   {
    "duration": 258,
    "start_time": "2024-12-20T19:37:56.616Z"
   },
   {
    "duration": 249,
    "start_time": "2024-12-20T19:37:56.876Z"
   },
   {
    "duration": 337,
    "start_time": "2024-12-20T19:37:57.126Z"
   },
   {
    "duration": 120,
    "start_time": "2024-12-20T19:37:57.465Z"
   },
   {
    "duration": 130,
    "start_time": "2024-12-20T19:37:57.586Z"
   },
   {
    "duration": 122,
    "start_time": "2024-12-20T19:37:57.718Z"
   },
   {
    "duration": 235,
    "start_time": "2024-12-20T19:37:57.841Z"
   },
   {
    "duration": 4,
    "start_time": "2024-12-20T19:37:58.078Z"
   },
   {
    "duration": 53,
    "start_time": "2024-12-20T19:37:58.083Z"
   },
   {
    "duration": 7,
    "start_time": "2024-12-20T19:37:58.138Z"
   },
   {
    "duration": 186507,
    "start_time": "2024-12-20T19:37:58.147Z"
   },
   {
    "duration": 287369,
    "start_time": "2024-12-20T19:41:04.655Z"
   },
   {
    "duration": 93,
    "start_time": "2024-12-20T19:45:52.026Z"
   },
   {
    "duration": 1515,
    "start_time": "2024-12-20T20:05:41.341Z"
   },
   {
    "duration": 53,
    "start_time": "2024-12-20T20:05:42.858Z"
   },
   {
    "duration": 18,
    "start_time": "2024-12-20T20:05:42.913Z"
   },
   {
    "duration": 4,
    "start_time": "2024-12-20T20:05:42.932Z"
   },
   {
    "duration": 4,
    "start_time": "2024-12-20T20:05:42.939Z"
   },
   {
    "duration": 9,
    "start_time": "2024-12-20T20:05:42.944Z"
   },
   {
    "duration": 14,
    "start_time": "2024-12-20T20:05:42.955Z"
   },
   {
    "duration": 12,
    "start_time": "2024-12-20T20:05:42.970Z"
   },
   {
    "duration": 41,
    "start_time": "2024-12-20T20:05:42.984Z"
   },
   {
    "duration": 273,
    "start_time": "2024-12-20T20:05:43.031Z"
   },
   {
    "duration": 266,
    "start_time": "2024-12-20T20:05:43.306Z"
   },
   {
    "duration": 358,
    "start_time": "2024-12-20T20:05:43.573Z"
   },
   {
    "duration": 129,
    "start_time": "2024-12-20T20:05:43.933Z"
   },
   {
    "duration": 143,
    "start_time": "2024-12-20T20:05:44.065Z"
   },
   {
    "duration": 135,
    "start_time": "2024-12-20T20:05:44.209Z"
   },
   {
    "duration": 238,
    "start_time": "2024-12-20T20:05:44.345Z"
   },
   {
    "duration": 4,
    "start_time": "2024-12-20T20:05:44.584Z"
   },
   {
    "duration": 97,
    "start_time": "2024-12-20T20:05:44.590Z"
   },
   {
    "duration": 10,
    "start_time": "2024-12-20T20:05:44.689Z"
   },
   {
    "duration": 162020,
    "start_time": "2024-12-20T20:05:44.700Z"
   },
   {
    "duration": 161400,
    "start_time": "2024-12-20T20:08:26.722Z"
   },
   {
    "duration": 7,
    "start_time": "2024-12-20T20:11:08.123Z"
   },
   {
    "duration": 12,
    "start_time": "2024-12-20T20:14:11.067Z"
   },
   {
    "duration": 1401,
    "start_time": "2024-12-20T20:16:08.123Z"
   },
   {
    "duration": 54,
    "start_time": "2024-12-20T20:16:09.526Z"
   },
   {
    "duration": 11,
    "start_time": "2024-12-20T20:16:09.581Z"
   },
   {
    "duration": 4,
    "start_time": "2024-12-20T20:16:09.594Z"
   },
   {
    "duration": 14,
    "start_time": "2024-12-20T20:16:09.600Z"
   },
   {
    "duration": 10,
    "start_time": "2024-12-20T20:16:09.615Z"
   },
   {
    "duration": 16,
    "start_time": "2024-12-20T20:16:09.626Z"
   },
   {
    "duration": 16,
    "start_time": "2024-12-20T20:16:09.644Z"
   },
   {
    "duration": 14,
    "start_time": "2024-12-20T20:16:09.662Z"
   },
   {
    "duration": 268,
    "start_time": "2024-12-20T20:16:09.679Z"
   },
   {
    "duration": 268,
    "start_time": "2024-12-20T20:16:09.948Z"
   },
   {
    "duration": 341,
    "start_time": "2024-12-20T20:16:10.218Z"
   },
   {
    "duration": 122,
    "start_time": "2024-12-20T20:16:10.561Z"
   },
   {
    "duration": 132,
    "start_time": "2024-12-20T20:16:10.685Z"
   },
   {
    "duration": 130,
    "start_time": "2024-12-20T20:16:10.819Z"
   },
   {
    "duration": 234,
    "start_time": "2024-12-20T20:16:10.951Z"
   },
   {
    "duration": 4,
    "start_time": "2024-12-20T20:16:11.187Z"
   },
   {
    "duration": 36,
    "start_time": "2024-12-20T20:16:11.192Z"
   },
   {
    "duration": 11,
    "start_time": "2024-12-20T20:16:11.230Z"
   },
   {
    "duration": 155598,
    "start_time": "2024-12-20T20:16:11.244Z"
   },
   {
    "duration": 77,
    "start_time": "2024-12-20T20:18:46.843Z"
   },
   {
    "duration": 0,
    "start_time": "2024-12-20T20:18:46.921Z"
   },
   {
    "duration": 76,
    "start_time": "2024-12-20T20:19:41.565Z"
   },
   {
    "duration": 553578,
    "start_time": "2024-12-20T20:19:49.746Z"
   },
   {
    "duration": 9,
    "start_time": "2024-12-20T20:31:09.735Z"
   },
   {
    "duration": 1415,
    "start_time": "2024-12-20T20:39:50.058Z"
   },
   {
    "duration": 54,
    "start_time": "2024-12-20T20:39:51.475Z"
   },
   {
    "duration": 11,
    "start_time": "2024-12-20T20:39:51.530Z"
   },
   {
    "duration": 27,
    "start_time": "2024-12-20T20:39:51.543Z"
   },
   {
    "duration": 29,
    "start_time": "2024-12-20T20:39:51.572Z"
   },
   {
    "duration": 20,
    "start_time": "2024-12-20T20:39:51.603Z"
   },
   {
    "duration": 25,
    "start_time": "2024-12-20T20:39:51.625Z"
   },
   {
    "duration": 25,
    "start_time": "2024-12-20T20:39:51.651Z"
   },
   {
    "duration": 42,
    "start_time": "2024-12-20T20:39:51.678Z"
   },
   {
    "duration": 267,
    "start_time": "2024-12-20T20:39:51.722Z"
   },
   {
    "duration": 276,
    "start_time": "2024-12-20T20:39:51.990Z"
   },
   {
    "duration": 335,
    "start_time": "2024-12-20T20:39:52.268Z"
   },
   {
    "duration": 123,
    "start_time": "2024-12-20T20:39:52.605Z"
   },
   {
    "duration": 134,
    "start_time": "2024-12-20T20:39:52.730Z"
   },
   {
    "duration": 128,
    "start_time": "2024-12-20T20:39:52.866Z"
   },
   {
    "duration": 248,
    "start_time": "2024-12-20T20:39:52.996Z"
   },
   {
    "duration": 4,
    "start_time": "2024-12-20T20:39:53.246Z"
   },
   {
    "duration": 116,
    "start_time": "2024-12-20T20:39:53.251Z"
   },
   {
    "duration": 9,
    "start_time": "2024-12-20T20:39:53.368Z"
   },
   {
    "duration": 176656,
    "start_time": "2024-12-20T20:39:53.379Z"
   },
   {
    "duration": 688987,
    "start_time": "2024-12-20T20:42:50.037Z"
   },
   {
    "duration": 95,
    "start_time": "2024-12-20T20:54:19.026Z"
   },
   {
    "duration": 1380,
    "start_time": "2024-12-20T20:56:14.151Z"
   },
   {
    "duration": 53,
    "start_time": "2024-12-20T20:56:15.533Z"
   },
   {
    "duration": 10,
    "start_time": "2024-12-20T20:56:15.588Z"
   },
   {
    "duration": 3,
    "start_time": "2024-12-20T20:56:15.600Z"
   },
   {
    "duration": 5,
    "start_time": "2024-12-20T20:56:15.605Z"
   },
   {
    "duration": 6,
    "start_time": "2024-12-20T20:56:15.615Z"
   },
   {
    "duration": 17,
    "start_time": "2024-12-20T20:56:15.622Z"
   },
   {
    "duration": 8,
    "start_time": "2024-12-20T20:56:15.640Z"
   },
   {
    "duration": 7,
    "start_time": "2024-12-20T20:56:15.650Z"
   },
   {
    "duration": 263,
    "start_time": "2024-12-20T20:56:15.659Z"
   },
   {
    "duration": 240,
    "start_time": "2024-12-20T20:56:15.923Z"
   },
   {
    "duration": 331,
    "start_time": "2024-12-20T20:56:16.164Z"
   },
   {
    "duration": 139,
    "start_time": "2024-12-20T20:56:16.497Z"
   },
   {
    "duration": 126,
    "start_time": "2024-12-20T20:56:16.638Z"
   },
   {
    "duration": 126,
    "start_time": "2024-12-20T20:56:16.766Z"
   },
   {
    "duration": 222,
    "start_time": "2024-12-20T20:56:16.894Z"
   },
   {
    "duration": 4,
    "start_time": "2024-12-20T20:56:17.118Z"
   },
   {
    "duration": 40,
    "start_time": "2024-12-20T20:56:17.123Z"
   },
   {
    "duration": 10,
    "start_time": "2024-12-20T20:56:17.165Z"
   },
   {
    "duration": 1186904,
    "start_time": "2024-12-20T20:56:17.177Z"
   },
   {
    "duration": 79,
    "start_time": "2024-12-20T21:16:04.083Z"
   },
   {
    "duration": 0,
    "start_time": "2024-12-20T21:16:04.163Z"
   },
   {
    "duration": 1451,
    "start_time": "2024-12-20T22:24:02.146Z"
   },
   {
    "duration": 55,
    "start_time": "2024-12-20T22:24:03.599Z"
   },
   {
    "duration": 11,
    "start_time": "2024-12-20T22:24:03.655Z"
   },
   {
    "duration": 4,
    "start_time": "2024-12-20T22:24:03.668Z"
   },
   {
    "duration": 9,
    "start_time": "2024-12-20T22:24:03.674Z"
   },
   {
    "duration": 6,
    "start_time": "2024-12-20T22:24:03.684Z"
   },
   {
    "duration": 27,
    "start_time": "2024-12-20T22:24:03.691Z"
   },
   {
    "duration": 8,
    "start_time": "2024-12-20T22:24:03.720Z"
   },
   {
    "duration": 18,
    "start_time": "2024-12-20T22:24:03.729Z"
   },
   {
    "duration": 263,
    "start_time": "2024-12-20T22:24:03.749Z"
   },
   {
    "duration": 252,
    "start_time": "2024-12-20T22:24:04.013Z"
   },
   {
    "duration": 324,
    "start_time": "2024-12-20T22:24:04.267Z"
   },
   {
    "duration": 122,
    "start_time": "2024-12-20T22:24:04.593Z"
   },
   {
    "duration": 129,
    "start_time": "2024-12-20T22:24:04.718Z"
   },
   {
    "duration": 128,
    "start_time": "2024-12-20T22:24:04.849Z"
   },
   {
    "duration": 253,
    "start_time": "2024-12-20T22:24:04.979Z"
   },
   {
    "duration": 5,
    "start_time": "2024-12-20T22:24:05.233Z"
   },
   {
    "duration": 58,
    "start_time": "2024-12-20T22:24:05.239Z"
   },
   {
    "duration": 11,
    "start_time": "2024-12-20T22:24:05.298Z"
   },
   {
    "duration": 1210353,
    "start_time": "2024-12-20T22:24:05.311Z"
   },
   {
    "duration": 1189955,
    "start_time": "2024-12-20T22:44:15.666Z"
   },
   {
    "duration": 9,
    "start_time": "2024-12-20T23:04:05.623Z"
   },
   {
    "duration": 1513,
    "start_time": "2024-12-20T23:09:13.555Z"
   },
   {
    "duration": 56,
    "start_time": "2024-12-20T23:09:15.070Z"
   },
   {
    "duration": 14,
    "start_time": "2024-12-20T23:09:15.128Z"
   },
   {
    "duration": 64,
    "start_time": "2024-12-20T23:09:15.143Z"
   },
   {
    "duration": 85,
    "start_time": "2024-12-20T23:09:15.209Z"
   },
   {
    "duration": 28,
    "start_time": "2024-12-20T23:09:15.296Z"
   },
   {
    "duration": 25,
    "start_time": "2024-12-20T23:09:15.325Z"
   },
   {
    "duration": 25,
    "start_time": "2024-12-20T23:09:15.352Z"
   },
   {
    "duration": 32,
    "start_time": "2024-12-20T23:09:15.379Z"
   },
   {
    "duration": 281,
    "start_time": "2024-12-20T23:09:15.413Z"
   },
   {
    "duration": 283,
    "start_time": "2024-12-20T23:09:15.695Z"
   },
   {
    "duration": 352,
    "start_time": "2024-12-20T23:09:15.979Z"
   },
   {
    "duration": 119,
    "start_time": "2024-12-20T23:09:16.333Z"
   },
   {
    "duration": 140,
    "start_time": "2024-12-20T23:09:16.455Z"
   },
   {
    "duration": 142,
    "start_time": "2024-12-20T23:09:16.597Z"
   },
   {
    "duration": 233,
    "start_time": "2024-12-20T23:09:16.741Z"
   },
   {
    "duration": 4,
    "start_time": "2024-12-20T23:09:16.975Z"
   },
   {
    "duration": 55,
    "start_time": "2024-12-20T23:09:16.981Z"
   },
   {
    "duration": 11,
    "start_time": "2024-12-20T23:09:17.037Z"
   },
   {
    "duration": 400556,
    "start_time": "2024-12-20T23:09:17.050Z"
   },
   {
    "duration": 539009,
    "start_time": "2024-12-20T23:15:57.607Z"
   },
   {
    "duration": 18,
    "start_time": "2024-12-20T23:24:56.618Z"
   }
  ],
  "kernelspec": {
   "display_name": "Python 3 (ipykernel)",
   "language": "python",
   "name": "python3"
  },
  "language_info": {
   "codemirror_mode": {
    "name": "ipython",
    "version": 3
   },
   "file_extension": ".py",
   "mimetype": "text/x-python",
   "name": "python",
   "nbconvert_exporter": "python",
   "pygments_lexer": "ipython3",
   "version": "3.9.5"
  },
  "toc": {
   "base_numbering": 1,
   "nav_menu": {},
   "number_sections": true,
   "sideBar": true,
   "skip_h1_title": true,
   "title_cell": "Содержание",
   "title_sidebar": "Contents",
   "toc_cell": true,
   "toc_position": {
    "height": "calc(100% - 180px)",
    "left": "10px",
    "top": "150px",
    "width": "197.602px"
   },
   "toc_section_display": true,
   "toc_window_display": true
  }
 },
 "nbformat": 4,
 "nbformat_minor": 2
}
