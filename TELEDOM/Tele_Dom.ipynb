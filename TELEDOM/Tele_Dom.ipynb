{
 "cells": [
  {
   "cell_type": "markdown",
   "id": "736740fb",
   "metadata": {},
   "source": [
    "## Вводные данные"
   ]
  },
  {
   "cell_type": "markdown",
   "id": "b85aca33",
   "metadata": {},
   "source": [
    "### Описание и цель проекта\n",
    "Оператор связи «ТелеДом» хочет бороться с оттоком клиентов. Для этого его сотрудники начнут предлагать промокоды и специальные условия всем, кто планирует отказаться от услуг связи. Чтобы заранее находить таких пользователей, «ТелеДому» нужна модель, которая будет предсказывать, разорвёт ли абонент договор. Команда оператора собрала персональные данные о некоторых клиентах, информацию об их тарифах и услугах.  \n",
    "\n",
    "Наша `цель` — обучить на этих данных модель для прогноза оттока клиентов."
   ]
  },
  {
   "cell_type": "markdown",
   "id": "04b39f01",
   "metadata": {},
   "source": [
    "### Описание услуг\n",
    "\n",
    "Оператор предоставляет два основных типа услуг:   \n",
    "- Стационарную телефонную связь. Телефон можно подключить к нескольким линиям одновременно.  \n",
    "- Интернет. Подключение может быть двух типов: через телефонную линию (DSL, от англ. digital subscriber line — «цифровая абонентская линия») или оптоволоконный кабель (Fiber optic).  \n",
    "\n",
    "Также доступны такие услуги:  \n",
    "- Интернет-безопасность: антивирус (DeviceProtection) и блокировка небезопасных сайтов (OnlineSecurity);\n",
    "- Выделенная линия технической поддержки (TechSupport);\n",
    "- Облачное хранилище файлов для резервного копирования данных (OnlineBackup);\n",
    "- Стриминговое телевидение (StreamingTV) и каталог фильмов (StreamingMovies).  \n",
    "\n",
    "Клиенты могут платить за услуги каждый месяц или заключить договор на 1–2 года. Возможно оплатить счёт разными способами, а также получить электронный чек."
   ]
  },
  {
   "cell_type": "markdown",
   "id": "1b902aa7",
   "metadata": {},
   "source": [
    "### Описание данных\n",
    "\n",
    "Данные состоят из нескольких файлов, полученных из разных источников:  \n",
    "`contract_new.csv` — информация о договоре;  \n",
    "`personal_new.csv` — персональные данные клиента;  \n",
    "`internet_new.csv` — информация об интернет-услугах;  \n",
    "`phone_new.csv` — информация об услугах телефонии  \n",
    "\n",
    "Файл `contract_new.csv` \n",
    "- customerID — идентификатор абонента;\n",
    "- BeginDate — дата начала действия договора;\n",
    "- EndDate — дата окончания действия договора;\n",
    "- Type — тип оплаты: раз в год-два или ежемесячно;\n",
    "- PaperlessBilling — электронный расчётный лист;\n",
    "- PaymentMethod — тип платежа;\n",
    "- MonthlyCharges — расходы за месяц;\n",
    "- TotalCharges — общие расходы абонента.\n",
    "\n",
    "Файл `personal_new.csv`\n",
    "- customerID — идентификатор пользователя;\n",
    "- gender — пол;\n",
    "- SeniorCitizen — является ли абонент пенсионером;\n",
    "- Partner — есть ли у абонента супруг или супруга;\n",
    "- Dependents — есть ли у абонента дети.\n",
    "\n",
    "Файл `internet_new.csv`\n",
    "- customerID — идентификатор пользователя;\n",
    "- InternetService — тип подключения;\n",
    "- OnlineSecurity — блокировка опасных сайтов;\n",
    "- OnlineBackup — облачное хранилище файлов для резервного копирования данных;\n",
    "- DeviceProtection — антивирус;\n",
    "- TechSupport — выделенная линия технической поддержки;\n",
    "- StreamingTV — стриминговое телевидение;\n",
    "- StreamingMovies — каталог фильмов.\n",
    "\n",
    "Файл `phone_new.csv`\n",
    "- customerID — идентификатор пользователя;\n",
    "- MultipleLines — подключение телефона к нескольким линиям одновременно.\n",
    "\n",
    "Во всех файлах столбец customerID содержит код клиента. Информация о договорах актуальна на 1 февраля 2020 года."
   ]
  },
  {
   "cell_type": "markdown",
   "id": "0c522cb7",
   "metadata": {},
   "source": [
    "## Загрузка и первичная предобработка данных"
   ]
  },
  {
   "cell_type": "markdown",
   "id": "fe0e7875",
   "metadata": {},
   "source": [
    "### Импорт библиотек"
   ]
  },
  {
   "cell_type": "code",
   "execution_count": 1,
   "id": "a958ff61",
   "metadata": {},
   "outputs": [
    {
     "name": "stdout",
     "output_type": "stream",
     "text": [
      "Requirement already satisfied: phik in /opt/conda/lib/python3.9/site-packages (0.12.4)\n",
      "Requirement already satisfied: joblib>=0.14.1 in /opt/conda/lib/python3.9/site-packages (from phik) (1.4.2)\n",
      "Requirement already satisfied: numpy>=1.18.0 in /opt/conda/lib/python3.9/site-packages (from phik) (1.21.1)\n",
      "Requirement already satisfied: matplotlib>=2.2.3 in /opt/conda/lib/python3.9/site-packages (from phik) (3.3.4)\n",
      "Requirement already satisfied: scipy>=1.5.2 in /opt/conda/lib/python3.9/site-packages (from phik) (1.9.1)\n",
      "Requirement already satisfied: pandas>=0.25.1 in /opt/conda/lib/python3.9/site-packages (from phik) (1.2.4)\n",
      "Requirement already satisfied: pillow>=6.2.0 in /opt/conda/lib/python3.9/site-packages (from matplotlib>=2.2.3->phik) (8.4.0)\n",
      "Requirement already satisfied: cycler>=0.10 in /opt/conda/lib/python3.9/site-packages (from matplotlib>=2.2.3->phik) (0.11.0)\n",
      "Requirement already satisfied: pyparsing!=2.0.4,!=2.1.2,!=2.1.6,>=2.0.3 in /opt/conda/lib/python3.9/site-packages (from matplotlib>=2.2.3->phik) (2.4.7)\n",
      "Requirement already satisfied: python-dateutil>=2.1 in /opt/conda/lib/python3.9/site-packages (from matplotlib>=2.2.3->phik) (2.8.1)\n",
      "Requirement already satisfied: kiwisolver>=1.0.1 in /opt/conda/lib/python3.9/site-packages (from matplotlib>=2.2.3->phik) (1.4.4)\n",
      "Requirement already satisfied: pytz>=2017.3 in /opt/conda/lib/python3.9/site-packages (from pandas>=0.25.1->phik) (2021.1)\n",
      "Requirement already satisfied: six>=1.5 in /opt/conda/lib/python3.9/site-packages (from python-dateutil>=2.1->matplotlib>=2.2.3->phik) (1.16.0)\n"
     ]
    }
   ],
   "source": [
    "!pip install phik\n",
    "!pip install -U scikit-learn -q"
   ]
  },
  {
   "cell_type": "code",
   "execution_count": 2,
   "id": "d9ff0b6c",
   "metadata": {},
   "outputs": [],
   "source": [
    "import pandas as pd\n",
    "import phik\n",
    "from phik.report import plot_correlation_matrix\n",
    "import matplotlib.pyplot as plt\n",
    "from sklearn.model_selection import train_test_split\n",
    "from sklearn.pipeline import Pipeline\n",
    "from sklearn.preprocessing import OneHotEncoder, StandardScaler, MinMaxScaler\n",
    "from sklearn.compose import ColumnTransformer\n",
    "from sklearn.metrics import roc_auc_score\n",
    "from sklearn.model_selection import GridSearchCV\n",
    "from sklearn.linear_model import LogisticRegression\n",
    "from sklearn.tree import DecisionTreeClassifier\n",
    "from catboost import CatBoostClassifier"
   ]
  },
  {
   "cell_type": "markdown",
   "id": "47676c4e",
   "metadata": {},
   "source": [
    "### Загрузка датасетов"
   ]
  },
  {
   "cell_type": "code",
   "execution_count": 3,
   "id": "08431cbc",
   "metadata": {},
   "outputs": [],
   "source": [
    "contracts = pd.read_csv('/datasets/contract_new.csv')\n",
    "personal = pd.read_csv('/datasets/personal_new.csv')\n",
    "internet = pd.read_csv('/datasets/internet_new.csv')\n",
    "phone = pd.read_csv('/datasets/phone_new.csv')"
   ]
  },
  {
   "cell_type": "markdown",
   "id": "4dc3376d",
   "metadata": {},
   "source": [
    "### Первичный осмотр датасетов"
   ]
  },
  {
   "cell_type": "markdown",
   "id": "de2ab67a",
   "metadata": {},
   "source": [
    "#### contracts"
   ]
  },
  {
   "cell_type": "code",
   "execution_count": 4,
   "id": "8a05726d",
   "metadata": {},
   "outputs": [
    {
     "name": "stdout",
     "output_type": "stream",
     "text": [
      "<class 'pandas.core.frame.DataFrame'>\n",
      "RangeIndex: 7043 entries, 0 to 7042\n",
      "Data columns (total 8 columns):\n",
      " #   Column            Non-Null Count  Dtype  \n",
      "---  ------            --------------  -----  \n",
      " 0   customerID        7043 non-null   object \n",
      " 1   BeginDate         7043 non-null   object \n",
      " 2   EndDate           7043 non-null   object \n",
      " 3   Type              7043 non-null   object \n",
      " 4   PaperlessBilling  7043 non-null   object \n",
      " 5   PaymentMethod     7043 non-null   object \n",
      " 6   MonthlyCharges    7043 non-null   float64\n",
      " 7   TotalCharges      7043 non-null   object \n",
      "dtypes: float64(1), object(7)\n",
      "memory usage: 440.3+ KB\n"
     ]
    }
   ],
   "source": [
    "contracts.info()"
   ]
  },
  {
   "cell_type": "code",
   "execution_count": 5,
   "id": "ccc099db",
   "metadata": {},
   "outputs": [
    {
     "name": "stdout",
     "output_type": "stream",
     "text": [
      "Количество дубликатов 0\n"
     ]
    }
   ],
   "source": [
    "print('Количество дубликатов', contracts.duplicated().sum())"
   ]
  },
  {
   "cell_type": "code",
   "execution_count": 6,
   "id": "baec622a",
   "metadata": {},
   "outputs": [
    {
     "data": {
      "text/html": [
       "<div>\n",
       "<style scoped>\n",
       "    .dataframe tbody tr th:only-of-type {\n",
       "        vertical-align: middle;\n",
       "    }\n",
       "\n",
       "    .dataframe tbody tr th {\n",
       "        vertical-align: top;\n",
       "    }\n",
       "\n",
       "    .dataframe thead th {\n",
       "        text-align: right;\n",
       "    }\n",
       "</style>\n",
       "<table border=\"1\" class=\"dataframe\">\n",
       "  <thead>\n",
       "    <tr style=\"text-align: right;\">\n",
       "      <th></th>\n",
       "      <th>customerID</th>\n",
       "      <th>BeginDate</th>\n",
       "      <th>EndDate</th>\n",
       "      <th>Type</th>\n",
       "      <th>PaperlessBilling</th>\n",
       "      <th>PaymentMethod</th>\n",
       "      <th>MonthlyCharges</th>\n",
       "      <th>TotalCharges</th>\n",
       "    </tr>\n",
       "  </thead>\n",
       "  <tbody>\n",
       "    <tr>\n",
       "      <th>0</th>\n",
       "      <td>7590-VHVEG</td>\n",
       "      <td>2020-01-01</td>\n",
       "      <td>No</td>\n",
       "      <td>Month-to-month</td>\n",
       "      <td>Yes</td>\n",
       "      <td>Electronic check</td>\n",
       "      <td>29.85</td>\n",
       "      <td>31.04</td>\n",
       "    </tr>\n",
       "    <tr>\n",
       "      <th>1</th>\n",
       "      <td>5575-GNVDE</td>\n",
       "      <td>2017-04-01</td>\n",
       "      <td>No</td>\n",
       "      <td>One year</td>\n",
       "      <td>No</td>\n",
       "      <td>Mailed check</td>\n",
       "      <td>56.95</td>\n",
       "      <td>2071.84</td>\n",
       "    </tr>\n",
       "    <tr>\n",
       "      <th>2</th>\n",
       "      <td>3668-QPYBK</td>\n",
       "      <td>2019-10-01</td>\n",
       "      <td>No</td>\n",
       "      <td>Month-to-month</td>\n",
       "      <td>Yes</td>\n",
       "      <td>Mailed check</td>\n",
       "      <td>53.85</td>\n",
       "      <td>226.17</td>\n",
       "    </tr>\n",
       "    <tr>\n",
       "      <th>3</th>\n",
       "      <td>7795-CFOCW</td>\n",
       "      <td>2016-05-01</td>\n",
       "      <td>No</td>\n",
       "      <td>One year</td>\n",
       "      <td>No</td>\n",
       "      <td>Bank transfer (automatic)</td>\n",
       "      <td>42.30</td>\n",
       "      <td>1960.6</td>\n",
       "    </tr>\n",
       "    <tr>\n",
       "      <th>4</th>\n",
       "      <td>9237-HQITU</td>\n",
       "      <td>2019-09-01</td>\n",
       "      <td>No</td>\n",
       "      <td>Month-to-month</td>\n",
       "      <td>Yes</td>\n",
       "      <td>Electronic check</td>\n",
       "      <td>70.70</td>\n",
       "      <td>353.5</td>\n",
       "    </tr>\n",
       "  </tbody>\n",
       "</table>\n",
       "</div>"
      ],
      "text/plain": [
       "   customerID   BeginDate EndDate            Type PaperlessBilling  \\\n",
       "0  7590-VHVEG  2020-01-01      No  Month-to-month              Yes   \n",
       "1  5575-GNVDE  2017-04-01      No        One year               No   \n",
       "2  3668-QPYBK  2019-10-01      No  Month-to-month              Yes   \n",
       "3  7795-CFOCW  2016-05-01      No        One year               No   \n",
       "4  9237-HQITU  2019-09-01      No  Month-to-month              Yes   \n",
       "\n",
       "               PaymentMethod  MonthlyCharges TotalCharges  \n",
       "0           Electronic check           29.85        31.04  \n",
       "1               Mailed check           56.95      2071.84  \n",
       "2               Mailed check           53.85       226.17  \n",
       "3  Bank transfer (automatic)           42.30       1960.6  \n",
       "4           Electronic check           70.70        353.5  "
      ]
     },
     "execution_count": 6,
     "metadata": {},
     "output_type": "execute_result"
    }
   ],
   "source": [
    "contracts.head(5)"
   ]
  },
  {
   "cell_type": "markdown",
   "id": "d203845c",
   "metadata": {},
   "source": [
    "#### personal"
   ]
  },
  {
   "cell_type": "code",
   "execution_count": 7,
   "id": "c4b24482",
   "metadata": {},
   "outputs": [
    {
     "name": "stdout",
     "output_type": "stream",
     "text": [
      "<class 'pandas.core.frame.DataFrame'>\n",
      "RangeIndex: 7043 entries, 0 to 7042\n",
      "Data columns (total 5 columns):\n",
      " #   Column         Non-Null Count  Dtype \n",
      "---  ------         --------------  ----- \n",
      " 0   customerID     7043 non-null   object\n",
      " 1   gender         7043 non-null   object\n",
      " 2   SeniorCitizen  7043 non-null   int64 \n",
      " 3   Partner        7043 non-null   object\n",
      " 4   Dependents     7043 non-null   object\n",
      "dtypes: int64(1), object(4)\n",
      "memory usage: 275.2+ KB\n"
     ]
    }
   ],
   "source": [
    "personal.info()"
   ]
  },
  {
   "cell_type": "code",
   "execution_count": 8,
   "id": "84610ad0",
   "metadata": {},
   "outputs": [
    {
     "name": "stdout",
     "output_type": "stream",
     "text": [
      "Количество дубликатов 0\n"
     ]
    }
   ],
   "source": [
    "print('Количество дубликатов', personal.duplicated().sum())"
   ]
  },
  {
   "cell_type": "code",
   "execution_count": 9,
   "id": "4fded830",
   "metadata": {},
   "outputs": [
    {
     "data": {
      "text/html": [
       "<div>\n",
       "<style scoped>\n",
       "    .dataframe tbody tr th:only-of-type {\n",
       "        vertical-align: middle;\n",
       "    }\n",
       "\n",
       "    .dataframe tbody tr th {\n",
       "        vertical-align: top;\n",
       "    }\n",
       "\n",
       "    .dataframe thead th {\n",
       "        text-align: right;\n",
       "    }\n",
       "</style>\n",
       "<table border=\"1\" class=\"dataframe\">\n",
       "  <thead>\n",
       "    <tr style=\"text-align: right;\">\n",
       "      <th></th>\n",
       "      <th>customerID</th>\n",
       "      <th>gender</th>\n",
       "      <th>SeniorCitizen</th>\n",
       "      <th>Partner</th>\n",
       "      <th>Dependents</th>\n",
       "    </tr>\n",
       "  </thead>\n",
       "  <tbody>\n",
       "    <tr>\n",
       "      <th>0</th>\n",
       "      <td>7590-VHVEG</td>\n",
       "      <td>Female</td>\n",
       "      <td>0</td>\n",
       "      <td>Yes</td>\n",
       "      <td>No</td>\n",
       "    </tr>\n",
       "    <tr>\n",
       "      <th>1</th>\n",
       "      <td>5575-GNVDE</td>\n",
       "      <td>Male</td>\n",
       "      <td>0</td>\n",
       "      <td>No</td>\n",
       "      <td>No</td>\n",
       "    </tr>\n",
       "    <tr>\n",
       "      <th>2</th>\n",
       "      <td>3668-QPYBK</td>\n",
       "      <td>Male</td>\n",
       "      <td>0</td>\n",
       "      <td>No</td>\n",
       "      <td>No</td>\n",
       "    </tr>\n",
       "    <tr>\n",
       "      <th>3</th>\n",
       "      <td>7795-CFOCW</td>\n",
       "      <td>Male</td>\n",
       "      <td>0</td>\n",
       "      <td>No</td>\n",
       "      <td>No</td>\n",
       "    </tr>\n",
       "    <tr>\n",
       "      <th>4</th>\n",
       "      <td>9237-HQITU</td>\n",
       "      <td>Female</td>\n",
       "      <td>0</td>\n",
       "      <td>No</td>\n",
       "      <td>No</td>\n",
       "    </tr>\n",
       "  </tbody>\n",
       "</table>\n",
       "</div>"
      ],
      "text/plain": [
       "   customerID  gender  SeniorCitizen Partner Dependents\n",
       "0  7590-VHVEG  Female              0     Yes         No\n",
       "1  5575-GNVDE    Male              0      No         No\n",
       "2  3668-QPYBK    Male              0      No         No\n",
       "3  7795-CFOCW    Male              0      No         No\n",
       "4  9237-HQITU  Female              0      No         No"
      ]
     },
     "execution_count": 9,
     "metadata": {},
     "output_type": "execute_result"
    }
   ],
   "source": [
    "personal.head(5)"
   ]
  },
  {
   "cell_type": "markdown",
   "id": "f7e1abdb",
   "metadata": {},
   "source": [
    "#### internet"
   ]
  },
  {
   "cell_type": "code",
   "execution_count": 10,
   "id": "ec2b0a5b",
   "metadata": {},
   "outputs": [
    {
     "name": "stdout",
     "output_type": "stream",
     "text": [
      "<class 'pandas.core.frame.DataFrame'>\n",
      "RangeIndex: 5517 entries, 0 to 5516\n",
      "Data columns (total 8 columns):\n",
      " #   Column            Non-Null Count  Dtype \n",
      "---  ------            --------------  ----- \n",
      " 0   customerID        5517 non-null   object\n",
      " 1   InternetService   5517 non-null   object\n",
      " 2   OnlineSecurity    5517 non-null   object\n",
      " 3   OnlineBackup      5517 non-null   object\n",
      " 4   DeviceProtection  5517 non-null   object\n",
      " 5   TechSupport       5517 non-null   object\n",
      " 6   StreamingTV       5517 non-null   object\n",
      " 7   StreamingMovies   5517 non-null   object\n",
      "dtypes: object(8)\n",
      "memory usage: 344.9+ KB\n"
     ]
    }
   ],
   "source": [
    "internet.info()"
   ]
  },
  {
   "cell_type": "code",
   "execution_count": 11,
   "id": "b540d769",
   "metadata": {},
   "outputs": [
    {
     "name": "stdout",
     "output_type": "stream",
     "text": [
      "Количество дубликатов 0\n"
     ]
    }
   ],
   "source": [
    "print('Количество дубликатов', internet.duplicated().sum())"
   ]
  },
  {
   "cell_type": "code",
   "execution_count": 12,
   "id": "e792d6ab",
   "metadata": {},
   "outputs": [
    {
     "data": {
      "text/html": [
       "<div>\n",
       "<style scoped>\n",
       "    .dataframe tbody tr th:only-of-type {\n",
       "        vertical-align: middle;\n",
       "    }\n",
       "\n",
       "    .dataframe tbody tr th {\n",
       "        vertical-align: top;\n",
       "    }\n",
       "\n",
       "    .dataframe thead th {\n",
       "        text-align: right;\n",
       "    }\n",
       "</style>\n",
       "<table border=\"1\" class=\"dataframe\">\n",
       "  <thead>\n",
       "    <tr style=\"text-align: right;\">\n",
       "      <th></th>\n",
       "      <th>customerID</th>\n",
       "      <th>InternetService</th>\n",
       "      <th>OnlineSecurity</th>\n",
       "      <th>OnlineBackup</th>\n",
       "      <th>DeviceProtection</th>\n",
       "      <th>TechSupport</th>\n",
       "      <th>StreamingTV</th>\n",
       "      <th>StreamingMovies</th>\n",
       "    </tr>\n",
       "  </thead>\n",
       "  <tbody>\n",
       "    <tr>\n",
       "      <th>0</th>\n",
       "      <td>7590-VHVEG</td>\n",
       "      <td>DSL</td>\n",
       "      <td>No</td>\n",
       "      <td>Yes</td>\n",
       "      <td>No</td>\n",
       "      <td>No</td>\n",
       "      <td>No</td>\n",
       "      <td>No</td>\n",
       "    </tr>\n",
       "    <tr>\n",
       "      <th>1</th>\n",
       "      <td>5575-GNVDE</td>\n",
       "      <td>DSL</td>\n",
       "      <td>Yes</td>\n",
       "      <td>No</td>\n",
       "      <td>Yes</td>\n",
       "      <td>No</td>\n",
       "      <td>No</td>\n",
       "      <td>No</td>\n",
       "    </tr>\n",
       "    <tr>\n",
       "      <th>2</th>\n",
       "      <td>3668-QPYBK</td>\n",
       "      <td>DSL</td>\n",
       "      <td>Yes</td>\n",
       "      <td>Yes</td>\n",
       "      <td>No</td>\n",
       "      <td>No</td>\n",
       "      <td>No</td>\n",
       "      <td>No</td>\n",
       "    </tr>\n",
       "    <tr>\n",
       "      <th>3</th>\n",
       "      <td>7795-CFOCW</td>\n",
       "      <td>DSL</td>\n",
       "      <td>Yes</td>\n",
       "      <td>No</td>\n",
       "      <td>Yes</td>\n",
       "      <td>Yes</td>\n",
       "      <td>No</td>\n",
       "      <td>No</td>\n",
       "    </tr>\n",
       "    <tr>\n",
       "      <th>4</th>\n",
       "      <td>9237-HQITU</td>\n",
       "      <td>Fiber optic</td>\n",
       "      <td>No</td>\n",
       "      <td>No</td>\n",
       "      <td>No</td>\n",
       "      <td>No</td>\n",
       "      <td>No</td>\n",
       "      <td>No</td>\n",
       "    </tr>\n",
       "  </tbody>\n",
       "</table>\n",
       "</div>"
      ],
      "text/plain": [
       "   customerID InternetService OnlineSecurity OnlineBackup DeviceProtection  \\\n",
       "0  7590-VHVEG             DSL             No          Yes               No   \n",
       "1  5575-GNVDE             DSL            Yes           No              Yes   \n",
       "2  3668-QPYBK             DSL            Yes          Yes               No   \n",
       "3  7795-CFOCW             DSL            Yes           No              Yes   \n",
       "4  9237-HQITU     Fiber optic             No           No               No   \n",
       "\n",
       "  TechSupport StreamingTV StreamingMovies  \n",
       "0          No          No              No  \n",
       "1          No          No              No  \n",
       "2          No          No              No  \n",
       "3         Yes          No              No  \n",
       "4          No          No              No  "
      ]
     },
     "execution_count": 12,
     "metadata": {},
     "output_type": "execute_result"
    }
   ],
   "source": [
    "internet.head(5)"
   ]
  },
  {
   "cell_type": "markdown",
   "id": "dd70ab0a",
   "metadata": {},
   "source": [
    "#### phone"
   ]
  },
  {
   "cell_type": "code",
   "execution_count": 13,
   "id": "d692b566",
   "metadata": {},
   "outputs": [
    {
     "name": "stdout",
     "output_type": "stream",
     "text": [
      "<class 'pandas.core.frame.DataFrame'>\n",
      "RangeIndex: 6361 entries, 0 to 6360\n",
      "Data columns (total 2 columns):\n",
      " #   Column         Non-Null Count  Dtype \n",
      "---  ------         --------------  ----- \n",
      " 0   customerID     6361 non-null   object\n",
      " 1   MultipleLines  6361 non-null   object\n",
      "dtypes: object(2)\n",
      "memory usage: 99.5+ KB\n"
     ]
    }
   ],
   "source": [
    "phone.info()"
   ]
  },
  {
   "cell_type": "code",
   "execution_count": 14,
   "id": "65207437",
   "metadata": {},
   "outputs": [
    {
     "name": "stdout",
     "output_type": "stream",
     "text": [
      "Количество дубликатов 0\n"
     ]
    }
   ],
   "source": [
    "print('Количество дубликатов', contracts.duplicated().sum())"
   ]
  },
  {
   "cell_type": "code",
   "execution_count": 15,
   "id": "c261d450",
   "metadata": {},
   "outputs": [
    {
     "data": {
      "text/html": [
       "<div>\n",
       "<style scoped>\n",
       "    .dataframe tbody tr th:only-of-type {\n",
       "        vertical-align: middle;\n",
       "    }\n",
       "\n",
       "    .dataframe tbody tr th {\n",
       "        vertical-align: top;\n",
       "    }\n",
       "\n",
       "    .dataframe thead th {\n",
       "        text-align: right;\n",
       "    }\n",
       "</style>\n",
       "<table border=\"1\" class=\"dataframe\">\n",
       "  <thead>\n",
       "    <tr style=\"text-align: right;\">\n",
       "      <th></th>\n",
       "      <th>customerID</th>\n",
       "      <th>MultipleLines</th>\n",
       "    </tr>\n",
       "  </thead>\n",
       "  <tbody>\n",
       "    <tr>\n",
       "      <th>0</th>\n",
       "      <td>5575-GNVDE</td>\n",
       "      <td>No</td>\n",
       "    </tr>\n",
       "    <tr>\n",
       "      <th>1</th>\n",
       "      <td>3668-QPYBK</td>\n",
       "      <td>No</td>\n",
       "    </tr>\n",
       "    <tr>\n",
       "      <th>2</th>\n",
       "      <td>9237-HQITU</td>\n",
       "      <td>No</td>\n",
       "    </tr>\n",
       "    <tr>\n",
       "      <th>3</th>\n",
       "      <td>9305-CDSKC</td>\n",
       "      <td>Yes</td>\n",
       "    </tr>\n",
       "    <tr>\n",
       "      <th>4</th>\n",
       "      <td>1452-KIOVK</td>\n",
       "      <td>Yes</td>\n",
       "    </tr>\n",
       "  </tbody>\n",
       "</table>\n",
       "</div>"
      ],
      "text/plain": [
       "   customerID MultipleLines\n",
       "0  5575-GNVDE            No\n",
       "1  3668-QPYBK            No\n",
       "2  9237-HQITU            No\n",
       "3  9305-CDSKC           Yes\n",
       "4  1452-KIOVK           Yes"
      ]
     },
     "execution_count": 15,
     "metadata": {},
     "output_type": "execute_result"
    }
   ],
   "source": [
    "phone.head(5)"
   ]
  },
  {
   "cell_type": "markdown",
   "id": "90399fa2",
   "metadata": {},
   "source": [
    "#### Промежуточный вывод\n",
    "\n",
    "Датасеты `contracts` и `personal` содержат информацию по 7043 уникальным пользователям, `internet` по 5517 пользователям, а  `phone` по 6361 пользователям. Содержание датасетов соответствует их описанию.\n",
    "\n",
    "В таблице contracts столбец TotalCharges содержит числа с плавающей точкой, однако, в типе данных object, исправим на float.\n",
    "\n",
    "Во всех датасетах необходимо переименовать столбцы к общепринятому виду (привести к нижнему регистру с разделением слов нижним подчеркиванием).  \n",
    "Во всех датасетах имеются столбцы с бинарными данными, записанными в формате Yes/No, изменим тип данных на целочисленный (int) и перепишем их, учитывая что Yes = 1, No = 0.  "
   ]
  },
  {
   "cell_type": "markdown",
   "id": "1623f45d",
   "metadata": {},
   "source": [
    "### Первичная предобработка данных"
   ]
  },
  {
   "cell_type": "markdown",
   "id": "8a836526",
   "metadata": {},
   "source": [
    "Изменим тип данных столбца TotalCharges из contracts"
   ]
  },
  {
   "cell_type": "code",
   "execution_count": 16,
   "id": "d4fb61a6",
   "metadata": {},
   "outputs": [
    {
     "data": {
      "text/plain": [
       "customerID           0\n",
       "BeginDate            0\n",
       "EndDate              0\n",
       "Type                 0\n",
       "PaperlessBilling     0\n",
       "PaymentMethod        0\n",
       "MonthlyCharges       0\n",
       "TotalCharges        11\n",
       "dtype: int64"
      ]
     },
     "execution_count": 16,
     "metadata": {},
     "output_type": "execute_result"
    }
   ],
   "source": [
    "contracts['TotalCharges'] = contracts['TotalCharges'].astype(str).str.strip()\n",
    "contracts['TotalCharges'] = pd.to_numeric(contracts['TotalCharges'], errors='coerce')\n",
    "contracts.isna().sum()"
   ]
  },
  {
   "cell_type": "markdown",
   "id": "b045694e",
   "metadata": {},
   "source": [
    "Мы обнаружили 11 некорректных значений в столбце 'TotalCharges', который были заменены на Nan, пока пропуски оставим."
   ]
  },
  {
   "cell_type": "markdown",
   "id": "8e62a151",
   "metadata": {},
   "source": [
    "Изменим названия столбцов"
   ]
  },
  {
   "cell_type": "code",
   "execution_count": 17,
   "id": "4542cb88",
   "metadata": {},
   "outputs": [],
   "source": [
    "sets = [contracts, personal, internet, phone]\n",
    "\n",
    "for i in sets:\n",
    "    i.rename(columns={'customerID': 'customer_id', 'StreamingTV': 'streaming_tv'}, inplace=True)\n",
    "    i.columns = i.columns.str.replace(r'(?<!^)(?=[A-Z])', '_', regex=True).str.lower()  "
   ]
  },
  {
   "cell_type": "markdown",
   "id": "afdc03ce",
   "metadata": {},
   "source": [
    "заменим значения в столбцах Yes/No на 1/0"
   ]
  },
  {
   "cell_type": "markdown",
   "id": "995df370",
   "metadata": {},
   "source": [
    "for i in sets:\n",
    "    for c in i.columns:\n",
    "        unique_values = set(i[c].unique())\n",
    "        if unique_values == {'Yes', 'No'}:\n",
    "            i[c].replace({'Yes': 1, 'No': 0}, inplace=True) "
   ]
  },
  {
   "cell_type": "markdown",
   "id": "c7d6a051",
   "metadata": {},
   "source": [
    "Проверим, что получилось"
   ]
  },
  {
   "cell_type": "code",
   "execution_count": 18,
   "id": "b5d95cec",
   "metadata": {},
   "outputs": [
    {
     "name": "stdout",
     "output_type": "stream",
     "text": [
      "  customer_id  begin_date end_date            type paperless_billing  \\\n",
      "0  7590-VHVEG  2020-01-01       No  Month-to-month               Yes   \n",
      "1  5575-GNVDE  2017-04-01       No        One year                No   \n",
      "2  3668-QPYBK  2019-10-01       No  Month-to-month               Yes   \n",
      "\n",
      "     payment_method  monthly_charges  total_charges  \n",
      "0  Electronic check            29.85          31.04  \n",
      "1      Mailed check            56.95        2071.84  \n",
      "2      Mailed check            53.85         226.17  \n",
      "\n",
      "  customer_id  gender  senior_citizen partner dependents\n",
      "0  7590-VHVEG  Female               0     Yes         No\n",
      "1  5575-GNVDE    Male               0      No         No\n",
      "2  3668-QPYBK    Male               0      No         No\n",
      "\n",
      "  customer_id internet_service online_security online_backup  \\\n",
      "0  7590-VHVEG              DSL              No           Yes   \n",
      "1  5575-GNVDE              DSL             Yes            No   \n",
      "2  3668-QPYBK              DSL             Yes           Yes   \n",
      "\n",
      "  device_protection tech_support streaming_tv streaming_movies  \n",
      "0                No           No           No               No  \n",
      "1               Yes           No           No               No  \n",
      "2                No           No           No               No  \n",
      "\n",
      "  customer_id multiple_lines\n",
      "0  5575-GNVDE             No\n",
      "1  3668-QPYBK             No\n",
      "2  9237-HQITU             No\n",
      "\n"
     ]
    }
   ],
   "source": [
    "for i in sets:\n",
    "    print(i.head(3))\n",
    "    print('')"
   ]
  },
  {
   "cell_type": "markdown",
   "id": "c2fb28cd",
   "metadata": {},
   "source": [
    "## Формирование финальной таблицы"
   ]
  },
  {
   "cell_type": "markdown",
   "id": "c880db84",
   "metadata": {},
   "source": [
    "### Объединение таблиц"
   ]
  },
  {
   "cell_type": "markdown",
   "id": "041fe3a9",
   "metadata": {},
   "source": [
    "объединим все таблицы по столбцу `customer_id`"
   ]
  },
  {
   "cell_type": "code",
   "execution_count": 19,
   "id": "eda570cc",
   "metadata": {},
   "outputs": [
    {
     "data": {
      "text/html": [
       "<div>\n",
       "<style scoped>\n",
       "    .dataframe tbody tr th:only-of-type {\n",
       "        vertical-align: middle;\n",
       "    }\n",
       "\n",
       "    .dataframe tbody tr th {\n",
       "        vertical-align: top;\n",
       "    }\n",
       "\n",
       "    .dataframe thead th {\n",
       "        text-align: right;\n",
       "    }\n",
       "</style>\n",
       "<table border=\"1\" class=\"dataframe\">\n",
       "  <thead>\n",
       "    <tr style=\"text-align: right;\">\n",
       "      <th></th>\n",
       "      <th>customer_id</th>\n",
       "      <th>begin_date</th>\n",
       "      <th>end_date</th>\n",
       "      <th>type</th>\n",
       "      <th>paperless_billing</th>\n",
       "      <th>payment_method</th>\n",
       "      <th>monthly_charges</th>\n",
       "      <th>total_charges</th>\n",
       "      <th>gender</th>\n",
       "      <th>senior_citizen</th>\n",
       "      <th>partner</th>\n",
       "      <th>dependents</th>\n",
       "      <th>internet_service</th>\n",
       "      <th>online_security</th>\n",
       "      <th>online_backup</th>\n",
       "      <th>device_protection</th>\n",
       "      <th>tech_support</th>\n",
       "      <th>streaming_tv</th>\n",
       "      <th>streaming_movies</th>\n",
       "      <th>multiple_lines</th>\n",
       "    </tr>\n",
       "  </thead>\n",
       "  <tbody>\n",
       "    <tr>\n",
       "      <th>0</th>\n",
       "      <td>7590-VHVEG</td>\n",
       "      <td>2020-01-01</td>\n",
       "      <td>No</td>\n",
       "      <td>Month-to-month</td>\n",
       "      <td>Yes</td>\n",
       "      <td>Electronic check</td>\n",
       "      <td>29.85</td>\n",
       "      <td>31.04</td>\n",
       "      <td>Female</td>\n",
       "      <td>0</td>\n",
       "      <td>Yes</td>\n",
       "      <td>No</td>\n",
       "      <td>DSL</td>\n",
       "      <td>No</td>\n",
       "      <td>Yes</td>\n",
       "      <td>No</td>\n",
       "      <td>No</td>\n",
       "      <td>No</td>\n",
       "      <td>No</td>\n",
       "      <td>NaN</td>\n",
       "    </tr>\n",
       "    <tr>\n",
       "      <th>1</th>\n",
       "      <td>5575-GNVDE</td>\n",
       "      <td>2017-04-01</td>\n",
       "      <td>No</td>\n",
       "      <td>One year</td>\n",
       "      <td>No</td>\n",
       "      <td>Mailed check</td>\n",
       "      <td>56.95</td>\n",
       "      <td>2071.84</td>\n",
       "      <td>Male</td>\n",
       "      <td>0</td>\n",
       "      <td>No</td>\n",
       "      <td>No</td>\n",
       "      <td>DSL</td>\n",
       "      <td>Yes</td>\n",
       "      <td>No</td>\n",
       "      <td>Yes</td>\n",
       "      <td>No</td>\n",
       "      <td>No</td>\n",
       "      <td>No</td>\n",
       "      <td>No</td>\n",
       "    </tr>\n",
       "    <tr>\n",
       "      <th>2</th>\n",
       "      <td>3668-QPYBK</td>\n",
       "      <td>2019-10-01</td>\n",
       "      <td>No</td>\n",
       "      <td>Month-to-month</td>\n",
       "      <td>Yes</td>\n",
       "      <td>Mailed check</td>\n",
       "      <td>53.85</td>\n",
       "      <td>226.17</td>\n",
       "      <td>Male</td>\n",
       "      <td>0</td>\n",
       "      <td>No</td>\n",
       "      <td>No</td>\n",
       "      <td>DSL</td>\n",
       "      <td>Yes</td>\n",
       "      <td>Yes</td>\n",
       "      <td>No</td>\n",
       "      <td>No</td>\n",
       "      <td>No</td>\n",
       "      <td>No</td>\n",
       "      <td>No</td>\n",
       "    </tr>\n",
       "    <tr>\n",
       "      <th>3</th>\n",
       "      <td>7795-CFOCW</td>\n",
       "      <td>2016-05-01</td>\n",
       "      <td>No</td>\n",
       "      <td>One year</td>\n",
       "      <td>No</td>\n",
       "      <td>Bank transfer (automatic)</td>\n",
       "      <td>42.30</td>\n",
       "      <td>1960.60</td>\n",
       "      <td>Male</td>\n",
       "      <td>0</td>\n",
       "      <td>No</td>\n",
       "      <td>No</td>\n",
       "      <td>DSL</td>\n",
       "      <td>Yes</td>\n",
       "      <td>No</td>\n",
       "      <td>Yes</td>\n",
       "      <td>Yes</td>\n",
       "      <td>No</td>\n",
       "      <td>No</td>\n",
       "      <td>NaN</td>\n",
       "    </tr>\n",
       "    <tr>\n",
       "      <th>4</th>\n",
       "      <td>9237-HQITU</td>\n",
       "      <td>2019-09-01</td>\n",
       "      <td>No</td>\n",
       "      <td>Month-to-month</td>\n",
       "      <td>Yes</td>\n",
       "      <td>Electronic check</td>\n",
       "      <td>70.70</td>\n",
       "      <td>353.50</td>\n",
       "      <td>Female</td>\n",
       "      <td>0</td>\n",
       "      <td>No</td>\n",
       "      <td>No</td>\n",
       "      <td>Fiber optic</td>\n",
       "      <td>No</td>\n",
       "      <td>No</td>\n",
       "      <td>No</td>\n",
       "      <td>No</td>\n",
       "      <td>No</td>\n",
       "      <td>No</td>\n",
       "      <td>No</td>\n",
       "    </tr>\n",
       "  </tbody>\n",
       "</table>\n",
       "</div>"
      ],
      "text/plain": [
       "  customer_id  begin_date end_date            type paperless_billing  \\\n",
       "0  7590-VHVEG  2020-01-01       No  Month-to-month               Yes   \n",
       "1  5575-GNVDE  2017-04-01       No        One year                No   \n",
       "2  3668-QPYBK  2019-10-01       No  Month-to-month               Yes   \n",
       "3  7795-CFOCW  2016-05-01       No        One year                No   \n",
       "4  9237-HQITU  2019-09-01       No  Month-to-month               Yes   \n",
       "\n",
       "              payment_method  monthly_charges  total_charges  gender  \\\n",
       "0           Electronic check            29.85          31.04  Female   \n",
       "1               Mailed check            56.95        2071.84    Male   \n",
       "2               Mailed check            53.85         226.17    Male   \n",
       "3  Bank transfer (automatic)            42.30        1960.60    Male   \n",
       "4           Electronic check            70.70         353.50  Female   \n",
       "\n",
       "   senior_citizen partner dependents internet_service online_security  \\\n",
       "0               0     Yes         No              DSL              No   \n",
       "1               0      No         No              DSL             Yes   \n",
       "2               0      No         No              DSL             Yes   \n",
       "3               0      No         No              DSL             Yes   \n",
       "4               0      No         No      Fiber optic              No   \n",
       "\n",
       "  online_backup device_protection tech_support streaming_tv streaming_movies  \\\n",
       "0           Yes                No           No           No               No   \n",
       "1            No               Yes           No           No               No   \n",
       "2           Yes                No           No           No               No   \n",
       "3            No               Yes          Yes           No               No   \n",
       "4            No                No           No           No               No   \n",
       "\n",
       "  multiple_lines  \n",
       "0            NaN  \n",
       "1             No  \n",
       "2             No  \n",
       "3            NaN  \n",
       "4             No  "
      ]
     },
     "execution_count": 19,
     "metadata": {},
     "output_type": "execute_result"
    }
   ],
   "source": [
    "data = pd.merge(contracts, personal, on='customer_id', how='outer')\n",
    "data = pd.merge(data, internet, on='customer_id', how='outer')\n",
    "data = pd.merge(data, phone, on='customer_id', how='outer')\n",
    "\n",
    "data.head(5)"
   ]
  },
  {
   "cell_type": "markdown",
   "id": "938669c9",
   "metadata": {},
   "source": [
    "<div class=\"alert alert-success\">\n",
    "<b>✔️ Комментарий ревьювера:</b> Датасет собран успешно!\n",
    "    \n",
    "</div>"
   ]
  },
  {
   "cell_type": "markdown",
   "id": "64bccc75",
   "metadata": {},
   "source": [
    "### Дополнительные признаки"
   ]
  },
  {
   "cell_type": "markdown",
   "id": "d107e3bb",
   "metadata": {},
   "source": [
    "Для начала выделим наш целевой признак (`leaving` - разорвал ли клиент договор) используя столбец `end_date`. Клиентов сразорвавших контракт (указана дата разрыва договора) пометим как 1, оставшихся клиентов пометим как 0."
   ]
  },
  {
   "cell_type": "code",
   "execution_count": 20,
   "id": "f5bb71a4",
   "metadata": {},
   "outputs": [],
   "source": [
    "data['leaving'] = (data['end_date'] != 'No').astype(int)"
   ]
  },
  {
   "cell_type": "markdown",
   "id": "63f7325d",
   "metadata": {},
   "source": [
    "Добавим также признак (`duration`), который будет содержать продолжительность договора клента (в днях), с учетом, что данные актуальны на 1 февраля 2020 года."
   ]
  },
  {
   "cell_type": "code",
   "execution_count": 21,
   "id": "f6b53020",
   "metadata": {},
   "outputs": [],
   "source": [
    "data.loc[data['end_date'] == 'No', 'end_date'] = '2020-02-01'\n",
    "\n",
    "data['end_date'] = pd.to_datetime(data['end_date'])\n",
    "data['begin_date'] = pd.to_datetime(data['begin_date'])\n",
    "\n",
    "data['duration'] = ((data['end_date'] - data['begin_date']).dt.days.astype(int))+1"
   ]
  },
  {
   "cell_type": "code",
   "execution_count": 22,
   "id": "9f34cdc0",
   "metadata": {},
   "outputs": [
    {
     "data": {
      "text/html": [
       "<div>\n",
       "<style scoped>\n",
       "    .dataframe tbody tr th:only-of-type {\n",
       "        vertical-align: middle;\n",
       "    }\n",
       "\n",
       "    .dataframe tbody tr th {\n",
       "        vertical-align: top;\n",
       "    }\n",
       "\n",
       "    .dataframe thead th {\n",
       "        text-align: right;\n",
       "    }\n",
       "</style>\n",
       "<table border=\"1\" class=\"dataframe\">\n",
       "  <thead>\n",
       "    <tr style=\"text-align: right;\">\n",
       "      <th></th>\n",
       "      <th>customer_id</th>\n",
       "      <th>begin_date</th>\n",
       "      <th>end_date</th>\n",
       "      <th>type</th>\n",
       "      <th>paperless_billing</th>\n",
       "      <th>payment_method</th>\n",
       "      <th>monthly_charges</th>\n",
       "      <th>total_charges</th>\n",
       "      <th>gender</th>\n",
       "      <th>senior_citizen</th>\n",
       "      <th>...</th>\n",
       "      <th>internet_service</th>\n",
       "      <th>online_security</th>\n",
       "      <th>online_backup</th>\n",
       "      <th>device_protection</th>\n",
       "      <th>tech_support</th>\n",
       "      <th>streaming_tv</th>\n",
       "      <th>streaming_movies</th>\n",
       "      <th>multiple_lines</th>\n",
       "      <th>leaving</th>\n",
       "      <th>duration</th>\n",
       "    </tr>\n",
       "  </thead>\n",
       "  <tbody>\n",
       "    <tr>\n",
       "      <th>0</th>\n",
       "      <td>7590-VHVEG</td>\n",
       "      <td>2020-01-01</td>\n",
       "      <td>2020-02-01</td>\n",
       "      <td>Month-to-month</td>\n",
       "      <td>Yes</td>\n",
       "      <td>Electronic check</td>\n",
       "      <td>29.85</td>\n",
       "      <td>31.04</td>\n",
       "      <td>Female</td>\n",
       "      <td>0</td>\n",
       "      <td>...</td>\n",
       "      <td>DSL</td>\n",
       "      <td>No</td>\n",
       "      <td>Yes</td>\n",
       "      <td>No</td>\n",
       "      <td>No</td>\n",
       "      <td>No</td>\n",
       "      <td>No</td>\n",
       "      <td>NaN</td>\n",
       "      <td>0</td>\n",
       "      <td>32</td>\n",
       "    </tr>\n",
       "    <tr>\n",
       "      <th>1</th>\n",
       "      <td>5575-GNVDE</td>\n",
       "      <td>2017-04-01</td>\n",
       "      <td>2020-02-01</td>\n",
       "      <td>One year</td>\n",
       "      <td>No</td>\n",
       "      <td>Mailed check</td>\n",
       "      <td>56.95</td>\n",
       "      <td>2071.84</td>\n",
       "      <td>Male</td>\n",
       "      <td>0</td>\n",
       "      <td>...</td>\n",
       "      <td>DSL</td>\n",
       "      <td>Yes</td>\n",
       "      <td>No</td>\n",
       "      <td>Yes</td>\n",
       "      <td>No</td>\n",
       "      <td>No</td>\n",
       "      <td>No</td>\n",
       "      <td>No</td>\n",
       "      <td>0</td>\n",
       "      <td>1037</td>\n",
       "    </tr>\n",
       "    <tr>\n",
       "      <th>2</th>\n",
       "      <td>3668-QPYBK</td>\n",
       "      <td>2019-10-01</td>\n",
       "      <td>2020-02-01</td>\n",
       "      <td>Month-to-month</td>\n",
       "      <td>Yes</td>\n",
       "      <td>Mailed check</td>\n",
       "      <td>53.85</td>\n",
       "      <td>226.17</td>\n",
       "      <td>Male</td>\n",
       "      <td>0</td>\n",
       "      <td>...</td>\n",
       "      <td>DSL</td>\n",
       "      <td>Yes</td>\n",
       "      <td>Yes</td>\n",
       "      <td>No</td>\n",
       "      <td>No</td>\n",
       "      <td>No</td>\n",
       "      <td>No</td>\n",
       "      <td>No</td>\n",
       "      <td>0</td>\n",
       "      <td>124</td>\n",
       "    </tr>\n",
       "    <tr>\n",
       "      <th>3</th>\n",
       "      <td>7795-CFOCW</td>\n",
       "      <td>2016-05-01</td>\n",
       "      <td>2020-02-01</td>\n",
       "      <td>One year</td>\n",
       "      <td>No</td>\n",
       "      <td>Bank transfer (automatic)</td>\n",
       "      <td>42.30</td>\n",
       "      <td>1960.60</td>\n",
       "      <td>Male</td>\n",
       "      <td>0</td>\n",
       "      <td>...</td>\n",
       "      <td>DSL</td>\n",
       "      <td>Yes</td>\n",
       "      <td>No</td>\n",
       "      <td>Yes</td>\n",
       "      <td>Yes</td>\n",
       "      <td>No</td>\n",
       "      <td>No</td>\n",
       "      <td>NaN</td>\n",
       "      <td>0</td>\n",
       "      <td>1372</td>\n",
       "    </tr>\n",
       "    <tr>\n",
       "      <th>4</th>\n",
       "      <td>9237-HQITU</td>\n",
       "      <td>2019-09-01</td>\n",
       "      <td>2020-02-01</td>\n",
       "      <td>Month-to-month</td>\n",
       "      <td>Yes</td>\n",
       "      <td>Electronic check</td>\n",
       "      <td>70.70</td>\n",
       "      <td>353.50</td>\n",
       "      <td>Female</td>\n",
       "      <td>0</td>\n",
       "      <td>...</td>\n",
       "      <td>Fiber optic</td>\n",
       "      <td>No</td>\n",
       "      <td>No</td>\n",
       "      <td>No</td>\n",
       "      <td>No</td>\n",
       "      <td>No</td>\n",
       "      <td>No</td>\n",
       "      <td>No</td>\n",
       "      <td>0</td>\n",
       "      <td>154</td>\n",
       "    </tr>\n",
       "  </tbody>\n",
       "</table>\n",
       "<p>5 rows × 22 columns</p>\n",
       "</div>"
      ],
      "text/plain": [
       "  customer_id begin_date   end_date            type paperless_billing  \\\n",
       "0  7590-VHVEG 2020-01-01 2020-02-01  Month-to-month               Yes   \n",
       "1  5575-GNVDE 2017-04-01 2020-02-01        One year                No   \n",
       "2  3668-QPYBK 2019-10-01 2020-02-01  Month-to-month               Yes   \n",
       "3  7795-CFOCW 2016-05-01 2020-02-01        One year                No   \n",
       "4  9237-HQITU 2019-09-01 2020-02-01  Month-to-month               Yes   \n",
       "\n",
       "              payment_method  monthly_charges  total_charges  gender  \\\n",
       "0           Electronic check            29.85          31.04  Female   \n",
       "1               Mailed check            56.95        2071.84    Male   \n",
       "2               Mailed check            53.85         226.17    Male   \n",
       "3  Bank transfer (automatic)            42.30        1960.60    Male   \n",
       "4           Electronic check            70.70         353.50  Female   \n",
       "\n",
       "   senior_citizen  ... internet_service online_security online_backup  \\\n",
       "0               0  ...              DSL              No           Yes   \n",
       "1               0  ...              DSL             Yes            No   \n",
       "2               0  ...              DSL             Yes           Yes   \n",
       "3               0  ...              DSL             Yes            No   \n",
       "4               0  ...      Fiber optic              No            No   \n",
       "\n",
       "  device_protection tech_support streaming_tv streaming_movies multiple_lines  \\\n",
       "0                No           No           No               No            NaN   \n",
       "1               Yes           No           No               No             No   \n",
       "2                No           No           No               No             No   \n",
       "3               Yes          Yes           No               No            NaN   \n",
       "4                No           No           No               No             No   \n",
       "\n",
       "  leaving duration  \n",
       "0       0       32  \n",
       "1       0     1037  \n",
       "2       0      124  \n",
       "3       0     1372  \n",
       "4       0      154  \n",
       "\n",
       "[5 rows x 22 columns]"
      ]
     },
     "execution_count": 22,
     "metadata": {},
     "output_type": "execute_result"
    }
   ],
   "source": [
    "data.head()"
   ]
  },
  {
   "cell_type": "markdown",
   "id": "c8393d71",
   "metadata": {},
   "source": [
    "### Удаление лишних признаков"
   ]
  },
  {
   "cell_type": "markdown",
   "id": "6fc2dc3c",
   "metadata": {},
   "source": [
    "Признаки `begin_date` и `end_date` удалим, чтобы избежать утечки данных. "
   ]
  },
  {
   "cell_type": "code",
   "execution_count": 23,
   "id": "70ec0b9a",
   "metadata": {},
   "outputs": [],
   "source": [
    "data = data.drop(columns=['begin_date', 'end_date'])"
   ]
  },
  {
   "cell_type": "markdown",
   "id": "6c98cc8d",
   "metadata": {},
   "source": [
    "## Исследовательский анализ"
   ]
  },
  {
   "cell_type": "markdown",
   "id": "b35459cc",
   "metadata": {},
   "source": [
    "Для начала заполним пропуски в таблице значением \"no_info\", пропуски в столбце total_charges оставим."
   ]
  },
  {
   "cell_type": "code",
   "execution_count": 24,
   "id": "c22ea36c",
   "metadata": {},
   "outputs": [],
   "source": [
    "data[['internet_service', \n",
    "      'online_security', \n",
    "      'online_backup', \n",
    "      'device_protection',\n",
    "      'streaming_tv',    \n",
    "      'tech_support', \n",
    "      'streaming_movies',\n",
    "      'multiple_lines']] = data[['internet_service', \n",
    "                                 'online_security', \n",
    "                                 'online_backup', \n",
    "                                 'device_protection',\n",
    "                                 'streaming_tv',    \n",
    "                                 'tech_support', \n",
    "                                 'streaming_movies',\n",
    "                                 'multiple_lines']].fillna('no_info')"
   ]
  },
  {
   "cell_type": "markdown",
   "id": "b3666907",
   "metadata": {},
   "source": [
    "### Создание функций для визуализации"
   ]
  },
  {
   "cell_type": "markdown",
   "id": "47608ead",
   "metadata": {},
   "source": [
    "для избегания повторения кода создадим функции для визуализации категориальных признаков `visual_cat()`, а также для численных признаков `visual_num()`"
   ]
  },
  {
   "cell_type": "code",
   "execution_count": 25,
   "id": "6a77969a",
   "metadata": {},
   "outputs": [],
   "source": [
    "def visual_cat(data, column, title):\n",
    "    ax = data.query('leaving == 1').groupby(column)['customer_id'].count().plot(\n",
    "        kind='bar',\n",
    "        figsize=(8, 4),\n",
    "        width=0.3,\n",
    "        color='red',\n",
    "        position=0,\n",
    "        label='ушедшие',\n",
    "        title=title,\n",
    "        legend=True\n",
    "    )\n",
    "    \n",
    "    data.query('leaving == 0').groupby(column)['customer_id'].count().plot(\n",
    "        kind='bar',\n",
    "        width=0.3,\n",
    "        color='green',\n",
    "        position=1,\n",
    "        label='оставшиеся',\n",
    "        ax=ax,\n",
    "        grid=True,\n",
    "        legend=True,\n",
    "    )\n",
    "    \n",
    "    ax.set_ylabel('Количество сотрудников')\n",
    "    \n",
    "    plt.show()\n",
    "    \n",
    "    leave = data.query('leaving == 1').groupby(column)['customer_id'].count().sort_values(ascending=False)\n",
    "    num = leave.sum()\n",
    "    leave = leave.reset_index(name='count')\n",
    "    leave['percentage'] = ((leave['count'] / num) * 100).round(1)\n",
    "    \n",
    "    noleave = data.query('leaving == 0').groupby(column)['customer_id'].count().sort_values(ascending=False)\n",
    "    num = noleave.sum()\n",
    "    noleave = noleave.reset_index(name='count')\n",
    "    noleave['percentage'] = ((noleave['count'] / num) * 100).round(1)\n",
    "    \n",
    "    return ax, print('Ушедшие клиенты \\n', leave), print(''), print('Оставшиеся клиенты \\n', noleave)\n"
   ]
  },
  {
   "cell_type": "code",
   "execution_count": 26,
   "id": "781337c6",
   "metadata": {},
   "outputs": [],
   "source": [
    "def visual_num(data, column, title, bins):\n",
    "    ax = data.query('leaving == 1').plot(\n",
    "        kind='hist',\n",
    "        y=column,\n",
    "        figsize=(8, 4),        \n",
    "        color='red',\n",
    "        bins=bins,\n",
    "        alpha=0.99,\n",
    "        label='ушедшие клиенты',\n",
    "        title=title\n",
    "    )\n",
    "    \n",
    "    data.query('leaving == 0').plot(\n",
    "        kind='hist',\n",
    "        y=column,\n",
    "        bins=bins,        \n",
    "        color='green',\n",
    "        alpha=0.3,\n",
    "        label='оставшиеся клиенты',\n",
    "        ax=ax,\n",
    "        grid=True,\n",
    "        legend=True\n",
    "    )\n",
    "    \n",
    "    ax.set_ylabel('Количество клиентов')\n",
    "    \n",
    "    plt.show()\n",
    "    \n",
    "    leave = data.query('leaving == 1')[column].describe()\n",
    "    noleave = data.query('leaving == 0')[column].describe()\n",
    "    \n",
    "    return ax, print('Ушедшие клиенты \\n', leave), print(''), print('Оставшиеся клиенты \\n', noleave)"
   ]
  },
  {
   "cell_type": "markdown",
   "id": "95243206",
   "metadata": {},
   "source": [
    "### Анализ признаков"
   ]
  },
  {
   "cell_type": "markdown",
   "id": "acc7148c",
   "metadata": {},
   "source": [
    "#### leaving - целевой признак"
   ]
  },
  {
   "cell_type": "code",
   "execution_count": 27,
   "id": "5832f329",
   "metadata": {},
   "outputs": [
    {
     "data": {
      "text/plain": [
       "leaving\n",
       "0    5942\n",
       "1    1101\n",
       "Name: customer_id, dtype: int64"
      ]
     },
     "execution_count": 27,
     "metadata": {},
     "output_type": "execute_result"
    },
    {
     "data": {
      "image/png": "[encoded data removed]",
      "text/plain": [
       "<Figure size 360x360 with 1 Axes>"
      ]
     },
     "metadata": {},
     "output_type": "display_data"
    }
   ],
   "source": [
    "x=data.groupby('leaving')['customer_id'].count()\n",
    "\n",
    "x.sort_values(ascending=False).plot(kind='pie',\n",
    "                                    figsize=(5,5),\n",
    "                                    autopct='%1.1f%%',\n",
    "                                    legend = False,\n",
    "                                    colors = ['green' if value == 0 else 'red' for value in x.index],\n",
    "                                    title = 'Соотношение ушедших клиентов к оставшимся')\n",
    "x.sort_values(ascending=False)"
   ]
  },
  {
   "cell_type": "markdown",
   "id": "fc2a1c0a",
   "metadata": {},
   "source": [
    "Ушедших клиентов в предоставленных данных относительно немного (15.6%), оставшихся подавляющее большинство (84.4%)."
   ]
  },
  {
   "cell_type": "markdown",
   "id": "f379c881",
   "metadata": {},
   "source": [
    "#### duration"
   ]
  },
  {
   "cell_type": "code",
   "execution_count": 28,
   "id": "25d2555b",
   "metadata": {},
   "outputs": [
    {
     "data": {
      "image/png": "[encoded data removed]",
      "text/plain": [
       "<Figure size 576x288 with 1 Axes>"
      ]
     },
     "metadata": {
      "needs_background": "light"
     },
     "output_type": "display_data"
    },
    {
     "name": "stdout",
     "output_type": "stream",
     "text": [
      "Ушедшие клиенты \n",
      " count    1101.000000\n",
      "mean      925.863760\n",
      "std       458.771309\n",
      "min        29.000000\n",
      "25%       578.000000\n",
      "50%       916.000000\n",
      "75%      1250.000000\n",
      "max      2130.000000\n",
      "Name: duration, dtype: float64\n",
      "\n",
      "Оставшиеся клиенты \n",
      " count    5942.000000\n",
      "mean      894.681084\n",
      "std       716.958551\n",
      "min         1.000000\n",
      "25%       246.000000\n",
      "50%       703.000000\n",
      "75%      1524.000000\n",
      "max      2315.000000\n",
      "Name: duration, dtype: float64\n"
     ]
    }
   ],
   "source": [
    "visual_num(data, column = 'duration', bins = 15, title = 'Распредение клиентов по длительности контракта');"
   ]
  },
  {
   "cell_type": "markdown",
   "id": "ce3d002c",
   "metadata": {},
   "source": [
    "Распределение ушедших клиентов близко к нормальному, с нерезко выраженным пиком в области 1000 дней.  \n",
    "Оставшиеся клиенты, напротив, либо совсем недавно пользуются услугами, либо очень давно, наблюдается \"просадка\" в средних отделах распределения."
   ]
  },
  {
   "cell_type": "markdown",
   "id": "2ce6207d",
   "metadata": {},
   "source": [
    "#### type"
   ]
  },
  {
   "cell_type": "code",
   "execution_count": 29,
   "id": "4b2075e9",
   "metadata": {},
   "outputs": [
    {
     "data": {
      "image/png": "[encoded data removed]",
      "text/plain": [
       "<Figure size 576x288 with 1 Axes>"
      ]
     },
     "metadata": {
      "needs_background": "light"
     },
     "output_type": "display_data"
    },
    {
     "name": "stdout",
     "output_type": "stream",
     "text": [
      "Ушедшие клиенты \n",
      "              type  count  percentage\n",
      "0  Month-to-month    407        37.0\n",
      "1        Two year    381        34.6\n",
      "2        One year    313        28.4\n",
      "\n",
      "Оставшиеся клиенты \n",
      "              type  count  percentage\n",
      "0  Month-to-month   3468        58.4\n",
      "1        Two year   1314        22.1\n",
      "2        One year   1160        19.5\n"
     ]
    }
   ],
   "source": [
    "visual_cat(data, column = 'type', title = 'Распределение по типам оплаты');"
   ]
  },
  {
   "cell_type": "markdown",
   "id": "19e2553d",
   "metadata": {},
   "source": [
    "Самый популярный тип оплаты у ушедших и оставшихся клиентов - ежемесячный. При этом относитльеная доля этого типа оплаты у оставшихся клиентов значительно выше по сравнению с оставшимися (58% против 37% соответственно); вероятно такое различие обусловлено новыми пользователями (наверняка новые пользователи сначала оценивают качество услуг на ежемесячной подписке, и только если их устраивают условия - они переходят на более долговременные типы подписки)."
   ]
  },
  {
   "cell_type": "markdown",
   "id": "8f394541",
   "metadata": {},
   "source": [
    "#### paperless_billing"
   ]
  },
  {
   "cell_type": "code",
   "execution_count": 30,
   "id": "05ea3464",
   "metadata": {},
   "outputs": [
    {
     "data": {
      "image/png": "[encoded data removed]",
      "text/plain": [
       "<Figure size 576x288 with 1 Axes>"
      ]
     },
     "metadata": {
      "needs_background": "light"
     },
     "output_type": "display_data"
    },
    {
     "name": "stdout",
     "output_type": "stream",
     "text": [
      "Ушедшие клиенты \n",
      "   paperless_billing  count  percentage\n",
      "0               Yes    721        65.5\n",
      "1                No    380        34.5\n",
      "\n",
      "Оставшиеся клиенты \n",
      "   paperless_billing  count  percentage\n",
      "0               Yes   3450        58.1\n",
      "1                No   2492        41.9\n"
     ]
    }
   ],
   "source": [
    "visual_cat(data, column = 'paperless_billing', title = 'Распределение по наличию электронного рассчетного листа');"
   ]
  },
  {
   "cell_type": "markdown",
   "id": "b2710ae9",
   "metadata": {},
   "source": [
    "Электронный рассчетный лист у большинства клиентов имеется (относительная доля его наличия у ушедших клиентов минимально выше (65% против 58%). "
   ]
  },
  {
   "cell_type": "markdown",
   "id": "3fdf31cc",
   "metadata": {},
   "source": [
    "#### payment_method"
   ]
  },
  {
   "cell_type": "code",
   "execution_count": 31,
   "id": "fb6e6986",
   "metadata": {},
   "outputs": [
    {
     "data": {
      "image/png": "[encoded data removed]",
      "text/plain": [
       "<Figure size 576x288 with 1 Axes>"
      ]
     },
     "metadata": {
      "needs_background": "light"
     },
     "output_type": "display_data"
    },
    {
     "name": "stdout",
     "output_type": "stream",
     "text": [
      "Ушедшие клиенты \n",
      "               payment_method  count  percentage\n",
      "0           Electronic check    350        31.8\n",
      "1  Bank transfer (automatic)    317        28.8\n",
      "2    Credit card (automatic)    317        28.8\n",
      "3               Mailed check    117        10.6\n",
      "\n",
      "Оставшиеся клиенты \n",
      "               payment_method  count  percentage\n",
      "0           Electronic check   2015        33.9\n",
      "1               Mailed check   1495        25.2\n",
      "2  Bank transfer (automatic)   1227        20.6\n",
      "3    Credit card (automatic)   1205        20.3\n"
     ]
    }
   ],
   "source": [
    "visual_cat(data, column = 'payment_method', title = 'Распределение по методу оплаты');"
   ]
  },
  {
   "cell_type": "markdown",
   "id": "509d8369",
   "metadata": {},
   "source": [
    "Самый популярный метод оплаты у ушедших и оставшихся клиентов - электронный чек.  \n",
    "Ушедние клиенты чаще по сравнению с оставшимися использовали банковский перевод (29% против 21%) и кредитные карты (29% против 20%), и реже использовали почтовый чек (11% против 25%)."
   ]
  },
  {
   "cell_type": "markdown",
   "id": "d8a91695",
   "metadata": {},
   "source": [
    "#### monthly_charges"
   ]
  },
  {
   "cell_type": "code",
   "execution_count": 32,
   "id": "8adbe44e",
   "metadata": {
    "scrolled": true
   },
   "outputs": [
    {
     "data": {
      "image/png": "[encoded data removed]",
      "text/plain": [
       "<Figure size 576x288 with 1 Axes>"
      ]
     },
     "metadata": {
      "needs_background": "light"
     },
     "output_type": "display_data"
    },
    {
     "name": "stdout",
     "output_type": "stream",
     "text": [
      "Ушедшие клиенты \n",
      " count    1101.000000\n",
      "mean       75.546004\n",
      "std        29.116213\n",
      "min        18.400000\n",
      "25%        56.150000\n",
      "50%        84.200000\n",
      "75%        99.500000\n",
      "max       118.750000\n",
      "Name: monthly_charges, dtype: float64\n",
      "\n",
      "Оставшиеся клиенты \n",
      " count    5942.000000\n",
      "mean       62.763455\n",
      "std        29.844462\n",
      "min        18.250000\n",
      "25%        30.062500\n",
      "50%        69.200000\n",
      "75%        87.237500\n",
      "max       118.600000\n",
      "Name: monthly_charges, dtype: float64\n"
     ]
    }
   ],
   "source": [
    "visual_num(data, column = 'monthly_charges', bins = 25, title = 'Распредение ежемесячных расходов');"
   ]
  },
  {
   "cell_type": "markdown",
   "id": "03affa86",
   "metadata": {},
   "source": [
    "График распределения у ушедших и оставшихся клиентов в целом схож: наблюдаются два пика значений: первый в районе 20 (у оставшихся - резко выраженный, у ушедших менее выраженный), второй в диапазоне 80-100. \n",
    "Средние и медианные значения ежемесячной оплаты выше у ушедних клиентов (средние: 76 против 63, медианные: 84 против 69)."
   ]
  },
  {
   "cell_type": "markdown",
   "id": "310e777d",
   "metadata": {},
   "source": [
    "#### total_charges"
   ]
  },
  {
   "cell_type": "code",
   "execution_count": 33,
   "id": "28bea01f",
   "metadata": {},
   "outputs": [
    {
     "data": {
      "image/png": "[encoded data removed]",
      "text/plain": [
       "<Figure size 576x288 with 1 Axes>"
      ]
     },
     "metadata": {
      "needs_background": "light"
     },
     "output_type": "display_data"
    },
    {
     "name": "stdout",
     "output_type": "stream",
     "text": [
      "Ушедшие клиенты \n",
      " count    1101.000000\n",
      "mean     2371.377275\n",
      "std      1581.862275\n",
      "min        77.840000\n",
      "25%      1048.050000\n",
      "50%      2139.030000\n",
      "75%      3404.910000\n",
      "max      7649.760000\n",
      "Name: total_charges, dtype: float64\n",
      "\n",
      "Оставшиеся клиенты \n",
      " count    5931.000000\n",
      "mean     2071.701614\n",
      "std      2194.122190\n",
      "min        19.050000\n",
      "25%       376.225000\n",
      "50%      1194.280000\n",
      "75%      3176.000000\n",
      "max      9221.380000\n",
      "Name: total_charges, dtype: float64\n"
     ]
    }
   ],
   "source": [
    "visual_num(data, column = 'total_charges', bins = 10, title = 'Распредение общих расходов');"
   ]
  },
  {
   "cell_type": "markdown",
   "id": "dbd9f321",
   "metadata": {},
   "source": [
    "Средние показатели расходов за всё время пользования у ушедших клиентов выше (2371 против 2071), также как и медианные значения (2139 против 1194)."
   ]
  },
  {
   "cell_type": "markdown",
   "id": "4f7c59b0",
   "metadata": {},
   "source": [
    "#### gender"
   ]
  },
  {
   "cell_type": "code",
   "execution_count": 34,
   "id": "7c64a1a2",
   "metadata": {},
   "outputs": [
    {
     "data": {
      "image/png": "[encoded data removed]",
      "text/plain": [
       "<Figure size 576x288 with 1 Axes>"
      ]
     },
     "metadata": {
      "needs_background": "light"
     },
     "output_type": "display_data"
    },
    {
     "name": "stdout",
     "output_type": "stream",
     "text": [
      "Ушедшие клиенты \n",
      "    gender  count  percentage\n",
      "0    Male    573        52.0\n",
      "1  Female    528        48.0\n",
      "\n",
      "Оставшиеся клиенты \n",
      "    gender  count  percentage\n",
      "0    Male   2982        50.2\n",
      "1  Female   2960        49.8\n"
     ]
    }
   ],
   "source": [
    "visual_cat(data, column = 'gender', title = 'Распределение клиентов по полу');"
   ]
  },
  {
   "cell_type": "markdown",
   "id": "443538cd",
   "metadata": {},
   "source": [
    "Как ушедшие, так и оставшиеся клиенты незначительно чаще мужчины. "
   ]
  },
  {
   "cell_type": "markdown",
   "id": "85468b02",
   "metadata": {},
   "source": [
    "#### senior_citizen"
   ]
  },
  {
   "cell_type": "code",
   "execution_count": 35,
   "id": "2d99d507",
   "metadata": {},
   "outputs": [
    {
     "data": {
      "image/png": "[encoded data removed]",
      "text/plain": [
       "<Figure size 576x288 with 1 Axes>"
      ]
     },
     "metadata": {
      "needs_background": "light"
     },
     "output_type": "display_data"
    },
    {
     "name": "stdout",
     "output_type": "stream",
     "text": [
      "Ушедшие клиенты \n",
      "    senior_citizen  count  percentage\n",
      "0               0    869        78.9\n",
      "1               1    232        21.1\n",
      "\n",
      "Оставшиеся клиенты \n",
      "    senior_citizen  count  percentage\n",
      "0               0   5032        84.7\n",
      "1               1    910        15.3\n"
     ]
    }
   ],
   "source": [
    "visual_cat(data, column = 'senior_citizen', title = 'Распределение клиентов по возрасту (является ли абонент пенсионером)');"
   ]
  },
  {
   "cell_type": "markdown",
   "id": "9636aa90",
   "metadata": {},
   "source": [
    "Доля пенсионеров среди ушедших клиентов незначитлеьно выше (21% против 15%)."
   ]
  },
  {
   "cell_type": "markdown",
   "id": "1212752a",
   "metadata": {},
   "source": [
    "#### partner"
   ]
  },
  {
   "cell_type": "code",
   "execution_count": 36,
   "id": "1ea6e452",
   "metadata": {},
   "outputs": [
    {
     "data": {
      "image/png": "[encoded data removed]",
      "text/plain": [
       "<Figure size 576x288 with 1 Axes>"
      ]
     },
     "metadata": {
      "needs_background": "light"
     },
     "output_type": "display_data"
    },
    {
     "name": "stdout",
     "output_type": "stream",
     "text": [
      "Ушедшие клиенты \n",
      "   partner  count  percentage\n",
      "0     Yes    719        65.3\n",
      "1      No    382        34.7\n",
      "\n",
      "Оставшиеся клиенты \n",
      "   partner  count  percentage\n",
      "0      No   3259        54.8\n",
      "1     Yes   2683        45.2\n"
     ]
    }
   ],
   "source": [
    "visual_cat(data, column = 'partner', title = 'Распределение клиентов по наличию партнера');"
   ]
  },
  {
   "cell_type": "markdown",
   "id": "9ef190be",
   "metadata": {},
   "source": [
    "Доля семейных пользователей среди ушедших пользователей выше (65% против 55%)."
   ]
  },
  {
   "cell_type": "markdown",
   "id": "df7d41d5",
   "metadata": {},
   "source": [
    "#### dependents"
   ]
  },
  {
   "cell_type": "code",
   "execution_count": 37,
   "id": "0992a058",
   "metadata": {},
   "outputs": [
    {
     "data": {
      "image/png": "[encoded data removed]",
      "text/plain": [
       "<Figure size 576x288 with 1 Axes>"
      ]
     },
     "metadata": {
      "needs_background": "light"
     },
     "output_type": "display_data"
    },
    {
     "name": "stdout",
     "output_type": "stream",
     "text": [
      "Ушедшие клиенты \n",
      "   dependents  count  percentage\n",
      "0         No    733        66.6\n",
      "1        Yes    368        33.4\n",
      "\n",
      "Оставшиеся клиенты \n",
      "   dependents  count  percentage\n",
      "0         No   4200        70.7\n",
      "1        Yes   1742        29.3\n"
     ]
    }
   ],
   "source": [
    "visual_cat(data, column = 'dependents', title = 'Распределение клиентов по наличию иждивенцев');"
   ]
  },
  {
   "cell_type": "markdown",
   "id": "d89ff367",
   "metadata": {},
   "source": [
    "Дети имеются примерно у трети всех клиентов (33% среди ушедших и 29% среди оставшихся)."
   ]
  },
  {
   "cell_type": "markdown",
   "id": "a857792b",
   "metadata": {},
   "source": [
    "#### internet_service"
   ]
  },
  {
   "cell_type": "code",
   "execution_count": 38,
   "id": "025b20f8",
   "metadata": {},
   "outputs": [
    {
     "data": {
      "image/png": "[encoded data removed]",
      "text/plain": [
       "<Figure size 576x288 with 1 Axes>"
      ]
     },
     "metadata": {
      "needs_background": "light"
     },
     "output_type": "display_data"
    },
    {
     "name": "stdout",
     "output_type": "stream",
     "text": [
      "Ушедшие клиенты \n",
      "   internet_service  count  percentage\n",
      "0      Fiber optic    595        54.0\n",
      "1              DSL    346        31.4\n",
      "2          no_info    160        14.5\n",
      "\n",
      "Оставшиеся клиенты \n",
      "   internet_service  count  percentage\n",
      "0      Fiber optic   2501        42.1\n",
      "1              DSL   2075        34.9\n",
      "2          no_info   1366        23.0\n"
     ]
    }
   ],
   "source": [
    "visual_cat(data, column = 'internet_service', title = 'Распределение клиентов по типу подключения');"
   ]
  },
  {
   "cell_type": "markdown",
   "id": "26cf24a1",
   "metadata": {},
   "source": [
    "Ушедшие клиенты чаще пользовались фиброволокном (54% против 42%) и реже DSL (31% против  35%)."
   ]
  },
  {
   "cell_type": "markdown",
   "id": "fb650cc5",
   "metadata": {},
   "source": [
    "#### online_security"
   ]
  },
  {
   "cell_type": "code",
   "execution_count": 39,
   "id": "c2365ef7",
   "metadata": {},
   "outputs": [
    {
     "data": {
      "image/png": "[encoded data removed]",
      "text/plain": [
       "<Figure size 576x288 with 1 Axes>"
      ]
     },
     "metadata": {
      "needs_background": "light"
     },
     "output_type": "display_data"
    },
    {
     "name": "stdout",
     "output_type": "stream",
     "text": [
      "Ушедшие клиенты \n",
      "   online_security  count  percentage\n",
      "0              No    526        47.8\n",
      "1             Yes    415        37.7\n",
      "2         no_info    160        14.5\n",
      "\n",
      "Оставшиеся клиенты \n",
      "   online_security  count  percentage\n",
      "0              No   2972        50.0\n",
      "1             Yes   1604        27.0\n",
      "2         no_info   1366        23.0\n"
     ]
    }
   ],
   "source": [
    "visual_cat(data, column = 'online_security', title = 'Распределение клиентов по наличию блокировки опасных сайтов');"
   ]
  },
  {
   "cell_type": "markdown",
   "id": "dc5bd2bc",
   "metadata": {},
   "source": [
    "Ушедшие клиенты чаще пользовались блокировкой опасных сайтов (38% против 27%)."
   ]
  },
  {
   "cell_type": "markdown",
   "id": "2a6f8bbf",
   "metadata": {},
   "source": [
    "#### online_backup"
   ]
  },
  {
   "cell_type": "code",
   "execution_count": 40,
   "id": "091a8991",
   "metadata": {},
   "outputs": [
    {
     "data": {
      "image/png": "[encoded data removed]",
      "text/plain": [
       "<Figure size 576x288 with 1 Axes>"
      ]
     },
     "metadata": {
      "needs_background": "light"
     },
     "output_type": "display_data"
    },
    {
     "name": "stdout",
     "output_type": "stream",
     "text": [
      "Ушедшие клиенты \n",
      "   online_backup  count  percentage\n",
      "0           Yes    560        50.9\n",
      "1            No    381        34.6\n",
      "2       no_info    160        14.5\n",
      "\n",
      "Оставшиеся клиенты \n",
      "   online_backup  count  percentage\n",
      "0            No   2707        45.6\n",
      "1           Yes   1869        31.5\n",
      "2       no_info   1366        23.0\n"
     ]
    }
   ],
   "source": [
    "visual_cat(data, column = 'online_backup', title = 'Распределение клиентов по наличию облачного сохранения данных');"
   ]
  },
  {
   "cell_type": "markdown",
   "id": "865c3870",
   "metadata": {},
   "source": [
    "Ушедшие клиеты значительно чаще пользовались облачным сервисом (51% против  32%)."
   ]
  },
  {
   "cell_type": "markdown",
   "id": "5d55cf9e",
   "metadata": {},
   "source": [
    "#### device_protection"
   ]
  },
  {
   "cell_type": "code",
   "execution_count": 41,
   "id": "645685db",
   "metadata": {},
   "outputs": [
    {
     "data": {
      "image/png": "[encoded data removed]",
      "text/plain": [
       "<Figure size 576x288 with 1 Axes>"
      ]
     },
     "metadata": {
      "needs_background": "light"
     },
     "output_type": "display_data"
    },
    {
     "name": "stdout",
     "output_type": "stream",
     "text": [
      "Ушедшие клиенты \n",
      "   device_protection  count  percentage\n",
      "0               Yes    550        50.0\n",
      "1                No    391        35.5\n",
      "2           no_info    160        14.5\n",
      "\n",
      "Оставшиеся клиенты \n",
      "   device_protection  count  percentage\n",
      "0                No   2704        45.5\n",
      "1               Yes   1872        31.5\n",
      "2           no_info   1366        23.0\n"
     ]
    }
   ],
   "source": [
    "visual_cat(data, column = 'device_protection', title = 'Распределение клиентов по наличию антивируса');"
   ]
  },
  {
   "cell_type": "markdown",
   "id": "efcc2d0d",
   "metadata": {},
   "source": [
    "Ушедшие клиеты значительно чаще пользовались антивирусом (50% против  32%)."
   ]
  },
  {
   "cell_type": "markdown",
   "id": "b5b39eab",
   "metadata": {},
   "source": [
    "#### tech_support"
   ]
  },
  {
   "cell_type": "code",
   "execution_count": 42,
   "id": "c4353c00",
   "metadata": {},
   "outputs": [
    {
     "data": {
      "image/png": "[encoded data removed]",
      "text/plain": [
       "<Figure size 576x288 with 1 Axes>"
      ]
     },
     "metadata": {
      "needs_background": "light"
     },
     "output_type": "display_data"
    },
    {
     "name": "stdout",
     "output_type": "stream",
     "text": [
      "Ушедшие клиенты \n",
      "   tech_support  count  percentage\n",
      "0           No    543        49.3\n",
      "1          Yes    398        36.1\n",
      "2      no_info    160        14.5\n",
      "\n",
      "Оставшиеся клиенты \n",
      "   tech_support  count  percentage\n",
      "0           No   2930        49.3\n",
      "1          Yes   1646        27.7\n",
      "2      no_info   1366        23.0\n"
     ]
    }
   ],
   "source": [
    "visual_cat(data, column = 'tech_support', title = 'Распределение клиентов по наличию техподдержки');"
   ]
  },
  {
   "cell_type": "markdown",
   "id": "4fefc5bd",
   "metadata": {},
   "source": [
    "Процент пользования технической поддержкой среди ушедших клиентов несколько выше (36% против 28%)."
   ]
  },
  {
   "cell_type": "markdown",
   "id": "59ba2780",
   "metadata": {},
   "source": [
    "#### streaming_tv"
   ]
  },
  {
   "cell_type": "code",
   "execution_count": 43,
   "id": "fb57ed2e",
   "metadata": {},
   "outputs": [
    {
     "data": {
      "image/png": "[encoded data removed]",
      "text/plain": [
       "<Figure size 576x288 with 1 Axes>"
      ]
     },
     "metadata": {
      "needs_background": "light"
     },
     "output_type": "display_data"
    },
    {
     "name": "stdout",
     "output_type": "stream",
     "text": [
      "Ушедшие клиенты \n",
      "   streaming_tv  count  percentage\n",
      "0          Yes    584        53.0\n",
      "1           No    357        32.4\n",
      "2      no_info    160        14.5\n",
      "\n",
      "Оставшиеся клиенты \n",
      "   streaming_tv  count  percentage\n",
      "0           No   2453        41.3\n",
      "1          Yes   2123        35.7\n",
      "2      no_info   1366        23.0\n"
     ]
    }
   ],
   "source": [
    "visual_cat(data, column = 'streaming_tv', title = 'Распределение клиентов по наличию стримингового телевидения');"
   ]
  },
  {
   "cell_type": "markdown",
   "id": "3db23582",
   "metadata": {},
   "source": [
    "Ушедшие клиеты значительно чаще пользовались стриминговым ТВ (53% против  36%)."
   ]
  },
  {
   "cell_type": "markdown",
   "id": "98426171",
   "metadata": {},
   "source": [
    "#### streaming_movies"
   ]
  },
  {
   "cell_type": "code",
   "execution_count": 44,
   "id": "cd2a685c",
   "metadata": {},
   "outputs": [
    {
     "data": {
      "image/png": "[encoded data removed]",
      "text/plain": [
       "<Figure size 576x288 with 1 Axes>"
      ]
     },
     "metadata": {
      "needs_background": "light"
     },
     "output_type": "display_data"
    },
    {
     "name": "stdout",
     "output_type": "stream",
     "text": [
      "Ушедшие клиенты \n",
      "   streaming_movies  count  percentage\n",
      "0              Yes    606        55.0\n",
      "1               No    335        30.4\n",
      "2          no_info    160        14.5\n",
      "\n",
      "Оставшиеся клиенты \n",
      "   streaming_movies  count  percentage\n",
      "0               No   2450        41.2\n",
      "1              Yes   2126        35.8\n",
      "2          no_info   1366        23.0\n"
     ]
    }
   ],
   "source": [
    "visual_cat(data, column = 'streaming_movies', title = 'Распределение клиентов по наличию каталога фильмов');"
   ]
  },
  {
   "cell_type": "markdown",
   "id": "dc66570a",
   "metadata": {},
   "source": [
    "Ушедшие клиеты значительно чаще пользовались каталогом фильмов (55% против 36%)."
   ]
  },
  {
   "cell_type": "markdown",
   "id": "21f6c15f",
   "metadata": {},
   "source": [
    "#### multiple_lines"
   ]
  },
  {
   "cell_type": "code",
   "execution_count": 45,
   "id": "2b45dd6c",
   "metadata": {
    "scrolled": true
   },
   "outputs": [
    {
     "data": {
      "image/png": "[encoded data removed]",
      "text/plain": [
       "<Figure size 576x288 with 1 Axes>"
      ]
     },
     "metadata": {
      "needs_background": "light"
     },
     "output_type": "display_data"
    },
    {
     "name": "stdout",
     "output_type": "stream",
     "text": [
      "Ушедшие клиенты \n",
      "   multiple_lines  count  percentage\n",
      "0            Yes    678        61.6\n",
      "1             No    320        29.1\n",
      "2        no_info    103         9.4\n",
      "\n",
      "Оставшиеся клиенты \n",
      "   multiple_lines  count  percentage\n",
      "0             No   3070        51.7\n",
      "1            Yes   2293        38.6\n",
      "2        no_info    579         9.7\n"
     ]
    }
   ],
   "source": [
    "visual_cat(data, column = 'multiple_lines', title = 'Распределение клиентов по наличию подключения телефона к нескольким линиям одновременно');"
   ]
  },
  {
   "cell_type": "markdown",
   "id": "8a1c6edd",
   "metadata": {},
   "source": [
    "Ушедшие клиеты значительно чаще были подключены к нескольким телефонным линиям (62% против 39%)."
   ]
  },
  {
   "cell_type": "markdown",
   "id": "c63b4e22",
   "metadata": {},
   "source": [
    "#### Выводы по признакам"
   ]
  },
  {
   "cell_type": "markdown",
   "id": "ede840b4",
   "metadata": {},
   "source": [
    "Доля ушедших клиентов в выборке составляет 15.6%.  \n",
    "В среднем клиенты уходят через 900 дней пользования (2,5 года).  \n",
    "Ушедние клиенты чаще по сравнению с оставшимися использовали банковский перевод (29% против 21%) и кредитные карты (29% против 20%), и реже использовали почтовый чек (11% против 25%).  \n",
    "\n",
    "Средние и медианные значения ежемесячной оплаты, а также расходов за всё время выше у ушедних клиентов.\n",
    "\n",
    "Доля семейных пользователей среди ушедших пользователей выше (65% против 55%). \n",
    "\n",
    "Ушедшие клиенты чаще пользовались фиброволокном (54% против 42%) и реже DSL (31% против 35%).  \n",
    "Ушедшие клиенты чаще пользовались блокировкой опасных сайтов, облачным сервисом, антивирусом, технической поддержкой, стриминговым ТВ с каталогом фильмов, а также чаще были подключены с нескольким телефонным линиям. \n",
    "\n",
    "Можно предположить, что:\n",
    "- ушедшие клиенты более технически подкованы (т.к. доля использующих почтовый чек среди оставшихся клиентов сильно выше, для таких клиентов любой интернет - чудо, поэтому они и реже уходят);\n",
    "- ушедших клиентов не устраивало качество предоставляемых дополнительных платных услуг (доля таких услуг значительно выше у ушедших клиентов, как и их среднемесячные и совокупные расходы), что в частности заметно среди семейных пар, более осознанно подходящих к решению таких вопросов (одна голова хорошо, а две - лучше)."
   ]
  },
  {
   "cell_type": "markdown",
   "id": "5d2cb849",
   "metadata": {},
   "source": [
    "### Корреляционная матрица"
   ]
  },
  {
   "cell_type": "code",
   "execution_count": 46,
   "id": "c1b6a1ce",
   "metadata": {
    "scrolled": true
   },
   "outputs": [
    {
     "data": {
      "image/png": "[encoded data removed]",
      "text/plain": [
       "<Figure size 1080x1080 with 2 Axes>"
      ]
     },
     "metadata": {
      "needs_background": "light"
     },
     "output_type": "display_data"
    }
   ],
   "source": [
    "interval_cols = ['duration', 'monthly_charges', 'total_charges']\n",
    "\n",
    "phik_overview = data.drop('customer_id', axis=1).phik_matrix(interval_cols=interval_cols) \n",
    "\n",
    "plot_correlation_matrix(phik_overview.values, \n",
    "                        x_labels=phik_overview.columns, \n",
    "                        y_labels=phik_overview.index, \n",
    "                        vmin=0, vmax=1, color_map=\"Greens\", \n",
    "                        title=r\"Корреляция $\\phi_K$\", \n",
    "                        fontsize_factor=1.5, \n",
    "                        figsize=(15, 15))\n",
    "plt.tight_layout()"
   ]
  },
  {
   "cell_type": "markdown",
   "id": "33f6a8d7",
   "metadata": {},
   "source": [
    "По корреляционной матрице можно заметить, что у нашего целевого признака `leaving` отмечается нерезкая прямая корреляция с признаками:  \n",
    "- `duration` (длительность контракта)- 0.37,  \n",
    "- `total_charges` (совокупные расходы) - 0.3,  \n",
    "- `monthly_charges` (ежемесячные расходы) - 0.23,  \n",
    "- `partner` (наличие партнера) - 0.23,\n",
    "- `payment_method` (способ оплаты) - 0.21.  \n",
    "\n",
    "Остальные признаки показывают низкие коэффициенты прямой корреляции, с самым низким у признака `gender` (пол  клиента) - 0.01.\n",
    "\n",
    "\n",
    "Отмечается выраженная мультиколлинеарность (0.94-0.97) между признаками, отражающими дополнительные платные услуги (`tech_support`, `online_backup`, `online_security`, `device_protection`, `streaming_tv`, `streaming_movies`)."
   ]
  },
  {
   "cell_type": "markdown",
   "id": "ad90e746",
   "metadata": {},
   "source": [
    "## Обучение моделей"
   ]
  },
  {
   "cell_type": "markdown",
   "id": "30bea47a",
   "metadata": {},
   "source": [
    "### Подготовка данных"
   ]
  },
  {
   "cell_type": "code",
   "execution_count": 47,
   "id": "4308892a",
   "metadata": {},
   "outputs": [],
   "source": [
    "data.dropna(inplace=True)"
   ]
  },
  {
   "cell_type": "markdown",
   "id": "be21f927",
   "metadata": {},
   "source": [
    "Уберем оставшиеся пропуски (это 11 строк с пропусками в столбце общих расходов) - это незначительная часть данных, можем смело убрать.  \n",
    "\n",
    "Также можем убрать незначительный (по корреляции с целевым) признак `gender`. Также из списка признаков с высокой мультиколлинеарностью (tech_support', 'online_backup', 'online_security', 'device_protection', 'streaming_tv', 'streaming_movies') оставим один `streaming_movies`."
   ]
  },
  {
   "cell_type": "code",
   "execution_count": 48,
   "id": "72f12b8a",
   "metadata": {},
   "outputs": [],
   "source": [
    "RANDOM_STATE = 70425\n",
    "TEST_SIZE = 0.25\n",
    "\n",
    "X = data.drop(['leaving', 'customer_id', 'gender', 'tech_support',\n",
    "               'online_backup', 'online_security', 'device_protection',\n",
    "               'streaming_tv'], axis=1)\n",
    "y = data['leaving']\n",
    "\n",
    "X_train, X_test, y_train, y_test = train_test_split(X, y, random_state = RANDOM_STATE, test_size = TEST_SIZE, stratify = y)"
   ]
  },
  {
   "cell_type": "code",
   "execution_count": 49,
   "id": "bc59e847",
   "metadata": {},
   "outputs": [],
   "source": [
    "ohe_columns = ['type', 'paperless_billing', 'payment_method',\n",
    "       'senior_citizen', 'partner', 'internet_service', \n",
    "       'streaming_movies', 'multiple_lines', 'dependents']\n",
    "\n",
    "num_columns = ['monthly_charges', 'total_charges', 'duration']"
   ]
  },
  {
   "cell_type": "code",
   "execution_count": 50,
   "id": "ea122225",
   "metadata": {},
   "outputs": [],
   "source": [
    "data_preprocessor = ColumnTransformer(transformers=[\n",
    "    ('ohe', OneHotEncoder(drop='first', handle_unknown='error'), ohe_columns),\n",
    "    ('num', StandardScaler(), num_columns)], \n",
    "    remainder='passthrough'\n",
    ")"
   ]
  },
  {
   "cell_type": "markdown",
   "id": "2aa9e913",
   "metadata": {},
   "source": [
    "### LogisticRegression"
   ]
  },
  {
   "cell_type": "code",
   "execution_count": 51,
   "id": "973f4f71",
   "metadata": {},
   "outputs": [
    {
     "name": "stdout",
     "output_type": "stream",
     "text": [
      "Лучшая модель и её параметры:\n",
      "\n",
      " Pipeline(steps=[('preprocessor',\n",
      "                 ColumnTransformer(remainder='passthrough',\n",
      "                                   transformers=[('ohe',\n",
      "                                                  OneHotEncoder(drop='first'),\n",
      "                                                  ['type', 'paperless_billing',\n",
      "                                                   'payment_method',\n",
      "                                                   'senior_citizen', 'partner',\n",
      "                                                   'internet_service',\n",
      "                                                   'streaming_movies',\n",
      "                                                   'multiple_lines',\n",
      "                                                   'dependents']),\n",
      "                                                 ('num', MinMaxScaler(),\n",
      "                                                  ['monthly_charges',\n",
      "                                                   'total_charges',\n",
      "                                                   'duration'])])),\n",
      "                ('models',\n",
      "                 LogisticRegression(C=5, class_weight='balanced', penalty='l1',\n",
      "                                    random_state=70425, solver='liblinear'))])\n",
      "Метрика ROC-AUC лучшей модели : 0.7655218683337202\n"
     ]
    }
   ],
   "source": [
    "pipe_final = Pipeline([('preprocessor', data_preprocessor),\n",
    "                       ('models', LogisticRegression(random_state=RANDOM_STATE))])\n",
    "\n",
    "param_grid = [{'models': [LogisticRegression(random_state=RANDOM_STATE,\n",
    "                                             class_weight='balanced',\n",
    "                                             solver='liblinear')],\n",
    "               'models__C': [1, 3, 5, 7],  \n",
    "               'models__penalty': ['l1', 'l2'],\n",
    "               'preprocessor__num': [StandardScaler(), MinMaxScaler(), 'passthrough'],\n",
    "              }]\n",
    "\n",
    "grid_lr = GridSearchCV(\n",
    "    pipe_final, \n",
    "    param_grid, \n",
    "    cv=5,\n",
    "    scoring='roc_auc',\n",
    "    n_jobs=-1)\n",
    "\n",
    "grid_lr.fit(X_train, y_train)\n",
    "\n",
    "print('Лучшая модель и её параметры:\\n\\n', grid_lr.best_estimator_)\n",
    "print ('Метрика ROC-AUC лучшей модели :', grid_lr.best_score_)"
   ]
  },
  {
   "cell_type": "markdown",
   "id": "d26857cd",
   "metadata": {},
   "source": [
    "### DecisionTreeClassifier"
   ]
  },
  {
   "cell_type": "code",
   "execution_count": 52,
   "id": "f6fde798",
   "metadata": {},
   "outputs": [
    {
     "name": "stdout",
     "output_type": "stream",
     "text": [
      "Лучшая модель и её параметры:\n",
      "\n",
      " Pipeline(steps=[('preprocessor',\n",
      "                 ColumnTransformer(remainder='passthrough',\n",
      "                                   transformers=[('ohe',\n",
      "                                                  OneHotEncoder(drop='first'),\n",
      "                                                  ['type', 'paperless_billing',\n",
      "                                                   'payment_method',\n",
      "                                                   'senior_citizen', 'partner',\n",
      "                                                   'internet_service',\n",
      "                                                   'streaming_movies',\n",
      "                                                   'multiple_lines',\n",
      "                                                   'dependents']),\n",
      "                                                 ('num', MinMaxScaler(),\n",
      "                                                  ['monthly_charges',\n",
      "                                                   'total_charges',\n",
      "                                                   'duration'])])),\n",
      "                ('models',\n",
      "                 DecisionTreeClassifier(max_depth=7, max_features=9,\n",
      "                                        random_state=70425))])\n",
      "Метрика ROC-AUC лучшей модели : 0.7778229421360481\n"
     ]
    }
   ],
   "source": [
    "pipe_final = Pipeline([\n",
    "    ('preprocessor', data_preprocessor),\n",
    "    ('models', DecisionTreeClassifier(random_state=RANDOM_STATE))])\n",
    "\n",
    "param_grid = [{'models': [DecisionTreeClassifier(random_state=RANDOM_STATE)],\n",
    "               'models__max_depth': [3, 5, 7, 9, 11, 15],\n",
    "               'models__max_features': range(2, 10),\n",
    "               'preprocessor__num': [StandardScaler(), MinMaxScaler(), 'passthrough']\n",
    "              }]\n",
    "\n",
    "grid_dtc = GridSearchCV(\n",
    "    pipe_final, \n",
    "    param_grid, \n",
    "    cv=5,\n",
    "    scoring='roc_auc',\n",
    "    n_jobs=-1)\n",
    "\n",
    "grid_dtc.fit(X_train, y_train)\n",
    "\n",
    "print('Лучшая модель и её параметры:\\n\\n', grid_dtc.best_estimator_)\n",
    "print ('Метрика ROC-AUC лучшей модели :', grid_dtc.best_score_)"
   ]
  },
  {
   "cell_type": "markdown",
   "id": "a75e76a0",
   "metadata": {},
   "source": [
    "### CatBoostClassifier"
   ]
  },
  {
   "cell_type": "code",
   "execution_count": 53,
   "id": "d85ba0f1",
   "metadata": {},
   "outputs": [
    {
     "name": "stdout",
     "output_type": "stream",
     "text": [
      "Параметры лучшей модели\n",
      " {'model__depth': 2, 'model__l2_leaf_reg': 1, 'model__learning_rate': 0.2, 'model__n_estimators': 1000}\n",
      "Метрика ROC-AUC лучшей модели : 0.9311709391790787\n"
     ]
    }
   ],
   "source": [
    "pipeline_cat = Pipeline([\n",
    "    ('preprocessor', data_preprocessor),\n",
    "    ('model', CatBoostClassifier(silent = True, random_state=RANDOM_STATE))\n",
    "])\n",
    "\n",
    "param_grid_cat = {\n",
    "    'model__depth': range(2, 6),\n",
    "    'model__learning_rate': [0.2, 0.25, 0.5],    \n",
    "    'model__n_estimators': [500, 1000],\n",
    "    'model__l2_leaf_reg': [1, 3, 5, 7]  \n",
    "}\n",
    "\n",
    "grid_cat = GridSearchCV(\n",
    "    pipeline_cat, \n",
    "    param_grid_cat, \n",
    "    cv=5,\n",
    "    scoring='roc_auc',\n",
    "    n_jobs=-1)\n",
    "\n",
    "grid_cat.fit(X_train, y_train)\n",
    "\n",
    "print('Параметры лучшей модели\\n', grid_cat.best_params_)\n",
    "print ('Метрика ROC-AUC лучшей модели :', grid_cat.best_score_)"
   ]
  },
  {
   "cell_type": "markdown",
   "id": "e09f873e",
   "metadata": {},
   "source": [
    "По итогам перебора гиперпараметров, была получена лучшая модель `CatBoostClassifier` с параметрами `{'model__depth': 2, 'model__l2_leaf_reg': 1, 'model__learning_rate': 0.2, 'model__n_estimators': 1000}` с метрикой ROC_AUC на кросс-валидации: 93.1 "
   ]
  },
  {
   "cell_type": "markdown",
   "id": "29d60558",
   "metadata": {},
   "source": [
    "## Тестирование лучшей модели."
   ]
  },
  {
   "cell_type": "markdown",
   "id": "8ac762d2",
   "metadata": {},
   "source": [
    "Оценим нашу лучшую модель на тестовой выборке."
   ]
  },
  {
   "cell_type": "code",
   "execution_count": 54,
   "id": "87951b6c",
   "metadata": {},
   "outputs": [
    {
     "name": "stdout",
     "output_type": "stream",
     "text": [
      "Метрика ROC-AUC лучшей модели на тестовой выборке: 0.9337890026359345\n"
     ]
    }
   ],
   "source": [
    "predictions_proba = grid_cat.best_estimator_.predict_proba(X_test)[:, 1]\n",
    "roc_auc = roc_auc_score(y_test, predictions_proba)\n",
    "\n",
    "print ('Метрика ROC-AUC лучшей модели на тестовой выборке:', roc_auc)"
   ]
  },
  {
   "cell_type": "markdown",
   "id": "2407516f",
   "metadata": {},
   "source": [
    "Полученный результат (0.93) удовлетворяет требованию заказчика (>0.85)."
   ]
  },
  {
   "cell_type": "code",
   "execution_count": 67,
   "id": "3642aba2",
   "metadata": {},
   "outputs": [
    {
     "data": {
      "image/png": "[encoded data removed]",
      "text/plain": [
       "<Figure size 720x576 with 1 Axes>"
      ]
     },
     "metadata": {
      "needs_background": "light"
     },
     "output_type": "display_data"
    }
   ],
   "source": [
    "imp_df = pd.DataFrame({\n",
    "        'Признак': grid_cat.best_estimator_[:-1].get_feature_names_out(),\n",
    "        'Важность': grid_cat.best_estimator_[-1].feature_importances_}).sort_values(by='Важность', ascending=False)\n",
    "\n",
    "plt.figure(figsize=(10, 8))\n",
    "plt.barh(imp_df['Признак'], imp_df['Важность'])\n",
    "plt.title(f'Важность признаков')\n",
    "plt.gca().invert_yaxis()\n",
    "plt.show()"
   ]
  },
  {
   "cell_type": "markdown",
   "id": "8fdc8cc0",
   "metadata": {},
   "source": [
    "С большм отрывом лидирует признак `duration`, отражающий длительность контракта клиента; затем ожидаемое 2-е и 3-е места по важности занимают  расходы за всё время `total_charges` и с небольшим отрывом ежемесячные расходы `monthly_charges`. Остальные признаки сильно уступают в важности.   \n",
    "\n",
    "При необходимости можно было бы попробовать убрать малозначимые признаки и посмотреть как отреагирует целевая метрика."
   ]
  },
  {
   "cell_type": "markdown",
   "id": "37e02fce",
   "metadata": {},
   "source": [
    "## Общий вывод и рекомендации заказчику."
   ]
  },
  {
   "cell_type": "markdown",
   "id": "c2044acb",
   "metadata": {},
   "source": [
    "Перед нами была поставлена задача научиться предсказывать отток клиентов компании «ТелеДом».  \n",
    "Были предоставлены данные из четырех датасетов, описывающие в общей сложности более 7 тысяч клиентов.\n",
    "\n",
    "Была проведена проектная работа в виде:\n",
    "- предобработки данных (приведение табличных значений в нужные типы данный, переименование столбцов, заполнение пропусков);  \n",
    "- выделения целевого признака (`leaving`), отражающего расторг ли клиент контракт), а также дополнительного признака (`duration`), отражающего продолжительность обслуживания клиента в днях;  \n",
    "- формирования из предоставленных 4-х таблиц одной общей таблицы;  \n",
    "- исследовательского анализа всех признаков (в сравнении ушедших клиентов с оставшимися);\n",
    "- построения корреляционной матрицы и отбора признаков для машинного обучения; \n",
    "- обучения (с перебором различных гиперпараметров) трех алгоритмов машинного обучения LogisticRegression, DesicionTreeClassifier и CatBoostClassifier; выделения лучшей модели (`CatBoostClassifier` с параметрами `{'model__depth': 2, 'model__l2_leaf_reg': 1, 'model__learning_rate': 0.2, 'model__n_estimators': 1000}`) и её успешного тестирования (метрика ROC-AUC = 0.93, при необходимом значении 0.85).\n",
    "\n",
    "В ходе машинного обучения самыми важными признаками при предсказании оттока клиентов оказались признак `duration`, отражающий длительность контракта клиента (значительно более важный по сравнению с остальными); расходы за всё время `total_charges` и ежемесячные расходы `monthly_charges`. Остальные признаки сильно уступают в важности, однако недооценивать их не стоит. В частности при проведении исследовательского анализа был сформирован портрет ушедших клиентов:\n",
    "- это люди чаще пользующиеся дополнительными платными услугами (доля таких услуг значительно выше у ушедших клиентов, как и их среднемесячные и совокупные расходы по сравнению с оставшимися).  \n",
    "- ушедшие клиенты более технически подкованы (т.к. отдают предпочтение современным методам оплаты);   \n",
    "- также это чаще семейные люди.  \n",
    "\n",
    "Можно порекомендовать заказчику проверить (и при возможности учучшить) качество предоставляемых доп.услуг.\n",
    "Также для улучшения качества модели машинного обучения, можно порекомендовать более тщательный (в предоставленных сейчас данных было много пропусков), а также более подробный сбор информации о клиенте (такие признаки как возраст и место жительства, могут сильно помочь)."
   ]
  }
 ],
 "metadata": {
  "ExecuteTimeLog": [
   {
    "duration": 45,
    "start_time": "2025-04-07T17:23:44.428Z"
   },
   {
    "duration": 411,
    "start_time": "2025-04-07T17:23:46.736Z"
   },
   {
    "duration": 29,
    "start_time": "2025-04-07T17:23:47.668Z"
   },
   {
    "duration": 41,
    "start_time": "2025-04-07T17:23:55.657Z"
   },
   {
    "duration": 38,
    "start_time": "2025-04-07T17:24:54.231Z"
   },
   {
    "duration": 32,
    "start_time": "2025-04-07T17:24:55.454Z"
   },
   {
    "duration": 22,
    "start_time": "2025-04-07T17:24:57.994Z"
   },
   {
    "duration": 414,
    "start_time": "2025-04-11T10:24:43.440Z"
   },
   {
    "duration": 84,
    "start_time": "2025-04-11T10:24:45.021Z"
   },
   {
    "duration": 20,
    "start_time": "2025-04-11T10:26:06.506Z"
   },
   {
    "duration": 39,
    "start_time": "2025-04-11T10:26:40.176Z"
   },
   {
    "duration": 81,
    "start_time": "2025-04-11T10:28:19.852Z"
   },
   {
    "duration": 32,
    "start_time": "2025-04-11T10:28:33.822Z"
   },
   {
    "duration": 21,
    "start_time": "2025-04-11T10:28:45.294Z"
   },
   {
    "duration": 72,
    "start_time": "2025-04-11T10:29:03.957Z"
   },
   {
    "duration": 24,
    "start_time": "2025-04-11T10:29:16.543Z"
   },
   {
    "duration": 27,
    "start_time": "2025-04-11T10:30:00.699Z"
   },
   {
    "duration": 24,
    "start_time": "2025-04-11T10:31:20.878Z"
   },
   {
    "duration": 23,
    "start_time": "2025-04-11T10:31:45.942Z"
   },
   {
    "duration": 30,
    "start_time": "2025-04-11T10:38:56.820Z"
   },
   {
    "duration": 35,
    "start_time": "2025-04-11T10:39:10.936Z"
   },
   {
    "duration": 13,
    "start_time": "2025-04-11T10:39:36.975Z"
   },
   {
    "duration": 10,
    "start_time": "2025-04-11T10:40:48.472Z"
   },
   {
    "duration": 12,
    "start_time": "2025-04-11T10:41:00.623Z"
   },
   {
    "duration": 10,
    "start_time": "2025-04-11T10:41:11.527Z"
   },
   {
    "duration": 13,
    "start_time": "2025-04-11T10:41:20.370Z"
   },
   {
    "duration": 9,
    "start_time": "2025-04-11T10:41:37.209Z"
   },
   {
    "duration": 11,
    "start_time": "2025-04-11T10:43:00.524Z"
   },
   {
    "duration": 11,
    "start_time": "2025-04-11T10:45:23.197Z"
   },
   {
    "duration": 11,
    "start_time": "2025-04-11T10:45:25.375Z"
   },
   {
    "duration": 11,
    "start_time": "2025-04-11T10:45:26.819Z"
   },
   {
    "duration": 6,
    "start_time": "2025-04-11T11:18:56.659Z"
   },
   {
    "duration": 13,
    "start_time": "2025-04-11T11:19:15.519Z"
   },
   {
    "duration": 13,
    "start_time": "2025-04-11T11:19:37.997Z"
   },
   {
    "duration": 13,
    "start_time": "2025-04-11T11:20:12.731Z"
   },
   {
    "duration": 13,
    "start_time": "2025-04-11T11:42:54.402Z"
   },
   {
    "duration": 2,
    "start_time": "2025-04-11T11:43:01.353Z"
   },
   {
    "duration": 13,
    "start_time": "2025-04-11T11:43:03.541Z"
   },
   {
    "duration": 16,
    "start_time": "2025-04-11T11:45:40.790Z"
   },
   {
    "duration": 8,
    "start_time": "2025-04-11T11:49:03.109Z"
   },
   {
    "duration": 19,
    "start_time": "2025-04-11T11:49:11.051Z"
   },
   {
    "duration": 19,
    "start_time": "2025-04-11T11:49:16.430Z"
   },
   {
    "duration": 20,
    "start_time": "2025-04-11T11:49:19.929Z"
   },
   {
    "duration": 12,
    "start_time": "2025-04-11T11:49:43.712Z"
   },
   {
    "duration": 452,
    "start_time": "2025-04-11T11:53:57.843Z"
   },
   {
    "duration": 89,
    "start_time": "2025-04-11T11:53:58.297Z"
   },
   {
    "duration": 15,
    "start_time": "2025-04-11T11:53:58.388Z"
   },
   {
    "duration": 10,
    "start_time": "2025-04-11T11:53:58.405Z"
   },
   {
    "duration": 18,
    "start_time": "2025-04-11T11:53:58.418Z"
   },
   {
    "duration": 12,
    "start_time": "2025-04-11T11:53:58.438Z"
   },
   {
    "duration": 20,
    "start_time": "2025-04-11T11:53:58.452Z"
   },
   {
    "duration": 9,
    "start_time": "2025-04-11T11:53:58.474Z"
   },
   {
    "duration": 12,
    "start_time": "2025-04-11T11:53:58.484Z"
   },
   {
    "duration": 9,
    "start_time": "2025-04-11T11:53:58.498Z"
   },
   {
    "duration": 10,
    "start_time": "2025-04-11T11:53:58.508Z"
   },
   {
    "duration": 53,
    "start_time": "2025-04-11T11:53:58.520Z"
   },
   {
    "duration": 10,
    "start_time": "2025-04-11T11:53:58.574Z"
   },
   {
    "duration": 7,
    "start_time": "2025-04-11T11:53:58.587Z"
   },
   {
    "duration": 20,
    "start_time": "2025-04-11T11:53:58.596Z"
   },
   {
    "duration": 395,
    "start_time": "2025-04-11T11:54:43.912Z"
   },
   {
    "duration": 101,
    "start_time": "2025-04-11T11:54:44.308Z"
   },
   {
    "duration": 16,
    "start_time": "2025-04-11T11:54:44.411Z"
   },
   {
    "duration": 20,
    "start_time": "2025-04-11T11:54:44.428Z"
   },
   {
    "duration": 20,
    "start_time": "2025-04-11T11:54:44.450Z"
   },
   {
    "duration": 13,
    "start_time": "2025-04-11T11:54:44.472Z"
   },
   {
    "duration": 12,
    "start_time": "2025-04-11T11:54:44.487Z"
   },
   {
    "duration": 10,
    "start_time": "2025-04-11T11:54:44.501Z"
   },
   {
    "duration": 51,
    "start_time": "2025-04-11T11:54:44.512Z"
   },
   {
    "duration": 10,
    "start_time": "2025-04-11T11:54:44.565Z"
   },
   {
    "duration": 12,
    "start_time": "2025-04-11T11:54:44.576Z"
   },
   {
    "duration": 10,
    "start_time": "2025-04-11T11:54:44.590Z"
   },
   {
    "duration": 20,
    "start_time": "2025-04-11T11:54:44.602Z"
   },
   {
    "duration": 7,
    "start_time": "2025-04-11T11:54:44.625Z"
   },
   {
    "duration": 44,
    "start_time": "2025-04-11T11:54:44.633Z"
   },
   {
    "duration": 67,
    "start_time": "2025-04-11T11:55:14.414Z"
   },
   {
    "duration": 22,
    "start_time": "2025-04-11T11:55:22.038Z"
   },
   {
    "duration": 17,
    "start_time": "2025-04-11T11:55:33.654Z"
   },
   {
    "duration": 12,
    "start_time": "2025-04-11T11:57:29.891Z"
   },
   {
    "duration": 8,
    "start_time": "2025-04-11T11:57:29.904Z"
   },
   {
    "duration": 9,
    "start_time": "2025-04-11T11:57:29.914Z"
   },
   {
    "duration": 16,
    "start_time": "2025-04-11T11:57:29.925Z"
   },
   {
    "duration": 34,
    "start_time": "2025-04-11T11:57:29.943Z"
   },
   {
    "duration": 7,
    "start_time": "2025-04-11T11:57:29.979Z"
   },
   {
    "duration": 19,
    "start_time": "2025-04-11T11:57:29.988Z"
   },
   {
    "duration": 385,
    "start_time": "2025-04-11T11:59:15.100Z"
   },
   {
    "duration": 87,
    "start_time": "2025-04-11T11:59:15.487Z"
   },
   {
    "duration": 14,
    "start_time": "2025-04-11T11:59:15.575Z"
   },
   {
    "duration": 9,
    "start_time": "2025-04-11T11:59:15.591Z"
   },
   {
    "duration": 19,
    "start_time": "2025-04-11T11:59:15.603Z"
   },
   {
    "duration": 12,
    "start_time": "2025-04-11T11:59:15.624Z"
   },
   {
    "duration": 34,
    "start_time": "2025-04-11T11:59:15.637Z"
   },
   {
    "duration": 8,
    "start_time": "2025-04-11T11:59:15.672Z"
   },
   {
    "duration": 12,
    "start_time": "2025-04-11T11:59:15.682Z"
   },
   {
    "duration": 10,
    "start_time": "2025-04-11T11:59:15.695Z"
   },
   {
    "duration": 10,
    "start_time": "2025-04-11T11:59:15.706Z"
   },
   {
    "duration": 11,
    "start_time": "2025-04-11T11:59:15.717Z"
   },
   {
    "duration": 47,
    "start_time": "2025-04-11T11:59:15.729Z"
   },
   {
    "duration": 6,
    "start_time": "2025-04-11T11:59:15.779Z"
   },
   {
    "duration": 19,
    "start_time": "2025-04-11T11:59:15.787Z"
   },
   {
    "duration": 384,
    "start_time": "2025-04-11T11:59:40.103Z"
   },
   {
    "duration": 85,
    "start_time": "2025-04-11T11:59:40.489Z"
   },
   {
    "duration": 13,
    "start_time": "2025-04-11T11:59:40.576Z"
   },
   {
    "duration": 30,
    "start_time": "2025-04-11T11:59:40.591Z"
   },
   {
    "duration": 17,
    "start_time": "2025-04-11T11:59:40.623Z"
   },
   {
    "duration": 11,
    "start_time": "2025-04-11T11:59:40.642Z"
   },
   {
    "duration": 11,
    "start_time": "2025-04-11T11:59:40.654Z"
   },
   {
    "duration": 8,
    "start_time": "2025-04-11T11:59:40.671Z"
   },
   {
    "duration": 11,
    "start_time": "2025-04-11T11:59:40.680Z"
   },
   {
    "duration": 7,
    "start_time": "2025-04-11T11:59:40.693Z"
   },
   {
    "duration": 9,
    "start_time": "2025-04-11T11:59:40.701Z"
   },
   {
    "duration": 9,
    "start_time": "2025-04-11T11:59:40.712Z"
   },
   {
    "duration": 49,
    "start_time": "2025-04-11T11:59:40.722Z"
   },
   {
    "duration": 8,
    "start_time": "2025-04-11T11:59:40.772Z"
   },
   {
    "duration": 20,
    "start_time": "2025-04-11T11:59:40.781Z"
   },
   {
    "duration": 16,
    "start_time": "2025-04-11T11:59:52.980Z"
   },
   {
    "duration": 17,
    "start_time": "2025-04-11T12:00:02.391Z"
   },
   {
    "duration": 13,
    "start_time": "2025-04-11T12:00:52.253Z"
   },
   {
    "duration": 18,
    "start_time": "2025-04-11T12:01:00.707Z"
   },
   {
    "duration": 374,
    "start_time": "2025-04-11T12:01:07.530Z"
   },
   {
    "duration": 98,
    "start_time": "2025-04-11T12:01:07.906Z"
   },
   {
    "duration": 14,
    "start_time": "2025-04-11T12:01:08.006Z"
   },
   {
    "duration": 11,
    "start_time": "2025-04-11T12:01:08.021Z"
   },
   {
    "duration": 18,
    "start_time": "2025-04-11T12:01:08.034Z"
   },
   {
    "duration": 10,
    "start_time": "2025-04-11T12:01:08.053Z"
   },
   {
    "duration": 11,
    "start_time": "2025-04-11T12:01:08.065Z"
   },
   {
    "duration": 15,
    "start_time": "2025-04-11T12:01:08.077Z"
   },
   {
    "duration": 14,
    "start_time": "2025-04-11T12:01:08.094Z"
   },
   {
    "duration": 9,
    "start_time": "2025-04-11T12:01:08.110Z"
   },
   {
    "duration": 10,
    "start_time": "2025-04-11T12:01:08.121Z"
   },
   {
    "duration": 45,
    "start_time": "2025-04-11T12:01:08.133Z"
   },
   {
    "duration": 11,
    "start_time": "2025-04-11T12:01:08.180Z"
   },
   {
    "duration": 7,
    "start_time": "2025-04-11T12:01:08.194Z"
   },
   {
    "duration": 20,
    "start_time": "2025-04-11T12:01:08.203Z"
   },
   {
    "duration": 7,
    "start_time": "2025-04-11T12:02:27.431Z"
   },
   {
    "duration": 11,
    "start_time": "2025-04-11T12:05:23.424Z"
   },
   {
    "duration": 65,
    "start_time": "2025-04-11T12:07:15.062Z"
   },
   {
    "duration": 5,
    "start_time": "2025-04-11T12:07:23.127Z"
   },
   {
    "duration": 7,
    "start_time": "2025-04-11T12:07:33.450Z"
   },
   {
    "duration": 10,
    "start_time": "2025-04-11T12:10:42.252Z"
   },
   {
    "duration": 4,
    "start_time": "2025-04-11T12:11:18.377Z"
   },
   {
    "duration": 10,
    "start_time": "2025-04-11T12:11:36.420Z"
   },
   {
    "duration": 8,
    "start_time": "2025-04-11T12:12:51.712Z"
   },
   {
    "duration": 1415,
    "start_time": "2025-04-11T12:13:31.864Z"
   },
   {
    "duration": 12,
    "start_time": "2025-04-11T12:14:17.059Z"
   },
   {
    "duration": 11,
    "start_time": "2025-04-11T12:14:27.824Z"
   },
   {
    "duration": 25,
    "start_time": "2025-04-11T12:15:47.106Z"
   },
   {
    "duration": 1289,
    "start_time": "2025-04-11T12:18:22.933Z"
   },
   {
    "duration": 46,
    "start_time": "2025-04-11T12:18:34.344Z"
   },
   {
    "duration": 51,
    "start_time": "2025-04-11T12:18:59.074Z"
   },
   {
    "duration": 52,
    "start_time": "2025-04-11T12:19:29.868Z"
   },
   {
    "duration": 16,
    "start_time": "2025-04-11T12:19:44.361Z"
   },
   {
    "duration": 408,
    "start_time": "2025-04-11T12:20:03.780Z"
   },
   {
    "duration": 86,
    "start_time": "2025-04-11T12:20:04.190Z"
   },
   {
    "duration": 13,
    "start_time": "2025-04-11T12:20:04.278Z"
   },
   {
    "duration": 23,
    "start_time": "2025-04-11T12:20:04.293Z"
   },
   {
    "duration": 17,
    "start_time": "2025-04-11T12:20:04.318Z"
   },
   {
    "duration": 17,
    "start_time": "2025-04-11T12:20:04.337Z"
   },
   {
    "duration": 15,
    "start_time": "2025-04-11T12:20:04.355Z"
   },
   {
    "duration": 8,
    "start_time": "2025-04-11T12:20:04.372Z"
   },
   {
    "duration": 23,
    "start_time": "2025-04-11T12:20:04.381Z"
   },
   {
    "duration": 7,
    "start_time": "2025-04-11T12:20:04.405Z"
   },
   {
    "duration": 25,
    "start_time": "2025-04-11T12:20:04.414Z"
   },
   {
    "duration": 20,
    "start_time": "2025-04-11T12:20:04.441Z"
   },
   {
    "duration": 23,
    "start_time": "2025-04-11T12:20:04.463Z"
   },
   {
    "duration": 7,
    "start_time": "2025-04-11T12:20:04.489Z"
   },
   {
    "duration": 7,
    "start_time": "2025-04-11T12:20:04.497Z"
   },
   {
    "duration": 13,
    "start_time": "2025-04-11T12:20:04.505Z"
   },
   {
    "duration": 68,
    "start_time": "2025-04-11T12:20:04.520Z"
   },
   {
    "duration": 3,
    "start_time": "2025-04-11T12:20:04.589Z"
   },
   {
    "duration": 19,
    "start_time": "2025-04-11T12:20:13.581Z"
   },
   {
    "duration": 21,
    "start_time": "2025-04-11T12:20:19.660Z"
   },
   {
    "duration": 22,
    "start_time": "2025-04-11T12:21:10.577Z"
   },
   {
    "duration": 14,
    "start_time": "2025-04-11T12:21:15.827Z"
   },
   {
    "duration": 11,
    "start_time": "2025-04-11T12:22:22.339Z"
   },
   {
    "duration": 13,
    "start_time": "2025-04-11T12:22:28.977Z"
   },
   {
    "duration": 12,
    "start_time": "2025-04-11T12:22:55.909Z"
   },
   {
    "duration": 43,
    "start_time": "2025-04-11T12:36:30.065Z"
   },
   {
    "duration": 62,
    "start_time": "2025-04-13T11:01:56.295Z"
   },
   {
    "duration": 399,
    "start_time": "2025-04-13T11:02:02.747Z"
   },
   {
    "duration": 87,
    "start_time": "2025-04-13T11:02:03.148Z"
   },
   {
    "duration": 15,
    "start_time": "2025-04-13T11:02:03.237Z"
   },
   {
    "duration": 73,
    "start_time": "2025-04-13T11:02:03.254Z"
   },
   {
    "duration": 41,
    "start_time": "2025-04-13T11:02:03.328Z"
   },
   {
    "duration": 34,
    "start_time": "2025-04-13T11:02:03.370Z"
   },
   {
    "duration": 39,
    "start_time": "2025-04-13T11:02:03.406Z"
   },
   {
    "duration": 111,
    "start_time": "2025-04-13T11:02:03.447Z"
   },
   {
    "duration": 30,
    "start_time": "2025-04-13T11:02:03.559Z"
   },
   {
    "duration": 71,
    "start_time": "2025-04-13T11:02:03.592Z"
   },
   {
    "duration": 23,
    "start_time": "2025-04-13T11:02:03.664Z"
   },
   {
    "duration": 27,
    "start_time": "2025-04-13T11:02:03.689Z"
   },
   {
    "duration": 26,
    "start_time": "2025-04-13T11:02:03.718Z"
   },
   {
    "duration": 27,
    "start_time": "2025-04-13T11:02:03.746Z"
   },
   {
    "duration": 23,
    "start_time": "2025-04-13T11:02:03.776Z"
   },
   {
    "duration": 58,
    "start_time": "2025-04-13T11:02:03.801Z"
   },
   {
    "duration": 14,
    "start_time": "2025-04-13T11:02:03.861Z"
   },
   {
    "duration": 57,
    "start_time": "2025-04-13T11:02:03.876Z"
   },
   {
    "duration": 6,
    "start_time": "2025-04-13T11:02:03.935Z"
   },
   {
    "duration": 4,
    "start_time": "2025-04-13T11:02:40.811Z"
   },
   {
    "duration": 404,
    "start_time": "2025-04-13T11:06:21.466Z"
   },
   {
    "duration": 87,
    "start_time": "2025-04-13T11:06:21.872Z"
   },
   {
    "duration": 20,
    "start_time": "2025-04-13T11:06:21.961Z"
   },
   {
    "duration": 18,
    "start_time": "2025-04-13T11:06:21.983Z"
   },
   {
    "duration": 34,
    "start_time": "2025-04-13T11:06:22.005Z"
   },
   {
    "duration": 20,
    "start_time": "2025-04-13T11:06:22.041Z"
   },
   {
    "duration": 21,
    "start_time": "2025-04-13T11:06:22.063Z"
   },
   {
    "duration": 14,
    "start_time": "2025-04-13T11:06:22.087Z"
   },
   {
    "duration": 25,
    "start_time": "2025-04-13T11:06:22.103Z"
   },
   {
    "duration": 9,
    "start_time": "2025-04-13T11:06:22.130Z"
   },
   {
    "duration": 16,
    "start_time": "2025-04-13T11:06:22.141Z"
   },
   {
    "duration": 27,
    "start_time": "2025-04-13T11:06:22.159Z"
   },
   {
    "duration": 40,
    "start_time": "2025-04-13T11:06:22.188Z"
   },
   {
    "duration": 20,
    "start_time": "2025-04-13T11:06:22.231Z"
   },
   {
    "duration": 13,
    "start_time": "2025-04-13T11:06:22.253Z"
   },
   {
    "duration": 68,
    "start_time": "2025-04-13T11:06:22.268Z"
   },
   {
    "duration": 14,
    "start_time": "2025-04-13T11:06:22.337Z"
   },
   {
    "duration": 63,
    "start_time": "2025-04-13T11:06:22.353Z"
   },
   {
    "duration": 7,
    "start_time": "2025-04-13T11:06:22.418Z"
   },
   {
    "duration": 11,
    "start_time": "2025-04-13T11:06:22.426Z"
   },
   {
    "duration": 5,
    "start_time": "2025-04-13T11:08:13.740Z"
   },
   {
    "duration": 563,
    "start_time": "2025-04-13T11:17:49.011Z"
   },
   {
    "duration": 105,
    "start_time": "2025-04-13T11:18:33.188Z"
   },
   {
    "duration": 123,
    "start_time": "2025-04-13T11:18:36.291Z"
   },
   {
    "duration": 104,
    "start_time": "2025-04-13T11:20:50.057Z"
   },
   {
    "duration": 179,
    "start_time": "2025-04-13T11:21:09.231Z"
   },
   {
    "duration": 124,
    "start_time": "2025-04-13T11:21:12.529Z"
   },
   {
    "duration": 92,
    "start_time": "2025-04-13T11:23:00.069Z"
   },
   {
    "duration": 82,
    "start_time": "2025-04-13T11:23:11.986Z"
   },
   {
    "duration": 87,
    "start_time": "2025-04-13T11:23:16.020Z"
   },
   {
    "duration": 108,
    "start_time": "2025-04-13T11:23:21.389Z"
   },
   {
    "duration": 95,
    "start_time": "2025-04-13T11:23:35.044Z"
   },
   {
    "duration": 173,
    "start_time": "2025-04-13T11:23:39.717Z"
   },
   {
    "duration": 97,
    "start_time": "2025-04-13T11:23:48.513Z"
   },
   {
    "duration": 81,
    "start_time": "2025-04-13T11:23:57.818Z"
   },
   {
    "duration": 152,
    "start_time": "2025-04-13T11:24:02.846Z"
   },
   {
    "duration": 98,
    "start_time": "2025-04-13T11:24:06.563Z"
   },
   {
    "duration": 147,
    "start_time": "2025-04-13T11:24:14.144Z"
   },
   {
    "duration": 106,
    "start_time": "2025-04-13T11:26:17.823Z"
   },
   {
    "duration": 120,
    "start_time": "2025-04-13T11:26:25.100Z"
   },
   {
    "duration": 123,
    "start_time": "2025-04-13T11:26:47.783Z"
   },
   {
    "duration": 186,
    "start_time": "2025-04-13T11:32:37.727Z"
   },
   {
    "duration": 1323,
    "start_time": "2025-04-13T11:33:17.787Z"
   },
   {
    "duration": 89,
    "start_time": "2025-04-13T11:33:19.113Z"
   },
   {
    "duration": 16,
    "start_time": "2025-04-13T11:33:19.204Z"
   },
   {
    "duration": 42,
    "start_time": "2025-04-13T11:33:19.221Z"
   },
   {
    "duration": 16,
    "start_time": "2025-04-13T11:33:19.265Z"
   },
   {
    "duration": 22,
    "start_time": "2025-04-13T11:33:19.282Z"
   },
   {
    "duration": 13,
    "start_time": "2025-04-13T11:33:19.305Z"
   },
   {
    "duration": 9,
    "start_time": "2025-04-13T11:33:19.320Z"
   },
   {
    "duration": 78,
    "start_time": "2025-04-13T11:33:19.330Z"
   },
   {
    "duration": 14,
    "start_time": "2025-04-13T11:33:19.410Z"
   },
   {
    "duration": 12,
    "start_time": "2025-04-13T11:33:19.426Z"
   },
   {
    "duration": 14,
    "start_time": "2025-04-13T11:33:19.440Z"
   },
   {
    "duration": 18,
    "start_time": "2025-04-13T11:33:19.456Z"
   },
   {
    "duration": 9,
    "start_time": "2025-04-13T11:33:19.477Z"
   },
   {
    "duration": 8,
    "start_time": "2025-04-13T11:33:19.503Z"
   },
   {
    "duration": 47,
    "start_time": "2025-04-13T11:33:19.513Z"
   },
   {
    "duration": 13,
    "start_time": "2025-04-13T11:33:19.562Z"
   },
   {
    "duration": 66,
    "start_time": "2025-04-13T11:33:19.577Z"
   },
   {
    "duration": 6,
    "start_time": "2025-04-13T11:33:19.645Z"
   },
   {
    "duration": 75,
    "start_time": "2025-04-13T11:33:19.652Z"
   },
   {
    "duration": 124,
    "start_time": "2025-04-13T11:33:19.729Z"
   },
   {
    "duration": 94,
    "start_time": "2025-04-13T11:33:19.855Z"
   },
   {
    "duration": 133,
    "start_time": "2025-04-13T11:33:19.951Z"
   },
   {
    "duration": 182,
    "start_time": "2025-04-13T11:33:20.085Z"
   },
   {
    "duration": 196,
    "start_time": "2025-04-13T11:34:03.338Z"
   },
   {
    "duration": 310,
    "start_time": "2025-04-13T11:34:13.802Z"
   },
   {
    "duration": 251,
    "start_time": "2025-04-13T11:34:39.782Z"
   },
   {
    "duration": 210,
    "start_time": "2025-04-13T11:34:48.345Z"
   },
   {
    "duration": 295,
    "start_time": "2025-04-13T11:34:52.752Z"
   },
   {
    "duration": 215,
    "start_time": "2025-04-13T11:35:10.477Z"
   },
   {
    "duration": 225,
    "start_time": "2025-04-13T11:35:15.225Z"
   },
   {
    "duration": 202,
    "start_time": "2025-04-13T11:35:20.364Z"
   },
   {
    "duration": 196,
    "start_time": "2025-04-13T11:35:56.630Z"
   },
   {
    "duration": 185,
    "start_time": "2025-04-13T11:36:11.278Z"
   },
   {
    "duration": 120,
    "start_time": "2025-04-13T11:43:19.376Z"
   },
   {
    "duration": 23,
    "start_time": "2025-04-13T11:44:19.336Z"
   },
   {
    "duration": 16,
    "start_time": "2025-04-13T11:45:43.625Z"
   },
   {
    "duration": 1190,
    "start_time": "2025-04-13T11:48:49.367Z"
   },
   {
    "duration": 95,
    "start_time": "2025-04-13T11:48:50.560Z"
   },
   {
    "duration": 15,
    "start_time": "2025-04-13T11:48:50.656Z"
   },
   {
    "duration": 17,
    "start_time": "2025-04-13T11:48:50.673Z"
   },
   {
    "duration": 42,
    "start_time": "2025-04-13T11:48:50.692Z"
   },
   {
    "duration": 38,
    "start_time": "2025-04-13T11:48:50.736Z"
   },
   {
    "duration": 32,
    "start_time": "2025-04-13T11:48:50.775Z"
   },
   {
    "duration": 24,
    "start_time": "2025-04-13T11:48:50.813Z"
   },
   {
    "duration": 98,
    "start_time": "2025-04-13T11:48:50.839Z"
   },
   {
    "duration": 24,
    "start_time": "2025-04-13T11:48:50.939Z"
   },
   {
    "duration": 11,
    "start_time": "2025-04-13T11:48:50.964Z"
   },
   {
    "duration": 21,
    "start_time": "2025-04-13T11:48:50.976Z"
   },
   {
    "duration": 27,
    "start_time": "2025-04-13T11:48:50.999Z"
   },
   {
    "duration": 94,
    "start_time": "2025-04-13T11:48:51.028Z"
   },
   {
    "duration": 132,
    "start_time": "2025-04-13T11:48:51.124Z"
   },
   {
    "duration": 0,
    "start_time": "2025-04-13T11:48:51.258Z"
   },
   {
    "duration": 0,
    "start_time": "2025-04-13T11:48:51.259Z"
   },
   {
    "duration": 0,
    "start_time": "2025-04-13T11:48:51.261Z"
   },
   {
    "duration": 0,
    "start_time": "2025-04-13T11:48:51.262Z"
   },
   {
    "duration": 0,
    "start_time": "2025-04-13T11:48:51.263Z"
   },
   {
    "duration": 0,
    "start_time": "2025-04-13T11:48:51.264Z"
   },
   {
    "duration": 0,
    "start_time": "2025-04-13T11:48:51.265Z"
   },
   {
    "duration": 0,
    "start_time": "2025-04-13T11:48:51.266Z"
   },
   {
    "duration": 0,
    "start_time": "2025-04-13T11:48:51.267Z"
   },
   {
    "duration": 0,
    "start_time": "2025-04-13T11:48:51.268Z"
   },
   {
    "duration": 0,
    "start_time": "2025-04-13T11:48:51.269Z"
   },
   {
    "duration": 0,
    "start_time": "2025-04-13T11:48:51.270Z"
   },
   {
    "duration": 5,
    "start_time": "2025-04-13T11:49:40.085Z"
   },
   {
    "duration": 6,
    "start_time": "2025-04-13T11:49:47.881Z"
   },
   {
    "duration": 15,
    "start_time": "2025-04-13T11:51:38.632Z"
   },
   {
    "duration": 1397,
    "start_time": "2025-04-14T10:22:39.551Z"
   },
   {
    "duration": 97,
    "start_time": "2025-04-14T10:22:40.951Z"
   },
   {
    "duration": 15,
    "start_time": "2025-04-14T10:22:41.050Z"
   },
   {
    "duration": 40,
    "start_time": "2025-04-14T10:22:41.067Z"
   },
   {
    "duration": 28,
    "start_time": "2025-04-14T10:22:41.109Z"
   },
   {
    "duration": 12,
    "start_time": "2025-04-14T10:22:41.138Z"
   },
   {
    "duration": 104,
    "start_time": "2025-04-14T10:22:41.152Z"
   },
   {
    "duration": 9,
    "start_time": "2025-04-14T10:22:41.258Z"
   },
   {
    "duration": 15,
    "start_time": "2025-04-14T10:22:41.269Z"
   },
   {
    "duration": 9,
    "start_time": "2025-04-14T10:22:41.287Z"
   },
   {
    "duration": 11,
    "start_time": "2025-04-14T10:22:41.298Z"
   },
   {
    "duration": 34,
    "start_time": "2025-04-14T10:22:41.311Z"
   },
   {
    "duration": 10,
    "start_time": "2025-04-14T10:22:41.347Z"
   },
   {
    "duration": 7,
    "start_time": "2025-04-14T10:22:41.359Z"
   },
   {
    "duration": 8,
    "start_time": "2025-04-14T10:22:41.367Z"
   },
   {
    "duration": 2,
    "start_time": "2025-04-14T10:22:41.377Z"
   },
   {
    "duration": 132,
    "start_time": "2025-04-14T10:22:41.381Z"
   },
   {
    "duration": 0,
    "start_time": "2025-04-14T10:22:41.515Z"
   },
   {
    "duration": 0,
    "start_time": "2025-04-14T10:22:41.516Z"
   },
   {
    "duration": 0,
    "start_time": "2025-04-14T10:22:41.518Z"
   },
   {
    "duration": 0,
    "start_time": "2025-04-14T10:22:41.519Z"
   },
   {
    "duration": 0,
    "start_time": "2025-04-14T10:22:41.520Z"
   },
   {
    "duration": 0,
    "start_time": "2025-04-14T10:22:41.521Z"
   },
   {
    "duration": 0,
    "start_time": "2025-04-14T10:22:41.522Z"
   },
   {
    "duration": 0,
    "start_time": "2025-04-14T10:22:41.538Z"
   },
   {
    "duration": 0,
    "start_time": "2025-04-14T10:22:41.540Z"
   },
   {
    "duration": 1,
    "start_time": "2025-04-14T10:22:41.541Z"
   },
   {
    "duration": 0,
    "start_time": "2025-04-14T10:22:41.543Z"
   },
   {
    "duration": 0,
    "start_time": "2025-04-14T10:22:41.544Z"
   },
   {
    "duration": 0,
    "start_time": "2025-04-14T10:22:41.546Z"
   },
   {
    "duration": 34,
    "start_time": "2025-04-14T10:22:56.655Z"
   },
   {
    "duration": 30,
    "start_time": "2025-04-14T10:23:04.228Z"
   },
   {
    "duration": 11,
    "start_time": "2025-04-14T10:23:09.513Z"
   },
   {
    "duration": 11,
    "start_time": "2025-04-14T10:23:30.981Z"
   },
   {
    "duration": 7,
    "start_time": "2025-04-14T10:23:55.128Z"
   },
   {
    "duration": 8,
    "start_time": "2025-04-14T10:24:04.181Z"
   },
   {
    "duration": 1844,
    "start_time": "2025-04-14T10:24:36.851Z"
   },
   {
    "duration": 7,
    "start_time": "2025-04-14T10:24:45.709Z"
   },
   {
    "duration": 17,
    "start_time": "2025-04-14T10:25:06.059Z"
   },
   {
    "duration": 5,
    "start_time": "2025-04-14T10:25:36.928Z"
   },
   {
    "duration": 1349,
    "start_time": "2025-04-14T10:26:10.062Z"
   },
   {
    "duration": 1479,
    "start_time": "2025-04-14T10:26:27.565Z"
   },
   {
    "duration": 7,
    "start_time": "2025-04-14T10:27:14.394Z"
   },
   {
    "duration": 7,
    "start_time": "2025-04-14T10:27:32.101Z"
   },
   {
    "duration": 30,
    "start_time": "2025-04-14T10:28:25.369Z"
   },
   {
    "duration": 10,
    "start_time": "2025-04-14T10:29:45.244Z"
   },
   {
    "duration": 3,
    "start_time": "2025-04-14T10:29:47.653Z"
   },
   {
    "duration": 15,
    "start_time": "2025-04-14T10:29:48.569Z"
   },
   {
    "duration": 48,
    "start_time": "2025-04-14T10:30:19.374Z"
   },
   {
    "duration": 22,
    "start_time": "2025-04-14T10:30:35.266Z"
   },
   {
    "duration": 1189,
    "start_time": "2025-04-14T10:30:42.368Z"
   },
   {
    "duration": 88,
    "start_time": "2025-04-14T10:30:43.560Z"
   },
   {
    "duration": 15,
    "start_time": "2025-04-14T10:30:43.650Z"
   },
   {
    "duration": 23,
    "start_time": "2025-04-14T10:30:43.667Z"
   },
   {
    "duration": 18,
    "start_time": "2025-04-14T10:30:43.693Z"
   },
   {
    "duration": 25,
    "start_time": "2025-04-14T10:30:43.713Z"
   },
   {
    "duration": 9,
    "start_time": "2025-04-14T10:30:43.739Z"
   },
   {
    "duration": 9,
    "start_time": "2025-04-14T10:30:43.750Z"
   },
   {
    "duration": 18,
    "start_time": "2025-04-14T10:30:43.761Z"
   },
   {
    "duration": 28,
    "start_time": "2025-04-14T10:30:43.781Z"
   },
   {
    "duration": 10,
    "start_time": "2025-04-14T10:30:43.811Z"
   },
   {
    "duration": 12,
    "start_time": "2025-04-14T10:30:43.838Z"
   },
   {
    "duration": 21,
    "start_time": "2025-04-14T10:30:43.851Z"
   },
   {
    "duration": 7,
    "start_time": "2025-04-14T10:30:43.876Z"
   },
   {
    "duration": 16,
    "start_time": "2025-04-14T10:30:43.885Z"
   },
   {
    "duration": 3,
    "start_time": "2025-04-14T10:30:43.903Z"
   },
   {
    "duration": 52,
    "start_time": "2025-04-14T10:30:43.908Z"
   },
   {
    "duration": 4,
    "start_time": "2025-04-14T10:30:43.963Z"
   },
   {
    "duration": 8,
    "start_time": "2025-04-14T10:30:43.969Z"
   },
   {
    "duration": 76,
    "start_time": "2025-04-14T10:30:43.979Z"
   },
   {
    "duration": 15,
    "start_time": "2025-04-14T10:30:44.057Z"
   },
   {
    "duration": 70,
    "start_time": "2025-04-14T10:30:44.073Z"
   },
   {
    "duration": 9,
    "start_time": "2025-04-14T10:30:44.145Z"
   },
   {
    "duration": 26,
    "start_time": "2025-04-14T10:30:44.156Z"
   },
   {
    "duration": 138,
    "start_time": "2025-04-14T10:30:44.185Z"
   },
   {
    "duration": 100,
    "start_time": "2025-04-14T10:30:44.325Z"
   },
   {
    "duration": 129,
    "start_time": "2025-04-14T10:30:44.437Z"
   },
   {
    "duration": 222,
    "start_time": "2025-04-14T10:30:44.568Z"
   },
   {
    "duration": 16,
    "start_time": "2025-04-14T10:30:44.791Z"
   },
   {
    "duration": 136,
    "start_time": "2025-04-14T10:30:44.809Z"
   },
   {
    "duration": 1636,
    "start_time": "2025-04-14T10:44:21.884Z"
   },
   {
    "duration": 1324,
    "start_time": "2025-04-14T10:44:50.327Z"
   },
   {
    "duration": 11,
    "start_time": "2025-04-14T10:45:06.430Z"
   },
   {
    "duration": 1186,
    "start_time": "2025-04-14T10:45:58.266Z"
   },
   {
    "duration": 87,
    "start_time": "2025-04-14T10:45:59.454Z"
   },
   {
    "duration": 14,
    "start_time": "2025-04-14T10:45:59.543Z"
   },
   {
    "duration": 14,
    "start_time": "2025-04-14T10:45:59.559Z"
   },
   {
    "duration": 15,
    "start_time": "2025-04-14T10:45:59.575Z"
   },
   {
    "duration": 12,
    "start_time": "2025-04-14T10:45:59.592Z"
   },
   {
    "duration": 36,
    "start_time": "2025-04-14T10:45:59.606Z"
   },
   {
    "duration": 10,
    "start_time": "2025-04-14T10:45:59.644Z"
   },
   {
    "duration": 73,
    "start_time": "2025-04-14T10:45:59.655Z"
   },
   {
    "duration": 15,
    "start_time": "2025-04-14T10:45:59.730Z"
   },
   {
    "duration": 10,
    "start_time": "2025-04-14T10:45:59.747Z"
   },
   {
    "duration": 24,
    "start_time": "2025-04-14T10:45:59.759Z"
   },
   {
    "duration": 13,
    "start_time": "2025-04-14T10:45:59.785Z"
   },
   {
    "duration": 8,
    "start_time": "2025-04-14T10:45:59.802Z"
   },
   {
    "duration": 29,
    "start_time": "2025-04-14T10:45:59.812Z"
   },
   {
    "duration": 9,
    "start_time": "2025-04-14T10:45:59.843Z"
   },
   {
    "duration": 119,
    "start_time": "2025-04-14T10:45:59.854Z"
   },
   {
    "duration": 0,
    "start_time": "2025-04-14T10:45:59.975Z"
   },
   {
    "duration": 0,
    "start_time": "2025-04-14T10:45:59.977Z"
   },
   {
    "duration": 0,
    "start_time": "2025-04-14T10:45:59.978Z"
   },
   {
    "duration": 0,
    "start_time": "2025-04-14T10:45:59.979Z"
   },
   {
    "duration": 0,
    "start_time": "2025-04-14T10:45:59.980Z"
   },
   {
    "duration": 0,
    "start_time": "2025-04-14T10:45:59.982Z"
   },
   {
    "duration": 0,
    "start_time": "2025-04-14T10:45:59.983Z"
   },
   {
    "duration": 0,
    "start_time": "2025-04-14T10:45:59.984Z"
   },
   {
    "duration": 0,
    "start_time": "2025-04-14T10:45:59.985Z"
   },
   {
    "duration": 0,
    "start_time": "2025-04-14T10:45:59.986Z"
   },
   {
    "duration": 0,
    "start_time": "2025-04-14T10:45:59.987Z"
   },
   {
    "duration": 0,
    "start_time": "2025-04-14T10:45:59.988Z"
   },
   {
    "duration": 0,
    "start_time": "2025-04-14T10:45:59.989Z"
   },
   {
    "duration": 11,
    "start_time": "2025-04-14T10:46:36.843Z"
   },
   {
    "duration": 92,
    "start_time": "2025-04-14T10:46:42.230Z"
   },
   {
    "duration": 10,
    "start_time": "2025-04-14T10:46:54.342Z"
   },
   {
    "duration": 17,
    "start_time": "2025-04-14T10:47:59.618Z"
   },
   {
    "duration": 8,
    "start_time": "2025-04-14T10:48:50.660Z"
   },
   {
    "duration": 9,
    "start_time": "2025-04-14T10:54:20.160Z"
   },
   {
    "duration": 5,
    "start_time": "2025-04-14T10:59:41.557Z"
   },
   {
    "duration": 15,
    "start_time": "2025-04-14T11:02:51.836Z"
   },
   {
    "duration": 10,
    "start_time": "2025-04-14T11:03:32.854Z"
   },
   {
    "duration": 19,
    "start_time": "2025-04-14T11:06:47.622Z"
   },
   {
    "duration": 1213,
    "start_time": "2025-04-14T11:10:31.656Z"
   },
   {
    "duration": 90,
    "start_time": "2025-04-14T11:10:32.871Z"
   },
   {
    "duration": 15,
    "start_time": "2025-04-14T11:10:32.962Z"
   },
   {
    "duration": 43,
    "start_time": "2025-04-14T11:10:32.978Z"
   },
   {
    "duration": 32,
    "start_time": "2025-04-14T11:10:33.023Z"
   },
   {
    "duration": 31,
    "start_time": "2025-04-14T11:10:33.056Z"
   },
   {
    "duration": 32,
    "start_time": "2025-04-14T11:10:33.089Z"
   },
   {
    "duration": 25,
    "start_time": "2025-04-14T11:10:33.123Z"
   },
   {
    "duration": 40,
    "start_time": "2025-04-14T11:10:33.150Z"
   },
   {
    "duration": 45,
    "start_time": "2025-04-14T11:10:33.191Z"
   },
   {
    "duration": 16,
    "start_time": "2025-04-14T11:10:33.238Z"
   },
   {
    "duration": 33,
    "start_time": "2025-04-14T11:10:33.255Z"
   },
   {
    "duration": 39,
    "start_time": "2025-04-14T11:10:33.290Z"
   },
   {
    "duration": 19,
    "start_time": "2025-04-14T11:10:33.333Z"
   },
   {
    "duration": 30,
    "start_time": "2025-04-14T11:10:33.354Z"
   },
   {
    "duration": 16,
    "start_time": "2025-04-14T11:10:33.386Z"
   },
   {
    "duration": 79,
    "start_time": "2025-04-14T11:10:33.404Z"
   },
   {
    "duration": 13,
    "start_time": "2025-04-14T11:10:33.484Z"
   },
   {
    "duration": 68,
    "start_time": "2025-04-14T11:10:33.499Z"
   },
   {
    "duration": 6,
    "start_time": "2025-04-14T11:10:33.569Z"
   },
   {
    "duration": 41,
    "start_time": "2025-04-14T11:10:33.576Z"
   },
   {
    "duration": 6,
    "start_time": "2025-04-14T11:10:33.618Z"
   },
   {
    "duration": 131,
    "start_time": "2025-04-14T11:10:33.626Z"
   },
   {
    "duration": 93,
    "start_time": "2025-04-14T11:10:33.759Z"
   },
   {
    "duration": 124,
    "start_time": "2025-04-14T11:10:33.854Z"
   },
   {
    "duration": 214,
    "start_time": "2025-04-14T11:10:33.979Z"
   },
   {
    "duration": 15,
    "start_time": "2025-04-14T11:10:34.238Z"
   },
   {
    "duration": 407,
    "start_time": "2025-04-14T11:10:34.255Z"
   },
   {
    "duration": 6,
    "start_time": "2025-04-14T11:10:39.411Z"
   },
   {
    "duration": 18,
    "start_time": "2025-04-14T11:11:12.821Z"
   },
   {
    "duration": 1211,
    "start_time": "2025-04-14T11:11:21.920Z"
   },
   {
    "duration": 91,
    "start_time": "2025-04-14T11:11:23.137Z"
   },
   {
    "duration": 14,
    "start_time": "2025-04-14T11:11:23.230Z"
   },
   {
    "duration": 33,
    "start_time": "2025-04-14T11:11:23.246Z"
   },
   {
    "duration": 19,
    "start_time": "2025-04-14T11:11:23.280Z"
   },
   {
    "duration": 22,
    "start_time": "2025-04-14T11:11:23.301Z"
   },
   {
    "duration": 19,
    "start_time": "2025-04-14T11:11:23.325Z"
   },
   {
    "duration": 20,
    "start_time": "2025-04-14T11:11:23.346Z"
   },
   {
    "duration": 14,
    "start_time": "2025-04-14T11:11:23.368Z"
   },
   {
    "duration": 14,
    "start_time": "2025-04-14T11:11:23.384Z"
   },
   {
    "duration": 13,
    "start_time": "2025-04-14T11:11:23.399Z"
   },
   {
    "duration": 23,
    "start_time": "2025-04-14T11:11:23.414Z"
   },
   {
    "duration": 11,
    "start_time": "2025-04-14T11:11:23.439Z"
   },
   {
    "duration": 18,
    "start_time": "2025-04-14T11:11:23.451Z"
   },
   {
    "duration": 47,
    "start_time": "2025-04-14T11:11:23.471Z"
   },
   {
    "duration": 26,
    "start_time": "2025-04-14T11:11:23.520Z"
   },
   {
    "duration": 25,
    "start_time": "2025-04-14T11:11:23.547Z"
   },
   {
    "duration": 52,
    "start_time": "2025-04-14T11:11:23.574Z"
   },
   {
    "duration": 14,
    "start_time": "2025-04-14T11:11:23.627Z"
   },
   {
    "duration": 48,
    "start_time": "2025-04-14T11:11:23.643Z"
   },
   {
    "duration": 7,
    "start_time": "2025-04-14T11:11:23.693Z"
   },
   {
    "duration": 7,
    "start_time": "2025-04-14T11:11:23.702Z"
   },
   {
    "duration": 141,
    "start_time": "2025-04-14T11:11:23.711Z"
   },
   {
    "duration": 0,
    "start_time": "2025-04-14T11:11:23.854Z"
   },
   {
    "duration": 0,
    "start_time": "2025-04-14T11:11:23.855Z"
   },
   {
    "duration": 0,
    "start_time": "2025-04-14T11:11:23.856Z"
   },
   {
    "duration": 0,
    "start_time": "2025-04-14T11:11:23.857Z"
   },
   {
    "duration": 0,
    "start_time": "2025-04-14T11:11:23.858Z"
   },
   {
    "duration": 0,
    "start_time": "2025-04-14T11:11:23.859Z"
   },
   {
    "duration": 35,
    "start_time": "2025-04-14T11:12:34.982Z"
   },
   {
    "duration": 7,
    "start_time": "2025-04-14T11:12:37.290Z"
   },
   {
    "duration": 43,
    "start_time": "2025-04-14T11:12:53.180Z"
   },
   {
    "duration": 8,
    "start_time": "2025-04-14T11:12:56.592Z"
   },
   {
    "duration": 15,
    "start_time": "2025-04-14T11:13:47.693Z"
   },
   {
    "duration": 83,
    "start_time": "2025-04-14T11:14:54.484Z"
   },
   {
    "duration": 6,
    "start_time": "2025-04-14T11:15:03.410Z"
   },
   {
    "duration": 1415,
    "start_time": "2025-04-14T11:15:09.587Z"
   },
   {
    "duration": 93,
    "start_time": "2025-04-14T11:15:11.005Z"
   },
   {
    "duration": 14,
    "start_time": "2025-04-14T11:15:11.099Z"
   },
   {
    "duration": 12,
    "start_time": "2025-04-14T11:15:11.115Z"
   },
   {
    "duration": 15,
    "start_time": "2025-04-14T11:15:11.130Z"
   },
   {
    "duration": 12,
    "start_time": "2025-04-14T11:15:11.146Z"
   },
   {
    "duration": 17,
    "start_time": "2025-04-14T11:15:11.159Z"
   },
   {
    "duration": 8,
    "start_time": "2025-04-14T11:15:11.178Z"
   },
   {
    "duration": 16,
    "start_time": "2025-04-14T11:15:11.188Z"
   },
   {
    "duration": 9,
    "start_time": "2025-04-14T11:15:11.205Z"
   },
   {
    "duration": 10,
    "start_time": "2025-04-14T11:15:11.237Z"
   },
   {
    "duration": 14,
    "start_time": "2025-04-14T11:15:11.249Z"
   },
   {
    "duration": 29,
    "start_time": "2025-04-14T11:15:11.265Z"
   },
   {
    "duration": 7,
    "start_time": "2025-04-14T11:15:11.297Z"
   },
   {
    "duration": 29,
    "start_time": "2025-04-14T11:15:11.305Z"
   },
   {
    "duration": 7,
    "start_time": "2025-04-14T11:15:11.335Z"
   },
   {
    "duration": 47,
    "start_time": "2025-04-14T11:15:11.344Z"
   },
   {
    "duration": 14,
    "start_time": "2025-04-14T11:15:11.393Z"
   },
   {
    "duration": 64,
    "start_time": "2025-04-14T11:15:11.408Z"
   },
   {
    "duration": 6,
    "start_time": "2025-04-14T11:15:11.474Z"
   },
   {
    "duration": 6,
    "start_time": "2025-04-14T11:15:11.482Z"
   },
   {
    "duration": 5,
    "start_time": "2025-04-14T11:15:11.489Z"
   },
   {
    "duration": 143,
    "start_time": "2025-04-14T11:15:11.496Z"
   },
   {
    "duration": 82,
    "start_time": "2025-04-14T11:15:11.641Z"
   },
   {
    "duration": 122,
    "start_time": "2025-04-14T11:15:11.737Z"
   },
   {
    "duration": 192,
    "start_time": "2025-04-14T11:15:11.861Z"
   },
   {
    "duration": 16,
    "start_time": "2025-04-14T11:15:12.054Z"
   },
   {
    "duration": 268,
    "start_time": "2025-04-14T11:15:12.072Z"
   },
   {
    "duration": 10,
    "start_time": "2025-04-14T11:15:27.926Z"
   },
   {
    "duration": 19,
    "start_time": "2025-04-14T11:43:49.447Z"
   },
   {
    "duration": 1826,
    "start_time": "2025-04-15T06:51:32.788Z"
   },
   {
    "duration": 130,
    "start_time": "2025-04-15T06:51:34.670Z"
   },
   {
    "duration": 19,
    "start_time": "2025-04-15T06:51:34.803Z"
   },
   {
    "duration": 13,
    "start_time": "2025-04-15T06:51:34.870Z"
   },
   {
    "duration": 19,
    "start_time": "2025-04-15T06:51:34.886Z"
   },
   {
    "duration": 73,
    "start_time": "2025-04-15T06:51:34.907Z"
   },
   {
    "duration": 58,
    "start_time": "2025-04-15T06:51:34.981Z"
   },
   {
    "duration": 11,
    "start_time": "2025-04-15T06:51:35.072Z"
   },
   {
    "duration": 16,
    "start_time": "2025-04-15T06:51:35.085Z"
   },
   {
    "duration": 70,
    "start_time": "2025-04-15T06:51:35.103Z"
   },
   {
    "duration": 15,
    "start_time": "2025-04-15T06:51:35.175Z"
   },
   {
    "duration": 21,
    "start_time": "2025-04-15T06:51:35.192Z"
   },
   {
    "duration": 66,
    "start_time": "2025-04-15T06:51:35.215Z"
   },
   {
    "duration": 10,
    "start_time": "2025-04-15T06:51:35.285Z"
   },
   {
    "duration": 77,
    "start_time": "2025-04-15T06:51:35.297Z"
   },
   {
    "duration": 8,
    "start_time": "2025-04-15T06:51:35.377Z"
   },
   {
    "duration": 118,
    "start_time": "2025-04-15T06:51:35.387Z"
   },
   {
    "duration": 68,
    "start_time": "2025-04-15T06:51:35.507Z"
   },
   {
    "duration": 108,
    "start_time": "2025-04-15T06:51:35.577Z"
   },
   {
    "duration": 85,
    "start_time": "2025-04-15T06:51:35.687Z"
   },
   {
    "duration": 0,
    "start_time": "2025-04-15T06:51:35.775Z"
   },
   {
    "duration": 0,
    "start_time": "2025-04-15T06:51:35.777Z"
   },
   {
    "duration": 0,
    "start_time": "2025-04-15T06:51:35.779Z"
   },
   {
    "duration": 0,
    "start_time": "2025-04-15T06:51:35.780Z"
   },
   {
    "duration": 0,
    "start_time": "2025-04-15T06:51:35.782Z"
   },
   {
    "duration": 0,
    "start_time": "2025-04-15T06:51:35.783Z"
   },
   {
    "duration": 0,
    "start_time": "2025-04-15T06:51:35.784Z"
   },
   {
    "duration": 0,
    "start_time": "2025-04-15T06:51:35.786Z"
   },
   {
    "duration": 80,
    "start_time": "2025-04-15T06:51:43.645Z"
   },
   {
    "duration": 10,
    "start_time": "2025-04-15T06:51:50.471Z"
   },
   {
    "duration": 34,
    "start_time": "2025-04-15T06:51:58.803Z"
   },
   {
    "duration": 35,
    "start_time": "2025-04-15T06:52:15.877Z"
   },
   {
    "duration": 7,
    "start_time": "2025-04-15T06:53:24.619Z"
   },
   {
    "duration": 8,
    "start_time": "2025-04-15T06:54:34.066Z"
   },
   {
    "duration": 40,
    "start_time": "2025-04-15T06:54:36.747Z"
   },
   {
    "duration": 5,
    "start_time": "2025-04-15T07:00:21.155Z"
   },
   {
    "duration": 113,
    "start_time": "2025-04-15T07:08:30.398Z"
   },
   {
    "duration": 3,
    "start_time": "2025-04-15T07:08:44.159Z"
   },
   {
    "duration": 36,
    "start_time": "2025-04-15T07:08:45.433Z"
   },
   {
    "duration": 37,
    "start_time": "2025-04-15T07:09:24.569Z"
   },
   {
    "duration": 34,
    "start_time": "2025-04-15T07:09:30.800Z"
   },
   {
    "duration": 45,
    "start_time": "2025-04-15T07:10:04.192Z"
   },
   {
    "duration": 30,
    "start_time": "2025-04-15T07:10:20.287Z"
   },
   {
    "duration": 29,
    "start_time": "2025-04-15T07:11:17.342Z"
   },
   {
    "duration": 26,
    "start_time": "2025-04-15T07:12:32.653Z"
   },
   {
    "duration": 15,
    "start_time": "2025-04-15T07:16:34.311Z"
   },
   {
    "duration": 31,
    "start_time": "2025-04-15T07:16:43.512Z"
   },
   {
    "duration": 8,
    "start_time": "2025-04-15T07:21:33.049Z"
   },
   {
    "duration": 36,
    "start_time": "2025-04-15T07:21:38.422Z"
   },
   {
    "duration": 116,
    "start_time": "2025-04-15T07:21:58.355Z"
   },
   {
    "duration": 23,
    "start_time": "2025-04-15T07:23:28.609Z"
   },
   {
    "duration": 18,
    "start_time": "2025-04-15T07:23:42.215Z"
   },
   {
    "duration": 9,
    "start_time": "2025-04-15T07:28:10.712Z"
   },
   {
    "duration": 22,
    "start_time": "2025-04-15T07:28:47.662Z"
   },
   {
    "duration": 231,
    "start_time": "2025-04-15T07:33:03.703Z"
   },
   {
    "duration": 230,
    "start_time": "2025-04-15T07:33:37.334Z"
   },
   {
    "duration": 271,
    "start_time": "2025-04-15T07:33:48.110Z"
   },
   {
    "duration": 260,
    "start_time": "2025-04-15T07:33:55.937Z"
   },
   {
    "duration": 36,
    "start_time": "2025-04-15T07:38:36.901Z"
   },
   {
    "duration": 41,
    "start_time": "2025-04-15T07:39:16.173Z"
   },
   {
    "duration": 35,
    "start_time": "2025-04-15T07:39:21.680Z"
   },
   {
    "duration": 17,
    "start_time": "2025-04-15T07:40:05.966Z"
   },
   {
    "duration": 1370,
    "start_time": "2025-04-15T07:42:49.742Z"
   },
   {
    "duration": 106,
    "start_time": "2025-04-15T07:42:51.115Z"
   },
   {
    "duration": 17,
    "start_time": "2025-04-15T07:42:51.223Z"
   },
   {
    "duration": 21,
    "start_time": "2025-04-15T07:42:51.242Z"
   },
   {
    "duration": 18,
    "start_time": "2025-04-15T07:42:51.266Z"
   },
   {
    "duration": 13,
    "start_time": "2025-04-15T07:42:51.286Z"
   },
   {
    "duration": 9,
    "start_time": "2025-04-15T07:42:51.301Z"
   },
   {
    "duration": 20,
    "start_time": "2025-04-15T07:42:51.312Z"
   },
   {
    "duration": 41,
    "start_time": "2025-04-15T07:42:51.334Z"
   },
   {
    "duration": 13,
    "start_time": "2025-04-15T07:42:51.378Z"
   },
   {
    "duration": 13,
    "start_time": "2025-04-15T07:42:51.392Z"
   },
   {
    "duration": 13,
    "start_time": "2025-04-15T07:42:51.407Z"
   },
   {
    "duration": 13,
    "start_time": "2025-04-15T07:42:51.422Z"
   },
   {
    "duration": 38,
    "start_time": "2025-04-15T07:42:51.438Z"
   },
   {
    "duration": 33,
    "start_time": "2025-04-15T07:42:51.477Z"
   },
   {
    "duration": 8,
    "start_time": "2025-04-15T07:42:51.512Z"
   },
   {
    "duration": 61,
    "start_time": "2025-04-15T07:42:51.521Z"
   },
   {
    "duration": 15,
    "start_time": "2025-04-15T07:42:51.584Z"
   },
   {
    "duration": 45,
    "start_time": "2025-04-15T07:42:51.601Z"
   },
   {
    "duration": 8,
    "start_time": "2025-04-15T07:42:51.670Z"
   },
   {
    "duration": 13,
    "start_time": "2025-04-15T07:42:51.680Z"
   },
   {
    "duration": 8,
    "start_time": "2025-04-15T07:42:51.695Z"
   },
   {
    "duration": 149,
    "start_time": "2025-04-15T07:42:51.705Z"
   },
   {
    "duration": 99,
    "start_time": "2025-04-15T07:42:51.856Z"
   },
   {
    "duration": 140,
    "start_time": "2025-04-15T07:42:51.957Z"
   },
   {
    "duration": 220,
    "start_time": "2025-04-15T07:42:52.100Z"
   },
   {
    "duration": 565,
    "start_time": "2025-04-15T07:42:52.323Z"
   },
   {
    "duration": 16,
    "start_time": "2025-04-15T07:42:52.889Z"
   },
   {
    "duration": 279,
    "start_time": "2025-04-15T07:42:52.907Z"
   },
   {
    "duration": 618,
    "start_time": "2025-04-15T07:43:02.830Z"
   },
   {
    "duration": 539,
    "start_time": "2025-04-15T07:43:27.206Z"
   },
   {
    "duration": 583,
    "start_time": "2025-04-15T07:43:34.761Z"
   },
   {
    "duration": 697,
    "start_time": "2025-04-15T07:43:49.728Z"
   },
   {
    "duration": 541,
    "start_time": "2025-04-15T07:44:37.199Z"
   },
   {
    "duration": 344,
    "start_time": "2025-04-15T07:45:45.785Z"
   },
   {
    "duration": 269,
    "start_time": "2025-04-15T07:46:08.929Z"
   },
   {
    "duration": 1321,
    "start_time": "2025-04-15T07:47:38.311Z"
   },
   {
    "duration": 97,
    "start_time": "2025-04-15T07:47:39.635Z"
   },
   {
    "duration": 17,
    "start_time": "2025-04-15T07:47:39.734Z"
   },
   {
    "duration": 11,
    "start_time": "2025-04-15T07:47:39.754Z"
   },
   {
    "duration": 20,
    "start_time": "2025-04-15T07:47:39.767Z"
   },
   {
    "duration": 14,
    "start_time": "2025-04-15T07:47:39.789Z"
   },
   {
    "duration": 65,
    "start_time": "2025-04-15T07:47:39.805Z"
   },
   {
    "duration": 11,
    "start_time": "2025-04-15T07:47:39.872Z"
   },
   {
    "duration": 14,
    "start_time": "2025-04-15T07:47:39.886Z"
   },
   {
    "duration": 11,
    "start_time": "2025-04-15T07:47:39.904Z"
   },
   {
    "duration": 12,
    "start_time": "2025-04-15T07:47:39.917Z"
   },
   {
    "duration": 48,
    "start_time": "2025-04-15T07:47:39.931Z"
   },
   {
    "duration": 17,
    "start_time": "2025-04-15T07:47:39.982Z"
   },
   {
    "duration": 11,
    "start_time": "2025-04-15T07:47:40.002Z"
   },
   {
    "duration": 28,
    "start_time": "2025-04-15T07:47:40.016Z"
   },
   {
    "duration": 9,
    "start_time": "2025-04-15T07:47:40.071Z"
   },
   {
    "duration": 58,
    "start_time": "2025-04-15T07:47:40.083Z"
   },
   {
    "duration": 37,
    "start_time": "2025-04-15T07:47:40.143Z"
   },
   {
    "duration": 50,
    "start_time": "2025-04-15T07:47:40.182Z"
   },
   {
    "duration": 8,
    "start_time": "2025-04-15T07:47:40.234Z"
   },
   {
    "duration": 39,
    "start_time": "2025-04-15T07:47:40.244Z"
   },
   {
    "duration": 9,
    "start_time": "2025-04-15T07:47:40.284Z"
   },
   {
    "duration": 57,
    "start_time": "2025-04-15T07:48:42.518Z"
   },
   {
    "duration": 1345,
    "start_time": "2025-04-15T07:48:55.580Z"
   },
   {
    "duration": 99,
    "start_time": "2025-04-15T07:48:56.928Z"
   },
   {
    "duration": 18,
    "start_time": "2025-04-15T07:48:57.029Z"
   },
   {
    "duration": 31,
    "start_time": "2025-04-15T07:48:57.049Z"
   },
   {
    "duration": 17,
    "start_time": "2025-04-15T07:48:57.083Z"
   },
   {
    "duration": 14,
    "start_time": "2025-04-15T07:48:57.103Z"
   },
   {
    "duration": 31,
    "start_time": "2025-04-15T07:48:57.119Z"
   },
   {
    "duration": 21,
    "start_time": "2025-04-15T07:48:57.152Z"
   },
   {
    "duration": 14,
    "start_time": "2025-04-15T07:48:57.175Z"
   },
   {
    "duration": 10,
    "start_time": "2025-04-15T07:48:57.190Z"
   },
   {
    "duration": 13,
    "start_time": "2025-04-15T07:48:57.202Z"
   },
   {
    "duration": 31,
    "start_time": "2025-04-15T07:48:57.217Z"
   },
   {
    "duration": 12,
    "start_time": "2025-04-15T07:48:57.271Z"
   },
   {
    "duration": 9,
    "start_time": "2025-04-15T07:48:57.287Z"
   },
   {
    "duration": 18,
    "start_time": "2025-04-15T07:48:57.298Z"
   },
   {
    "duration": 8,
    "start_time": "2025-04-15T07:48:57.318Z"
   },
   {
    "duration": 91,
    "start_time": "2025-04-15T07:48:57.328Z"
   },
   {
    "duration": 16,
    "start_time": "2025-04-15T07:48:57.421Z"
   },
   {
    "duration": 72,
    "start_time": "2025-04-15T07:48:57.439Z"
   },
   {
    "duration": 8,
    "start_time": "2025-04-15T07:48:57.513Z"
   },
   {
    "duration": 14,
    "start_time": "2025-04-15T07:48:57.523Z"
   },
   {
    "duration": 32,
    "start_time": "2025-04-15T07:48:57.539Z"
   },
   {
    "duration": 1349,
    "start_time": "2025-04-15T07:49:26.392Z"
   },
   {
    "duration": 99,
    "start_time": "2025-04-15T07:49:27.744Z"
   },
   {
    "duration": 18,
    "start_time": "2025-04-15T07:49:27.845Z"
   },
   {
    "duration": 38,
    "start_time": "2025-04-15T07:49:27.866Z"
   },
   {
    "duration": 18,
    "start_time": "2025-04-15T07:49:27.906Z"
   },
   {
    "duration": 15,
    "start_time": "2025-04-15T07:49:27.926Z"
   },
   {
    "duration": 10,
    "start_time": "2025-04-15T07:49:27.944Z"
   },
   {
    "duration": 21,
    "start_time": "2025-04-15T07:49:27.956Z"
   },
   {
    "duration": 15,
    "start_time": "2025-04-15T07:49:27.980Z"
   },
   {
    "duration": 10,
    "start_time": "2025-04-15T07:49:27.998Z"
   },
   {
    "duration": 12,
    "start_time": "2025-04-15T07:49:28.010Z"
   },
   {
    "duration": 54,
    "start_time": "2025-04-15T07:49:28.025Z"
   },
   {
    "duration": 14,
    "start_time": "2025-04-15T07:49:28.081Z"
   },
   {
    "duration": 12,
    "start_time": "2025-04-15T07:49:28.097Z"
   },
   {
    "duration": 29,
    "start_time": "2025-04-15T07:49:28.111Z"
   },
   {
    "duration": 29,
    "start_time": "2025-04-15T07:49:28.142Z"
   },
   {
    "duration": 56,
    "start_time": "2025-04-15T07:49:28.173Z"
   },
   {
    "duration": 16,
    "start_time": "2025-04-15T07:49:28.231Z"
   },
   {
    "duration": 68,
    "start_time": "2025-04-15T07:49:28.249Z"
   },
   {
    "duration": 8,
    "start_time": "2025-04-15T07:49:28.320Z"
   },
   {
    "duration": 17,
    "start_time": "2025-04-15T07:49:28.330Z"
   },
   {
    "duration": 8,
    "start_time": "2025-04-15T07:49:28.372Z"
   },
   {
    "duration": 125,
    "start_time": "2025-04-15T07:49:28.383Z"
   },
   {
    "duration": 0,
    "start_time": "2025-04-15T07:49:28.510Z"
   },
   {
    "duration": 0,
    "start_time": "2025-04-15T07:49:28.511Z"
   },
   {
    "duration": 0,
    "start_time": "2025-04-15T07:49:28.513Z"
   },
   {
    "duration": 0,
    "start_time": "2025-04-15T07:49:28.514Z"
   },
   {
    "duration": 0,
    "start_time": "2025-04-15T07:49:28.515Z"
   },
   {
    "duration": 0,
    "start_time": "2025-04-15T07:49:28.516Z"
   },
   {
    "duration": 0,
    "start_time": "2025-04-15T07:49:28.518Z"
   },
   {
    "duration": 0,
    "start_time": "2025-04-15T07:49:28.519Z"
   },
   {
    "duration": 0,
    "start_time": "2025-04-15T07:49:28.520Z"
   },
   {
    "duration": 0,
    "start_time": "2025-04-15T07:49:28.522Z"
   },
   {
    "duration": 0,
    "start_time": "2025-04-15T07:49:28.523Z"
   },
   {
    "duration": 7,
    "start_time": "2025-04-15T07:49:47.550Z"
   },
   {
    "duration": 15,
    "start_time": "2025-04-15T07:50:03.621Z"
   },
   {
    "duration": 5636,
    "start_time": "2025-04-15T07:50:32.813Z"
   },
   {
    "duration": 1302,
    "start_time": "2025-04-15T07:50:51.825Z"
   },
   {
    "duration": 96,
    "start_time": "2025-04-15T07:50:53.130Z"
   },
   {
    "duration": 17,
    "start_time": "2025-04-15T07:50:53.228Z"
   },
   {
    "duration": 14,
    "start_time": "2025-04-15T07:50:53.248Z"
   },
   {
    "duration": 18,
    "start_time": "2025-04-15T07:50:53.264Z"
   },
   {
    "duration": 15,
    "start_time": "2025-04-15T07:50:53.284Z"
   },
   {
    "duration": 9,
    "start_time": "2025-04-15T07:50:53.301Z"
   },
   {
    "duration": 11,
    "start_time": "2025-04-15T07:50:53.312Z"
   },
   {
    "duration": 48,
    "start_time": "2025-04-15T07:50:53.325Z"
   },
   {
    "duration": 11,
    "start_time": "2025-04-15T07:50:53.377Z"
   },
   {
    "duration": 12,
    "start_time": "2025-04-15T07:50:53.390Z"
   },
   {
    "duration": 14,
    "start_time": "2025-04-15T07:50:53.404Z"
   },
   {
    "duration": 11,
    "start_time": "2025-04-15T07:50:53.420Z"
   },
   {
    "duration": 43,
    "start_time": "2025-04-15T07:50:53.433Z"
   },
   {
    "duration": 22,
    "start_time": "2025-04-15T07:50:53.477Z"
   },
   {
    "duration": 10,
    "start_time": "2025-04-15T07:50:53.500Z"
   },
   {
    "duration": 78,
    "start_time": "2025-04-15T07:50:53.512Z"
   },
   {
    "duration": 15,
    "start_time": "2025-04-15T07:50:53.592Z"
   },
   {
    "duration": 63,
    "start_time": "2025-04-15T07:50:53.609Z"
   },
   {
    "duration": 8,
    "start_time": "2025-04-15T07:50:53.674Z"
   },
   {
    "duration": 13,
    "start_time": "2025-04-15T07:50:53.684Z"
   },
   {
    "duration": 7,
    "start_time": "2025-04-15T07:50:53.699Z"
   },
   {
    "duration": 15,
    "start_time": "2025-04-15T07:50:53.708Z"
   },
   {
    "duration": 281,
    "start_time": "2025-04-15T07:50:53.725Z"
   },
   {
    "duration": 145,
    "start_time": "2025-04-15T07:50:54.008Z"
   },
   {
    "duration": 0,
    "start_time": "2025-04-15T07:50:54.155Z"
   },
   {
    "duration": 0,
    "start_time": "2025-04-15T07:50:54.156Z"
   },
   {
    "duration": 0,
    "start_time": "2025-04-15T07:50:54.157Z"
   },
   {
    "duration": 0,
    "start_time": "2025-04-15T07:50:54.172Z"
   },
   {
    "duration": 0,
    "start_time": "2025-04-15T07:50:54.173Z"
   },
   {
    "duration": 0,
    "start_time": "2025-04-15T07:50:54.174Z"
   },
   {
    "duration": 0,
    "start_time": "2025-04-15T07:50:54.176Z"
   },
   {
    "duration": 0,
    "start_time": "2025-04-15T07:50:54.177Z"
   },
   {
    "duration": 0,
    "start_time": "2025-04-15T07:50:54.178Z"
   },
   {
    "duration": 391,
    "start_time": "2025-04-15T07:51:33.732Z"
   },
   {
    "duration": 32,
    "start_time": "2025-04-15T12:19:45.170Z"
   },
   {
    "duration": 10,
    "start_time": "2025-04-15T12:20:11.594Z"
   },
   {
    "duration": 5,
    "start_time": "2025-04-15T12:20:21.447Z"
   },
   {
    "duration": 4,
    "start_time": "2025-04-15T12:20:32.876Z"
   },
   {
    "duration": 202,
    "start_time": "2025-04-15T12:21:44.710Z"
   },
   {
    "duration": 245,
    "start_time": "2025-04-15T12:21:52.450Z"
   },
   {
    "duration": 299,
    "start_time": "2025-04-15T12:22:02.103Z"
   },
   {
    "duration": 451,
    "start_time": "2025-04-15T12:22:18.638Z"
   },
   {
    "duration": 333,
    "start_time": "2025-04-15T12:30:26.079Z"
   },
   {
    "duration": 313,
    "start_time": "2025-04-15T12:30:41.466Z"
   },
   {
    "duration": 1390,
    "start_time": "2025-04-15T12:32:09.328Z"
   },
   {
    "duration": 13,
    "start_time": "2025-04-15T12:32:17.025Z"
   },
   {
    "duration": 244,
    "start_time": "2025-04-15T12:32:24.872Z"
   },
   {
    "duration": 165,
    "start_time": "2025-04-15T12:35:44.787Z"
   },
   {
    "duration": 188,
    "start_time": "2025-04-15T12:35:52.849Z"
   },
   {
    "duration": 236,
    "start_time": "2025-04-15T12:36:34.967Z"
   },
   {
    "duration": 81,
    "start_time": "2025-04-15T12:40:04.851Z"
   },
   {
    "duration": 78,
    "start_time": "2025-04-15T12:41:47.071Z"
   },
   {
    "duration": 6,
    "start_time": "2025-04-15T12:43:54.510Z"
   },
   {
    "duration": 249,
    "start_time": "2025-04-15T12:45:04.597Z"
   },
   {
    "duration": 98,
    "start_time": "2025-04-15T12:45:33.431Z"
   },
   {
    "duration": 206,
    "start_time": "2025-04-15T12:46:33.255Z"
   },
   {
    "duration": 7,
    "start_time": "2025-04-15T12:46:49.261Z"
   },
   {
    "duration": 6,
    "start_time": "2025-04-15T12:52:03.730Z"
   },
   {
    "duration": 247,
    "start_time": "2025-04-15T12:58:10.341Z"
   },
   {
    "duration": 101,
    "start_time": "2025-04-15T12:59:50.159Z"
   },
   {
    "duration": 108,
    "start_time": "2025-04-15T13:00:03.449Z"
   },
   {
    "duration": 13,
    "start_time": "2025-04-15T13:02:56.323Z"
   },
   {
    "duration": 5,
    "start_time": "2025-04-15T13:03:07.068Z"
   },
   {
    "duration": 385,
    "start_time": "2025-04-15T13:03:10.175Z"
   },
   {
    "duration": 315,
    "start_time": "2025-04-15T13:03:15.334Z"
   },
   {
    "duration": 12,
    "start_time": "2025-04-15T13:04:24.384Z"
   },
   {
    "duration": 10,
    "start_time": "2025-04-15T13:04:32.842Z"
   },
   {
    "duration": 268,
    "start_time": "2025-04-15T13:13:46.375Z"
   },
   {
    "duration": 34,
    "start_time": "2025-04-15T13:14:52.403Z"
   },
   {
    "duration": 1434,
    "start_time": "2025-04-15T13:16:21.203Z"
   },
   {
    "duration": 1371,
    "start_time": "2025-04-15T13:16:43.037Z"
   },
   {
    "duration": 93,
    "start_time": "2025-04-15T13:16:44.410Z"
   },
   {
    "duration": 16,
    "start_time": "2025-04-15T13:16:44.505Z"
   },
   {
    "duration": 12,
    "start_time": "2025-04-15T13:16:44.524Z"
   },
   {
    "duration": 17,
    "start_time": "2025-04-15T13:16:44.538Z"
   },
   {
    "duration": 21,
    "start_time": "2025-04-15T13:16:44.557Z"
   },
   {
    "duration": 9,
    "start_time": "2025-04-15T13:16:44.580Z"
   },
   {
    "duration": 11,
    "start_time": "2025-04-15T13:16:44.590Z"
   },
   {
    "duration": 16,
    "start_time": "2025-04-15T13:16:44.603Z"
   },
   {
    "duration": 49,
    "start_time": "2025-04-15T13:16:44.622Z"
   },
   {
    "duration": 11,
    "start_time": "2025-04-15T13:16:44.673Z"
   },
   {
    "duration": 12,
    "start_time": "2025-04-15T13:16:44.687Z"
   },
   {
    "duration": 14,
    "start_time": "2025-04-15T13:16:44.701Z"
   },
   {
    "duration": 8,
    "start_time": "2025-04-15T13:16:44.717Z"
   },
   {
    "duration": 55,
    "start_time": "2025-04-15T13:16:44.728Z"
   },
   {
    "duration": 8,
    "start_time": "2025-04-15T13:16:44.785Z"
   },
   {
    "duration": 55,
    "start_time": "2025-04-15T13:16:44.795Z"
   },
   {
    "duration": 17,
    "start_time": "2025-04-15T13:16:44.871Z"
   },
   {
    "duration": 60,
    "start_time": "2025-04-15T13:16:44.890Z"
   },
   {
    "duration": 20,
    "start_time": "2025-04-15T13:16:44.952Z"
   },
   {
    "duration": 13,
    "start_time": "2025-04-15T13:16:44.974Z"
   },
   {
    "duration": 28,
    "start_time": "2025-04-15T13:16:44.990Z"
   },
   {
    "duration": 134,
    "start_time": "2025-04-15T13:16:45.021Z"
   },
   {
    "duration": 0,
    "start_time": "2025-04-15T13:16:45.158Z"
   },
   {
    "duration": 0,
    "start_time": "2025-04-15T13:16:45.159Z"
   },
   {
    "duration": 0,
    "start_time": "2025-04-15T13:16:45.160Z"
   },
   {
    "duration": 0,
    "start_time": "2025-04-15T13:16:45.171Z"
   },
   {
    "duration": 0,
    "start_time": "2025-04-15T13:16:45.173Z"
   },
   {
    "duration": 0,
    "start_time": "2025-04-15T13:16:45.174Z"
   },
   {
    "duration": 0,
    "start_time": "2025-04-15T13:16:45.175Z"
   },
   {
    "duration": 0,
    "start_time": "2025-04-15T13:16:45.177Z"
   },
   {
    "duration": 0,
    "start_time": "2025-04-15T13:16:45.179Z"
   },
   {
    "duration": 0,
    "start_time": "2025-04-15T13:16:45.180Z"
   },
   {
    "duration": 0,
    "start_time": "2025-04-15T13:16:45.182Z"
   },
   {
    "duration": 0,
    "start_time": "2025-04-15T13:16:45.183Z"
   },
   {
    "duration": 0,
    "start_time": "2025-04-15T13:16:45.185Z"
   },
   {
    "duration": 0,
    "start_time": "2025-04-15T13:16:45.186Z"
   },
   {
    "duration": 1,
    "start_time": "2025-04-15T13:16:45.187Z"
   },
   {
    "duration": 1,
    "start_time": "2025-04-15T13:16:45.188Z"
   },
   {
    "duration": 0,
    "start_time": "2025-04-15T13:16:45.190Z"
   },
   {
    "duration": 0,
    "start_time": "2025-04-15T13:16:45.191Z"
   },
   {
    "duration": 0,
    "start_time": "2025-04-15T13:16:45.193Z"
   },
   {
    "duration": 8,
    "start_time": "2025-04-15T13:17:09.950Z"
   },
   {
    "duration": 31,
    "start_time": "2025-04-15T13:17:10.538Z"
   },
   {
    "duration": 5,
    "start_time": "2025-04-15T13:17:16.580Z"
   },
   {
    "duration": 4,
    "start_time": "2025-04-15T13:17:17.758Z"
   },
   {
    "duration": 124,
    "start_time": "2025-04-15T13:17:19.644Z"
   },
   {
    "duration": 239,
    "start_time": "2025-04-15T13:17:25.558Z"
   },
   {
    "duration": 234,
    "start_time": "2025-04-15T13:17:39.436Z"
   },
   {
    "duration": 247,
    "start_time": "2025-04-15T13:17:52.003Z"
   },
   {
    "duration": 5,
    "start_time": "2025-04-15T13:18:44.590Z"
   },
   {
    "duration": 242,
    "start_time": "2025-04-15T13:18:49.435Z"
   },
   {
    "duration": 6,
    "start_time": "2025-04-15T13:20:08.116Z"
   },
   {
    "duration": 5,
    "start_time": "2025-04-15T13:20:09.743Z"
   },
   {
    "duration": 110,
    "start_time": "2025-04-15T13:20:12.474Z"
   },
   {
    "duration": 240,
    "start_time": "2025-04-15T13:20:21.440Z"
   },
   {
    "duration": 204,
    "start_time": "2025-04-15T13:21:25.414Z"
   },
   {
    "duration": 214,
    "start_time": "2025-04-15T13:21:37.442Z"
   },
   {
    "duration": 348,
    "start_time": "2025-04-15T13:21:47.374Z"
   },
   {
    "duration": 6,
    "start_time": "2025-04-15T13:22:40.332Z"
   },
   {
    "duration": 5,
    "start_time": "2025-04-15T13:23:00.416Z"
   },
   {
    "duration": 283,
    "start_time": "2025-04-15T13:23:06.003Z"
   },
   {
    "duration": 6,
    "start_time": "2025-04-15T13:23:42.448Z"
   },
   {
    "duration": 250,
    "start_time": "2025-04-15T13:23:45.473Z"
   },
   {
    "duration": 6,
    "start_time": "2025-04-15T13:24:02.628Z"
   },
   {
    "duration": 247,
    "start_time": "2025-04-15T13:24:05.767Z"
   },
   {
    "duration": 205,
    "start_time": "2025-04-15T13:24:34.152Z"
   },
   {
    "duration": 81,
    "start_time": "2025-04-15T13:31:00.834Z"
   },
   {
    "duration": 24,
    "start_time": "2025-04-15T13:31:05.404Z"
   },
   {
    "duration": 141,
    "start_time": "2025-04-15T13:31:13.547Z"
   },
   {
    "duration": 108,
    "start_time": "2025-04-15T13:31:24.954Z"
   },
   {
    "duration": 6,
    "start_time": "2025-04-15T13:32:13.005Z"
   },
   {
    "duration": 5,
    "start_time": "2025-04-15T13:32:15.360Z"
   },
   {
    "duration": 246,
    "start_time": "2025-04-15T13:32:21.998Z"
   },
   {
    "duration": 236,
    "start_time": "2025-04-15T13:32:52.909Z"
   },
   {
    "duration": 278,
    "start_time": "2025-04-15T13:32:57.466Z"
   },
   {
    "duration": 283,
    "start_time": "2025-04-15T13:33:06.995Z"
   },
   {
    "duration": 7,
    "start_time": "2025-04-15T13:33:31.714Z"
   },
   {
    "duration": 376,
    "start_time": "2025-04-15T13:33:36.761Z"
   },
   {
    "duration": 217,
    "start_time": "2025-04-15T13:33:42.042Z"
   },
   {
    "duration": 199,
    "start_time": "2025-04-15T13:34:50.520Z"
   },
   {
    "duration": 278,
    "start_time": "2025-04-15T13:36:39.852Z"
   },
   {
    "duration": 212,
    "start_time": "2025-04-15T13:40:36.846Z"
   },
   {
    "duration": 197,
    "start_time": "2025-04-15T13:40:43.362Z"
   },
   {
    "duration": 211,
    "start_time": "2025-04-15T13:41:21.353Z"
   },
   {
    "duration": 184,
    "start_time": "2025-04-15T13:42:54.079Z"
   },
   {
    "duration": 192,
    "start_time": "2025-04-15T13:43:08.455Z"
   },
   {
    "duration": 203,
    "start_time": "2025-04-15T13:44:17.389Z"
   },
   {
    "duration": 6,
    "start_time": "2025-04-15T13:58:48.437Z"
   },
   {
    "duration": 210,
    "start_time": "2025-04-15T13:58:54.398Z"
   },
   {
    "duration": 7,
    "start_time": "2025-04-15T14:00:12.813Z"
   },
   {
    "duration": 330,
    "start_time": "2025-04-15T14:00:21.403Z"
   },
   {
    "duration": 221,
    "start_time": "2025-04-15T14:01:49.057Z"
   },
   {
    "duration": 199,
    "start_time": "2025-04-15T14:04:29.041Z"
   },
   {
    "duration": 11,
    "start_time": "2025-04-15T14:07:49.834Z"
   },
   {
    "duration": 1778,
    "start_time": "2025-04-15T14:07:54.573Z"
   },
   {
    "duration": 9,
    "start_time": "2025-04-15T14:09:22.398Z"
   },
   {
    "duration": 9,
    "start_time": "2025-04-15T14:12:34.065Z"
   },
   {
    "duration": 1912,
    "start_time": "2025-04-15T14:12:39.455Z"
   },
   {
    "duration": 8,
    "start_time": "2025-04-15T14:14:40.854Z"
   },
   {
    "duration": 11,
    "start_time": "2025-04-15T14:14:56.224Z"
   },
   {
    "duration": 1613,
    "start_time": "2025-04-15T14:15:02.927Z"
   },
   {
    "duration": 7,
    "start_time": "2025-04-15T14:16:24.655Z"
   },
   {
    "duration": 257,
    "start_time": "2025-04-15T14:16:31.381Z"
   },
   {
    "duration": 8,
    "start_time": "2025-04-15T14:18:05.520Z"
   },
   {
    "duration": 256,
    "start_time": "2025-04-15T14:18:17.807Z"
   },
   {
    "duration": 7,
    "start_time": "2025-04-15T14:18:49.936Z"
   },
   {
    "duration": 224,
    "start_time": "2025-04-15T14:18:53.755Z"
   },
   {
    "duration": 8,
    "start_time": "2025-04-15T14:19:58.103Z"
   },
   {
    "duration": 234,
    "start_time": "2025-04-15T14:20:03.011Z"
   },
   {
    "duration": 8,
    "start_time": "2025-04-15T14:20:38.696Z"
   },
   {
    "duration": 210,
    "start_time": "2025-04-15T14:20:42.434Z"
   },
   {
    "duration": 11,
    "start_time": "2025-04-15T14:21:20.903Z"
   },
   {
    "duration": 242,
    "start_time": "2025-04-15T14:21:25.500Z"
   },
   {
    "duration": 1356,
    "start_time": "2025-04-15T14:22:10.383Z"
   },
   {
    "duration": 95,
    "start_time": "2025-04-15T14:22:11.741Z"
   },
   {
    "duration": 20,
    "start_time": "2025-04-15T14:22:11.838Z"
   },
   {
    "duration": 13,
    "start_time": "2025-04-15T14:22:11.861Z"
   },
   {
    "duration": 20,
    "start_time": "2025-04-15T14:22:11.876Z"
   },
   {
    "duration": 15,
    "start_time": "2025-04-15T14:22:11.898Z"
   },
   {
    "duration": 12,
    "start_time": "2025-04-15T14:22:11.915Z"
   },
   {
    "duration": 42,
    "start_time": "2025-04-15T14:22:11.929Z"
   },
   {
    "duration": 14,
    "start_time": "2025-04-15T14:22:11.973Z"
   },
   {
    "duration": 11,
    "start_time": "2025-04-15T14:22:11.990Z"
   },
   {
    "duration": 12,
    "start_time": "2025-04-15T14:22:12.002Z"
   },
   {
    "duration": 12,
    "start_time": "2025-04-15T14:22:12.016Z"
   },
   {
    "duration": 49,
    "start_time": "2025-04-15T14:22:12.030Z"
   },
   {
    "duration": 8,
    "start_time": "2025-04-15T14:22:12.081Z"
   },
   {
    "duration": 88,
    "start_time": "2025-04-15T14:22:12.091Z"
   },
   {
    "duration": 9,
    "start_time": "2025-04-15T14:22:12.181Z"
   },
   {
    "duration": 65,
    "start_time": "2025-04-15T14:22:12.192Z"
   },
   {
    "duration": 26,
    "start_time": "2025-04-15T14:22:12.259Z"
   },
   {
    "duration": 56,
    "start_time": "2025-04-15T14:22:12.288Z"
   },
   {
    "duration": 37,
    "start_time": "2025-04-15T14:22:12.346Z"
   },
   {
    "duration": 14,
    "start_time": "2025-04-15T14:22:12.385Z"
   },
   {
    "duration": 29,
    "start_time": "2025-04-15T14:22:12.402Z"
   },
   {
    "duration": 9,
    "start_time": "2025-04-15T14:22:12.432Z"
   },
   {
    "duration": 33,
    "start_time": "2025-04-15T14:22:12.443Z"
   },
   {
    "duration": 12,
    "start_time": "2025-04-15T14:22:12.478Z"
   },
   {
    "duration": 138,
    "start_time": "2025-04-15T14:22:12.493Z"
   },
   {
    "duration": 262,
    "start_time": "2025-04-15T14:22:12.633Z"
   },
   {
    "duration": 237,
    "start_time": "2025-04-15T14:22:12.899Z"
   },
   {
    "duration": 233,
    "start_time": "2025-04-15T14:22:13.138Z"
   },
   {
    "duration": 261,
    "start_time": "2025-04-15T14:22:13.374Z"
   },
   {
    "duration": 286,
    "start_time": "2025-04-15T14:22:13.637Z"
   },
   {
    "duration": 297,
    "start_time": "2025-04-15T14:22:13.925Z"
   },
   {
    "duration": 221,
    "start_time": "2025-04-15T14:22:14.224Z"
   },
   {
    "duration": 225,
    "start_time": "2025-04-15T14:22:14.447Z"
   },
   {
    "duration": 318,
    "start_time": "2025-04-15T14:22:14.674Z"
   },
   {
    "duration": 382,
    "start_time": "2025-04-15T14:22:14.995Z"
   },
   {
    "duration": 491,
    "start_time": "2025-04-15T14:22:15.379Z"
   },
   {
    "duration": 503,
    "start_time": "2025-04-15T14:22:15.873Z"
   },
   {
    "duration": 413,
    "start_time": "2025-04-15T14:22:16.378Z"
   },
   {
    "duration": 279,
    "start_time": "2025-04-15T14:22:16.793Z"
   },
   {
    "duration": 216,
    "start_time": "2025-04-15T14:22:17.074Z"
   },
   {
    "duration": 220,
    "start_time": "2025-04-15T14:22:17.292Z"
   },
   {
    "duration": 225,
    "start_time": "2025-04-15T14:22:17.514Z"
   },
   {
    "duration": 235,
    "start_time": "2025-04-15T14:22:17.741Z"
   },
   {
    "duration": 16,
    "start_time": "2025-04-15T14:31:35.543Z"
   },
   {
    "duration": 41,
    "start_time": "2025-04-15T14:33:05.263Z"
   },
   {
    "duration": 385,
    "start_time": "2025-04-15T14:33:16.114Z"
   },
   {
    "duration": 15,
    "start_time": "2025-04-15T14:34:28.768Z"
   },
   {
    "duration": 12,
    "start_time": "2025-04-15T14:36:16.164Z"
   },
   {
    "duration": 11,
    "start_time": "2025-04-15T14:37:11.169Z"
   },
   {
    "duration": 1367,
    "start_time": "2025-04-15T14:37:16.365Z"
   },
   {
    "duration": 96,
    "start_time": "2025-04-15T14:37:17.734Z"
   },
   {
    "duration": 17,
    "start_time": "2025-04-15T14:37:17.832Z"
   },
   {
    "duration": 12,
    "start_time": "2025-04-15T14:37:17.851Z"
   },
   {
    "duration": 19,
    "start_time": "2025-04-15T14:37:17.865Z"
   },
   {
    "duration": 14,
    "start_time": "2025-04-15T14:37:17.887Z"
   },
   {
    "duration": 21,
    "start_time": "2025-04-15T14:37:17.903Z"
   },
   {
    "duration": 14,
    "start_time": "2025-04-15T14:37:17.926Z"
   },
   {
    "duration": 36,
    "start_time": "2025-04-15T14:37:17.942Z"
   },
   {
    "duration": 10,
    "start_time": "2025-04-15T14:37:17.981Z"
   },
   {
    "duration": 16,
    "start_time": "2025-04-15T14:37:17.993Z"
   },
   {
    "duration": 18,
    "start_time": "2025-04-15T14:37:18.010Z"
   },
   {
    "duration": 25,
    "start_time": "2025-04-15T14:37:18.030Z"
   },
   {
    "duration": 9,
    "start_time": "2025-04-15T14:37:18.072Z"
   },
   {
    "duration": 19,
    "start_time": "2025-04-15T14:37:18.083Z"
   },
   {
    "duration": 9,
    "start_time": "2025-04-15T14:37:18.104Z"
   },
   {
    "duration": 86,
    "start_time": "2025-04-15T14:37:18.115Z"
   },
   {
    "duration": 16,
    "start_time": "2025-04-15T14:37:18.203Z"
   },
   {
    "duration": 67,
    "start_time": "2025-04-15T14:37:18.221Z"
   },
   {
    "duration": 8,
    "start_time": "2025-04-15T14:37:18.290Z"
   },
   {
    "duration": 15,
    "start_time": "2025-04-15T14:37:18.301Z"
   },
   {
    "duration": 29,
    "start_time": "2025-04-15T14:37:18.317Z"
   },
   {
    "duration": 9,
    "start_time": "2025-04-15T14:37:18.370Z"
   },
   {
    "duration": 47,
    "start_time": "2025-04-15T14:37:18.381Z"
   },
   {
    "duration": 26,
    "start_time": "2025-04-15T14:37:18.430Z"
   },
   {
    "duration": 7,
    "start_time": "2025-04-15T14:37:18.458Z"
   },
   {
    "duration": 9,
    "start_time": "2025-04-15T14:37:18.467Z"
   },
   {
    "duration": 139,
    "start_time": "2025-04-15T14:37:18.477Z"
   },
   {
    "duration": 367,
    "start_time": "2025-04-15T14:37:18.618Z"
   },
   {
    "duration": 498,
    "start_time": "2025-04-15T14:37:18.987Z"
   },
   {
    "duration": 488,
    "start_time": "2025-04-15T14:37:19.488Z"
   },
   {
    "duration": 516,
    "start_time": "2025-04-15T14:37:19.978Z"
   },
   {
    "duration": 347,
    "start_time": "2025-04-15T14:37:20.497Z"
   },
   {
    "duration": 292,
    "start_time": "2025-04-15T14:37:20.846Z"
   },
   {
    "duration": 216,
    "start_time": "2025-04-15T14:37:21.141Z"
   },
   {
    "duration": 217,
    "start_time": "2025-04-15T14:37:21.359Z"
   },
   {
    "duration": 536,
    "start_time": "2025-04-15T14:37:21.578Z"
   },
   {
    "duration": 422,
    "start_time": "2025-04-15T14:37:22.171Z"
   },
   {
    "duration": 484,
    "start_time": "2025-04-15T14:37:22.595Z"
   },
   {
    "duration": 424,
    "start_time": "2025-04-15T14:37:23.081Z"
   },
   {
    "duration": 255,
    "start_time": "2025-04-15T14:37:23.509Z"
   },
   {
    "duration": 222,
    "start_time": "2025-04-15T14:37:23.772Z"
   },
   {
    "duration": 219,
    "start_time": "2025-04-15T14:37:23.997Z"
   },
   {
    "duration": 221,
    "start_time": "2025-04-15T14:37:24.219Z"
   },
   {
    "duration": 227,
    "start_time": "2025-04-15T14:37:24.443Z"
   },
   {
    "duration": 231,
    "start_time": "2025-04-15T14:37:24.672Z"
   },
   {
    "duration": 9,
    "start_time": "2025-04-15T14:37:44.823Z"
   },
   {
    "duration": 18,
    "start_time": "2025-04-15T14:38:14.355Z"
   },
   {
    "duration": 1488,
    "start_time": "2025-04-15T14:38:22.559Z"
   },
   {
    "duration": 11,
    "start_time": "2025-04-15T14:38:48.415Z"
   },
   {
    "duration": 11,
    "start_time": "2025-04-15T14:38:57.049Z"
   },
   {
    "duration": 17,
    "start_time": "2025-04-15T14:40:27.825Z"
   },
   {
    "duration": 12,
    "start_time": "2025-04-15T14:40:29.326Z"
   },
   {
    "duration": 74,
    "start_time": "2025-04-15T14:41:36.470Z"
   },
   {
    "duration": 12,
    "start_time": "2025-04-15T14:41:45.148Z"
   },
   {
    "duration": 212,
    "start_time": "2025-04-15T14:41:56.472Z"
   },
   {
    "duration": 1452,
    "start_time": "2025-04-15T14:42:17.656Z"
   },
   {
    "duration": 104,
    "start_time": "2025-04-15T14:42:19.111Z"
   },
   {
    "duration": 18,
    "start_time": "2025-04-15T14:42:19.217Z"
   },
   {
    "duration": 14,
    "start_time": "2025-04-15T14:42:19.237Z"
   },
   {
    "duration": 18,
    "start_time": "2025-04-15T14:42:19.253Z"
   },
   {
    "duration": 14,
    "start_time": "2025-04-15T14:42:19.274Z"
   },
   {
    "duration": 11,
    "start_time": "2025-04-15T14:42:19.291Z"
   },
   {
    "duration": 11,
    "start_time": "2025-04-15T14:42:19.305Z"
   },
   {
    "duration": 53,
    "start_time": "2025-04-15T14:42:19.318Z"
   },
   {
    "duration": 10,
    "start_time": "2025-04-15T14:42:19.373Z"
   },
   {
    "duration": 13,
    "start_time": "2025-04-15T14:42:19.385Z"
   },
   {
    "duration": 23,
    "start_time": "2025-04-15T14:42:19.400Z"
   },
   {
    "duration": 45,
    "start_time": "2025-04-15T14:42:19.426Z"
   },
   {
    "duration": 9,
    "start_time": "2025-04-15T14:42:19.475Z"
   },
   {
    "duration": 19,
    "start_time": "2025-04-15T14:42:19.486Z"
   },
   {
    "duration": 16,
    "start_time": "2025-04-15T14:42:19.508Z"
   },
   {
    "duration": 78,
    "start_time": "2025-04-15T14:42:19.526Z"
   },
   {
    "duration": 15,
    "start_time": "2025-04-15T14:42:19.607Z"
   },
   {
    "duration": 68,
    "start_time": "2025-04-15T14:42:19.624Z"
   },
   {
    "duration": 8,
    "start_time": "2025-04-15T14:42:19.694Z"
   },
   {
    "duration": 21,
    "start_time": "2025-04-15T14:42:19.704Z"
   },
   {
    "duration": 49,
    "start_time": "2025-04-15T14:42:19.727Z"
   },
   {
    "duration": 11,
    "start_time": "2025-04-15T14:42:19.779Z"
   },
   {
    "duration": 30,
    "start_time": "2025-04-15T14:42:19.792Z"
   },
   {
    "duration": 8,
    "start_time": "2025-04-15T14:42:19.824Z"
   },
   {
    "duration": 36,
    "start_time": "2025-04-15T14:42:19.835Z"
   },
   {
    "duration": 144,
    "start_time": "2025-04-15T14:42:19.873Z"
   },
   {
    "duration": 274,
    "start_time": "2025-04-15T14:42:20.019Z"
   },
   {
    "duration": 244,
    "start_time": "2025-04-15T14:42:20.295Z"
   },
   {
    "duration": 246,
    "start_time": "2025-04-15T14:42:20.541Z"
   },
   {
    "duration": 276,
    "start_time": "2025-04-15T14:42:20.789Z"
   },
   {
    "duration": 308,
    "start_time": "2025-04-15T14:42:21.071Z"
   },
   {
    "duration": 313,
    "start_time": "2025-04-15T14:42:21.382Z"
   },
   {
    "duration": 236,
    "start_time": "2025-04-15T14:42:21.698Z"
   },
   {
    "duration": 229,
    "start_time": "2025-04-15T14:42:21.935Z"
   },
   {
    "duration": 358,
    "start_time": "2025-04-15T14:42:22.170Z"
   },
   {
    "duration": 241,
    "start_time": "2025-04-15T14:42:22.530Z"
   },
   {
    "duration": 242,
    "start_time": "2025-04-15T14:42:22.774Z"
   },
   {
    "duration": 231,
    "start_time": "2025-04-15T14:42:23.018Z"
   },
   {
    "duration": 238,
    "start_time": "2025-04-15T14:42:23.251Z"
   },
   {
    "duration": 236,
    "start_time": "2025-04-15T14:42:23.494Z"
   },
   {
    "duration": 245,
    "start_time": "2025-04-15T14:42:23.733Z"
   },
   {
    "duration": 247,
    "start_time": "2025-04-15T14:42:23.980Z"
   },
   {
    "duration": 232,
    "start_time": "2025-04-15T14:42:24.230Z"
   },
   {
    "duration": 247,
    "start_time": "2025-04-15T14:42:24.464Z"
   },
   {
    "duration": 19,
    "start_time": "2025-04-15T16:07:05.249Z"
   },
   {
    "duration": 1422,
    "start_time": "2025-04-15T16:29:21.840Z"
   },
   {
    "duration": 101,
    "start_time": "2025-04-15T16:29:23.264Z"
   },
   {
    "duration": 19,
    "start_time": "2025-04-15T16:29:23.367Z"
   },
   {
    "duration": 14,
    "start_time": "2025-04-15T16:29:23.388Z"
   },
   {
    "duration": 24,
    "start_time": "2025-04-15T16:29:23.405Z"
   },
   {
    "duration": 36,
    "start_time": "2025-04-15T16:29:23.431Z"
   },
   {
    "duration": 10,
    "start_time": "2025-04-15T16:29:23.469Z"
   },
   {
    "duration": 11,
    "start_time": "2025-04-15T16:29:23.481Z"
   },
   {
    "duration": 17,
    "start_time": "2025-04-15T16:29:23.494Z"
   },
   {
    "duration": 10,
    "start_time": "2025-04-15T16:29:23.513Z"
   },
   {
    "duration": 54,
    "start_time": "2025-04-15T16:29:23.525Z"
   },
   {
    "duration": 14,
    "start_time": "2025-04-15T16:29:23.581Z"
   },
   {
    "duration": 13,
    "start_time": "2025-04-15T16:29:23.598Z"
   },
   {
    "duration": 63,
    "start_time": "2025-04-15T16:29:23.615Z"
   },
   {
    "duration": 20,
    "start_time": "2025-04-15T16:29:23.680Z"
   },
   {
    "duration": 10,
    "start_time": "2025-04-15T16:29:23.702Z"
   },
   {
    "duration": 24,
    "start_time": "2025-04-15T16:29:23.770Z"
   },
   {
    "duration": 110,
    "start_time": "2025-04-15T16:29:23.797Z"
   },
   {
    "duration": 9,
    "start_time": "2025-04-15T16:29:23.909Z"
   },
   {
    "duration": 16,
    "start_time": "2025-04-15T16:29:23.971Z"
   },
   {
    "duration": 84,
    "start_time": "2025-04-15T16:29:23.989Z"
   },
   {
    "duration": 15,
    "start_time": "2025-04-15T16:29:24.076Z"
   },
   {
    "duration": 13,
    "start_time": "2025-04-15T16:29:24.094Z"
   },
   {
    "duration": 66,
    "start_time": "2025-04-15T16:29:24.109Z"
   },
   {
    "duration": 8,
    "start_time": "2025-04-15T16:29:24.179Z"
   },
   {
    "duration": 302,
    "start_time": "2025-04-15T16:29:24.191Z"
   },
   {
    "duration": 616,
    "start_time": "2025-04-15T16:29:24.496Z"
   },
   {
    "duration": 512,
    "start_time": "2025-04-15T16:29:25.170Z"
   },
   {
    "duration": 348,
    "start_time": "2025-04-15T16:29:25.684Z"
   },
   {
    "duration": 303,
    "start_time": "2025-04-15T16:29:26.034Z"
   },
   {
    "duration": 310,
    "start_time": "2025-04-15T16:29:26.339Z"
   },
   {
    "duration": 325,
    "start_time": "2025-04-15T16:29:26.651Z"
   },
   {
    "duration": 242,
    "start_time": "2025-04-15T16:29:26.978Z"
   },
   {
    "duration": 235,
    "start_time": "2025-04-15T16:29:27.222Z"
   },
   {
    "duration": 372,
    "start_time": "2025-04-15T16:29:27.471Z"
   },
   {
    "duration": 258,
    "start_time": "2025-04-15T16:29:27.845Z"
   },
   {
    "duration": 237,
    "start_time": "2025-04-15T16:29:28.106Z"
   },
   {
    "duration": 262,
    "start_time": "2025-04-15T16:29:28.345Z"
   },
   {
    "duration": 263,
    "start_time": "2025-04-15T16:29:28.610Z"
   },
   {
    "duration": 238,
    "start_time": "2025-04-15T16:29:28.875Z"
   },
   {
    "duration": 239,
    "start_time": "2025-04-15T16:29:29.117Z"
   },
   {
    "duration": 249,
    "start_time": "2025-04-15T16:29:29.358Z"
   },
   {
    "duration": 236,
    "start_time": "2025-04-15T16:29:29.609Z"
   },
   {
    "duration": 287,
    "start_time": "2025-04-15T16:29:29.848Z"
   },
   {
    "duration": 34,
    "start_time": "2025-04-15T16:29:30.137Z"
   },
   {
    "duration": 1574,
    "start_time": "2025-04-15T16:30:44.880Z"
   },
   {
    "duration": 1398,
    "start_time": "2025-04-15T16:30:51.559Z"
   },
   {
    "duration": 111,
    "start_time": "2025-04-15T16:30:52.960Z"
   },
   {
    "duration": 26,
    "start_time": "2025-04-15T16:30:53.074Z"
   },
   {
    "duration": 13,
    "start_time": "2025-04-15T16:30:53.104Z"
   },
   {
    "duration": 20,
    "start_time": "2025-04-15T16:30:53.119Z"
   },
   {
    "duration": 16,
    "start_time": "2025-04-15T16:30:53.140Z"
   },
   {
    "duration": 9,
    "start_time": "2025-04-15T16:30:53.170Z"
   },
   {
    "duration": 11,
    "start_time": "2025-04-15T16:30:53.182Z"
   },
   {
    "duration": 18,
    "start_time": "2025-04-15T16:30:53.195Z"
   },
   {
    "duration": 18,
    "start_time": "2025-04-15T16:30:53.216Z"
   },
   {
    "duration": 21,
    "start_time": "2025-04-15T16:30:53.236Z"
   },
   {
    "duration": 19,
    "start_time": "2025-04-15T16:30:53.259Z"
   },
   {
    "duration": 12,
    "start_time": "2025-04-15T16:30:53.280Z"
   },
   {
    "duration": 8,
    "start_time": "2025-04-15T16:30:53.294Z"
   },
   {
    "duration": 20,
    "start_time": "2025-04-15T16:30:53.304Z"
   },
   {
    "duration": 9,
    "start_time": "2025-04-15T16:30:53.326Z"
   },
   {
    "duration": 54,
    "start_time": "2025-04-15T16:30:53.337Z"
   },
   {
    "duration": 110,
    "start_time": "2025-04-15T16:30:53.393Z"
   },
   {
    "duration": 9,
    "start_time": "2025-04-15T16:30:53.505Z"
   },
   {
    "duration": 17,
    "start_time": "2025-04-15T16:30:53.516Z"
   },
   {
    "duration": 61,
    "start_time": "2025-04-15T16:30:53.535Z"
   },
   {
    "duration": 10,
    "start_time": "2025-04-15T16:30:53.598Z"
   },
   {
    "duration": 64,
    "start_time": "2025-04-15T16:30:53.611Z"
   },
   {
    "duration": 10,
    "start_time": "2025-04-15T16:30:53.678Z"
   },
   {
    "duration": 6,
    "start_time": "2025-04-15T16:30:53.690Z"
   },
   {
    "duration": 243,
    "start_time": "2025-04-15T16:30:53.698Z"
   },
   {
    "duration": 280,
    "start_time": "2025-04-15T16:30:53.944Z"
   },
   {
    "duration": 248,
    "start_time": "2025-04-15T16:30:54.228Z"
   },
   {
    "duration": 236,
    "start_time": "2025-04-15T16:30:54.480Z"
   },
   {
    "duration": 273,
    "start_time": "2025-04-15T16:30:54.718Z"
   },
   {
    "duration": 317,
    "start_time": "2025-04-15T16:30:54.993Z"
   },
   {
    "duration": 331,
    "start_time": "2025-04-15T16:30:55.313Z"
   },
   {
    "duration": 250,
    "start_time": "2025-04-15T16:30:55.646Z"
   },
   {
    "duration": 236,
    "start_time": "2025-04-15T16:30:55.899Z"
   },
   {
    "duration": 393,
    "start_time": "2025-04-15T16:30:56.137Z"
   },
   {
    "duration": 245,
    "start_time": "2025-04-15T16:30:56.533Z"
   },
   {
    "duration": 230,
    "start_time": "2025-04-15T16:30:56.780Z"
   },
   {
    "duration": 302,
    "start_time": "2025-04-15T16:30:57.013Z"
   },
   {
    "duration": 481,
    "start_time": "2025-04-15T16:30:57.317Z"
   },
   {
    "duration": 480,
    "start_time": "2025-04-15T16:30:57.800Z"
   },
   {
    "duration": 489,
    "start_time": "2025-04-15T16:30:58.283Z"
   },
   {
    "duration": 397,
    "start_time": "2025-04-15T16:30:58.774Z"
   },
   {
    "duration": 231,
    "start_time": "2025-04-15T16:30:59.173Z"
   },
   {
    "duration": 252,
    "start_time": "2025-04-15T16:30:59.406Z"
   },
   {
    "duration": 21,
    "start_time": "2025-04-15T16:30:59.670Z"
   },
   {
    "duration": 235,
    "start_time": "2025-04-15T16:31:14.996Z"
   },
   {
    "duration": 358,
    "start_time": "2025-04-15T16:31:18.300Z"
   },
   {
    "duration": 78,
    "start_time": "2025-04-15T16:33:17.120Z"
   },
   {
    "duration": 6,
    "start_time": "2025-04-15T16:33:30.382Z"
   },
   {
    "duration": 1724,
    "start_time": "2025-04-15T16:33:59.359Z"
   },
   {
    "duration": 129,
    "start_time": "2025-04-15T16:34:01.086Z"
   },
   {
    "duration": 58,
    "start_time": "2025-04-15T16:34:01.218Z"
   },
   {
    "duration": 11,
    "start_time": "2025-04-15T16:34:01.277Z"
   },
   {
    "duration": 89,
    "start_time": "2025-04-15T16:34:01.291Z"
   },
   {
    "duration": 15,
    "start_time": "2025-04-15T16:34:01.381Z"
   },
   {
    "duration": 11,
    "start_time": "2025-04-15T16:34:01.398Z"
   },
   {
    "duration": 61,
    "start_time": "2025-04-15T16:34:01.411Z"
   },
   {
    "duration": 96,
    "start_time": "2025-04-15T16:34:01.475Z"
   },
   {
    "duration": 11,
    "start_time": "2025-04-15T16:34:01.574Z"
   },
   {
    "duration": 21,
    "start_time": "2025-04-15T16:34:01.587Z"
   },
   {
    "duration": 61,
    "start_time": "2025-04-15T16:34:01.610Z"
   },
   {
    "duration": 16,
    "start_time": "2025-04-15T16:34:01.673Z"
   },
   {
    "duration": 16,
    "start_time": "2025-04-15T16:34:01.693Z"
   },
   {
    "duration": 71,
    "start_time": "2025-04-15T16:34:01.711Z"
   },
   {
    "duration": 8,
    "start_time": "2025-04-15T16:34:01.784Z"
   },
   {
    "duration": 75,
    "start_time": "2025-04-15T16:34:01.794Z"
   },
   {
    "duration": 100,
    "start_time": "2025-04-15T16:34:01.872Z"
   },
   {
    "duration": 8,
    "start_time": "2025-04-15T16:34:01.973Z"
   },
   {
    "duration": 25,
    "start_time": "2025-04-15T16:34:01.984Z"
   },
   {
    "duration": 77,
    "start_time": "2025-04-15T16:34:02.011Z"
   },
   {
    "duration": 9,
    "start_time": "2025-04-15T16:34:02.090Z"
   },
   {
    "duration": 11,
    "start_time": "2025-04-15T16:34:02.102Z"
   },
   {
    "duration": 8,
    "start_time": "2025-04-15T16:34:02.171Z"
   },
   {
    "duration": 6,
    "start_time": "2025-04-15T16:34:02.181Z"
   },
   {
    "duration": 166,
    "start_time": "2025-04-15T16:34:02.189Z"
   },
   {
    "duration": 268,
    "start_time": "2025-04-15T16:34:02.356Z"
   },
   {
    "duration": 237,
    "start_time": "2025-04-15T16:34:02.626Z"
   },
   {
    "duration": 226,
    "start_time": "2025-04-15T16:34:02.871Z"
   },
   {
    "duration": 252,
    "start_time": "2025-04-15T16:34:03.100Z"
   },
   {
    "duration": 287,
    "start_time": "2025-04-15T16:34:03.353Z"
   },
   {
    "duration": 304,
    "start_time": "2025-04-15T16:34:03.642Z"
   },
   {
    "duration": 225,
    "start_time": "2025-04-15T16:34:03.947Z"
   },
   {
    "duration": 214,
    "start_time": "2025-04-15T16:34:04.174Z"
   },
   {
    "duration": 322,
    "start_time": "2025-04-15T16:34:04.390Z"
   },
   {
    "duration": 233,
    "start_time": "2025-04-15T16:34:04.714Z"
   },
   {
    "duration": 236,
    "start_time": "2025-04-15T16:34:04.948Z"
   },
   {
    "duration": 236,
    "start_time": "2025-04-15T16:34:05.186Z"
   },
   {
    "duration": 225,
    "start_time": "2025-04-15T16:34:05.424Z"
   },
   {
    "duration": 240,
    "start_time": "2025-04-15T16:34:05.652Z"
   },
   {
    "duration": 227,
    "start_time": "2025-04-15T16:34:05.897Z"
   },
   {
    "duration": 255,
    "start_time": "2025-04-15T16:34:06.126Z"
   },
   {
    "duration": 224,
    "start_time": "2025-04-15T16:34:06.383Z"
   },
   {
    "duration": 245,
    "start_time": "2025-04-15T16:34:06.609Z"
   },
   {
    "duration": 26,
    "start_time": "2025-04-15T16:34:06.856Z"
   },
   {
    "duration": 6,
    "start_time": "2025-04-15T16:36:25.725Z"
   },
   {
    "duration": 79,
    "start_time": "2025-04-15T16:36:42.049Z"
   },
   {
    "duration": 6,
    "start_time": "2025-04-15T16:36:59.241Z"
   },
   {
    "duration": 273,
    "start_time": "2025-04-15T16:37:02.950Z"
   },
   {
    "duration": 391,
    "start_time": "2025-04-15T16:37:19.810Z"
   },
   {
    "duration": 278,
    "start_time": "2025-04-15T16:38:55.738Z"
   },
   {
    "duration": 290,
    "start_time": "2025-04-15T16:38:58.683Z"
   },
   {
    "duration": 294,
    "start_time": "2025-04-15T16:39:03.078Z"
   },
   {
    "duration": 292,
    "start_time": "2025-04-15T16:39:06.414Z"
   },
   {
    "duration": 236,
    "start_time": "2025-04-15T16:39:24.127Z"
   },
   {
    "duration": 224,
    "start_time": "2025-04-15T16:40:37.085Z"
   },
   {
    "duration": 1580,
    "start_time": "2025-04-15T16:40:51.464Z"
   },
   {
    "duration": 98,
    "start_time": "2025-04-15T16:40:53.047Z"
   },
   {
    "duration": 20,
    "start_time": "2025-04-15T16:40:53.147Z"
   },
   {
    "duration": 12,
    "start_time": "2025-04-15T16:40:53.169Z"
   },
   {
    "duration": 23,
    "start_time": "2025-04-15T16:40:53.184Z"
   },
   {
    "duration": 15,
    "start_time": "2025-04-15T16:40:53.209Z"
   },
   {
    "duration": 11,
    "start_time": "2025-04-15T16:40:53.226Z"
   },
   {
    "duration": 12,
    "start_time": "2025-04-15T16:40:53.270Z"
   },
   {
    "duration": 20,
    "start_time": "2025-04-15T16:40:53.284Z"
   },
   {
    "duration": 13,
    "start_time": "2025-04-15T16:40:53.307Z"
   },
   {
    "duration": 14,
    "start_time": "2025-04-15T16:40:53.323Z"
   },
   {
    "duration": 14,
    "start_time": "2025-04-15T16:40:53.371Z"
   },
   {
    "duration": 15,
    "start_time": "2025-04-15T16:40:53.387Z"
   },
   {
    "duration": 10,
    "start_time": "2025-04-15T16:40:53.407Z"
   },
   {
    "duration": 53,
    "start_time": "2025-04-15T16:40:53.419Z"
   },
   {
    "duration": 10,
    "start_time": "2025-04-15T16:40:53.474Z"
   },
   {
    "duration": 21,
    "start_time": "2025-04-15T16:40:53.486Z"
   },
   {
    "duration": 77,
    "start_time": "2025-04-15T16:40:53.509Z"
   },
   {
    "duration": 8,
    "start_time": "2025-04-15T16:40:53.589Z"
   },
   {
    "duration": 18,
    "start_time": "2025-04-15T16:40:53.599Z"
   },
   {
    "duration": 53,
    "start_time": "2025-04-15T16:40:53.619Z"
   },
   {
    "duration": 12,
    "start_time": "2025-04-15T16:40:53.674Z"
   },
   {
    "duration": 12,
    "start_time": "2025-04-15T16:40:53.688Z"
   },
   {
    "duration": 8,
    "start_time": "2025-04-15T16:40:53.703Z"
   },
   {
    "duration": 6,
    "start_time": "2025-04-15T16:40:53.714Z"
   },
   {
    "duration": 181,
    "start_time": "2025-04-15T16:40:53.722Z"
   },
   {
    "duration": 291,
    "start_time": "2025-04-15T16:40:53.906Z"
   },
   {
    "duration": 247,
    "start_time": "2025-04-15T16:40:54.200Z"
   },
   {
    "duration": 240,
    "start_time": "2025-04-15T16:40:54.450Z"
   },
   {
    "duration": 279,
    "start_time": "2025-04-15T16:40:54.692Z"
   },
   {
    "duration": 307,
    "start_time": "2025-04-15T16:40:54.973Z"
   },
   {
    "duration": 288,
    "start_time": "2025-04-15T16:40:55.283Z"
   },
   {
    "duration": 237,
    "start_time": "2025-04-15T16:40:55.573Z"
   },
   {
    "duration": 331,
    "start_time": "2025-04-15T16:40:55.812Z"
   },
   {
    "duration": 258,
    "start_time": "2025-04-15T16:40:56.145Z"
   },
   {
    "duration": 238,
    "start_time": "2025-04-15T16:40:56.406Z"
   },
   {
    "duration": 237,
    "start_time": "2025-04-15T16:40:56.646Z"
   },
   {
    "duration": 248,
    "start_time": "2025-04-15T16:40:56.885Z"
   },
   {
    "duration": 240,
    "start_time": "2025-04-15T16:40:57.135Z"
   },
   {
    "duration": 415,
    "start_time": "2025-04-15T16:40:57.378Z"
   },
   {
    "duration": 499,
    "start_time": "2025-04-15T16:40:57.797Z"
   },
   {
    "duration": 511,
    "start_time": "2025-04-15T16:40:58.298Z"
   },
   {
    "duration": 504,
    "start_time": "2025-04-15T16:40:58.812Z"
   },
   {
    "duration": 259,
    "start_time": "2025-04-15T16:40:59.318Z"
   },
   {
    "duration": 18,
    "start_time": "2025-04-15T16:40:59.579Z"
   },
   {
    "duration": 116,
    "start_time": "2025-04-15T16:44:41.342Z"
   },
   {
    "duration": 13,
    "start_time": "2025-04-15T16:46:52.141Z"
   },
   {
    "duration": 3817,
    "start_time": "2025-04-15T16:46:54.055Z"
   },
   {
    "duration": 496,
    "start_time": "2025-04-15T16:46:59.652Z"
   },
   {
    "duration": 2854,
    "start_time": "2025-04-15T16:47:18.392Z"
   },
   {
    "duration": 1722,
    "start_time": "2025-04-15T16:47:21.249Z"
   },
   {
    "duration": 93,
    "start_time": "2025-04-15T16:47:22.973Z"
   },
   {
    "duration": 17,
    "start_time": "2025-04-15T16:47:23.068Z"
   },
   {
    "duration": 12,
    "start_time": "2025-04-15T16:47:23.087Z"
   },
   {
    "duration": 18,
    "start_time": "2025-04-15T16:47:23.101Z"
   },
   {
    "duration": 15,
    "start_time": "2025-04-15T16:47:23.120Z"
   },
   {
    "duration": 10,
    "start_time": "2025-04-15T16:47:23.171Z"
   },
   {
    "duration": 11,
    "start_time": "2025-04-15T16:47:23.183Z"
   },
   {
    "duration": 14,
    "start_time": "2025-04-15T16:47:23.197Z"
   },
   {
    "duration": 18,
    "start_time": "2025-04-15T16:47:23.213Z"
   },
   {
    "duration": 41,
    "start_time": "2025-04-15T16:47:23.234Z"
   },
   {
    "duration": 14,
    "start_time": "2025-04-15T16:47:23.278Z"
   },
   {
    "duration": 12,
    "start_time": "2025-04-15T16:47:23.295Z"
   },
   {
    "duration": 9,
    "start_time": "2025-04-15T16:47:23.310Z"
   },
   {
    "duration": 56,
    "start_time": "2025-04-15T16:47:23.321Z"
   },
   {
    "duration": 8,
    "start_time": "2025-04-15T16:47:23.380Z"
   },
   {
    "duration": 18,
    "start_time": "2025-04-15T16:47:23.390Z"
   },
   {
    "duration": 79,
    "start_time": "2025-04-15T16:47:23.411Z"
   },
   {
    "duration": 8,
    "start_time": "2025-04-15T16:47:23.492Z"
   },
   {
    "duration": 20,
    "start_time": "2025-04-15T16:47:23.502Z"
   },
   {
    "duration": 52,
    "start_time": "2025-04-15T16:47:23.524Z"
   },
   {
    "duration": 10,
    "start_time": "2025-04-15T16:47:23.578Z"
   },
   {
    "duration": 12,
    "start_time": "2025-04-15T16:47:23.590Z"
   },
   {
    "duration": 8,
    "start_time": "2025-04-15T16:47:23.604Z"
   },
   {
    "duration": 6,
    "start_time": "2025-04-15T16:47:23.614Z"
   },
   {
    "duration": 170,
    "start_time": "2025-04-15T16:47:23.623Z"
   },
   {
    "duration": 276,
    "start_time": "2025-04-15T16:47:23.798Z"
   },
   {
    "duration": 218,
    "start_time": "2025-04-15T16:47:24.076Z"
   },
   {
    "duration": 224,
    "start_time": "2025-04-15T16:47:24.296Z"
   },
   {
    "duration": 361,
    "start_time": "2025-04-15T16:47:24.522Z"
   },
   {
    "duration": 305,
    "start_time": "2025-04-15T16:47:24.884Z"
   },
   {
    "duration": 251,
    "start_time": "2025-04-15T16:47:25.191Z"
   },
   {
    "duration": 231,
    "start_time": "2025-04-15T16:47:25.444Z"
   },
   {
    "duration": 217,
    "start_time": "2025-04-15T16:47:25.677Z"
   },
   {
    "duration": 228,
    "start_time": "2025-04-15T16:47:25.896Z"
   },
   {
    "duration": 271,
    "start_time": "2025-04-15T16:47:26.127Z"
   },
   {
    "duration": 220,
    "start_time": "2025-04-15T16:47:26.399Z"
   },
   {
    "duration": 232,
    "start_time": "2025-04-15T16:47:26.622Z"
   },
   {
    "duration": 237,
    "start_time": "2025-04-15T16:47:26.856Z"
   },
   {
    "duration": 394,
    "start_time": "2025-04-15T16:47:27.095Z"
   },
   {
    "duration": 227,
    "start_time": "2025-04-15T16:47:27.491Z"
   },
   {
    "duration": 233,
    "start_time": "2025-04-15T16:47:27.720Z"
   },
   {
    "duration": 239,
    "start_time": "2025-04-15T16:47:27.956Z"
   },
   {
    "duration": 241,
    "start_time": "2025-04-15T16:47:28.197Z"
   },
   {
    "duration": 2854,
    "start_time": "2025-04-15T16:47:28.440Z"
   },
   {
    "duration": 1328,
    "start_time": "2025-04-15T16:51:23.178Z"
   },
   {
    "duration": 11,
    "start_time": "2025-04-15T16:51:54.061Z"
   },
   {
    "duration": 5245,
    "start_time": "2025-04-15T16:51:58.680Z"
   },
   {
    "duration": 4955,
    "start_time": "2025-04-15T16:52:13.528Z"
   },
   {
    "duration": 1469,
    "start_time": "2025-04-15T16:57:25.860Z"
   },
   {
    "duration": 3745,
    "start_time": "2025-04-15T16:57:51.069Z"
   },
   {
    "duration": 1681,
    "start_time": "2025-04-15T16:57:54.816Z"
   },
   {
    "duration": 93,
    "start_time": "2025-04-15T16:57:56.499Z"
   },
   {
    "duration": 15,
    "start_time": "2025-04-15T16:57:56.596Z"
   },
   {
    "duration": 13,
    "start_time": "2025-04-15T16:57:56.614Z"
   },
   {
    "duration": 18,
    "start_time": "2025-04-15T16:57:56.629Z"
   },
   {
    "duration": 32,
    "start_time": "2025-04-15T16:57:56.649Z"
   },
   {
    "duration": 20,
    "start_time": "2025-04-15T16:57:56.684Z"
   },
   {
    "duration": 9,
    "start_time": "2025-04-15T16:57:56.707Z"
   },
   {
    "duration": 14,
    "start_time": "2025-04-15T16:57:56.719Z"
   },
   {
    "duration": 37,
    "start_time": "2025-04-15T16:57:56.735Z"
   },
   {
    "duration": 13,
    "start_time": "2025-04-15T16:57:56.774Z"
   },
   {
    "duration": 6,
    "start_time": "2025-04-15T16:57:56.789Z"
   },
   {
    "duration": 12,
    "start_time": "2025-04-15T16:57:56.797Z"
   },
   {
    "duration": 11,
    "start_time": "2025-04-15T16:57:56.811Z"
   },
   {
    "duration": 48,
    "start_time": "2025-04-15T16:57:56.824Z"
   },
   {
    "duration": 17,
    "start_time": "2025-04-15T16:57:56.875Z"
   },
   {
    "duration": 7,
    "start_time": "2025-04-15T16:57:56.894Z"
   },
   {
    "duration": 17,
    "start_time": "2025-04-15T16:57:56.903Z"
   },
   {
    "duration": 79,
    "start_time": "2025-04-15T16:57:56.922Z"
   },
   {
    "duration": 8,
    "start_time": "2025-04-15T16:57:57.002Z"
   },
   {
    "duration": 15,
    "start_time": "2025-04-15T16:57:57.011Z"
   },
   {
    "duration": 51,
    "start_time": "2025-04-15T16:57:57.028Z"
   },
   {
    "duration": 10,
    "start_time": "2025-04-15T16:57:57.080Z"
   },
   {
    "duration": 12,
    "start_time": "2025-04-15T16:57:57.092Z"
   },
   {
    "duration": 9,
    "start_time": "2025-04-15T16:57:57.106Z"
   },
   {
    "duration": 6,
    "start_time": "2025-04-15T16:57:57.117Z"
   },
   {
    "duration": 166,
    "start_time": "2025-04-15T16:57:57.127Z"
   },
   {
    "duration": 279,
    "start_time": "2025-04-15T16:57:57.295Z"
   },
   {
    "duration": 227,
    "start_time": "2025-04-15T16:57:57.576Z"
   },
   {
    "duration": 220,
    "start_time": "2025-04-15T16:57:57.805Z"
   },
   {
    "duration": 355,
    "start_time": "2025-04-15T16:57:58.027Z"
   },
   {
    "duration": 295,
    "start_time": "2025-04-15T16:57:58.384Z"
   },
   {
    "duration": 276,
    "start_time": "2025-04-15T16:57:58.681Z"
   },
   {
    "duration": 229,
    "start_time": "2025-04-15T16:57:58.959Z"
   },
   {
    "duration": 215,
    "start_time": "2025-04-15T16:57:59.191Z"
   },
   {
    "duration": 218,
    "start_time": "2025-04-15T16:57:59.408Z"
   },
   {
    "duration": 224,
    "start_time": "2025-04-15T16:57:59.628Z"
   },
   {
    "duration": 244,
    "start_time": "2025-04-15T16:57:59.854Z"
   },
   {
    "duration": 232,
    "start_time": "2025-04-15T16:58:00.100Z"
   },
   {
    "duration": 229,
    "start_time": "2025-04-15T16:58:00.335Z"
   },
   {
    "duration": 320,
    "start_time": "2025-04-15T16:58:00.571Z"
   },
   {
    "duration": 227,
    "start_time": "2025-04-15T16:58:00.893Z"
   },
   {
    "duration": 229,
    "start_time": "2025-04-15T16:58:01.122Z"
   },
   {
    "duration": 244,
    "start_time": "2025-04-15T16:58:01.353Z"
   },
   {
    "duration": 240,
    "start_time": "2025-04-15T16:58:01.599Z"
   },
   {
    "duration": 5093,
    "start_time": "2025-04-15T16:58:01.841Z"
   },
   {
    "duration": 138,
    "start_time": "2025-04-15T17:04:14.521Z"
   },
   {
    "duration": 12,
    "start_time": "2025-04-15T17:07:16.403Z"
   },
   {
    "duration": 13,
    "start_time": "2025-04-15T17:10:02.073Z"
   },
   {
    "duration": 12,
    "start_time": "2025-04-15T17:10:11.024Z"
   },
   {
    "duration": 22,
    "start_time": "2025-04-15T17:10:25.370Z"
   },
   {
    "duration": 18,
    "start_time": "2025-04-15T17:10:29.804Z"
   },
   {
    "duration": 6,
    "start_time": "2025-04-15T17:12:03.320Z"
   },
   {
    "duration": 16,
    "start_time": "2025-04-15T17:16:40.591Z"
   },
   {
    "duration": 14,
    "start_time": "2025-04-15T17:16:46.668Z"
   },
   {
    "duration": 4,
    "start_time": "2025-04-15T17:16:47.610Z"
   },
   {
    "duration": 3,
    "start_time": "2025-04-15T17:16:48.573Z"
   },
   {
    "duration": 2666,
    "start_time": "2025-04-15T17:16:50.044Z"
   },
   {
    "duration": 12,
    "start_time": "2025-04-15T17:17:25.265Z"
   },
   {
    "duration": 3,
    "start_time": "2025-04-15T17:17:28.688Z"
   },
   {
    "duration": 4,
    "start_time": "2025-04-15T17:17:30.493Z"
   },
   {
    "duration": 2244,
    "start_time": "2025-04-15T17:17:32.615Z"
   },
   {
    "duration": 4,
    "start_time": "2025-04-15T17:21:03.917Z"
   },
   {
    "duration": 424,
    "start_time": "2025-04-15T17:21:33.008Z"
   },
   {
    "duration": 11902,
    "start_time": "2025-04-15T17:26:08.121Z"
   },
   {
    "duration": 447,
    "start_time": "2025-04-15T17:26:20.026Z"
   },
   {
    "duration": 387,
    "start_time": "2025-04-15T17:32:13.147Z"
   },
   {
    "duration": 13,
    "start_time": "2025-04-15T17:33:31.770Z"
   },
   {
    "duration": 22,
    "start_time": "2025-04-15T17:33:51.216Z"
   },
   {
    "duration": 12,
    "start_time": "2025-04-15T17:33:54.879Z"
   },
   {
    "duration": 5,
    "start_time": "2025-04-15T17:33:56.310Z"
   },
   {
    "duration": 3,
    "start_time": "2025-04-15T17:33:57.575Z"
   },
   {
    "duration": 357,
    "start_time": "2025-04-15T17:33:58.905Z"
   },
   {
    "duration": 3,
    "start_time": "2025-04-15T17:34:13.317Z"
   },
   {
    "duration": 35131,
    "start_time": "2025-04-15T17:34:15.427Z"
   },
   {
    "duration": 2727,
    "start_time": "2025-04-15T17:35:56.417Z"
   },
   {
    "duration": 6167,
    "start_time": "2025-04-15T17:57:37.842Z"
   },
   {
    "duration": 1554,
    "start_time": "2025-04-15T17:57:44.014Z"
   },
   {
    "duration": 106,
    "start_time": "2025-04-15T17:57:45.570Z"
   },
   {
    "duration": 17,
    "start_time": "2025-04-15T17:57:45.679Z"
   },
   {
    "duration": 28,
    "start_time": "2025-04-15T17:57:45.700Z"
   },
   {
    "duration": 17,
    "start_time": "2025-04-15T17:57:45.730Z"
   },
   {
    "duration": 26,
    "start_time": "2025-04-15T17:57:45.749Z"
   },
   {
    "duration": 10,
    "start_time": "2025-04-15T17:57:45.777Z"
   },
   {
    "duration": 10,
    "start_time": "2025-04-15T17:57:45.789Z"
   },
   {
    "duration": 15,
    "start_time": "2025-04-15T17:57:45.801Z"
   },
   {
    "duration": 13,
    "start_time": "2025-04-15T17:57:45.818Z"
   },
   {
    "duration": 14,
    "start_time": "2025-04-15T17:57:45.870Z"
   },
   {
    "duration": 14,
    "start_time": "2025-04-15T17:57:45.886Z"
   },
   {
    "duration": 11,
    "start_time": "2025-04-15T17:57:45.904Z"
   },
   {
    "duration": 8,
    "start_time": "2025-04-15T17:57:45.917Z"
   },
   {
    "duration": 56,
    "start_time": "2025-04-15T17:57:45.927Z"
   },
   {
    "duration": 9,
    "start_time": "2025-04-15T17:57:45.985Z"
   },
   {
    "duration": 21,
    "start_time": "2025-04-15T17:57:45.997Z"
   },
   {
    "duration": 76,
    "start_time": "2025-04-15T17:57:46.020Z"
   },
   {
    "duration": 8,
    "start_time": "2025-04-15T17:57:46.099Z"
   },
   {
    "duration": 16,
    "start_time": "2025-04-15T17:57:46.109Z"
   },
   {
    "duration": 52,
    "start_time": "2025-04-15T17:57:46.127Z"
   },
   {
    "duration": 10,
    "start_time": "2025-04-15T17:57:46.181Z"
   },
   {
    "duration": 11,
    "start_time": "2025-04-15T17:57:46.193Z"
   },
   {
    "duration": 13,
    "start_time": "2025-04-15T17:57:46.209Z"
   },
   {
    "duration": 47,
    "start_time": "2025-04-15T17:57:46.224Z"
   },
   {
    "duration": 140,
    "start_time": "2025-04-15T17:57:46.278Z"
   },
   {
    "duration": 285,
    "start_time": "2025-04-15T17:57:46.420Z"
   },
   {
    "duration": 246,
    "start_time": "2025-04-15T17:57:46.708Z"
   },
   {
    "duration": 234,
    "start_time": "2025-04-15T17:57:46.956Z"
   },
   {
    "duration": 392,
    "start_time": "2025-04-15T17:57:47.193Z"
   },
   {
    "duration": 325,
    "start_time": "2025-04-15T17:57:47.587Z"
   },
   {
    "duration": 277,
    "start_time": "2025-04-15T17:57:47.915Z"
   },
   {
    "duration": 239,
    "start_time": "2025-04-15T17:57:48.194Z"
   },
   {
    "duration": 217,
    "start_time": "2025-04-15T17:57:48.435Z"
   },
   {
    "duration": 240,
    "start_time": "2025-04-15T17:57:48.654Z"
   },
   {
    "duration": 237,
    "start_time": "2025-04-15T17:57:48.896Z"
   },
   {
    "duration": 237,
    "start_time": "2025-04-15T17:57:49.136Z"
   },
   {
    "duration": 233,
    "start_time": "2025-04-15T17:57:49.375Z"
   },
   {
    "duration": 236,
    "start_time": "2025-04-15T17:57:49.610Z"
   },
   {
    "duration": 356,
    "start_time": "2025-04-15T17:57:49.851Z"
   },
   {
    "duration": 239,
    "start_time": "2025-04-15T17:57:50.209Z"
   },
   {
    "duration": 233,
    "start_time": "2025-04-15T17:57:50.450Z"
   },
   {
    "duration": 233,
    "start_time": "2025-04-15T17:57:50.686Z"
   },
   {
    "duration": 262,
    "start_time": "2025-04-15T17:57:50.922Z"
   },
   {
    "duration": 6270,
    "start_time": "2025-04-15T17:57:51.187Z"
   },
   {
    "duration": 23,
    "start_time": "2025-04-15T17:57:57.458Z"
   },
   {
    "duration": 26,
    "start_time": "2025-04-15T17:57:57.483Z"
   },
   {
    "duration": 15,
    "start_time": "2025-04-15T17:57:57.511Z"
   },
   {
    "duration": 4,
    "start_time": "2025-04-15T17:57:57.528Z"
   },
   {
    "duration": 5,
    "start_time": "2025-04-15T17:57:57.570Z"
   },
   {
    "duration": 7399,
    "start_time": "2025-04-15T17:58:46.546Z"
   },
   {
    "duration": 1725,
    "start_time": "2025-04-15T17:58:53.948Z"
   },
   {
    "duration": 0,
    "start_time": "2025-04-15T17:58:55.679Z"
   },
   {
    "duration": 0,
    "start_time": "2025-04-15T17:58:55.680Z"
   },
   {
    "duration": 0,
    "start_time": "2025-04-15T17:58:55.682Z"
   },
   {
    "duration": 0,
    "start_time": "2025-04-15T17:58:55.683Z"
   },
   {
    "duration": 0,
    "start_time": "2025-04-15T17:58:55.684Z"
   },
   {
    "duration": 0,
    "start_time": "2025-04-15T17:58:55.686Z"
   },
   {
    "duration": 0,
    "start_time": "2025-04-15T17:58:55.687Z"
   },
   {
    "duration": 0,
    "start_time": "2025-04-15T17:58:55.688Z"
   },
   {
    "duration": 0,
    "start_time": "2025-04-15T17:58:55.689Z"
   },
   {
    "duration": 0,
    "start_time": "2025-04-15T17:58:55.690Z"
   },
   {
    "duration": 0,
    "start_time": "2025-04-15T17:58:55.691Z"
   },
   {
    "duration": 0,
    "start_time": "2025-04-15T17:58:55.692Z"
   },
   {
    "duration": 0,
    "start_time": "2025-04-15T17:58:55.694Z"
   },
   {
    "duration": 0,
    "start_time": "2025-04-15T17:58:55.695Z"
   },
   {
    "duration": 0,
    "start_time": "2025-04-15T17:58:55.696Z"
   },
   {
    "duration": 0,
    "start_time": "2025-04-15T17:58:55.698Z"
   },
   {
    "duration": 0,
    "start_time": "2025-04-15T17:58:55.699Z"
   },
   {
    "duration": 0,
    "start_time": "2025-04-15T17:58:55.700Z"
   },
   {
    "duration": 0,
    "start_time": "2025-04-15T17:58:55.701Z"
   },
   {
    "duration": 0,
    "start_time": "2025-04-15T17:58:55.703Z"
   },
   {
    "duration": 0,
    "start_time": "2025-04-15T17:58:55.704Z"
   },
   {
    "duration": 0,
    "start_time": "2025-04-15T17:58:55.706Z"
   },
   {
    "duration": 0,
    "start_time": "2025-04-15T17:58:55.707Z"
   },
   {
    "duration": 0,
    "start_time": "2025-04-15T17:58:55.709Z"
   },
   {
    "duration": 0,
    "start_time": "2025-04-15T17:58:55.710Z"
   },
   {
    "duration": 0,
    "start_time": "2025-04-15T17:58:55.711Z"
   },
   {
    "duration": 0,
    "start_time": "2025-04-15T17:58:55.712Z"
   },
   {
    "duration": 0,
    "start_time": "2025-04-15T17:58:55.714Z"
   },
   {
    "duration": 0,
    "start_time": "2025-04-15T17:58:55.771Z"
   },
   {
    "duration": 0,
    "start_time": "2025-04-15T17:58:55.773Z"
   },
   {
    "duration": 0,
    "start_time": "2025-04-15T17:58:55.775Z"
   },
   {
    "duration": 0,
    "start_time": "2025-04-15T17:58:55.776Z"
   },
   {
    "duration": 0,
    "start_time": "2025-04-15T17:58:55.778Z"
   },
   {
    "duration": 0,
    "start_time": "2025-04-15T17:58:55.779Z"
   },
   {
    "duration": 0,
    "start_time": "2025-04-15T17:58:55.781Z"
   },
   {
    "duration": 0,
    "start_time": "2025-04-15T17:58:55.783Z"
   },
   {
    "duration": 0,
    "start_time": "2025-04-15T17:58:55.784Z"
   },
   {
    "duration": 0,
    "start_time": "2025-04-15T17:58:55.786Z"
   },
   {
    "duration": 0,
    "start_time": "2025-04-15T17:58:55.787Z"
   },
   {
    "duration": 0,
    "start_time": "2025-04-15T17:58:55.788Z"
   },
   {
    "duration": 0,
    "start_time": "2025-04-15T17:58:55.789Z"
   },
   {
    "duration": 0,
    "start_time": "2025-04-15T17:58:55.790Z"
   },
   {
    "duration": 0,
    "start_time": "2025-04-15T17:58:55.791Z"
   },
   {
    "duration": 0,
    "start_time": "2025-04-15T17:58:55.793Z"
   },
   {
    "duration": 0,
    "start_time": "2025-04-15T17:58:55.794Z"
   },
   {
    "duration": 0,
    "start_time": "2025-04-15T17:58:55.796Z"
   },
   {
    "duration": 0,
    "start_time": "2025-04-15T17:58:55.797Z"
   },
   {
    "duration": 0,
    "start_time": "2025-04-15T17:58:55.798Z"
   },
   {
    "duration": 0,
    "start_time": "2025-04-15T17:58:55.799Z"
   },
   {
    "duration": 0,
    "start_time": "2025-04-15T17:58:55.801Z"
   },
   {
    "duration": 0,
    "start_time": "2025-04-15T17:58:55.802Z"
   },
   {
    "duration": 0,
    "start_time": "2025-04-15T17:58:55.803Z"
   },
   {
    "duration": 7421,
    "start_time": "2025-04-15T17:59:13.846Z"
   },
   {
    "duration": 1609,
    "start_time": "2025-04-15T17:59:21.270Z"
   },
   {
    "duration": 97,
    "start_time": "2025-04-15T17:59:22.880Z"
   },
   {
    "duration": 19,
    "start_time": "2025-04-15T17:59:22.980Z"
   },
   {
    "duration": 14,
    "start_time": "2025-04-15T17:59:23.001Z"
   },
   {
    "duration": 17,
    "start_time": "2025-04-15T17:59:23.017Z"
   },
   {
    "duration": 45,
    "start_time": "2025-04-15T17:59:23.036Z"
   },
   {
    "duration": 10,
    "start_time": "2025-04-15T17:59:23.083Z"
   },
   {
    "duration": 12,
    "start_time": "2025-04-15T17:59:23.095Z"
   },
   {
    "duration": 16,
    "start_time": "2025-04-15T17:59:23.110Z"
   },
   {
    "duration": 49,
    "start_time": "2025-04-15T17:59:23.128Z"
   },
   {
    "duration": 14,
    "start_time": "2025-04-15T17:59:23.179Z"
   },
   {
    "duration": 13,
    "start_time": "2025-04-15T17:59:23.196Z"
   },
   {
    "duration": 12,
    "start_time": "2025-04-15T17:59:23.211Z"
   },
   {
    "duration": 9,
    "start_time": "2025-04-15T17:59:23.224Z"
   },
   {
    "duration": 18,
    "start_time": "2025-04-15T17:59:23.271Z"
   },
   {
    "duration": 7,
    "start_time": "2025-04-15T17:59:23.292Z"
   },
   {
    "duration": 28,
    "start_time": "2025-04-15T17:59:23.301Z"
   },
   {
    "duration": 79,
    "start_time": "2025-04-15T17:59:23.331Z"
   },
   {
    "duration": 9,
    "start_time": "2025-04-15T17:59:23.413Z"
   },
   {
    "duration": 18,
    "start_time": "2025-04-15T17:59:23.424Z"
   },
   {
    "duration": 50,
    "start_time": "2025-04-15T17:59:23.444Z"
   },
   {
    "duration": 11,
    "start_time": "2025-04-15T17:59:23.496Z"
   },
   {
    "duration": 13,
    "start_time": "2025-04-15T17:59:23.509Z"
   },
   {
    "duration": 9,
    "start_time": "2025-04-15T17:59:23.524Z"
   },
   {
    "duration": 39,
    "start_time": "2025-04-15T17:59:23.535Z"
   },
   {
    "duration": 148,
    "start_time": "2025-04-15T17:59:23.576Z"
   },
   {
    "duration": 280,
    "start_time": "2025-04-15T17:59:23.729Z"
   },
   {
    "duration": 242,
    "start_time": "2025-04-15T17:59:24.011Z"
   },
   {
    "duration": 242,
    "start_time": "2025-04-15T17:59:24.255Z"
   },
   {
    "duration": 375,
    "start_time": "2025-04-15T17:59:24.499Z"
   },
   {
    "duration": 315,
    "start_time": "2025-04-15T17:59:24.876Z"
   },
   {
    "duration": 258,
    "start_time": "2025-04-15T17:59:25.193Z"
   },
   {
    "duration": 227,
    "start_time": "2025-04-15T17:59:25.453Z"
   },
   {
    "duration": 225,
    "start_time": "2025-04-15T17:59:25.683Z"
   },
   {
    "duration": 222,
    "start_time": "2025-04-15T17:59:25.910Z"
   },
   {
    "duration": 285,
    "start_time": "2025-04-15T17:59:26.134Z"
   },
   {
    "duration": 231,
    "start_time": "2025-04-15T17:59:26.421Z"
   },
   {
    "duration": 247,
    "start_time": "2025-04-15T17:59:26.654Z"
   },
   {
    "duration": 490,
    "start_time": "2025-04-15T17:59:26.904Z"
   },
   {
    "duration": 784,
    "start_time": "2025-04-15T17:59:27.396Z"
   },
   {
    "duration": 432,
    "start_time": "2025-04-15T17:59:28.182Z"
   },
   {
    "duration": 290,
    "start_time": "2025-04-15T17:59:28.616Z"
   },
   {
    "duration": 220,
    "start_time": "2025-04-15T17:59:28.909Z"
   },
   {
    "duration": 252,
    "start_time": "2025-04-15T17:59:29.132Z"
   },
   {
    "duration": 5069,
    "start_time": "2025-04-15T17:59:29.386Z"
   },
   {
    "duration": 28,
    "start_time": "2025-04-15T17:59:34.457Z"
   },
   {
    "duration": 39,
    "start_time": "2025-04-15T17:59:34.487Z"
   },
   {
    "duration": 18,
    "start_time": "2025-04-15T17:59:34.527Z"
   },
   {
    "duration": 24,
    "start_time": "2025-04-15T17:59:34.547Z"
   },
   {
    "duration": 4,
    "start_time": "2025-04-15T17:59:34.573Z"
   },
   {
    "duration": 98150,
    "start_time": "2025-04-15T17:59:34.579Z"
   },
   {
    "duration": 141,
    "start_time": "2025-04-15T18:01:12.731Z"
   },
   {
    "duration": 0,
    "start_time": "2025-04-15T18:01:12.874Z"
   },
   {
    "duration": 54271,
    "start_time": "2025-04-15T18:02:09.713Z"
   },
   {
    "duration": 17765,
    "start_time": "2025-04-15T18:03:19.056Z"
   },
   {
    "duration": 16,
    "start_time": "2025-04-15T18:03:58.150Z"
   },
   {
    "duration": 28,
    "start_time": "2025-04-15T18:05:19.123Z"
   },
   {
    "duration": 17522,
    "start_time": "2025-04-15T18:05:23.260Z"
   },
   {
    "duration": 16832,
    "start_time": "2025-04-15T18:07:50.416Z"
   },
   {
    "duration": 282254,
    "start_time": "2025-04-15T18:10:33.406Z"
   },
   {
    "duration": 39,
    "start_time": "2025-04-15T18:32:43.936Z"
   },
   {
    "duration": 43,
    "start_time": "2025-04-15T18:33:19.185Z"
   },
   {
    "duration": 45,
    "start_time": "2025-04-15T18:33:25.357Z"
   },
   {
    "duration": 11499,
    "start_time": "2025-04-16T06:34:09.949Z"
   },
   {
    "duration": 1975,
    "start_time": "2025-04-16T06:34:21.451Z"
   },
   {
    "duration": 108,
    "start_time": "2025-04-16T06:34:23.429Z"
   },
   {
    "duration": 15,
    "start_time": "2025-04-16T06:34:23.540Z"
   },
   {
    "duration": 33,
    "start_time": "2025-04-16T06:34:23.557Z"
   },
   {
    "duration": 27,
    "start_time": "2025-04-16T06:34:23.592Z"
   },
   {
    "duration": 18,
    "start_time": "2025-04-16T06:34:23.621Z"
   },
   {
    "duration": 72,
    "start_time": "2025-04-16T06:34:23.641Z"
   },
   {
    "duration": 68,
    "start_time": "2025-04-16T06:34:23.715Z"
   },
   {
    "duration": 30,
    "start_time": "2025-04-16T06:34:23.786Z"
   },
   {
    "duration": 62,
    "start_time": "2025-04-16T06:34:23.818Z"
   },
   {
    "duration": 28,
    "start_time": "2025-04-16T06:34:23.882Z"
   },
   {
    "duration": 20,
    "start_time": "2025-04-16T06:34:23.911Z"
   },
   {
    "duration": 12,
    "start_time": "2025-04-16T06:34:23.932Z"
   },
   {
    "duration": 21,
    "start_time": "2025-04-16T06:34:23.946Z"
   },
   {
    "duration": 48,
    "start_time": "2025-04-16T06:34:23.969Z"
   },
   {
    "duration": 11,
    "start_time": "2025-04-16T06:34:24.019Z"
   },
   {
    "duration": 37,
    "start_time": "2025-04-16T06:34:24.032Z"
   },
   {
    "duration": 60,
    "start_time": "2025-04-16T06:34:24.071Z"
   },
   {
    "duration": 7,
    "start_time": "2025-04-16T06:34:24.134Z"
   },
   {
    "duration": 26,
    "start_time": "2025-04-16T06:34:24.142Z"
   },
   {
    "duration": 31,
    "start_time": "2025-04-16T06:34:24.170Z"
   },
   {
    "duration": 10,
    "start_time": "2025-04-16T06:34:24.204Z"
   },
   {
    "duration": 11,
    "start_time": "2025-04-16T06:34:24.215Z"
   },
   {
    "duration": 34,
    "start_time": "2025-04-16T06:34:24.228Z"
   },
   {
    "duration": 48,
    "start_time": "2025-04-16T06:34:24.265Z"
   },
   {
    "duration": 164,
    "start_time": "2025-04-16T06:34:24.314Z"
   },
   {
    "duration": 303,
    "start_time": "2025-04-16T06:34:24.483Z"
   },
   {
    "duration": 256,
    "start_time": "2025-04-16T06:34:24.789Z"
   },
   {
    "duration": 245,
    "start_time": "2025-04-16T06:34:25.048Z"
   },
   {
    "duration": 358,
    "start_time": "2025-04-16T06:34:25.295Z"
   },
   {
    "duration": 340,
    "start_time": "2025-04-16T06:34:25.655Z"
   },
   {
    "duration": 288,
    "start_time": "2025-04-16T06:34:25.997Z"
   },
   {
    "duration": 234,
    "start_time": "2025-04-16T06:34:26.287Z"
   },
   {
    "duration": 220,
    "start_time": "2025-04-16T06:34:26.523Z"
   },
   {
    "duration": 230,
    "start_time": "2025-04-16T06:34:26.746Z"
   },
   {
    "duration": 228,
    "start_time": "2025-04-16T06:34:26.979Z"
   },
   {
    "duration": 234,
    "start_time": "2025-04-16T06:34:27.209Z"
   },
   {
    "duration": 253,
    "start_time": "2025-04-16T06:34:27.445Z"
   },
   {
    "duration": 230,
    "start_time": "2025-04-16T06:34:27.700Z"
   },
   {
    "duration": 233,
    "start_time": "2025-04-16T06:34:27.933Z"
   },
   {
    "duration": 316,
    "start_time": "2025-04-16T06:34:28.168Z"
   },
   {
    "duration": 211,
    "start_time": "2025-04-16T06:34:28.487Z"
   },
   {
    "duration": 237,
    "start_time": "2025-04-16T06:34:28.700Z"
   },
   {
    "duration": 235,
    "start_time": "2025-04-16T06:34:28.939Z"
   },
   {
    "duration": 6386,
    "start_time": "2025-04-16T06:34:29.176Z"
   },
   {
    "duration": 20,
    "start_time": "2025-04-16T06:34:35.564Z"
   },
   {
    "duration": 268,
    "start_time": "2025-04-16T06:34:35.586Z"
   },
   {
    "duration": 181,
    "start_time": "2025-04-16T06:34:35.856Z"
   },
   {
    "duration": 418,
    "start_time": "2025-04-16T06:34:36.039Z"
   },
   {
    "duration": 277,
    "start_time": "2025-04-16T06:34:36.459Z"
   },
   {
    "duration": 52741,
    "start_time": "2025-04-16T06:34:36.738Z"
   },
   {
    "duration": 43310,
    "start_time": "2025-04-16T06:35:29.482Z"
   },
   {
    "duration": 106,
    "start_time": "2025-04-16T06:36:12.794Z"
   },
   {
    "duration": 0,
    "start_time": "2025-04-16T06:36:12.902Z"
   },
   {
    "duration": 42251,
    "start_time": "2025-04-16T06:37:19.080Z"
   },
   {
    "duration": 422232,
    "start_time": "2025-04-16T06:38:11.949Z"
   },
   {
    "duration": 39,
    "start_time": "2025-04-16T06:47:54.307Z"
   },
   {
    "duration": 13,
    "start_time": "2025-04-16T06:51:09.766Z"
   },
   {
    "duration": 4,
    "start_time": "2025-04-16T06:51:10.677Z"
   },
   {
    "duration": 4,
    "start_time": "2025-04-16T06:51:12.191Z"
   },
   {
    "duration": 38254,
    "start_time": "2025-04-16T06:51:14.049Z"
   },
   {
    "duration": 33896,
    "start_time": "2025-04-16T06:51:58.819Z"
   },
   {
    "duration": 406910,
    "start_time": "2025-04-16T06:52:37.956Z"
   },
   {
    "duration": 33,
    "start_time": "2025-04-16T07:16:12.994Z"
   },
   {
    "duration": 1244499,
    "start_time": "2025-04-16T10:12:46.291Z"
   },
   {
    "duration": 41,
    "start_time": "2025-04-16T10:37:40.780Z"
   },
   {
    "duration": 122,
    "start_time": "2025-04-16T10:41:06.327Z"
   },
   {
    "duration": 6162,
    "start_time": "2025-04-16T11:02:56.660Z"
   },
   {
    "duration": 1555,
    "start_time": "2025-04-16T11:03:02.824Z"
   },
   {
    "duration": 284,
    "start_time": "2025-04-16T11:03:04.381Z"
   },
   {
    "duration": 17,
    "start_time": "2025-04-16T11:03:04.668Z"
   },
   {
    "duration": 76,
    "start_time": "2025-04-16T11:03:04.686Z"
   },
   {
    "duration": 16,
    "start_time": "2025-04-16T11:03:04.764Z"
   },
   {
    "duration": 33,
    "start_time": "2025-04-16T11:03:04.781Z"
   },
   {
    "duration": 29,
    "start_time": "2025-04-16T11:03:04.816Z"
   },
   {
    "duration": 41,
    "start_time": "2025-04-16T11:03:04.847Z"
   },
   {
    "duration": 129,
    "start_time": "2025-04-16T11:03:04.891Z"
   },
   {
    "duration": 32,
    "start_time": "2025-04-16T11:03:05.022Z"
   },
   {
    "duration": 57,
    "start_time": "2025-04-16T11:03:05.056Z"
   },
   {
    "duration": 46,
    "start_time": "2025-04-16T11:03:05.116Z"
   },
   {
    "duration": 20,
    "start_time": "2025-04-16T11:03:05.165Z"
   },
   {
    "duration": 28,
    "start_time": "2025-04-16T11:03:05.187Z"
   },
   {
    "duration": 42,
    "start_time": "2025-04-16T11:03:05.217Z"
   },
   {
    "duration": 18,
    "start_time": "2025-04-16T11:03:05.260Z"
   },
   {
    "duration": 76,
    "start_time": "2025-04-16T11:03:05.280Z"
   },
   {
    "duration": 71,
    "start_time": "2025-04-16T11:03:05.358Z"
   },
   {
    "duration": 38,
    "start_time": "2025-04-16T11:03:05.431Z"
   },
   {
    "duration": 59,
    "start_time": "2025-04-16T11:03:05.470Z"
   },
   {
    "duration": 50,
    "start_time": "2025-04-16T11:03:05.531Z"
   },
   {
    "duration": 152,
    "start_time": "2025-04-16T11:03:05.583Z"
   },
   {
    "duration": 44,
    "start_time": "2025-04-16T11:03:05.737Z"
   },
   {
    "duration": 44,
    "start_time": "2025-04-16T11:03:05.783Z"
   },
   {
    "duration": 60,
    "start_time": "2025-04-16T11:03:05.829Z"
   },
   {
    "duration": 152,
    "start_time": "2025-04-16T11:03:05.891Z"
   },
   {
    "duration": 253,
    "start_time": "2025-04-16T11:03:06.048Z"
   },
   {
    "duration": 220,
    "start_time": "2025-04-16T11:03:06.302Z"
   },
   {
    "duration": 386,
    "start_time": "2025-04-16T11:03:06.524Z"
   },
   {
    "duration": 337,
    "start_time": "2025-04-16T11:03:06.911Z"
   },
   {
    "duration": 317,
    "start_time": "2025-04-16T11:03:07.250Z"
   },
   {
    "duration": 233,
    "start_time": "2025-04-16T11:03:07.568Z"
   },
   {
    "duration": 197,
    "start_time": "2025-04-16T11:03:07.802Z"
   },
   {
    "duration": 197,
    "start_time": "2025-04-16T11:03:08.001Z"
   },
   {
    "duration": 195,
    "start_time": "2025-04-16T11:03:08.200Z"
   },
   {
    "duration": 210,
    "start_time": "2025-04-16T11:03:08.397Z"
   },
   {
    "duration": 211,
    "start_time": "2025-04-16T11:03:08.609Z"
   },
   {
    "duration": 215,
    "start_time": "2025-04-16T11:03:08.822Z"
   },
   {
    "duration": 212,
    "start_time": "2025-04-16T11:03:09.039Z"
   },
   {
    "duration": 303,
    "start_time": "2025-04-16T11:03:09.261Z"
   },
   {
    "duration": 218,
    "start_time": "2025-04-16T11:03:09.566Z"
   },
   {
    "duration": 207,
    "start_time": "2025-04-16T11:03:09.786Z"
   },
   {
    "duration": 207,
    "start_time": "2025-04-16T11:03:09.995Z"
   },
   {
    "duration": 249,
    "start_time": "2025-04-16T11:03:10.204Z"
   },
   {
    "duration": 4598,
    "start_time": "2025-04-16T11:03:10.460Z"
   },
   {
    "duration": 21,
    "start_time": "2025-04-16T11:03:15.060Z"
   },
   {
    "duration": 125,
    "start_time": "2025-04-16T11:03:15.083Z"
   },
   {
    "duration": 120,
    "start_time": "2025-04-16T11:03:15.209Z"
   },
   {
    "duration": 61,
    "start_time": "2025-04-16T11:03:15.331Z"
   },
   {
    "duration": 30840,
    "start_time": "2025-04-16T11:03:15.394Z"
   },
   {
    "duration": 30512,
    "start_time": "2025-04-16T11:03:46.235Z"
   },
   {
    "duration": 6267,
    "start_time": "2025-04-16T11:20:12.931Z"
   },
   {
    "duration": 1484,
    "start_time": "2025-04-16T11:20:19.202Z"
   },
   {
    "duration": 95,
    "start_time": "2025-04-16T11:20:20.688Z"
   },
   {
    "duration": 16,
    "start_time": "2025-04-16T11:20:20.785Z"
   },
   {
    "duration": 28,
    "start_time": "2025-04-16T11:20:20.803Z"
   },
   {
    "duration": 52,
    "start_time": "2025-04-16T11:20:20.833Z"
   },
   {
    "duration": 80,
    "start_time": "2025-04-16T11:20:20.887Z"
   },
   {
    "duration": 50,
    "start_time": "2025-04-16T11:20:20.969Z"
   },
   {
    "duration": 42,
    "start_time": "2025-04-16T11:20:21.021Z"
   },
   {
    "duration": 32,
    "start_time": "2025-04-16T11:20:21.067Z"
   },
   {
    "duration": 33,
    "start_time": "2025-04-16T11:20:21.101Z"
   },
   {
    "duration": 54,
    "start_time": "2025-04-16T11:20:21.136Z"
   },
   {
    "duration": 45,
    "start_time": "2025-04-16T11:20:21.193Z"
   },
   {
    "duration": 37,
    "start_time": "2025-04-16T11:20:21.240Z"
   },
   {
    "duration": 20,
    "start_time": "2025-04-16T11:20:21.279Z"
   },
   {
    "duration": 58,
    "start_time": "2025-04-16T11:20:21.301Z"
   },
   {
    "duration": 11,
    "start_time": "2025-04-16T11:20:21.361Z"
   },
   {
    "duration": 46,
    "start_time": "2025-04-16T11:20:21.374Z"
   },
   {
    "duration": 50,
    "start_time": "2025-04-16T11:20:21.421Z"
   },
   {
    "duration": 7,
    "start_time": "2025-04-16T11:20:21.472Z"
   },
   {
    "duration": 53,
    "start_time": "2025-04-16T11:20:21.481Z"
   },
   {
    "duration": 30,
    "start_time": "2025-04-16T11:20:21.536Z"
   },
   {
    "duration": 13,
    "start_time": "2025-04-16T11:20:21.568Z"
   },
   {
    "duration": 11,
    "start_time": "2025-04-16T11:20:21.582Z"
   },
   {
    "duration": 59,
    "start_time": "2025-04-16T11:20:21.595Z"
   },
   {
    "duration": 26,
    "start_time": "2025-04-16T11:20:21.656Z"
   },
   {
    "duration": 122,
    "start_time": "2025-04-16T11:20:21.684Z"
   },
   {
    "duration": 242,
    "start_time": "2025-04-16T11:20:21.810Z"
   },
   {
    "duration": 219,
    "start_time": "2025-04-16T11:20:22.054Z"
   },
   {
    "duration": 218,
    "start_time": "2025-04-16T11:20:22.275Z"
   },
   {
    "duration": 335,
    "start_time": "2025-04-16T11:20:22.496Z"
   },
   {
    "duration": 282,
    "start_time": "2025-04-16T11:20:22.833Z"
   },
   {
    "duration": 248,
    "start_time": "2025-04-16T11:20:23.117Z"
   },
   {
    "duration": 209,
    "start_time": "2025-04-16T11:20:23.367Z"
   },
   {
    "duration": 200,
    "start_time": "2025-04-16T11:20:23.578Z"
   },
   {
    "duration": 199,
    "start_time": "2025-04-16T11:20:23.780Z"
   },
   {
    "duration": 208,
    "start_time": "2025-04-16T11:20:23.981Z"
   },
   {
    "duration": 207,
    "start_time": "2025-04-16T11:20:24.191Z"
   },
   {
    "duration": 208,
    "start_time": "2025-04-16T11:20:24.400Z"
   },
   {
    "duration": 221,
    "start_time": "2025-04-16T11:20:24.610Z"
   },
   {
    "duration": 304,
    "start_time": "2025-04-16T11:20:24.832Z"
   },
   {
    "duration": 209,
    "start_time": "2025-04-16T11:20:25.138Z"
   },
   {
    "duration": 213,
    "start_time": "2025-04-16T11:20:25.350Z"
   },
   {
    "duration": 203,
    "start_time": "2025-04-16T11:20:25.565Z"
   },
   {
    "duration": 210,
    "start_time": "2025-04-16T11:20:25.770Z"
   },
   {
    "duration": 4735,
    "start_time": "2025-04-16T11:20:25.982Z"
   },
   {
    "duration": 21,
    "start_time": "2025-04-16T11:20:30.719Z"
   },
   {
    "duration": 209,
    "start_time": "2025-04-16T11:20:30.742Z"
   },
   {
    "duration": 186,
    "start_time": "2025-04-16T11:20:30.953Z"
   },
   {
    "duration": 42,
    "start_time": "2025-04-16T11:20:31.140Z"
   },
   {
    "duration": 30760,
    "start_time": "2025-04-16T11:20:31.183Z"
   },
   {
    "duration": 30247,
    "start_time": "2025-04-16T11:21:01.945Z"
   },
   {
    "duration": 6090,
    "start_time": "2025-04-16T11:36:44.114Z"
   },
   {
    "duration": 1473,
    "start_time": "2025-04-16T11:36:50.207Z"
   },
   {
    "duration": 92,
    "start_time": "2025-04-16T11:36:51.681Z"
   },
   {
    "duration": 45,
    "start_time": "2025-04-16T11:36:51.775Z"
   },
   {
    "duration": 32,
    "start_time": "2025-04-16T11:36:51.821Z"
   },
   {
    "duration": 42,
    "start_time": "2025-04-16T11:36:51.855Z"
   },
   {
    "duration": 19,
    "start_time": "2025-04-16T11:36:51.899Z"
   },
   {
    "duration": 39,
    "start_time": "2025-04-16T11:36:51.920Z"
   },
   {
    "duration": 9,
    "start_time": "2025-04-16T11:36:51.961Z"
   },
   {
    "duration": 21,
    "start_time": "2025-04-16T11:36:51.972Z"
   },
   {
    "duration": 32,
    "start_time": "2025-04-16T11:36:51.994Z"
   },
   {
    "duration": 41,
    "start_time": "2025-04-16T11:36:52.028Z"
   },
   {
    "duration": 17,
    "start_time": "2025-04-16T11:36:52.071Z"
   },
   {
    "duration": 67,
    "start_time": "2025-04-16T11:36:52.090Z"
   },
   {
    "duration": 21,
    "start_time": "2025-04-16T11:36:52.159Z"
   },
   {
    "duration": 55,
    "start_time": "2025-04-16T11:36:52.182Z"
   },
   {
    "duration": 9,
    "start_time": "2025-04-16T11:36:52.239Z"
   },
   {
    "duration": 26,
    "start_time": "2025-04-16T11:36:52.250Z"
   },
   {
    "duration": 50,
    "start_time": "2025-04-16T11:36:52.278Z"
   },
   {
    "duration": 7,
    "start_time": "2025-04-16T11:36:52.330Z"
   },
   {
    "duration": 93,
    "start_time": "2025-04-16T11:36:52.339Z"
   },
   {
    "duration": 116,
    "start_time": "2025-04-16T11:36:52.434Z"
   },
   {
    "duration": 41,
    "start_time": "2025-04-16T11:36:52.552Z"
   },
   {
    "duration": 12,
    "start_time": "2025-04-16T11:36:52.595Z"
   },
   {
    "duration": 23,
    "start_time": "2025-04-16T11:36:52.609Z"
   },
   {
    "duration": 41,
    "start_time": "2025-04-16T11:36:52.634Z"
   },
   {
    "duration": 152,
    "start_time": "2025-04-16T11:36:52.677Z"
   },
   {
    "duration": 238,
    "start_time": "2025-04-16T11:36:52.833Z"
   },
   {
    "duration": 206,
    "start_time": "2025-04-16T11:36:53.073Z"
   },
   {
    "duration": 206,
    "start_time": "2025-04-16T11:36:53.281Z"
   },
   {
    "duration": 325,
    "start_time": "2025-04-16T11:36:53.489Z"
   },
   {
    "duration": 288,
    "start_time": "2025-04-16T11:36:53.816Z"
   },
   {
    "duration": 235,
    "start_time": "2025-04-16T11:36:54.105Z"
   },
   {
    "duration": 211,
    "start_time": "2025-04-16T11:36:54.342Z"
   },
   {
    "duration": 219,
    "start_time": "2025-04-16T11:36:54.560Z"
   },
   {
    "duration": 207,
    "start_time": "2025-04-16T11:36:54.781Z"
   },
   {
    "duration": 220,
    "start_time": "2025-04-16T11:36:54.990Z"
   },
   {
    "duration": 209,
    "start_time": "2025-04-16T11:36:55.212Z"
   },
   {
    "duration": 213,
    "start_time": "2025-04-16T11:36:55.423Z"
   },
   {
    "duration": 210,
    "start_time": "2025-04-16T11:36:55.638Z"
   },
   {
    "duration": 211,
    "start_time": "2025-04-16T11:36:55.850Z"
   },
   {
    "duration": 313,
    "start_time": "2025-04-16T11:36:56.063Z"
   },
   {
    "duration": 203,
    "start_time": "2025-04-16T11:36:56.378Z"
   },
   {
    "duration": 233,
    "start_time": "2025-04-16T11:36:56.583Z"
   },
   {
    "duration": 220,
    "start_time": "2025-04-16T11:36:56.818Z"
   },
   {
    "duration": 4747,
    "start_time": "2025-04-16T11:36:57.039Z"
   },
   {
    "duration": 18,
    "start_time": "2025-04-16T11:37:01.788Z"
   },
   {
    "duration": 37,
    "start_time": "2025-04-16T11:37:01.808Z"
   },
   {
    "duration": 44,
    "start_time": "2025-04-16T11:37:01.847Z"
   },
   {
    "duration": 87,
    "start_time": "2025-04-16T11:37:01.892Z"
   },
   {
    "duration": 30353,
    "start_time": "2025-04-16T11:37:01.982Z"
   },
   {
    "duration": 30076,
    "start_time": "2025-04-16T11:37:32.337Z"
   },
   {
    "duration": 1113064,
    "start_time": "2025-04-16T11:38:02.415Z"
   },
   {
    "duration": 31,
    "start_time": "2025-04-16T11:56:35.480Z"
   },
   {
    "duration": 4,
    "start_time": "2025-04-16T12:00:18.810Z"
   },
   {
    "duration": 4,
    "start_time": "2025-04-16T12:00:48.334Z"
   },
   {
    "duration": 6169,
    "start_time": "2025-04-16T12:05:02.332Z"
   },
   {
    "duration": 1529,
    "start_time": "2025-04-16T12:05:08.504Z"
   },
   {
    "duration": 103,
    "start_time": "2025-04-16T12:05:10.035Z"
   },
   {
    "duration": 15,
    "start_time": "2025-04-16T12:05:10.139Z"
   },
   {
    "duration": 97,
    "start_time": "2025-04-16T12:05:10.157Z"
   },
   {
    "duration": 31,
    "start_time": "2025-04-16T12:05:10.256Z"
   },
   {
    "duration": 53,
    "start_time": "2025-04-16T12:05:10.289Z"
   },
   {
    "duration": 67,
    "start_time": "2025-04-16T12:05:10.343Z"
   },
   {
    "duration": 40,
    "start_time": "2025-04-16T12:05:10.412Z"
   },
   {
    "duration": 52,
    "start_time": "2025-04-16T12:05:10.454Z"
   },
   {
    "duration": 21,
    "start_time": "2025-04-16T12:05:10.507Z"
   },
   {
    "duration": 26,
    "start_time": "2025-04-16T12:05:10.530Z"
   },
   {
    "duration": 24,
    "start_time": "2025-04-16T12:05:10.558Z"
   },
   {
    "duration": 113,
    "start_time": "2025-04-16T12:05:10.585Z"
   },
   {
    "duration": 52,
    "start_time": "2025-04-16T12:05:10.699Z"
   },
   {
    "duration": 112,
    "start_time": "2025-04-16T12:05:10.753Z"
   },
   {
    "duration": 82,
    "start_time": "2025-04-16T12:05:10.867Z"
   },
   {
    "duration": 48,
    "start_time": "2025-04-16T12:05:10.951Z"
   },
   {
    "duration": 52,
    "start_time": "2025-04-16T12:05:11.001Z"
   },
   {
    "duration": 7,
    "start_time": "2025-04-16T12:05:11.055Z"
   },
   {
    "duration": 55,
    "start_time": "2025-04-16T12:05:11.063Z"
   },
   {
    "duration": 33,
    "start_time": "2025-04-16T12:05:11.120Z"
   },
   {
    "duration": 14,
    "start_time": "2025-04-16T12:05:11.155Z"
   },
   {
    "duration": 27,
    "start_time": "2025-04-16T12:05:11.170Z"
   },
   {
    "duration": 20,
    "start_time": "2025-04-16T12:05:11.199Z"
   },
   {
    "duration": 42,
    "start_time": "2025-04-16T12:05:11.221Z"
   },
   {
    "duration": 136,
    "start_time": "2025-04-16T12:05:11.264Z"
   },
   {
    "duration": 244,
    "start_time": "2025-04-16T12:05:11.402Z"
   },
   {
    "duration": 214,
    "start_time": "2025-04-16T12:05:11.648Z"
   },
   {
    "duration": 213,
    "start_time": "2025-04-16T12:05:11.863Z"
   },
   {
    "duration": 331,
    "start_time": "2025-04-16T12:05:12.078Z"
   },
   {
    "duration": 284,
    "start_time": "2025-04-16T12:05:12.411Z"
   },
   {
    "duration": 232,
    "start_time": "2025-04-16T12:05:12.697Z"
   },
   {
    "duration": 197,
    "start_time": "2025-04-16T12:05:12.931Z"
   },
   {
    "duration": 199,
    "start_time": "2025-04-16T12:05:13.130Z"
   },
   {
    "duration": 206,
    "start_time": "2025-04-16T12:05:13.330Z"
   },
   {
    "duration": 208,
    "start_time": "2025-04-16T12:05:13.537Z"
   },
   {
    "duration": 205,
    "start_time": "2025-04-16T12:05:13.747Z"
   },
   {
    "duration": 211,
    "start_time": "2025-04-16T12:05:13.961Z"
   },
   {
    "duration": 213,
    "start_time": "2025-04-16T12:05:14.174Z"
   },
   {
    "duration": 313,
    "start_time": "2025-04-16T12:05:14.392Z"
   },
   {
    "duration": 213,
    "start_time": "2025-04-16T12:05:14.707Z"
   },
   {
    "duration": 202,
    "start_time": "2025-04-16T12:05:14.922Z"
   },
   {
    "duration": 211,
    "start_time": "2025-04-16T12:05:15.125Z"
   },
   {
    "duration": 212,
    "start_time": "2025-04-16T12:05:15.337Z"
   },
   {
    "duration": 4868,
    "start_time": "2025-04-16T12:05:15.550Z"
   },
   {
    "duration": 11,
    "start_time": "2025-04-16T12:05:20.462Z"
   },
   {
    "duration": 86,
    "start_time": "2025-04-16T12:05:20.475Z"
   },
   {
    "duration": 3,
    "start_time": "2025-04-16T12:05:20.563Z"
   },
   {
    "duration": 23,
    "start_time": "2025-04-16T12:05:20.568Z"
   },
   {
    "duration": 30851,
    "start_time": "2025-04-16T12:05:20.592Z"
   },
   {
    "duration": 10985,
    "start_time": "2025-04-17T06:06:10.261Z"
   },
   {
    "duration": 1577,
    "start_time": "2025-04-17T06:06:21.248Z"
   },
   {
    "duration": 318,
    "start_time": "2025-04-17T06:06:22.827Z"
   },
   {
    "duration": 15,
    "start_time": "2025-04-17T06:06:23.147Z"
   },
   {
    "duration": 46,
    "start_time": "2025-04-17T06:06:23.164Z"
   },
   {
    "duration": 41,
    "start_time": "2025-04-17T06:06:23.212Z"
   },
   {
    "duration": 29,
    "start_time": "2025-04-17T06:06:23.255Z"
   },
   {
    "duration": 32,
    "start_time": "2025-04-17T06:06:23.286Z"
   },
   {
    "duration": 17,
    "start_time": "2025-04-17T06:06:23.321Z"
   },
   {
    "duration": 17,
    "start_time": "2025-04-17T06:06:23.341Z"
   },
   {
    "duration": 33,
    "start_time": "2025-04-17T06:06:23.360Z"
   },
   {
    "duration": 71,
    "start_time": "2025-04-17T06:06:23.395Z"
   },
   {
    "duration": 154,
    "start_time": "2025-04-17T06:06:23.468Z"
   },
   {
    "duration": 79,
    "start_time": "2025-04-17T06:06:23.624Z"
   },
   {
    "duration": 46,
    "start_time": "2025-04-17T06:06:23.705Z"
   },
   {
    "duration": 62,
    "start_time": "2025-04-17T06:06:23.753Z"
   },
   {
    "duration": 47,
    "start_time": "2025-04-17T06:06:23.817Z"
   },
   {
    "duration": 71,
    "start_time": "2025-04-17T06:06:23.866Z"
   },
   {
    "duration": 199,
    "start_time": "2025-04-17T06:06:23.939Z"
   },
   {
    "duration": 70,
    "start_time": "2025-04-17T06:06:24.139Z"
   },
   {
    "duration": 21,
    "start_time": "2025-04-17T06:06:24.211Z"
   },
   {
    "duration": 33,
    "start_time": "2025-04-17T06:06:24.234Z"
   },
   {
    "duration": 9,
    "start_time": "2025-04-17T06:06:24.269Z"
   },
   {
    "duration": 27,
    "start_time": "2025-04-17T06:06:24.280Z"
   },
   {
    "duration": 29,
    "start_time": "2025-04-17T06:06:24.309Z"
   },
   {
    "duration": 26,
    "start_time": "2025-04-17T06:06:24.339Z"
   },
   {
    "duration": 245,
    "start_time": "2025-04-17T06:06:24.367Z"
   },
   {
    "duration": 266,
    "start_time": "2025-04-17T06:06:24.616Z"
   },
   {
    "duration": 242,
    "start_time": "2025-04-17T06:06:24.884Z"
   },
   {
    "duration": 219,
    "start_time": "2025-04-17T06:06:25.128Z"
   },
   {
    "duration": 324,
    "start_time": "2025-04-17T06:06:25.349Z"
   },
   {
    "duration": 286,
    "start_time": "2025-04-17T06:06:25.675Z"
   },
   {
    "duration": 267,
    "start_time": "2025-04-17T06:06:25.963Z"
   },
   {
    "duration": 201,
    "start_time": "2025-04-17T06:06:26.232Z"
   },
   {
    "duration": 213,
    "start_time": "2025-04-17T06:06:26.434Z"
   },
   {
    "duration": 199,
    "start_time": "2025-04-17T06:06:26.649Z"
   },
   {
    "duration": 208,
    "start_time": "2025-04-17T06:06:26.850Z"
   },
   {
    "duration": 201,
    "start_time": "2025-04-17T06:06:27.059Z"
   },
   {
    "duration": 203,
    "start_time": "2025-04-17T06:06:27.262Z"
   },
   {
    "duration": 203,
    "start_time": "2025-04-17T06:06:27.467Z"
   },
   {
    "duration": 311,
    "start_time": "2025-04-17T06:06:27.672Z"
   },
   {
    "duration": 203,
    "start_time": "2025-04-17T06:06:27.985Z"
   },
   {
    "duration": 202,
    "start_time": "2025-04-17T06:06:28.190Z"
   },
   {
    "duration": 191,
    "start_time": "2025-04-17T06:06:28.394Z"
   },
   {
    "duration": 219,
    "start_time": "2025-04-17T06:06:28.587Z"
   },
   {
    "duration": 4747,
    "start_time": "2025-04-17T06:06:28.807Z"
   },
   {
    "duration": 11,
    "start_time": "2025-04-17T06:06:33.556Z"
   },
   {
    "duration": 65,
    "start_time": "2025-04-17T06:06:33.569Z"
   },
   {
    "duration": 3,
    "start_time": "2025-04-17T06:06:33.635Z"
   },
   {
    "duration": 10,
    "start_time": "2025-04-17T06:06:33.640Z"
   },
   {
    "duration": 30328,
    "start_time": "2025-04-17T06:06:33.652Z"
   },
   {
    "duration": 30343,
    "start_time": "2025-04-17T06:07:03.982Z"
   },
   {
    "duration": 928069,
    "start_time": "2025-04-17T06:07:34.327Z"
   },
   {
    "duration": 29,
    "start_time": "2025-04-17T06:23:02.397Z"
   },
   {
    "duration": 85,
    "start_time": "2025-04-17T09:27:11.881Z"
   },
   {
    "duration": 5925,
    "start_time": "2025-04-17T18:35:26.432Z"
   },
   {
    "duration": 1309,
    "start_time": "2025-04-17T18:35:32.360Z"
   },
   {
    "duration": 92,
    "start_time": "2025-04-17T18:35:33.671Z"
   },
   {
    "duration": 15,
    "start_time": "2025-04-17T18:35:33.764Z"
   },
   {
    "duration": 66,
    "start_time": "2025-04-17T18:35:33.781Z"
   },
   {
    "duration": 104,
    "start_time": "2025-04-17T18:35:33.849Z"
   },
   {
    "duration": 78,
    "start_time": "2025-04-17T18:35:33.955Z"
   },
   {
    "duration": 16,
    "start_time": "2025-04-17T18:35:34.035Z"
   },
   {
    "duration": 15,
    "start_time": "2025-04-17T18:35:34.052Z"
   },
   {
    "duration": 37,
    "start_time": "2025-04-17T18:35:34.069Z"
   },
   {
    "duration": 33,
    "start_time": "2025-04-17T18:35:34.108Z"
   },
   {
    "duration": 12,
    "start_time": "2025-04-17T18:35:34.143Z"
   },
   {
    "duration": 11,
    "start_time": "2025-04-17T18:35:34.156Z"
   },
   {
    "duration": 10,
    "start_time": "2025-04-17T18:35:34.170Z"
   },
   {
    "duration": 10,
    "start_time": "2025-04-17T18:35:34.182Z"
   },
   {
    "duration": 34,
    "start_time": "2025-04-17T18:35:34.194Z"
   },
   {
    "duration": 16,
    "start_time": "2025-04-17T18:35:34.230Z"
   },
   {
    "duration": 15,
    "start_time": "2025-04-17T18:35:34.247Z"
   },
   {
    "duration": 89,
    "start_time": "2025-04-17T18:35:34.264Z"
   },
   {
    "duration": 5,
    "start_time": "2025-04-17T18:35:34.355Z"
   },
   {
    "duration": 17,
    "start_time": "2025-04-17T18:35:34.362Z"
   },
   {
    "duration": 51,
    "start_time": "2025-04-17T18:35:34.380Z"
   },
   {
    "duration": 15,
    "start_time": "2025-04-17T18:35:34.433Z"
   },
   {
    "duration": 15,
    "start_time": "2025-04-17T18:35:34.451Z"
   },
   {
    "duration": 67,
    "start_time": "2025-04-17T18:35:34.467Z"
   },
   {
    "duration": 13,
    "start_time": "2025-04-17T18:35:34.536Z"
   },
   {
    "duration": 121,
    "start_time": "2025-04-17T18:35:34.551Z"
   },
   {
    "duration": 253,
    "start_time": "2025-04-17T18:35:34.674Z"
   },
   {
    "duration": 222,
    "start_time": "2025-04-17T18:35:34.928Z"
   },
   {
    "duration": 205,
    "start_time": "2025-04-17T18:35:35.152Z"
   },
   {
    "duration": 313,
    "start_time": "2025-04-17T18:35:35.359Z"
   },
   {
    "duration": 275,
    "start_time": "2025-04-17T18:35:35.673Z"
   },
   {
    "duration": 256,
    "start_time": "2025-04-17T18:35:35.950Z"
   },
   {
    "duration": 198,
    "start_time": "2025-04-17T18:35:36.208Z"
   },
   {
    "duration": 197,
    "start_time": "2025-04-17T18:35:36.408Z"
   },
   {
    "duration": 193,
    "start_time": "2025-04-17T18:35:36.607Z"
   },
   {
    "duration": 209,
    "start_time": "2025-04-17T18:35:36.806Z"
   },
   {
    "duration": 210,
    "start_time": "2025-04-17T18:35:37.017Z"
   },
   {
    "duration": 207,
    "start_time": "2025-04-17T18:35:37.228Z"
   },
   {
    "duration": 200,
    "start_time": "2025-04-17T18:35:37.437Z"
   },
   {
    "duration": 309,
    "start_time": "2025-04-17T18:35:37.641Z"
   },
   {
    "duration": 213,
    "start_time": "2025-04-17T18:35:37.953Z"
   },
   {
    "duration": 203,
    "start_time": "2025-04-17T18:35:38.168Z"
   },
   {
    "duration": 196,
    "start_time": "2025-04-17T18:35:38.373Z"
   },
   {
    "duration": 213,
    "start_time": "2025-04-17T18:35:38.571Z"
   },
   {
    "duration": 5448,
    "start_time": "2025-04-17T18:35:38.786Z"
   },
   {
    "duration": 12,
    "start_time": "2025-04-17T18:35:44.236Z"
   },
   {
    "duration": 11,
    "start_time": "2025-04-17T18:35:44.250Z"
   },
   {
    "duration": 17,
    "start_time": "2025-04-17T18:35:44.263Z"
   },
   {
    "duration": 10,
    "start_time": "2025-04-17T18:35:44.281Z"
   },
   {
    "duration": 30389,
    "start_time": "2025-04-17T18:35:44.292Z"
   },
   {
    "duration": 30030,
    "start_time": "2025-04-17T18:36:14.683Z"
   },
   {
    "duration": 913514,
    "start_time": "2025-04-17T18:36:44.714Z"
   },
   {
    "duration": 30,
    "start_time": "2025-04-17T18:51:58.229Z"
   },
   {
    "duration": 10,
    "start_time": "2025-04-17T19:06:31.342Z"
   },
   {
    "duration": 124,
    "start_time": "2025-04-17T19:08:02.189Z"
   },
   {
    "duration": 11,
    "start_time": "2025-04-17T19:08:08.455Z"
   },
   {
    "duration": 12,
    "start_time": "2025-04-17T19:17:42.665Z"
   },
   {
    "duration": 12,
    "start_time": "2025-04-17T19:17:51.537Z"
   },
   {
    "duration": 13,
    "start_time": "2025-04-17T19:18:29.517Z"
   },
   {
    "duration": 1636,
    "start_time": "2025-04-17T19:18:55.579Z"
   },
   {
    "duration": 178,
    "start_time": "2025-04-17T19:19:19.514Z"
   },
   {
    "duration": 391,
    "start_time": "2025-04-17T19:19:34.815Z"
   },
   {
    "duration": 289,
    "start_time": "2025-04-17T19:19:54.765Z"
   },
   {
    "duration": 255,
    "start_time": "2025-04-17T19:20:10.975Z"
   },
   {
    "duration": 263,
    "start_time": "2025-04-17T19:20:18.110Z"
   },
   {
    "duration": 265,
    "start_time": "2025-04-17T19:27:24.419Z"
   }
  ],
  "kernelspec": {
   "display_name": "Python 3 (ipykernel)",
   "language": "python",
   "name": "python3"
  },
  "language_info": {
   "codemirror_mode": {
    "name": "ipython",
    "version": 3
   },
   "file_extension": ".py",
   "mimetype": "text/x-python",
   "name": "python",
   "nbconvert_exporter": "python",
   "pygments_lexer": "ipython3",
   "version": "3.9.21"
  },
  "toc": {
   "base_numbering": 1,
   "nav_menu": {},
   "number_sections": true,
   "sideBar": true,
   "skip_h1_title": true,
   "title_cell": "Table of Contents",
   "title_sidebar": "Contents",
   "toc_cell": false,
   "toc_position": {
    "height": "calc(100% - 180px)",
    "left": "10px",
    "top": "150px",
    "width": "204.391px"
   },
   "toc_section_display": true,
   "toc_window_display": true
  }
 },
 "nbformat": 4,
 "nbformat_minor": 5
}
