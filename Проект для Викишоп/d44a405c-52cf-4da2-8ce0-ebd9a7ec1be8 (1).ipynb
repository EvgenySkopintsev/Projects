{
 "cells": [
  {
   "cell_type": "markdown",
   "metadata": {
    "toc": true
   },
   "source": [
    "<h1>Содержание<span class=\"tocSkip\"></span></h1>\n",
    "<div class=\"toc\"><ul class=\"toc-item\"><li><span><a href=\"#Подготовка\" data-toc-modified-id=\"Подготовка-1\"><span class=\"toc-item-num\">1&nbsp;&nbsp;</span>Подготовка</a></span></li><li><span><a href=\"#Обучение\" data-toc-modified-id=\"Обучение-2\"><span class=\"toc-item-num\">2&nbsp;&nbsp;</span>Обучение</a></span><ul class=\"toc-item\"><li><span><a href=\"#LogisticRegression()\" data-toc-modified-id=\"LogisticRegression()-2.1\"><span class=\"toc-item-num\">2.1&nbsp;&nbsp;</span>LogisticRegression()</a></span></li><li><span><a href=\"#CatBoostClassifier\" data-toc-modified-id=\"CatBoostClassifier-2.2\"><span class=\"toc-item-num\">2.2&nbsp;&nbsp;</span>CatBoostClassifier</a></span></li></ul></li><li><span><a href=\"#Выводы\" data-toc-modified-id=\"Выводы-3\"><span class=\"toc-item-num\">3&nbsp;&nbsp;</span>Выводы</a></span></li><li><span><a href=\"#Чек-лист-проверки\" data-toc-modified-id=\"Чек-лист-проверки-4\"><span class=\"toc-item-num\">4&nbsp;&nbsp;</span>Чек-лист проверки</a></span></li></ul></div>"
   ]
  },
  {
   "cell_type": "markdown",
   "metadata": {},
   "source": [
    "<img src=\"http://s3.amazonaws.com/pix.iemoji.com/images/emoji/apple/ios-12/256/waving-hand.png\" align=left width=44, heigth=44>\n",
    "<div class=\"alert alert-info\">\n",
    "<b> Комментарий ревьюера</b>\n",
    "\n",
    "\n",
    "Привет, Евгений! Давай знакомиться! Меня зовут Дмитрий Махортов, и я буду проверять твой проект. Сразу предлагаю общение на «ты» 🙂, но если тебе это не комфортно, то дай знать, и мы перейдем на «вы». \n",
    "\n",
    "Моя основная цель — не указать на совершенные тобою ошибки, а поделиться своим опытом и помочь тебе погрузиться в увлекательный мир работы с данными и вырасти в крепкого профи. Это отдаленная цель. А ближайшая - сделать твою работу еще лучше )).\n",
    "   \n",
    "    \n",
    "Все ключевые этапы в работе выполнены, и я вижу что с проектом ты справшяешься. Есть моменты, которые нужно доработать, но я уверен, у тебя все получится.\n",
    "        \n",
    "Расскажу как обычно проходит проверка:    \n",
    "Бывают моменты, которые требуют пристального внимания. Комментарии по ним выделены <span style='background-color:#F7B3A4'> красным цветом </span> и обозначены значком 🛑. После их доработки проект будет принят.  🙂\n",
    " \n",
    "<span style='background-color:#B7EBA7'> Зеленым цветом </span> и значком ✅ отмечены удачные и элегантные решения, на которые можно опираться в будущих проектах. Или советы «со звездочкой», которые помогут тебе в будущем.\n",
    "\n",
    "<span style='background-color:#F9EDA6'>Жёлтым цветом </span> и значком ⚠️ выделено то, что в следующий раз можно сделать по-другому. Ты можешь учесть эти комментарии при выполнении будущих заданий или доработать проект сейчас (однако это не обязательно).\n",
    "\n",
    "Давай работать над проектом в диалоге: **если ты что-то меняешь в проекте по моим рекомендациям — пиши об этом**. Выбери для своих комментариев какой-то заметный цвет, так мне будет легче отследить изменения. Пожалуйста, **не перемещай, не изменяй и не удаляй мои комментарии**. Всё это поможет выполнить повторную проверку твоего проекта оперативнее. \n",
    "</div>"
   ]
  },
  {
   "cell_type": "markdown",
   "metadata": {},
   "source": [
    "<div class=\"alert\" style=\"background-color:#ead7f7;color:#8737bf\">\n",
    "    <font size=\"3\"><b>образец комментария студента</b></font>\n",
    "   \n",
    "Можешь использовать этот комментарий. Просто удали этот текст и вместо него напиши свой 🙂\n",
    "\n",
    "</div>"
   ]
  },
  {
   "cell_type": "markdown",
   "metadata": {},
   "source": [
    "# Проект для «Викишоп»"
   ]
  },
  {
   "cell_type": "markdown",
   "metadata": {},
   "source": [
    "Интернет-магазин «Викишоп» запускает новый сервис. Теперь пользователи могут редактировать и дополнять описания товаров, как в вики-сообществах. То есть клиенты предлагают свои правки и комментируют изменения других. Магазину нужен инструмент, который будет искать токсичные комментарии и отправлять их на модерацию. \n",
    "\n",
    "Обучите модель классифицировать комментарии на позитивные и негативные. В вашем распоряжении набор данных с разметкой о токсичности правок.\n",
    "\n",
    "Постройте модель со значением метрики качества *F1* не меньше 0.75. \n",
    "\n",
    "**Инструкция по выполнению проекта**\n",
    "\n",
    "1. Загрузите и подготовьте данные.\n",
    "2. Обучите разные модели. \n",
    "3. Сделайте выводы.\n",
    "\n",
    "Для выполнения проекта применять *BERT* необязательно, но вы можете попробовать.\n",
    "\n",
    "**Описание данных**\n",
    "\n",
    "Данные находятся в файле `toxic_comments.csv`. Столбец *text* в нём содержит текст комментария, а *toxic* — целевой признак."
   ]
  },
  {
   "cell_type": "markdown",
   "metadata": {},
   "source": [
    "## Подготовка"
   ]
  },
  {
   "cell_type": "code",
   "execution_count": 17,
   "metadata": {},
   "outputs": [],
   "source": [
    "import pandas as pd\n",
    "import nltk\n",
    "import spacy\n",
    "from nltk.corpus import stopwords\n",
    "from sklearn.linear_model import LogisticRegression\n",
    "from sklearn.model_selection import GridSearchCV\n",
    "from sklearn.pipeline import Pipeline\n",
    "from sklearn.model_selection import train_test_split\n",
    "from sklearn.feature_extraction.text import TfidfVectorizer\n",
    "from sklearn.metrics import f1_score\n",
    "import re\n",
    "import os\n",
    "from tqdm.notebook import tqdm\n",
    "from catboost import CatBoostClassifier"
   ]
  },
  {
   "cell_type": "markdown",
   "metadata": {},
   "source": [
    "<img src=\"https://emojigraph.org/media/apple/check-mark-button_2705.png\" align=left width=33, heigth=33>\n",
    "<div class=\"alert alert-success\">\n",
    "Отлично, все нужные библиотеки импортированы в начале ноутбука.Это хорошая практика.</div>"
   ]
  },
  {
   "cell_type": "code",
   "execution_count": 2,
   "metadata": {},
   "outputs": [
    {
     "data": {
      "text/html": [
       "<div>\n",
       "<style scoped>\n",
       "    .dataframe tbody tr th:only-of-type {\n",
       "        vertical-align: middle;\n",
       "    }\n",
       "\n",
       "    .dataframe tbody tr th {\n",
       "        vertical-align: top;\n",
       "    }\n",
       "\n",
       "    .dataframe thead th {\n",
       "        text-align: right;\n",
       "    }\n",
       "</style>\n",
       "<table border=\"1\" class=\"dataframe\">\n",
       "  <thead>\n",
       "    <tr style=\"text-align: right;\">\n",
       "      <th></th>\n",
       "      <th>Unnamed: 0</th>\n",
       "      <th>text</th>\n",
       "      <th>toxic</th>\n",
       "    </tr>\n",
       "  </thead>\n",
       "  <tbody>\n",
       "    <tr>\n",
       "      <th>0</th>\n",
       "      <td>0</td>\n",
       "      <td>Explanation\\nWhy the edits made under my usern...</td>\n",
       "      <td>0</td>\n",
       "    </tr>\n",
       "    <tr>\n",
       "      <th>1</th>\n",
       "      <td>1</td>\n",
       "      <td>D'aww! He matches this background colour I'm s...</td>\n",
       "      <td>0</td>\n",
       "    </tr>\n",
       "    <tr>\n",
       "      <th>2</th>\n",
       "      <td>2</td>\n",
       "      <td>Hey man, I'm really not trying to edit war. It...</td>\n",
       "      <td>0</td>\n",
       "    </tr>\n",
       "    <tr>\n",
       "      <th>3</th>\n",
       "      <td>3</td>\n",
       "      <td>\"\\nMore\\nI can't make any real suggestions on ...</td>\n",
       "      <td>0</td>\n",
       "    </tr>\n",
       "    <tr>\n",
       "      <th>4</th>\n",
       "      <td>4</td>\n",
       "      <td>You, sir, are my hero. Any chance you remember...</td>\n",
       "      <td>0</td>\n",
       "    </tr>\n",
       "  </tbody>\n",
       "</table>\n",
       "</div>"
      ],
      "text/plain": [
       "   Unnamed: 0                                               text  toxic\n",
       "0           0  Explanation\\nWhy the edits made under my usern...      0\n",
       "1           1  D'aww! He matches this background colour I'm s...      0\n",
       "2           2  Hey man, I'm really not trying to edit war. It...      0\n",
       "3           3  \"\\nMore\\nI can't make any real suggestions on ...      0\n",
       "4           4  You, sir, are my hero. Any chance you remember...      0"
      ]
     },
     "execution_count": 2,
     "metadata": {},
     "output_type": "execute_result"
    }
   ],
   "source": [
    "pth1 = 'C:/Users/Evgeny/Desktop/YP/datasets/toxic_comments.csv'\n",
    "pth2 = '/datasets/toxic_comments.csv'\n",
    "\n",
    "if os.path.exists(pth1):\n",
    "    data = pd.read_csv(pth1)\n",
    "elif os.path.exists(pth2):\n",
    "    data = pd.read_csv(pth2)\n",
    "else:\n",
    "    print('Something is wrong')\n",
    "\n",
    "data.head()"
   ]
  },
  {
   "cell_type": "markdown",
   "metadata": {},
   "source": [
    "<img src=\"https://upload.wikimedia.org/wikipedia/commons/thumb/8/81/Stop_sign.png/240px-Stop_sign.png\" align=left width=35, heigth=35>\n",
    "<div class=\"alert alert-danger\">\n",
    "    \n",
    "Кажется, работа над проектов велась локально и пути к файлам не были изменены на общедоступные. Стоит переписать код таким образом, что бы он запускался и в jupiter hub, и локально без внесения дополнительных правок. Этого можно добиться многими способами. Например, использовать конструкцию ``try-except`` для путей файлов: ``try`` — пути на локальном компьютере, ``except`` — пути на сервере. Или применить библиотеку ``os``:\n",
    "\n",
    "    import os\n",
    "\n",
    "    pth1 = '/folder_1/data.csv'\n",
    "    pth2 = '/folder_2/data.csv'\n",
    "    \n",
    "    if os.path.exists(pth1):\n",
    "        query_1 = pd.read_csv(pth1)\n",
    "    elif os.path.exists(pth2):\n",
    "        query_1 = pd.read_csv(pth2)\n",
    "    else:\n",
    "        print('Something is wrong)\n",
    "</div>"
   ]
  },
  {
   "cell_type": "markdown",
   "metadata": {},
   "source": [
    "<div class=\"alert\" style=\"background-color:#ead7f7;color:#8737bf\">\n",
    "    <font size=\"3\"><b>Комментарий студента</b></font>\n",
    "   \n",
    "Спасибо, поправил!\n",
    "\n",
    "</div>"
   ]
  },
  {
   "cell_type": "code",
   "execution_count": 3,
   "metadata": {},
   "outputs": [
    {
     "name": "stderr",
     "output_type": "stream",
     "text": [
      "[nltk_data] Downloading package stopwords to\n",
      "[nltk_data]     C:\\Users\\Evgeny\\AppData\\Roaming\\nltk_data...\n",
      "[nltk_data]   Package stopwords is already up-to-date!\n"
     ]
    }
   ],
   "source": [
    "nlp = spacy.load('en_core_web_sm')\n",
    "\n",
    "nltk.download('stopwords')\n",
    "stop_words = set(stopwords.words('english'))"
   ]
  },
  {
   "cell_type": "code",
   "execution_count": 4,
   "metadata": {},
   "outputs": [],
   "source": [
    "def prepare(text):\n",
    "    text = text.lower()\n",
    "    doc = nlp(text)    \n",
    "    lemm_list = [token.lemma_ for token in doc if token.is_alpha]  # Убираем неалфавитные токены\n",
    "    lemm_text = \" \".join(lemm_list)\n",
    "    lemm_text = re.sub(r'[^a-zA-Z ]', ' ', lemm_text)\n",
    "    t = lemm_text.split()\n",
    "    t2 = \" \".join(t)\n",
    "    \n",
    "    return t2"
   ]
  },
  {
   "cell_type": "code",
   "execution_count": 5,
   "metadata": {},
   "outputs": [
    {
     "data": {
      "application/vnd.jupyter.widget-view+json": {
       "model_id": "1f193cc298e64341a176ce0819b64ff1",
       "version_major": 2,
       "version_minor": 0
      },
      "text/plain": [
       "  0%|          | 0/159292 [00:00<?, ?it/s]"
      ]
     },
     "metadata": {},
     "output_type": "display_data"
    },
    {
     "data": {
      "text/html": [
       "<div>\n",
       "<style scoped>\n",
       "    .dataframe tbody tr th:only-of-type {\n",
       "        vertical-align: middle;\n",
       "    }\n",
       "\n",
       "    .dataframe tbody tr th {\n",
       "        vertical-align: top;\n",
       "    }\n",
       "\n",
       "    .dataframe thead th {\n",
       "        text-align: right;\n",
       "    }\n",
       "</style>\n",
       "<table border=\"1\" class=\"dataframe\">\n",
       "  <thead>\n",
       "    <tr style=\"text-align: right;\">\n",
       "      <th></th>\n",
       "      <th>Unnamed: 0</th>\n",
       "      <th>text</th>\n",
       "      <th>toxic</th>\n",
       "    </tr>\n",
       "  </thead>\n",
       "  <tbody>\n",
       "    <tr>\n",
       "      <th>0</th>\n",
       "      <td>0</td>\n",
       "      <td>explanation why the edit make under my usernam...</td>\n",
       "      <td>0</td>\n",
       "    </tr>\n",
       "    <tr>\n",
       "      <th>1</th>\n",
       "      <td>1</td>\n",
       "      <td>he match this background colour I seemingly st...</td>\n",
       "      <td>0</td>\n",
       "    </tr>\n",
       "    <tr>\n",
       "      <th>2</th>\n",
       "      <td>2</td>\n",
       "      <td>hey man I really not try to edit war it just t...</td>\n",
       "      <td>0</td>\n",
       "    </tr>\n",
       "    <tr>\n",
       "      <th>3</th>\n",
       "      <td>3</td>\n",
       "      <td>more I can make any real suggestion on improve...</td>\n",
       "      <td>0</td>\n",
       "    </tr>\n",
       "    <tr>\n",
       "      <th>4</th>\n",
       "      <td>4</td>\n",
       "      <td>you sir be my hero any chance you remember wha...</td>\n",
       "      <td>0</td>\n",
       "    </tr>\n",
       "  </tbody>\n",
       "</table>\n",
       "</div>"
      ],
      "text/plain": [
       "   Unnamed: 0                                               text  toxic\n",
       "0           0  explanation why the edit make under my usernam...      0\n",
       "1           1  he match this background colour I seemingly st...      0\n",
       "2           2  hey man I really not try to edit war it just t...      0\n",
       "3           3  more I can make any real suggestion on improve...      0\n",
       "4           4  you sir be my hero any chance you remember wha...      0"
      ]
     },
     "execution_count": 5,
     "metadata": {},
     "output_type": "execute_result"
    }
   ],
   "source": [
    "tqdm.pandas()\n",
    "\n",
    "data['text'] = data['text'].progress_apply(prepare)\n",
    "data.head()"
   ]
  },
  {
   "cell_type": "markdown",
   "metadata": {},
   "source": [
    "<img src=\"https://emojigraph.org/media/apple/check-mark-button_2705.png\" align=left width=33, heigth=33>\n",
    "<div class=\"alert alert-success\">\n",
    "    \n",
    "  <b>v2</b> \n",
    "    \n",
    "    \n",
    "Очень круто, что ты используешь spaCy. Но лемматизаторspaCy работает безумно долго и скорее всего, у тебя сложилось впечатление, что он неудобен. На самом деле spaCy, в отличие от других библиотек - это библиотека ориентированая на создание индустриальных решений, тогда как другие библиотеки созданы для исследователей (академического сообщества). А работает он долго потому, что заодно с лемматизацией решает кучу других задач. Увидеть эти задачи ты можешь вызвав команду:\n",
    "    \n",
    "     nlp.pipe_names\n",
    "Скорее всего ты увидишь следующее:\n",
    "    \n",
    "     ['tok2vec', 'tagger', 'parser', 'attribute_ruler', 'lemmatizer', 'ner']\n",
    " \n",
    "Т.е. создавая объект nlp ты кроме нужной задачи (лемматизации) решаешь задачи получения эмбедингов, определение частей речи, определение взаимосвязей между токенами, нахождение именованных сущностей. Отключить не нужное повведение очень легко используя вот такой шаблон:\n",
    "    \n",
    "    disabled_pipes = [ \"parser\",  \"ner\"]\n",
    "    nlp = spacy.load('en_core_web_sm', disable=disabled_pipes)\n",
    "    \n",
    "И выполняться такой пайплайн будет  быстрее.\n",
    "    \n",
    "Важно - отключать нужно именно указанные мною шаги. Удаление остальных приведет к тому, что лемматизация прекратит работать.\n",
    "    \n",
    "А еще для ускорения spaCy можно использовать spaCy pipeline (https://spacy.io/usage/processing-pipelines)\n",
    "    \n",
    "    \n",
    "    lemm_texts = []\n",
    "\n",
    "    for doc in tqdm(nlp.pipe(data['text'].values, disable = ['ner', 'parser']), total=data.shape[0]):\n",
    "        lemm_text = \" \".join([i.lemma_ for i in doc])    \n",
    "        lemm_texts.append(lemm_text) \n",
    "    \n",
    "Когда я проверял, у меня получилось ускорить почти в два раза.</div>"
   ]
  },
  {
   "cell_type": "markdown",
   "metadata": {},
   "source": [
    "<img src=\"https://upload.wikimedia.org/wikipedia/commons/thumb/8/81/Stop_sign.png/240px-Stop_sign.png\" align=left width=35, heigth=35>\n",
    "<div class=\"alert alert-danger\">\n",
    "Молодец, что используешь лемматизатор WordNetLemmatizer. Но в данном случае он отработал не очень хорошо, и если присмотреться к тексту это хорошо видно. Например, в четвертой строке видим глагол are, но его начальная форма - be. Аналогично в нулевой строке есть глагол made, а его начальная форма make. \n",
    "    \n",
    "Как правило, совершаются следующие ошибки:\n",
    "    \n",
    " - Лемматизация должна производиться по одному слову, а не весь комментарий целиком\n",
    " - Слова должны быть приведены к нижнему регистру\n",
    " - Кроме самого слова в лемматизатор нужно передать дополнительную информацию о части речи слова (POS тег). \n",
    "    \n",
    "    \n",
    "    \n",
    "Ты можешь доработать подход с WordNetLemmatizer или использовать spaCy, там все отрабатывает \"из коробки\". \n",
    "\n",
    "Вот топик на SOF где разбирается как нужно изменить подход с WordNetLemmatizer\n",
    "    \n",
    "https://stackoverflow.com/questions/50992974/nltk-wordnetlemmatizer-not-lemmatizing-as-expected    \n",
    "    \n",
    "    \n",
    "    \n",
    "Совет - старайся сразу проверять  результаты лемматизации. Например, для предложения\n",
    "    \n",
    "    sentence = \"The bats are hanging on their feet for best\"\n",
    "    \n",
    "После лемматизации должен получиться вот такой результат\n",
    "    \n",
    "    \"the bat be hang on their foot for best\"    \n",
    "    \n",
    "</div>"
   ]
  },
  {
   "cell_type": "markdown",
   "metadata": {},
   "source": [
    "\n",
    "<img src=\"https://upload.wikimedia.org/wikipedia/commons/thumb/8/81/Stop_sign.png/240px-Stop_sign.png\" align=left width=35, heigth=35>\n",
    "<div class=\"alert alert-danger\">\n",
    "В нашем проекте не нужно (и даже вредно) менять кодировку на unicode. Изменение кодировки увеличивает количество оперативной памяти, необходимой для хранения текстов и может привсти к падению ядра. \n",
    "    \n",
    "В теоретической части мы работали с русскоязычными текстами, поэтому изменение кодировки было обосновано. Но тексты в проекте  написаны латиницей, поэтому вполне достаточно кодировки по умолчанию.</div>\n"
   ]
  },
  {
   "cell_type": "markdown",
   "metadata": {},
   "source": [
    "<div class=\"alert\" style=\"background-color:#ead7f7;color:#8737bf\">\n",
    "    <font size=\"3\"><b>Комментарий студента</b></font>\n",
    "   \n",
    "Понял и убрал! вот и раскрыта загадка, почему мне ни на что, кроме логрега, не хватало оперативки)\n",
    "\n",
    "</div>"
   ]
  },
  {
   "cell_type": "markdown",
   "metadata": {},
   "source": [
    "<img src=\"https://emojigraph.org/media/apple/check-mark-button_2705.png\" align=left width=33, heigth=33>\n",
    "<div class=\"alert alert-success\">\n",
    "    <b>v2</b> 👍 </div>"
   ]
  },
  {
   "cell_type": "code",
   "execution_count": 6,
   "metadata": {},
   "outputs": [],
   "source": [
    "X = data['text']\n",
    "y = data['toxic']"
   ]
  },
  {
   "cell_type": "code",
   "execution_count": 7,
   "metadata": {},
   "outputs": [],
   "source": [
    "X_train, X_test, y_train, y_test = train_test_split(X, y, test_size=0.1, random_state=123)"
   ]
  },
  {
   "cell_type": "markdown",
   "metadata": {},
   "source": [
    "<img src=\"https://emojigraph.org/media/apple/check-mark-button_2705.png\" align=left width=33, heigth=33>\n",
    "<div class=\"alert alert-success\">\n",
    "    \n",
    "Данные разделены на выборки. Но я бы посоветовал тебе изменить пропорции и выделить на тест 10%. Причина простая - модели, которые мы обучаем чувствительны к объему обучающих данных. Чем больше слов они увидят в процессе обучения, и оценят их вклад в \"токсичность\", тем лучше будут модели. А для корректного тестирования и 10% данных вполне достаточно, учитывая немаленький размер датасета.\n",
    "\n",
    "</div>"
   ]
  },
  {
   "cell_type": "markdown",
   "metadata": {},
   "source": [
    "<img src=\"https://upload.wikimedia.org/wikipedia/commons/b/ba/Warning_sign_4.0.png\" align=left width=44, heigth=33>\n",
    "<div class=\"alert alert-warning\">\n",
    "Давай подумаем, нужна ли тебе валидационая выборка? В дальнейшем ты используешь поиск по сетке, в основе которого лежит кросс-валидация. Поэтому разумно для выбора лучшей модели также ипользовать оценки, полученные с помощью кросс-валидации, а одновремено использовать в проекте кросс-валидацию и валидационную выборку не стоит, это сигнал что ты не очень хорошо владеешь инструментарием.</div>"
   ]
  },
  {
   "cell_type": "markdown",
   "metadata": {},
   "source": [
    "<div class=\"alert\" style=\"background-color:#ead7f7;color:#8737bf\">\n",
    "    <font size=\"3\"><b>Комментарий студента</b></font>\n",
    "   \n",
    "Согласен, убрал валидационную выборку\n",
    "\n",
    "</div>"
   ]
  },
  {
   "cell_type": "markdown",
   "metadata": {},
   "source": [
    "<img src=\"https://emojigraph.org/media/apple/check-mark-button_2705.png\" align=left width=33, heigth=33>\n",
    "<div class=\"alert alert-success\">\n",
    "    <b>v2</b> 👍 </div>"
   ]
  },
  {
   "cell_type": "markdown",
   "metadata": {},
   "source": [
    "## Обучение"
   ]
  },
  {
   "cell_type": "markdown",
   "metadata": {},
   "source": [
    "### LogisticRegression()"
   ]
  },
  {
   "cell_type": "code",
   "execution_count": 11,
   "metadata": {},
   "outputs": [],
   "source": [
    "pipeline_lr = Pipeline([\n",
    "    ('tfidf', TfidfVectorizer(stop_words=stop_words)),  \n",
    "    ('model', LogisticRegression(solver='liblinear', max_iter=1000, random_state = 42))\n",
    "])\n",
    "\n",
    "param_grid_lr = {\n",
    "    'model__C': [0.1, 1, 3, 4], \n",
    "    'model__penalty': ['l1', 'l2'] \n",
    "}\n",
    "\n",
    "grid_search_lr = GridSearchCV(pipeline_lr, param_grid_lr, cv=5, scoring='f1', n_jobs=-1)"
   ]
  },
  {
   "cell_type": "code",
   "execution_count": 12,
   "metadata": {},
   "outputs": [
    {
     "name": "stdout",
     "output_type": "stream",
     "text": [
      "Best parameters: {'model__C': 3, 'model__penalty': 'l1'}\n",
      "F1 score: 0.786593707250342\n"
     ]
    }
   ],
   "source": [
    "grid_search_lr.fit(X_train, y_train)\n",
    "    \n",
    "y_pred = grid_search_lr.predict(X_test)\n",
    "    \n",
    "f1 = f1_score(y_test, y_pred)\n",
    "    \n",
    "print(f'Best parameters: {grid_search_lr.best_params_}')\n",
    "print(f'F1 score: {f1}')"
   ]
  },
  {
   "cell_type": "markdown",
   "metadata": {},
   "source": [
    "<div class=\"alert\" style=\"background-color:#ead7f7;color:#8737bf\">\n",
    "    <font size=\"3\"><b>Комментарий студента</b></font>\n",
    "   \n",
    "Для избежания утечки данных перенес векторайзер в пайплайн\n",
    "\n",
    "</div>"
   ]
  },
  {
   "cell_type": "markdown",
   "metadata": {},
   "source": [
    "<img src=\"https://emojigraph.org/media/apple/check-mark-button_2705.png\" align=left width=33, heigth=33>\n",
    "<div class=\"alert alert-success\">\n",
    "    <b>v2</b> 👍 </div>"
   ]
  },
  {
   "cell_type": "markdown",
   "metadata": {},
   "source": [
    "<img src=\"https://upload.wikimedia.org/wikipedia/commons/b/ba/Warning_sign_4.0.png\" align=left width=44, heigth=33>\n",
    "<div class=\"alert alert-warning\">\n",
    "Поиск по сетке использует крос-валидацию.  А кросс-валидация одновремено с извлечением признаков из текстов требует особого подхода. Ты помнишь, что векторайзер мы обучали на обучающей выборке а применяли к тестовой. Что происходит при кросс-валидации? Ты разбиваешь большую обучающую выборку на несколько фолдов, из них выделяешь часть на обучение, часть на валидацию.  Но признаки (TF-IDF) уже обучены на всем наборе (обучающий + валидационный). Получается утечка данных. Чтобы избежать её нужно использовать pipeline из векторайзера и модели.\n",
    "    \n",
    "Пример такого пайплайна можно посмотреть в официальной документации\n",
    "    \n",
    "  https://scikit-learn.org/stable/auto_examples/model_selection/plot_grid_search_text_feature_extraction.html\n",
    "    \n",
    "И еще полезные материалы:\n",
    "    \n",
    "  https://newtechaudit.ru/pipeline-v-rabote-s-dannymi/      \n",
    "</div>"
   ]
  },
  {
   "cell_type": "markdown",
   "metadata": {},
   "source": [
    "<img src=\"https://emojigraph.org/media/apple/check-mark-button_2705.png\" align=left width=33, heigth=33>\n",
    "<div class=\"alert alert-success\">\n",
    "А вот подбор гиперпараметра С для логистической регрессии это очень правильное решение. Линейные модели очень хорошо работают с признаками, полученными из текстов. С помощью TF-IDF мы получили очень длинные разряженные вектора. И действительно, они очень длинные (длина около 140 000), при этом очень мало значений отличаются от нуля. Так вот, линейные модели гораздо лучше деревьев справляются с такими признаками. Но им нужно помочь - и ослабить регуляризацию, т.к. она заметно вырастает из за большого количества признаков. И делаем мы это как раз подбирая гиперпараметр С.\n",
    "    \n",
    "\n",
    "</div>"
   ]
  },
  {
   "cell_type": "markdown",
   "metadata": {},
   "source": [
    "<img src=\"https://upload.wikimedia.org/wikipedia/commons/thumb/8/81/Stop_sign.png/240px-Stop_sign.png\" align=left width=35, heigth=35>\n",
    "<div class=\"alert alert-danger\">\n",
    "В брифе к проекту сказано \"обучите разные модели\". Это значит, что нужно использовать более чем одну модель. Сейчас ты ограничиваешься одной - логистической регрессией.\n",
    "\n",
    "</div>"
   ]
  },
  {
   "cell_type": "markdown",
   "metadata": {},
   "source": [
    "<div class=\"alert\" style=\"background-color:#ead7f7;color:#8737bf\">\n",
    "    <font size=\"3\"><b>Комментарий студента</b></font>\n",
    "   \n",
    "Добавил ниже CatBoostClassifier\n",
    "\n",
    "</div>"
   ]
  },
  {
   "cell_type": "markdown",
   "metadata": {},
   "source": [
    "<img src=\"https://emojigraph.org/media/apple/check-mark-button_2705.png\" align=left width=33, heigth=33>\n",
    "<div class=\"alert alert-success\">\n",
    "    <b>v2</b> 👍 </div>"
   ]
  },
  {
   "cell_type": "markdown",
   "metadata": {},
   "source": [
    "### CatBoostClassifier"
   ]
  },
  {
   "cell_type": "code",
   "execution_count": 27,
   "metadata": {},
   "outputs": [],
   "source": [
    "pipeline_cat = Pipeline([\n",
    "    ('tfidf', TfidfVectorizer(stop_words=stop_words)),  \n",
    "    ('model', CatBoostClassifier(silent = True, random_state=123))\n",
    "])\n",
    "\n",
    "param_grid_cat = {\n",
    "    'model__depth': [3, 4, 6],\n",
    "    'model__learning_rate': [0.15, 0.2, 0.25, 0.3]\n",
    "}\n",
    "\n",
    "grid_search_cat = GridSearchCV(pipeline_cat, param_grid_cat, cv=5, scoring='f1', n_jobs=-1)"
   ]
  },
  {
   "cell_type": "code",
   "execution_count": null,
   "metadata": {},
   "outputs": [],
   "source": [
    "grid_search_cat.fit(X_train, y_train)\n",
    "    \n",
    "y_pred = grid_search_cat.predict(X_test)\n",
    "    \n",
    "f1 = f1_score(y_test, y_pred)\n",
    "    \n",
    "print(f'Best parameters: {grid_search_cat.best_params_}')\n",
    "print(f'F1 score: {f1}')"
   ]
  },
  {
   "cell_type": "markdown",
   "metadata": {},
   "source": [
    "<div class=\"alert\" style=\"background-color:#ead7f7;color:#8737bf\">\n",
    "    <font size=\"3\"><b>Комментарий студента</b></font>\n",
    "   \n",
    "честно говоря, я не дождался результатов CatBoost, спустя несколько часов так и не посчитался GridSearch. Есть какие-то способы ускорить этот процесс (помимо уменьшения количества гиперпараметров для перебора?) или тут просто нужен комп посильнее?\n",
    "\n",
    "</div>"
   ]
  },
  {
   "cell_type": "markdown",
   "metadata": {},
   "source": [
    "<img src=\"https://upload.wikimedia.org/wikipedia/commons/b/ba/Warning_sign_4.0.png\" align=left width=44, heigth=33>\n",
    "<div class=\"alert alert-warning\">\n",
    " <b>v2</b>  \n",
    "\n",
    "К сожалению тут чудес не бывает,  и если ты создаешь очень сложную вычислительную задачу, то нужно время чтобы она отработала.\n",
    "    \n",
    "Можно попробовать сделать оптимизацию, но она неизбежно будет приводить к ухудшениям метрик. Самое очевидное - уменьшить количество признаков, которые создает TfidfVectorizer, в этом случае Catboost будет пеербирать меньше вариантов при построении каждого дерева.\n",
    "    \n",
    "Как совсем альтернативу можно рассмотреть отказ от TF-IDF в пользу встроенной в Catboost векторизации (смотри следующий комментарий).\n",
    "    \n",
    "    \n",
    "    \n",
    "</div>"
   ]
  },
  {
   "cell_type": "markdown",
   "metadata": {},
   "source": [
    "<img src=\"https://emojigraph.org/media/apple/check-mark-button_2705.png\" align=left width=33, heigth=33>\n",
    "<div class=\"alert alert-success\">\n",
    "<b>v2</b>     \n",
    "    \n",
    "Кстати, catboost умеет работать с исходными текстами, а не только с векторным представлением (сам извлекает признаки из текста). Нужно просто передать ей сырой текст и сообщить, в какой колонке он находится. Подробнее можешь посмотреть в официальной документации или вот в этом туториале \n",
    "    \n",
    "https://github.com/catboost/tutorials/blob/master/text_features/text_features_in_catboost.ipynb\n",
    "\n",
    "Вот еще интересная статья (https://habr.com/ru/post/555064/ )\n",
    "</div>"
   ]
  },
  {
   "cell_type": "markdown",
   "metadata": {},
   "source": [
    "## Выводы"
   ]
  },
  {
   "cell_type": "markdown",
   "metadata": {},
   "source": [
    "Лучшая модель (логистической регрессии) имеет значение метрики F1-score на тестовой выборке ~ 78.6 (при необходимом пороге в 75 этих результатов нам хватает)."
   ]
  },
  {
   "cell_type": "markdown",
   "metadata": {},
   "source": [
    "## Чек-лист проверки"
   ]
  },
  {
   "cell_type": "markdown",
   "metadata": {},
   "source": [
    "- [x]  Jupyter Notebook открыт\n",
    "- [ ]  Весь код выполняется без ошибок\n",
    "- [ ]  Ячейки с кодом расположены в порядке исполнения\n",
    "- [ ]  Данные загружены и подготовлены\n",
    "- [ ]  Модели обучены\n",
    "- [ ]  Значение метрики *F1* не меньше 0.75\n",
    "- [ ]  Выводы написаны"
   ]
  },
  {
   "cell_type": "markdown",
   "metadata": {},
   "source": [
    "<img src=\"http://s3.amazonaws.com/pix.iemoji.com/images/emoji/apple/ios-12/256/waving-hand.png\" align=left width=44, heigth=44>\n",
    "<div class=\"alert alert-info\">\n",
    "<b> Заключительный комментарий v2</b>\n",
    "\n",
    "Проект принят. Поздравляю и желаю дальнейших успехов!\n",
    "</div>"
   ]
  },
  {
   "cell_type": "markdown",
   "metadata": {},
   "source": [
    "<img src=\"http://s3.amazonaws.com/pix.iemoji.com/images/emoji/apple/ios-12/256/waving-hand.png\" align=left width=44, heigth=44>\n",
    "<div class=\"alert alert-info\">\n",
    "<b> Заключительный комментарий</b>\n",
    "Давай подведем итоги. В целом с проектом ты справляешься - текст предобработан, извлечены признаки и обучены классификаторы. Достигнуто требуемое значение метрики f1.\n",
    "    \n",
    "Но кое с чем нужно еще поработать. \n",
    "    \n",
    " - код проекта должен без ошибок воспроизводиться на сервере Практикума   \n",
    " - Пожалуста перепиши раздел с лемматизацией. Сейчас она выполняется некорректно.\n",
    " - Не стоит перекодировать английский текст в Юникод.\n",
    " - Пожалуйста используй более чем одну модель \n",
    "\n",
    "\n",
    "     \n",
    "Жду твоих исправлений :)\n",
    "</div>"
   ]
  },
  {
   "cell_type": "markdown",
   "metadata": {},
   "source": [
    "<img src=\"http://s3.amazonaws.com/pix.iemoji.com/images/emoji/apple/ios-12/256/waving-hand.png\" align=left width=44, heigth=44>\n",
    "<div class=\"alert alert-info\">\n",
    "<b> рекомендации по доп. материалам</b>\n",
    "Если решишь погрузиться в область работы с текстами, очень советую несколько продвинутых бесплатных курсов.\n",
    "    \n",
    "   - Отличный бесплатный курс от Школы глубокого обучения МФТИ (https://stepik.org/org/dlschool), старт курса каждые пол года. Два семестра, один по основам и компьютерному зрению, второй по обработке естественного языка. Проходить нужно именно в таком порядке,т.к. почти весь современный NLP построен на нейронках.\n",
    "    \n",
    "   - \"Нейронные сети и компьютерное зрение\" от Samsung Research Russia (https://stepik.org/course/50352/syllabus). Есть также продолжение по NLP.  \n",
    "   - Трек NLP от сообщества ODS https://ods.ai/tracks/nlp-course-autumn-22\n",
    "    \n",
    "    \n",
    "А если на тебя произвели впечатление возможности ChatGPT и хочешь попробовать использовать возможности больших языковых моделей для решения своих задач, могу порекомендовать следующие курсы (первые две ссылки на английском, зато последняя подборка лекций на русском).\n",
    "    \n",
    "  - https://www.coursera.org/learn/generative-ai-with-llms  (можно прослужать бесплатно)\n",
    "  - Короткие курсы на сайте https://www.deeplearning.ai/short-courses/  Самый свежак - как писать промпты, как использовать LLM для создания собственных приложений (например как создать бота на основе ChatGPT, который будет отвечать на вопросы по внутренней документации компании).  \n",
    "  - https://www.promptingguide.ai/introduction/settings\n",
    "  - https://www.youtube.com/watch?v=l-l82uNwyu8&list=PLy6K3_Hx-udj6n1S88Vslyw2QVxSXLP2c    \n",
    "    \n",
    "    \n",
    "    \n",
    "    \n",
    "Также можно обратиться к туториалу по использованию языковых моделей на HugingFace. Обрати внимание, для больше чем половины материалов доступен перевод на русский, хотя можно читать и на языке оригинала. \n",
    "    \n",
    "  https://huggingface.co/learn/nlp-course   \n",
    " \n",
    "</div>"
   ]
  },
  {
   "cell_type": "markdown",
   "metadata": {},
   "source": [
    "<div class=\"alert\" style=\"background-color:#ead7f7;color:#8737bf\">\n",
    "    <font size=\"3\"><b>Комментарий студента</b></font>\n",
    "   \n",
    "Спасибо большое, обязательно ознакомлюсь!\n",
    "\n",
    "</div>"
   ]
  },
  {
   "cell_type": "code",
   "execution_count": null,
   "metadata": {},
   "outputs": [],
   "source": []
  }
 ],
 "metadata": {
  "ExecuteTimeLog": [
   {
    "duration": 2381,
    "start_time": "2025-03-10T11:55:15.527Z"
   },
   {
    "duration": 3886,
    "start_time": "2025-03-10T11:59:28.852Z"
   },
   {
    "duration": 851,
    "start_time": "2025-03-10T11:59:47.323Z"
   },
   {
    "duration": 979,
    "start_time": "2025-03-10T12:00:13.774Z"
   },
   {
    "duration": 14,
    "start_time": "2025-03-10T12:23:30.992Z"
   },
   {
    "duration": 2452,
    "start_time": "2025-03-10T12:48:12.294Z"
   },
   {
    "duration": 50,
    "start_time": "2025-03-10T13:10:20.354Z"
   },
   {
    "duration": 1468,
    "start_time": "2025-03-10T13:10:25.310Z"
   },
   {
    "duration": 4539,
    "start_time": "2025-03-10T13:10:28.859Z"
   },
   {
    "duration": 2054,
    "start_time": "2025-03-10T13:10:36.326Z"
   },
   {
    "duration": 33,
    "start_time": "2025-03-10T13:14:54.804Z"
   },
   {
    "duration": 46,
    "start_time": "2025-03-10T13:15:06.654Z"
   },
   {
    "duration": 1349,
    "start_time": "2025-03-10T13:16:24.231Z"
   },
   {
    "duration": 4392,
    "start_time": "2025-03-10T13:16:25.582Z"
   },
   {
    "duration": 32,
    "start_time": "2025-03-10T13:16:29.976Z"
   },
   {
    "duration": 2158,
    "start_time": "2025-03-10T13:16:30.010Z"
   },
   {
    "duration": 11355,
    "start_time": "2025-03-10T13:16:32.170Z"
   },
   {
    "duration": 154,
    "start_time": "2025-03-10T13:16:43.526Z"
   },
   {
    "duration": 0,
    "start_time": "2025-03-10T13:16:43.682Z"
   },
   {
    "duration": 0,
    "start_time": "2025-03-10T13:16:43.683Z"
   },
   {
    "duration": 0,
    "start_time": "2025-03-10T13:16:43.684Z"
   },
   {
    "duration": 0,
    "start_time": "2025-03-10T13:16:43.685Z"
   },
   {
    "duration": 1340,
    "start_time": "2025-03-10T13:20:22.670Z"
   },
   {
    "duration": 936,
    "start_time": "2025-03-10T13:20:24.012Z"
   },
   {
    "duration": 2109,
    "start_time": "2025-03-10T13:20:24.949Z"
   },
   {
    "duration": 11257,
    "start_time": "2025-03-10T13:20:27.060Z"
   },
   {
    "duration": 60,
    "start_time": "2025-03-10T13:20:38.319Z"
   },
   {
    "duration": 56083,
    "start_time": "2025-03-10T13:20:38.380Z"
   },
   {
    "duration": 0,
    "start_time": "2025-03-10T13:21:34.464Z"
   },
   {
    "duration": 0,
    "start_time": "2025-03-10T13:21:34.465Z"
   },
   {
    "duration": 0,
    "start_time": "2025-03-10T13:21:34.466Z"
   },
   {
    "duration": 0,
    "start_time": "2025-03-10T13:21:34.467Z"
   },
   {
    "duration": 81,
    "start_time": "2025-03-10T13:21:52.505Z"
   },
   {
    "duration": 69,
    "start_time": "2025-03-10T13:22:11.390Z"
   },
   {
    "duration": 64,
    "start_time": "2025-03-10T13:22:16.462Z"
   },
   {
    "duration": 62,
    "start_time": "2025-03-10T13:22:25.289Z"
   },
   {
    "duration": 56583,
    "start_time": "2025-03-10T13:22:28.189Z"
   },
   {
    "duration": 1338,
    "start_time": "2025-03-10T13:26:37.522Z"
   },
   {
    "duration": 927,
    "start_time": "2025-03-10T13:26:38.863Z"
   },
   {
    "duration": 31,
    "start_time": "2025-03-10T13:26:39.792Z"
   },
   {
    "duration": 12931,
    "start_time": "2025-03-10T13:26:39.826Z"
   },
   {
    "duration": 51612,
    "start_time": "2025-03-10T13:26:52.758Z"
   },
   {
    "duration": 114,
    "start_time": "2025-03-10T13:40:52.831Z"
   },
   {
    "duration": 1301,
    "start_time": "2025-03-10T13:41:01.655Z"
   },
   {
    "duration": 955,
    "start_time": "2025-03-10T13:41:02.958Z"
   },
   {
    "duration": 42,
    "start_time": "2025-03-10T13:41:03.915Z"
   },
   {
    "duration": 13139,
    "start_time": "2025-03-10T13:41:03.958Z"
   },
   {
    "duration": 51163,
    "start_time": "2025-03-10T13:41:17.099Z"
   },
   {
    "duration": 77,
    "start_time": "2025-03-10T13:42:08.263Z"
   },
   {
    "duration": 112,
    "start_time": "2025-03-10T13:49:45.116Z"
   },
   {
    "duration": 3,
    "start_time": "2025-03-10T13:49:51.088Z"
   },
   {
    "duration": 49,
    "start_time": "2025-03-10T13:52:15.108Z"
   },
   {
    "duration": 1334,
    "start_time": "2025-03-10T13:52:21.634Z"
   },
   {
    "duration": 5336,
    "start_time": "2025-03-10T13:52:27.288Z"
   },
   {
    "duration": 1283,
    "start_time": "2025-03-10T13:52:58.391Z"
   },
   {
    "duration": 955,
    "start_time": "2025-03-10T13:52:59.676Z"
   },
   {
    "duration": 6,
    "start_time": "2025-03-10T13:53:00.633Z"
   },
   {
    "duration": 621,
    "start_time": "2025-03-10T13:53:00.641Z"
   },
   {
    "duration": 4298,
    "start_time": "2025-03-10T13:53:01.263Z"
   },
   {
    "duration": 14,
    "start_time": "2025-03-10T13:53:05.563Z"
   },
   {
    "duration": 5000,
    "start_time": "2025-03-10T13:53:05.657Z"
   },
   {
    "duration": 1320,
    "start_time": "2025-03-10T13:57:40.923Z"
   },
   {
    "duration": 903,
    "start_time": "2025-03-10T13:57:42.245Z"
   },
   {
    "duration": 35,
    "start_time": "2025-03-10T13:57:43.149Z"
   },
   {
    "duration": 13171,
    "start_time": "2025-03-10T13:57:43.186Z"
   },
   {
    "duration": 57119,
    "start_time": "2025-03-10T13:57:56.359Z"
   },
   {
    "duration": 1382,
    "start_time": "2025-03-10T13:59:28.218Z"
   },
   {
    "duration": 4800,
    "start_time": "2025-03-10T13:59:29.602Z"
   },
   {
    "duration": 35,
    "start_time": "2025-03-10T13:59:34.403Z"
   },
   {
    "duration": 13417,
    "start_time": "2025-03-10T13:59:34.440Z"
   },
   {
    "duration": 1368,
    "start_time": "2025-03-10T14:00:19.657Z"
   },
   {
    "duration": 4857,
    "start_time": "2025-03-10T14:00:21.027Z"
   },
   {
    "duration": 11,
    "start_time": "2025-03-10T14:00:25.886Z"
   },
   {
    "duration": 4568,
    "start_time": "2025-03-10T14:00:25.900Z"
   },
   {
    "duration": 663917,
    "start_time": "2025-03-10T14:00:30.469Z"
   },
   {
    "duration": 0,
    "start_time": "2025-03-10T14:11:34.388Z"
   },
   {
    "duration": 1340,
    "start_time": "2025-03-10T14:12:56.425Z"
   },
   {
    "duration": 980,
    "start_time": "2025-03-10T14:12:57.767Z"
   },
   {
    "duration": 17,
    "start_time": "2025-03-10T14:12:58.749Z"
   },
   {
    "duration": 895,
    "start_time": "2025-03-10T14:12:58.767Z"
   },
   {
    "duration": 4,
    "start_time": "2025-03-10T14:12:59.664Z"
   },
   {
    "duration": 9,
    "start_time": "2025-03-10T14:12:59.670Z"
   },
   {
    "duration": 128,
    "start_time": "2025-03-10T14:12:59.681Z"
   },
   {
    "duration": 0,
    "start_time": "2025-03-10T14:12:59.811Z"
   },
   {
    "duration": 1256,
    "start_time": "2025-03-10T14:13:28.894Z"
   },
   {
    "duration": 973,
    "start_time": "2025-03-10T14:13:30.152Z"
   },
   {
    "duration": 16,
    "start_time": "2025-03-10T14:13:31.128Z"
   },
   {
    "duration": 903,
    "start_time": "2025-03-10T14:13:31.146Z"
   },
   {
    "duration": 4,
    "start_time": "2025-03-10T14:13:32.051Z"
   },
   {
    "duration": 78,
    "start_time": "2025-03-10T14:13:32.057Z"
   },
   {
    "duration": 1275,
    "start_time": "2025-03-10T14:22:17.159Z"
   },
   {
    "duration": 963,
    "start_time": "2025-03-10T14:22:18.436Z"
   },
   {
    "duration": 9,
    "start_time": "2025-03-10T14:22:19.401Z"
   },
   {
    "duration": 909,
    "start_time": "2025-03-10T14:22:19.412Z"
   },
   {
    "duration": 4,
    "start_time": "2025-03-10T14:22:20.323Z"
   },
   {
    "duration": 51,
    "start_time": "2025-03-10T14:22:20.329Z"
   },
   {
    "duration": 274125,
    "start_time": "2025-03-10T14:22:20.381Z"
   },
   {
    "duration": 0,
    "start_time": "2025-03-10T14:26:54.508Z"
   },
   {
    "duration": 821,
    "start_time": "2025-03-10T15:02:40.793Z"
   },
   {
    "duration": 4,
    "start_time": "2025-03-10T15:03:00.344Z"
   },
   {
    "duration": 1376,
    "start_time": "2025-03-10T15:22:52.444Z"
   },
   {
    "duration": 948,
    "start_time": "2025-03-10T15:22:53.822Z"
   },
   {
    "duration": 2190,
    "start_time": "2025-03-10T15:22:54.771Z"
   },
   {
    "duration": 39,
    "start_time": "2025-03-10T15:22:56.963Z"
   },
   {
    "duration": 489831,
    "start_time": "2025-03-10T15:22:57.004Z"
   },
   {
    "duration": 0,
    "start_time": "2025-03-10T15:31:06.836Z"
   },
   {
    "duration": 0,
    "start_time": "2025-03-10T15:31:06.838Z"
   },
   {
    "duration": 0,
    "start_time": "2025-03-10T15:31:06.839Z"
   },
   {
    "duration": 0,
    "start_time": "2025-03-10T15:31:06.840Z"
   },
   {
    "duration": 0,
    "start_time": "2025-03-10T15:31:06.841Z"
   },
   {
    "duration": 1,
    "start_time": "2025-03-10T15:31:06.841Z"
   },
   {
    "duration": 0,
    "start_time": "2025-03-10T15:31:06.842Z"
   },
   {
    "duration": 1341,
    "start_time": "2025-03-10T15:37:00.853Z"
   },
   {
    "duration": 1011,
    "start_time": "2025-03-10T15:37:02.196Z"
   },
   {
    "duration": 3,
    "start_time": "2025-03-10T15:37:03.209Z"
   },
   {
    "duration": 1252,
    "start_time": "2025-03-10T15:37:03.214Z"
   },
   {
    "duration": 0,
    "start_time": "2025-03-10T15:37:04.468Z"
   },
   {
    "duration": 0,
    "start_time": "2025-03-10T15:37:04.470Z"
   },
   {
    "duration": 0,
    "start_time": "2025-03-10T15:37:04.471Z"
   },
   {
    "duration": 0,
    "start_time": "2025-03-10T15:37:04.472Z"
   },
   {
    "duration": 0,
    "start_time": "2025-03-10T15:37:04.473Z"
   },
   {
    "duration": 0,
    "start_time": "2025-03-10T15:37:04.473Z"
   },
   {
    "duration": 0,
    "start_time": "2025-03-10T15:37:04.474Z"
   },
   {
    "duration": 0,
    "start_time": "2025-03-10T15:37:04.476Z"
   },
   {
    "duration": 1292,
    "start_time": "2025-03-10T15:37:37.680Z"
   },
   {
    "duration": 949,
    "start_time": "2025-03-10T15:37:38.974Z"
   },
   {
    "duration": 184,
    "start_time": "2025-03-10T15:37:39.925Z"
   },
   {
    "duration": 4,
    "start_time": "2025-03-10T15:37:40.111Z"
   },
   {
    "duration": 62489,
    "start_time": "2025-03-10T15:37:40.118Z"
   },
   {
    "duration": 0,
    "start_time": "2025-03-10T15:38:42.608Z"
   },
   {
    "duration": 0,
    "start_time": "2025-03-10T15:38:42.610Z"
   },
   {
    "duration": 0,
    "start_time": "2025-03-10T15:38:42.611Z"
   },
   {
    "duration": 0,
    "start_time": "2025-03-10T15:38:42.612Z"
   },
   {
    "duration": 0,
    "start_time": "2025-03-10T15:38:42.613Z"
   },
   {
    "duration": 0,
    "start_time": "2025-03-10T15:38:42.614Z"
   },
   {
    "duration": 0,
    "start_time": "2025-03-10T15:38:42.615Z"
   },
   {
    "duration": 966,
    "start_time": "2025-03-10T15:40:57.387Z"
   },
   {
    "duration": 0,
    "start_time": "2025-03-10T15:40:58.356Z"
   },
   {
    "duration": 0,
    "start_time": "2025-03-10T15:40:58.357Z"
   },
   {
    "duration": 0,
    "start_time": "2025-03-10T15:40:58.358Z"
   },
   {
    "duration": 0,
    "start_time": "2025-03-10T15:40:58.360Z"
   },
   {
    "duration": 0,
    "start_time": "2025-03-10T15:40:58.361Z"
   },
   {
    "duration": 0,
    "start_time": "2025-03-10T15:40:58.363Z"
   },
   {
    "duration": 0,
    "start_time": "2025-03-10T15:40:58.364Z"
   },
   {
    "duration": 0,
    "start_time": "2025-03-10T15:40:58.365Z"
   },
   {
    "duration": 0,
    "start_time": "2025-03-10T15:40:58.368Z"
   },
   {
    "duration": 0,
    "start_time": "2025-03-10T15:40:58.369Z"
   },
   {
    "duration": 0,
    "start_time": "2025-03-10T15:40:58.371Z"
   },
   {
    "duration": 0,
    "start_time": "2025-03-10T15:40:58.372Z"
   },
   {
    "duration": 1229,
    "start_time": "2025-03-10T15:44:15.099Z"
   },
   {
    "duration": 927,
    "start_time": "2025-03-10T15:44:16.330Z"
   },
   {
    "duration": 3,
    "start_time": "2025-03-10T15:44:17.259Z"
   },
   {
    "duration": 1238,
    "start_time": "2025-03-10T15:44:40.111Z"
   },
   {
    "duration": 964,
    "start_time": "2025-03-10T15:44:41.351Z"
   },
   {
    "duration": 4,
    "start_time": "2025-03-10T15:44:42.316Z"
   },
   {
    "duration": 156564,
    "start_time": "2025-03-10T15:44:42.321Z"
   },
   {
    "duration": 0,
    "start_time": "2025-03-10T15:47:18.887Z"
   },
   {
    "duration": 0,
    "start_time": "2025-03-10T15:47:18.889Z"
   },
   {
    "duration": 0,
    "start_time": "2025-03-10T15:47:18.890Z"
   },
   {
    "duration": 0,
    "start_time": "2025-03-10T15:47:18.891Z"
   },
   {
    "duration": 0,
    "start_time": "2025-03-10T15:47:18.892Z"
   },
   {
    "duration": 1269,
    "start_time": "2025-03-10T15:48:42.656Z"
   },
   {
    "duration": 932,
    "start_time": "2025-03-10T15:48:43.927Z"
   },
   {
    "duration": 4,
    "start_time": "2025-03-10T15:48:44.860Z"
   },
   {
    "duration": 1154,
    "start_time": "2025-03-10T15:48:44.865Z"
   },
   {
    "duration": 0,
    "start_time": "2025-03-10T15:48:46.021Z"
   },
   {
    "duration": 0,
    "start_time": "2025-03-10T15:48:46.022Z"
   },
   {
    "duration": 0,
    "start_time": "2025-03-10T15:48:46.023Z"
   },
   {
    "duration": 0,
    "start_time": "2025-03-10T15:48:46.024Z"
   },
   {
    "duration": 0,
    "start_time": "2025-03-10T15:48:46.025Z"
   },
   {
    "duration": 4,
    "start_time": "2025-03-10T15:49:43.872Z"
   },
   {
    "duration": 1291,
    "start_time": "2025-03-10T15:54:14.788Z"
   },
   {
    "duration": 951,
    "start_time": "2025-03-10T15:54:16.081Z"
   },
   {
    "duration": 4,
    "start_time": "2025-03-10T15:54:17.033Z"
   },
   {
    "duration": 1745,
    "start_time": "2025-03-10T15:54:17.038Z"
   },
   {
    "duration": 0,
    "start_time": "2025-03-10T15:54:18.789Z"
   },
   {
    "duration": 0,
    "start_time": "2025-03-10T15:54:18.792Z"
   },
   {
    "duration": 0,
    "start_time": "2025-03-10T15:54:18.793Z"
   },
   {
    "duration": 0,
    "start_time": "2025-03-10T15:54:18.794Z"
   },
   {
    "duration": 0,
    "start_time": "2025-03-10T15:54:18.796Z"
   },
   {
    "duration": 3,
    "start_time": "2025-03-10T15:55:16.420Z"
   },
   {
    "duration": 343,
    "start_time": "2025-03-10T15:55:18.676Z"
   },
   {
    "duration": 3,
    "start_time": "2025-03-10T15:55:26.588Z"
   },
   {
    "duration": 4,
    "start_time": "2025-03-10T15:55:28.403Z"
   },
   {
    "duration": 3884,
    "start_time": "2025-03-10T15:55:29.982Z"
   },
   {
    "duration": 2184,
    "start_time": "2025-03-10T15:55:53.132Z"
   },
   {
    "duration": 10,
    "start_time": "2025-03-10T15:55:57.278Z"
   },
   {
    "duration": 1293,
    "start_time": "2025-03-10T15:56:19.487Z"
   },
   {
    "duration": 942,
    "start_time": "2025-03-10T15:56:20.782Z"
   },
   {
    "duration": 3,
    "start_time": "2025-03-10T15:56:21.725Z"
   },
   {
    "duration": 5191,
    "start_time": "2025-03-10T15:56:21.730Z"
   },
   {
    "duration": 2187,
    "start_time": "2025-03-10T15:56:26.923Z"
   },
   {
    "duration": 121,
    "start_time": "2025-03-10T15:56:29.111Z"
   },
   {
    "duration": 0,
    "start_time": "2025-03-10T15:56:29.234Z"
   },
   {
    "duration": 0,
    "start_time": "2025-03-10T15:56:29.235Z"
   },
   {
    "duration": 0,
    "start_time": "2025-03-10T15:56:29.237Z"
   },
   {
    "duration": 1368,
    "start_time": "2025-03-10T15:56:54.465Z"
   },
   {
    "duration": 3510,
    "start_time": "2025-03-10T15:56:55.835Z"
   },
   {
    "duration": 3,
    "start_time": "2025-03-10T15:56:59.347Z"
   },
   {
    "duration": 5214,
    "start_time": "2025-03-10T15:56:59.351Z"
   },
   {
    "duration": 2193,
    "start_time": "2025-03-10T15:57:04.567Z"
   },
   {
    "duration": 1353,
    "start_time": "2025-03-10T15:57:59.178Z"
   },
   {
    "duration": 3447,
    "start_time": "2025-03-10T15:58:00.533Z"
   },
   {
    "duration": 4,
    "start_time": "2025-03-10T15:58:03.981Z"
   },
   {
    "duration": 5154,
    "start_time": "2025-03-10T15:58:03.987Z"
   },
   {
    "duration": 1292,
    "start_time": "2025-03-10T16:05:46.414Z"
   },
   {
    "duration": 3722,
    "start_time": "2025-03-10T16:05:47.708Z"
   },
   {
    "duration": 4,
    "start_time": "2025-03-10T16:05:51.431Z"
   },
   {
    "duration": 5588,
    "start_time": "2025-03-10T16:05:51.436Z"
   },
   {
    "duration": 1475,
    "start_time": "2025-03-10T16:11:38.574Z"
   },
   {
    "duration": 3575,
    "start_time": "2025-03-10T16:11:40.050Z"
   },
   {
    "duration": 3,
    "start_time": "2025-03-10T16:11:43.627Z"
   },
   {
    "duration": 35617,
    "start_time": "2025-03-10T16:11:43.631Z"
   },
   {
    "duration": 8,
    "start_time": "2025-03-10T16:16:10.428Z"
   },
   {
    "duration": 1407,
    "start_time": "2025-03-10T16:16:13.915Z"
   },
   {
    "duration": 3512,
    "start_time": "2025-03-10T16:16:17.986Z"
   },
   {
    "duration": 4,
    "start_time": "2025-03-10T16:16:24.405Z"
   },
   {
    "duration": 36535,
    "start_time": "2025-03-10T16:16:26.341Z"
   },
   {
    "duration": 1417,
    "start_time": "2025-03-10T16:19:14.427Z"
   },
   {
    "duration": 3689,
    "start_time": "2025-03-10T16:19:15.846Z"
   },
   {
    "duration": 4,
    "start_time": "2025-03-10T16:19:19.536Z"
   },
   {
    "duration": 2359,
    "start_time": "2025-03-10T16:19:19.542Z"
   },
   {
    "duration": 154,
    "start_time": "2025-03-10T16:19:21.903Z"
   },
   {
    "duration": 199,
    "start_time": "2025-03-10T16:19:22.065Z"
   },
   {
    "duration": 322,
    "start_time": "2025-03-10T16:19:22.266Z"
   },
   {
    "duration": 2479,
    "start_time": "2025-03-10T16:19:22.590Z"
   },
   {
    "duration": 1169,
    "start_time": "2025-03-10T16:19:55.263Z"
   },
   {
    "duration": 896,
    "start_time": "2025-03-10T16:20:25.750Z"
   },
   {
    "duration": 1398,
    "start_time": "2025-03-10T16:20:29.802Z"
   },
   {
    "duration": 1024,
    "start_time": "2025-03-10T16:20:31.202Z"
   },
   {
    "duration": 4,
    "start_time": "2025-03-10T16:20:32.227Z"
   },
   {
    "duration": 12826,
    "start_time": "2025-03-10T16:20:32.233Z"
   },
   {
    "duration": 1368,
    "start_time": "2025-03-10T16:20:45.062Z"
   },
   {
    "duration": 268,
    "start_time": "2025-03-10T16:20:46.432Z"
   },
   {
    "duration": 3272,
    "start_time": "2025-03-10T16:20:46.701Z"
   },
   {
    "duration": 24604,
    "start_time": "2025-03-10T16:20:49.976Z"
   },
   {
    "duration": 1457,
    "start_time": "2025-03-10T16:21:26.940Z"
   },
   {
    "duration": 1073,
    "start_time": "2025-03-10T16:21:28.399Z"
   },
   {
    "duration": 4,
    "start_time": "2025-03-10T16:21:29.474Z"
   },
   {
    "duration": 21860,
    "start_time": "2025-03-10T16:21:29.480Z"
   },
   {
    "duration": 46,
    "start_time": "2025-03-13T21:08:39.997Z"
   },
   {
    "duration": 3155,
    "start_time": "2025-03-13T21:08:44.774Z"
   },
   {
    "duration": 907,
    "start_time": "2025-03-13T21:08:51.446Z"
   },
   {
    "duration": 374,
    "start_time": "2025-03-13T21:08:57.758Z"
   },
   {
    "duration": 3,
    "start_time": "2025-03-13T21:08:58.969Z"
   },
   {
    "duration": 32504,
    "start_time": "2025-03-13T21:09:00.618Z"
   }
  ],
  "kernelspec": {
   "display_name": "Python 3 (ipykernel)",
   "language": "python",
   "name": "python3"
  },
  "language_info": {
   "codemirror_mode": {
    "name": "ipython",
    "version": 3
   },
   "file_extension": ".py",
   "mimetype": "text/x-python",
   "name": "python",
   "nbconvert_exporter": "python",
   "pygments_lexer": "ipython3",
   "version": "3.9.5"
  },
  "toc": {
   "base_numbering": 1,
   "nav_menu": {},
   "number_sections": true,
   "sideBar": true,
   "skip_h1_title": true,
   "title_cell": "Содержание",
   "title_sidebar": "Contents",
   "toc_cell": true,
   "toc_position": {
    "height": "calc(100% - 180px)",
    "left": "10px",
    "top": "150px",
    "width": "302.391px"
   },
   "toc_section_display": true,
   "toc_window_display": true
  },
  "varInspector": {
   "cols": {
    "lenName": 16,
    "lenType": 16,
    "lenVar": 40
   },
   "kernels_config": {
    "python": {
     "delete_cmd_postfix": "",
     "delete_cmd_prefix": "del ",
     "library": "var_list.py",
     "varRefreshCmd": "print(var_dic_list())"
    },
    "r": {
     "delete_cmd_postfix": ") ",
     "delete_cmd_prefix": "rm(",
     "library": "var_list.r",
     "varRefreshCmd": "cat(var_dic_list()) "
    }
   },
   "types_to_exclude": [
    "module",
    "function",
    "builtin_function_or_method",
    "instance",
    "_Feature"
   ],
   "window_display": false
  }
 },
 "nbformat": 4,
 "nbformat_minor": 4
}
