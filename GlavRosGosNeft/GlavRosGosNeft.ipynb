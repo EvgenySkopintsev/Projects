{
 "cells": [
  {
   "cell_type": "markdown",
   "metadata": {},
   "source": [
    "## Загрузка и подготовка данных"
   ]
  },
  {
   "cell_type": "code",
   "execution_count": 1,
   "metadata": {},
   "outputs": [],
   "source": [
    "import pandas as pd\n",
    "import numpy as np\n",
    "from sklearn.model_selection import train_test_split\n",
    "from sklearn.metrics import mean_squared_error\n",
    "from sklearn.linear_model import LinearRegression"
   ]
  },
  {
   "cell_type": "code",
   "execution_count": 2,
   "metadata": {},
   "outputs": [
    {
     "data": {
      "text/html": [
       "<div>\n",
       "<style scoped>\n",
       "    .dataframe tbody tr th:only-of-type {\n",
       "        vertical-align: middle;\n",
       "    }\n",
       "\n",
       "    .dataframe tbody tr th {\n",
       "        vertical-align: top;\n",
       "    }\n",
       "\n",
       "    .dataframe thead th {\n",
       "        text-align: right;\n",
       "    }\n",
       "</style>\n",
       "<table border=\"1\" class=\"dataframe\">\n",
       "  <thead>\n",
       "    <tr style=\"text-align: right;\">\n",
       "      <th></th>\n",
       "      <th>id</th>\n",
       "      <th>f0</th>\n",
       "      <th>f1</th>\n",
       "      <th>f2</th>\n",
       "      <th>product</th>\n",
       "    </tr>\n",
       "  </thead>\n",
       "  <tbody>\n",
       "    <tr>\n",
       "      <th>0</th>\n",
       "      <td>txEyH</td>\n",
       "      <td>0.705745</td>\n",
       "      <td>-0.497823</td>\n",
       "      <td>1.22117</td>\n",
       "      <td>105.280062</td>\n",
       "    </tr>\n",
       "  </tbody>\n",
       "</table>\n",
       "</div>"
      ],
      "text/plain": [
       "      id        f0        f1       f2     product\n",
       "0  txEyH  0.705745 -0.497823  1.22117  105.280062"
      ]
     },
     "execution_count": 2,
     "metadata": {},
     "output_type": "execute_result"
    }
   ],
   "source": [
    "geo_data_0 = pd.read_csv('/datasets/geo_data_0.csv', sep=',')\n",
    "geo_data_0.head(1)"
   ]
  },
  {
   "cell_type": "code",
   "execution_count": 3,
   "metadata": {},
   "outputs": [
    {
     "data": {
      "text/html": [
       "<div>\n",
       "<style scoped>\n",
       "    .dataframe tbody tr th:only-of-type {\n",
       "        vertical-align: middle;\n",
       "    }\n",
       "\n",
       "    .dataframe tbody tr th {\n",
       "        vertical-align: top;\n",
       "    }\n",
       "\n",
       "    .dataframe thead th {\n",
       "        text-align: right;\n",
       "    }\n",
       "</style>\n",
       "<table border=\"1\" class=\"dataframe\">\n",
       "  <thead>\n",
       "    <tr style=\"text-align: right;\">\n",
       "      <th></th>\n",
       "      <th>id</th>\n",
       "      <th>f0</th>\n",
       "      <th>f1</th>\n",
       "      <th>f2</th>\n",
       "      <th>product</th>\n",
       "    </tr>\n",
       "  </thead>\n",
       "  <tbody>\n",
       "    <tr>\n",
       "      <th>0</th>\n",
       "      <td>kBEdx</td>\n",
       "      <td>-15.001348</td>\n",
       "      <td>-8.276</td>\n",
       "      <td>-0.005876</td>\n",
       "      <td>3.179103</td>\n",
       "    </tr>\n",
       "  </tbody>\n",
       "</table>\n",
       "</div>"
      ],
      "text/plain": [
       "      id         f0     f1        f2   product\n",
       "0  kBEdx -15.001348 -8.276 -0.005876  3.179103"
      ]
     },
     "execution_count": 3,
     "metadata": {},
     "output_type": "execute_result"
    }
   ],
   "source": [
    "geo_data_1 = pd.read_csv('/datasets/geo_data_1.csv', sep=',')\n",
    "geo_data_1.head(1)"
   ]
  },
  {
   "cell_type": "code",
   "execution_count": 4,
   "metadata": {},
   "outputs": [
    {
     "data": {
      "text/html": [
       "<div>\n",
       "<style scoped>\n",
       "    .dataframe tbody tr th:only-of-type {\n",
       "        vertical-align: middle;\n",
       "    }\n",
       "\n",
       "    .dataframe tbody tr th {\n",
       "        vertical-align: top;\n",
       "    }\n",
       "\n",
       "    .dataframe thead th {\n",
       "        text-align: right;\n",
       "    }\n",
       "</style>\n",
       "<table border=\"1\" class=\"dataframe\">\n",
       "  <thead>\n",
       "    <tr style=\"text-align: right;\">\n",
       "      <th></th>\n",
       "      <th>id</th>\n",
       "      <th>f0</th>\n",
       "      <th>f1</th>\n",
       "      <th>f2</th>\n",
       "      <th>product</th>\n",
       "    </tr>\n",
       "  </thead>\n",
       "  <tbody>\n",
       "    <tr>\n",
       "      <th>0</th>\n",
       "      <td>fwXo0</td>\n",
       "      <td>-1.146987</td>\n",
       "      <td>0.963328</td>\n",
       "      <td>-0.828965</td>\n",
       "      <td>27.758673</td>\n",
       "    </tr>\n",
       "  </tbody>\n",
       "</table>\n",
       "</div>"
      ],
      "text/plain": [
       "      id        f0        f1        f2    product\n",
       "0  fwXo0 -1.146987  0.963328 -0.828965  27.758673"
      ]
     },
     "execution_count": 4,
     "metadata": {},
     "output_type": "execute_result"
    }
   ],
   "source": [
    "geo_data_2 = pd.read_csv('/datasets/geo_data_2.csv', sep=',')\n",
    "geo_data_2.head(1)"
   ]
  },
  {
   "cell_type": "markdown",
   "metadata": {},
   "source": [
    "### Предобработка данных"
   ]
  },
  {
   "cell_type": "markdown",
   "metadata": {},
   "source": [
    "Выведем общую информацию о датасетах и проверим на наличие простых дубликатов."
   ]
  },
  {
   "cell_type": "code",
   "execution_count": 5,
   "metadata": {
    "scrolled": true
   },
   "outputs": [
    {
     "name": "stdout",
     "output_type": "stream",
     "text": [
      "<class 'pandas.core.frame.DataFrame'>\n",
      "RangeIndex: 100000 entries, 0 to 99999\n",
      "Data columns (total 5 columns):\n",
      " #   Column   Non-Null Count   Dtype  \n",
      "---  ------   --------------   -----  \n",
      " 0   id       100000 non-null  object \n",
      " 1   f0       100000 non-null  float64\n",
      " 2   f1       100000 non-null  float64\n",
      " 3   f2       100000 non-null  float64\n",
      " 4   product  100000 non-null  float64\n",
      "dtypes: float64(4), object(1)\n",
      "memory usage: 3.8+ MB\n"
     ]
    }
   ],
   "source": [
    "geo_data_0.info()"
   ]
  },
  {
   "cell_type": "code",
   "execution_count": 6,
   "metadata": {},
   "outputs": [
    {
     "data": {
      "text/plain": [
       "0"
      ]
     },
     "execution_count": 6,
     "metadata": {},
     "output_type": "execute_result"
    }
   ],
   "source": [
    "geo_data_0.duplicated().sum()"
   ]
  },
  {
   "cell_type": "code",
   "execution_count": 7,
   "metadata": {
    "scrolled": true
   },
   "outputs": [
    {
     "name": "stdout",
     "output_type": "stream",
     "text": [
      "<class 'pandas.core.frame.DataFrame'>\n",
      "RangeIndex: 100000 entries, 0 to 99999\n",
      "Data columns (total 5 columns):\n",
      " #   Column   Non-Null Count   Dtype  \n",
      "---  ------   --------------   -----  \n",
      " 0   id       100000 non-null  object \n",
      " 1   f0       100000 non-null  float64\n",
      " 2   f1       100000 non-null  float64\n",
      " 3   f2       100000 non-null  float64\n",
      " 4   product  100000 non-null  float64\n",
      "dtypes: float64(4), object(1)\n",
      "memory usage: 3.8+ MB\n"
     ]
    }
   ],
   "source": [
    "geo_data_1.info()"
   ]
  },
  {
   "cell_type": "code",
   "execution_count": 8,
   "metadata": {},
   "outputs": [
    {
     "data": {
      "text/plain": [
       "0"
      ]
     },
     "execution_count": 8,
     "metadata": {},
     "output_type": "execute_result"
    }
   ],
   "source": [
    "geo_data_1.duplicated().sum()"
   ]
  },
  {
   "cell_type": "code",
   "execution_count": 9,
   "metadata": {
    "scrolled": true
   },
   "outputs": [
    {
     "name": "stdout",
     "output_type": "stream",
     "text": [
      "<class 'pandas.core.frame.DataFrame'>\n",
      "RangeIndex: 100000 entries, 0 to 99999\n",
      "Data columns (total 5 columns):\n",
      " #   Column   Non-Null Count   Dtype  \n",
      "---  ------   --------------   -----  \n",
      " 0   id       100000 non-null  object \n",
      " 1   f0       100000 non-null  float64\n",
      " 2   f1       100000 non-null  float64\n",
      " 3   f2       100000 non-null  float64\n",
      " 4   product  100000 non-null  float64\n",
      "dtypes: float64(4), object(1)\n",
      "memory usage: 3.8+ MB\n"
     ]
    }
   ],
   "source": [
    "geo_data_2.info()"
   ]
  },
  {
   "cell_type": "code",
   "execution_count": 10,
   "metadata": {},
   "outputs": [
    {
     "data": {
      "text/plain": [
       "0"
      ]
     },
     "execution_count": 10,
     "metadata": {},
     "output_type": "execute_result"
    }
   ],
   "source": [
    "geo_data_2.duplicated().sum()"
   ]
  },
  {
   "cell_type": "markdown",
   "metadata": {},
   "source": [
    "Типы данных в датасетах нас устраивают. Простых дубликатов не выявлено."
   ]
  },
  {
   "cell_type": "markdown",
   "metadata": {},
   "source": [
    "## Обучение и проверка модели"
   ]
  },
  {
   "cell_type": "markdown",
   "metadata": {},
   "source": [
    "### geo_data_0"
   ]
  },
  {
   "cell_type": "markdown",
   "metadata": {},
   "source": [
    "#### Разобьем данные на тренировочную и валидационную выборки."
   ]
  },
  {
   "cell_type": "code",
   "execution_count": 11,
   "metadata": {},
   "outputs": [],
   "source": [
    "X = geo_data_0.drop(['product', 'id'], axis=1)\n",
    "y = geo_data_0['product']\n",
    "\n",
    "X_train, X_valid, y_train, y_valid = train_test_split(\n",
    "    X, \n",
    "    y, \n",
    "    random_state=42, test_size=0.25\n",
    ") "
   ]
  },
  {
   "cell_type": "markdown",
   "metadata": {},
   "source": [
    "#### Обучение и прогноз модели линейной регерессии."
   ]
  },
  {
   "cell_type": "code",
   "execution_count": 12,
   "metadata": {},
   "outputs": [
    {
     "name": "stdout",
     "output_type": "stream",
     "text": [
      "Данные по первому региону:\n",
      "Средний запас предсказанного сырья 92.39879990657768\n",
      "RMSE: 37.75660035026169\n"
     ]
    }
   ],
   "source": [
    "model = LinearRegression()\n",
    "\n",
    "model.fit(X_train, y_train)\n",
    "\n",
    "y_pred = model.predict(X_valid)\n",
    "\n",
    "mse = mean_squared_error(y_valid, y_pred)\n",
    "rmse_0 = np.sqrt(mse)\n",
    "\n",
    "print('Данные по первому региону:')\n",
    "print('Средний запас предсказанного сырья', y_pred.mean())\n",
    "print('RMSE:', rmse_0)"
   ]
  },
  {
   "cell_type": "markdown",
   "metadata": {},
   "source": [
    "#### Сохраним предсказания и истинные значения валидационной выборки"
   ]
  },
  {
   "cell_type": "code",
   "execution_count": 13,
   "metadata": {},
   "outputs": [
    {
     "data": {
      "text/html": [
       "<div>\n",
       "<style scoped>\n",
       "    .dataframe tbody tr th:only-of-type {\n",
       "        vertical-align: middle;\n",
       "    }\n",
       "\n",
       "    .dataframe tbody tr th {\n",
       "        vertical-align: top;\n",
       "    }\n",
       "\n",
       "    .dataframe thead th {\n",
       "        text-align: right;\n",
       "    }\n",
       "</style>\n",
       "<table border=\"1\" class=\"dataframe\">\n",
       "  <thead>\n",
       "    <tr style=\"text-align: right;\">\n",
       "      <th></th>\n",
       "      <th>product</th>\n",
       "      <th>prediction</th>\n",
       "    </tr>\n",
       "  </thead>\n",
       "  <tbody>\n",
       "    <tr>\n",
       "      <th>0</th>\n",
       "      <td>122.07335</td>\n",
       "      <td>101.901017</td>\n",
       "    </tr>\n",
       "  </tbody>\n",
       "</table>\n",
       "</div>"
      ],
      "text/plain": [
       "     product  prediction\n",
       "0  122.07335  101.901017"
      ]
     },
     "execution_count": 13,
     "metadata": {},
     "output_type": "execute_result"
    }
   ],
   "source": [
    "predictions_df = pd.DataFrame(y_pred, columns=['prediction'])\n",
    "validation_df = y_valid.copy()\n",
    "\n",
    "geo_0 = pd.concat([\n",
    "    validation_df.reset_index(drop=True),\n",
    "    predictions_df.reset_index(drop=True)],\n",
    "    axis=1)\n",
    "\n",
    "geo_0.head(1)"
   ]
  },
  {
   "cell_type": "markdown",
   "metadata": {},
   "source": [
    "### geo_data_1"
   ]
  },
  {
   "cell_type": "markdown",
   "metadata": {},
   "source": [
    "#### Разобьем данные на тренировочную и валидационную выборки."
   ]
  },
  {
   "cell_type": "code",
   "execution_count": 14,
   "metadata": {},
   "outputs": [],
   "source": [
    "X = geo_data_1.drop(['product', 'id'], axis=1)\n",
    "y = geo_data_1['product']\n",
    "\n",
    "X_train, X_valid, y_train, y_valid = train_test_split(\n",
    "    X, \n",
    "    y, \n",
    "    random_state=42, test_size=0.25\n",
    ") "
   ]
  },
  {
   "cell_type": "markdown",
   "metadata": {},
   "source": [
    "#### Обучение и прогноз модели линейной регерессии."
   ]
  },
  {
   "cell_type": "code",
   "execution_count": 15,
   "metadata": {},
   "outputs": [
    {
     "name": "stdout",
     "output_type": "stream",
     "text": [
      "Данные по второму региону:\n",
      "Средний запас предсказанного сырья 68.71287803913762\n",
      "RMSE: 0.890280100102884\n"
     ]
    }
   ],
   "source": [
    "model = LinearRegression()\n",
    "\n",
    "model.fit(X_train, y_train)\n",
    "\n",
    "y_pred = model.predict(X_valid)\n",
    "\n",
    "mse = mean_squared_error(y_valid, y_pred)\n",
    "rmse_1 = np.sqrt(mse)\n",
    "\n",
    "print('Данные по второму региону:')\n",
    "print('Средний запас предсказанного сырья', y_pred.mean())\n",
    "print('RMSE:', rmse_1)"
   ]
  },
  {
   "cell_type": "markdown",
   "metadata": {},
   "source": [
    "#### Сохраним предсказания и истинные значения валидационной выборки"
   ]
  },
  {
   "cell_type": "code",
   "execution_count": 16,
   "metadata": {},
   "outputs": [
    {
     "data": {
      "text/html": [
       "<div>\n",
       "<style scoped>\n",
       "    .dataframe tbody tr th:only-of-type {\n",
       "        vertical-align: middle;\n",
       "    }\n",
       "\n",
       "    .dataframe tbody tr th {\n",
       "        vertical-align: top;\n",
       "    }\n",
       "\n",
       "    .dataframe thead th {\n",
       "        text-align: right;\n",
       "    }\n",
       "</style>\n",
       "<table border=\"1\" class=\"dataframe\">\n",
       "  <thead>\n",
       "    <tr style=\"text-align: right;\">\n",
       "      <th></th>\n",
       "      <th>product</th>\n",
       "      <th>prediction</th>\n",
       "    </tr>\n",
       "  </thead>\n",
       "  <tbody>\n",
       "    <tr>\n",
       "      <th>0</th>\n",
       "      <td>0.0</td>\n",
       "      <td>0.844738</td>\n",
       "    </tr>\n",
       "  </tbody>\n",
       "</table>\n",
       "</div>"
      ],
      "text/plain": [
       "   product  prediction\n",
       "0      0.0    0.844738"
      ]
     },
     "execution_count": 16,
     "metadata": {},
     "output_type": "execute_result"
    }
   ],
   "source": [
    "predictions_df = pd.DataFrame(y_pred, columns=['prediction'])\n",
    "validation_df = y_valid.copy()\n",
    "\n",
    "geo_1 = pd.concat([\n",
    "    validation_df.reset_index(drop=True),\n",
    "    predictions_df.reset_index(drop=True)],\n",
    "    axis=1)\n",
    "\n",
    "geo_1.head(1)"
   ]
  },
  {
   "cell_type": "markdown",
   "metadata": {},
   "source": [
    "### geo_data_2"
   ]
  },
  {
   "cell_type": "markdown",
   "metadata": {},
   "source": [
    "#### Разобьем данные на тренировочную и валидационную выборки."
   ]
  },
  {
   "cell_type": "code",
   "execution_count": 17,
   "metadata": {},
   "outputs": [],
   "source": [
    "X = geo_data_2.drop(['product', 'id'], axis=1)\n",
    "y = geo_data_2['product']\n",
    "\n",
    "X_train, X_valid, y_train, y_valid = train_test_split(\n",
    "    X, \n",
    "    y, \n",
    "    random_state=42, test_size=0.25\n",
    ") "
   ]
  },
  {
   "cell_type": "markdown",
   "metadata": {},
   "source": [
    "#### Обучение и прогноз модели линейной регерессии."
   ]
  },
  {
   "cell_type": "code",
   "execution_count": 18,
   "metadata": {},
   "outputs": [
    {
     "name": "stdout",
     "output_type": "stream",
     "text": [
      "Данные по третьему региону:\n",
      "Средний запас предсказанного сырья 94.77102387765939\n",
      "RMSE: 40.145872311342174\n"
     ]
    }
   ],
   "source": [
    "model = LinearRegression()\n",
    "\n",
    "model.fit(X_train, y_train)\n",
    "\n",
    "y_pred = model.predict(X_valid)\n",
    "\n",
    "mse = mean_squared_error(y_valid, y_pred)\n",
    "rmse_2 = np.sqrt(mse)\n",
    "\n",
    "print('Данные по третьему региону:')\n",
    "print('Средний запас предсказанного сырья', y_pred.mean())\n",
    "print('RMSE:', rmse_2)"
   ]
  },
  {
   "cell_type": "markdown",
   "metadata": {},
   "source": [
    "#### Сохраним предсказания и истинные значения валидационной выборки"
   ]
  },
  {
   "cell_type": "code",
   "execution_count": 19,
   "metadata": {
    "scrolled": true
   },
   "outputs": [
    {
     "data": {
      "text/html": [
       "<div>\n",
       "<style scoped>\n",
       "    .dataframe tbody tr th:only-of-type {\n",
       "        vertical-align: middle;\n",
       "    }\n",
       "\n",
       "    .dataframe tbody tr th {\n",
       "        vertical-align: top;\n",
       "    }\n",
       "\n",
       "    .dataframe thead th {\n",
       "        text-align: right;\n",
       "    }\n",
       "</style>\n",
       "<table border=\"1\" class=\"dataframe\">\n",
       "  <thead>\n",
       "    <tr style=\"text-align: right;\">\n",
       "      <th></th>\n",
       "      <th>product</th>\n",
       "      <th>prediction</th>\n",
       "    </tr>\n",
       "  </thead>\n",
       "  <tbody>\n",
       "    <tr>\n",
       "      <th>0</th>\n",
       "      <td>117.441301</td>\n",
       "      <td>98.301916</td>\n",
       "    </tr>\n",
       "  </tbody>\n",
       "</table>\n",
       "</div>"
      ],
      "text/plain": [
       "      product  prediction\n",
       "0  117.441301   98.301916"
      ]
     },
     "execution_count": 19,
     "metadata": {},
     "output_type": "execute_result"
    }
   ],
   "source": [
    "predictions_df = pd.DataFrame(y_pred, columns=['prediction'])\n",
    "validation_df = y_valid.copy()\n",
    "\n",
    "geo_2 = pd.concat([\n",
    "    validation_df.reset_index(drop=True),\n",
    "    predictions_df.reset_index(drop=True)],\n",
    "    axis=1)\n",
    "\n",
    "geo_2.head(1)"
   ]
  },
  {
   "cell_type": "markdown",
   "metadata": {},
   "source": [
    "## Подготовка к расчёту прибыли"
   ]
  },
  {
   "cell_type": "markdown",
   "metadata": {},
   "source": [
    "### Все ключевые значения для расчётов сохраним в отдельных переменных."
   ]
  },
  {
   "cell_type": "code",
   "execution_count": 20,
   "metadata": {},
   "outputs": [],
   "source": [
    "#общий бюджет для разработки региона\n",
    "money = 10000000000\n",
    "\n",
    "#количество разрабатываемых (лучших после МО тестирования) скважин в регионе\n",
    "n_wells = 200\n",
    "\n",
    "#прибыль с каждой единицы продукта (тысяча баррелей):\n",
    "revenue = 450000"
   ]
  },
  {
   "cell_type": "markdown",
   "metadata": {},
   "source": [
    "### Рассчитаем достаточный объём сырья для безубыточной разработки новой скважины. Сравним полученный объём сырья со средним запасом в каждом регионе."
   ]
  },
  {
   "cell_type": "markdown",
   "metadata": {},
   "source": [
    "Можем рассчитать необходимый объем сырья (product) для безубыточной разработки новой скважины:  "
   ]
  },
  {
   "cell_type": "code",
   "execution_count": 21,
   "metadata": {},
   "outputs": [
    {
     "name": "stdout",
     "output_type": "stream",
     "text": [
      "Необходимый объем сырья (product) для безубыточной разработки скважины составляет: 111.11111111111111\n"
     ]
    }
   ],
   "source": [
    "product = money / n_wells / revenue\n",
    "print('Необходимый объем сырья (product) для безубыточной разработки скважины составляет:', product)"
   ]
  },
  {
   "cell_type": "markdown",
   "metadata": {},
   "source": [
    "Сравним это значение со средними показателями скважин для каждого региона:"
   ]
  },
  {
   "cell_type": "code",
   "execution_count": 22,
   "metadata": {},
   "outputs": [
    {
     "name": "stdout",
     "output_type": "stream",
     "text": [
      "Средний объём сырья скважины в первом регионе: 92.50000000000001\n",
      "Средний объём сырья скважины во втором  регионе: 68.82500000000002\n",
      "Средний объём сырья скважины в третьем регионе: 95.00000000000004\n"
     ]
    }
   ],
   "source": [
    "print('Средний объём сырья скважины в первом регионе:', geo_data_0['product'].mean())\n",
    "print('Средний объём сырья скважины во втором  регионе:', geo_data_1['product'].mean())\n",
    "print('Средний объём сырья скважины в третьем регионе:', geo_data_2['product'].mean())"
   ]
  },
  {
   "cell_type": "markdown",
   "metadata": {},
   "source": [
    "### Промежуточный вывод"
   ]
  },
  {
   "cell_type": "markdown",
   "metadata": {},
   "source": [
    "Необходимый объем сырья (product) для безубыточной разработки скважины составляет - 111.11  \n",
    "Это значение превышает средние показатели скважин по каждому региону, но ничего страшного, ведь мы будем отбирать только лучшие скважины для разработки!"
   ]
  },
  {
   "cell_type": "markdown",
   "metadata": {},
   "source": [
    "## Расчёт прибыли и рисков "
   ]
  },
  {
   "cell_type": "markdown",
   "metadata": {},
   "source": [
    "### Создадим функцию для подсчета выручки лучших по предсказаниям скважин."
   ]
  },
  {
   "cell_type": "code",
   "execution_count": 23,
   "metadata": {},
   "outputs": [],
   "source": [
    "def calc(data, n):\n",
    "    x = data.sort_values(by='prediction', ascending=False).head(n)\n",
    "    return x['product'].sum() * revenue"
   ]
  },
  {
   "cell_type": "markdown",
   "metadata": {},
   "source": [
    "### Оценим прибыль лучших скважин для каждого региона с помощью функции"
   ]
  },
  {
   "cell_type": "code",
   "execution_count": 24,
   "metadata": {},
   "outputs": [
    {
     "name": "stdout",
     "output_type": "stream",
     "text": [
      "Прибыль лучших скважин первого региона: 13359141114.46218\n",
      "Прибыль лучших скважин второго региона: 12415086696.68151\n",
      "Прибыль лучших скважин третьего региона: 12598571759.374111\n"
     ]
    }
   ],
   "source": [
    "print('Прибыль лучших скважин первого региона:', calc(geo_0, 200))\n",
    "print('Прибыль лучших скважин второго региона:', calc(geo_1, 200))\n",
    "print('Прибыль лучших скважин третьего региона:', calc(geo_2, 200))"
   ]
  },
  {
   "cell_type": "code",
   "execution_count": 25,
   "metadata": {},
   "outputs": [],
   "source": [
    "state = np.random.RandomState(12345)\n",
    "frac = 0.02"
   ]
  },
  {
   "cell_type": "code",
   "execution_count": 29,
   "metadata": {},
   "outputs": [
    {
     "name": "stdout",
     "output_type": "stream",
     "text": [
      "Средняя прибыль в первом регионе: 402421126.37110597\n",
      "Вероятность убытков в первом регионе: 0.058\n",
      "95%-й доверительный интервал для первого региона от -82451825.01066132 до 917218102.6088879\n"
     ]
    }
   ],
   "source": [
    "values_0 = []\n",
    "loss_0 = 0\n",
    "\n",
    "for i in range(1000):\n",
    "    subsample = geo_0.sample(frac=frac, replace=True, random_state=state)\n",
    "    profit = calc(subsample, 200) - money  \n",
    "    values_0.append(profit)\n",
    "    if profit < 0:\n",
    "        loss_0 += 1\n",
    "\n",
    "values_0 = pd.Series(values_0)\n",
    "\n",
    "values_0.sort_values(ascending=True)\n",
    "\n",
    "lower = values_0.quantile(0.025)\n",
    "upper = values_0.quantile(0.975)\n",
    "\n",
    "print('Средняя прибыль в первом регионе:', values_0.mean())\n",
    "print('Вероятность убытков в первом регионе:', (loss_0 / 1000))\n",
    "print('95%-й доверительный интервал для первого региона от', lower, 'до', upper)"
   ]
  },
  {
   "cell_type": "code",
   "execution_count": 30,
   "metadata": {},
   "outputs": [
    {
     "name": "stdout",
     "output_type": "stream",
     "text": [
      "Средняя прибыль во втором регионе: 441910007.10389036\n",
      "Вероятность убытков во втором регионе: 0.009\n",
      "95%-й доверительный интервал для второго региона от 64483472.14596219 до 813770652.1922506\n"
     ]
    }
   ],
   "source": [
    "values_1 = []\n",
    "loss_1 = 0\n",
    "\n",
    "for i in range(1000):\n",
    "    subsample = geo_1.sample(frac=frac, replace=False, random_state=state)\n",
    "    profit = calc(subsample, 200) - money  \n",
    "    values_1.append(profit)\n",
    "    if profit < 0:\n",
    "        loss_1 += 1\n",
    "\n",
    "values_1 = pd.Series(values_1)\n",
    "\n",
    "values_1.sort_values(ascending=True)\n",
    "\n",
    "lower = values_1.quantile(0.025)\n",
    "upper = values_1.quantile(0.975)\n",
    "\n",
    "print('Средняя прибыль во втором регионе:', values_1.mean())\n",
    "print('Вероятность убытков во втором регионе:', (loss_1 / 1000))\n",
    "print('95%-й доверительный интервал для второго региона от', lower, 'до', upper)"
   ]
  },
  {
   "cell_type": "code",
   "execution_count": 31,
   "metadata": {},
   "outputs": [
    {
     "name": "stdout",
     "output_type": "stream",
     "text": [
      "Средняя прибыль в третьем регионе: 385933338.3132061\n",
      "Вероятность убытков в третьем регионе: 0.061\n",
      "95%-й доверительный интервал для третьего региона от -119759846.60163827 до 890517721.8530927\n"
     ]
    }
   ],
   "source": [
    "values_2 = []\n",
    "loss_2 = 0\n",
    "\n",
    "for i in range(1000):\n",
    "    subsample = geo_2.sample(frac=frac, replace=False, random_state=state)\n",
    "    profit = calc(subsample, 200) - money  \n",
    "    values_2.append(profit)\n",
    "    if profit < 0:\n",
    "        loss_2 += 1\n",
    "\n",
    "values_2 = pd.Series(values_2)\n",
    "\n",
    "values_2.sort_values(ascending=True)\n",
    "\n",
    "lower = values_2.quantile(0.025)\n",
    "upper = values_2.quantile(0.975)\n",
    "\n",
    "print('Средняя прибыль в третьем регионе:', values_2.mean())\n",
    "print('Вероятность убытков в третьем регионе:', (loss_2 / 1000))\n",
    "print('95%-й доверительный интервал для третьего региона от', lower, 'до', upper)"
   ]
  }
 ],
 "metadata": {
  "ExecuteTimeLog": [
   {
    "duration": 14470,
    "start_time": "2024-11-15T16:06:11.494Z"
   },
   {
    "duration": 2106,
    "start_time": "2024-11-15T16:06:25.967Z"
   },
   {
    "duration": 652,
    "start_time": "2024-11-15T16:07:30.649Z"
   },
   {
    "duration": 159,
    "start_time": "2024-11-15T16:07:44.936Z"
   },
   {
    "duration": 160,
    "start_time": "2024-11-15T16:09:24.590Z"
   },
   {
    "duration": 598,
    "start_time": "2024-11-15T16:09:26.547Z"
   },
   {
    "duration": 619,
    "start_time": "2024-11-15T16:09:30.633Z"
   },
   {
    "duration": 17,
    "start_time": "2024-11-15T16:14:52.177Z"
   },
   {
    "duration": 142,
    "start_time": "2024-11-15T16:14:54.219Z"
   },
   {
    "duration": 49,
    "start_time": "2024-11-15T16:15:07.097Z"
   },
   {
    "duration": 16,
    "start_time": "2024-11-15T16:15:40.899Z"
   },
   {
    "duration": 55,
    "start_time": "2024-11-15T16:15:42.777Z"
   },
   {
    "duration": 14,
    "start_time": "2024-11-15T16:16:14.073Z"
   },
   {
    "duration": 46,
    "start_time": "2024-11-15T16:16:16.060Z"
   },
   {
    "duration": 15,
    "start_time": "2024-11-15T16:16:18.124Z"
   },
   {
    "duration": 47,
    "start_time": "2024-11-15T16:16:19.923Z"
   },
   {
    "duration": 11,
    "start_time": "2024-11-15T16:18:28.589Z"
   },
   {
    "duration": 876,
    "start_time": "2024-11-15T16:18:44.726Z"
   },
   {
    "duration": 286,
    "start_time": "2024-11-15T16:18:50.773Z"
   },
   {
    "duration": 267,
    "start_time": "2024-11-15T16:18:57.185Z"
   },
   {
    "duration": 359,
    "start_time": "2024-11-15T16:19:03.821Z"
   },
   {
    "duration": 282,
    "start_time": "2024-11-15T16:19:20.524Z"
   },
   {
    "duration": 251,
    "start_time": "2024-11-15T16:19:26.042Z"
   },
   {
    "duration": 279,
    "start_time": "2024-11-15T16:19:30.310Z"
   },
   {
    "duration": 273,
    "start_time": "2024-11-15T16:19:37.799Z"
   },
   {
    "duration": 46,
    "start_time": "2024-11-17T16:23:06.411Z"
   },
   {
    "duration": 5,
    "start_time": "2024-11-17T16:23:15.345Z"
   },
   {
    "duration": 13809,
    "start_time": "2024-11-17T16:23:20.125Z"
   },
   {
    "duration": 1834,
    "start_time": "2024-11-17T16:23:33.937Z"
   },
   {
    "duration": 709,
    "start_time": "2024-11-17T16:23:35.773Z"
   },
   {
    "duration": 950,
    "start_time": "2024-11-17T16:23:36.484Z"
   },
   {
    "duration": 562,
    "start_time": "2024-11-17T16:23:37.436Z"
   },
   {
    "duration": 15,
    "start_time": "2024-11-17T16:23:37.999Z"
   },
   {
    "duration": 50,
    "start_time": "2024-11-17T16:23:38.016Z"
   },
   {
    "duration": 15,
    "start_time": "2024-11-17T16:23:38.067Z"
   },
   {
    "duration": 50,
    "start_time": "2024-11-17T16:23:38.084Z"
   },
   {
    "duration": 13,
    "start_time": "2024-11-17T16:23:38.137Z"
   },
   {
    "duration": 42,
    "start_time": "2024-11-17T16:23:38.152Z"
   },
   {
    "duration": 282,
    "start_time": "2024-11-17T16:23:38.196Z"
   },
   {
    "duration": 10,
    "start_time": "2024-11-17T16:23:38.479Z"
   },
   {
    "duration": 144,
    "start_time": "2024-11-17T16:32:32.262Z"
   },
   {
    "duration": 21,
    "start_time": "2024-11-17T16:32:41.362Z"
   },
   {
    "duration": 40,
    "start_time": "2024-11-17T16:35:07.814Z"
   },
   {
    "duration": 15,
    "start_time": "2024-11-17T16:35:37.989Z"
   },
   {
    "duration": 18,
    "start_time": "2024-11-17T16:35:40.493Z"
   },
   {
    "duration": 12,
    "start_time": "2024-11-17T16:36:43.562Z"
   },
   {
    "duration": 50,
    "start_time": "2024-11-17T16:47:37.677Z"
   },
   {
    "duration": 6,
    "start_time": "2024-11-17T16:48:07.031Z"
   },
   {
    "duration": 14,
    "start_time": "2024-11-17T16:48:11.368Z"
   },
   {
    "duration": 7985,
    "start_time": "2024-11-17T16:56:03.119Z"
   },
   {
    "duration": 1715,
    "start_time": "2024-11-17T16:56:11.106Z"
   },
   {
    "duration": 174,
    "start_time": "2024-11-17T16:56:12.822Z"
   },
   {
    "duration": 142,
    "start_time": "2024-11-17T16:56:12.997Z"
   },
   {
    "duration": 148,
    "start_time": "2024-11-17T16:56:13.141Z"
   },
   {
    "duration": 15,
    "start_time": "2024-11-17T16:56:13.290Z"
   },
   {
    "duration": 56,
    "start_time": "2024-11-17T16:56:13.306Z"
   },
   {
    "duration": 16,
    "start_time": "2024-11-17T16:56:13.363Z"
   },
   {
    "duration": 60,
    "start_time": "2024-11-17T16:56:13.380Z"
   },
   {
    "duration": 17,
    "start_time": "2024-11-17T16:56:13.441Z"
   },
   {
    "duration": 62,
    "start_time": "2024-11-17T16:56:13.460Z"
   },
   {
    "duration": 9,
    "start_time": "2024-11-17T16:56:13.524Z"
   },
   {
    "duration": 14,
    "start_time": "2024-11-17T16:56:13.535Z"
   },
   {
    "duration": 72,
    "start_time": "2024-11-17T16:56:13.551Z"
   },
   {
    "duration": 103,
    "start_time": "2024-11-17T16:56:13.625Z"
   },
   {
    "duration": 14,
    "start_time": "2024-11-17T16:56:13.730Z"
   },
   {
    "duration": 175,
    "start_time": "2024-11-17T16:56:13.746Z"
   },
   {
    "duration": 15,
    "start_time": "2024-11-17T16:56:13.922Z"
   },
   {
    "duration": 14463,
    "start_time": "2024-11-18T08:20:22.465Z"
   },
   {
    "duration": 1763,
    "start_time": "2024-11-18T08:20:36.930Z"
   },
   {
    "duration": 473,
    "start_time": "2024-11-18T08:20:38.695Z"
   },
   {
    "duration": 192,
    "start_time": "2024-11-18T08:20:39.170Z"
   },
   {
    "duration": 206,
    "start_time": "2024-11-18T08:20:39.364Z"
   },
   {
    "duration": 13,
    "start_time": "2024-11-18T08:20:39.571Z"
   },
   {
    "duration": 39,
    "start_time": "2024-11-18T08:20:39.585Z"
   },
   {
    "duration": 11,
    "start_time": "2024-11-18T08:20:39.626Z"
   },
   {
    "duration": 35,
    "start_time": "2024-11-18T08:20:39.639Z"
   },
   {
    "duration": 13,
    "start_time": "2024-11-18T08:20:39.676Z"
   },
   {
    "duration": 54,
    "start_time": "2024-11-18T08:20:39.690Z"
   },
   {
    "duration": 12,
    "start_time": "2024-11-18T08:20:39.745Z"
   },
   {
    "duration": 154,
    "start_time": "2024-11-18T08:20:39.758Z"
   },
   {
    "duration": 14,
    "start_time": "2024-11-18T08:20:39.914Z"
   },
   {
    "duration": 93,
    "start_time": "2024-11-18T08:20:39.929Z"
   },
   {
    "duration": 188,
    "start_time": "2024-11-18T08:20:40.024Z"
   },
   {
    "duration": 13,
    "start_time": "2024-11-18T08:20:40.213Z"
   },
   {
    "duration": 137,
    "start_time": "2024-11-18T08:22:00.751Z"
   },
   {
    "duration": 11,
    "start_time": "2024-11-18T08:25:15.642Z"
   },
   {
    "duration": 10,
    "start_time": "2024-11-18T08:25:40.866Z"
   },
   {
    "duration": 8649,
    "start_time": "2024-11-18T08:25:56.085Z"
   },
   {
    "duration": 1565,
    "start_time": "2024-11-18T08:26:04.736Z"
   },
   {
    "duration": 135,
    "start_time": "2024-11-18T08:26:06.302Z"
   },
   {
    "duration": 117,
    "start_time": "2024-11-18T08:26:06.438Z"
   },
   {
    "duration": 116,
    "start_time": "2024-11-18T08:26:06.557Z"
   },
   {
    "duration": 13,
    "start_time": "2024-11-18T08:26:06.675Z"
   },
   {
    "duration": 56,
    "start_time": "2024-11-18T08:26:06.689Z"
   },
   {
    "duration": 13,
    "start_time": "2024-11-18T08:26:06.746Z"
   },
   {
    "duration": 40,
    "start_time": "2024-11-18T08:26:06.760Z"
   },
   {
    "duration": 12,
    "start_time": "2024-11-18T08:26:06.813Z"
   },
   {
    "duration": 48,
    "start_time": "2024-11-18T08:26:06.827Z"
   },
   {
    "duration": 13,
    "start_time": "2024-11-18T08:26:06.877Z"
   },
   {
    "duration": 136,
    "start_time": "2024-11-18T08:26:06.891Z"
   },
   {
    "duration": 91,
    "start_time": "2024-11-18T08:26:07.030Z"
   },
   {
    "duration": 15,
    "start_time": "2024-11-18T08:26:07.123Z"
   },
   {
    "duration": 72,
    "start_time": "2024-11-18T08:26:07.140Z"
   },
   {
    "duration": 107,
    "start_time": "2024-11-18T08:26:07.214Z"
   },
   {
    "duration": 322,
    "start_time": "2024-11-18T08:26:07.324Z"
   },
   {
    "duration": 9,
    "start_time": "2024-11-18T08:27:22.759Z"
   },
   {
    "duration": 18,
    "start_time": "2024-11-18T08:32:37.145Z"
   },
   {
    "duration": 13,
    "start_time": "2024-11-18T08:33:41.695Z"
   },
   {
    "duration": 12,
    "start_time": "2024-11-18T08:33:53.855Z"
   },
   {
    "duration": 24,
    "start_time": "2024-11-18T08:34:23.130Z"
   },
   {
    "duration": 12,
    "start_time": "2024-11-18T08:34:41.755Z"
   },
   {
    "duration": 17,
    "start_time": "2024-11-18T08:35:03.000Z"
   },
   {
    "duration": 18,
    "start_time": "2024-11-18T08:37:06.308Z"
   },
   {
    "duration": 21,
    "start_time": "2024-11-18T08:37:22.711Z"
   },
   {
    "duration": 6,
    "start_time": "2024-11-18T08:37:36.306Z"
   },
   {
    "duration": 13,
    "start_time": "2024-11-18T08:37:51.621Z"
   },
   {
    "duration": 6,
    "start_time": "2024-11-18T08:38:12.322Z"
   },
   {
    "duration": 18,
    "start_time": "2024-11-18T08:38:25.981Z"
   },
   {
    "duration": 11,
    "start_time": "2024-11-18T08:38:29.038Z"
   },
   {
    "duration": 13,
    "start_time": "2024-11-18T08:38:32.560Z"
   },
   {
    "duration": 16,
    "start_time": "2024-11-18T08:38:42.141Z"
   },
   {
    "duration": 14,
    "start_time": "2024-11-18T08:39:42.651Z"
   },
   {
    "duration": 20,
    "start_time": "2024-11-18T08:41:44.421Z"
   },
   {
    "duration": 15,
    "start_time": "2024-11-18T08:42:31.331Z"
   },
   {
    "duration": 14,
    "start_time": "2024-11-18T08:42:54.266Z"
   },
   {
    "duration": 9371,
    "start_time": "2024-11-18T08:43:05.831Z"
   },
   {
    "duration": 1634,
    "start_time": "2024-11-18T08:43:15.204Z"
   },
   {
    "duration": 153,
    "start_time": "2024-11-18T08:43:16.840Z"
   },
   {
    "duration": 147,
    "start_time": "2024-11-18T08:43:16.996Z"
   },
   {
    "duration": 126,
    "start_time": "2024-11-18T08:43:17.144Z"
   },
   {
    "duration": 12,
    "start_time": "2024-11-18T08:43:17.271Z"
   },
   {
    "duration": 55,
    "start_time": "2024-11-18T08:43:17.285Z"
   },
   {
    "duration": 13,
    "start_time": "2024-11-18T08:43:17.342Z"
   },
   {
    "duration": 37,
    "start_time": "2024-11-18T08:43:17.356Z"
   },
   {
    "duration": 23,
    "start_time": "2024-11-18T08:43:17.396Z"
   },
   {
    "duration": 47,
    "start_time": "2024-11-18T08:43:17.429Z"
   },
   {
    "duration": 12,
    "start_time": "2024-11-18T08:43:17.478Z"
   },
   {
    "duration": 46,
    "start_time": "2024-11-18T08:43:17.491Z"
   },
   {
    "duration": 100,
    "start_time": "2024-11-18T08:43:17.538Z"
   },
   {
    "duration": 98,
    "start_time": "2024-11-18T08:43:17.640Z"
   },
   {
    "duration": 83,
    "start_time": "2024-11-18T08:43:17.741Z"
   },
   {
    "duration": 103,
    "start_time": "2024-11-18T08:43:17.826Z"
   },
   {
    "duration": 84,
    "start_time": "2024-11-18T08:43:17.933Z"
   },
   {
    "duration": 13,
    "start_time": "2024-11-18T08:43:40.896Z"
   },
   {
    "duration": 13,
    "start_time": "2024-11-18T08:43:55.924Z"
   },
   {
    "duration": 952,
    "start_time": "2024-11-18T08:44:15.612Z"
   },
   {
    "duration": 916,
    "start_time": "2024-11-18T08:46:33.071Z"
   },
   {
    "duration": 27,
    "start_time": "2024-11-18T08:46:49.304Z"
   },
   {
    "duration": 3,
    "start_time": "2024-11-18T08:47:40.494Z"
   },
   {
    "duration": 6,
    "start_time": "2024-11-18T08:47:53.301Z"
   },
   {
    "duration": 7,
    "start_time": "2024-11-18T08:48:16.056Z"
   },
   {
    "duration": 24,
    "start_time": "2024-11-18T08:48:31.002Z"
   },
   {
    "duration": 16,
    "start_time": "2024-11-18T08:48:38.526Z"
   },
   {
    "duration": 14,
    "start_time": "2024-11-18T08:49:09.179Z"
   },
   {
    "duration": 10,
    "start_time": "2024-11-18T08:49:14.338Z"
   },
   {
    "duration": 8663,
    "start_time": "2024-11-18T08:49:24.972Z"
   },
   {
    "duration": 1592,
    "start_time": "2024-11-18T08:49:33.637Z"
   },
   {
    "duration": 146,
    "start_time": "2024-11-18T08:49:35.230Z"
   },
   {
    "duration": 122,
    "start_time": "2024-11-18T08:49:35.378Z"
   },
   {
    "duration": 122,
    "start_time": "2024-11-18T08:49:35.502Z"
   },
   {
    "duration": 14,
    "start_time": "2024-11-18T08:49:35.626Z"
   },
   {
    "duration": 42,
    "start_time": "2024-11-18T08:49:35.641Z"
   },
   {
    "duration": 55,
    "start_time": "2024-11-18T08:49:35.684Z"
   },
   {
    "duration": 52,
    "start_time": "2024-11-18T08:49:35.740Z"
   },
   {
    "duration": 12,
    "start_time": "2024-11-18T08:49:35.794Z"
   },
   {
    "duration": 51,
    "start_time": "2024-11-18T08:49:35.807Z"
   },
   {
    "duration": 15,
    "start_time": "2024-11-18T08:49:35.860Z"
   },
   {
    "duration": 45,
    "start_time": "2024-11-18T08:49:35.876Z"
   },
   {
    "duration": 100,
    "start_time": "2024-11-18T08:49:35.923Z"
   },
   {
    "duration": 93,
    "start_time": "2024-11-18T08:49:36.026Z"
   },
   {
    "duration": 96,
    "start_time": "2024-11-18T08:49:36.125Z"
   },
   {
    "duration": 103,
    "start_time": "2024-11-18T08:49:36.222Z"
   },
   {
    "duration": 11,
    "start_time": "2024-11-18T08:49:36.326Z"
   },
   {
    "duration": 91,
    "start_time": "2024-11-18T08:49:36.339Z"
   },
   {
    "duration": 6,
    "start_time": "2024-11-18T08:49:56.999Z"
   },
   {
    "duration": 12,
    "start_time": "2024-11-18T08:53:44.050Z"
   },
   {
    "duration": 11,
    "start_time": "2024-11-18T08:57:17.583Z"
   },
   {
    "duration": 15,
    "start_time": "2024-11-18T08:57:30.026Z"
   },
   {
    "duration": 8,
    "start_time": "2024-11-18T08:57:58.126Z"
   },
   {
    "duration": 8931,
    "start_time": "2024-11-18T09:00:53.528Z"
   },
   {
    "duration": 1593,
    "start_time": "2024-11-18T09:01:02.461Z"
   },
   {
    "duration": 138,
    "start_time": "2024-11-18T09:01:04.055Z"
   },
   {
    "duration": 127,
    "start_time": "2024-11-18T09:01:04.194Z"
   },
   {
    "duration": 121,
    "start_time": "2024-11-18T09:01:04.326Z"
   },
   {
    "duration": 13,
    "start_time": "2024-11-18T09:01:04.448Z"
   },
   {
    "duration": 65,
    "start_time": "2024-11-18T09:01:04.462Z"
   },
   {
    "duration": 18,
    "start_time": "2024-11-18T09:01:04.528Z"
   },
   {
    "duration": 50,
    "start_time": "2024-11-18T09:01:04.548Z"
   },
   {
    "duration": 16,
    "start_time": "2024-11-18T09:01:04.600Z"
   },
   {
    "duration": 54,
    "start_time": "2024-11-18T09:01:04.617Z"
   },
   {
    "duration": 11,
    "start_time": "2024-11-18T09:01:04.673Z"
   },
   {
    "duration": 45,
    "start_time": "2024-11-18T09:01:04.686Z"
   },
   {
    "duration": 83,
    "start_time": "2024-11-18T09:01:04.734Z"
   },
   {
    "duration": 21,
    "start_time": "2024-11-18T09:01:04.818Z"
   },
   {
    "duration": 72,
    "start_time": "2024-11-18T09:01:04.841Z"
   },
   {
    "duration": 20,
    "start_time": "2024-11-18T09:01:04.914Z"
   },
   {
    "duration": 205,
    "start_time": "2024-11-18T09:01:04.935Z"
   },
   {
    "duration": 66,
    "start_time": "2024-11-18T09:01:05.142Z"
   },
   {
    "duration": 32,
    "start_time": "2024-11-18T09:01:05.210Z"
   },
   {
    "duration": 170,
    "start_time": "2024-11-18T09:02:45.001Z"
   },
   {
    "duration": 15,
    "start_time": "2024-11-18T09:02:55.289Z"
   },
   {
    "duration": 12,
    "start_time": "2024-11-18T09:03:59.324Z"
   },
   {
    "duration": 11,
    "start_time": "2024-11-18T09:04:26.227Z"
   },
   {
    "duration": 13,
    "start_time": "2024-11-18T09:05:02.033Z"
   },
   {
    "duration": 12,
    "start_time": "2024-11-18T09:05:08.096Z"
   },
   {
    "duration": 13,
    "start_time": "2024-11-18T09:05:16.043Z"
   },
   {
    "duration": 14,
    "start_time": "2024-11-18T09:05:31.080Z"
   },
   {
    "duration": 8762,
    "start_time": "2024-11-18T09:05:36.349Z"
   },
   {
    "duration": 1604,
    "start_time": "2024-11-18T09:05:45.117Z"
   },
   {
    "duration": 136,
    "start_time": "2024-11-18T09:05:46.722Z"
   },
   {
    "duration": 117,
    "start_time": "2024-11-18T09:05:46.859Z"
   },
   {
    "duration": 154,
    "start_time": "2024-11-18T09:05:46.978Z"
   },
   {
    "duration": 17,
    "start_time": "2024-11-18T09:05:47.134Z"
   },
   {
    "duration": 78,
    "start_time": "2024-11-18T09:05:47.153Z"
   },
   {
    "duration": 12,
    "start_time": "2024-11-18T09:05:47.233Z"
   },
   {
    "duration": 47,
    "start_time": "2024-11-18T09:05:47.246Z"
   },
   {
    "duration": 35,
    "start_time": "2024-11-18T09:05:47.294Z"
   },
   {
    "duration": 41,
    "start_time": "2024-11-18T09:05:47.330Z"
   },
   {
    "duration": 11,
    "start_time": "2024-11-18T09:05:47.372Z"
   },
   {
    "duration": 73,
    "start_time": "2024-11-18T09:05:47.384Z"
   },
   {
    "duration": 65,
    "start_time": "2024-11-18T09:05:47.460Z"
   },
   {
    "duration": 95,
    "start_time": "2024-11-18T09:05:47.526Z"
   },
   {
    "duration": 21,
    "start_time": "2024-11-18T09:05:47.623Z"
   },
   {
    "duration": 103,
    "start_time": "2024-11-18T09:05:47.718Z"
   },
   {
    "duration": 12,
    "start_time": "2024-11-18T09:05:47.823Z"
   },
   {
    "duration": 12,
    "start_time": "2024-11-18T09:05:47.837Z"
   },
   {
    "duration": 67,
    "start_time": "2024-11-18T09:05:47.851Z"
   },
   {
    "duration": 5,
    "start_time": "2024-11-18T09:28:18.200Z"
   },
   {
    "duration": 60,
    "start_time": "2024-11-18T09:29:12.920Z"
   },
   {
    "duration": 144,
    "start_time": "2024-11-18T09:39:03.679Z"
   },
   {
    "duration": 2,
    "start_time": "2024-11-18T09:39:15.054Z"
   },
   {
    "duration": 4,
    "start_time": "2024-11-18T09:39:16.983Z"
   },
   {
    "duration": 3,
    "start_time": "2024-11-18T09:39:41.526Z"
   },
   {
    "duration": 35,
    "start_time": "2024-11-18T13:10:04.822Z"
   },
   {
    "duration": 9640,
    "start_time": "2024-11-18T13:10:59.838Z"
   },
   {
    "duration": 1789,
    "start_time": "2024-11-18T13:11:09.480Z"
   },
   {
    "duration": 147,
    "start_time": "2024-11-18T13:11:11.271Z"
   },
   {
    "duration": 139,
    "start_time": "2024-11-18T13:11:11.420Z"
   },
   {
    "duration": 129,
    "start_time": "2024-11-18T13:11:11.561Z"
   },
   {
    "duration": 15,
    "start_time": "2024-11-18T13:11:11.692Z"
   },
   {
    "duration": 56,
    "start_time": "2024-11-18T13:11:11.708Z"
   },
   {
    "duration": 12,
    "start_time": "2024-11-18T13:11:11.765Z"
   },
   {
    "duration": 60,
    "start_time": "2024-11-18T13:11:11.779Z"
   },
   {
    "duration": 18,
    "start_time": "2024-11-18T13:11:11.842Z"
   },
   {
    "duration": 72,
    "start_time": "2024-11-18T13:11:11.862Z"
   },
   {
    "duration": 12,
    "start_time": "2024-11-18T13:11:11.939Z"
   },
   {
    "duration": 95,
    "start_time": "2024-11-18T13:11:11.953Z"
   },
   {
    "duration": 77,
    "start_time": "2024-11-18T13:11:12.052Z"
   },
   {
    "duration": 94,
    "start_time": "2024-11-18T13:11:12.131Z"
   },
   {
    "duration": 16,
    "start_time": "2024-11-18T13:11:12.227Z"
   },
   {
    "duration": 79,
    "start_time": "2024-11-18T13:11:12.245Z"
   },
   {
    "duration": 98,
    "start_time": "2024-11-18T13:11:12.329Z"
   },
   {
    "duration": 13,
    "start_time": "2024-11-18T13:11:12.431Z"
   },
   {
    "duration": 65,
    "start_time": "2024-11-18T13:11:12.449Z"
   },
   {
    "duration": 6,
    "start_time": "2024-11-18T13:11:12.516Z"
   },
   {
    "duration": 10,
    "start_time": "2024-11-18T13:11:12.525Z"
   },
   {
    "duration": 90,
    "start_time": "2024-11-18T13:11:12.537Z"
   },
   {
    "duration": 143,
    "start_time": "2024-11-18T13:11:12.630Z"
   },
   {
    "duration": 7,
    "start_time": "2024-11-18T13:11:59.197Z"
   },
   {
    "duration": 11,
    "start_time": "2024-11-18T13:12:11.554Z"
   },
   {
    "duration": 26,
    "start_time": "2024-11-18T13:12:20.309Z"
   },
   {
    "duration": 12,
    "start_time": "2024-11-18T13:13:39.215Z"
   },
   {
    "duration": 8,
    "start_time": "2024-11-18T13:14:46.999Z"
   },
   {
    "duration": 71,
    "start_time": "2024-11-18T13:17:53.303Z"
   },
   {
    "duration": 3,
    "start_time": "2024-11-18T13:17:57.749Z"
   },
   {
    "duration": 8,
    "start_time": "2024-11-18T13:18:14.473Z"
   },
   {
    "duration": 17,
    "start_time": "2024-11-18T13:18:21.320Z"
   },
   {
    "duration": 12,
    "start_time": "2024-11-18T13:18:28.861Z"
   },
   {
    "duration": 8,
    "start_time": "2024-11-18T13:19:00.293Z"
   },
   {
    "duration": 15,
    "start_time": "2024-11-18T13:21:48.575Z"
   },
   {
    "duration": 957,
    "start_time": "2024-11-18T14:21:40.687Z"
   },
   {
    "duration": 965,
    "start_time": "2024-11-18T14:22:03.033Z"
   },
   {
    "duration": 992,
    "start_time": "2024-11-18T14:24:00.379Z"
   },
   {
    "duration": 911,
    "start_time": "2024-11-18T14:24:11.994Z"
   },
   {
    "duration": 1050,
    "start_time": "2024-11-18T14:24:20.306Z"
   },
   {
    "duration": 56,
    "start_time": "2024-11-18T14:29:22.119Z"
   },
   {
    "duration": 17,
    "start_time": "2024-11-18T14:29:35.912Z"
   },
   {
    "duration": 4,
    "start_time": "2024-11-18T14:30:00.427Z"
   },
   {
    "duration": 16,
    "start_time": "2024-11-18T14:30:29.930Z"
   },
   {
    "duration": 4,
    "start_time": "2024-11-18T14:30:32.406Z"
   },
   {
    "duration": 960,
    "start_time": "2024-11-18T14:31:10.250Z"
   },
   {
    "duration": 977,
    "start_time": "2024-11-18T14:31:25.575Z"
   },
   {
    "duration": 14037,
    "start_time": "2024-11-18T17:56:42.790Z"
   },
   {
    "duration": 2010,
    "start_time": "2024-11-18T17:56:56.830Z"
   },
   {
    "duration": 528,
    "start_time": "2024-11-18T17:56:58.842Z"
   },
   {
    "duration": 218,
    "start_time": "2024-11-18T17:56:59.372Z"
   },
   {
    "duration": 225,
    "start_time": "2024-11-18T17:56:59.593Z"
   },
   {
    "duration": 15,
    "start_time": "2024-11-18T17:56:59.820Z"
   },
   {
    "duration": 47,
    "start_time": "2024-11-18T17:56:59.837Z"
   },
   {
    "duration": 34,
    "start_time": "2024-11-18T17:56:59.886Z"
   },
   {
    "duration": 41,
    "start_time": "2024-11-18T17:56:59.922Z"
   },
   {
    "duration": 15,
    "start_time": "2024-11-18T17:56:59.965Z"
   },
   {
    "duration": 71,
    "start_time": "2024-11-18T17:56:59.982Z"
   },
   {
    "duration": 14,
    "start_time": "2024-11-18T17:57:00.055Z"
   },
   {
    "duration": 149,
    "start_time": "2024-11-18T17:57:00.070Z"
   },
   {
    "duration": 101,
    "start_time": "2024-11-18T17:57:00.224Z"
   },
   {
    "duration": 38,
    "start_time": "2024-11-18T17:57:00.327Z"
   },
   {
    "duration": 33,
    "start_time": "2024-11-18T17:57:00.367Z"
   },
   {
    "duration": 106,
    "start_time": "2024-11-18T17:57:00.419Z"
   },
   {
    "duration": 13,
    "start_time": "2024-11-18T17:57:00.527Z"
   },
   {
    "duration": 85,
    "start_time": "2024-11-18T17:57:00.542Z"
   },
   {
    "duration": 105,
    "start_time": "2024-11-18T17:57:00.629Z"
   },
   {
    "duration": 3,
    "start_time": "2024-11-18T17:57:00.736Z"
   },
   {
    "duration": 18,
    "start_time": "2024-11-18T17:57:00.741Z"
   },
   {
    "duration": 9,
    "start_time": "2024-11-18T17:57:00.760Z"
   },
   {
    "duration": 16,
    "start_time": "2024-11-18T17:57:00.770Z"
   },
   {
    "duration": 38,
    "start_time": "2024-11-18T17:57:00.788Z"
   },
   {
    "duration": 1152,
    "start_time": "2024-11-18T17:57:00.828Z"
   },
   {
    "duration": 172,
    "start_time": "2024-11-18T17:57:01.982Z"
   },
   {
    "duration": 0,
    "start_time": "2024-11-18T17:57:02.156Z"
   },
   {
    "duration": 0,
    "start_time": "2024-11-18T17:57:02.157Z"
   },
   {
    "duration": 1190,
    "start_time": "2024-11-18T17:58:17.282Z"
   },
   {
    "duration": 1160,
    "start_time": "2024-11-18T17:58:30.978Z"
   },
   {
    "duration": 1159,
    "start_time": "2024-11-18T17:58:37.164Z"
   },
   {
    "duration": 12,
    "start_time": "2024-11-18T18:35:12.830Z"
   },
   {
    "duration": 8,
    "start_time": "2024-11-18T18:38:06.762Z"
   },
   {
    "duration": 9,
    "start_time": "2024-11-18T18:38:09.207Z"
   },
   {
    "duration": 8,
    "start_time": "2024-11-18T18:38:12.084Z"
   },
   {
    "duration": 10,
    "start_time": "2024-11-18T18:38:16.124Z"
   },
   {
    "duration": 10,
    "start_time": "2024-11-18T18:45:12.729Z"
   },
   {
    "duration": 9,
    "start_time": "2024-11-18T18:45:15.400Z"
   },
   {
    "duration": 8453,
    "start_time": "2024-11-18T18:45:22.323Z"
   },
   {
    "duration": 1851,
    "start_time": "2024-11-18T18:45:30.779Z"
   },
   {
    "duration": 172,
    "start_time": "2024-11-18T18:45:32.631Z"
   },
   {
    "duration": 140,
    "start_time": "2024-11-18T18:45:32.805Z"
   },
   {
    "duration": 173,
    "start_time": "2024-11-18T18:45:32.947Z"
   },
   {
    "duration": 23,
    "start_time": "2024-11-18T18:45:33.123Z"
   },
   {
    "duration": 51,
    "start_time": "2024-11-18T18:45:33.148Z"
   },
   {
    "duration": 38,
    "start_time": "2024-11-18T18:45:33.200Z"
   },
   {
    "duration": 61,
    "start_time": "2024-11-18T18:45:33.240Z"
   },
   {
    "duration": 22,
    "start_time": "2024-11-18T18:45:33.304Z"
   },
   {
    "duration": 69,
    "start_time": "2024-11-18T18:45:33.328Z"
   },
   {
    "duration": 57,
    "start_time": "2024-11-18T18:45:33.399Z"
   },
   {
    "duration": 62,
    "start_time": "2024-11-18T18:45:33.457Z"
   },
   {
    "duration": 98,
    "start_time": "2024-11-18T18:45:33.521Z"
   },
   {
    "duration": 17,
    "start_time": "2024-11-18T18:45:33.621Z"
   },
   {
    "duration": 80,
    "start_time": "2024-11-18T18:45:33.640Z"
   },
   {
    "duration": 97,
    "start_time": "2024-11-18T18:45:33.723Z"
   },
   {
    "duration": 18,
    "start_time": "2024-11-18T18:45:33.822Z"
   },
   {
    "duration": 18,
    "start_time": "2024-11-18T18:45:33.842Z"
   },
   {
    "duration": 101,
    "start_time": "2024-11-18T18:45:33.921Z"
   },
   {
    "duration": 3,
    "start_time": "2024-11-18T18:45:34.023Z"
   },
   {
    "duration": 11,
    "start_time": "2024-11-18T18:45:34.027Z"
   },
   {
    "duration": 13,
    "start_time": "2024-11-18T18:45:34.040Z"
   },
   {
    "duration": 4,
    "start_time": "2024-11-18T18:45:34.054Z"
   },
   {
    "duration": 16,
    "start_time": "2024-11-18T18:45:34.059Z"
   },
   {
    "duration": 9,
    "start_time": "2024-11-18T18:45:34.076Z"
   },
   {
    "duration": 1193,
    "start_time": "2024-11-18T18:45:34.120Z"
   },
   {
    "duration": 1154,
    "start_time": "2024-11-18T18:45:35.317Z"
   },
   {
    "duration": 1234,
    "start_time": "2024-11-18T18:45:36.473Z"
   },
   {
    "duration": 687,
    "start_time": "2024-11-18T18:46:28.527Z"
   },
   {
    "duration": 1209,
    "start_time": "2024-11-18T18:46:36.694Z"
   },
   {
    "duration": 1132,
    "start_time": "2024-11-18T18:53:51.482Z"
   },
   {
    "duration": 1132,
    "start_time": "2024-11-18T18:53:59.360Z"
   },
   {
    "duration": 1189,
    "start_time": "2024-11-18T18:54:03.018Z"
   },
   {
    "duration": 1171,
    "start_time": "2024-11-18T18:54:06.061Z"
   },
   {
    "duration": 1167,
    "start_time": "2024-11-18T18:54:08.993Z"
   },
   {
    "duration": 1115,
    "start_time": "2024-11-18T18:54:11.626Z"
   },
   {
    "duration": 19,
    "start_time": "2024-11-18T18:59:32.636Z"
   },
   {
    "duration": 25,
    "start_time": "2024-11-18T18:59:41.207Z"
   },
   {
    "duration": 26,
    "start_time": "2024-11-18T18:59:51.143Z"
   },
   {
    "duration": 24,
    "start_time": "2024-11-18T18:59:57.344Z"
   },
   {
    "duration": 30,
    "start_time": "2024-11-18T19:00:00.203Z"
   },
   {
    "duration": 8,
    "start_time": "2024-11-18T19:04:47.494Z"
   },
   {
    "duration": 8,
    "start_time": "2024-11-18T19:04:50.480Z"
   },
   {
    "duration": 4,
    "start_time": "2024-11-18T19:05:34.286Z"
   },
   {
    "duration": 156,
    "start_time": "2024-11-18T19:06:51.401Z"
   },
   {
    "duration": 1161,
    "start_time": "2024-11-18T19:07:41.984Z"
   },
   {
    "duration": 1296,
    "start_time": "2024-11-18T19:08:08.252Z"
   },
   {
    "duration": 1155,
    "start_time": "2024-11-18T19:10:20.319Z"
   },
   {
    "duration": 1173,
    "start_time": "2024-11-18T19:11:01.346Z"
   },
   {
    "duration": 1221,
    "start_time": "2024-11-18T19:11:48.587Z"
   },
   {
    "duration": 8484,
    "start_time": "2024-11-18T19:13:56.006Z"
   },
   {
    "duration": 1821,
    "start_time": "2024-11-18T19:14:04.493Z"
   },
   {
    "duration": 170,
    "start_time": "2024-11-18T19:14:06.316Z"
   },
   {
    "duration": 143,
    "start_time": "2024-11-18T19:14:06.488Z"
   },
   {
    "duration": 166,
    "start_time": "2024-11-18T19:14:06.632Z"
   },
   {
    "duration": 23,
    "start_time": "2024-11-18T19:14:06.799Z"
   },
   {
    "duration": 80,
    "start_time": "2024-11-18T19:14:06.824Z"
   },
   {
    "duration": 44,
    "start_time": "2024-11-18T19:14:06.905Z"
   },
   {
    "duration": 67,
    "start_time": "2024-11-18T19:14:06.950Z"
   },
   {
    "duration": 14,
    "start_time": "2024-11-18T19:14:07.020Z"
   },
   {
    "duration": 73,
    "start_time": "2024-11-18T19:14:07.036Z"
   },
   {
    "duration": 14,
    "start_time": "2024-11-18T19:14:07.110Z"
   },
   {
    "duration": 52,
    "start_time": "2024-11-18T19:14:07.125Z"
   },
   {
    "duration": 107,
    "start_time": "2024-11-18T19:14:07.219Z"
   },
   {
    "duration": 33,
    "start_time": "2024-11-18T19:14:07.327Z"
   },
   {
    "duration": 44,
    "start_time": "2024-11-18T19:14:07.362Z"
   },
   {
    "duration": 117,
    "start_time": "2024-11-18T19:14:07.418Z"
   },
   {
    "duration": 87,
    "start_time": "2024-11-18T19:14:07.536Z"
   },
   {
    "duration": 16,
    "start_time": "2024-11-18T19:14:07.624Z"
   },
   {
    "duration": 86,
    "start_time": "2024-11-18T19:14:07.642Z"
   },
   {
    "duration": 150,
    "start_time": "2024-11-18T19:14:07.730Z"
   },
   {
    "duration": 43,
    "start_time": "2024-11-18T19:14:07.881Z"
   },
   {
    "duration": 15,
    "start_time": "2024-11-18T19:14:07.926Z"
   },
   {
    "duration": 19,
    "start_time": "2024-11-18T19:14:07.943Z"
   },
   {
    "duration": 30,
    "start_time": "2024-11-18T19:14:07.963Z"
   },
   {
    "duration": 3,
    "start_time": "2024-11-18T19:14:07.994Z"
   },
   {
    "duration": 1222,
    "start_time": "2024-11-18T19:14:07.999Z"
   },
   {
    "duration": 1201,
    "start_time": "2024-11-18T19:14:09.225Z"
   },
   {
    "duration": 1155,
    "start_time": "2024-11-18T19:14:10.428Z"
   },
   {
    "duration": 84,
    "start_time": "2024-11-18T19:25:29.439Z"
   },
   {
    "duration": 1162,
    "start_time": "2024-11-18T19:25:37.273Z"
   },
   {
    "duration": 8177,
    "start_time": "2024-11-18T19:28:14.762Z"
   },
   {
    "duration": 1784,
    "start_time": "2024-11-18T19:28:22.942Z"
   },
   {
    "duration": 160,
    "start_time": "2024-11-18T19:28:24.727Z"
   },
   {
    "duration": 141,
    "start_time": "2024-11-18T19:28:24.890Z"
   },
   {
    "duration": 144,
    "start_time": "2024-11-18T19:28:25.033Z"
   },
   {
    "duration": 15,
    "start_time": "2024-11-18T19:28:25.179Z"
   },
   {
    "duration": 55,
    "start_time": "2024-11-18T19:28:25.195Z"
   },
   {
    "duration": 14,
    "start_time": "2024-11-18T19:28:25.252Z"
   },
   {
    "duration": 60,
    "start_time": "2024-11-18T19:28:25.267Z"
   },
   {
    "duration": 15,
    "start_time": "2024-11-18T19:28:25.329Z"
   },
   {
    "duration": 73,
    "start_time": "2024-11-18T19:28:25.345Z"
   },
   {
    "duration": 14,
    "start_time": "2024-11-18T19:28:25.420Z"
   },
   {
    "duration": 82,
    "start_time": "2024-11-18T19:28:25.436Z"
   },
   {
    "duration": 102,
    "start_time": "2024-11-18T19:28:25.521Z"
   },
   {
    "duration": 17,
    "start_time": "2024-11-18T19:28:25.625Z"
   },
   {
    "duration": 20,
    "start_time": "2024-11-18T19:28:25.643Z"
   },
   {
    "duration": 101,
    "start_time": "2024-11-18T19:28:25.719Z"
   },
   {
    "duration": 13,
    "start_time": "2024-11-18T19:28:25.821Z"
   },
   {
    "duration": 16,
    "start_time": "2024-11-18T19:28:25.836Z"
   },
   {
    "duration": 102,
    "start_time": "2024-11-18T19:28:25.919Z"
   },
   {
    "duration": 2,
    "start_time": "2024-11-18T19:28:26.023Z"
   },
   {
    "duration": 14,
    "start_time": "2024-11-18T19:28:26.027Z"
   },
   {
    "duration": 6,
    "start_time": "2024-11-18T19:28:26.042Z"
   },
   {
    "duration": 3,
    "start_time": "2024-11-18T19:28:26.049Z"
   },
   {
    "duration": 17,
    "start_time": "2024-11-18T19:28:26.053Z"
   },
   {
    "duration": 3,
    "start_time": "2024-11-18T19:28:26.072Z"
   },
   {
    "duration": 1174,
    "start_time": "2024-11-18T19:28:26.076Z"
   },
   {
    "duration": 1129,
    "start_time": "2024-11-18T19:28:27.254Z"
   },
   {
    "duration": 1159,
    "start_time": "2024-11-18T19:28:28.385Z"
   },
   {
    "duration": 1129,
    "start_time": "2024-11-18T19:31:28.071Z"
   },
   {
    "duration": 8257,
    "start_time": "2024-11-18T19:33:36.617Z"
   },
   {
    "duration": 1768,
    "start_time": "2024-11-18T19:33:44.876Z"
   },
   {
    "duration": 177,
    "start_time": "2024-11-18T19:33:46.646Z"
   },
   {
    "duration": 135,
    "start_time": "2024-11-18T19:33:46.825Z"
   },
   {
    "duration": 138,
    "start_time": "2024-11-18T19:33:46.961Z"
   },
   {
    "duration": 23,
    "start_time": "2024-11-18T19:33:47.101Z"
   },
   {
    "duration": 44,
    "start_time": "2024-11-18T19:33:47.125Z"
   },
   {
    "duration": 14,
    "start_time": "2024-11-18T19:33:47.171Z"
   },
   {
    "duration": 61,
    "start_time": "2024-11-18T19:33:47.186Z"
   },
   {
    "duration": 14,
    "start_time": "2024-11-18T19:33:47.249Z"
   },
   {
    "duration": 54,
    "start_time": "2024-11-18T19:33:47.265Z"
   },
   {
    "duration": 14,
    "start_time": "2024-11-18T19:33:47.321Z"
   },
   {
    "duration": 19,
    "start_time": "2024-11-18T19:33:47.336Z"
   },
   {
    "duration": 101,
    "start_time": "2024-11-18T19:33:47.424Z"
   },
   {
    "duration": 20,
    "start_time": "2024-11-18T19:33:47.527Z"
   },
   {
    "duration": 70,
    "start_time": "2024-11-18T19:33:47.549Z"
   },
   {
    "duration": 105,
    "start_time": "2024-11-18T19:33:47.622Z"
   },
   {
    "duration": 13,
    "start_time": "2024-11-18T19:33:47.728Z"
   },
   {
    "duration": 26,
    "start_time": "2024-11-18T19:33:47.743Z"
   },
   {
    "duration": 107,
    "start_time": "2024-11-18T19:33:47.819Z"
   },
   {
    "duration": 9,
    "start_time": "2024-11-18T19:33:47.927Z"
   },
   {
    "duration": 6,
    "start_time": "2024-11-18T19:33:47.938Z"
   },
   {
    "duration": 7,
    "start_time": "2024-11-18T19:33:47.946Z"
   },
   {
    "duration": 25,
    "start_time": "2024-11-18T19:33:47.954Z"
   },
   {
    "duration": 23,
    "start_time": "2024-11-18T19:33:47.981Z"
   },
   {
    "duration": 3,
    "start_time": "2024-11-18T19:33:48.005Z"
   },
   {
    "duration": 1183,
    "start_time": "2024-11-18T19:33:48.010Z"
   },
   {
    "duration": 1150,
    "start_time": "2024-11-18T19:33:49.196Z"
   },
   {
    "duration": 1144,
    "start_time": "2024-11-18T19:33:50.347Z"
   },
   {
    "duration": 4,
    "start_time": "2024-11-18T19:46:27.276Z"
   },
   {
    "duration": 1055,
    "start_time": "2024-11-18T19:46:31.015Z"
   },
   {
    "duration": 171,
    "start_time": "2024-11-18T19:46:32.072Z"
   },
   {
    "duration": 139,
    "start_time": "2024-11-18T19:46:32.245Z"
   },
   {
    "duration": 149,
    "start_time": "2024-11-18T19:46:32.387Z"
   },
   {
    "duration": 15,
    "start_time": "2024-11-18T19:46:32.538Z"
   },
   {
    "duration": 64,
    "start_time": "2024-11-18T19:46:32.555Z"
   },
   {
    "duration": 15,
    "start_time": "2024-11-18T19:46:32.620Z"
   },
   {
    "duration": 45,
    "start_time": "2024-11-18T19:46:32.636Z"
   },
   {
    "duration": 31,
    "start_time": "2024-11-18T19:46:32.683Z"
   },
   {
    "duration": 48,
    "start_time": "2024-11-18T19:46:32.717Z"
   },
   {
    "duration": 13,
    "start_time": "2024-11-18T19:46:32.766Z"
   },
   {
    "duration": 51,
    "start_time": "2024-11-18T19:46:32.781Z"
   },
   {
    "duration": 105,
    "start_time": "2024-11-18T19:46:32.920Z"
   },
   {
    "duration": 21,
    "start_time": "2024-11-18T19:46:33.027Z"
   },
   {
    "duration": 75,
    "start_time": "2024-11-18T19:46:33.051Z"
   },
   {
    "duration": 11,
    "start_time": "2024-11-18T19:46:33.217Z"
   },
   {
    "duration": 16,
    "start_time": "2024-11-18T19:46:33.230Z"
   },
   {
    "duration": 70,
    "start_time": "2024-11-18T19:46:33.248Z"
   },
   {
    "duration": 98,
    "start_time": "2024-11-18T19:46:33.321Z"
   },
   {
    "duration": 6,
    "start_time": "2024-11-18T19:46:33.421Z"
   },
   {
    "duration": 9,
    "start_time": "2024-11-18T19:46:33.429Z"
   },
   {
    "duration": 16,
    "start_time": "2024-11-18T19:46:33.440Z"
   },
   {
    "duration": 3,
    "start_time": "2024-11-18T19:46:33.458Z"
   },
   {
    "duration": 29,
    "start_time": "2024-11-18T19:46:33.463Z"
   },
   {
    "duration": 3,
    "start_time": "2024-11-18T19:46:33.494Z"
   },
   {
    "duration": 1176,
    "start_time": "2024-11-18T19:46:33.499Z"
   },
   {
    "duration": 1126,
    "start_time": "2024-11-18T19:46:34.676Z"
   },
   {
    "duration": 1131,
    "start_time": "2024-11-18T19:46:35.806Z"
   },
   {
    "duration": 1156,
    "start_time": "2024-11-18T19:50:38.989Z"
   },
   {
    "duration": 1190,
    "start_time": "2024-11-18T19:55:29.944Z"
   },
   {
    "duration": 1136,
    "start_time": "2024-11-18T19:55:47.628Z"
   },
   {
    "duration": 1188,
    "start_time": "2024-11-18T19:56:42.773Z"
   },
   {
    "duration": 1126,
    "start_time": "2024-11-18T19:56:46.396Z"
   },
   {
    "duration": 1158,
    "start_time": "2024-11-18T19:56:54.004Z"
   },
   {
    "duration": 6,
    "start_time": "2024-11-18T21:09:53.244Z"
   },
   {
    "duration": 0,
    "start_time": "2024-11-18T21:09:53.251Z"
   },
   {
    "duration": 0,
    "start_time": "2024-11-18T21:09:53.252Z"
   },
   {
    "duration": 5,
    "start_time": "2024-11-18T21:09:53.262Z"
   },
   {
    "duration": 0,
    "start_time": "2024-11-18T21:09:53.268Z"
   },
   {
    "duration": 0,
    "start_time": "2024-11-18T21:09:53.269Z"
   },
   {
    "duration": 0,
    "start_time": "2024-11-18T21:09:53.270Z"
   },
   {
    "duration": 5,
    "start_time": "2024-11-18T21:09:53.275Z"
   },
   {
    "duration": 0,
    "start_time": "2024-11-18T21:09:53.282Z"
   },
   {
    "duration": 0,
    "start_time": "2024-11-18T21:09:53.283Z"
   },
   {
    "duration": 0,
    "start_time": "2024-11-18T21:09:53.284Z"
   },
   {
    "duration": 0,
    "start_time": "2024-11-18T21:09:53.285Z"
   },
   {
    "duration": 0,
    "start_time": "2024-11-18T21:09:53.285Z"
   },
   {
    "duration": 0,
    "start_time": "2024-11-18T21:09:53.286Z"
   },
   {
    "duration": 9,
    "start_time": "2024-11-18T21:09:53.288Z"
   },
   {
    "duration": 0,
    "start_time": "2024-11-18T21:09:53.298Z"
   },
   {
    "duration": 0,
    "start_time": "2024-11-18T21:09:53.299Z"
   },
   {
    "duration": 0,
    "start_time": "2024-11-18T21:09:53.300Z"
   },
   {
    "duration": 0,
    "start_time": "2024-11-18T21:09:53.301Z"
   },
   {
    "duration": 0,
    "start_time": "2024-11-18T21:09:53.302Z"
   },
   {
    "duration": 0,
    "start_time": "2024-11-18T21:09:53.302Z"
   },
   {
    "duration": 0,
    "start_time": "2024-11-18T21:09:53.303Z"
   },
   {
    "duration": 0,
    "start_time": "2024-11-18T21:09:53.304Z"
   },
   {
    "duration": 0,
    "start_time": "2024-11-18T21:09:53.305Z"
   },
   {
    "duration": 0,
    "start_time": "2024-11-18T21:09:53.306Z"
   },
   {
    "duration": 0,
    "start_time": "2024-11-18T21:09:53.307Z"
   },
   {
    "duration": 0,
    "start_time": "2024-11-18T21:09:53.308Z"
   },
   {
    "duration": 0,
    "start_time": "2024-11-18T21:09:53.309Z"
   },
   {
    "duration": 3448,
    "start_time": "2024-11-18T21:09:57.231Z"
   },
   {
    "duration": 524,
    "start_time": "2024-11-18T21:10:02.975Z"
   },
   {
    "duration": 199,
    "start_time": "2024-11-18T21:10:03.501Z"
   },
   {
    "duration": 188,
    "start_time": "2024-11-18T21:10:03.701Z"
   },
   {
    "duration": 12,
    "start_time": "2024-11-18T21:10:11.455Z"
   },
   {
    "duration": 41,
    "start_time": "2024-11-18T21:10:11.538Z"
   },
   {
    "duration": 12,
    "start_time": "2024-11-18T21:10:11.638Z"
   },
   {
    "duration": 37,
    "start_time": "2024-11-18T21:10:11.704Z"
   },
   {
    "duration": 12,
    "start_time": "2024-11-18T21:10:11.792Z"
   },
   {
    "duration": 41,
    "start_time": "2024-11-18T21:10:11.874Z"
   },
   {
    "duration": 11,
    "start_time": "2024-11-18T21:10:12.805Z"
   },
   {
    "duration": 42,
    "start_time": "2024-11-18T21:10:12.818Z"
   },
   {
    "duration": 9,
    "start_time": "2024-11-18T21:10:12.861Z"
   },
   {
    "duration": 13,
    "start_time": "2024-11-18T21:10:12.962Z"
   },
   {
    "duration": 13,
    "start_time": "2024-11-18T21:10:13.053Z"
   },
   {
    "duration": 8,
    "start_time": "2024-11-18T21:10:13.258Z"
   },
   {
    "duration": 15,
    "start_time": "2024-11-18T21:10:13.456Z"
   },
   {
    "duration": 12,
    "start_time": "2024-11-18T21:10:13.625Z"
   },
   {
    "duration": 8,
    "start_time": "2024-11-18T21:10:13.797Z"
   },
   {
    "duration": 3,
    "start_time": "2024-11-18T21:10:14.044Z"
   },
   {
    "duration": 3,
    "start_time": "2024-11-18T21:10:14.295Z"
   },
   {
    "duration": 5,
    "start_time": "2024-11-18T21:10:14.461Z"
   },
   {
    "duration": 3,
    "start_time": "2024-11-18T21:10:14.878Z"
   },
   {
    "duration": 16,
    "start_time": "2024-11-18T21:10:15.047Z"
   },
   {
    "duration": 3,
    "start_time": "2024-11-18T21:10:15.130Z"
   },
   {
    "duration": 944,
    "start_time": "2024-11-18T21:10:15.214Z"
   },
   {
    "duration": 924,
    "start_time": "2024-11-18T21:10:16.160Z"
   },
   {
    "duration": 918,
    "start_time": "2024-11-18T21:10:17.085Z"
   },
   {
    "duration": 81,
    "start_time": "2024-11-18T21:11:46.494Z"
   },
   {
    "duration": 3,
    "start_time": "2024-11-18T21:11:53.871Z"
   },
   {
    "duration": 929,
    "start_time": "2024-11-18T21:11:59.787Z"
   },
   {
    "duration": 74,
    "start_time": "2024-11-19T22:58:03.655Z"
   },
   {
    "duration": 1051,
    "start_time": "2024-11-19T22:58:20.730Z"
   },
   {
    "duration": 482,
    "start_time": "2024-11-19T22:58:21.782Z"
   },
   {
    "duration": 186,
    "start_time": "2024-11-19T22:58:22.266Z"
   },
   {
    "duration": 219,
    "start_time": "2024-11-19T22:58:22.453Z"
   },
   {
    "duration": 14,
    "start_time": "2024-11-19T22:58:22.675Z"
   },
   {
    "duration": 42,
    "start_time": "2024-11-19T22:58:22.690Z"
   },
   {
    "duration": 12,
    "start_time": "2024-11-19T22:58:22.733Z"
   },
   {
    "duration": 39,
    "start_time": "2024-11-19T22:58:22.746Z"
   },
   {
    "duration": 26,
    "start_time": "2024-11-19T22:58:22.786Z"
   },
   {
    "duration": 41,
    "start_time": "2024-11-19T22:58:22.813Z"
   },
   {
    "duration": 11,
    "start_time": "2024-11-19T22:58:22.856Z"
   },
   {
    "duration": 42,
    "start_time": "2024-11-19T22:58:22.868Z"
   },
   {
    "duration": 97,
    "start_time": "2024-11-19T22:58:22.911Z"
   },
   {
    "duration": 100,
    "start_time": "2024-11-19T22:58:23.011Z"
   },
   {
    "duration": 19,
    "start_time": "2024-11-19T22:58:23.112Z"
   },
   {
    "duration": 96,
    "start_time": "2024-11-19T22:58:23.212Z"
   },
   {
    "duration": 32,
    "start_time": "2024-11-19T22:58:23.310Z"
   },
   {
    "duration": 14,
    "start_time": "2024-11-19T22:58:23.343Z"
   },
   {
    "duration": 57,
    "start_time": "2024-11-19T22:58:23.359Z"
   },
   {
    "duration": 2,
    "start_time": "2024-11-19T22:58:23.508Z"
   },
   {
    "duration": 5,
    "start_time": "2024-11-19T22:58:23.511Z"
   },
   {
    "duration": 5,
    "start_time": "2024-11-19T22:58:23.517Z"
   },
   {
    "duration": 18,
    "start_time": "2024-11-19T22:58:23.523Z"
   },
   {
    "duration": 22,
    "start_time": "2024-11-19T22:58:23.542Z"
   },
   {
    "duration": 3,
    "start_time": "2024-11-19T22:58:23.565Z"
   },
   {
    "duration": 927,
    "start_time": "2024-11-19T22:58:23.569Z"
   },
   {
    "duration": 940,
    "start_time": "2024-11-19T22:58:24.497Z"
   },
   {
    "duration": 882,
    "start_time": "2024-11-19T22:58:25.438Z"
   },
   {
    "duration": 486,
    "start_time": "2024-11-19T23:07:34.581Z"
   },
   {
    "duration": 912,
    "start_time": "2024-11-19T23:07:47.292Z"
   },
   {
    "duration": 914,
    "start_time": "2024-11-19T23:07:59.955Z"
   }
  ],
  "kernelspec": {
   "display_name": "Python 3 (ipykernel)",
   "language": "python",
   "name": "python3"
  },
  "language_info": {
   "codemirror_mode": {
    "name": "ipython",
    "version": 3
   },
   "file_extension": ".py",
   "mimetype": "text/x-python",
   "name": "python",
   "nbconvert_exporter": "python",
   "pygments_lexer": "ipython3",
   "version": "3.9.5"
  },
  "toc": {
   "base_numbering": 1,
   "nav_menu": {},
   "number_sections": true,
   "sideBar": true,
   "skip_h1_title": true,
   "title_cell": "Table of Contents",
   "title_sidebar": "Contents",
   "toc_cell": false,
   "toc_position": {
    "height": "calc(100% - 180px)",
    "left": "10px",
    "top": "150px",
    "width": "266.614px"
   },
   "toc_section_display": true,
   "toc_window_display": true
  }
 },
 "nbformat": 4,
 "nbformat_minor": 2
}
