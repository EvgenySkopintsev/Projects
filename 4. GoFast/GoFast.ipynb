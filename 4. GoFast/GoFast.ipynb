{
 "cells": [
  {
   "cell_type": "code",
   "execution_count": 1,
   "id": "72576667",
   "metadata": {},
   "outputs": [],
   "source": [
    "import pandas as pd\n",
    "from scipy import stats as st\n",
    "import matplotlib.pyplot as plt\n",
    "import numpy as np"
   ]
  },
  {
   "cell_type": "markdown",
   "id": "c42cbe00",
   "metadata": {},
   "source": [
    "#### Шаг 1. Загрузка данных"
   ]
  },
  {
   "cell_type": "code",
   "execution_count": 2,
   "id": "eff9f206",
   "metadata": {},
   "outputs": [],
   "source": [
    "users = pd.read_csv('/datasets/users_go.csv')\n",
    "rides = pd.read_csv('/datasets/rides_go.csv')\n",
    "subscriptions = pd.read_csv('/datasets/subscriptions_go.csv')"
   ]
  },
  {
   "cell_type": "code",
   "execution_count": 3,
   "id": "fb4c990a",
   "metadata": {
    "scrolled": false
   },
   "outputs": [
    {
     "name": "stdout",
     "output_type": "stream",
     "text": [
      "<class 'pandas.core.frame.DataFrame'>\n",
      "RangeIndex: 1565 entries, 0 to 1564\n",
      "Data columns (total 5 columns):\n",
      " #   Column             Non-Null Count  Dtype \n",
      "---  ------             --------------  ----- \n",
      " 0   user_id            1565 non-null   int64 \n",
      " 1   name               1565 non-null   object\n",
      " 2   age                1565 non-null   int64 \n",
      " 3   city               1565 non-null   object\n",
      " 4   subscription_type  1565 non-null   object\n",
      "dtypes: int64(2), object(3)\n",
      "memory usage: 61.3+ KB\n"
     ]
    },
    {
     "data": {
      "text/html": [
       "<div>\n",
       "<style scoped>\n",
       "    .dataframe tbody tr th:only-of-type {\n",
       "        vertical-align: middle;\n",
       "    }\n",
       "\n",
       "    .dataframe tbody tr th {\n",
       "        vertical-align: top;\n",
       "    }\n",
       "\n",
       "    .dataframe thead th {\n",
       "        text-align: right;\n",
       "    }\n",
       "</style>\n",
       "<table border=\"1\" class=\"dataframe\">\n",
       "  <thead>\n",
       "    <tr style=\"text-align: right;\">\n",
       "      <th></th>\n",
       "      <th>user_id</th>\n",
       "      <th>name</th>\n",
       "      <th>age</th>\n",
       "      <th>city</th>\n",
       "      <th>subscription_type</th>\n",
       "    </tr>\n",
       "  </thead>\n",
       "  <tbody>\n",
       "    <tr>\n",
       "      <th>0</th>\n",
       "      <td>1</td>\n",
       "      <td>Кира</td>\n",
       "      <td>22</td>\n",
       "      <td>Тюмень</td>\n",
       "      <td>ultra</td>\n",
       "    </tr>\n",
       "    <tr>\n",
       "      <th>1</th>\n",
       "      <td>2</td>\n",
       "      <td>Станислав</td>\n",
       "      <td>31</td>\n",
       "      <td>Омск</td>\n",
       "      <td>ultra</td>\n",
       "    </tr>\n",
       "    <tr>\n",
       "      <th>2</th>\n",
       "      <td>3</td>\n",
       "      <td>Алексей</td>\n",
       "      <td>20</td>\n",
       "      <td>Москва</td>\n",
       "      <td>ultra</td>\n",
       "    </tr>\n",
       "    <tr>\n",
       "      <th>3</th>\n",
       "      <td>4</td>\n",
       "      <td>Константин</td>\n",
       "      <td>26</td>\n",
       "      <td>Ростов-на-Дону</td>\n",
       "      <td>ultra</td>\n",
       "    </tr>\n",
       "    <tr>\n",
       "      <th>4</th>\n",
       "      <td>5</td>\n",
       "      <td>Адель</td>\n",
       "      <td>28</td>\n",
       "      <td>Омск</td>\n",
       "      <td>ultra</td>\n",
       "    </tr>\n",
       "  </tbody>\n",
       "</table>\n",
       "</div>"
      ],
      "text/plain": [
       "   user_id        name  age            city subscription_type\n",
       "0        1        Кира   22          Тюмень             ultra\n",
       "1        2   Станислав   31            Омск             ultra\n",
       "2        3     Алексей   20          Москва             ultra\n",
       "3        4  Константин   26  Ростов-на-Дону             ultra\n",
       "4        5       Адель   28            Омск             ultra"
      ]
     },
     "execution_count": 3,
     "metadata": {},
     "output_type": "execute_result"
    }
   ],
   "source": [
    "users.info()\n",
    "users.head()"
   ]
  },
  {
   "cell_type": "code",
   "execution_count": 4,
   "id": "954edc4d",
   "metadata": {},
   "outputs": [
    {
     "name": "stdout",
     "output_type": "stream",
     "text": [
      "<class 'pandas.core.frame.DataFrame'>\n",
      "RangeIndex: 18068 entries, 0 to 18067\n",
      "Data columns (total 4 columns):\n",
      " #   Column    Non-Null Count  Dtype  \n",
      "---  ------    --------------  -----  \n",
      " 0   user_id   18068 non-null  int64  \n",
      " 1   distance  18068 non-null  float64\n",
      " 2   duration  18068 non-null  float64\n",
      " 3   date      18068 non-null  object \n",
      "dtypes: float64(2), int64(1), object(1)\n",
      "memory usage: 564.8+ KB\n"
     ]
    },
    {
     "data": {
      "text/html": [
       "<div>\n",
       "<style scoped>\n",
       "    .dataframe tbody tr th:only-of-type {\n",
       "        vertical-align: middle;\n",
       "    }\n",
       "\n",
       "    .dataframe tbody tr th {\n",
       "        vertical-align: top;\n",
       "    }\n",
       "\n",
       "    .dataframe thead th {\n",
       "        text-align: right;\n",
       "    }\n",
       "</style>\n",
       "<table border=\"1\" class=\"dataframe\">\n",
       "  <thead>\n",
       "    <tr style=\"text-align: right;\">\n",
       "      <th></th>\n",
       "      <th>user_id</th>\n",
       "      <th>distance</th>\n",
       "      <th>duration</th>\n",
       "      <th>date</th>\n",
       "    </tr>\n",
       "  </thead>\n",
       "  <tbody>\n",
       "    <tr>\n",
       "      <th>0</th>\n",
       "      <td>1</td>\n",
       "      <td>4409.919140</td>\n",
       "      <td>25.599769</td>\n",
       "      <td>2021-01-01</td>\n",
       "    </tr>\n",
       "    <tr>\n",
       "      <th>1</th>\n",
       "      <td>1</td>\n",
       "      <td>2617.592153</td>\n",
       "      <td>15.816871</td>\n",
       "      <td>2021-01-18</td>\n",
       "    </tr>\n",
       "    <tr>\n",
       "      <th>2</th>\n",
       "      <td>1</td>\n",
       "      <td>754.159807</td>\n",
       "      <td>6.232113</td>\n",
       "      <td>2021-04-20</td>\n",
       "    </tr>\n",
       "    <tr>\n",
       "      <th>3</th>\n",
       "      <td>1</td>\n",
       "      <td>2694.783254</td>\n",
       "      <td>18.511000</td>\n",
       "      <td>2021-08-11</td>\n",
       "    </tr>\n",
       "    <tr>\n",
       "      <th>4</th>\n",
       "      <td>1</td>\n",
       "      <td>4028.687306</td>\n",
       "      <td>26.265803</td>\n",
       "      <td>2021-08-28</td>\n",
       "    </tr>\n",
       "  </tbody>\n",
       "</table>\n",
       "</div>"
      ],
      "text/plain": [
       "   user_id     distance   duration        date\n",
       "0        1  4409.919140  25.599769  2021-01-01\n",
       "1        1  2617.592153  15.816871  2021-01-18\n",
       "2        1   754.159807   6.232113  2021-04-20\n",
       "3        1  2694.783254  18.511000  2021-08-11\n",
       "4        1  4028.687306  26.265803  2021-08-28"
      ]
     },
     "execution_count": 4,
     "metadata": {},
     "output_type": "execute_result"
    }
   ],
   "source": [
    "rides.info()\n",
    "rides.head()"
   ]
  },
  {
   "cell_type": "code",
   "execution_count": 5,
   "id": "f54badc1",
   "metadata": {},
   "outputs": [
    {
     "name": "stdout",
     "output_type": "stream",
     "text": [
      "<class 'pandas.core.frame.DataFrame'>\n",
      "RangeIndex: 2 entries, 0 to 1\n",
      "Data columns (total 4 columns):\n",
      " #   Column             Non-Null Count  Dtype \n",
      "---  ------             --------------  ----- \n",
      " 0   subscription_type  2 non-null      object\n",
      " 1   minute_price       2 non-null      int64 \n",
      " 2   start_ride_price   2 non-null      int64 \n",
      " 3   subscription_fee   2 non-null      int64 \n",
      "dtypes: int64(3), object(1)\n",
      "memory usage: 192.0+ bytes\n"
     ]
    },
    {
     "data": {
      "text/html": [
       "<div>\n",
       "<style scoped>\n",
       "    .dataframe tbody tr th:only-of-type {\n",
       "        vertical-align: middle;\n",
       "    }\n",
       "\n",
       "    .dataframe tbody tr th {\n",
       "        vertical-align: top;\n",
       "    }\n",
       "\n",
       "    .dataframe thead th {\n",
       "        text-align: right;\n",
       "    }\n",
       "</style>\n",
       "<table border=\"1\" class=\"dataframe\">\n",
       "  <thead>\n",
       "    <tr style=\"text-align: right;\">\n",
       "      <th></th>\n",
       "      <th>subscription_type</th>\n",
       "      <th>minute_price</th>\n",
       "      <th>start_ride_price</th>\n",
       "      <th>subscription_fee</th>\n",
       "    </tr>\n",
       "  </thead>\n",
       "  <tbody>\n",
       "    <tr>\n",
       "      <th>0</th>\n",
       "      <td>free</td>\n",
       "      <td>8</td>\n",
       "      <td>50</td>\n",
       "      <td>0</td>\n",
       "    </tr>\n",
       "    <tr>\n",
       "      <th>1</th>\n",
       "      <td>ultra</td>\n",
       "      <td>6</td>\n",
       "      <td>0</td>\n",
       "      <td>199</td>\n",
       "    </tr>\n",
       "  </tbody>\n",
       "</table>\n",
       "</div>"
      ],
      "text/plain": [
       "  subscription_type  minute_price  start_ride_price  subscription_fee\n",
       "0              free             8                50                 0\n",
       "1             ultra             6                 0               199"
      ]
     },
     "execution_count": 5,
     "metadata": {},
     "output_type": "execute_result"
    }
   ],
   "source": [
    "subscriptions.info()\n",
    "subscriptions.head()"
   ]
  },
  {
   "cell_type": "markdown",
   "id": "e95ebca7",
   "metadata": {},
   "source": [
    "#### Шаг 2. Предобработка данных"
   ]
  },
  {
   "cell_type": "markdown",
   "id": "6ab8abd4",
   "metadata": {},
   "source": [
    "##### Приведем столбец, содержащий дату в датафрейме rides, к формату Datetime"
   ]
  },
  {
   "cell_type": "code",
   "execution_count": 6,
   "id": "784a51ea",
   "metadata": {},
   "outputs": [],
   "source": [
    "rides['date'] = pd.to_datetime(rides['date'], format='%Y-%m-%d')"
   ]
  },
  {
   "cell_type": "markdown",
   "id": "24fad841",
   "metadata": {},
   "source": [
    "##### В датафрейме rides на основе столца 'date' создадим столбец 'month', содержащий номер месяца."
   ]
  },
  {
   "cell_type": "code",
   "execution_count": 7,
   "id": "85c0b63c",
   "metadata": {},
   "outputs": [],
   "source": [
    "rides['month'] = pd.DatetimeIndex(rides['date']).month"
   ]
  },
  {
   "cell_type": "markdown",
   "id": "c69d5f5d",
   "metadata": {},
   "source": [
    "##### Проверим датафреймы на наличие дупликатов, удалим их, если есть."
   ]
  },
  {
   "cell_type": "code",
   "execution_count": 8,
   "id": "af6d202c",
   "metadata": {},
   "outputs": [
    {
     "data": {
      "text/plain": [
       "31"
      ]
     },
     "execution_count": 8,
     "metadata": {},
     "output_type": "execute_result"
    }
   ],
   "source": [
    "users.duplicated().sum()"
   ]
  },
  {
   "cell_type": "code",
   "execution_count": 9,
   "id": "9208c6ad",
   "metadata": {},
   "outputs": [],
   "source": [
    "users.drop_duplicates(inplace=True)"
   ]
  },
  {
   "cell_type": "code",
   "execution_count": 10,
   "id": "42aee821",
   "metadata": {},
   "outputs": [
    {
     "data": {
      "text/plain": [
       "0"
      ]
     },
     "execution_count": 10,
     "metadata": {},
     "output_type": "execute_result"
    }
   ],
   "source": [
    "rides.duplicated().sum()"
   ]
  },
  {
   "cell_type": "code",
   "execution_count": 11,
   "id": "8da603d8",
   "metadata": {},
   "outputs": [
    {
     "data": {
      "text/plain": [
       "0"
      ]
     },
     "execution_count": 11,
     "metadata": {},
     "output_type": "execute_result"
    }
   ],
   "source": [
    "subscriptions.duplicated().sum()"
   ]
  },
  {
   "cell_type": "markdown",
   "id": "212593c7",
   "metadata": {},
   "source": [
    "#### Шаг 3. Исследовательский анализ данных"
   ]
  },
  {
   "cell_type": "markdown",
   "id": "b0bbccaa",
   "metadata": {},
   "source": [
    "##### Частота встречаемости городов"
   ]
  },
  {
   "cell_type": "code",
   "execution_count": 12,
   "id": "e3a4274c",
   "metadata": {},
   "outputs": [
    {
     "data": {
      "text/html": [
       "<div>\n",
       "<style scoped>\n",
       "    .dataframe tbody tr th:only-of-type {\n",
       "        vertical-align: middle;\n",
       "    }\n",
       "\n",
       "    .dataframe tbody tr th {\n",
       "        vertical-align: top;\n",
       "    }\n",
       "\n",
       "    .dataframe thead th {\n",
       "        text-align: right;\n",
       "    }\n",
       "</style>\n",
       "<table border=\"1\" class=\"dataframe\">\n",
       "  <thead>\n",
       "    <tr style=\"text-align: right;\">\n",
       "      <th></th>\n",
       "      <th>count</th>\n",
       "    </tr>\n",
       "  </thead>\n",
       "  <tbody>\n",
       "    <tr>\n",
       "      <th>count</th>\n",
       "      <td>8.000000</td>\n",
       "    </tr>\n",
       "    <tr>\n",
       "      <th>mean</th>\n",
       "      <td>191.750000</td>\n",
       "    </tr>\n",
       "    <tr>\n",
       "      <th>std</th>\n",
       "      <td>15.672998</td>\n",
       "    </tr>\n",
       "    <tr>\n",
       "      <th>min</th>\n",
       "      <td>168.000000</td>\n",
       "    </tr>\n",
       "    <tr>\n",
       "      <th>25%</th>\n",
       "      <td>182.250000</td>\n",
       "    </tr>\n",
       "    <tr>\n",
       "      <th>50%</th>\n",
       "      <td>191.000000</td>\n",
       "    </tr>\n",
       "    <tr>\n",
       "      <th>75%</th>\n",
       "      <td>199.500000</td>\n",
       "    </tr>\n",
       "    <tr>\n",
       "      <th>max</th>\n",
       "      <td>219.000000</td>\n",
       "    </tr>\n",
       "  </tbody>\n",
       "</table>\n",
       "</div>"
      ],
      "text/plain": [
       "            count\n",
       "count    8.000000\n",
       "mean   191.750000\n",
       "std     15.672998\n",
       "min    168.000000\n",
       "25%    182.250000\n",
       "50%    191.000000\n",
       "75%    199.500000\n",
       "max    219.000000"
      ]
     },
     "execution_count": 12,
     "metadata": {},
     "output_type": "execute_result"
    }
   ],
   "source": [
    "cities = users.pivot_table(index='city', values='user_id', aggfunc = 'count')\n",
    "cities.columns = ['count']\n",
    "cities.sort_values(by='count', ascending=False, inplace=True)\n",
    "cities.describe()"
   ]
  },
  {
   "cell_type": "code",
   "execution_count": 13,
   "id": "44fa7493",
   "metadata": {},
   "outputs": [
    {
     "data": {
      "text/plain": [
       "Пятигорск         219\n",
       "Екатеринбург      204\n",
       "Ростов-на-Дону    198\n",
       "Краснодар         193\n",
       "Сочи              189\n",
       "Омск              183\n",
       "Тюмень            180\n",
       "Москва            168\n",
       "Name: city, dtype: int64"
      ]
     },
     "execution_count": 13,
     "metadata": {},
     "output_type": "execute_result"
    }
   ],
   "source": [
    "users['city'].value_counts()"
   ]
  },
  {
   "cell_type": "code",
   "execution_count": 14,
   "id": "13285e84",
   "metadata": {
    "scrolled": false
   },
   "outputs": [
    {
     "data": {
      "image/png": "[encoded data removed]",
      "text/plain": [
       "<Figure size 720x360 with 1 Axes>"
      ]
     },
     "metadata": {
      "needs_background": "light"
     },
     "output_type": "display_data"
    }
   ],
   "source": [
    "xs = cities.index\n",
    "ys = cities['count']\n",
    "\n",
    "plt.figure(figsize=(10,5));\n",
    "plt.barh(xs,ys)\n",
    "\n",
    "for x,y in zip(xs,ys):\n",
    "    label = \"{:.0f}\".format(y)\n",
    "    plt.annotate(label, \n",
    "                 (y,x), \n",
    "                 textcoords=\"offset points\", \n",
    "                 xytext=(10,-5), \n",
    "                 ha='center')\n",
    "plt.title('Распределение пользователей по городам')\n",
    "plt.xlabel('Количесство пользователей');"
   ]
  },
  {
   "cell_type": "markdown",
   "id": "eb6e1cce",
   "metadata": {},
   "source": [
    "Всего в выборке представлено 8 городов.   \n",
    "В среднем по 191 уникальному пользователю на город, с наибольшим количеством в Пятигорске (219)."
   ]
  },
  {
   "cell_type": "markdown",
   "id": "fcbe3de5",
   "metadata": {},
   "source": [
    "##### Соотношение пользователей с подпиской и без подписки"
   ]
  },
  {
   "cell_type": "code",
   "execution_count": 15,
   "id": "8769eb05",
   "metadata": {},
   "outputs": [
    {
     "data": {
      "text/plain": [
       "free     835\n",
       "ultra    699\n",
       "Name: subscription_type, dtype: int64"
      ]
     },
     "execution_count": 15,
     "metadata": {},
     "output_type": "execute_result"
    },
    {
     "data": {
      "image/png": "[encoded data removed]",
      "text/plain": [
       "<Figure size 360x360 with 1 Axes>"
      ]
     },
     "metadata": {},
     "output_type": "display_data"
    }
   ],
   "source": [
    "tariff_data = users.pivot_table(index='subscription_type', values='user_id', aggfunc='count')\n",
    "tariff_data.columns = ['count']\n",
    "tariff_data.plot(y='count', kind='pie', figsize=(5,5), autopct='%1.1f%%');\n",
    "users['subscription_type'].value_counts()"
   ]
  },
  {
   "cell_type": "markdown",
   "id": "474c06b2",
   "metadata": {},
   "source": [
    "Всего в выборке представлено 1534 уникальных пользователей, из которых 835 (54.4%) без подписки, и 699 (45.6%) с подпиской."
   ]
  },
  {
   "cell_type": "markdown",
   "id": "dfcef72f",
   "metadata": {},
   "source": [
    "##### Возраст пользователей"
   ]
  },
  {
   "cell_type": "code",
   "execution_count": 16,
   "id": "9024e09a",
   "metadata": {},
   "outputs": [
    {
     "data": {
      "text/plain": [
       "count    1534.000000\n",
       "mean       24.903520\n",
       "std         4.572367\n",
       "min        12.000000\n",
       "25%        22.000000\n",
       "50%        25.000000\n",
       "75%        28.000000\n",
       "max        43.000000\n",
       "Name: age, dtype: float64"
      ]
     },
     "execution_count": 16,
     "metadata": {},
     "output_type": "execute_result"
    },
    {
     "data": {
      "image/png": "[encoded data removed]",
      "text/plain": [
       "<Figure size 720x360 with 1 Axes>"
      ]
     },
     "metadata": {
      "needs_background": "light"
     },
     "output_type": "display_data"
    }
   ],
   "source": [
    "users.plot(y = 'age', kind = 'hist', bins = 12, grid=True, figsize = (10,5), range = (12,50))\n",
    "users['age'].describe()"
   ]
  },
  {
   "cell_type": "markdown",
   "id": "ed672985",
   "metadata": {},
   "source": [
    "Средний возраст пользователя - 24.9 лет, медианный - 25 лет.   \n",
    "График возраста пользователей напоминает график нормального распределения на отрезке от 18 до 75 лет с пиком на значении 25 лет. "
   ]
  },
  {
   "cell_type": "markdown",
   "id": "a092cfe4",
   "metadata": {},
   "source": [
    "##### Расстояние поездок"
   ]
  },
  {
   "cell_type": "code",
   "execution_count": 17,
   "id": "0128ccd9",
   "metadata": {},
   "outputs": [
    {
     "data": {
      "text/plain": [
       "count    18068.000000\n",
       "mean      3070.659976\n",
       "std       1116.831209\n",
       "min          0.855683\n",
       "25%       2543.226360\n",
       "50%       3133.609994\n",
       "75%       3776.222735\n",
       "max       7211.007745\n",
       "Name: distance, dtype: float64"
      ]
     },
     "execution_count": 17,
     "metadata": {},
     "output_type": "execute_result"
    },
    {
     "data": {
      "image/png": "[encoded data removed]",
      "text/plain": [
       "<Figure size 1080x360 with 1 Axes>"
      ]
     },
     "metadata": {
      "needs_background": "light"
     },
     "output_type": "display_data"
    }
   ],
   "source": [
    "rides.plot(y = 'distance', kind = 'hist', bins = 100, grid=True, figsize = (15,5), range = (0,8000))\n",
    "rides['distance'].describe()"
   ]
  },
  {
   "cell_type": "markdown",
   "id": "1f5dae72",
   "metadata": {},
   "source": [
    "Среднее расстояние поездки - 3071 метр.  \n",
    "Медианное расстояние поездки - 3134 метра.  \n",
    "На графие определяются два пика значений: первый (слабовыраженный по сравнению со вторым) - на уровне около 700 метров; второй - на уровне около 3000 метров.  \n",
    "Большинство значений укладываются в диапазон 0-6000 метров."
   ]
  },
  {
   "cell_type": "markdown",
   "id": "368fa68c",
   "metadata": {},
   "source": [
    "##### Продолжительность поездок"
   ]
  },
  {
   "cell_type": "code",
   "execution_count": 18,
   "id": "c036b4f0",
   "metadata": {
    "scrolled": false
   },
   "outputs": [
    {
     "data": {
      "text/plain": [
       "count    18068.000000\n",
       "mean        17.805011\n",
       "std          6.091051\n",
       "min          0.500000\n",
       "25%         13.597563\n",
       "50%         17.678395\n",
       "75%         21.724800\n",
       "max         40.823963\n",
       "Name: duration, dtype: float64"
      ]
     },
     "execution_count": 18,
     "metadata": {},
     "output_type": "execute_result"
    },
    {
     "data": {
      "image/png": "[encoded data removed]",
      "text/plain": [
       "<Figure size 1080x360 with 1 Axes>"
      ]
     },
     "metadata": {
      "needs_background": "light"
     },
     "output_type": "display_data"
    }
   ],
   "source": [
    "rides.plot(y = 'duration', kind = 'hist', bins = 45, grid=True, figsize = (15,5), range = (0,45))\n",
    "rides['duration'].describe()"
   ]
  },
  {
   "cell_type": "markdown",
   "id": "ab818ad2",
   "metadata": {},
   "source": [
    "Рассмотрим отдельно поездки, длительностью до минуты."
   ]
  },
  {
   "cell_type": "code",
   "execution_count": 19,
   "id": "a543280b",
   "metadata": {},
   "outputs": [
    {
     "data": {
      "text/plain": [
       "count      95.000000\n",
       "mean     5113.176549\n",
       "std       658.254104\n",
       "min      4030.308008\n",
       "25%      4611.510820\n",
       "50%      5052.769411\n",
       "75%      5488.459099\n",
       "max      7211.007745\n",
       "Name: distance, dtype: float64"
      ]
     },
     "execution_count": 19,
     "metadata": {},
     "output_type": "execute_result"
    }
   ],
   "source": [
    "rides.query('duration < 1')['distance'].describe()"
   ]
  },
  {
   "cell_type": "markdown",
   "id": "6538cc25",
   "metadata": {},
   "source": [
    "В выборке поездок менее минуты минимальное расстояние поездки - 4030 метров, при среднем в 5113 метров. Это явные аномалии, удалим их из выборки."
   ]
  },
  {
   "cell_type": "code",
   "execution_count": 20,
   "id": "91e8dc64",
   "metadata": {},
   "outputs": [
    {
     "data": {
      "text/plain": [
       "count    17973.000000\n",
       "mean        17.896480\n",
       "std          5.975424\n",
       "min          2.035632\n",
       "25%         13.670439\n",
       "50%         17.714122\n",
       "75%         21.747016\n",
       "max         40.823963\n",
       "Name: duration, dtype: float64"
      ]
     },
     "execution_count": 20,
     "metadata": {},
     "output_type": "execute_result"
    },
    {
     "data": {
      "image/png": "[encoded data removed]",
      "text/plain": [
       "<Figure size 1080x360 with 1 Axes>"
      ]
     },
     "metadata": {
      "needs_background": "light"
     },
     "output_type": "display_data"
    }
   ],
   "source": [
    "rides = rides.query('duration > 1')\n",
    "rides.plot(y = 'duration', kind = 'hist', bins = 45, grid=True, figsize = (15,5), range = (0,45))\n",
    "rides['duration'].describe()"
   ]
  },
  {
   "cell_type": "markdown",
   "id": "edc12b95",
   "metadata": {},
   "source": [
    "Среднее время поездки - 17.9 минут.  \n",
    "Медианное время поездки - 17.7 минут.   \n",
    "График напоминает нормальное распределение с пиком около 18 минут.  \n",
    "Большинство значений укладываются в диапазон 1-35 минут. Максимальное значение - 40.8 минут."
   ]
  },
  {
   "cell_type": "markdown",
   "id": "4ef51331",
   "metadata": {},
   "source": [
    "#### Шаг 4. Объединение данных"
   ]
  },
  {
   "cell_type": "markdown",
   "id": "abad86d5",
   "metadata": {},
   "source": [
    "##### Объединим данные о пользователях, поездках и подписках в один датафрейм (data)"
   ]
  },
  {
   "cell_type": "code",
   "execution_count": 21,
   "id": "1ffe2ef1",
   "metadata": {},
   "outputs": [
    {
     "name": "stdout",
     "output_type": "stream",
     "text": [
      "<class 'pandas.core.frame.DataFrame'>\n",
      "Int64Index: 17973 entries, 0 to 17972\n",
      "Data columns (total 12 columns):\n",
      " #   Column             Non-Null Count  Dtype         \n",
      "---  ------             --------------  -----         \n",
      " 0   user_id            17973 non-null  int64         \n",
      " 1   distance           17973 non-null  float64       \n",
      " 2   duration           17973 non-null  float64       \n",
      " 3   date               17973 non-null  datetime64[ns]\n",
      " 4   month              17973 non-null  int64         \n",
      " 5   name               17973 non-null  object        \n",
      " 6   age                17973 non-null  int64         \n",
      " 7   city               17973 non-null  object        \n",
      " 8   subscription_type  17973 non-null  object        \n",
      " 9   minute_price       17973 non-null  int64         \n",
      " 10  start_ride_price   17973 non-null  int64         \n",
      " 11  subscription_fee   17973 non-null  int64         \n",
      "dtypes: datetime64[ns](1), float64(2), int64(6), object(3)\n",
      "memory usage: 1.8+ MB\n"
     ]
    }
   ],
   "source": [
    "data = rides.merge(users, on='user_id', how='right')\n",
    "data = data.merge(subscriptions, on='subscription_type', how='left')\n",
    "data.info()"
   ]
  },
  {
   "cell_type": "code",
   "execution_count": 22,
   "id": "c23d1bd6",
   "metadata": {},
   "outputs": [
    {
     "data": {
      "text/plain": [
       "user_id              0\n",
       "distance             0\n",
       "duration             0\n",
       "date                 0\n",
       "month                0\n",
       "name                 0\n",
       "age                  0\n",
       "city                 0\n",
       "subscription_type    0\n",
       "minute_price         0\n",
       "start_ride_price     0\n",
       "subscription_fee     0\n",
       "dtype: int64"
      ]
     },
     "execution_count": 22,
     "metadata": {},
     "output_type": "execute_result"
    }
   ],
   "source": [
    "data.isna().sum()"
   ]
  },
  {
   "cell_type": "markdown",
   "id": "029aa276",
   "metadata": {},
   "source": [
    "##### Из датафрейма data создадим два датафрейма:  ultra - с данными о пользователях с подпиской, smart - с данными о пользователях без подписки."
   ]
  },
  {
   "cell_type": "code",
   "execution_count": 23,
   "id": "7dbef243",
   "metadata": {},
   "outputs": [],
   "source": [
    "ultra = data.query('subscription_type == \"ultra\"')\n",
    "free = data.query('subscription_type == \"free\"')"
   ]
  },
  {
   "cell_type": "markdown",
   "id": "2d1390fa",
   "metadata": {},
   "source": [
    "##### Визуализируем информацию о расстоянии и времени поездок для пользователей обеих категорий."
   ]
  },
  {
   "cell_type": "markdown",
   "id": "b2f32a82",
   "metadata": {},
   "source": [
    "###### Расстояние поездки"
   ]
  },
  {
   "cell_type": "code",
   "execution_count": 24,
   "id": "14b4e09b",
   "metadata": {
    "scrolled": false
   },
   "outputs": [
    {
     "data": {
      "text/plain": [
       "count    6500.000000\n",
       "mean     3115.445388\n",
       "std       836.895330\n",
       "min       244.210438\n",
       "25%      2785.444017\n",
       "50%      3148.637229\n",
       "75%      3560.574425\n",
       "max      5699.769662\n",
       "Name: distance, dtype: float64"
      ]
     },
     "execution_count": 24,
     "metadata": {},
     "output_type": "execute_result"
    }
   ],
   "source": [
    "ultra['distance'].describe()"
   ]
  },
  {
   "cell_type": "markdown",
   "id": "cde7e4df",
   "metadata": {},
   "source": [
    "Расстояние поездки у пользователей с подпиской :  \n",
    "-среднее (3115 метров), медианное (3149 метров)."
   ]
  },
  {
   "cell_type": "code",
   "execution_count": 25,
   "id": "b9085426",
   "metadata": {},
   "outputs": [
    {
     "data": {
      "text/plain": [
       "count    11473.000000\n",
       "mean      3028.374239\n",
       "std       1235.541051\n",
       "min          0.855683\n",
       "25%       2360.878149\n",
       "50%       3102.083025\n",
       "75%       3883.979311\n",
       "max       7066.003772\n",
       "Name: distance, dtype: float64"
      ]
     },
     "execution_count": 25,
     "metadata": {},
     "output_type": "execute_result"
    }
   ],
   "source": [
    "free['distance'].describe()"
   ]
  },
  {
   "cell_type": "markdown",
   "id": "2b9b2354",
   "metadata": {},
   "source": [
    "Расстояние поездки у пользователей без подписки:  \n",
    "-среднее (3028 метров), медианное (3102 метрa)."
   ]
  },
  {
   "cell_type": "code",
   "execution_count": 26,
   "id": "ef047ce6",
   "metadata": {
    "scrolled": true
   },
   "outputs": [
    {
     "data": {
      "image/png": "[encoded data removed]",
      "text/plain": [
       "<Figure size 1080x360 with 1 Axes>"
      ]
     },
     "metadata": {
      "needs_background": "light"
     },
     "output_type": "display_data"
    }
   ],
   "source": [
    "ax = ultra.plot(\n",
    "    kind='hist',\n",
    "    y='distance',\n",
    "    range=(0, 7000),\n",
    "    figsize=(15,5),\n",
    "    bins=100,\n",
    "    alpha=0.6,\n",
    "    label='с подпиской',\n",
    "    title = 'Распределеение расстояния поездок'\n",
    ")\n",
    "free.plot(\n",
    "    kind='hist',\n",
    "    y='distance',\n",
    "    range=(0, 7000),\n",
    "    bins=100,\n",
    "    alpha=0.6,\n",
    "    label='без подписки',\n",
    "    ax=ax,\n",
    "    grid=True,\n",
    "    legend=True,\n",
    ");\n",
    "\n",
    "ax.set_ylabel('Количество поездок');"
   ]
  },
  {
   "cell_type": "markdown",
   "id": "d98cdf67",
   "metadata": {},
   "source": [
    "На графике пользователей без подписки два пика: первый около 500 метров, второй около 3000 метров.  \n",
    "На графике пользователей с подпиской три пика: первый около 1000 метров, второй около 3000 метров, третий около 4000 метров."
   ]
  },
  {
   "cell_type": "markdown",
   "id": "8a51594c",
   "metadata": {},
   "source": [
    "###### Время поездки"
   ]
  },
  {
   "cell_type": "code",
   "execution_count": 27,
   "id": "923a287c",
   "metadata": {},
   "outputs": [
    {
     "data": {
      "text/plain": [
       "count    6500.000000\n",
       "mean       18.541985\n",
       "std         5.572048\n",
       "min         3.760353\n",
       "25%        14.524654\n",
       "50%        18.178153\n",
       "75%        21.884129\n",
       "max        40.823963\n",
       "Name: duration, dtype: float64"
      ]
     },
     "execution_count": 27,
     "metadata": {},
     "output_type": "execute_result"
    }
   ],
   "source": [
    "ultra['duration'].describe()"
   ]
  },
  {
   "cell_type": "code",
   "execution_count": 28,
   "id": "76bf5239",
   "metadata": {},
   "outputs": [
    {
     "data": {
      "text/plain": [
       "count    11473.000000\n",
       "mean        17.530771\n",
       "std          6.162609\n",
       "min          2.035632\n",
       "25%         13.085688\n",
       "50%         17.383807\n",
       "75%         21.638038\n",
       "max         34.948498\n",
       "Name: duration, dtype: float64"
      ]
     },
     "execution_count": 28,
     "metadata": {},
     "output_type": "execute_result"
    }
   ],
   "source": [
    "free['duration'].describe()"
   ]
  },
  {
   "cell_type": "markdown",
   "id": "8814b740",
   "metadata": {},
   "source": [
    "Время поездки у пользователей с подпиской:  \n",
    "-среднее (17.4 минуты), медианное (17.3 минуты).  \n",
    "Время поездки у пользователей без подписки:  \n",
    "-среднее (18 минут), медианное (1 минуты).   \n",
    "\n",
    "Средние и медианные значения времени поездок для пользователей с подпиской и без также очень близки."
   ]
  },
  {
   "cell_type": "code",
   "execution_count": 29,
   "id": "838acf3e",
   "metadata": {},
   "outputs": [
    {
     "data": {
      "image/png": "[encoded data removed]",
      "text/plain": [
       "<Figure size 1080x360 with 1 Axes>"
      ]
     },
     "metadata": {
      "needs_background": "light"
     },
     "output_type": "display_data"
    }
   ],
   "source": [
    "ax = ultra.plot(\n",
    "    kind='hist',\n",
    "    y='duration',\n",
    "    range=(0, 50),\n",
    "    figsize=(15,5),\n",
    "    bins=25,\n",
    "    alpha=0.6,\n",
    "    label='с подпиской',\n",
    "    title = 'Распределеение времени поездок'\n",
    ")\n",
    "free.plot(\n",
    "    kind='hist',\n",
    "    y='duration',\n",
    "    range=(0, 50),\n",
    "    bins=25,\n",
    "    alpha=0.6,\n",
    "    label='без подписки',\n",
    "    ax=ax,\n",
    "    grid=True,\n",
    "    legend=True,\n",
    ");\n",
    "ax.set_xlabel('Время поездки')\n",
    "ax.set_ylabel('Количество поездок');"
   ]
  },
  {
   "cell_type": "markdown",
   "id": "7de3237c",
   "metadata": {},
   "source": [
    "Графики распределения тоже практически идентичны и напоминают нормальное распределение с пиком в области 17-18 минут."
   ]
  },
  {
   "cell_type": "markdown",
   "id": "402d620f",
   "metadata": {},
   "source": [
    "#### Шаг 5. Подсчёт выручки"
   ]
  },
  {
   "cell_type": "markdown",
   "id": "6e11289b",
   "metadata": {},
   "source": [
    "Создадим датафрейм (agg_data), содержащий сумму расстояния, времени поездки (с учетом того, что время поездки огругляется до целого в большую сторону), а также количество поездок и общую выручку для каждого пользователя по месяцам. Также добавим столбцы для дальнейшего расчета помесячной выручки."
   ]
  },
  {
   "cell_type": "code",
   "execution_count": 30,
   "id": "53049e0a",
   "metadata": {},
   "outputs": [],
   "source": [
    "data['duration'] = np.ceil(data['duration'])\n",
    "agg_data = (data.pivot_table(index=['user_id','month'],\n",
    "                             values=['subscription_type', 'distance', 'duration', 'date',\n",
    "                                     'minute_price', 'start_ride_price', 'subscription_fee'],\n",
    "                             aggfunc={'subscription_type': 'first',\n",
    "                                     'distance': 'sum',\n",
    "                                     'duration': 'sum',\n",
    "                                     'date': 'count',\n",
    "                                     'minute_price': 'first',\n",
    "                                     'start_ride_price': 'first',\n",
    "                                     'start_ride_price': 'first',\n",
    "                                     'subscription_fee': 'first'})\n",
    "                .rename(columns={'date': 'count'}))"
   ]
  },
  {
   "cell_type": "markdown",
   "id": "41545ac0",
   "metadata": {},
   "source": [
    "#### Шаг 6. Проверка гипотез"
   ]
  },
  {
   "cell_type": "markdown",
   "id": "2cb5b4f8",
   "metadata": {},
   "source": [
    "##### Тратят ли пользователи с подпиской больше времени на поездки?"
   ]
  },
  {
   "cell_type": "markdown",
   "id": "c89c2d04",
   "metadata": {},
   "source": [
    "Нулевая гипотеза: пользователи с подпиской тратят столько же времени на поездки, сколько и пользователи без подписки.  \n",
    "Альтернативная гипотеза: пользователи с подпиской тратят больше времени на поездки."
   ]
  },
  {
   "cell_type": "code",
   "execution_count": 31,
   "id": "1a5af78e",
   "metadata": {},
   "outputs": [
    {
     "name": "stdout",
     "output_type": "stream",
     "text": [
      "p-значение: 4.704468074453899e-28\n",
      "Отвергаем нулевую гипотезу о равенстве времени поездок\n"
     ]
    }
   ],
   "source": [
    "alpha = 0.05\n",
    "\n",
    "results_1 = st.ttest_ind(ultra['duration'], free['duration'], alternative = 'greater')\n",
    "\n",
    "print('p-значение:', results_1.pvalue)\n",
    "\n",
    "if (results_1.pvalue < alpha):\n",
    "    print('Отвергаем нулевую гипотезу о равенстве времени поездок')\n",
    "else:\n",
    "    print('Не получилось отвергнуть нулевую гипотезу о равенстве среднего времени поездок')"
   ]
  },
  {
   "cell_type": "markdown",
   "id": "0181c511",
   "metadata": {},
   "source": [
    "Полученное значение p-value (4.7 / 10**28) явно меньше, чем установленный уровень статистической значимости, поэтому смело отвергаем нулевую гипотезу о равенстве среднего времени поездок, в сторону альтернативной гипотезы о том, что пользователи с подпиской тратят больше времени на поездки."
   ]
  },
  {
   "cell_type": "markdown",
   "id": "d4f9b5ef",
   "metadata": {},
   "source": [
    "##### Можно ли сказать, что среднее расстояние, которое проезжают пользователи с подпиской за одну поездку, не превышает 3130 метров (оптимальное время)?"
   ]
  },
  {
   "cell_type": "markdown",
   "id": "dc60d37c",
   "metadata": {},
   "source": [
    "Нулевая гипотеза: пользователи с подпиской проезжают в среднем 3130 метров.  \n",
    "Альтернативная гипотеза: пользователи с подпиской проезжают в среднем более 3130 метров."
   ]
  },
  {
   "cell_type": "code",
   "execution_count": 32,
   "id": "cce2e492",
   "metadata": {},
   "outputs": [
    {
     "name": "stdout",
     "output_type": "stream",
     "text": [
      "p-значение: 0.9195368847849785\n",
      "Не получилось отвергнуть нулевую гипотезу\n"
     ]
    }
   ],
   "source": [
    "optimal_distance = 3130\n",
    "\n",
    "alpha = 0.05\n",
    "\n",
    "results_2 = st.ttest_1samp(ultra['distance'], optimal_distance, alternative = 'greater')\n",
    "\n",
    "print('p-значение:', results_2.pvalue)\n",
    "\n",
    "if (results_2.pvalue < alpha):\n",
    "    print('Отвергаем нулевую гипотезу')\n",
    "else:\n",
    "    print('Не получилось отвергнуть нулевую гипотезу')"
   ]
  },
  {
   "cell_type": "markdown",
   "id": "8ee0ed98",
   "metadata": {},
   "source": [
    "При значении p-value 0.92 отвергнуть нулевую гипотезу в пользу альтернативной мы не можем, значит скорее всего действительно пользователи с подпиской в среднем проезжают не более оптимального расстояния (3110 метров). "
   ]
  },
  {
   "cell_type": "markdown",
   "id": "a0b049dd",
   "metadata": {},
   "source": [
    "##### Будет ли помесячная выручка от пользователей с подпиской по месяцам выше, чем выручка от пользователей без подписки."
   ]
  },
  {
   "cell_type": "markdown",
   "id": "251305a2",
   "metadata": {},
   "source": [
    "Добавим столбец с помесячной выручкой в agg_data."
   ]
  },
  {
   "cell_type": "code",
   "execution_count": 33,
   "id": "2f9f298e",
   "metadata": {},
   "outputs": [
    {
     "data": {
      "text/html": [
       "<div>\n",
       "<style scoped>\n",
       "    .dataframe tbody tr th:only-of-type {\n",
       "        vertical-align: middle;\n",
       "    }\n",
       "\n",
       "    .dataframe tbody tr th {\n",
       "        vertical-align: top;\n",
       "    }\n",
       "\n",
       "    .dataframe thead th {\n",
       "        text-align: right;\n",
       "    }\n",
       "</style>\n",
       "<table border=\"1\" class=\"dataframe\">\n",
       "  <thead>\n",
       "    <tr style=\"text-align: right;\">\n",
       "      <th></th>\n",
       "      <th></th>\n",
       "      <th>count</th>\n",
       "      <th>distance</th>\n",
       "      <th>duration</th>\n",
       "      <th>minute_price</th>\n",
       "      <th>start_ride_price</th>\n",
       "      <th>subscription_fee</th>\n",
       "      <th>subscription_type</th>\n",
       "      <th>revenue</th>\n",
       "    </tr>\n",
       "    <tr>\n",
       "      <th>user_id</th>\n",
       "      <th>month</th>\n",
       "      <th></th>\n",
       "      <th></th>\n",
       "      <th></th>\n",
       "      <th></th>\n",
       "      <th></th>\n",
       "      <th></th>\n",
       "      <th></th>\n",
       "      <th></th>\n",
       "    </tr>\n",
       "  </thead>\n",
       "  <tbody>\n",
       "    <tr>\n",
       "      <th rowspan=\"5\" valign=\"top\">1</th>\n",
       "      <th>1</th>\n",
       "      <td>2</td>\n",
       "      <td>7027.511294</td>\n",
       "      <td>42.0</td>\n",
       "      <td>6</td>\n",
       "      <td>0</td>\n",
       "      <td>199</td>\n",
       "      <td>ultra</td>\n",
       "      <td>451.0</td>\n",
       "    </tr>\n",
       "    <tr>\n",
       "      <th>4</th>\n",
       "      <td>1</td>\n",
       "      <td>754.159807</td>\n",
       "      <td>7.0</td>\n",
       "      <td>6</td>\n",
       "      <td>0</td>\n",
       "      <td>199</td>\n",
       "      <td>ultra</td>\n",
       "      <td>241.0</td>\n",
       "    </tr>\n",
       "    <tr>\n",
       "      <th>8</th>\n",
       "      <td>2</td>\n",
       "      <td>6723.470560</td>\n",
       "      <td>46.0</td>\n",
       "      <td>6</td>\n",
       "      <td>0</td>\n",
       "      <td>199</td>\n",
       "      <td>ultra</td>\n",
       "      <td>475.0</td>\n",
       "    </tr>\n",
       "    <tr>\n",
       "      <th>10</th>\n",
       "      <td>2</td>\n",
       "      <td>5809.911100</td>\n",
       "      <td>32.0</td>\n",
       "      <td>6</td>\n",
       "      <td>0</td>\n",
       "      <td>199</td>\n",
       "      <td>ultra</td>\n",
       "      <td>391.0</td>\n",
       "    </tr>\n",
       "    <tr>\n",
       "      <th>11</th>\n",
       "      <td>3</td>\n",
       "      <td>7003.499363</td>\n",
       "      <td>56.0</td>\n",
       "      <td>6</td>\n",
       "      <td>0</td>\n",
       "      <td>199</td>\n",
       "      <td>ultra</td>\n",
       "      <td>535.0</td>\n",
       "    </tr>\n",
       "  </tbody>\n",
       "</table>\n",
       "</div>"
      ],
      "text/plain": [
       "               count     distance  duration  minute_price  start_ride_price  \\\n",
       "user_id month                                                                 \n",
       "1       1          2  7027.511294      42.0             6                 0   \n",
       "        4          1   754.159807       7.0             6                 0   \n",
       "        8          2  6723.470560      46.0             6                 0   \n",
       "        10         2  5809.911100      32.0             6                 0   \n",
       "        11         3  7003.499363      56.0             6                 0   \n",
       "\n",
       "               subscription_fee subscription_type  revenue  \n",
       "user_id month                                               \n",
       "1       1                   199             ultra    451.0  \n",
       "        4                   199             ultra    241.0  \n",
       "        8                   199             ultra    475.0  \n",
       "        10                  199             ultra    391.0  \n",
       "        11                  199             ultra    535.0  "
      ]
     },
     "execution_count": 33,
     "metadata": {},
     "output_type": "execute_result"
    }
   ],
   "source": [
    "agg_data['revenue'] = agg_data['minute_price'] * agg_data['duration'] + agg_data['count'] * agg_data['start_ride_price'] + agg_data['subscription_fee']\n",
    "agg_data.head()"
   ]
  },
  {
   "cell_type": "markdown",
   "id": "1f386225",
   "metadata": {},
   "source": [
    "Нулевая гипотеза: помесячная выручка у пользователей с подпиской и пользователей без подписки одинакова.\n",
    "Альтернативная гипотеза: помесячная выручка у пользователей с подпиской больше, чем у пользователей без подписки."
   ]
  },
  {
   "cell_type": "code",
   "execution_count": 34,
   "id": "7de6a266",
   "metadata": {},
   "outputs": [
    {
     "name": "stdout",
     "output_type": "stream",
     "text": [
      "p-значение: 2.0314113674863288e-30\n",
      "Отвергаем нулевую гипотезу\n"
     ]
    }
   ],
   "source": [
    "alpha = 0.05\n",
    "\n",
    "a = agg_data[agg_data['subscription_type'] == 'ultra']['revenue']\n",
    "b = agg_data[agg_data['subscription_type'] == 'free']['revenue']\n",
    "\n",
    "results_3 = st.ttest_ind(a, b, alternative = 'greater')\n",
    "\n",
    "print('p-значение:', results_3.pvalue)\n",
    "\n",
    "if (results_3.pvalue < alpha):\n",
    "    print('Отвергаем нулевую гипотезу')\n",
    "else:\n",
    "    print('Не получилось отвергнуть нулевую гипотезу')"
   ]
  },
  {
   "cell_type": "markdown",
   "id": "d6470c23",
   "metadata": {},
   "source": [
    "При значении p-value (2.03 / 10**30) явно меньше, чем установленный уровень статистической значимости, значит смело отвергаем нулевую гипотезу в пользу альтернативной. А значит скорее всего действительно помесячная выручка у пользователей с подпиской больше, чем у пользователей без подписки."
   ]
  },
  {
   "cell_type": "markdown",
   "id": "61213c5e",
   "metadata": {},
   "source": [
    "#### Шаг 7. Распределения"
   ]
  },
  {
   "cell_type": "markdown",
   "id": "5d61b8bc",
   "metadata": {},
   "source": [
    "Отдел маркетинга рассылает клиентам push-уведомления в мобильном приложении. Клиенты могут открыть его или не открывать. Известно, что уведомления открывают около 40 % получивших клиентов. Отдел планирует разослать 1 млн уведомлений. С помощью аппроксимации постройте примерный график распределения и оцените вероятность того, что уведомление откроют не более 399,5 тыс. пользователей."
   ]
  },
  {
   "cell_type": "code",
   "execution_count": 37,
   "id": "0ab63fd7",
   "metadata": {},
   "outputs": [
    {
     "name": "stdout",
     "output_type": "stream",
     "text": [
      "0.15371708296369768\n"
     ]
    }
   ],
   "source": [
    "n = 1000000\n",
    "p = 0.4\n",
    "\n",
    "mu = n * p\n",
    "sigma = sqrt(n * p * (1 - p))\n",
    "\n",
    "distr = st.norm(mu, sigma) \n",
    "\n",
    "result = distr.cdf(399500)\n",
    "print(result)"
   ]
  },
  {
   "cell_type": "markdown",
   "id": "e4547381",
   "metadata": {},
   "source": [
    "Вероятность, что уведомление откроют не более 399.5 тыс пользователей, составляет 15.37%."
   ]
  }
 ],
 "metadata": {
  "ExecuteTimeLog": [
   {
    "duration": 80,
    "start_time": "2024-06-26T07:58:47.741Z"
   },
   {
    "duration": 59,
    "start_time": "2024-06-26T08:01:48.285Z"
   },
   {
    "duration": 47,
    "start_time": "2024-06-26T08:04:08.176Z"
   },
   {
    "duration": 458,
    "start_time": "2024-06-26T08:04:13.243Z"
   },
   {
    "duration": 100,
    "start_time": "2024-06-26T08:04:14.975Z"
   },
   {
    "duration": 38,
    "start_time": "2024-06-26T08:08:20.944Z"
   },
   {
    "duration": 25,
    "start_time": "2024-06-26T08:08:36.472Z"
   },
   {
    "duration": 8,
    "start_time": "2024-06-26T08:10:41.097Z"
   },
   {
    "duration": 248,
    "start_time": "2024-06-26T08:10:47.085Z"
   },
   {
    "duration": 19,
    "start_time": "2024-06-26T08:10:51.038Z"
   },
   {
    "duration": 16,
    "start_time": "2024-06-26T08:11:43.517Z"
   },
   {
    "duration": 9,
    "start_time": "2024-06-26T08:59:50.982Z"
   },
   {
    "duration": 13,
    "start_time": "2024-06-26T09:00:12.664Z"
   },
   {
    "duration": 5,
    "start_time": "2024-06-26T09:06:11.719Z"
   },
   {
    "duration": 3,
    "start_time": "2024-06-26T09:10:41.951Z"
   },
   {
    "duration": 396,
    "start_time": "2024-06-26T09:11:27.185Z"
   },
   {
    "duration": 81,
    "start_time": "2024-06-26T09:11:27.583Z"
   },
   {
    "duration": 26,
    "start_time": "2024-06-26T09:11:27.666Z"
   },
   {
    "duration": 19,
    "start_time": "2024-06-26T09:11:27.694Z"
   },
   {
    "duration": 15,
    "start_time": "2024-06-26T09:11:27.715Z"
   },
   {
    "duration": 27,
    "start_time": "2024-06-26T09:11:27.732Z"
   },
   {
    "duration": 23,
    "start_time": "2024-06-26T09:11:27.760Z"
   },
   {
    "duration": 15,
    "start_time": "2024-06-26T09:11:27.784Z"
   },
   {
    "duration": 68,
    "start_time": "2024-06-26T09:17:19.585Z"
   },
   {
    "duration": 4,
    "start_time": "2024-06-26T09:17:29.857Z"
   },
   {
    "duration": 10,
    "start_time": "2024-06-26T09:18:29.868Z"
   },
   {
    "duration": 7,
    "start_time": "2024-06-26T09:24:08.036Z"
   },
   {
    "duration": 7,
    "start_time": "2024-06-26T09:24:37.458Z"
   },
   {
    "duration": 10,
    "start_time": "2024-06-26T09:24:40.047Z"
   },
   {
    "duration": 5,
    "start_time": "2024-06-26T09:24:42.309Z"
   },
   {
    "duration": 5,
    "start_time": "2024-06-26T09:24:45.336Z"
   },
   {
    "duration": 19,
    "start_time": "2024-06-26T09:52:46.405Z"
   },
   {
    "duration": 1757,
    "start_time": "2024-06-26T09:54:03.354Z"
   },
   {
    "duration": 187,
    "start_time": "2024-06-26T10:02:36.401Z"
   },
   {
    "duration": 23,
    "start_time": "2024-06-26T10:02:55.236Z"
   },
   {
    "duration": 21,
    "start_time": "2024-06-26T10:03:30.212Z"
   },
   {
    "duration": 17,
    "start_time": "2024-06-26T10:03:52.362Z"
   },
   {
    "duration": 19,
    "start_time": "2024-06-26T10:04:02.746Z"
   },
   {
    "duration": 235,
    "start_time": "2024-06-26T10:17:21.939Z"
   },
   {
    "duration": 186,
    "start_time": "2024-06-26T10:18:35.066Z"
   },
   {
    "duration": 187,
    "start_time": "2024-06-26T10:18:44.798Z"
   },
   {
    "duration": 172,
    "start_time": "2024-06-26T10:18:58.785Z"
   },
   {
    "duration": 210,
    "start_time": "2024-06-26T10:19:38.730Z"
   },
   {
    "duration": 242,
    "start_time": "2024-06-26T10:20:26.160Z"
   },
   {
    "duration": 220,
    "start_time": "2024-06-26T10:20:37.290Z"
   },
   {
    "duration": 77,
    "start_time": "2024-06-26T10:25:27.980Z"
   },
   {
    "duration": 53,
    "start_time": "2024-06-26T10:25:32.470Z"
   },
   {
    "duration": 180,
    "start_time": "2024-06-26T10:25:37.145Z"
   },
   {
    "duration": 175,
    "start_time": "2024-06-26T10:26:55.084Z"
   },
   {
    "duration": 174,
    "start_time": "2024-06-26T10:28:09.280Z"
   },
   {
    "duration": 291,
    "start_time": "2024-06-26T10:30:28.267Z"
   },
   {
    "duration": 14,
    "start_time": "2024-06-26T10:31:55.466Z"
   },
   {
    "duration": 14,
    "start_time": "2024-06-26T10:32:24.696Z"
   },
   {
    "duration": 142,
    "start_time": "2024-06-26T10:34:09.077Z"
   },
   {
    "duration": 211,
    "start_time": "2024-06-26T10:34:34.899Z"
   },
   {
    "duration": 131,
    "start_time": "2024-06-26T10:38:56.404Z"
   },
   {
    "duration": 126,
    "start_time": "2024-06-26T10:39:01.732Z"
   },
   {
    "duration": 117,
    "start_time": "2024-06-26T10:39:38.395Z"
   },
   {
    "duration": 132,
    "start_time": "2024-06-26T10:40:31.199Z"
   },
   {
    "duration": 15,
    "start_time": "2024-06-26T10:41:56.504Z"
   },
   {
    "duration": 19,
    "start_time": "2024-06-26T10:43:11.156Z"
   },
   {
    "duration": 14,
    "start_time": "2024-06-26T10:43:22.844Z"
   },
   {
    "duration": 14,
    "start_time": "2024-06-26T10:43:28.803Z"
   },
   {
    "duration": 14,
    "start_time": "2024-06-26T10:44:41.855Z"
   },
   {
    "duration": 14,
    "start_time": "2024-06-26T10:44:46.214Z"
   },
   {
    "duration": 736,
    "start_time": "2024-06-26T10:47:33.258Z"
   },
   {
    "duration": 14,
    "start_time": "2024-06-26T10:47:48.269Z"
   },
   {
    "duration": 154,
    "start_time": "2024-06-26T10:49:08.025Z"
   },
   {
    "duration": 12,
    "start_time": "2024-06-26T10:49:52.604Z"
   },
   {
    "duration": 10,
    "start_time": "2024-06-26T10:49:54.844Z"
   },
   {
    "duration": 178,
    "start_time": "2024-06-26T10:50:30.745Z"
   },
   {
    "duration": 164,
    "start_time": "2024-06-26T10:56:47.370Z"
   },
   {
    "duration": 138,
    "start_time": "2024-06-26T11:04:16.931Z"
   },
   {
    "duration": 150,
    "start_time": "2024-06-26T11:04:25.257Z"
   },
   {
    "duration": 11,
    "start_time": "2024-06-26T11:05:19.467Z"
   },
   {
    "duration": 151,
    "start_time": "2024-06-26T11:07:29.673Z"
   },
   {
    "duration": 146,
    "start_time": "2024-06-26T11:07:45.526Z"
   },
   {
    "duration": 8,
    "start_time": "2024-06-26T11:07:50.220Z"
   },
   {
    "duration": 219,
    "start_time": "2024-06-26T11:09:39.228Z"
   },
   {
    "duration": 326,
    "start_time": "2024-06-26T11:09:58.581Z"
   },
   {
    "duration": 244,
    "start_time": "2024-06-26T11:10:38.257Z"
   },
   {
    "duration": 200,
    "start_time": "2024-06-26T11:11:07.651Z"
   },
   {
    "duration": 196,
    "start_time": "2024-06-26T11:11:15.525Z"
   },
   {
    "duration": 203,
    "start_time": "2024-06-26T11:11:26.575Z"
   },
   {
    "duration": 274,
    "start_time": "2024-06-26T11:12:43.954Z"
   },
   {
    "duration": 74,
    "start_time": "2024-06-26T11:17:15.013Z"
   },
   {
    "duration": 10,
    "start_time": "2024-06-26T11:26:18.324Z"
   },
   {
    "duration": 746,
    "start_time": "2024-06-26T11:27:22.682Z"
   },
   {
    "duration": 748,
    "start_time": "2024-06-26T11:27:28.256Z"
   },
   {
    "duration": 351,
    "start_time": "2024-06-26T11:27:34.062Z"
   },
   {
    "duration": 1989,
    "start_time": "2024-06-26T11:27:45.259Z"
   },
   {
    "duration": 972,
    "start_time": "2024-06-26T11:27:52.816Z"
   },
   {
    "duration": 556,
    "start_time": "2024-06-26T11:27:59.037Z"
   },
   {
    "duration": 339,
    "start_time": "2024-06-26T11:28:17.739Z"
   },
   {
    "duration": 331,
    "start_time": "2024-06-26T11:34:31.821Z"
   },
   {
    "duration": 339,
    "start_time": "2024-06-26T11:34:39.489Z"
   },
   {
    "duration": 73,
    "start_time": "2024-06-26T11:34:57.208Z"
   },
   {
    "duration": 187,
    "start_time": "2024-06-26T11:35:06.184Z"
   },
   {
    "duration": 186,
    "start_time": "2024-06-26T11:35:13.567Z"
   },
   {
    "duration": 180,
    "start_time": "2024-06-26T11:35:21.365Z"
   },
   {
    "duration": 224,
    "start_time": "2024-06-26T11:38:59.811Z"
   },
   {
    "duration": 291,
    "start_time": "2024-06-26T11:55:38.675Z"
   },
   {
    "duration": 100,
    "start_time": "2024-06-26T12:12:55.255Z"
   },
   {
    "duration": 21,
    "start_time": "2024-06-26T12:13:17.622Z"
   },
   {
    "duration": 24,
    "start_time": "2024-06-26T12:13:24.674Z"
   },
   {
    "duration": 19,
    "start_time": "2024-06-26T12:13:36.302Z"
   },
   {
    "duration": 23,
    "start_time": "2024-06-26T12:14:30.732Z"
   },
   {
    "duration": 19,
    "start_time": "2024-06-26T12:14:37.856Z"
   },
   {
    "duration": 22,
    "start_time": "2024-06-26T12:14:42.776Z"
   },
   {
    "duration": 19,
    "start_time": "2024-06-26T12:15:03.837Z"
   },
   {
    "duration": 26,
    "start_time": "2024-06-26T12:15:08.648Z"
   },
   {
    "duration": 13,
    "start_time": "2024-06-26T12:15:30.542Z"
   },
   {
    "duration": 14,
    "start_time": "2024-06-26T12:15:57.789Z"
   },
   {
    "duration": 18,
    "start_time": "2024-06-26T12:18:01.577Z"
   },
   {
    "duration": 20,
    "start_time": "2024-06-26T12:18:09.429Z"
   },
   {
    "duration": 19,
    "start_time": "2024-06-26T12:18:44.910Z"
   },
   {
    "duration": 13,
    "start_time": "2024-06-26T12:18:50.499Z"
   },
   {
    "duration": 23,
    "start_time": "2024-06-26T12:21:55.482Z"
   },
   {
    "duration": 30,
    "start_time": "2024-06-26T12:22:39.604Z"
   },
   {
    "duration": 24,
    "start_time": "2024-06-26T12:22:48.149Z"
   },
   {
    "duration": 35,
    "start_time": "2024-06-26T12:22:51.574Z"
   },
   {
    "duration": 34,
    "start_time": "2024-06-26T12:23:29.031Z"
   },
   {
    "duration": 28,
    "start_time": "2024-06-26T12:23:35.203Z"
   },
   {
    "duration": 31,
    "start_time": "2024-06-26T12:24:30.600Z"
   },
   {
    "duration": 16,
    "start_time": "2024-06-26T12:25:16.552Z"
   },
   {
    "duration": 27,
    "start_time": "2024-06-26T12:25:21.672Z"
   },
   {
    "duration": 21,
    "start_time": "2024-06-26T12:26:10.428Z"
   },
   {
    "duration": 10,
    "start_time": "2024-06-26T12:26:35.725Z"
   },
   {
    "duration": 357,
    "start_time": "2024-06-26T13:01:10.179Z"
   },
   {
    "duration": 336,
    "start_time": "2024-06-26T13:01:23.400Z"
   },
   {
    "duration": 681,
    "start_time": "2024-06-26T13:02:42.024Z"
   },
   {
    "duration": 796,
    "start_time": "2024-06-26T13:03:38.318Z"
   },
   {
    "duration": 672,
    "start_time": "2024-06-26T13:03:43.931Z"
   },
   {
    "duration": 691,
    "start_time": "2024-06-26T13:04:09.750Z"
   },
   {
    "duration": 464,
    "start_time": "2024-06-26T13:04:22.586Z"
   },
   {
    "duration": 334,
    "start_time": "2024-06-26T13:04:31.919Z"
   },
   {
    "duration": 383,
    "start_time": "2024-06-26T13:14:06.671Z"
   },
   {
    "duration": 320,
    "start_time": "2024-06-26T13:14:13.337Z"
   },
   {
    "duration": 338,
    "start_time": "2024-06-26T13:14:15.803Z"
   },
   {
    "duration": 315,
    "start_time": "2024-06-26T13:14:38.099Z"
   },
   {
    "duration": 398,
    "start_time": "2024-06-26T13:14:42.252Z"
   },
   {
    "duration": 5,
    "start_time": "2024-06-26T13:15:02.653Z"
   },
   {
    "duration": 242,
    "start_time": "2024-06-26T13:15:05.223Z"
   },
   {
    "duration": 215,
    "start_time": "2024-06-26T13:15:16.154Z"
   },
   {
    "duration": 189,
    "start_time": "2024-06-26T13:15:18.195Z"
   },
   {
    "duration": 16,
    "start_time": "2024-06-26T13:23:40.448Z"
   },
   {
    "duration": 22,
    "start_time": "2024-06-26T13:50:08.965Z"
   },
   {
    "duration": 19,
    "start_time": "2024-06-26T13:51:25.923Z"
   },
   {
    "duration": 23,
    "start_time": "2024-06-26T13:56:43.934Z"
   },
   {
    "duration": 16,
    "start_time": "2024-06-26T13:57:21.373Z"
   },
   {
    "duration": 18,
    "start_time": "2024-06-26T13:57:28.243Z"
   },
   {
    "duration": 30,
    "start_time": "2024-06-26T13:58:35.173Z"
   },
   {
    "duration": 20,
    "start_time": "2024-06-26T13:58:38.206Z"
   },
   {
    "duration": 17,
    "start_time": "2024-06-26T13:59:17.849Z"
   },
   {
    "duration": 22,
    "start_time": "2024-06-26T14:00:10.432Z"
   },
   {
    "duration": 19,
    "start_time": "2024-06-26T14:00:49.310Z"
   },
   {
    "duration": 17,
    "start_time": "2024-06-26T14:00:55.156Z"
   },
   {
    "duration": 24,
    "start_time": "2024-06-26T14:01:06.085Z"
   },
   {
    "duration": 220,
    "start_time": "2024-06-26T14:01:57.639Z"
   },
   {
    "duration": 22,
    "start_time": "2024-06-26T14:02:14.413Z"
   },
   {
    "duration": 22,
    "start_time": "2024-06-26T14:03:06.653Z"
   },
   {
    "duration": 24,
    "start_time": "2024-06-26T14:16:26.481Z"
   },
   {
    "duration": 28,
    "start_time": "2024-06-26T14:16:59.421Z"
   },
   {
    "duration": 32,
    "start_time": "2024-06-26T14:20:30.594Z"
   },
   {
    "duration": 464,
    "start_time": "2024-06-26T14:20:50.692Z"
   },
   {
    "duration": 80,
    "start_time": "2024-06-26T14:20:51.158Z"
   },
   {
    "duration": 27,
    "start_time": "2024-06-26T14:20:51.240Z"
   },
   {
    "duration": 19,
    "start_time": "2024-06-26T14:20:51.269Z"
   },
   {
    "duration": 14,
    "start_time": "2024-06-26T14:20:51.289Z"
   },
   {
    "duration": 20,
    "start_time": "2024-06-26T14:20:51.305Z"
   },
   {
    "duration": 21,
    "start_time": "2024-06-26T14:20:51.326Z"
   },
   {
    "duration": 24,
    "start_time": "2024-06-26T14:20:51.356Z"
   },
   {
    "duration": 10,
    "start_time": "2024-06-26T14:20:51.382Z"
   },
   {
    "duration": 15,
    "start_time": "2024-06-26T14:20:51.395Z"
   },
   {
    "duration": 382,
    "start_time": "2024-06-26T14:20:51.412Z"
   },
   {
    "duration": 159,
    "start_time": "2024-06-26T14:20:51.796Z"
   },
   {
    "duration": 279,
    "start_time": "2024-06-26T14:20:51.957Z"
   },
   {
    "duration": 400,
    "start_time": "2024-06-26T14:20:52.238Z"
   },
   {
    "duration": 199,
    "start_time": "2024-06-26T14:20:52.639Z"
   },
   {
    "duration": 41,
    "start_time": "2024-06-26T14:20:52.840Z"
   },
   {
    "duration": 10,
    "start_time": "2024-06-26T14:20:52.883Z"
   },
   {
    "duration": 383,
    "start_time": "2024-06-26T14:20:52.895Z"
   },
   {
    "duration": 363,
    "start_time": "2024-06-26T14:20:53.280Z"
   },
   {
    "duration": 213,
    "start_time": "2024-06-26T14:20:53.645Z"
   },
   {
    "duration": 210,
    "start_time": "2024-06-26T14:20:53.859Z"
   },
   {
    "duration": 26,
    "start_time": "2024-06-26T14:20:54.071Z"
   },
   {
    "duration": 96,
    "start_time": "2024-06-26T14:27:35.106Z"
   },
   {
    "duration": 14,
    "start_time": "2024-06-26T14:27:51.122Z"
   },
   {
    "duration": 26,
    "start_time": "2024-06-26T14:28:29.646Z"
   },
   {
    "duration": 30,
    "start_time": "2024-06-26T14:28:36.148Z"
   },
   {
    "duration": 32,
    "start_time": "2024-06-26T14:28:54.487Z"
   },
   {
    "duration": 221,
    "start_time": "2024-06-26T14:30:16.329Z"
   },
   {
    "duration": 30,
    "start_time": "2024-06-26T14:35:40.518Z"
   },
   {
    "duration": 19,
    "start_time": "2024-06-26T14:43:55.946Z"
   },
   {
    "duration": 23,
    "start_time": "2024-06-26T14:44:14.304Z"
   },
   {
    "duration": 16,
    "start_time": "2024-06-26T14:44:53.017Z"
   },
   {
    "duration": 473,
    "start_time": "2024-06-26T14:45:43.370Z"
   },
   {
    "duration": 82,
    "start_time": "2024-06-26T14:45:43.845Z"
   },
   {
    "duration": 25,
    "start_time": "2024-06-26T14:45:43.928Z"
   },
   {
    "duration": 17,
    "start_time": "2024-06-26T14:45:43.956Z"
   },
   {
    "duration": 16,
    "start_time": "2024-06-26T14:45:43.975Z"
   },
   {
    "duration": 20,
    "start_time": "2024-06-26T14:45:43.993Z"
   },
   {
    "duration": 7,
    "start_time": "2024-06-26T14:45:44.015Z"
   },
   {
    "duration": 9,
    "start_time": "2024-06-26T14:45:44.023Z"
   },
   {
    "duration": 31,
    "start_time": "2024-06-26T14:45:44.033Z"
   },
   {
    "duration": 5,
    "start_time": "2024-06-26T14:45:44.067Z"
   },
   {
    "duration": 397,
    "start_time": "2024-06-26T14:45:44.074Z"
   },
   {
    "duration": 171,
    "start_time": "2024-06-26T14:45:44.473Z"
   },
   {
    "duration": 305,
    "start_time": "2024-06-26T14:45:44.656Z"
   },
   {
    "duration": 452,
    "start_time": "2024-06-26T14:45:44.962Z"
   },
   {
    "duration": 193,
    "start_time": "2024-06-26T14:45:45.415Z"
   },
   {
    "duration": 30,
    "start_time": "2024-06-26T14:45:45.610Z"
   },
   {
    "duration": 24,
    "start_time": "2024-06-26T14:45:45.642Z"
   },
   {
    "duration": 346,
    "start_time": "2024-06-26T14:45:45.667Z"
   },
   {
    "duration": 362,
    "start_time": "2024-06-26T14:45:46.015Z"
   },
   {
    "duration": 214,
    "start_time": "2024-06-26T14:45:46.379Z"
   },
   {
    "duration": 240,
    "start_time": "2024-06-26T14:45:46.595Z"
   },
   {
    "duration": 27,
    "start_time": "2024-06-26T14:45:46.837Z"
   },
   {
    "duration": 30,
    "start_time": "2024-06-26T14:46:11.468Z"
   },
   {
    "duration": 35,
    "start_time": "2024-06-26T14:47:03.863Z"
   },
   {
    "duration": 28,
    "start_time": "2024-06-26T14:47:39.846Z"
   },
   {
    "duration": 31,
    "start_time": "2024-06-26T14:47:46.804Z"
   },
   {
    "duration": 54,
    "start_time": "2024-06-26T17:38:23.984Z"
   },
   {
    "duration": 207,
    "start_time": "2024-06-26T17:39:55.238Z"
   },
   {
    "duration": 484,
    "start_time": "2024-06-26T17:40:15.481Z"
   },
   {
    "duration": 287,
    "start_time": "2024-06-26T17:40:15.967Z"
   },
   {
    "duration": 25,
    "start_time": "2024-06-26T17:40:16.255Z"
   },
   {
    "duration": 27,
    "start_time": "2024-06-26T17:40:16.282Z"
   },
   {
    "duration": 17,
    "start_time": "2024-06-26T17:40:16.311Z"
   },
   {
    "duration": 8,
    "start_time": "2024-06-26T17:40:16.330Z"
   },
   {
    "duration": 9,
    "start_time": "2024-06-26T17:40:16.340Z"
   },
   {
    "duration": 7,
    "start_time": "2024-06-26T17:40:16.350Z"
   },
   {
    "duration": 39,
    "start_time": "2024-06-26T17:40:16.358Z"
   },
   {
    "duration": 5,
    "start_time": "2024-06-26T17:40:16.399Z"
   },
   {
    "duration": 576,
    "start_time": "2024-06-26T17:40:16.406Z"
   },
   {
    "duration": 155,
    "start_time": "2024-06-26T17:40:16.984Z"
   },
   {
    "duration": 283,
    "start_time": "2024-06-26T17:40:17.141Z"
   },
   {
    "duration": 404,
    "start_time": "2024-06-26T17:40:17.427Z"
   },
   {
    "duration": 201,
    "start_time": "2024-06-26T17:40:17.833Z"
   },
   {
    "duration": 34,
    "start_time": "2024-06-26T17:40:18.036Z"
   },
   {
    "duration": 28,
    "start_time": "2024-06-26T17:40:18.072Z"
   },
   {
    "duration": 376,
    "start_time": "2024-06-26T17:40:18.102Z"
   },
   {
    "duration": 335,
    "start_time": "2024-06-26T17:40:18.480Z"
   },
   {
    "duration": 199,
    "start_time": "2024-06-26T17:40:18.816Z"
   },
   {
    "duration": 210,
    "start_time": "2024-06-26T17:40:19.017Z"
   },
   {
    "duration": 91,
    "start_time": "2024-06-26T17:40:19.229Z"
   },
   {
    "duration": 37,
    "start_time": "2024-06-26T17:40:50.915Z"
   },
   {
    "duration": 27,
    "start_time": "2024-06-26T17:41:06.873Z"
   },
   {
    "duration": 10,
    "start_time": "2024-06-26T17:41:35.748Z"
   },
   {
    "duration": 29,
    "start_time": "2024-06-26T17:42:31.477Z"
   },
   {
    "duration": 20,
    "start_time": "2024-06-26T17:43:05.208Z"
   },
   {
    "duration": 34,
    "start_time": "2024-06-26T17:43:43.701Z"
   },
   {
    "duration": 34,
    "start_time": "2024-06-26T17:44:07.456Z"
   },
   {
    "duration": 36,
    "start_time": "2024-06-26T17:44:19.814Z"
   },
   {
    "duration": 527,
    "start_time": "2024-06-26T17:44:31.548Z"
   },
   {
    "duration": 77,
    "start_time": "2024-06-26T17:44:32.077Z"
   },
   {
    "duration": 27,
    "start_time": "2024-06-26T17:44:32.156Z"
   },
   {
    "duration": 28,
    "start_time": "2024-06-26T17:44:32.185Z"
   },
   {
    "duration": 35,
    "start_time": "2024-06-26T17:44:32.215Z"
   },
   {
    "duration": 64,
    "start_time": "2024-06-26T17:44:32.252Z"
   },
   {
    "duration": 16,
    "start_time": "2024-06-26T17:44:32.317Z"
   },
   {
    "duration": 7,
    "start_time": "2024-06-26T17:44:32.334Z"
   },
   {
    "duration": 8,
    "start_time": "2024-06-26T17:44:32.343Z"
   },
   {
    "duration": 5,
    "start_time": "2024-06-26T17:44:32.354Z"
   },
   {
    "duration": 370,
    "start_time": "2024-06-26T17:44:32.360Z"
   },
   {
    "duration": 169,
    "start_time": "2024-06-26T17:44:32.732Z"
   },
   {
    "duration": 286,
    "start_time": "2024-06-26T17:44:32.903Z"
   },
   {
    "duration": 409,
    "start_time": "2024-06-26T17:44:33.191Z"
   },
   {
    "duration": 191,
    "start_time": "2024-06-26T17:44:33.602Z"
   },
   {
    "duration": 29,
    "start_time": "2024-06-26T17:44:33.795Z"
   },
   {
    "duration": 10,
    "start_time": "2024-06-26T17:44:33.826Z"
   },
   {
    "duration": 388,
    "start_time": "2024-06-26T17:44:33.838Z"
   },
   {
    "duration": 389,
    "start_time": "2024-06-26T17:44:34.228Z"
   },
   {
    "duration": 202,
    "start_time": "2024-06-26T17:44:34.619Z"
   },
   {
    "duration": 204,
    "start_time": "2024-06-26T17:44:34.823Z"
   },
   {
    "duration": 31,
    "start_time": "2024-06-26T17:44:35.028Z"
   },
   {
    "duration": 33,
    "start_time": "2024-06-26T17:44:40.752Z"
   },
   {
    "duration": 23,
    "start_time": "2024-06-26T17:45:14.399Z"
   },
   {
    "duration": 285,
    "start_time": "2024-06-26T17:55:01.678Z"
   },
   {
    "duration": 445,
    "start_time": "2024-06-26T17:55:39.119Z"
   },
   {
    "duration": 75,
    "start_time": "2024-06-26T17:55:39.566Z"
   },
   {
    "duration": 24,
    "start_time": "2024-06-26T17:55:39.642Z"
   },
   {
    "duration": 64,
    "start_time": "2024-06-26T17:55:39.668Z"
   },
   {
    "duration": 15,
    "start_time": "2024-06-26T17:55:39.736Z"
   },
   {
    "duration": 12,
    "start_time": "2024-06-26T17:55:39.753Z"
   },
   {
    "duration": 15,
    "start_time": "2024-06-26T17:55:39.766Z"
   },
   {
    "duration": 8,
    "start_time": "2024-06-26T17:55:39.783Z"
   },
   {
    "duration": 10,
    "start_time": "2024-06-26T17:55:39.793Z"
   },
   {
    "duration": 5,
    "start_time": "2024-06-26T17:55:39.805Z"
   },
   {
    "duration": 397,
    "start_time": "2024-06-26T17:55:39.811Z"
   },
   {
    "duration": 153,
    "start_time": "2024-06-26T17:55:40.211Z"
   },
   {
    "duration": 316,
    "start_time": "2024-06-26T17:55:40.366Z"
   },
   {
    "duration": 392,
    "start_time": "2024-06-26T17:55:40.690Z"
   },
   {
    "duration": 211,
    "start_time": "2024-06-26T17:55:41.084Z"
   },
   {
    "duration": 28,
    "start_time": "2024-06-26T17:55:41.296Z"
   },
   {
    "duration": 9,
    "start_time": "2024-06-26T17:55:41.326Z"
   },
   {
    "duration": 370,
    "start_time": "2024-06-26T17:55:41.337Z"
   },
   {
    "duration": 345,
    "start_time": "2024-06-26T17:55:41.708Z"
   },
   {
    "duration": 218,
    "start_time": "2024-06-26T17:55:42.054Z"
   },
   {
    "duration": 205,
    "start_time": "2024-06-26T17:55:42.273Z"
   },
   {
    "duration": 300,
    "start_time": "2024-06-26T17:55:42.480Z"
   },
   {
    "duration": 34,
    "start_time": "2024-06-26T17:56:05.680Z"
   },
   {
    "duration": 33,
    "start_time": "2024-06-26T17:56:31.279Z"
   },
   {
    "duration": 10,
    "start_time": "2024-06-26T17:58:23.267Z"
   },
   {
    "duration": 17,
    "start_time": "2024-06-26T18:00:46.596Z"
   },
   {
    "duration": 36,
    "start_time": "2024-06-26T18:01:26.123Z"
   },
   {
    "duration": 32,
    "start_time": "2024-06-26T18:02:41.724Z"
   },
   {
    "duration": 25,
    "start_time": "2024-06-26T18:04:34.152Z"
   },
   {
    "duration": 34,
    "start_time": "2024-06-26T18:04:51.053Z"
   },
   {
    "duration": 32,
    "start_time": "2024-06-26T18:04:54.601Z"
   },
   {
    "duration": 32,
    "start_time": "2024-06-26T18:05:39.495Z"
   },
   {
    "duration": 2,
    "start_time": "2024-06-26T18:08:45.729Z"
   },
   {
    "duration": 12,
    "start_time": "2024-06-26T18:37:11.040Z"
   },
   {
    "duration": 901,
    "start_time": "2024-06-26T18:37:19.756Z"
   },
   {
    "duration": 76,
    "start_time": "2024-06-26T18:37:20.659Z"
   },
   {
    "duration": 25,
    "start_time": "2024-06-26T18:37:20.737Z"
   },
   {
    "duration": 18,
    "start_time": "2024-06-26T18:37:20.764Z"
   },
   {
    "duration": 19,
    "start_time": "2024-06-26T18:37:20.784Z"
   },
   {
    "duration": 25,
    "start_time": "2024-06-26T18:37:20.805Z"
   },
   {
    "duration": 14,
    "start_time": "2024-06-26T18:37:20.832Z"
   },
   {
    "duration": 25,
    "start_time": "2024-06-26T18:37:20.848Z"
   },
   {
    "duration": 9,
    "start_time": "2024-06-26T18:37:20.875Z"
   },
   {
    "duration": 14,
    "start_time": "2024-06-26T18:37:20.885Z"
   },
   {
    "duration": 540,
    "start_time": "2024-06-26T18:37:20.900Z"
   },
   {
    "duration": 158,
    "start_time": "2024-06-26T18:37:21.442Z"
   },
   {
    "duration": 290,
    "start_time": "2024-06-26T18:37:21.601Z"
   },
   {
    "duration": 364,
    "start_time": "2024-06-26T18:37:21.894Z"
   },
   {
    "duration": 220,
    "start_time": "2024-06-26T18:37:22.259Z"
   },
   {
    "duration": 37,
    "start_time": "2024-06-26T18:37:22.482Z"
   },
   {
    "duration": 17,
    "start_time": "2024-06-26T18:37:22.521Z"
   },
   {
    "duration": 388,
    "start_time": "2024-06-26T18:37:22.540Z"
   },
   {
    "duration": 357,
    "start_time": "2024-06-26T18:37:22.930Z"
   },
   {
    "duration": 291,
    "start_time": "2024-06-26T18:37:23.291Z"
   },
   {
    "duration": 210,
    "start_time": "2024-06-26T18:37:23.583Z"
   },
   {
    "duration": 35,
    "start_time": "2024-06-26T18:37:23.795Z"
   },
   {
    "duration": 6,
    "start_time": "2024-06-26T18:37:23.831Z"
   },
   {
    "duration": 6,
    "start_time": "2024-06-26T18:41:54.649Z"
   },
   {
    "duration": 6,
    "start_time": "2024-06-26T18:41:56.670Z"
   },
   {
    "duration": 852,
    "start_time": "2024-06-26T18:42:05.709Z"
   },
   {
    "duration": 77,
    "start_time": "2024-06-26T18:42:06.563Z"
   },
   {
    "duration": 25,
    "start_time": "2024-06-26T18:42:06.642Z"
   },
   {
    "duration": 21,
    "start_time": "2024-06-26T18:42:06.669Z"
   },
   {
    "duration": 17,
    "start_time": "2024-06-26T18:42:06.693Z"
   },
   {
    "duration": 32,
    "start_time": "2024-06-26T18:42:06.712Z"
   },
   {
    "duration": 11,
    "start_time": "2024-06-26T18:42:06.747Z"
   },
   {
    "duration": 17,
    "start_time": "2024-06-26T18:42:06.760Z"
   },
   {
    "duration": 10,
    "start_time": "2024-06-26T18:42:06.779Z"
   },
   {
    "duration": 14,
    "start_time": "2024-06-26T18:42:06.791Z"
   },
   {
    "duration": 503,
    "start_time": "2024-06-26T18:42:06.807Z"
   },
   {
    "duration": 147,
    "start_time": "2024-06-26T18:42:07.311Z"
   },
   {
    "duration": 295,
    "start_time": "2024-06-26T18:42:07.460Z"
   },
   {
    "duration": 357,
    "start_time": "2024-06-26T18:42:07.759Z"
   },
   {
    "duration": 201,
    "start_time": "2024-06-26T18:42:08.118Z"
   },
   {
    "duration": 28,
    "start_time": "2024-06-26T18:42:08.321Z"
   },
   {
    "duration": 18,
    "start_time": "2024-06-26T18:42:08.351Z"
   },
   {
    "duration": 364,
    "start_time": "2024-06-26T18:42:08.371Z"
   },
   {
    "duration": 366,
    "start_time": "2024-06-26T18:42:08.736Z"
   },
   {
    "duration": 292,
    "start_time": "2024-06-26T18:42:09.105Z"
   },
   {
    "duration": 208,
    "start_time": "2024-06-26T18:42:09.399Z"
   },
   {
    "duration": 34,
    "start_time": "2024-06-26T18:42:09.609Z"
   },
   {
    "duration": 5,
    "start_time": "2024-06-26T18:42:09.645Z"
   },
   {
    "duration": 7,
    "start_time": "2024-06-26T18:44:19.845Z"
   },
   {
    "duration": 57,
    "start_time": "2024-06-26T18:44:39.167Z"
   },
   {
    "duration": 6,
    "start_time": "2024-06-26T18:44:48.545Z"
   },
   {
    "duration": 7,
    "start_time": "2024-06-26T18:45:05.155Z"
   },
   {
    "duration": 6,
    "start_time": "2024-06-26T18:45:11.722Z"
   },
   {
    "duration": 5,
    "start_time": "2024-06-26T18:45:16.077Z"
   },
   {
    "duration": 5,
    "start_time": "2024-06-26T18:46:09.447Z"
   },
   {
    "duration": 6,
    "start_time": "2024-06-26T18:46:50.081Z"
   },
   {
    "duration": 6,
    "start_time": "2024-06-26T18:46:53.929Z"
   },
   {
    "duration": 8,
    "start_time": "2024-06-26T18:54:25.014Z"
   },
   {
    "duration": 6,
    "start_time": "2024-06-26T18:56:20.549Z"
   },
   {
    "duration": 5,
    "start_time": "2024-06-26T18:56:24.965Z"
   },
   {
    "duration": 103,
    "start_time": "2024-06-26T19:08:13.676Z"
   },
   {
    "duration": 8,
    "start_time": "2024-06-26T19:08:29.110Z"
   },
   {
    "duration": 943,
    "start_time": "2024-06-26T19:10:03.881Z"
   },
   {
    "duration": 76,
    "start_time": "2024-06-26T19:10:04.826Z"
   },
   {
    "duration": 25,
    "start_time": "2024-06-26T19:10:04.903Z"
   },
   {
    "duration": 16,
    "start_time": "2024-06-26T19:10:04.930Z"
   },
   {
    "duration": 15,
    "start_time": "2024-06-26T19:10:04.948Z"
   },
   {
    "duration": 27,
    "start_time": "2024-06-26T19:10:04.964Z"
   },
   {
    "duration": 5,
    "start_time": "2024-06-26T19:10:04.993Z"
   },
   {
    "duration": 9,
    "start_time": "2024-06-26T19:10:05.000Z"
   },
   {
    "duration": 16,
    "start_time": "2024-06-26T19:10:05.011Z"
   },
   {
    "duration": 5,
    "start_time": "2024-06-26T19:10:05.029Z"
   },
   {
    "duration": 448,
    "start_time": "2024-06-26T19:10:05.036Z"
   },
   {
    "duration": 152,
    "start_time": "2024-06-26T19:10:05.485Z"
   },
   {
    "duration": 297,
    "start_time": "2024-06-26T19:10:05.638Z"
   },
   {
    "duration": 366,
    "start_time": "2024-06-26T19:10:05.938Z"
   },
   {
    "duration": 200,
    "start_time": "2024-06-26T19:10:06.306Z"
   },
   {
    "duration": 27,
    "start_time": "2024-06-26T19:10:06.508Z"
   },
   {
    "duration": 41,
    "start_time": "2024-06-26T19:10:06.537Z"
   },
   {
    "duration": 341,
    "start_time": "2024-06-26T19:10:06.579Z"
   },
   {
    "duration": 357,
    "start_time": "2024-06-26T19:10:06.922Z"
   },
   {
    "duration": 283,
    "start_time": "2024-06-26T19:10:07.281Z"
   },
   {
    "duration": 230,
    "start_time": "2024-06-26T19:10:07.566Z"
   },
   {
    "duration": 34,
    "start_time": "2024-06-26T19:10:07.797Z"
   },
   {
    "duration": 186,
    "start_time": "2024-06-26T19:10:07.833Z"
   },
   {
    "duration": 24,
    "start_time": "2024-06-26T19:10:08.020Z"
   },
   {
    "duration": 15,
    "start_time": "2024-06-26T19:10:08.046Z"
   },
   {
    "duration": 6,
    "start_time": "2024-06-26T19:11:36.633Z"
   },
   {
    "duration": 4,
    "start_time": "2024-06-26T19:12:59.171Z"
   },
   {
    "duration": 8,
    "start_time": "2024-06-26T19:13:05.721Z"
   },
   {
    "duration": 665,
    "start_time": "2024-06-26T19:27:13.681Z"
   },
   {
    "duration": 536,
    "start_time": "2024-06-26T19:27:41.670Z"
   },
   {
    "duration": 24,
    "start_time": "2024-06-26T19:28:04.741Z"
   },
   {
    "duration": 30,
    "start_time": "2024-06-26T19:28:27.376Z"
   },
   {
    "duration": 25,
    "start_time": "2024-06-26T19:29:55.727Z"
   },
   {
    "duration": 963,
    "start_time": "2024-06-26T19:30:00.074Z"
   },
   {
    "duration": 77,
    "start_time": "2024-06-26T19:30:01.039Z"
   },
   {
    "duration": 29,
    "start_time": "2024-06-26T19:30:01.118Z"
   },
   {
    "duration": 58,
    "start_time": "2024-06-26T19:30:01.149Z"
   },
   {
    "duration": 64,
    "start_time": "2024-06-26T19:30:01.209Z"
   },
   {
    "duration": 322,
    "start_time": "2024-06-26T19:30:01.275Z"
   },
   {
    "duration": 103,
    "start_time": "2024-06-26T19:30:01.599Z"
   },
   {
    "duration": 13,
    "start_time": "2024-06-26T19:30:01.704Z"
   },
   {
    "duration": 13,
    "start_time": "2024-06-26T19:30:01.719Z"
   },
   {
    "duration": 6,
    "start_time": "2024-06-26T19:30:01.735Z"
   },
   {
    "duration": 502,
    "start_time": "2024-06-26T19:30:01.742Z"
   },
   {
    "duration": 163,
    "start_time": "2024-06-26T19:30:02.246Z"
   },
   {
    "duration": 281,
    "start_time": "2024-06-26T19:30:02.410Z"
   },
   {
    "duration": 359,
    "start_time": "2024-06-26T19:30:02.693Z"
   },
   {
    "duration": 200,
    "start_time": "2024-06-26T19:30:03.054Z"
   },
   {
    "duration": 38,
    "start_time": "2024-06-26T19:30:03.256Z"
   },
   {
    "duration": 26,
    "start_time": "2024-06-26T19:30:03.296Z"
   },
   {
    "duration": 378,
    "start_time": "2024-06-26T19:30:03.324Z"
   },
   {
    "duration": 382,
    "start_time": "2024-06-26T19:30:03.704Z"
   },
   {
    "duration": 299,
    "start_time": "2024-06-26T19:30:04.088Z"
   },
   {
    "duration": 203,
    "start_time": "2024-06-26T19:30:04.391Z"
   },
   {
    "duration": 35,
    "start_time": "2024-06-26T19:30:04.596Z"
   },
   {
    "duration": 24,
    "start_time": "2024-06-26T19:30:04.633Z"
   },
   {
    "duration": 8,
    "start_time": "2024-06-26T19:30:04.659Z"
   },
   {
    "duration": 692,
    "start_time": "2024-06-26T19:30:04.668Z"
   },
   {
    "duration": 26,
    "start_time": "2024-06-26T19:30:20.056Z"
   },
   {
    "duration": 8,
    "start_time": "2024-06-26T19:30:23.651Z"
   },
   {
    "duration": 22,
    "start_time": "2024-06-26T19:31:50.960Z"
   },
   {
    "duration": 7,
    "start_time": "2024-06-26T19:33:02.810Z"
   },
   {
    "duration": 20,
    "start_time": "2024-06-26T19:40:16.027Z"
   },
   {
    "duration": 17,
    "start_time": "2024-06-26T19:41:38.480Z"
   },
   {
    "duration": 5,
    "start_time": "2024-06-26T19:44:28.312Z"
   },
   {
    "duration": 141,
    "start_time": "2024-06-26T19:45:06.859Z"
   },
   {
    "duration": 124,
    "start_time": "2024-06-26T19:45:18.339Z"
   },
   {
    "duration": 18,
    "start_time": "2024-06-26T19:46:18.383Z"
   },
   {
    "duration": 902,
    "start_time": "2024-06-26T19:46:37.456Z"
   },
   {
    "duration": 76,
    "start_time": "2024-06-26T19:46:38.361Z"
   },
   {
    "duration": 25,
    "start_time": "2024-06-26T19:46:38.439Z"
   },
   {
    "duration": 18,
    "start_time": "2024-06-26T19:46:38.466Z"
   },
   {
    "duration": 15,
    "start_time": "2024-06-26T19:46:38.487Z"
   },
   {
    "duration": 13,
    "start_time": "2024-06-26T19:46:38.504Z"
   },
   {
    "duration": 6,
    "start_time": "2024-06-26T19:46:38.518Z"
   },
   {
    "duration": 8,
    "start_time": "2024-06-26T19:46:38.526Z"
   },
   {
    "duration": 8,
    "start_time": "2024-06-26T19:46:38.536Z"
   },
   {
    "duration": 5,
    "start_time": "2024-06-26T19:46:38.546Z"
   },
   {
    "duration": 468,
    "start_time": "2024-06-26T19:46:38.553Z"
   },
   {
    "duration": 153,
    "start_time": "2024-06-26T19:46:39.022Z"
   },
   {
    "duration": 285,
    "start_time": "2024-06-26T19:46:39.177Z"
   },
   {
    "duration": 357,
    "start_time": "2024-06-26T19:46:39.466Z"
   },
   {
    "duration": 196,
    "start_time": "2024-06-26T19:46:39.824Z"
   },
   {
    "duration": 27,
    "start_time": "2024-06-26T19:46:40.022Z"
   },
   {
    "duration": 11,
    "start_time": "2024-06-26T19:46:40.051Z"
   },
   {
    "duration": 361,
    "start_time": "2024-06-26T19:46:40.064Z"
   },
   {
    "duration": 379,
    "start_time": "2024-06-26T19:46:40.428Z"
   },
   {
    "duration": 291,
    "start_time": "2024-06-26T19:46:40.809Z"
   },
   {
    "duration": 215,
    "start_time": "2024-06-26T19:46:41.102Z"
   },
   {
    "duration": 34,
    "start_time": "2024-06-26T19:46:41.319Z"
   },
   {
    "duration": 6,
    "start_time": "2024-06-26T19:46:41.355Z"
   },
   {
    "duration": 32,
    "start_time": "2024-06-26T19:46:41.363Z"
   },
   {
    "duration": 11,
    "start_time": "2024-06-26T19:46:41.398Z"
   },
   {
    "duration": 18,
    "start_time": "2024-06-26T19:46:41.411Z"
   },
   {
    "duration": 6,
    "start_time": "2024-06-26T19:46:41.430Z"
   },
   {
    "duration": 172,
    "start_time": "2024-06-26T19:46:41.438Z"
   },
   {
    "duration": 18,
    "start_time": "2024-06-26T19:46:41.612Z"
   },
   {
    "duration": 38,
    "start_time": "2024-06-26T19:48:08.452Z"
   },
   {
    "duration": 38,
    "start_time": "2024-06-26T19:49:54.223Z"
   },
   {
    "duration": 138,
    "start_time": "2024-06-26T19:49:59.740Z"
   },
   {
    "duration": 36,
    "start_time": "2024-06-26T19:50:03.780Z"
   },
   {
    "duration": 36,
    "start_time": "2024-06-26T20:02:12.940Z"
   },
   {
    "duration": 878,
    "start_time": "2024-06-26T20:02:24.408Z"
   },
   {
    "duration": 79,
    "start_time": "2024-06-26T20:02:25.288Z"
   },
   {
    "duration": 28,
    "start_time": "2024-06-26T20:02:25.369Z"
   },
   {
    "duration": 68,
    "start_time": "2024-06-26T20:02:25.400Z"
   },
   {
    "duration": 40,
    "start_time": "2024-06-26T20:02:25.470Z"
   },
   {
    "duration": 60,
    "start_time": "2024-06-26T20:02:25.512Z"
   },
   {
    "duration": 38,
    "start_time": "2024-06-26T20:02:25.574Z"
   },
   {
    "duration": 70,
    "start_time": "2024-06-26T20:02:25.614Z"
   },
   {
    "duration": 172,
    "start_time": "2024-06-26T20:02:25.686Z"
   },
   {
    "duration": 33,
    "start_time": "2024-06-26T20:02:25.861Z"
   },
   {
    "duration": 527,
    "start_time": "2024-06-26T20:02:25.895Z"
   },
   {
    "duration": 170,
    "start_time": "2024-06-26T20:02:26.423Z"
   },
   {
    "duration": 301,
    "start_time": "2024-06-26T20:02:26.595Z"
   },
   {
    "duration": 370,
    "start_time": "2024-06-26T20:02:26.898Z"
   },
   {
    "duration": 201,
    "start_time": "2024-06-26T20:02:27.270Z"
   },
   {
    "duration": 18,
    "start_time": "2024-06-26T20:02:27.473Z"
   },
   {
    "duration": 15,
    "start_time": "2024-06-26T20:02:27.493Z"
   },
   {
    "duration": 380,
    "start_time": "2024-06-26T20:02:27.510Z"
   },
   {
    "duration": 377,
    "start_time": "2024-06-26T20:02:27.891Z"
   },
   {
    "duration": 287,
    "start_time": "2024-06-26T20:02:28.270Z"
   },
   {
    "duration": 220,
    "start_time": "2024-06-26T20:02:28.558Z"
   },
   {
    "duration": 40,
    "start_time": "2024-06-26T20:02:28.780Z"
   },
   {
    "duration": 13,
    "start_time": "2024-06-26T20:02:28.822Z"
   },
   {
    "duration": 28,
    "start_time": "2024-06-26T20:02:28.837Z"
   },
   {
    "duration": 28,
    "start_time": "2024-06-26T20:02:28.866Z"
   },
   {
    "duration": 31,
    "start_time": "2024-06-26T20:02:28.896Z"
   },
   {
    "duration": 27,
    "start_time": "2024-06-26T20:02:28.929Z"
   },
   {
    "duration": 187,
    "start_time": "2024-06-26T20:02:28.960Z"
   },
   {
    "duration": 20,
    "start_time": "2024-06-26T20:02:29.149Z"
   },
   {
    "duration": 21,
    "start_time": "2024-06-26T20:04:47.302Z"
   },
   {
    "duration": 22,
    "start_time": "2024-06-26T20:04:58.212Z"
   },
   {
    "duration": 21,
    "start_time": "2024-06-26T20:05:10.880Z"
   },
   {
    "duration": 16,
    "start_time": "2024-06-26T20:06:15.246Z"
   },
   {
    "duration": 107,
    "start_time": "2024-06-26T20:41:03.375Z"
   },
   {
    "duration": 8,
    "start_time": "2024-06-26T20:41:18.503Z"
   },
   {
    "duration": 5,
    "start_time": "2024-06-26T20:42:24.478Z"
   },
   {
    "duration": 5,
    "start_time": "2024-06-26T20:42:40.813Z"
   },
   {
    "duration": 6,
    "start_time": "2024-06-26T20:50:09.462Z"
   },
   {
    "duration": 6,
    "start_time": "2024-06-26T20:53:36.496Z"
   },
   {
    "duration": 30,
    "start_time": "2024-06-26T21:13:28.175Z"
   },
   {
    "duration": 26,
    "start_time": "2024-06-26T21:13:54.538Z"
   },
   {
    "duration": 890,
    "start_time": "2024-06-26T21:14:15.418Z"
   },
   {
    "duration": 219,
    "start_time": "2024-06-26T21:14:48.822Z"
   },
   {
    "duration": 1029,
    "start_time": "2024-06-26T21:15:11.196Z"
   },
   {
    "duration": 52,
    "start_time": "2024-06-26T21:16:09.032Z"
   },
   {
    "duration": 44,
    "start_time": "2024-06-26T21:17:32.139Z"
   },
   {
    "duration": 1601,
    "start_time": "2024-06-26T21:26:27.737Z"
   },
   {
    "duration": 10,
    "start_time": "2024-06-26T21:31:21.916Z"
   },
   {
    "duration": 7,
    "start_time": "2024-06-26T21:31:34.789Z"
   },
   {
    "duration": 7,
    "start_time": "2024-06-26T21:33:55.255Z"
   },
   {
    "duration": 6,
    "start_time": "2024-06-26T21:34:26.762Z"
   },
   {
    "duration": 7,
    "start_time": "2024-06-26T21:36:22.349Z"
   },
   {
    "duration": 5,
    "start_time": "2024-06-26T21:36:28.224Z"
   },
   {
    "duration": 5,
    "start_time": "2024-06-26T21:36:32.867Z"
   },
   {
    "duration": 6,
    "start_time": "2024-06-26T21:36:40.681Z"
   },
   {
    "duration": 6,
    "start_time": "2024-06-26T21:37:00.667Z"
   },
   {
    "duration": 6,
    "start_time": "2024-06-26T21:37:06.470Z"
   },
   {
    "duration": 6,
    "start_time": "2024-06-26T21:37:10.859Z"
   },
   {
    "duration": 6,
    "start_time": "2024-06-26T21:37:17.633Z"
   },
   {
    "duration": 5,
    "start_time": "2024-06-26T21:39:03.617Z"
   },
   {
    "duration": 6,
    "start_time": "2024-06-26T21:39:12.517Z"
   },
   {
    "duration": 6,
    "start_time": "2024-06-26T21:39:26.489Z"
   },
   {
    "duration": 6,
    "start_time": "2024-06-26T21:39:32.159Z"
   },
   {
    "duration": 5,
    "start_time": "2024-06-26T21:39:42.787Z"
   },
   {
    "duration": 895,
    "start_time": "2024-06-26T21:39:50.253Z"
   },
   {
    "duration": 77,
    "start_time": "2024-06-26T21:39:51.150Z"
   },
   {
    "duration": 27,
    "start_time": "2024-06-26T21:39:51.229Z"
   },
   {
    "duration": 17,
    "start_time": "2024-06-26T21:39:51.259Z"
   },
   {
    "duration": 25,
    "start_time": "2024-06-26T21:39:51.277Z"
   },
   {
    "duration": 22,
    "start_time": "2024-06-26T21:39:51.304Z"
   },
   {
    "duration": 36,
    "start_time": "2024-06-26T21:39:51.327Z"
   },
   {
    "duration": 21,
    "start_time": "2024-06-26T21:39:51.365Z"
   },
   {
    "duration": 24,
    "start_time": "2024-06-26T21:39:51.388Z"
   },
   {
    "duration": 25,
    "start_time": "2024-06-26T21:39:51.414Z"
   },
   {
    "duration": 473,
    "start_time": "2024-06-26T21:39:51.440Z"
   },
   {
    "duration": 157,
    "start_time": "2024-06-26T21:39:51.915Z"
   },
   {
    "duration": 286,
    "start_time": "2024-06-26T21:39:52.074Z"
   },
   {
    "duration": 356,
    "start_time": "2024-06-26T21:39:52.361Z"
   },
   {
    "duration": 191,
    "start_time": "2024-06-26T21:39:52.719Z"
   },
   {
    "duration": 14,
    "start_time": "2024-06-26T21:39:52.912Z"
   },
   {
    "duration": 66,
    "start_time": "2024-06-26T21:39:52.928Z"
   },
   {
    "duration": 355,
    "start_time": "2024-06-26T21:39:52.996Z"
   },
   {
    "duration": 348,
    "start_time": "2024-06-26T21:39:53.352Z"
   },
   {
    "duration": 279,
    "start_time": "2024-06-26T21:39:53.702Z"
   },
   {
    "duration": 209,
    "start_time": "2024-06-26T21:39:53.982Z"
   },
   {
    "duration": 33,
    "start_time": "2024-06-26T21:39:54.193Z"
   },
   {
    "duration": 6,
    "start_time": "2024-06-26T21:39:54.227Z"
   },
   {
    "duration": 124,
    "start_time": "2024-06-26T21:39:54.235Z"
   },
   {
    "duration": 81,
    "start_time": "2024-06-26T21:39:54.360Z"
   },
   {
    "duration": 54,
    "start_time": "2024-06-26T21:39:54.443Z"
   },
   {
    "duration": 11,
    "start_time": "2024-06-26T21:39:54.499Z"
   },
   {
    "duration": 148,
    "start_time": "2024-06-26T21:39:54.513Z"
   },
   {
    "duration": 5,
    "start_time": "2024-06-26T21:40:13.203Z"
   },
   {
    "duration": 5,
    "start_time": "2024-06-26T21:40:28.735Z"
   },
   {
    "duration": 6,
    "start_time": "2024-06-26T21:40:32.989Z"
   },
   {
    "duration": 6,
    "start_time": "2024-06-26T21:40:47.214Z"
   },
   {
    "duration": 5,
    "start_time": "2024-06-26T21:40:52.129Z"
   },
   {
    "duration": 6,
    "start_time": "2024-06-26T21:40:55.221Z"
   },
   {
    "duration": 6,
    "start_time": "2024-06-26T21:42:14.883Z"
   },
   {
    "duration": 6,
    "start_time": "2024-06-26T21:42:22.859Z"
   },
   {
    "duration": 5,
    "start_time": "2024-06-26T21:42:31.875Z"
   },
   {
    "duration": 7,
    "start_time": "2024-06-26T21:43:03.707Z"
   },
   {
    "duration": 13,
    "start_time": "2024-06-26T21:44:11.915Z"
   },
   {
    "duration": 5,
    "start_time": "2024-06-26T21:44:21.043Z"
   },
   {
    "duration": 6,
    "start_time": "2024-06-26T21:44:53.323Z"
   },
   {
    "duration": 935,
    "start_time": "2024-06-26T21:45:03.276Z"
   },
   {
    "duration": 76,
    "start_time": "2024-06-26T21:45:04.213Z"
   },
   {
    "duration": 27,
    "start_time": "2024-06-26T21:45:04.291Z"
   },
   {
    "duration": 60,
    "start_time": "2024-06-26T21:45:04.320Z"
   },
   {
    "duration": 14,
    "start_time": "2024-06-26T21:45:04.382Z"
   },
   {
    "duration": 9,
    "start_time": "2024-06-26T21:45:04.398Z"
   },
   {
    "duration": 5,
    "start_time": "2024-06-26T21:45:04.409Z"
   },
   {
    "duration": 7,
    "start_time": "2024-06-26T21:45:04.415Z"
   },
   {
    "duration": 8,
    "start_time": "2024-06-26T21:45:04.423Z"
   },
   {
    "duration": 5,
    "start_time": "2024-06-26T21:45:04.432Z"
   },
   {
    "duration": 481,
    "start_time": "2024-06-26T21:45:04.438Z"
   },
   {
    "duration": 154,
    "start_time": "2024-06-26T21:45:04.921Z"
   },
   {
    "duration": 293,
    "start_time": "2024-06-26T21:45:05.076Z"
   },
   {
    "duration": 366,
    "start_time": "2024-06-26T21:45:05.373Z"
   },
   {
    "duration": 187,
    "start_time": "2024-06-26T21:45:05.741Z"
   },
   {
    "duration": 14,
    "start_time": "2024-06-26T21:45:05.930Z"
   },
   {
    "duration": 11,
    "start_time": "2024-06-26T21:45:05.946Z"
   },
   {
    "duration": 372,
    "start_time": "2024-06-26T21:45:05.958Z"
   },
   {
    "duration": 349,
    "start_time": "2024-06-26T21:45:06.332Z"
   },
   {
    "duration": 292,
    "start_time": "2024-06-26T21:45:06.683Z"
   },
   {
    "duration": 231,
    "start_time": "2024-06-26T21:45:06.976Z"
   },
   {
    "duration": 42,
    "start_time": "2024-06-26T21:45:07.209Z"
   },
   {
    "duration": 6,
    "start_time": "2024-06-26T21:45:07.252Z"
   },
   {
    "duration": 13,
    "start_time": "2024-06-26T21:45:07.260Z"
   },
   {
    "duration": 22,
    "start_time": "2024-06-26T21:45:07.275Z"
   },
   {
    "duration": 20,
    "start_time": "2024-06-26T21:45:07.298Z"
   },
   {
    "duration": 12,
    "start_time": "2024-06-26T21:45:07.320Z"
   },
   {
    "duration": 25,
    "start_time": "2024-06-26T21:45:07.334Z"
   },
   {
    "duration": 6,
    "start_time": "2024-06-26T21:45:11.953Z"
   },
   {
    "duration": 6,
    "start_time": "2024-06-26T21:45:18.113Z"
   },
   {
    "duration": 6,
    "start_time": "2024-06-26T21:45:23.014Z"
   },
   {
    "duration": 6,
    "start_time": "2024-06-26T21:45:31.928Z"
   },
   {
    "duration": 5,
    "start_time": "2024-06-26T21:45:54.831Z"
   },
   {
    "duration": 6,
    "start_time": "2024-06-26T21:46:01.017Z"
   },
   {
    "duration": 6,
    "start_time": "2024-06-26T21:46:09.607Z"
   },
   {
    "duration": 5,
    "start_time": "2024-06-26T21:46:18.769Z"
   },
   {
    "duration": 6,
    "start_time": "2024-06-26T21:46:25.551Z"
   },
   {
    "duration": 5,
    "start_time": "2024-06-26T21:46:31.129Z"
   },
   {
    "duration": 6,
    "start_time": "2024-06-26T21:46:34.539Z"
   },
   {
    "duration": 5,
    "start_time": "2024-06-26T21:46:37.641Z"
   },
   {
    "duration": 5,
    "start_time": "2024-06-26T21:46:40.875Z"
   },
   {
    "duration": 6,
    "start_time": "2024-06-26T21:46:44.009Z"
   },
   {
    "duration": 6,
    "start_time": "2024-06-26T21:46:47.618Z"
   },
   {
    "duration": 6,
    "start_time": "2024-06-26T21:46:50.516Z"
   },
   {
    "duration": 7,
    "start_time": "2024-06-26T21:47:15.075Z"
   },
   {
    "duration": 6,
    "start_time": "2024-06-26T21:51:18.461Z"
   },
   {
    "duration": 7,
    "start_time": "2024-06-26T21:51:28.246Z"
   },
   {
    "duration": 7,
    "start_time": "2024-06-26T21:51:33.216Z"
   },
   {
    "duration": 6,
    "start_time": "2024-06-26T21:51:42.921Z"
   },
   {
    "duration": 6,
    "start_time": "2024-06-26T21:51:46.819Z"
   },
   {
    "duration": 6,
    "start_time": "2024-06-26T21:52:38.547Z"
   },
   {
    "duration": 6,
    "start_time": "2024-06-26T21:53:06.594Z"
   },
   {
    "duration": 7,
    "start_time": "2024-06-26T21:53:48.967Z"
   },
   {
    "duration": 7,
    "start_time": "2024-06-26T21:53:58.343Z"
   },
   {
    "duration": 7,
    "start_time": "2024-06-26T21:54:03.519Z"
   },
   {
    "duration": 8,
    "start_time": "2024-06-26T21:54:22.189Z"
   },
   {
    "duration": 6,
    "start_time": "2024-06-26T21:54:25.784Z"
   },
   {
    "duration": 6,
    "start_time": "2024-06-26T21:57:05.949Z"
   },
   {
    "duration": 875,
    "start_time": "2024-06-26T22:02:11.391Z"
   },
   {
    "duration": 102,
    "start_time": "2024-06-26T22:04:20.624Z"
   },
   {
    "duration": 17,
    "start_time": "2024-06-26T22:04:29.156Z"
   },
   {
    "duration": 829,
    "start_time": "2024-06-26T22:04:54.079Z"
   },
   {
    "duration": 779,
    "start_time": "2024-06-26T22:05:07.951Z"
   },
   {
    "duration": 841,
    "start_time": "2024-06-26T22:05:19.736Z"
   },
   {
    "duration": 142,
    "start_time": "2024-06-26T22:05:57.531Z"
   },
   {
    "duration": 236,
    "start_time": "2024-06-26T22:07:12.534Z"
   },
   {
    "duration": 6,
    "start_time": "2024-06-26T22:09:15.042Z"
   },
   {
    "duration": 5,
    "start_time": "2024-06-26T22:09:25.925Z"
   },
   {
    "duration": 38446,
    "start_time": "2024-06-26T22:14:15.039Z"
   },
   {
    "duration": 5,
    "start_time": "2024-06-26T22:18:49.082Z"
   },
   {
    "duration": 2,
    "start_time": "2024-06-26T22:21:37.184Z"
   },
   {
    "duration": 51,
    "start_time": "2024-06-27T12:58:09.600Z"
   },
   {
    "duration": 898,
    "start_time": "2024-06-27T12:58:12.883Z"
   },
   {
    "duration": 286,
    "start_time": "2024-06-27T12:58:13.783Z"
   },
   {
    "duration": 27,
    "start_time": "2024-06-27T12:58:14.071Z"
   },
   {
    "duration": 21,
    "start_time": "2024-06-27T12:58:14.101Z"
   },
   {
    "duration": 16,
    "start_time": "2024-06-27T12:58:14.124Z"
   },
   {
    "duration": 23,
    "start_time": "2024-06-27T12:58:14.141Z"
   },
   {
    "duration": 23,
    "start_time": "2024-06-27T12:58:14.166Z"
   },
   {
    "duration": 13,
    "start_time": "2024-06-27T12:58:14.191Z"
   },
   {
    "duration": 18,
    "start_time": "2024-06-27T12:58:14.206Z"
   },
   {
    "duration": 5,
    "start_time": "2024-06-27T12:58:14.226Z"
   },
   {
    "duration": 657,
    "start_time": "2024-06-27T12:58:14.232Z"
   },
   {
    "duration": 154,
    "start_time": "2024-06-27T12:58:14.892Z"
   },
   {
    "duration": 287,
    "start_time": "2024-06-27T12:58:15.048Z"
   },
   {
    "duration": 199,
    "start_time": "2024-06-27T12:58:15.337Z"
   },
   {
    "duration": 16,
    "start_time": "2024-06-27T12:58:32.414Z"
   },
   {
    "duration": 137,
    "start_time": "2024-06-27T12:59:57.707Z"
   },
   {
    "duration": 3,
    "start_time": "2024-06-27T13:04:39.860Z"
   },
   {
    "duration": 111,
    "start_time": "2024-06-27T13:04:39.865Z"
   },
   {
    "duration": 20,
    "start_time": "2024-06-27T13:04:39.977Z"
   },
   {
    "duration": 170,
    "start_time": "2024-06-27T13:04:40.000Z"
   },
   {
    "duration": 20,
    "start_time": "2024-06-27T13:04:40.172Z"
   },
   {
    "duration": 18,
    "start_time": "2024-06-27T13:04:40.194Z"
   },
   {
    "duration": 9,
    "start_time": "2024-06-27T13:04:40.214Z"
   },
   {
    "duration": 6,
    "start_time": "2024-06-27T13:04:40.225Z"
   },
   {
    "duration": 10,
    "start_time": "2024-06-27T13:04:40.233Z"
   },
   {
    "duration": 9,
    "start_time": "2024-06-27T13:04:40.245Z"
   },
   {
    "duration": 36,
    "start_time": "2024-06-27T13:04:40.256Z"
   },
   {
    "duration": 215,
    "start_time": "2024-06-27T13:04:40.294Z"
   },
   {
    "duration": 234,
    "start_time": "2024-06-27T13:04:40.511Z"
   },
   {
    "duration": 280,
    "start_time": "2024-06-27T13:04:40.749Z"
   },
   {
    "duration": 372,
    "start_time": "2024-06-27T13:04:41.031Z"
   },
   {
    "duration": 208,
    "start_time": "2024-06-27T13:04:41.404Z"
   },
   {
    "duration": 21,
    "start_time": "2024-06-27T13:04:41.614Z"
   },
   {
    "duration": 22,
    "start_time": "2024-06-27T13:04:41.637Z"
   },
   {
    "duration": 386,
    "start_time": "2024-06-27T13:04:41.662Z"
   },
   {
    "duration": 363,
    "start_time": "2024-06-27T13:04:42.049Z"
   },
   {
    "duration": 204,
    "start_time": "2024-06-27T13:04:42.414Z"
   },
   {
    "duration": 309,
    "start_time": "2024-06-27T13:04:42.620Z"
   },
   {
    "duration": 35,
    "start_time": "2024-06-27T13:04:42.931Z"
   },
   {
    "duration": 37,
    "start_time": "2024-06-27T13:04:42.967Z"
   },
   {
    "duration": 927,
    "start_time": "2024-06-27T13:06:42.935Z"
   },
   {
    "duration": 76,
    "start_time": "2024-06-27T13:06:43.864Z"
   },
   {
    "duration": 27,
    "start_time": "2024-06-27T13:06:43.941Z"
   },
   {
    "duration": 396,
    "start_time": "2024-06-27T13:06:43.969Z"
   },
   {
    "duration": 27,
    "start_time": "2024-06-27T13:06:44.367Z"
   },
   {
    "duration": 15,
    "start_time": "2024-06-27T13:06:44.396Z"
   },
   {
    "duration": 9,
    "start_time": "2024-06-27T13:06:44.412Z"
   },
   {
    "duration": 18,
    "start_time": "2024-06-27T13:06:44.423Z"
   },
   {
    "duration": 7,
    "start_time": "2024-06-27T13:06:44.443Z"
   },
   {
    "duration": 8,
    "start_time": "2024-06-27T13:06:44.452Z"
   },
   {
    "duration": 14,
    "start_time": "2024-06-27T13:06:44.462Z"
   },
   {
    "duration": 195,
    "start_time": "2024-06-27T13:06:44.492Z"
   },
   {
    "duration": 156,
    "start_time": "2024-06-27T13:06:44.688Z"
   },
   {
    "duration": 319,
    "start_time": "2024-06-27T13:06:44.847Z"
   },
   {
    "duration": 440,
    "start_time": "2024-06-27T13:06:45.167Z"
   },
   {
    "duration": 194,
    "start_time": "2024-06-27T13:06:45.608Z"
   },
   {
    "duration": 16,
    "start_time": "2024-06-27T13:06:45.803Z"
   },
   {
    "duration": 11,
    "start_time": "2024-06-27T13:06:45.820Z"
   },
   {
    "duration": 372,
    "start_time": "2024-06-27T13:06:45.832Z"
   },
   {
    "duration": 415,
    "start_time": "2024-06-27T13:06:46.205Z"
   },
   {
    "duration": 203,
    "start_time": "2024-06-27T13:06:46.621Z"
   },
   {
    "duration": 224,
    "start_time": "2024-06-27T13:06:46.826Z"
   },
   {
    "duration": 44,
    "start_time": "2024-06-27T13:06:47.052Z"
   },
   {
    "duration": 6,
    "start_time": "2024-06-27T13:06:47.098Z"
   },
   {
    "duration": 11,
    "start_time": "2024-06-27T13:06:47.106Z"
   },
   {
    "duration": 178,
    "start_time": "2024-06-27T13:06:47.118Z"
   },
   {
    "duration": 16,
    "start_time": "2024-06-27T13:06:47.297Z"
   },
   {
    "duration": 5,
    "start_time": "2024-06-27T13:06:47.315Z"
   },
   {
    "duration": 26,
    "start_time": "2024-06-27T13:06:47.322Z"
   },
   {
    "duration": 16,
    "start_time": "2024-06-27T13:06:47.349Z"
   },
   {
    "duration": 8,
    "start_time": "2024-06-27T13:06:51.269Z"
   },
   {
    "duration": 24,
    "start_time": "2024-06-27T13:07:05.912Z"
   },
   {
    "duration": 6,
    "start_time": "2024-06-27T13:08:41.340Z"
   },
   {
    "duration": 51,
    "start_time": "2024-06-27T13:31:38.773Z"
   },
   {
    "duration": 871,
    "start_time": "2024-06-27T13:31:44.192Z"
   },
   {
    "duration": 303,
    "start_time": "2024-06-27T13:31:45.066Z"
   },
   {
    "duration": 26,
    "start_time": "2024-06-27T13:31:45.371Z"
   },
   {
    "duration": 588,
    "start_time": "2024-06-27T13:31:45.399Z"
   },
   {
    "duration": 20,
    "start_time": "2024-06-27T13:31:45.989Z"
   },
   {
    "duration": 18,
    "start_time": "2024-06-27T13:31:46.011Z"
   },
   {
    "duration": 28,
    "start_time": "2024-06-27T13:31:46.031Z"
   },
   {
    "duration": 5,
    "start_time": "2024-06-27T13:31:46.061Z"
   },
   {
    "duration": 11,
    "start_time": "2024-06-27T13:31:46.068Z"
   },
   {
    "duration": 11,
    "start_time": "2024-06-27T13:31:46.083Z"
   },
   {
    "duration": 78,
    "start_time": "2024-06-27T13:31:46.096Z"
   },
   {
    "duration": 186,
    "start_time": "2024-06-27T13:31:46.176Z"
   },
   {
    "duration": 150,
    "start_time": "2024-06-27T13:31:46.364Z"
   },
   {
    "duration": 281,
    "start_time": "2024-06-27T13:31:46.516Z"
   },
   {
    "duration": 338,
    "start_time": "2024-06-27T13:31:46.798Z"
   },
   {
    "duration": 186,
    "start_time": "2024-06-27T13:31:47.138Z"
   },
   {
    "duration": 15,
    "start_time": "2024-06-27T13:31:47.325Z"
   },
   {
    "duration": 24,
    "start_time": "2024-06-27T13:31:47.342Z"
   },
   {
    "duration": 428,
    "start_time": "2024-06-27T13:31:47.368Z"
   },
   {
    "duration": 357,
    "start_time": "2024-06-27T13:31:47.798Z"
   },
   {
    "duration": 201,
    "start_time": "2024-06-27T13:31:48.157Z"
   },
   {
    "duration": 208,
    "start_time": "2024-06-27T13:31:48.360Z"
   },
   {
    "duration": 32,
    "start_time": "2024-06-27T13:31:48.570Z"
   },
   {
    "duration": 6,
    "start_time": "2024-06-27T13:31:48.604Z"
   },
   {
    "duration": 6,
    "start_time": "2024-06-27T13:31:48.611Z"
   },
   {
    "duration": 38,
    "start_time": "2024-06-27T13:31:48.618Z"
   },
   {
    "duration": 20,
    "start_time": "2024-06-27T13:31:48.658Z"
   },
   {
    "duration": 7,
    "start_time": "2024-06-27T13:31:48.682Z"
   },
   {
    "duration": 7,
    "start_time": "2024-06-27T13:31:48.690Z"
   },
   {
    "duration": 10,
    "start_time": "2024-06-27T13:31:48.698Z"
   },
   {
    "duration": 15,
    "start_time": "2024-06-27T13:31:48.709Z"
   },
   {
    "duration": 175,
    "start_time": "2024-06-27T13:31:48.725Z"
   },
   {
    "duration": 988,
    "start_time": "2024-06-27T17:06:51.366Z"
   },
   {
    "duration": 205,
    "start_time": "2024-06-27T17:06:52.356Z"
   },
   {
    "duration": 30,
    "start_time": "2024-06-27T17:06:52.563Z"
   },
   {
    "duration": 643,
    "start_time": "2024-06-27T17:06:52.597Z"
   },
   {
    "duration": 20,
    "start_time": "2024-06-27T17:06:53.241Z"
   },
   {
    "duration": 32,
    "start_time": "2024-06-27T17:06:53.263Z"
   },
   {
    "duration": 1130,
    "start_time": "2024-06-27T17:06:53.297Z"
   },
   {
    "duration": 0,
    "start_time": "2024-06-27T17:06:54.429Z"
   },
   {
    "duration": 0,
    "start_time": "2024-06-27T17:06:54.430Z"
   },
   {
    "duration": 0,
    "start_time": "2024-06-27T17:06:54.432Z"
   },
   {
    "duration": 0,
    "start_time": "2024-06-27T17:06:54.433Z"
   },
   {
    "duration": 0,
    "start_time": "2024-06-27T17:06:54.434Z"
   },
   {
    "duration": 0,
    "start_time": "2024-06-27T17:06:54.435Z"
   },
   {
    "duration": 0,
    "start_time": "2024-06-27T17:06:54.436Z"
   },
   {
    "duration": 0,
    "start_time": "2024-06-27T17:06:54.438Z"
   },
   {
    "duration": 0,
    "start_time": "2024-06-27T17:06:54.438Z"
   },
   {
    "duration": 0,
    "start_time": "2024-06-27T17:06:54.440Z"
   },
   {
    "duration": 0,
    "start_time": "2024-06-27T17:06:54.443Z"
   },
   {
    "duration": 1,
    "start_time": "2024-06-27T17:06:54.444Z"
   },
   {
    "duration": 0,
    "start_time": "2024-06-27T17:06:54.446Z"
   },
   {
    "duration": 0,
    "start_time": "2024-06-27T17:06:54.447Z"
   },
   {
    "duration": 0,
    "start_time": "2024-06-27T17:06:54.449Z"
   },
   {
    "duration": 0,
    "start_time": "2024-06-27T17:06:54.450Z"
   },
   {
    "duration": 0,
    "start_time": "2024-06-27T17:06:54.451Z"
   },
   {
    "duration": 0,
    "start_time": "2024-06-27T17:06:54.453Z"
   },
   {
    "duration": 0,
    "start_time": "2024-06-27T17:06:54.455Z"
   },
   {
    "duration": 0,
    "start_time": "2024-06-27T17:06:54.456Z"
   },
   {
    "duration": 0,
    "start_time": "2024-06-27T17:06:54.458Z"
   },
   {
    "duration": 0,
    "start_time": "2024-06-27T17:06:54.458Z"
   },
   {
    "duration": 0,
    "start_time": "2024-06-27T17:06:54.460Z"
   },
   {
    "duration": 0,
    "start_time": "2024-06-27T17:06:54.461Z"
   },
   {
    "duration": 0,
    "start_time": "2024-06-27T17:06:54.462Z"
   },
   {
    "duration": 166,
    "start_time": "2024-06-27T17:09:24.928Z"
   },
   {
    "duration": 8,
    "start_time": "2024-06-27T17:16:30.037Z"
   },
   {
    "duration": 6,
    "start_time": "2024-06-27T17:16:36.193Z"
   },
   {
    "duration": 7,
    "start_time": "2024-06-27T17:16:40.238Z"
   },
   {
    "duration": 9,
    "start_time": "2024-06-27T17:16:41.357Z"
   },
   {
    "duration": 6,
    "start_time": "2024-06-27T17:16:44.008Z"
   },
   {
    "duration": 17,
    "start_time": "2024-06-27T17:26:29.125Z"
   },
   {
    "duration": 9,
    "start_time": "2024-06-27T17:26:50.413Z"
   },
   {
    "duration": 8,
    "start_time": "2024-06-27T17:27:13.716Z"
   },
   {
    "duration": 6,
    "start_time": "2024-06-27T17:27:19.268Z"
   },
   {
    "duration": 8,
    "start_time": "2024-06-27T17:27:20.653Z"
   },
   {
    "duration": 6,
    "start_time": "2024-06-27T17:27:21.614Z"
   },
   {
    "duration": 9,
    "start_time": "2024-06-27T17:27:47.321Z"
   },
   {
    "duration": 171,
    "start_time": "2024-06-27T17:28:49.765Z"
   },
   {
    "duration": 7,
    "start_time": "2024-06-27T17:29:53.941Z"
   },
   {
    "duration": 160,
    "start_time": "2024-06-27T17:31:17.059Z"
   },
   {
    "duration": 173,
    "start_time": "2024-06-27T17:31:32.277Z"
   },
   {
    "duration": 174,
    "start_time": "2024-06-27T17:33:54.533Z"
   },
   {
    "duration": 21,
    "start_time": "2024-06-27T17:34:39.425Z"
   },
   {
    "duration": 3,
    "start_time": "2024-06-27T17:35:19.221Z"
   },
   {
    "duration": 23,
    "start_time": "2024-06-27T17:35:59.418Z"
   },
   {
    "duration": 21,
    "start_time": "2024-06-27T17:37:53.029Z"
   },
   {
    "duration": 19,
    "start_time": "2024-06-27T17:38:01.170Z"
   },
   {
    "duration": 141,
    "start_time": "2024-06-27T17:38:51.282Z"
   },
   {
    "duration": 129,
    "start_time": "2024-06-27T17:38:53.474Z"
   },
   {
    "duration": 21,
    "start_time": "2024-06-27T17:38:59.946Z"
   },
   {
    "duration": 61,
    "start_time": "2024-06-27T17:41:03.836Z"
   },
   {
    "duration": 16,
    "start_time": "2024-06-27T17:41:08.901Z"
   },
   {
    "duration": 18,
    "start_time": "2024-06-27T17:41:13.565Z"
   },
   {
    "duration": 6,
    "start_time": "2024-06-27T17:41:21.064Z"
   },
   {
    "duration": 138,
    "start_time": "2024-06-27T17:41:57.749Z"
   },
   {
    "duration": 3,
    "start_time": "2024-06-27T18:03:49.167Z"
   },
   {
    "duration": 1204,
    "start_time": "2024-06-27T18:06:21.611Z"
   },
   {
    "duration": 1038,
    "start_time": "2024-06-27T18:07:00.927Z"
   },
   {
    "duration": 230,
    "start_time": "2024-06-27T18:07:07.975Z"
   },
   {
    "duration": 152,
    "start_time": "2024-06-27T18:07:33.441Z"
   },
   {
    "duration": 157,
    "start_time": "2024-06-27T18:07:40.192Z"
   },
   {
    "duration": 143,
    "start_time": "2024-06-27T18:07:46.061Z"
   },
   {
    "duration": 141,
    "start_time": "2024-06-27T18:08:08.771Z"
   },
   {
    "duration": 316,
    "start_time": "2024-06-27T18:13:11.523Z"
   },
   {
    "duration": 186,
    "start_time": "2024-06-27T18:13:33.263Z"
   },
   {
    "duration": 262,
    "start_time": "2024-06-27T18:14:00.978Z"
   },
   {
    "duration": 244,
    "start_time": "2024-06-27T18:14:39.441Z"
   },
   {
    "duration": 453,
    "start_time": "2024-06-27T18:16:17.094Z"
   },
   {
    "duration": 184,
    "start_time": "2024-06-27T18:17:44.726Z"
   },
   {
    "duration": 225,
    "start_time": "2024-06-27T18:17:55.660Z"
   },
   {
    "duration": 19,
    "start_time": "2024-06-27T18:21:42.478Z"
   },
   {
    "duration": 13,
    "start_time": "2024-06-27T18:22:04.022Z"
   },
   {
    "duration": 13,
    "start_time": "2024-06-27T18:22:46.684Z"
   },
   {
    "duration": 11,
    "start_time": "2024-06-27T18:22:57.642Z"
   },
   {
    "duration": 7,
    "start_time": "2024-06-27T18:32:51.350Z"
   },
   {
    "duration": 6,
    "start_time": "2024-06-27T18:33:16.862Z"
   },
   {
    "duration": 16,
    "start_time": "2024-06-27T18:34:09.583Z"
   },
   {
    "duration": 13,
    "start_time": "2024-06-27T18:34:33.240Z"
   },
   {
    "duration": 26,
    "start_time": "2024-06-27T18:34:50.461Z"
   },
   {
    "duration": 12,
    "start_time": "2024-06-27T18:35:41.864Z"
   },
   {
    "duration": 354,
    "start_time": "2024-06-27T18:35:57.550Z"
   },
   {
    "duration": 10,
    "start_time": "2024-06-27T18:36:00.684Z"
   },
   {
    "duration": 348,
    "start_time": "2024-06-27T18:36:09.814Z"
   },
   {
    "duration": 346,
    "start_time": "2024-06-27T18:36:29.185Z"
   },
   {
    "duration": 419,
    "start_time": "2024-06-27T18:36:43.950Z"
   },
   {
    "duration": 188,
    "start_time": "2024-06-27T18:42:16.070Z"
   },
   {
    "duration": 214,
    "start_time": "2024-06-27T18:42:19.019Z"
   },
   {
    "duration": 47,
    "start_time": "2024-06-27T18:43:10.032Z"
   },
   {
    "duration": 201,
    "start_time": "2024-06-27T18:44:23.436Z"
   },
   {
    "duration": 184,
    "start_time": "2024-06-27T18:44:26.690Z"
   },
   {
    "duration": 192,
    "start_time": "2024-06-27T18:44:30.747Z"
   },
   {
    "duration": 7,
    "start_time": "2024-06-27T18:45:11.513Z"
   },
   {
    "duration": 5,
    "start_time": "2024-06-27T18:50:19.032Z"
   },
   {
    "duration": 7,
    "start_time": "2024-06-27T18:50:41.926Z"
   },
   {
    "duration": 5,
    "start_time": "2024-06-27T18:50:48.607Z"
   },
   {
    "duration": 8,
    "start_time": "2024-06-27T18:54:08.382Z"
   },
   {
    "duration": 6,
    "start_time": "2024-06-27T18:55:25.890Z"
   },
   {
    "duration": 14,
    "start_time": "2024-06-27T18:55:56.008Z"
   },
   {
    "duration": 5,
    "start_time": "2024-06-27T19:02:48.989Z"
   },
   {
    "duration": 7,
    "start_time": "2024-06-27T19:06:43.076Z"
   },
   {
    "duration": 8,
    "start_time": "2024-06-27T19:07:17.143Z"
   },
   {
    "duration": 412,
    "start_time": "2024-06-27T19:16:27.812Z"
   },
   {
    "duration": 41,
    "start_time": "2024-06-27T19:17:21.815Z"
   },
   {
    "duration": 47,
    "start_time": "2024-06-27T19:17:33.528Z"
   },
   {
    "duration": 37,
    "start_time": "2024-06-27T19:18:11.006Z"
   },
   {
    "duration": 37,
    "start_time": "2024-06-27T19:18:16.818Z"
   },
   {
    "duration": 39,
    "start_time": "2024-06-27T19:18:40.886Z"
   },
   {
    "duration": 33,
    "start_time": "2024-06-27T19:19:08.414Z"
   },
   {
    "duration": 36,
    "start_time": "2024-06-27T19:20:07.533Z"
   },
   {
    "duration": 29,
    "start_time": "2024-06-27T19:23:17.104Z"
   },
   {
    "duration": 37,
    "start_time": "2024-06-27T19:23:40.392Z"
   },
   {
    "duration": 26,
    "start_time": "2024-06-27T19:25:19.374Z"
   },
   {
    "duration": 14,
    "start_time": "2024-06-27T19:25:39.910Z"
   },
   {
    "duration": 20,
    "start_time": "2024-06-27T19:27:44.868Z"
   },
   {
    "duration": 18,
    "start_time": "2024-06-27T19:28:30.157Z"
   },
   {
    "duration": 15,
    "start_time": "2024-06-27T19:29:15.423Z"
   },
   {
    "duration": 66,
    "start_time": "2024-06-27T19:30:12.012Z"
   },
   {
    "duration": 63,
    "start_time": "2024-06-27T19:30:17.424Z"
   },
   {
    "duration": 815,
    "start_time": "2024-06-27T19:30:42.149Z"
   },
   {
    "duration": 1023,
    "start_time": "2024-06-27T19:31:01.993Z"
   },
   {
    "duration": 1073,
    "start_time": "2024-06-27T19:31:41.381Z"
   },
   {
    "duration": 5,
    "start_time": "2024-06-27T19:32:24.394Z"
   },
   {
    "duration": 11,
    "start_time": "2024-06-27T19:32:28.772Z"
   },
   {
    "duration": 7,
    "start_time": "2024-06-27T19:33:48.750Z"
   },
   {
    "duration": 187,
    "start_time": "2024-06-27T19:45:22.408Z"
   },
   {
    "duration": 533,
    "start_time": "2024-06-27T19:56:40.526Z"
   },
   {
    "duration": 634,
    "start_time": "2024-06-27T19:56:51.356Z"
   },
   {
    "duration": 533,
    "start_time": "2024-06-27T20:00:57.893Z"
   },
   {
    "duration": 9,
    "start_time": "2024-06-27T20:01:18.161Z"
   },
   {
    "duration": 8,
    "start_time": "2024-06-27T20:01:24.104Z"
   },
   {
    "duration": 510,
    "start_time": "2024-06-27T20:03:53.246Z"
   },
   {
    "duration": 617,
    "start_time": "2024-06-27T20:05:31.149Z"
   },
   {
    "duration": 91,
    "start_time": "2024-06-27T20:05:40.871Z"
   },
   {
    "duration": 503,
    "start_time": "2024-06-27T20:05:43.096Z"
   },
   {
    "duration": 486,
    "start_time": "2024-06-27T20:07:15.964Z"
   },
   {
    "duration": 475,
    "start_time": "2024-06-27T20:07:21.051Z"
   },
   {
    "duration": 646,
    "start_time": "2024-06-27T20:07:42.985Z"
   },
   {
    "duration": 522,
    "start_time": "2024-06-27T20:07:51.342Z"
   },
   {
    "duration": 533,
    "start_time": "2024-06-27T20:08:10.591Z"
   },
   {
    "duration": 525,
    "start_time": "2024-06-27T20:08:58.867Z"
   },
   {
    "duration": 440,
    "start_time": "2024-06-27T20:13:57.825Z"
   },
   {
    "duration": 8,
    "start_time": "2024-06-27T20:14:18.649Z"
   },
   {
    "duration": 9,
    "start_time": "2024-06-27T20:14:23.816Z"
   },
   {
    "duration": 62,
    "start_time": "2024-06-28T22:19:04.316Z"
   },
   {
    "duration": 63,
    "start_time": "2024-06-28T22:19:13.408Z"
   },
   {
    "duration": 48,
    "start_time": "2024-06-28T22:19:18.897Z"
   },
   {
    "duration": 1349,
    "start_time": "2024-06-28T22:19:27.990Z"
   },
   {
    "duration": 346,
    "start_time": "2024-06-28T22:19:29.341Z"
   },
   {
    "duration": 29,
    "start_time": "2024-06-28T22:19:29.688Z"
   },
   {
    "duration": 18,
    "start_time": "2024-06-28T22:19:29.718Z"
   },
   {
    "duration": 15,
    "start_time": "2024-06-28T22:19:29.739Z"
   },
   {
    "duration": 28,
    "start_time": "2024-06-28T22:19:29.756Z"
   },
   {
    "duration": 7,
    "start_time": "2024-06-28T22:19:29.791Z"
   },
   {
    "duration": 9,
    "start_time": "2024-06-28T22:19:29.800Z"
   },
   {
    "duration": 6,
    "start_time": "2024-06-28T22:19:29.812Z"
   },
   {
    "duration": 9,
    "start_time": "2024-06-28T22:19:29.820Z"
   },
   {
    "duration": 7,
    "start_time": "2024-06-28T22:19:29.831Z"
   },
   {
    "duration": 62,
    "start_time": "2024-06-28T22:19:29.840Z"
   },
   {
    "duration": 8,
    "start_time": "2024-06-28T22:19:29.904Z"
   },
   {
    "duration": 248,
    "start_time": "2024-06-28T22:19:29.915Z"
   },
   {
    "duration": 167,
    "start_time": "2024-06-28T22:19:30.165Z"
   },
   {
    "duration": 226,
    "start_time": "2024-06-28T22:19:30.334Z"
   },
   {
    "duration": 362,
    "start_time": "2024-06-28T22:19:30.562Z"
   },
   {
    "duration": 246,
    "start_time": "2024-06-28T22:19:30.926Z"
   },
   {
    "duration": 31,
    "start_time": "2024-06-28T22:19:31.174Z"
   },
   {
    "duration": 236,
    "start_time": "2024-06-28T22:19:31.207Z"
   },
   {
    "duration": 43,
    "start_time": "2024-06-28T22:19:31.445Z"
   },
   {
    "duration": 24,
    "start_time": "2024-06-28T22:19:31.490Z"
   },
   {
    "duration": 114,
    "start_time": "2024-06-28T22:19:31.516Z"
   },
   {
    "duration": 31,
    "start_time": "2024-06-28T22:19:31.632Z"
   },
   {
    "duration": 36,
    "start_time": "2024-06-28T22:19:31.665Z"
   },
   {
    "duration": 624,
    "start_time": "2024-06-28T22:19:31.703Z"
   },
   {
    "duration": 9,
    "start_time": "2024-06-28T22:19:32.329Z"
   },
   {
    "duration": 11,
    "start_time": "2024-06-28T22:19:32.339Z"
   },
   {
    "duration": 303,
    "start_time": "2024-06-28T22:19:32.351Z"
   },
   {
    "duration": 27,
    "start_time": "2024-06-28T22:19:32.656Z"
   },
   {
    "duration": 14,
    "start_time": "2024-06-28T22:19:32.685Z"
   },
   {
    "duration": 6,
    "start_time": "2024-06-28T22:19:32.703Z"
   },
   {
    "duration": 19,
    "start_time": "2024-06-28T22:19:32.711Z"
   },
   {
    "duration": 9,
    "start_time": "2024-06-28T22:19:32.732Z"
   },
   {
    "duration": 9,
    "start_time": "2024-06-28T22:19:32.742Z"
   },
   {
    "duration": 13,
    "start_time": "2024-06-28T22:19:32.753Z"
   },
   {
    "duration": 25,
    "start_time": "2024-06-28T22:19:32.767Z"
   },
   {
    "duration": 261,
    "start_time": "2024-06-28T22:19:32.803Z"
   },
   {
    "duration": 173,
    "start_time": "2024-06-28T22:22:48.396Z"
   },
   {
    "duration": 199,
    "start_time": "2024-06-28T22:23:07.684Z"
   },
   {
    "duration": 168,
    "start_time": "2024-06-28T22:24:01.485Z"
   },
   {
    "duration": 153,
    "start_time": "2024-06-28T22:24:21.020Z"
   },
   {
    "duration": 244,
    "start_time": "2024-06-28T22:27:40.445Z"
   },
   {
    "duration": 165,
    "start_time": "2024-06-28T22:28:02.948Z"
   },
   {
    "duration": 161,
    "start_time": "2024-06-28T22:28:10.700Z"
   },
   {
    "duration": 206,
    "start_time": "2024-06-28T22:35:14.447Z"
   },
   {
    "duration": 87,
    "start_time": "2024-06-28T22:36:27.294Z"
   },
   {
    "duration": 176,
    "start_time": "2024-06-28T22:36:33.271Z"
   },
   {
    "duration": 178,
    "start_time": "2024-06-28T22:36:51.848Z"
   },
   {
    "duration": 70,
    "start_time": "2024-06-28T22:39:16.291Z"
   },
   {
    "duration": 61,
    "start_time": "2024-06-28T22:39:20.665Z"
   },
   {
    "duration": 267,
    "start_time": "2024-06-28T22:40:02.810Z"
   },
   {
    "duration": 174,
    "start_time": "2024-06-28T22:40:10.420Z"
   },
   {
    "duration": 182,
    "start_time": "2024-06-28T22:40:59.622Z"
   },
   {
    "duration": 66,
    "start_time": "2024-06-28T22:47:26.663Z"
   },
   {
    "duration": 9,
    "start_time": "2024-06-28T22:47:33.316Z"
   },
   {
    "duration": 9,
    "start_time": "2024-06-28T22:47:51.072Z"
   },
   {
    "duration": 169,
    "start_time": "2024-06-28T22:49:41.223Z"
   },
   {
    "duration": 155,
    "start_time": "2024-06-28T22:53:10.644Z"
   },
   {
    "duration": 124,
    "start_time": "2024-06-28T22:53:34.032Z"
   },
   {
    "duration": 154,
    "start_time": "2024-06-28T22:54:22.686Z"
   },
   {
    "duration": 94,
    "start_time": "2024-06-28T22:55:04.069Z"
   },
   {
    "duration": 173,
    "start_time": "2024-06-28T22:55:16.945Z"
   },
   {
    "duration": 127,
    "start_time": "2024-06-28T22:55:43.462Z"
   },
   {
    "duration": 147,
    "start_time": "2024-06-28T22:55:54.802Z"
   },
   {
    "duration": 225,
    "start_time": "2024-06-28T22:56:36.346Z"
   },
   {
    "duration": 173,
    "start_time": "2024-06-28T22:56:50.335Z"
   },
   {
    "duration": 171,
    "start_time": "2024-06-28T22:56:55.232Z"
   },
   {
    "duration": 190,
    "start_time": "2024-06-28T22:57:00.443Z"
   },
   {
    "duration": 174,
    "start_time": "2024-06-28T22:57:05.109Z"
   },
   {
    "duration": 175,
    "start_time": "2024-06-28T22:57:12.078Z"
   },
   {
    "duration": 183,
    "start_time": "2024-06-28T22:57:37.920Z"
   },
   {
    "duration": 183,
    "start_time": "2024-06-28T22:57:42.947Z"
   },
   {
    "duration": 92,
    "start_time": "2024-06-28T22:59:35.276Z"
   },
   {
    "duration": 173,
    "start_time": "2024-06-28T23:00:25.722Z"
   },
   {
    "duration": 175,
    "start_time": "2024-06-28T23:00:32.532Z"
   },
   {
    "duration": 177,
    "start_time": "2024-06-28T23:00:44.558Z"
   },
   {
    "duration": 191,
    "start_time": "2024-06-28T23:00:51.068Z"
   },
   {
    "duration": 199,
    "start_time": "2024-06-28T23:01:14.222Z"
   },
   {
    "duration": 208,
    "start_time": "2024-06-28T23:01:18.982Z"
   },
   {
    "duration": 176,
    "start_time": "2024-06-28T23:01:24.344Z"
   },
   {
    "duration": 278,
    "start_time": "2024-06-28T23:01:40.592Z"
   },
   {
    "duration": 206,
    "start_time": "2024-06-28T23:01:47.695Z"
   },
   {
    "duration": 186,
    "start_time": "2024-06-28T23:02:00.168Z"
   },
   {
    "duration": 217,
    "start_time": "2024-06-28T23:02:15.960Z"
   },
   {
    "duration": 1031,
    "start_time": "2024-06-28T23:02:52.042Z"
   },
   {
    "duration": 123,
    "start_time": "2024-06-28T23:02:53.075Z"
   },
   {
    "duration": 21,
    "start_time": "2024-06-28T23:02:53.200Z"
   },
   {
    "duration": 17,
    "start_time": "2024-06-28T23:02:53.223Z"
   },
   {
    "duration": 15,
    "start_time": "2024-06-28T23:02:53.242Z"
   },
   {
    "duration": 8,
    "start_time": "2024-06-28T23:02:53.259Z"
   },
   {
    "duration": 5,
    "start_time": "2024-06-28T23:02:53.292Z"
   },
   {
    "duration": 17,
    "start_time": "2024-06-28T23:02:53.299Z"
   },
   {
    "duration": 5,
    "start_time": "2024-06-28T23:02:53.317Z"
   },
   {
    "duration": 10,
    "start_time": "2024-06-28T23:02:53.325Z"
   },
   {
    "duration": 9,
    "start_time": "2024-06-28T23:02:53.336Z"
   },
   {
    "duration": 18,
    "start_time": "2024-06-28T23:02:53.346Z"
   },
   {
    "duration": 25,
    "start_time": "2024-06-28T23:02:53.366Z"
   },
   {
    "duration": 196,
    "start_time": "2024-06-28T23:02:53.393Z"
   },
   {
    "duration": 173,
    "start_time": "2024-06-28T23:02:53.591Z"
   },
   {
    "duration": 218,
    "start_time": "2024-06-28T23:02:53.766Z"
   },
   {
    "duration": 350,
    "start_time": "2024-06-28T23:02:53.986Z"
   },
   {
    "duration": 227,
    "start_time": "2024-06-28T23:02:54.338Z"
   },
   {
    "duration": 10,
    "start_time": "2024-06-28T23:02:54.567Z"
   },
   {
    "duration": 15,
    "start_time": "2024-06-28T23:02:54.578Z"
   },
   {
    "duration": 29,
    "start_time": "2024-06-28T23:02:54.595Z"
   },
   {
    "duration": 10,
    "start_time": "2024-06-28T23:02:54.625Z"
   },
   {
    "duration": 11,
    "start_time": "2024-06-28T23:02:54.636Z"
   },
   {
    "duration": 18,
    "start_time": "2024-06-28T23:02:54.648Z"
   },
   {
    "duration": 29,
    "start_time": "2024-06-28T23:02:54.668Z"
   },
   {
    "duration": 510,
    "start_time": "2024-06-28T23:02:54.698Z"
   },
   {
    "duration": 8,
    "start_time": "2024-06-28T23:02:55.210Z"
   },
   {
    "duration": 9,
    "start_time": "2024-06-28T23:02:55.221Z"
   },
   {
    "duration": 305,
    "start_time": "2024-06-28T23:02:55.231Z"
   },
   {
    "duration": 26,
    "start_time": "2024-06-28T23:02:55.538Z"
   },
   {
    "duration": 5,
    "start_time": "2024-06-28T23:02:55.566Z"
   },
   {
    "duration": 21,
    "start_time": "2024-06-28T23:02:55.573Z"
   },
   {
    "duration": 21,
    "start_time": "2024-06-28T23:02:55.595Z"
   },
   {
    "duration": 10,
    "start_time": "2024-06-28T23:02:55.618Z"
   },
   {
    "duration": 7,
    "start_time": "2024-06-28T23:02:55.629Z"
   },
   {
    "duration": 13,
    "start_time": "2024-06-28T23:02:55.637Z"
   },
   {
    "duration": 9,
    "start_time": "2024-06-28T23:02:55.652Z"
   },
   {
    "duration": 278,
    "start_time": "2024-06-28T23:02:55.663Z"
   },
   {
    "duration": 191,
    "start_time": "2024-06-28T23:05:59.526Z"
   },
   {
    "duration": 179,
    "start_time": "2024-06-28T23:06:33.288Z"
   },
   {
    "duration": 251,
    "start_time": "2024-06-28T23:26:11.121Z"
   },
   {
    "duration": 223,
    "start_time": "2024-06-28T23:26:26.312Z"
   },
   {
    "duration": 232,
    "start_time": "2024-06-28T23:27:11.357Z"
   },
   {
    "duration": 215,
    "start_time": "2024-06-28T23:27:14.458Z"
   },
   {
    "duration": 1087,
    "start_time": "2024-06-28T23:33:15.289Z"
   },
   {
    "duration": 122,
    "start_time": "2024-06-28T23:33:16.378Z"
   },
   {
    "duration": 20,
    "start_time": "2024-06-28T23:33:16.502Z"
   },
   {
    "duration": 17,
    "start_time": "2024-06-28T23:33:16.524Z"
   },
   {
    "duration": 14,
    "start_time": "2024-06-28T23:33:16.543Z"
   },
   {
    "duration": 14,
    "start_time": "2024-06-28T23:33:16.559Z"
   },
   {
    "duration": 18,
    "start_time": "2024-06-28T23:33:16.575Z"
   },
   {
    "duration": 6,
    "start_time": "2024-06-28T23:33:16.595Z"
   },
   {
    "duration": 13,
    "start_time": "2024-06-28T23:33:16.602Z"
   },
   {
    "duration": 15,
    "start_time": "2024-06-28T23:33:16.618Z"
   },
   {
    "duration": 11,
    "start_time": "2024-06-28T23:33:16.634Z"
   },
   {
    "duration": 35,
    "start_time": "2024-06-28T23:33:16.647Z"
   },
   {
    "duration": 9,
    "start_time": "2024-06-28T23:33:16.683Z"
   },
   {
    "duration": 194,
    "start_time": "2024-06-28T23:33:16.694Z"
   },
   {
    "duration": 157,
    "start_time": "2024-06-28T23:33:16.892Z"
   },
   {
    "duration": 199,
    "start_time": "2024-06-28T23:33:17.051Z"
   },
   {
    "duration": 365,
    "start_time": "2024-06-28T23:33:17.252Z"
   },
   {
    "duration": 235,
    "start_time": "2024-06-28T23:33:17.618Z"
   },
   {
    "duration": 10,
    "start_time": "2024-06-28T23:33:17.855Z"
   },
   {
    "duration": 274,
    "start_time": "2024-06-28T23:33:17.867Z"
   },
   {
    "duration": 28,
    "start_time": "2024-06-28T23:33:18.143Z"
   },
   {
    "duration": 34,
    "start_time": "2024-06-28T23:33:18.173Z"
   },
   {
    "duration": 39,
    "start_time": "2024-06-28T23:33:18.209Z"
   },
   {
    "duration": 8,
    "start_time": "2024-06-28T23:33:18.250Z"
   },
   {
    "duration": 8,
    "start_time": "2024-06-28T23:33:18.259Z"
   },
   {
    "duration": 542,
    "start_time": "2024-06-28T23:33:18.269Z"
   },
   {
    "duration": 8,
    "start_time": "2024-06-28T23:33:18.813Z"
   },
   {
    "duration": 8,
    "start_time": "2024-06-28T23:33:18.825Z"
   },
   {
    "duration": 390,
    "start_time": "2024-06-28T23:33:18.834Z"
   },
   {
    "duration": 26,
    "start_time": "2024-06-28T23:33:19.225Z"
   },
   {
    "duration": 38,
    "start_time": "2024-06-28T23:33:19.253Z"
   },
   {
    "duration": 15,
    "start_time": "2024-06-28T23:33:19.293Z"
   },
   {
    "duration": 29,
    "start_time": "2024-06-28T23:33:19.310Z"
   },
   {
    "duration": 34,
    "start_time": "2024-06-28T23:33:19.341Z"
   },
   {
    "duration": 28,
    "start_time": "2024-06-28T23:33:19.377Z"
   },
   {
    "duration": 19,
    "start_time": "2024-06-28T23:33:19.406Z"
   },
   {
    "duration": 9,
    "start_time": "2024-06-28T23:33:19.427Z"
   },
   {
    "duration": 175,
    "start_time": "2024-06-28T23:33:19.438Z"
   },
   {
    "duration": 1266,
    "start_time": "2024-06-29T10:02:45.009Z"
   },
   {
    "duration": 268,
    "start_time": "2024-06-29T10:02:46.277Z"
   },
   {
    "duration": 22,
    "start_time": "2024-06-29T10:02:46.547Z"
   },
   {
    "duration": 17,
    "start_time": "2024-06-29T10:02:46.571Z"
   },
   {
    "duration": 15,
    "start_time": "2024-06-29T10:02:46.589Z"
   },
   {
    "duration": 10,
    "start_time": "2024-06-29T10:02:46.605Z"
   },
   {
    "duration": 9,
    "start_time": "2024-06-29T10:02:46.617Z"
   },
   {
    "duration": 6,
    "start_time": "2024-06-29T10:02:46.627Z"
   },
   {
    "duration": 10,
    "start_time": "2024-06-29T10:02:46.635Z"
   },
   {
    "duration": 9,
    "start_time": "2024-06-29T10:02:46.648Z"
   },
   {
    "duration": 4,
    "start_time": "2024-06-29T10:02:46.658Z"
   },
   {
    "duration": 19,
    "start_time": "2024-06-29T10:02:46.683Z"
   },
   {
    "duration": 5,
    "start_time": "2024-06-29T10:02:46.704Z"
   },
   {
    "duration": 230,
    "start_time": "2024-06-29T10:02:46.710Z"
   },
   {
    "duration": 170,
    "start_time": "2024-06-29T10:02:46.942Z"
   },
   {
    "duration": 204,
    "start_time": "2024-06-29T10:02:47.115Z"
   },
   {
    "duration": 357,
    "start_time": "2024-06-29T10:02:47.321Z"
   },
   {
    "duration": 259,
    "start_time": "2024-06-29T10:02:47.680Z"
   },
   {
    "duration": 15,
    "start_time": "2024-06-29T10:02:47.941Z"
   },
   {
    "duration": 270,
    "start_time": "2024-06-29T10:02:47.958Z"
   },
   {
    "duration": 27,
    "start_time": "2024-06-29T10:02:48.230Z"
   },
   {
    "duration": 25,
    "start_time": "2024-06-29T10:02:48.259Z"
   },
   {
    "duration": 11,
    "start_time": "2024-06-29T10:02:48.285Z"
   },
   {
    "duration": 26,
    "start_time": "2024-06-29T10:02:48.297Z"
   },
   {
    "duration": 47,
    "start_time": "2024-06-29T10:02:48.325Z"
   },
   {
    "duration": 535,
    "start_time": "2024-06-29T10:02:48.373Z"
   },
   {
    "duration": 8,
    "start_time": "2024-06-29T10:02:48.910Z"
   },
   {
    "duration": 8,
    "start_time": "2024-06-29T10:02:48.922Z"
   },
   {
    "duration": 380,
    "start_time": "2024-06-29T10:02:48.931Z"
   },
   {
    "duration": 27,
    "start_time": "2024-06-29T10:02:49.313Z"
   },
   {
    "duration": 18,
    "start_time": "2024-06-29T10:02:49.342Z"
   }
  ],
  "kernelspec": {
   "display_name": "Python 3 (ipykernel)",
   "language": "python",
   "name": "python3"
  },
  "language_info": {
   "codemirror_mode": {
    "name": "ipython",
    "version": 3
   },
   "file_extension": ".py",
   "mimetype": "text/x-python",
   "name": "python",
   "nbconvert_exporter": "python",
   "pygments_lexer": "ipython3",
   "version": "3.9.5"
  },
  "toc": {
   "base_numbering": 1,
   "nav_menu": {},
   "number_sections": true,
   "sideBar": true,
   "skip_h1_title": true,
   "title_cell": "Table of Contents",
   "title_sidebar": "Contents",
   "toc_cell": false,
   "toc_position": {
    "height": "calc(100% - 180px)",
    "left": "10px",
    "top": "150px",
    "width": "307.2px"
   },
   "toc_section_display": true,
   "toc_window_display": true
  }
 },
 "nbformat": 4,
 "nbformat_minor": 5
}
